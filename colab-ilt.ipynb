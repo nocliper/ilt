{
  "cells": [
    {
      "cell_type": "markdown",
      "metadata": {
        "id": "1y33F4g6VY_8"
      },
      "source": [
        "# Clone GitHub repository first:"
      ]
    },
    {
      "cell_type": "code",
      "execution_count": 1,
      "metadata": {
        "id": "9r8n0FxUVZAB",
        "outputId": "c6300cf0-18e5-4829-fdb2-3ea7714247df",
        "colab": {
          "base_uri": "https://localhost:8080/"
        }
      },
      "outputs": [
        {
          "output_type": "stream",
          "name": "stdout",
          "text": [
            "Cloning into 'ilt'...\n",
            "remote: Enumerating objects: 1620, done.\u001b[K\n",
            "remote: Counting objects: 100% (288/288), done.\u001b[K\n",
            "remote: Compressing objects: 100% (137/137), done.\u001b[K\n",
            "remote: Total 1620 (delta 149), reused 288 (delta 149), pack-reused 1332\u001b[K\n",
            "Receiving objects: 100% (1620/1620), 37.53 MiB | 21.41 MiB/s, done.\n",
            "Resolving deltas: 100% (856/856), done.\n",
            "/content/ilt\n"
          ]
        }
      ],
      "source": [
        "!git clone https://github.com/nocliper/ilt\n",
        "%cd ilt"
      ]
    },
    {
      "cell_type": "code",
      "execution_count": 2,
      "metadata": {
        "id": "k_tj3y9uYZTm"
      },
      "outputs": [],
      "source": [
        "import matplotlib.pyplot as plt\n",
        "from IPython.display import set_matplotlib_formats\n",
        "import numpy as np\n",
        "\n",
        "import sys\n",
        "sys.path.append('functions/')\n",
        "\n",
        "set_matplotlib_formats('svg')\n",
        "plt.rcParams[\"font.family\"] = \"serif\"\n",
        "plt.rcParams[\"mathtext.fontset\"] = \"dejavuserif\""
      ]
    },
    {
      "cell_type": "markdown",
      "metadata": {
        "id": "qfnUv90FVZAD"
      },
      "source": [
        "# Run file browser and pick data file:"
      ]
    },
    {
      "cell_type": "code",
      "execution_count": 3,
      "metadata": {
        "id": "OgPVh4oLVZAD",
        "outputId": "7a0008c0-4f05-466f-cf67-fa0cb859784c",
        "colab": {
          "base_uri": "https://localhost:8080/",
          "height": 69,
          "referenced_widgets": [
            "8aece3a412804693a1407cb4c1e18cde",
            "1486fa7277b449fcb7a696aac5a28390",
            "8b6e7886e68a47a297f350002a640037",
            "7d958269a1104ff283787e8784a0ec99",
            "cb10c17901764424aeedcecf27096d98",
            "677dbb6d3a3c4a23827c16660a838d87",
            "ec505df08f6642b1b68fb01894fd053d",
            "8505cad9027b4275bc85c99735d9cb82",
            "510741482345461b992ee81cc8b897bc",
            "79d0afcd71f94de4a0b8c93c20a88dc8",
            "c1f5550d9322468bac0a51b0a6ed8aa5",
            "f19095eb1679426f9315826d93b9631e",
            "5b25b1d772b34e33a2f7dfe54cbf20ec",
            "448097af71d64f45a10240d0ae6aab16",
            "1c6a6e5a349d423e998f4978be679127",
            "32407fb486c34624ae70f56f372b0e86",
            "78e7487072cf4f6d8644e261e689f1df",
            "f18319e3355d4a89b4459e1bf7edca1b",
            "0c02756ab66841708319367bc59a266f",
            "23bc7350633c4ddd92d39a1503e573f2",
            "a8a12548ce224a0981c0abac048fa42e",
            "6fc131d04d0f482082b44295bc86b696",
            "d4d1cb888adc4e54a2e52235c5b15afe",
            "b9cb16b12ca94315be87f966d24be4e7",
            "e16b5f9dec504c0aa5bb2b65cdf07f4f",
            "86b2e3e20ebd449bbac21dc79bd50f98",
            "96d93814a9dc49f3b8c5a4745cfb06d4",
            "5b43b8e5a04f4fe590d4ecde021ad1a4",
            "6834aefae306480aac77f51a5a408f15",
            "4ad7fd7411fa4b708801dc3dfcd146ef",
            "9da296c970de4010991249554bb5d7de",
            "72caf0abbd9b4386be970d2593999a10",
            "d1d87d855ff94977be1049c1f874d0e5",
            "86e4602149be498888f616decb2e26ff",
            "62cea92064ec438d83b8be1a74b5b951",
            "1b021e87687646a98bb139ff65a5e2f6",
            "e9cb2c66aa184c568ff116b327bce62d",
            "177a20556d574f3f8550cb53ca411e68",
            "729687d25e474933a505b994b66745c3",
            "beb12c5e24cc47d38ec5935475bf4f0a",
            "3ae5ecfd81ca4af3baaa53e7f8867f96",
            "8666cd945e5f4322a29537b58c7736a7",
            "ab11a66c4cec47d38c041c4fd7cb1534",
            "98681fa9a87f48e8a95f93062bd137dd",
            "bea72f72f70249d9bacfff65c0970a52",
            "10cc14d45f06463589fa0b9274500d16",
            "1248bd620f974f4d938eb1d31d27fb1e",
            "68d43c4e948f44858e66d9d4ff16aea6",
            "b4ce5284b19348d78f1ebccd9731356d",
            "d2774a05b3fa42eeba1a89c48e49434c",
            "002b0bf1963c4a4bb44d02a22b760163",
            "a8ae24f9081a403c91eb1545397614fb",
            "2e006584c1484d31ac5d453a019c420b",
            "5169e55a65dc41068de6e47512d50f7e",
            "bb89d387da8647bca57b56f744226db0",
            "fdebe79fa4e249b799c362c6d0904fab",
            "77bf0b919184486798042c9ef5f16c5a",
            "314d20d8dcee4c2b9da7dd97ac4d743a",
            "208fd5e9889048908738ba5cbfcdf723",
            "56ed69de53a24d3ebe06a33ddf10700d",
            "07d98f9136ad49e0866d1e227928c415",
            "29505830e79e45d7a0efc83303f666ae",
            "af20a49de6dc491cb6a7a5e96488e3e0",
            "05f652b605734dfbbb505fdf7835a589",
            "d1bdaeb2ab714711aecea3a58bba3595",
            "eb238544407440c7b028c52213341b55",
            "0ad7b8f747e641f781283a83851af62d",
            "3cb798664fd44e5e8adc27a24c8eb371",
            "ddc5c4d0d22b454d88f14bac6d9a9dc6",
            "3c4ab9de049c41e8a37fb144daaa333c",
            "3ed94b341f3d4229a4e2836c01663eb6",
            "80433a6674804348b060321c5894937d",
            "88250e60742a432eb2e45970470c7f0a",
            "bcf703d629d540f9afb90c657c2bc9c8",
            "ba96bf01f26a45469373634a15b2f122",
            "9e46b5bfa732462d9ddf2136f0680cce",
            "4afedce7f7704531a80f9532f392d8b0",
            "ffdb9bbc914a467b9f6229c2415f6cde",
            "0dbe047c0f70471bbc3d32929f25f176",
            "c8245bae3bcc4821947dfb317d6d5fe4",
            "2e9ae6906a9f42d1866fafcc009d65c7",
            "ecfc481171fd492f9b0aaf1e746790ff",
            "aa4015e9ff284717954553e9e2755730",
            "2037519d8de74e1d99ba912e6b8bfa67",
            "981a1d94884e43acb28269daa2c1082f",
            "c4e74d606c3f416b893b47455562bab4",
            "6235975580f74b1fb1bd7e3af6eadc78",
            "f4fe19445a344e13813efb12dae41b4e",
            "57868125f44d43b9b3084460583c7312",
            "4b35e03d6d434f0fb4c777737be2585d",
            "1c0a2c6cd20e44b8aebf659f0d4e57e7",
            "f550f723b04d4372931a828418a49d39",
            "10df5c87c04d41a4ac5f1c8fc8957810",
            "628df255f4ad45e4a941234232ae23ea",
            "1e27502c20454672a56bc70cb031cb4d",
            "0b43f5ad8ba14ec088c3c5e8a5ef53f5",
            "4e430f1b3387466786e3f436ee9765e7",
            "bc2dbec4d43f46cb89e0e5772d4e6c46",
            "0663a28d97e84d6c8e77a8f405737d08",
            "de16c1a9093543b7ae69593c0fb55f17",
            "25ae325324c54186ac9b4b99e2a7afc9",
            "a603399380a8456697f58b0fbb736ed9",
            "8e1be7c436e944d6895d75d21e802bf5",
            "5fc5a4489f71431e8c63103ace71238f",
            "162c588886fa48aba7887ff79f7330a1",
            "914c15214a404a5e90ebcfdda38a8509"
          ]
        }
      },
      "outputs": [
        {
          "output_type": "display_data",
          "data": {
            "text/plain": [
              "VBox(children=(HTML(value='<h2>/content/ilt</h2>'), Button(button_style='primary', description='..', layout=La…"
            ],
            "application/vnd.jupyter.widget-view+json": {
              "version_major": 2,
              "version_minor": 0,
              "model_id": "8aece3a412804693a1407cb4c1e18cde"
            }
          },
          "metadata": {}
        }
      ],
      "source": [
        "from filebrowser import FileBrowser\n",
        "File = FileBrowser()\n",
        "display(File.widget())"
      ]
    },
    {
      "cell_type": "markdown",
      "metadata": {
        "id": "9V0bYuxbVZAE"
      },
      "source": [
        "# Run interface:"
      ]
    },
    {
      "cell_type": "code",
      "execution_count": 4,
      "metadata": {
        "id": "2kG4vZodVZAE",
        "outputId": "7a6df831-313e-4a58-b8c7-5ad31543585c",
        "colab": {
          "base_uri": "https://localhost:8080/",
          "height": 1000,
          "referenced_widgets": [
            "88f2a76f424d4f85a7102d7ad8c7964c",
            "063f72cfb78b4afaa4fa53c266d0a5e1",
            "a3ccb89d55414a3fb3c66d88ca1f6618",
            "c216ff8f244c459a9aa90593f644bc43",
            "6268fb2d08e048e0883b115e53377c4e",
            "3d82a918380546ae98929f1bda4680c8",
            "c9ae7598bd2745a488f08ea102aa9d4c",
            "24e897ae585f4c9fb73982e0551027e9",
            "b1190d091d7d4f98b1205a2e66186ef7",
            "78199f8096744c38838e022384cffa80",
            "61dae7c2f3464a478b401bdfe9237863",
            "2860e1db3d8041a385dee9830218962a",
            "aade8dd93fa34330beff79a99d212bd1",
            "25e79820e9884ea6ab451bbbf9726358",
            "85cc28b900a942bd9ffe6267766a93d3",
            "2f7a7fe3f2374d24bb557a79a8e4e938",
            "f5651f5fdecf4ee9a22747e1a13fe47f",
            "59181cdb41b841b2bf351b44e369b2e9",
            "04ff1343a8084c779c546f597a72f35d",
            "dc6dd29f15eb49b2b877ecd2ba49bf41",
            "cde01d72894649829bc5dabf4b9680db",
            "10420ecc54ed40a9b7a6f17029e83320",
            "1b3edd1560da429a87cc3b9536990422",
            "8b9f9d8beda14eb992fec7e29f5c1e12",
            "76579f76f4b84cc99b8012072151a0b3",
            "7e30bc2f66de45d1a42b61335cc23326",
            "3baa73a642624c85ac313be987614461",
            "256df129a4b647ea8df6999b4ee4b09a",
            "8ee76869497f4f7a91541a7942929a18",
            "719fb31c8bb04bfca8c4e353de14a43a",
            "b648cf3b8f10400089fba56de54ac0d1",
            "428b4653d54f46d9827407f24077a1dd",
            "c39c4943ed4346a4af503264ecbf6a21",
            "869957b2c7d248cca547c1b899f96e12",
            "6b043677298d4071ac541169d9a853d2",
            "d375aa3d74404985a3f122e3c7fceb76",
            "1dd5de9101e140698966028d2282d1a9",
            "5271885c12294b93bb6aa31541080f96",
            "3189b5fedfbb44a48f260fe11ad352cf",
            "812b654728bc42a597c6a14d27ed8e00",
            "9045ffdfb0884da2986b3e7144324a35",
            "b698bf22ebc844bdbaa5b3d328963c0b",
            "1341c8f4096d40f89711acba5d1b5319",
            "86cd30053e8649c6869d25c8c9df00e4",
            "51acd2773fe14d9fbd428e5e82bf38ce",
            "1a9d6dbc31284548a33b7415310a7449",
            "b1816315584f484aa2ab999661e80089",
            "9a408ad5af9d4d74b07766b17c930413",
            "23799bcea8e3422aab9618a078d967c9",
            "34333dfd0c574a36b6753c8e2d3e4c35",
            "6f796371227e46529bbda758401e3bd4",
            "9fe19136b50d47cea27b96d490a14324",
            "499d6834d6e54a24919b7915520f1975",
            "684ccec865fb4a1690207dc720959d61",
            "2f49c474c99f4ecb94b39e4cf9c6ef75",
            "a0b3cba9b18b416ea35bbf7c23eaef9c",
            "a7cd067f8d7c4136977ec1ecaefa099b"
          ]
        }
      },
      "outputs": [
        {
          "output_type": "display_data",
          "data": {
            "text/plain": [
              "HBox(children=(VBox(children=(SelectMultiple(description='Methods:', index=(3,), options=('FISTA', 'L2', 'L1+L…"
            ],
            "application/vnd.jupyter.widget-view+json": {
              "version_major": 2,
              "version_minor": 0,
              "model_id": "88f2a76f424d4f85a7102d7ad8c7964c"
            }
          },
          "metadata": {}
        },
        {
          "output_type": "display_data",
          "data": {
            "text/plain": [
              "HBox(children=(Label(value='Transient №'), IntSlider(value=0, max=206)))"
            ],
            "application/vnd.jupyter.widget-view+json": {
              "version_major": 2,
              "version_minor": 0,
              "model_id": "9a408ad5af9d4d74b07766b17c930413"
            }
          },
          "metadata": {}
        },
        {
          "output_type": "display_data",
          "data": {
            "text/plain": [
              "Output()"
            ],
            "application/vnd.jupyter.widget-view+json": {
              "version_major": 2,
              "version_minor": 0,
              "model_id": "a0b3cba9b18b416ea35bbf7c23eaef9c"
            }
          },
          "metadata": {}
        }
      ],
      "source": [
        "from demo import demo\n",
        "from interface import interface\n",
        "\n",
        "interface(File.path)"
      ]
    },
    {
      "cell_type": "code",
      "execution_count": null,
      "metadata": {
        "id": "2b85bj7FVZAF"
      },
      "outputs": [],
      "source": []
    },
    {
      "cell_type": "code",
      "execution_count": null,
      "metadata": {
        "id": "UNoBu43eVZAF"
      },
      "outputs": [],
      "source": []
    }
  ],
  "metadata": {
    "colab": {
      "name": "main.ipynb",
      "provenance": []
    },
    "kernelspec": {
      "display_name": "Python 3 (ipykernel)",
      "language": "python",
      "name": "python3"
    },
    "language_info": {
      "codemirror_mode": {
        "name": "ipython",
        "version": 3
      },
      "file_extension": ".py",
      "mimetype": "text/x-python",
      "name": "python",
      "nbconvert_exporter": "python",
      "pygments_lexer": "ipython3",
      "version": "3.9.12"
    },
    "widgets": {
      "application/vnd.jupyter.widget-state+json": {
        "8aece3a412804693a1407cb4c1e18cde": {
          "model_module": "@jupyter-widgets/controls",
          "model_name": "VBoxModel",
          "model_module_version": "1.5.0",
          "state": {
            "_dom_classes": [],
            "_model_module": "@jupyter-widgets/controls",
            "_model_module_version": "1.5.0",
            "_model_name": "VBoxModel",
            "_view_count": null,
            "_view_module": "@jupyter-widgets/controls",
            "_view_module_version": "1.5.0",
            "_view_name": "VBoxView",
            "box_style": "",
            "children": [
              "IPY_MODEL_5fc5a4489f71431e8c63103ace71238f"
            ],
            "layout": "IPY_MODEL_cb10c17901764424aeedcecf27096d98"
          }
        },
        "1486fa7277b449fcb7a696aac5a28390": {
          "model_module": "@jupyter-widgets/controls",
          "model_name": "HTMLModel",
          "model_module_version": "1.5.0",
          "state": {
            "_dom_classes": [],
            "_model_module": "@jupyter-widgets/controls",
            "_model_module_version": "1.5.0",
            "_model_name": "HTMLModel",
            "_view_count": null,
            "_view_module": "@jupyter-widgets/controls",
            "_view_module_version": "1.5.0",
            "_view_name": "HTMLView",
            "description": "",
            "description_tooltip": null,
            "layout": "IPY_MODEL_677dbb6d3a3c4a23827c16660a838d87",
            "placeholder": "​",
            "style": "IPY_MODEL_ec505df08f6642b1b68fb01894fd053d",
            "value": "<h2>/content/ilt</h2>"
          }
        },
        "8b6e7886e68a47a297f350002a640037": {
          "model_module": "@jupyter-widgets/controls",
          "model_name": "ButtonModel",
          "model_module_version": "1.5.0",
          "state": {
            "_dom_classes": [],
            "_model_module": "@jupyter-widgets/controls",
            "_model_module_version": "1.5.0",
            "_model_name": "ButtonModel",
            "_view_count": null,
            "_view_module": "@jupyter-widgets/controls",
            "_view_module_version": "1.5.0",
            "_view_name": "ButtonView",
            "button_style": "primary",
            "description": "..",
            "disabled": false,
            "icon": "",
            "layout": "IPY_MODEL_8505cad9027b4275bc85c99735d9cb82",
            "style": "IPY_MODEL_510741482345461b992ee81cc8b897bc",
            "tooltip": ""
          }
        },
        "7d958269a1104ff283787e8784a0ec99": {
          "model_module": "@jupyter-widgets/controls",
          "model_name": "ButtonModel",
          "model_module_version": "1.5.0",
          "state": {
            "_dom_classes": [],
            "_model_module": "@jupyter-widgets/controls",
            "_model_module_version": "1.5.0",
            "_model_name": "ButtonModel",
            "_view_count": null,
            "_view_module": "@jupyter-widgets/controls",
            "_view_module_version": "1.5.0",
            "_view_name": "ButtonView",
            "button_style": "info",
            "description": "data",
            "disabled": false,
            "icon": "",
            "layout": "IPY_MODEL_8505cad9027b4275bc85c99735d9cb82",
            "style": "IPY_MODEL_79d0afcd71f94de4a0b8c93c20a88dc8",
            "tooltip": ""
          }
        },
        "cb10c17901764424aeedcecf27096d98": {
          "model_module": "@jupyter-widgets/base",
          "model_name": "LayoutModel",
          "model_module_version": "1.2.0",
          "state": {
            "_model_module": "@jupyter-widgets/base",
            "_model_module_version": "1.2.0",
            "_model_name": "LayoutModel",
            "_view_count": null,
            "_view_module": "@jupyter-widgets/base",
            "_view_module_version": "1.2.0",
            "_view_name": "LayoutView",
            "align_content": null,
            "align_items": null,
            "align_self": null,
            "border": null,
            "bottom": null,
            "display": null,
            "flex": null,
            "flex_flow": null,
            "grid_area": null,
            "grid_auto_columns": null,
            "grid_auto_flow": null,
            "grid_auto_rows": null,
            "grid_column": null,
            "grid_gap": null,
            "grid_row": null,
            "grid_template_areas": null,
            "grid_template_columns": null,
            "grid_template_rows": null,
            "height": null,
            "justify_content": null,
            "justify_items": null,
            "left": null,
            "margin": null,
            "max_height": null,
            "max_width": null,
            "min_height": null,
            "min_width": null,
            "object_fit": null,
            "object_position": null,
            "order": null,
            "overflow": null,
            "overflow_x": null,
            "overflow_y": null,
            "padding": null,
            "right": null,
            "top": null,
            "visibility": null,
            "width": null
          }
        },
        "677dbb6d3a3c4a23827c16660a838d87": {
          "model_module": "@jupyter-widgets/base",
          "model_name": "LayoutModel",
          "model_module_version": "1.2.0",
          "state": {
            "_model_module": "@jupyter-widgets/base",
            "_model_module_version": "1.2.0",
            "_model_name": "LayoutModel",
            "_view_count": null,
            "_view_module": "@jupyter-widgets/base",
            "_view_module_version": "1.2.0",
            "_view_name": "LayoutView",
            "align_content": null,
            "align_items": null,
            "align_self": null,
            "border": null,
            "bottom": null,
            "display": null,
            "flex": null,
            "flex_flow": null,
            "grid_area": null,
            "grid_auto_columns": null,
            "grid_auto_flow": null,
            "grid_auto_rows": null,
            "grid_column": null,
            "grid_gap": null,
            "grid_row": null,
            "grid_template_areas": null,
            "grid_template_columns": null,
            "grid_template_rows": null,
            "height": null,
            "justify_content": null,
            "justify_items": null,
            "left": null,
            "margin": null,
            "max_height": null,
            "max_width": null,
            "min_height": null,
            "min_width": null,
            "object_fit": null,
            "object_position": null,
            "order": null,
            "overflow": null,
            "overflow_x": null,
            "overflow_y": null,
            "padding": null,
            "right": null,
            "top": null,
            "visibility": null,
            "width": null
          }
        },
        "ec505df08f6642b1b68fb01894fd053d": {
          "model_module": "@jupyter-widgets/controls",
          "model_name": "DescriptionStyleModel",
          "model_module_version": "1.5.0",
          "state": {
            "_model_module": "@jupyter-widgets/controls",
            "_model_module_version": "1.5.0",
            "_model_name": "DescriptionStyleModel",
            "_view_count": null,
            "_view_module": "@jupyter-widgets/base",
            "_view_module_version": "1.2.0",
            "_view_name": "StyleView",
            "description_width": ""
          }
        },
        "8505cad9027b4275bc85c99735d9cb82": {
          "model_module": "@jupyter-widgets/base",
          "model_name": "LayoutModel",
          "model_module_version": "1.2.0",
          "state": {
            "_model_module": "@jupyter-widgets/base",
            "_model_module_version": "1.2.0",
            "_model_name": "LayoutModel",
            "_view_count": null,
            "_view_module": "@jupyter-widgets/base",
            "_view_module_version": "1.2.0",
            "_view_name": "LayoutView",
            "align_content": null,
            "align_items": null,
            "align_self": null,
            "border": null,
            "bottom": null,
            "display": null,
            "flex": null,
            "flex_flow": null,
            "grid_area": null,
            "grid_auto_columns": null,
            "grid_auto_flow": null,
            "grid_auto_rows": null,
            "grid_column": null,
            "grid_gap": null,
            "grid_row": null,
            "grid_template_areas": null,
            "grid_template_columns": null,
            "grid_template_rows": null,
            "height": null,
            "justify_content": null,
            "justify_items": null,
            "left": null,
            "margin": null,
            "max_height": null,
            "max_width": null,
            "min_height": null,
            "min_width": null,
            "object_fit": null,
            "object_position": null,
            "order": null,
            "overflow": null,
            "overflow_x": null,
            "overflow_y": null,
            "padding": null,
            "right": null,
            "top": null,
            "visibility": null,
            "width": "50%"
          }
        },
        "510741482345461b992ee81cc8b897bc": {
          "model_module": "@jupyter-widgets/controls",
          "model_name": "ButtonStyleModel",
          "model_module_version": "1.5.0",
          "state": {
            "_model_module": "@jupyter-widgets/controls",
            "_model_module_version": "1.5.0",
            "_model_name": "ButtonStyleModel",
            "_view_count": null,
            "_view_module": "@jupyter-widgets/base",
            "_view_module_version": "1.2.0",
            "_view_name": "StyleView",
            "button_color": null,
            "font_weight": ""
          }
        },
        "79d0afcd71f94de4a0b8c93c20a88dc8": {
          "model_module": "@jupyter-widgets/controls",
          "model_name": "ButtonStyleModel",
          "model_module_version": "1.5.0",
          "state": {
            "_model_module": "@jupyter-widgets/controls",
            "_model_module_version": "1.5.0",
            "_model_name": "ButtonStyleModel",
            "_view_count": null,
            "_view_module": "@jupyter-widgets/base",
            "_view_module_version": "1.2.0",
            "_view_name": "StyleView",
            "button_color": null,
            "font_weight": ""
          }
        },
        "c1f5550d9322468bac0a51b0a6ed8aa5": {
          "model_module": "@jupyter-widgets/controls",
          "model_name": "HTMLModel",
          "model_module_version": "1.5.0",
          "state": {
            "_dom_classes": [],
            "_model_module": "@jupyter-widgets/controls",
            "_model_module_version": "1.5.0",
            "_model_name": "HTMLModel",
            "_view_count": null,
            "_view_module": "@jupyter-widgets/controls",
            "_view_module_version": "1.5.0",
            "_view_name": "HTMLView",
            "description": "",
            "description_tooltip": null,
            "layout": "IPY_MODEL_beb12c5e24cc47d38ec5935475bf4f0a",
            "placeholder": "​",
            "style": "IPY_MODEL_3ae5ecfd81ca4af3baaa53e7f8867f96",
            "value": "<h2>/content/ilt/data</h2>"
          }
        },
        "f19095eb1679426f9315826d93b9631e": {
          "model_module": "@jupyter-widgets/controls",
          "model_name": "ButtonModel",
          "model_module_version": "1.5.0",
          "state": {
            "_dom_classes": [],
            "_model_module": "@jupyter-widgets/controls",
            "_model_module_version": "1.5.0",
            "_model_name": "ButtonModel",
            "_view_count": null,
            "_view_module": "@jupyter-widgets/controls",
            "_view_module_version": "1.5.0",
            "_view_name": "ButtonView",
            "button_style": "primary",
            "description": "..",
            "disabled": false,
            "icon": "",
            "layout": "IPY_MODEL_8505cad9027b4275bc85c99735d9cb82",
            "style": "IPY_MODEL_8666cd945e5f4322a29537b58c7736a7",
            "tooltip": ""
          }
        },
        "5b25b1d772b34e33a2f7dfe54cbf20ec": {
          "model_module": "@jupyter-widgets/controls",
          "model_name": "ButtonModel",
          "model_module_version": "1.5.0",
          "state": {
            "_dom_classes": [],
            "_model_module": "@jupyter-widgets/controls",
            "_model_module_version": "1.5.0",
            "_model_name": "ButtonModel",
            "_view_count": null,
            "_view_module": "@jupyter-widgets/controls",
            "_view_module_version": "1.5.0",
            "_view_name": "ButtonView",
            "button_style": "info",
            "description": "MNC1",
            "disabled": false,
            "icon": "",
            "layout": "IPY_MODEL_8505cad9027b4275bc85c99735d9cb82",
            "style": "IPY_MODEL_ab11a66c4cec47d38c041c4fd7cb1534",
            "tooltip": ""
          }
        },
        "448097af71d64f45a10240d0ae6aab16": {
          "model_module": "@jupyter-widgets/controls",
          "model_name": "ButtonModel",
          "model_module_version": "1.5.0",
          "state": {
            "_dom_classes": [],
            "_model_module": "@jupyter-widgets/controls",
            "_model_module_version": "1.5.0",
            "_model_name": "ButtonModel",
            "_view_count": null,
            "_view_module": "@jupyter-widgets/controls",
            "_view_module_version": "1.5.0",
            "_view_name": "ButtonView",
            "button_style": "info",
            "description": "2R-1_600hrs",
            "disabled": false,
            "icon": "",
            "layout": "IPY_MODEL_8505cad9027b4275bc85c99735d9cb82",
            "style": "IPY_MODEL_98681fa9a87f48e8a95f93062bd137dd",
            "tooltip": ""
          }
        },
        "1c6a6e5a349d423e998f4978be679127": {
          "model_module": "@jupyter-widgets/controls",
          "model_name": "ButtonModel",
          "model_module_version": "1.5.0",
          "state": {
            "_dom_classes": [],
            "_model_module": "@jupyter-widgets/controls",
            "_model_module_version": "1.5.0",
            "_model_name": "ButtonModel",
            "_view_count": null,
            "_view_module": "@jupyter-widgets/controls",
            "_view_module_version": "1.5.0",
            "_view_name": "ButtonView",
            "button_style": "info",
            "description": "ODLTS",
            "disabled": false,
            "icon": "",
            "layout": "IPY_MODEL_8505cad9027b4275bc85c99735d9cb82",
            "style": "IPY_MODEL_bea72f72f70249d9bacfff65c0970a52",
            "tooltip": ""
          }
        },
        "32407fb486c34624ae70f56f372b0e86": {
          "model_module": "@jupyter-widgets/controls",
          "model_name": "ButtonModel",
          "model_module_version": "1.5.0",
          "state": {
            "_dom_classes": [],
            "_model_module": "@jupyter-widgets/controls",
            "_model_module_version": "1.5.0",
            "_model_name": "ButtonModel",
            "_view_count": null,
            "_view_module": "@jupyter-widgets/controls",
            "_view_module_version": "1.5.0",
            "_view_name": "ButtonView",
            "button_style": "info",
            "description": "GOb2k",
            "disabled": false,
            "icon": "",
            "layout": "IPY_MODEL_8505cad9027b4275bc85c99735d9cb82",
            "style": "IPY_MODEL_10cc14d45f06463589fa0b9274500d16",
            "tooltip": ""
          }
        },
        "78e7487072cf4f6d8644e261e689f1df": {
          "model_module": "@jupyter-widgets/controls",
          "model_name": "ButtonModel",
          "model_module_version": "1.5.0",
          "state": {
            "_dom_classes": [],
            "_model_module": "@jupyter-widgets/controls",
            "_model_module_version": "1.5.0",
            "_model_name": "ButtonModel",
            "_view_count": null,
            "_view_module": "@jupyter-widgets/controls",
            "_view_module_version": "1.5.0",
            "_view_name": "ButtonView",
            "button_style": "info",
            "description": "PIVTS",
            "disabled": false,
            "icon": "",
            "layout": "IPY_MODEL_8505cad9027b4275bc85c99735d9cb82",
            "style": "IPY_MODEL_1248bd620f974f4d938eb1d31d27fb1e",
            "tooltip": ""
          }
        },
        "f18319e3355d4a89b4459e1bf7edca1b": {
          "model_module": "@jupyter-widgets/controls",
          "model_name": "ButtonModel",
          "model_module_version": "1.5.0",
          "state": {
            "_dom_classes": [],
            "_model_module": "@jupyter-widgets/controls",
            "_model_module_version": "1.5.0",
            "_model_name": "ButtonModel",
            "_view_count": null,
            "_view_module": "@jupyter-widgets/controls",
            "_view_module_version": "1.5.0",
            "_view_name": "ButtonView",
            "button_style": "info",
            "description": "DLTS w L",
            "disabled": false,
            "icon": "",
            "layout": "IPY_MODEL_8505cad9027b4275bc85c99735d9cb82",
            "style": "IPY_MODEL_68d43c4e948f44858e66d9d4ff16aea6",
            "tooltip": ""
          }
        },
        "0c02756ab66841708319367bc59a266f": {
          "model_module": "@jupyter-widgets/controls",
          "model_name": "ButtonModel",
          "model_module_version": "1.5.0",
          "state": {
            "_dom_classes": [],
            "_model_module": "@jupyter-widgets/controls",
            "_model_module_version": "1.5.0",
            "_model_name": "ButtonModel",
            "_view_count": null,
            "_view_module": "@jupyter-widgets/controls",
            "_view_module_version": "1.5.0",
            "_view_name": "ButtonView",
            "button_style": "info",
            "description": "V735_N2_4e13GeVpr",
            "disabled": false,
            "icon": "",
            "layout": "IPY_MODEL_8505cad9027b4275bc85c99735d9cb82",
            "style": "IPY_MODEL_b4ce5284b19348d78f1ebccd9731356d",
            "tooltip": ""
          }
        },
        "23bc7350633c4ddd92d39a1503e573f2": {
          "model_module": "@jupyter-widgets/controls",
          "model_name": "ButtonModel",
          "model_module_version": "1.5.0",
          "state": {
            "_dom_classes": [],
            "_model_module": "@jupyter-widgets/controls",
            "_model_module_version": "1.5.0",
            "_model_name": "ButtonModel",
            "_view_count": null,
            "_view_module": "@jupyter-widgets/controls",
            "_view_module_version": "1.5.0",
            "_view_name": "ButtonView",
            "button_style": "info",
            "description": "4Cl(3)-2_600hrs",
            "disabled": false,
            "icon": "",
            "layout": "IPY_MODEL_8505cad9027b4275bc85c99735d9cb82",
            "style": "IPY_MODEL_d2774a05b3fa42eeba1a89c48e49434c",
            "tooltip": ""
          }
        },
        "a8a12548ce224a0981c0abac048fa42e": {
          "model_module": "@jupyter-widgets/controls",
          "model_name": "ButtonModel",
          "model_module_version": "1.5.0",
          "state": {
            "_dom_classes": [],
            "_model_module": "@jupyter-widgets/controls",
            "_model_module_version": "1.5.0",
            "_model_name": "ButtonModel",
            "_view_count": null,
            "_view_module": "@jupyter-widgets/controls",
            "_view_module_version": "1.5.0",
            "_view_name": "ButtonView",
            "button_style": "info",
            "description": "averaged",
            "disabled": false,
            "icon": "",
            "layout": "IPY_MODEL_8505cad9027b4275bc85c99735d9cb82",
            "style": "IPY_MODEL_002b0bf1963c4a4bb44d02a22b760163",
            "tooltip": ""
          }
        },
        "6fc131d04d0f482082b44295bc86b696": {
          "model_module": "@jupyter-widgets/controls",
          "model_name": "ButtonModel",
          "model_module_version": "1.5.0",
          "state": {
            "_dom_classes": [],
            "_model_module": "@jupyter-widgets/controls",
            "_model_module_version": "1.5.0",
            "_model_name": "ButtonModel",
            "_view_count": null,
            "_view_module": "@jupyter-widgets/controls",
            "_view_module_version": "1.5.0",
            "_view_name": "ButtonView",
            "button_style": "info",
            "description": "T3513-7",
            "disabled": false,
            "icon": "",
            "layout": "IPY_MODEL_8505cad9027b4275bc85c99735d9cb82",
            "style": "IPY_MODEL_a8ae24f9081a403c91eb1545397614fb",
            "tooltip": ""
          }
        },
        "d4d1cb888adc4e54a2e52235c5b15afe": {
          "model_module": "@jupyter-widgets/controls",
          "model_name": "ButtonModel",
          "model_module_version": "1.5.0",
          "state": {
            "_dom_classes": [],
            "_model_module": "@jupyter-widgets/controls",
            "_model_module_version": "1.5.0",
            "_model_name": "ButtonModel",
            "_view_count": null,
            "_view_module": "@jupyter-widgets/controls",
            "_view_module_version": "1.5.0",
            "_view_name": "ButtonView",
            "button_style": "info",
            "description": "not_averaged",
            "disabled": false,
            "icon": "",
            "layout": "IPY_MODEL_8505cad9027b4275bc85c99735d9cb82",
            "style": "IPY_MODEL_2e006584c1484d31ac5d453a019c420b",
            "tooltip": ""
          }
        },
        "b9cb16b12ca94315be87f966d24be4e7": {
          "model_module": "@jupyter-widgets/controls",
          "model_name": "ButtonModel",
          "model_module_version": "1.5.0",
          "state": {
            "_dom_classes": [],
            "_model_module": "@jupyter-widgets/controls",
            "_model_module_version": "1.5.0",
            "_model_name": "ButtonModel",
            "_view_count": null,
            "_view_module": "@jupyter-widgets/controls",
            "_view_module_version": "1.5.0",
            "_view_name": "ButtonView",
            "button_style": "info",
            "description": "kappa",
            "disabled": false,
            "icon": "",
            "layout": "IPY_MODEL_8505cad9027b4275bc85c99735d9cb82",
            "style": "IPY_MODEL_5169e55a65dc41068de6e47512d50f7e",
            "tooltip": ""
          }
        },
        "e16b5f9dec504c0aa5bb2b65cdf07f4f": {
          "model_module": "@jupyter-widgets/controls",
          "model_name": "ButtonModel",
          "model_module_version": "1.5.0",
          "state": {
            "_dom_classes": [],
            "_model_module": "@jupyter-widgets/controls",
            "_model_module_version": "1.5.0",
            "_model_name": "ButtonModel",
            "_view_count": null,
            "_view_module": "@jupyter-widgets/controls",
            "_view_module_version": "1.5.0",
            "_view_name": "ButtonView",
            "button_style": "info",
            "description": "GO820.2",
            "disabled": false,
            "icon": "",
            "layout": "IPY_MODEL_8505cad9027b4275bc85c99735d9cb82",
            "style": "IPY_MODEL_bb89d387da8647bca57b56f744226db0",
            "tooltip": ""
          }
        },
        "86b2e3e20ebd449bbac21dc79bd50f98": {
          "model_module": "@jupyter-widgets/controls",
          "model_name": "ButtonModel",
          "model_module_version": "1.5.0",
          "state": {
            "_dom_classes": [],
            "_model_module": "@jupyter-widgets/controls",
            "_model_module_version": "1.5.0",
            "_model_name": "ButtonModel",
            "_view_count": null,
            "_view_module": "@jupyter-widgets/controls",
            "_view_module_version": "1.5.0",
            "_view_name": "ButtonView",
            "button_style": "info",
            "description": "GO",
            "disabled": false,
            "icon": "",
            "layout": "IPY_MODEL_8505cad9027b4275bc85c99735d9cb82",
            "style": "IPY_MODEL_fdebe79fa4e249b799c362c6d0904fab",
            "tooltip": ""
          }
        },
        "96d93814a9dc49f3b8c5a4745cfb06d4": {
          "model_module": "@jupyter-widgets/controls",
          "model_name": "ButtonModel",
          "model_module_version": "1.5.0",
          "state": {
            "_dom_classes": [],
            "_model_module": "@jupyter-widgets/controls",
            "_model_module_version": "1.5.0",
            "_model_name": "ButtonModel",
            "_view_count": null,
            "_view_module": "@jupyter-widgets/controls",
            "_view_module_version": "1.5.0",
            "_view_name": "ButtonView",
            "button_style": "info",
            "description": "Oslo samples",
            "disabled": false,
            "icon": "",
            "layout": "IPY_MODEL_8505cad9027b4275bc85c99735d9cb82",
            "style": "IPY_MODEL_77bf0b919184486798042c9ef5f16c5a",
            "tooltip": ""
          }
        },
        "5b43b8e5a04f4fe590d4ecde021ad1a4": {
          "model_module": "@jupyter-widgets/controls",
          "model_name": "ButtonModel",
          "model_module_version": "1.5.0",
          "state": {
            "_dom_classes": [],
            "_model_module": "@jupyter-widgets/controls",
            "_model_module_version": "1.5.0",
            "_model_name": "ButtonModel",
            "_view_count": null,
            "_view_module": "@jupyter-widgets/controls",
            "_view_module_version": "1.5.0",
            "_view_name": "ButtonView",
            "button_style": "info",
            "description": "New Perovskite",
            "disabled": false,
            "icon": "",
            "layout": "IPY_MODEL_8505cad9027b4275bc85c99735d9cb82",
            "style": "IPY_MODEL_314d20d8dcee4c2b9da7dd97ac4d743a",
            "tooltip": ""
          }
        },
        "6834aefae306480aac77f51a5a408f15": {
          "model_module": "@jupyter-widgets/controls",
          "model_name": "ButtonModel",
          "model_module_version": "1.5.0",
          "state": {
            "_dom_classes": [],
            "_model_module": "@jupyter-widgets/controls",
            "_model_module_version": "1.5.0",
            "_model_name": "ButtonModel",
            "_view_count": null,
            "_view_module": "@jupyter-widgets/controls",
            "_view_module_version": "1.5.0",
            "_view_name": "ButtonView",
            "button_style": "info",
            "description": "3D and 2D DLTS",
            "disabled": false,
            "icon": "",
            "layout": "IPY_MODEL_8505cad9027b4275bc85c99735d9cb82",
            "style": "IPY_MODEL_208fd5e9889048908738ba5cbfcdf723",
            "tooltip": ""
          }
        },
        "4ad7fd7411fa4b708801dc3dfcd146ef": {
          "model_module": "@jupyter-widgets/controls",
          "model_name": "ButtonModel",
          "model_module_version": "1.5.0",
          "state": {
            "_dom_classes": [],
            "_model_module": "@jupyter-widgets/controls",
            "_model_module_version": "1.5.0",
            "_model_name": "ButtonModel",
            "_view_count": null,
            "_view_module": "@jupyter-widgets/controls",
            "_view_module_version": "1.5.0",
            "_view_name": "ButtonView",
            "button_style": "info",
            "description": "Look for triplet",
            "disabled": false,
            "icon": "",
            "layout": "IPY_MODEL_8505cad9027b4275bc85c99735d9cb82",
            "style": "IPY_MODEL_56ed69de53a24d3ebe06a33ddf10700d",
            "tooltip": ""
          }
        },
        "9da296c970de4010991249554bb5d7de": {
          "model_module": "@jupyter-widgets/controls",
          "model_name": "ButtonModel",
          "model_module_version": "1.5.0",
          "state": {
            "_dom_classes": [],
            "_model_module": "@jupyter-widgets/controls",
            "_model_module_version": "1.5.0",
            "_model_name": "ButtonModel",
            "_view_count": null,
            "_view_module": "@jupyter-widgets/controls",
            "_view_module_version": "1.5.0",
            "_view_name": "ButtonView",
            "button_style": "info",
            "description": "PERS",
            "disabled": false,
            "icon": "",
            "layout": "IPY_MODEL_8505cad9027b4275bc85c99735d9cb82",
            "style": "IPY_MODEL_07d98f9136ad49e0866d1e227928c415",
            "tooltip": ""
          }
        },
        "72caf0abbd9b4386be970d2593999a10": {
          "model_module": "@jupyter-widgets/controls",
          "model_name": "ButtonModel",
          "model_module_version": "1.5.0",
          "state": {
            "_dom_classes": [],
            "_model_module": "@jupyter-widgets/controls",
            "_model_module_version": "1.5.0",
            "_model_name": "ButtonModel",
            "_view_count": null,
            "_view_module": "@jupyter-widgets/controls",
            "_view_module_version": "1.5.0",
            "_view_name": "ButtonView",
            "button_style": "info",
            "description": "ODLTS2",
            "disabled": false,
            "icon": "",
            "layout": "IPY_MODEL_8505cad9027b4275bc85c99735d9cb82",
            "style": "IPY_MODEL_29505830e79e45d7a0efc83303f666ae",
            "tooltip": ""
          }
        },
        "d1d87d855ff94977be1049c1f874d0e5": {
          "model_module": "@jupyter-widgets/controls",
          "model_name": "ButtonModel",
          "model_module_version": "1.5.0",
          "state": {
            "_dom_classes": [],
            "_model_module": "@jupyter-widgets/controls",
            "_model_module_version": "1.5.0",
            "_model_name": "ButtonModel",
            "_view_count": null,
            "_view_module": "@jupyter-widgets/controls",
            "_view_module_version": "1.5.0",
            "_view_name": "ButtonView",
            "button_style": "info",
            "description": "DLTS with irradiation",
            "disabled": false,
            "icon": "",
            "layout": "IPY_MODEL_8505cad9027b4275bc85c99735d9cb82",
            "style": "IPY_MODEL_af20a49de6dc491cb6a7a5e96488e3e0",
            "tooltip": ""
          }
        },
        "86e4602149be498888f616decb2e26ff": {
          "model_module": "@jupyter-widgets/controls",
          "model_name": "ButtonModel",
          "model_module_version": "1.5.0",
          "state": {
            "_dom_classes": [],
            "_model_module": "@jupyter-widgets/controls",
            "_model_module_version": "1.5.0",
            "_model_name": "ButtonModel",
            "_view_count": null,
            "_view_module": "@jupyter-widgets/controls",
            "_view_module_version": "1.5.0",
            "_view_name": "ButtonView",
            "button_style": "success",
            "description": "1Cl-2_150_1.DLTS",
            "disabled": false,
            "icon": "",
            "layout": "IPY_MODEL_8505cad9027b4275bc85c99735d9cb82",
            "style": "IPY_MODEL_05f652b605734dfbbb505fdf7835a589",
            "tooltip": ""
          }
        },
        "62cea92064ec438d83b8be1a74b5b951": {
          "model_module": "@jupyter-widgets/controls",
          "model_name": "ButtonModel",
          "model_module_version": "1.5.0",
          "state": {
            "_dom_classes": [],
            "_model_module": "@jupyter-widgets/controls",
            "_model_module_version": "1.5.0",
            "_model_name": "ButtonModel",
            "_view_count": null,
            "_view_module": "@jupyter-widgets/controls",
            "_view_module_version": "1.5.0",
            "_view_name": "ButtonView",
            "button_style": "success",
            "description": "2R-2_15_1.DLTS",
            "disabled": false,
            "icon": "",
            "layout": "IPY_MODEL_8505cad9027b4275bc85c99735d9cb82",
            "style": "IPY_MODEL_d1bdaeb2ab714711aecea3a58bba3595",
            "tooltip": ""
          }
        },
        "1b021e87687646a98bb139ff65a5e2f6": {
          "model_module": "@jupyter-widgets/controls",
          "model_name": "ButtonModel",
          "model_module_version": "1.5.0",
          "state": {
            "_dom_classes": [],
            "_model_module": "@jupyter-widgets/controls",
            "_model_module_version": "1.5.0",
            "_model_name": "ButtonModel",
            "_view_count": null,
            "_view_module": "@jupyter-widgets/controls",
            "_view_module_version": "1.5.0",
            "_view_name": "ButtonView",
            "button_style": "success",
            "description": "1Cl-2_15_1.DLTS",
            "disabled": false,
            "icon": "",
            "layout": "IPY_MODEL_8505cad9027b4275bc85c99735d9cb82",
            "style": "IPY_MODEL_eb238544407440c7b028c52213341b55",
            "tooltip": ""
          }
        },
        "e9cb2c66aa184c568ff116b327bce62d": {
          "model_module": "@jupyter-widgets/controls",
          "model_name": "ButtonModel",
          "model_module_version": "1.5.0",
          "state": {
            "_dom_classes": [],
            "_model_module": "@jupyter-widgets/controls",
            "_model_module_version": "1.5.0",
            "_model_name": "ButtonModel",
            "_view_count": null,
            "_view_module": "@jupyter-widgets/controls",
            "_view_module_version": "1.5.0",
            "_view_name": "ButtonView",
            "button_style": "success",
            "description": "4Cl(4)-1_40_1.DLTS",
            "disabled": false,
            "icon": "",
            "layout": "IPY_MODEL_8505cad9027b4275bc85c99735d9cb82",
            "style": "IPY_MODEL_0ad7b8f747e641f781283a83851af62d",
            "tooltip": ""
          }
        },
        "177a20556d574f3f8550cb53ca411e68": {
          "model_module": "@jupyter-widgets/controls",
          "model_name": "ButtonModel",
          "model_module_version": "1.5.0",
          "state": {
            "_dom_classes": [],
            "_model_module": "@jupyter-widgets/controls",
            "_model_module_version": "1.5.0",
            "_model_name": "ButtonModel",
            "_view_count": null,
            "_view_module": "@jupyter-widgets/controls",
            "_view_module_version": "1.5.0",
            "_view_name": "ButtonView",
            "button_style": "success",
            "description": "averaged.DLTS",
            "disabled": false,
            "icon": "",
            "layout": "IPY_MODEL_8505cad9027b4275bc85c99735d9cb82",
            "style": "IPY_MODEL_3cb798664fd44e5e8adc27a24c8eb371",
            "tooltip": ""
          }
        },
        "729687d25e474933a505b994b66745c3": {
          "model_module": "@jupyter-widgets/controls",
          "model_name": "ButtonModel",
          "model_module_version": "1.5.0",
          "state": {
            "_dom_classes": [],
            "_model_module": "@jupyter-widgets/controls",
            "_model_module_version": "1.5.0",
            "_model_name": "ButtonModel",
            "_view_count": null,
            "_view_module": "@jupyter-widgets/controls",
            "_view_module_version": "1.5.0",
            "_view_name": "ButtonView",
            "button_style": "success",
            "description": "T3513-7-5e14pr_150_1.DLTS",
            "disabled": false,
            "icon": "",
            "layout": "IPY_MODEL_8505cad9027b4275bc85c99735d9cb82",
            "style": "IPY_MODEL_ddc5c4d0d22b454d88f14bac6d9a9dc6",
            "tooltip": ""
          }
        },
        "beb12c5e24cc47d38ec5935475bf4f0a": {
          "model_module": "@jupyter-widgets/base",
          "model_name": "LayoutModel",
          "model_module_version": "1.2.0",
          "state": {
            "_model_module": "@jupyter-widgets/base",
            "_model_module_version": "1.2.0",
            "_model_name": "LayoutModel",
            "_view_count": null,
            "_view_module": "@jupyter-widgets/base",
            "_view_module_version": "1.2.0",
            "_view_name": "LayoutView",
            "align_content": null,
            "align_items": null,
            "align_self": null,
            "border": null,
            "bottom": null,
            "display": null,
            "flex": null,
            "flex_flow": null,
            "grid_area": null,
            "grid_auto_columns": null,
            "grid_auto_flow": null,
            "grid_auto_rows": null,
            "grid_column": null,
            "grid_gap": null,
            "grid_row": null,
            "grid_template_areas": null,
            "grid_template_columns": null,
            "grid_template_rows": null,
            "height": null,
            "justify_content": null,
            "justify_items": null,
            "left": null,
            "margin": null,
            "max_height": null,
            "max_width": null,
            "min_height": null,
            "min_width": null,
            "object_fit": null,
            "object_position": null,
            "order": null,
            "overflow": null,
            "overflow_x": null,
            "overflow_y": null,
            "padding": null,
            "right": null,
            "top": null,
            "visibility": null,
            "width": null
          }
        },
        "3ae5ecfd81ca4af3baaa53e7f8867f96": {
          "model_module": "@jupyter-widgets/controls",
          "model_name": "DescriptionStyleModel",
          "model_module_version": "1.5.0",
          "state": {
            "_model_module": "@jupyter-widgets/controls",
            "_model_module_version": "1.5.0",
            "_model_name": "DescriptionStyleModel",
            "_view_count": null,
            "_view_module": "@jupyter-widgets/base",
            "_view_module_version": "1.2.0",
            "_view_name": "StyleView",
            "description_width": ""
          }
        },
        "8666cd945e5f4322a29537b58c7736a7": {
          "model_module": "@jupyter-widgets/controls",
          "model_name": "ButtonStyleModel",
          "model_module_version": "1.5.0",
          "state": {
            "_model_module": "@jupyter-widgets/controls",
            "_model_module_version": "1.5.0",
            "_model_name": "ButtonStyleModel",
            "_view_count": null,
            "_view_module": "@jupyter-widgets/base",
            "_view_module_version": "1.2.0",
            "_view_name": "StyleView",
            "button_color": null,
            "font_weight": ""
          }
        },
        "ab11a66c4cec47d38c041c4fd7cb1534": {
          "model_module": "@jupyter-widgets/controls",
          "model_name": "ButtonStyleModel",
          "model_module_version": "1.5.0",
          "state": {
            "_model_module": "@jupyter-widgets/controls",
            "_model_module_version": "1.5.0",
            "_model_name": "ButtonStyleModel",
            "_view_count": null,
            "_view_module": "@jupyter-widgets/base",
            "_view_module_version": "1.2.0",
            "_view_name": "StyleView",
            "button_color": null,
            "font_weight": ""
          }
        },
        "98681fa9a87f48e8a95f93062bd137dd": {
          "model_module": "@jupyter-widgets/controls",
          "model_name": "ButtonStyleModel",
          "model_module_version": "1.5.0",
          "state": {
            "_model_module": "@jupyter-widgets/controls",
            "_model_module_version": "1.5.0",
            "_model_name": "ButtonStyleModel",
            "_view_count": null,
            "_view_module": "@jupyter-widgets/base",
            "_view_module_version": "1.2.0",
            "_view_name": "StyleView",
            "button_color": null,
            "font_weight": ""
          }
        },
        "bea72f72f70249d9bacfff65c0970a52": {
          "model_module": "@jupyter-widgets/controls",
          "model_name": "ButtonStyleModel",
          "model_module_version": "1.5.0",
          "state": {
            "_model_module": "@jupyter-widgets/controls",
            "_model_module_version": "1.5.0",
            "_model_name": "ButtonStyleModel",
            "_view_count": null,
            "_view_module": "@jupyter-widgets/base",
            "_view_module_version": "1.2.0",
            "_view_name": "StyleView",
            "button_color": null,
            "font_weight": ""
          }
        },
        "10cc14d45f06463589fa0b9274500d16": {
          "model_module": "@jupyter-widgets/controls",
          "model_name": "ButtonStyleModel",
          "model_module_version": "1.5.0",
          "state": {
            "_model_module": "@jupyter-widgets/controls",
            "_model_module_version": "1.5.0",
            "_model_name": "ButtonStyleModel",
            "_view_count": null,
            "_view_module": "@jupyter-widgets/base",
            "_view_module_version": "1.2.0",
            "_view_name": "StyleView",
            "button_color": null,
            "font_weight": ""
          }
        },
        "1248bd620f974f4d938eb1d31d27fb1e": {
          "model_module": "@jupyter-widgets/controls",
          "model_name": "ButtonStyleModel",
          "model_module_version": "1.5.0",
          "state": {
            "_model_module": "@jupyter-widgets/controls",
            "_model_module_version": "1.5.0",
            "_model_name": "ButtonStyleModel",
            "_view_count": null,
            "_view_module": "@jupyter-widgets/base",
            "_view_module_version": "1.2.0",
            "_view_name": "StyleView",
            "button_color": null,
            "font_weight": ""
          }
        },
        "68d43c4e948f44858e66d9d4ff16aea6": {
          "model_module": "@jupyter-widgets/controls",
          "model_name": "ButtonStyleModel",
          "model_module_version": "1.5.0",
          "state": {
            "_model_module": "@jupyter-widgets/controls",
            "_model_module_version": "1.5.0",
            "_model_name": "ButtonStyleModel",
            "_view_count": null,
            "_view_module": "@jupyter-widgets/base",
            "_view_module_version": "1.2.0",
            "_view_name": "StyleView",
            "button_color": null,
            "font_weight": ""
          }
        },
        "b4ce5284b19348d78f1ebccd9731356d": {
          "model_module": "@jupyter-widgets/controls",
          "model_name": "ButtonStyleModel",
          "model_module_version": "1.5.0",
          "state": {
            "_model_module": "@jupyter-widgets/controls",
            "_model_module_version": "1.5.0",
            "_model_name": "ButtonStyleModel",
            "_view_count": null,
            "_view_module": "@jupyter-widgets/base",
            "_view_module_version": "1.2.0",
            "_view_name": "StyleView",
            "button_color": null,
            "font_weight": ""
          }
        },
        "d2774a05b3fa42eeba1a89c48e49434c": {
          "model_module": "@jupyter-widgets/controls",
          "model_name": "ButtonStyleModel",
          "model_module_version": "1.5.0",
          "state": {
            "_model_module": "@jupyter-widgets/controls",
            "_model_module_version": "1.5.0",
            "_model_name": "ButtonStyleModel",
            "_view_count": null,
            "_view_module": "@jupyter-widgets/base",
            "_view_module_version": "1.2.0",
            "_view_name": "StyleView",
            "button_color": null,
            "font_weight": ""
          }
        },
        "002b0bf1963c4a4bb44d02a22b760163": {
          "model_module": "@jupyter-widgets/controls",
          "model_name": "ButtonStyleModel",
          "model_module_version": "1.5.0",
          "state": {
            "_model_module": "@jupyter-widgets/controls",
            "_model_module_version": "1.5.0",
            "_model_name": "ButtonStyleModel",
            "_view_count": null,
            "_view_module": "@jupyter-widgets/base",
            "_view_module_version": "1.2.0",
            "_view_name": "StyleView",
            "button_color": null,
            "font_weight": ""
          }
        },
        "a8ae24f9081a403c91eb1545397614fb": {
          "model_module": "@jupyter-widgets/controls",
          "model_name": "ButtonStyleModel",
          "model_module_version": "1.5.0",
          "state": {
            "_model_module": "@jupyter-widgets/controls",
            "_model_module_version": "1.5.0",
            "_model_name": "ButtonStyleModel",
            "_view_count": null,
            "_view_module": "@jupyter-widgets/base",
            "_view_module_version": "1.2.0",
            "_view_name": "StyleView",
            "button_color": null,
            "font_weight": ""
          }
        },
        "2e006584c1484d31ac5d453a019c420b": {
          "model_module": "@jupyter-widgets/controls",
          "model_name": "ButtonStyleModel",
          "model_module_version": "1.5.0",
          "state": {
            "_model_module": "@jupyter-widgets/controls",
            "_model_module_version": "1.5.0",
            "_model_name": "ButtonStyleModel",
            "_view_count": null,
            "_view_module": "@jupyter-widgets/base",
            "_view_module_version": "1.2.0",
            "_view_name": "StyleView",
            "button_color": null,
            "font_weight": ""
          }
        },
        "5169e55a65dc41068de6e47512d50f7e": {
          "model_module": "@jupyter-widgets/controls",
          "model_name": "ButtonStyleModel",
          "model_module_version": "1.5.0",
          "state": {
            "_model_module": "@jupyter-widgets/controls",
            "_model_module_version": "1.5.0",
            "_model_name": "ButtonStyleModel",
            "_view_count": null,
            "_view_module": "@jupyter-widgets/base",
            "_view_module_version": "1.2.0",
            "_view_name": "StyleView",
            "button_color": null,
            "font_weight": ""
          }
        },
        "bb89d387da8647bca57b56f744226db0": {
          "model_module": "@jupyter-widgets/controls",
          "model_name": "ButtonStyleModel",
          "model_module_version": "1.5.0",
          "state": {
            "_model_module": "@jupyter-widgets/controls",
            "_model_module_version": "1.5.0",
            "_model_name": "ButtonStyleModel",
            "_view_count": null,
            "_view_module": "@jupyter-widgets/base",
            "_view_module_version": "1.2.0",
            "_view_name": "StyleView",
            "button_color": null,
            "font_weight": ""
          }
        },
        "fdebe79fa4e249b799c362c6d0904fab": {
          "model_module": "@jupyter-widgets/controls",
          "model_name": "ButtonStyleModel",
          "model_module_version": "1.5.0",
          "state": {
            "_model_module": "@jupyter-widgets/controls",
            "_model_module_version": "1.5.0",
            "_model_name": "ButtonStyleModel",
            "_view_count": null,
            "_view_module": "@jupyter-widgets/base",
            "_view_module_version": "1.2.0",
            "_view_name": "StyleView",
            "button_color": null,
            "font_weight": ""
          }
        },
        "77bf0b919184486798042c9ef5f16c5a": {
          "model_module": "@jupyter-widgets/controls",
          "model_name": "ButtonStyleModel",
          "model_module_version": "1.5.0",
          "state": {
            "_model_module": "@jupyter-widgets/controls",
            "_model_module_version": "1.5.0",
            "_model_name": "ButtonStyleModel",
            "_view_count": null,
            "_view_module": "@jupyter-widgets/base",
            "_view_module_version": "1.2.0",
            "_view_name": "StyleView",
            "button_color": null,
            "font_weight": ""
          }
        },
        "314d20d8dcee4c2b9da7dd97ac4d743a": {
          "model_module": "@jupyter-widgets/controls",
          "model_name": "ButtonStyleModel",
          "model_module_version": "1.5.0",
          "state": {
            "_model_module": "@jupyter-widgets/controls",
            "_model_module_version": "1.5.0",
            "_model_name": "ButtonStyleModel",
            "_view_count": null,
            "_view_module": "@jupyter-widgets/base",
            "_view_module_version": "1.2.0",
            "_view_name": "StyleView",
            "button_color": null,
            "font_weight": ""
          }
        },
        "208fd5e9889048908738ba5cbfcdf723": {
          "model_module": "@jupyter-widgets/controls",
          "model_name": "ButtonStyleModel",
          "model_module_version": "1.5.0",
          "state": {
            "_model_module": "@jupyter-widgets/controls",
            "_model_module_version": "1.5.0",
            "_model_name": "ButtonStyleModel",
            "_view_count": null,
            "_view_module": "@jupyter-widgets/base",
            "_view_module_version": "1.2.0",
            "_view_name": "StyleView",
            "button_color": null,
            "font_weight": ""
          }
        },
        "56ed69de53a24d3ebe06a33ddf10700d": {
          "model_module": "@jupyter-widgets/controls",
          "model_name": "ButtonStyleModel",
          "model_module_version": "1.5.0",
          "state": {
            "_model_module": "@jupyter-widgets/controls",
            "_model_module_version": "1.5.0",
            "_model_name": "ButtonStyleModel",
            "_view_count": null,
            "_view_module": "@jupyter-widgets/base",
            "_view_module_version": "1.2.0",
            "_view_name": "StyleView",
            "button_color": null,
            "font_weight": ""
          }
        },
        "07d98f9136ad49e0866d1e227928c415": {
          "model_module": "@jupyter-widgets/controls",
          "model_name": "ButtonStyleModel",
          "model_module_version": "1.5.0",
          "state": {
            "_model_module": "@jupyter-widgets/controls",
            "_model_module_version": "1.5.0",
            "_model_name": "ButtonStyleModel",
            "_view_count": null,
            "_view_module": "@jupyter-widgets/base",
            "_view_module_version": "1.2.0",
            "_view_name": "StyleView",
            "button_color": null,
            "font_weight": ""
          }
        },
        "29505830e79e45d7a0efc83303f666ae": {
          "model_module": "@jupyter-widgets/controls",
          "model_name": "ButtonStyleModel",
          "model_module_version": "1.5.0",
          "state": {
            "_model_module": "@jupyter-widgets/controls",
            "_model_module_version": "1.5.0",
            "_model_name": "ButtonStyleModel",
            "_view_count": null,
            "_view_module": "@jupyter-widgets/base",
            "_view_module_version": "1.2.0",
            "_view_name": "StyleView",
            "button_color": null,
            "font_weight": ""
          }
        },
        "af20a49de6dc491cb6a7a5e96488e3e0": {
          "model_module": "@jupyter-widgets/controls",
          "model_name": "ButtonStyleModel",
          "model_module_version": "1.5.0",
          "state": {
            "_model_module": "@jupyter-widgets/controls",
            "_model_module_version": "1.5.0",
            "_model_name": "ButtonStyleModel",
            "_view_count": null,
            "_view_module": "@jupyter-widgets/base",
            "_view_module_version": "1.2.0",
            "_view_name": "StyleView",
            "button_color": null,
            "font_weight": ""
          }
        },
        "05f652b605734dfbbb505fdf7835a589": {
          "model_module": "@jupyter-widgets/controls",
          "model_name": "ButtonStyleModel",
          "model_module_version": "1.5.0",
          "state": {
            "_model_module": "@jupyter-widgets/controls",
            "_model_module_version": "1.5.0",
            "_model_name": "ButtonStyleModel",
            "_view_count": null,
            "_view_module": "@jupyter-widgets/base",
            "_view_module_version": "1.2.0",
            "_view_name": "StyleView",
            "button_color": null,
            "font_weight": ""
          }
        },
        "d1bdaeb2ab714711aecea3a58bba3595": {
          "model_module": "@jupyter-widgets/controls",
          "model_name": "ButtonStyleModel",
          "model_module_version": "1.5.0",
          "state": {
            "_model_module": "@jupyter-widgets/controls",
            "_model_module_version": "1.5.0",
            "_model_name": "ButtonStyleModel",
            "_view_count": null,
            "_view_module": "@jupyter-widgets/base",
            "_view_module_version": "1.2.0",
            "_view_name": "StyleView",
            "button_color": null,
            "font_weight": ""
          }
        },
        "eb238544407440c7b028c52213341b55": {
          "model_module": "@jupyter-widgets/controls",
          "model_name": "ButtonStyleModel",
          "model_module_version": "1.5.0",
          "state": {
            "_model_module": "@jupyter-widgets/controls",
            "_model_module_version": "1.5.0",
            "_model_name": "ButtonStyleModel",
            "_view_count": null,
            "_view_module": "@jupyter-widgets/base",
            "_view_module_version": "1.2.0",
            "_view_name": "StyleView",
            "button_color": null,
            "font_weight": ""
          }
        },
        "0ad7b8f747e641f781283a83851af62d": {
          "model_module": "@jupyter-widgets/controls",
          "model_name": "ButtonStyleModel",
          "model_module_version": "1.5.0",
          "state": {
            "_model_module": "@jupyter-widgets/controls",
            "_model_module_version": "1.5.0",
            "_model_name": "ButtonStyleModel",
            "_view_count": null,
            "_view_module": "@jupyter-widgets/base",
            "_view_module_version": "1.2.0",
            "_view_name": "StyleView",
            "button_color": null,
            "font_weight": ""
          }
        },
        "3cb798664fd44e5e8adc27a24c8eb371": {
          "model_module": "@jupyter-widgets/controls",
          "model_name": "ButtonStyleModel",
          "model_module_version": "1.5.0",
          "state": {
            "_model_module": "@jupyter-widgets/controls",
            "_model_module_version": "1.5.0",
            "_model_name": "ButtonStyleModel",
            "_view_count": null,
            "_view_module": "@jupyter-widgets/base",
            "_view_module_version": "1.2.0",
            "_view_name": "StyleView",
            "button_color": null,
            "font_weight": ""
          }
        },
        "ddc5c4d0d22b454d88f14bac6d9a9dc6": {
          "model_module": "@jupyter-widgets/controls",
          "model_name": "ButtonStyleModel",
          "model_module_version": "1.5.0",
          "state": {
            "_model_module": "@jupyter-widgets/controls",
            "_model_module_version": "1.5.0",
            "_model_name": "ButtonStyleModel",
            "_view_count": null,
            "_view_module": "@jupyter-widgets/base",
            "_view_module_version": "1.2.0",
            "_view_name": "StyleView",
            "button_color": null,
            "font_weight": ""
          }
        },
        "3c4ab9de049c41e8a37fb144daaa333c": {
          "model_module": "@jupyter-widgets/controls",
          "model_name": "HTMLModel",
          "model_module_version": "1.5.0",
          "state": {
            "_dom_classes": [],
            "_model_module": "@jupyter-widgets/controls",
            "_model_module_version": "1.5.0",
            "_model_name": "HTMLModel",
            "_view_count": null,
            "_view_module": "@jupyter-widgets/controls",
            "_view_module_version": "1.5.0",
            "_view_name": "HTMLView",
            "description": "",
            "description_tooltip": null,
            "layout": "IPY_MODEL_9e46b5bfa732462d9ddf2136f0680cce",
            "placeholder": "​",
            "style": "IPY_MODEL_4afedce7f7704531a80f9532f392d8b0",
            "value": "<h2>/content/ilt/data/Oslo samples</h2>"
          }
        },
        "3ed94b341f3d4229a4e2836c01663eb6": {
          "model_module": "@jupyter-widgets/controls",
          "model_name": "ButtonModel",
          "model_module_version": "1.5.0",
          "state": {
            "_dom_classes": [],
            "_model_module": "@jupyter-widgets/controls",
            "_model_module_version": "1.5.0",
            "_model_name": "ButtonModel",
            "_view_count": null,
            "_view_module": "@jupyter-widgets/controls",
            "_view_module_version": "1.5.0",
            "_view_name": "ButtonView",
            "button_style": "primary",
            "description": "..",
            "disabled": false,
            "icon": "",
            "layout": "IPY_MODEL_8505cad9027b4275bc85c99735d9cb82",
            "style": "IPY_MODEL_ffdb9bbc914a467b9f6229c2415f6cde",
            "tooltip": ""
          }
        },
        "80433a6674804348b060321c5894937d": {
          "model_module": "@jupyter-widgets/controls",
          "model_name": "ButtonModel",
          "model_module_version": "1.5.0",
          "state": {
            "_dom_classes": [],
            "_model_module": "@jupyter-widgets/controls",
            "_model_module_version": "1.5.0",
            "_model_name": "ButtonModel",
            "_view_count": null,
            "_view_module": "@jupyter-widgets/controls",
            "_view_module_version": "1.5.0",
            "_view_name": "ButtonView",
            "button_style": "info",
            "description": "GO-He4",
            "disabled": false,
            "icon": "",
            "layout": "IPY_MODEL_8505cad9027b4275bc85c99735d9cb82",
            "style": "IPY_MODEL_0dbe047c0f70471bbc3d32929f25f176",
            "tooltip": ""
          }
        },
        "88250e60742a432eb2e45970470c7f0a": {
          "model_module": "@jupyter-widgets/controls",
          "model_name": "ButtonModel",
          "model_module_version": "1.5.0",
          "state": {
            "_dom_classes": [],
            "_model_module": "@jupyter-widgets/controls",
            "_model_module_version": "1.5.0",
            "_model_name": "ButtonModel",
            "_view_count": null,
            "_view_module": "@jupyter-widgets/controls",
            "_view_module_version": "1.5.0",
            "_view_name": "ButtonView",
            "button_style": "info",
            "description": "GO-He1",
            "disabled": false,
            "icon": "",
            "layout": "IPY_MODEL_8505cad9027b4275bc85c99735d9cb82",
            "style": "IPY_MODEL_c8245bae3bcc4821947dfb317d6d5fe4",
            "tooltip": ""
          }
        },
        "bcf703d629d540f9afb90c657c2bc9c8": {
          "model_module": "@jupyter-widgets/controls",
          "model_name": "ButtonModel",
          "model_module_version": "1.5.0",
          "state": {
            "_dom_classes": [],
            "_model_module": "@jupyter-widgets/controls",
            "_model_module_version": "1.5.0",
            "_model_name": "ButtonModel",
            "_view_count": null,
            "_view_module": "@jupyter-widgets/controls",
            "_view_module_version": "1.5.0",
            "_view_name": "ButtonView",
            "button_style": "info",
            "description": "GO-E1",
            "disabled": false,
            "icon": "",
            "layout": "IPY_MODEL_8505cad9027b4275bc85c99735d9cb82",
            "style": "IPY_MODEL_2e9ae6906a9f42d1866fafcc009d65c7",
            "tooltip": ""
          }
        },
        "ba96bf01f26a45469373634a15b2f122": {
          "model_module": "@jupyter-widgets/controls",
          "model_name": "ButtonModel",
          "model_module_version": "1.5.0",
          "state": {
            "_dom_classes": [],
            "_model_module": "@jupyter-widgets/controls",
            "_model_module_version": "1.5.0",
            "_model_name": "ButtonModel",
            "_view_count": null,
            "_view_module": "@jupyter-widgets/controls",
            "_view_module_version": "1.5.0",
            "_view_name": "ButtonView",
            "button_style": "info",
            "description": "GO-He2",
            "disabled": false,
            "icon": "",
            "layout": "IPY_MODEL_8505cad9027b4275bc85c99735d9cb82",
            "style": "IPY_MODEL_ecfc481171fd492f9b0aaf1e746790ff",
            "tooltip": ""
          }
        },
        "9e46b5bfa732462d9ddf2136f0680cce": {
          "model_module": "@jupyter-widgets/base",
          "model_name": "LayoutModel",
          "model_module_version": "1.2.0",
          "state": {
            "_model_module": "@jupyter-widgets/base",
            "_model_module_version": "1.2.0",
            "_model_name": "LayoutModel",
            "_view_count": null,
            "_view_module": "@jupyter-widgets/base",
            "_view_module_version": "1.2.0",
            "_view_name": "LayoutView",
            "align_content": null,
            "align_items": null,
            "align_self": null,
            "border": null,
            "bottom": null,
            "display": null,
            "flex": null,
            "flex_flow": null,
            "grid_area": null,
            "grid_auto_columns": null,
            "grid_auto_flow": null,
            "grid_auto_rows": null,
            "grid_column": null,
            "grid_gap": null,
            "grid_row": null,
            "grid_template_areas": null,
            "grid_template_columns": null,
            "grid_template_rows": null,
            "height": null,
            "justify_content": null,
            "justify_items": null,
            "left": null,
            "margin": null,
            "max_height": null,
            "max_width": null,
            "min_height": null,
            "min_width": null,
            "object_fit": null,
            "object_position": null,
            "order": null,
            "overflow": null,
            "overflow_x": null,
            "overflow_y": null,
            "padding": null,
            "right": null,
            "top": null,
            "visibility": null,
            "width": null
          }
        },
        "4afedce7f7704531a80f9532f392d8b0": {
          "model_module": "@jupyter-widgets/controls",
          "model_name": "DescriptionStyleModel",
          "model_module_version": "1.5.0",
          "state": {
            "_model_module": "@jupyter-widgets/controls",
            "_model_module_version": "1.5.0",
            "_model_name": "DescriptionStyleModel",
            "_view_count": null,
            "_view_module": "@jupyter-widgets/base",
            "_view_module_version": "1.2.0",
            "_view_name": "StyleView",
            "description_width": ""
          }
        },
        "ffdb9bbc914a467b9f6229c2415f6cde": {
          "model_module": "@jupyter-widgets/controls",
          "model_name": "ButtonStyleModel",
          "model_module_version": "1.5.0",
          "state": {
            "_model_module": "@jupyter-widgets/controls",
            "_model_module_version": "1.5.0",
            "_model_name": "ButtonStyleModel",
            "_view_count": null,
            "_view_module": "@jupyter-widgets/base",
            "_view_module_version": "1.2.0",
            "_view_name": "StyleView",
            "button_color": null,
            "font_weight": ""
          }
        },
        "0dbe047c0f70471bbc3d32929f25f176": {
          "model_module": "@jupyter-widgets/controls",
          "model_name": "ButtonStyleModel",
          "model_module_version": "1.5.0",
          "state": {
            "_model_module": "@jupyter-widgets/controls",
            "_model_module_version": "1.5.0",
            "_model_name": "ButtonStyleModel",
            "_view_count": null,
            "_view_module": "@jupyter-widgets/base",
            "_view_module_version": "1.2.0",
            "_view_name": "StyleView",
            "button_color": null,
            "font_weight": ""
          }
        },
        "c8245bae3bcc4821947dfb317d6d5fe4": {
          "model_module": "@jupyter-widgets/controls",
          "model_name": "ButtonStyleModel",
          "model_module_version": "1.5.0",
          "state": {
            "_model_module": "@jupyter-widgets/controls",
            "_model_module_version": "1.5.0",
            "_model_name": "ButtonStyleModel",
            "_view_count": null,
            "_view_module": "@jupyter-widgets/base",
            "_view_module_version": "1.2.0",
            "_view_name": "StyleView",
            "button_color": null,
            "font_weight": ""
          }
        },
        "2e9ae6906a9f42d1866fafcc009d65c7": {
          "model_module": "@jupyter-widgets/controls",
          "model_name": "ButtonStyleModel",
          "model_module_version": "1.5.0",
          "state": {
            "_model_module": "@jupyter-widgets/controls",
            "_model_module_version": "1.5.0",
            "_model_name": "ButtonStyleModel",
            "_view_count": null,
            "_view_module": "@jupyter-widgets/base",
            "_view_module_version": "1.2.0",
            "_view_name": "StyleView",
            "button_color": null,
            "font_weight": ""
          }
        },
        "ecfc481171fd492f9b0aaf1e746790ff": {
          "model_module": "@jupyter-widgets/controls",
          "model_name": "ButtonStyleModel",
          "model_module_version": "1.5.0",
          "state": {
            "_model_module": "@jupyter-widgets/controls",
            "_model_module_version": "1.5.0",
            "_model_name": "ButtonStyleModel",
            "_view_count": null,
            "_view_module": "@jupyter-widgets/base",
            "_view_module_version": "1.2.0",
            "_view_name": "StyleView",
            "button_color": null,
            "font_weight": ""
          }
        },
        "aa4015e9ff284717954553e9e2755730": {
          "model_module": "@jupyter-widgets/controls",
          "model_name": "HTMLModel",
          "model_module_version": "1.5.0",
          "state": {
            "_dom_classes": [],
            "_model_module": "@jupyter-widgets/controls",
            "_model_module_version": "1.5.0",
            "_model_name": "HTMLModel",
            "_view_count": null,
            "_view_module": "@jupyter-widgets/controls",
            "_view_module_version": "1.5.0",
            "_view_name": "HTMLView",
            "description": "",
            "description_tooltip": null,
            "layout": "IPY_MODEL_10df5c87c04d41a4ac5f1c8fc8957810",
            "placeholder": "​",
            "style": "IPY_MODEL_628df255f4ad45e4a941234232ae23ea",
            "value": "<h2>/content/ilt/data/Oslo samples/GO-He1</h2>"
          }
        },
        "2037519d8de74e1d99ba912e6b8bfa67": {
          "model_module": "@jupyter-widgets/controls",
          "model_name": "ButtonModel",
          "model_module_version": "1.5.0",
          "state": {
            "_dom_classes": [],
            "_model_module": "@jupyter-widgets/controls",
            "_model_module_version": "1.5.0",
            "_model_name": "ButtonModel",
            "_view_count": null,
            "_view_module": "@jupyter-widgets/controls",
            "_view_module_version": "1.5.0",
            "_view_name": "ButtonView",
            "button_style": "primary",
            "description": "..",
            "disabled": false,
            "icon": "",
            "layout": "IPY_MODEL_8505cad9027b4275bc85c99735d9cb82",
            "style": "IPY_MODEL_1e27502c20454672a56bc70cb031cb4d",
            "tooltip": ""
          }
        },
        "981a1d94884e43acb28269daa2c1082f": {
          "model_module": "@jupyter-widgets/controls",
          "model_name": "ButtonModel",
          "model_module_version": "1.5.0",
          "state": {
            "_dom_classes": [],
            "_model_module": "@jupyter-widgets/controls",
            "_model_module_version": "1.5.0",
            "_model_name": "ButtonModel",
            "_view_count": null,
            "_view_module": "@jupyter-widgets/controls",
            "_view_module_version": "1.5.0",
            "_view_name": "ButtonView",
            "button_style": "success",
            "description": "GO-He1_150_1.DLTS",
            "disabled": false,
            "icon": "",
            "layout": "IPY_MODEL_8505cad9027b4275bc85c99735d9cb82",
            "style": "IPY_MODEL_0b43f5ad8ba14ec088c3c5e8a5ef53f5",
            "tooltip": ""
          }
        },
        "c4e74d606c3f416b893b47455562bab4": {
          "model_module": "@jupyter-widgets/controls",
          "model_name": "ButtonModel",
          "model_module_version": "1.5.0",
          "state": {
            "_dom_classes": [],
            "_model_module": "@jupyter-widgets/controls",
            "_model_module_version": "1.5.0",
            "_model_name": "ButtonModel",
            "_view_count": null,
            "_view_module": "@jupyter-widgets/controls",
            "_view_module_version": "1.5.0",
            "_view_name": "ButtonView",
            "button_style": "success",
            "description": "GO-He1_350_1.DLTS",
            "disabled": false,
            "icon": "",
            "layout": "IPY_MODEL_8505cad9027b4275bc85c99735d9cb82",
            "style": "IPY_MODEL_4e430f1b3387466786e3f436ee9765e7",
            "tooltip": ""
          }
        },
        "6235975580f74b1fb1bd7e3af6eadc78": {
          "model_module": "@jupyter-widgets/controls",
          "model_name": "ButtonModel",
          "model_module_version": "1.5.0",
          "state": {
            "_dom_classes": [],
            "_model_module": "@jupyter-widgets/controls",
            "_model_module_version": "1.5.0",
            "_model_name": "ButtonModel",
            "_view_count": null,
            "_view_module": "@jupyter-widgets/controls",
            "_view_module_version": "1.5.0",
            "_view_name": "ButtonView",
            "button_style": "success",
            "description": "GO-He1_350_2.DLTS",
            "disabled": false,
            "icon": "",
            "layout": "IPY_MODEL_8505cad9027b4275bc85c99735d9cb82",
            "style": "IPY_MODEL_bc2dbec4d43f46cb89e0e5772d4e6c46",
            "tooltip": ""
          }
        },
        "f4fe19445a344e13813efb12dae41b4e": {
          "model_module": "@jupyter-widgets/controls",
          "model_name": "ButtonModel",
          "model_module_version": "1.5.0",
          "state": {
            "_dom_classes": [],
            "_model_module": "@jupyter-widgets/controls",
            "_model_module_version": "1.5.0",
            "_model_name": "ButtonModel",
            "_view_count": null,
            "_view_module": "@jupyter-widgets/controls",
            "_view_module_version": "1.5.0",
            "_view_name": "ButtonView",
            "button_style": "success",
            "description": "GO-He1_150_2.DLTS",
            "disabled": false,
            "icon": "",
            "layout": "IPY_MODEL_8505cad9027b4275bc85c99735d9cb82",
            "style": "IPY_MODEL_0663a28d97e84d6c8e77a8f405737d08",
            "tooltip": ""
          }
        },
        "57868125f44d43b9b3084460583c7312": {
          "model_module": "@jupyter-widgets/controls",
          "model_name": "ButtonModel",
          "model_module_version": "1.5.0",
          "state": {
            "_dom_classes": [],
            "_model_module": "@jupyter-widgets/controls",
            "_model_module_version": "1.5.0",
            "_model_name": "ButtonModel",
            "_view_count": null,
            "_view_module": "@jupyter-widgets/controls",
            "_view_module_version": "1.5.0",
            "_view_name": "ButtonView",
            "button_style": "success",
            "description": "GO-He1_15_2.DLTS",
            "disabled": false,
            "icon": "",
            "layout": "IPY_MODEL_8505cad9027b4275bc85c99735d9cb82",
            "style": "IPY_MODEL_de16c1a9093543b7ae69593c0fb55f17",
            "tooltip": ""
          }
        },
        "4b35e03d6d434f0fb4c777737be2585d": {
          "model_module": "@jupyter-widgets/controls",
          "model_name": "ButtonModel",
          "model_module_version": "1.5.0",
          "state": {
            "_dom_classes": [],
            "_model_module": "@jupyter-widgets/controls",
            "_model_module_version": "1.5.0",
            "_model_name": "ButtonModel",
            "_view_count": null,
            "_view_module": "@jupyter-widgets/controls",
            "_view_module_version": "1.5.0",
            "_view_name": "ButtonView",
            "button_style": "success",
            "description": "GO-He1_250_1.DLTS",
            "disabled": false,
            "icon": "",
            "layout": "IPY_MODEL_8505cad9027b4275bc85c99735d9cb82",
            "style": "IPY_MODEL_25ae325324c54186ac9b4b99e2a7afc9",
            "tooltip": ""
          }
        },
        "1c0a2c6cd20e44b8aebf659f0d4e57e7": {
          "model_module": "@jupyter-widgets/controls",
          "model_name": "ButtonModel",
          "model_module_version": "1.5.0",
          "state": {
            "_dom_classes": [],
            "_model_module": "@jupyter-widgets/controls",
            "_model_module_version": "1.5.0",
            "_model_name": "ButtonModel",
            "_view_count": null,
            "_view_module": "@jupyter-widgets/controls",
            "_view_module_version": "1.5.0",
            "_view_name": "ButtonView",
            "button_style": "success",
            "description": "GO-He1_50_1.DLTS",
            "disabled": false,
            "icon": "",
            "layout": "IPY_MODEL_8505cad9027b4275bc85c99735d9cb82",
            "style": "IPY_MODEL_a603399380a8456697f58b0fbb736ed9",
            "tooltip": ""
          }
        },
        "f550f723b04d4372931a828418a49d39": {
          "model_module": "@jupyter-widgets/controls",
          "model_name": "ButtonModel",
          "model_module_version": "1.5.0",
          "state": {
            "_dom_classes": [],
            "_model_module": "@jupyter-widgets/controls",
            "_model_module_version": "1.5.0",
            "_model_name": "ButtonModel",
            "_view_count": null,
            "_view_module": "@jupyter-widgets/controls",
            "_view_module_version": "1.5.0",
            "_view_name": "ButtonView",
            "button_style": "success",
            "description": "GO-He1_15_1.DLTS",
            "disabled": false,
            "icon": "",
            "layout": "IPY_MODEL_8505cad9027b4275bc85c99735d9cb82",
            "style": "IPY_MODEL_8e1be7c436e944d6895d75d21e802bf5",
            "tooltip": ""
          }
        },
        "10df5c87c04d41a4ac5f1c8fc8957810": {
          "model_module": "@jupyter-widgets/base",
          "model_name": "LayoutModel",
          "model_module_version": "1.2.0",
          "state": {
            "_model_module": "@jupyter-widgets/base",
            "_model_module_version": "1.2.0",
            "_model_name": "LayoutModel",
            "_view_count": null,
            "_view_module": "@jupyter-widgets/base",
            "_view_module_version": "1.2.0",
            "_view_name": "LayoutView",
            "align_content": null,
            "align_items": null,
            "align_self": null,
            "border": null,
            "bottom": null,
            "display": null,
            "flex": null,
            "flex_flow": null,
            "grid_area": null,
            "grid_auto_columns": null,
            "grid_auto_flow": null,
            "grid_auto_rows": null,
            "grid_column": null,
            "grid_gap": null,
            "grid_row": null,
            "grid_template_areas": null,
            "grid_template_columns": null,
            "grid_template_rows": null,
            "height": null,
            "justify_content": null,
            "justify_items": null,
            "left": null,
            "margin": null,
            "max_height": null,
            "max_width": null,
            "min_height": null,
            "min_width": null,
            "object_fit": null,
            "object_position": null,
            "order": null,
            "overflow": null,
            "overflow_x": null,
            "overflow_y": null,
            "padding": null,
            "right": null,
            "top": null,
            "visibility": null,
            "width": null
          }
        },
        "628df255f4ad45e4a941234232ae23ea": {
          "model_module": "@jupyter-widgets/controls",
          "model_name": "DescriptionStyleModel",
          "model_module_version": "1.5.0",
          "state": {
            "_model_module": "@jupyter-widgets/controls",
            "_model_module_version": "1.5.0",
            "_model_name": "DescriptionStyleModel",
            "_view_count": null,
            "_view_module": "@jupyter-widgets/base",
            "_view_module_version": "1.2.0",
            "_view_name": "StyleView",
            "description_width": ""
          }
        },
        "1e27502c20454672a56bc70cb031cb4d": {
          "model_module": "@jupyter-widgets/controls",
          "model_name": "ButtonStyleModel",
          "model_module_version": "1.5.0",
          "state": {
            "_model_module": "@jupyter-widgets/controls",
            "_model_module_version": "1.5.0",
            "_model_name": "ButtonStyleModel",
            "_view_count": null,
            "_view_module": "@jupyter-widgets/base",
            "_view_module_version": "1.2.0",
            "_view_name": "StyleView",
            "button_color": null,
            "font_weight": ""
          }
        },
        "0b43f5ad8ba14ec088c3c5e8a5ef53f5": {
          "model_module": "@jupyter-widgets/controls",
          "model_name": "ButtonStyleModel",
          "model_module_version": "1.5.0",
          "state": {
            "_model_module": "@jupyter-widgets/controls",
            "_model_module_version": "1.5.0",
            "_model_name": "ButtonStyleModel",
            "_view_count": null,
            "_view_module": "@jupyter-widgets/base",
            "_view_module_version": "1.2.0",
            "_view_name": "StyleView",
            "button_color": null,
            "font_weight": ""
          }
        },
        "4e430f1b3387466786e3f436ee9765e7": {
          "model_module": "@jupyter-widgets/controls",
          "model_name": "ButtonStyleModel",
          "model_module_version": "1.5.0",
          "state": {
            "_model_module": "@jupyter-widgets/controls",
            "_model_module_version": "1.5.0",
            "_model_name": "ButtonStyleModel",
            "_view_count": null,
            "_view_module": "@jupyter-widgets/base",
            "_view_module_version": "1.2.0",
            "_view_name": "StyleView",
            "button_color": null,
            "font_weight": ""
          }
        },
        "bc2dbec4d43f46cb89e0e5772d4e6c46": {
          "model_module": "@jupyter-widgets/controls",
          "model_name": "ButtonStyleModel",
          "model_module_version": "1.5.0",
          "state": {
            "_model_module": "@jupyter-widgets/controls",
            "_model_module_version": "1.5.0",
            "_model_name": "ButtonStyleModel",
            "_view_count": null,
            "_view_module": "@jupyter-widgets/base",
            "_view_module_version": "1.2.0",
            "_view_name": "StyleView",
            "button_color": null,
            "font_weight": ""
          }
        },
        "0663a28d97e84d6c8e77a8f405737d08": {
          "model_module": "@jupyter-widgets/controls",
          "model_name": "ButtonStyleModel",
          "model_module_version": "1.5.0",
          "state": {
            "_model_module": "@jupyter-widgets/controls",
            "_model_module_version": "1.5.0",
            "_model_name": "ButtonStyleModel",
            "_view_count": null,
            "_view_module": "@jupyter-widgets/base",
            "_view_module_version": "1.2.0",
            "_view_name": "StyleView",
            "button_color": null,
            "font_weight": ""
          }
        },
        "de16c1a9093543b7ae69593c0fb55f17": {
          "model_module": "@jupyter-widgets/controls",
          "model_name": "ButtonStyleModel",
          "model_module_version": "1.5.0",
          "state": {
            "_model_module": "@jupyter-widgets/controls",
            "_model_module_version": "1.5.0",
            "_model_name": "ButtonStyleModel",
            "_view_count": null,
            "_view_module": "@jupyter-widgets/base",
            "_view_module_version": "1.2.0",
            "_view_name": "StyleView",
            "button_color": null,
            "font_weight": ""
          }
        },
        "25ae325324c54186ac9b4b99e2a7afc9": {
          "model_module": "@jupyter-widgets/controls",
          "model_name": "ButtonStyleModel",
          "model_module_version": "1.5.0",
          "state": {
            "_model_module": "@jupyter-widgets/controls",
            "_model_module_version": "1.5.0",
            "_model_name": "ButtonStyleModel",
            "_view_count": null,
            "_view_module": "@jupyter-widgets/base",
            "_view_module_version": "1.2.0",
            "_view_name": "StyleView",
            "button_color": null,
            "font_weight": ""
          }
        },
        "a603399380a8456697f58b0fbb736ed9": {
          "model_module": "@jupyter-widgets/controls",
          "model_name": "ButtonStyleModel",
          "model_module_version": "1.5.0",
          "state": {
            "_model_module": "@jupyter-widgets/controls",
            "_model_module_version": "1.5.0",
            "_model_name": "ButtonStyleModel",
            "_view_count": null,
            "_view_module": "@jupyter-widgets/base",
            "_view_module_version": "1.2.0",
            "_view_name": "StyleView",
            "button_color": null,
            "font_weight": ""
          }
        },
        "8e1be7c436e944d6895d75d21e802bf5": {
          "model_module": "@jupyter-widgets/controls",
          "model_name": "ButtonStyleModel",
          "model_module_version": "1.5.0",
          "state": {
            "_model_module": "@jupyter-widgets/controls",
            "_model_module_version": "1.5.0",
            "_model_name": "ButtonStyleModel",
            "_view_count": null,
            "_view_module": "@jupyter-widgets/base",
            "_view_module_version": "1.2.0",
            "_view_name": "StyleView",
            "button_color": null,
            "font_weight": ""
          }
        },
        "5fc5a4489f71431e8c63103ace71238f": {
          "model_module": "@jupyter-widgets/controls",
          "model_name": "HTMLModel",
          "model_module_version": "1.5.0",
          "state": {
            "_dom_classes": [],
            "_model_module": "@jupyter-widgets/controls",
            "_model_module_version": "1.5.0",
            "_model_name": "HTMLModel",
            "_view_count": null,
            "_view_module": "@jupyter-widgets/controls",
            "_view_module_version": "1.5.0",
            "_view_name": "HTMLView",
            "description": "",
            "description_tooltip": null,
            "layout": "IPY_MODEL_162c588886fa48aba7887ff79f7330a1",
            "placeholder": "​",
            "style": "IPY_MODEL_914c15214a404a5e90ebcfdda38a8509",
            "value": "<h2>/content/ilt/data/Oslo samples/GO-He1/GO-He1_150_2.DLTS</h2>"
          }
        },
        "162c588886fa48aba7887ff79f7330a1": {
          "model_module": "@jupyter-widgets/base",
          "model_name": "LayoutModel",
          "model_module_version": "1.2.0",
          "state": {
            "_model_module": "@jupyter-widgets/base",
            "_model_module_version": "1.2.0",
            "_model_name": "LayoutModel",
            "_view_count": null,
            "_view_module": "@jupyter-widgets/base",
            "_view_module_version": "1.2.0",
            "_view_name": "LayoutView",
            "align_content": null,
            "align_items": null,
            "align_self": null,
            "border": null,
            "bottom": null,
            "display": null,
            "flex": null,
            "flex_flow": null,
            "grid_area": null,
            "grid_auto_columns": null,
            "grid_auto_flow": null,
            "grid_auto_rows": null,
            "grid_column": null,
            "grid_gap": null,
            "grid_row": null,
            "grid_template_areas": null,
            "grid_template_columns": null,
            "grid_template_rows": null,
            "height": null,
            "justify_content": null,
            "justify_items": null,
            "left": null,
            "margin": null,
            "max_height": null,
            "max_width": null,
            "min_height": null,
            "min_width": null,
            "object_fit": null,
            "object_position": null,
            "order": null,
            "overflow": null,
            "overflow_x": null,
            "overflow_y": null,
            "padding": null,
            "right": null,
            "top": null,
            "visibility": null,
            "width": null
          }
        },
        "914c15214a404a5e90ebcfdda38a8509": {
          "model_module": "@jupyter-widgets/controls",
          "model_name": "DescriptionStyleModel",
          "model_module_version": "1.5.0",
          "state": {
            "_model_module": "@jupyter-widgets/controls",
            "_model_module_version": "1.5.0",
            "_model_name": "DescriptionStyleModel",
            "_view_count": null,
            "_view_module": "@jupyter-widgets/base",
            "_view_module_version": "1.2.0",
            "_view_name": "StyleView",
            "description_width": ""
          }
        },
        "88f2a76f424d4f85a7102d7ad8c7964c": {
          "model_module": "@jupyter-widgets/controls",
          "model_name": "HBoxModel",
          "model_module_version": "1.5.0",
          "state": {
            "_dom_classes": [],
            "_model_module": "@jupyter-widgets/controls",
            "_model_module_version": "1.5.0",
            "_model_name": "HBoxModel",
            "_view_count": null,
            "_view_module": "@jupyter-widgets/controls",
            "_view_module_version": "1.5.0",
            "_view_name": "HBoxView",
            "box_style": "",
            "children": [
              "IPY_MODEL_063f72cfb78b4afaa4fa53c266d0a5e1",
              "IPY_MODEL_a3ccb89d55414a3fb3c66d88ca1f6618",
              "IPY_MODEL_c216ff8f244c459a9aa90593f644bc43"
            ],
            "layout": "IPY_MODEL_6268fb2d08e048e0883b115e53377c4e"
          }
        },
        "063f72cfb78b4afaa4fa53c266d0a5e1": {
          "model_module": "@jupyter-widgets/controls",
          "model_name": "VBoxModel",
          "model_module_version": "1.5.0",
          "state": {
            "_dom_classes": [],
            "_model_module": "@jupyter-widgets/controls",
            "_model_module_version": "1.5.0",
            "_model_name": "VBoxModel",
            "_view_count": null,
            "_view_module": "@jupyter-widgets/controls",
            "_view_module_version": "1.5.0",
            "_view_name": "VBoxView",
            "box_style": "",
            "children": [
              "IPY_MODEL_3d82a918380546ae98929f1bda4680c8",
              "IPY_MODEL_c9ae7598bd2745a488f08ea102aa9d4c",
              "IPY_MODEL_24e897ae585f4c9fb73982e0551027e9"
            ],
            "layout": "IPY_MODEL_b1190d091d7d4f98b1205a2e66186ef7"
          }
        },
        "a3ccb89d55414a3fb3c66d88ca1f6618": {
          "model_module": "@jupyter-widgets/controls",
          "model_name": "VBoxModel",
          "model_module_version": "1.5.0",
          "state": {
            "_dom_classes": [],
            "_model_module": "@jupyter-widgets/controls",
            "_model_module_version": "1.5.0",
            "_model_name": "VBoxModel",
            "_view_count": null,
            "_view_module": "@jupyter-widgets/controls",
            "_view_module_version": "1.5.0",
            "_view_name": "VBoxView",
            "box_style": "",
            "children": [
              "IPY_MODEL_78199f8096744c38838e022384cffa80",
              "IPY_MODEL_61dae7c2f3464a478b401bdfe9237863",
              "IPY_MODEL_2860e1db3d8041a385dee9830218962a",
              "IPY_MODEL_aade8dd93fa34330beff79a99d212bd1",
              "IPY_MODEL_25e79820e9884ea6ab451bbbf9726358"
            ],
            "layout": "IPY_MODEL_85cc28b900a942bd9ffe6267766a93d3"
          }
        },
        "c216ff8f244c459a9aa90593f644bc43": {
          "model_module": "@jupyter-widgets/controls",
          "model_name": "VBoxModel",
          "model_module_version": "1.5.0",
          "state": {
            "_dom_classes": [],
            "_model_module": "@jupyter-widgets/controls",
            "_model_module_version": "1.5.0",
            "_model_name": "VBoxModel",
            "_view_count": null,
            "_view_module": "@jupyter-widgets/controls",
            "_view_module_version": "1.5.0",
            "_view_name": "VBoxView",
            "box_style": "",
            "children": [
              "IPY_MODEL_2f7a7fe3f2374d24bb557a79a8e4e938",
              "IPY_MODEL_f5651f5fdecf4ee9a22747e1a13fe47f",
              "IPY_MODEL_59181cdb41b841b2bf351b44e369b2e9",
              "IPY_MODEL_04ff1343a8084c779c546f597a72f35d",
              "IPY_MODEL_dc6dd29f15eb49b2b877ecd2ba49bf41"
            ],
            "layout": "IPY_MODEL_cde01d72894649829bc5dabf4b9680db"
          }
        },
        "6268fb2d08e048e0883b115e53377c4e": {
          "model_module": "@jupyter-widgets/base",
          "model_name": "LayoutModel",
          "model_module_version": "1.2.0",
          "state": {
            "_model_module": "@jupyter-widgets/base",
            "_model_module_version": "1.2.0",
            "_model_name": "LayoutModel",
            "_view_count": null,
            "_view_module": "@jupyter-widgets/base",
            "_view_module_version": "1.2.0",
            "_view_name": "LayoutView",
            "align_content": null,
            "align_items": null,
            "align_self": null,
            "border": null,
            "bottom": null,
            "display": null,
            "flex": null,
            "flex_flow": null,
            "grid_area": null,
            "grid_auto_columns": null,
            "grid_auto_flow": null,
            "grid_auto_rows": null,
            "grid_column": null,
            "grid_gap": null,
            "grid_row": null,
            "grid_template_areas": null,
            "grid_template_columns": null,
            "grid_template_rows": null,
            "height": null,
            "justify_content": null,
            "justify_items": null,
            "left": null,
            "margin": null,
            "max_height": null,
            "max_width": null,
            "min_height": null,
            "min_width": null,
            "object_fit": null,
            "object_position": null,
            "order": null,
            "overflow": null,
            "overflow_x": null,
            "overflow_y": null,
            "padding": null,
            "right": null,
            "top": null,
            "visibility": null,
            "width": null
          }
        },
        "3d82a918380546ae98929f1bda4680c8": {
          "model_module": "@jupyter-widgets/controls",
          "model_name": "SelectMultipleModel",
          "model_module_version": "1.5.0",
          "state": {
            "_dom_classes": [],
            "_model_module": "@jupyter-widgets/controls",
            "_model_module_version": "1.5.0",
            "_model_name": "SelectMultipleModel",
            "_options_labels": [
              "FISTA",
              "L2",
              "L1+L2",
              "Contin",
              "reSpect"
            ],
            "_view_count": null,
            "_view_module": "@jupyter-widgets/controls",
            "_view_module_version": "1.5.0",
            "_view_name": "SelectMultipleView",
            "description": "Methods:",
            "description_tooltip": null,
            "disabled": false,
            "index": [
              3
            ],
            "layout": "IPY_MODEL_10420ecc54ed40a9b7a6f17029e83320",
            "rows": 5,
            "style": "IPY_MODEL_1b3edd1560da429a87cc3b9536990422"
          }
        },
        "c9ae7598bd2745a488f08ea102aa9d4c": {
          "model_module": "@jupyter-widgets/controls",
          "model_name": "IntTextModel",
          "model_module_version": "1.5.0",
          "state": {
            "_dom_classes": [],
            "_model_module": "@jupyter-widgets/controls",
            "_model_module_version": "1.5.0",
            "_model_name": "IntTextModel",
            "_view_count": null,
            "_view_module": "@jupyter-widgets/controls",
            "_view_module_version": "1.5.0",
            "_view_name": "IntTextView",
            "continuous_update": false,
            "description": "$N_f=$",
            "description_tooltip": null,
            "disabled": false,
            "layout": "IPY_MODEL_8b9f9d8beda14eb992fec7e29f5c1e12",
            "step": 1,
            "style": "IPY_MODEL_76579f76f4b84cc99b8012072151a0b3",
            "value": 100
          }
        },
        "24e897ae585f4c9fb73982e0551027e9": {
          "model_module": "@jupyter-widgets/controls",
          "model_name": "BoundedFloatTextModel",
          "model_module_version": "1.5.0",
          "state": {
            "_dom_classes": [],
            "_model_module": "@jupyter-widgets/controls",
            "_model_module_version": "1.5.0",
            "_model_name": "BoundedFloatTextModel",
            "_view_count": null,
            "_view_module": "@jupyter-widgets/controls",
            "_view_module_version": "1.5.0",
            "_view_name": "FloatTextView",
            "continuous_update": false,
            "description": "Time step, ms",
            "description_tooltip": null,
            "disabled": false,
            "layout": "IPY_MODEL_7e30bc2f66de45d1a42b61335cc23326",
            "max": 1000,
            "min": 0,
            "step": 1,
            "style": "IPY_MODEL_3baa73a642624c85ac313be987614461",
            "value": 150
          }
        },
        "b1190d091d7d4f98b1205a2e66186ef7": {
          "model_module": "@jupyter-widgets/base",
          "model_name": "LayoutModel",
          "model_module_version": "1.2.0",
          "state": {
            "_model_module": "@jupyter-widgets/base",
            "_model_module_version": "1.2.0",
            "_model_name": "LayoutModel",
            "_view_count": null,
            "_view_module": "@jupyter-widgets/base",
            "_view_module_version": "1.2.0",
            "_view_name": "LayoutView",
            "align_content": null,
            "align_items": null,
            "align_self": null,
            "border": null,
            "bottom": null,
            "display": null,
            "flex": null,
            "flex_flow": null,
            "grid_area": null,
            "grid_auto_columns": null,
            "grid_auto_flow": null,
            "grid_auto_rows": null,
            "grid_column": null,
            "grid_gap": null,
            "grid_row": null,
            "grid_template_areas": null,
            "grid_template_columns": null,
            "grid_template_rows": null,
            "height": null,
            "justify_content": null,
            "justify_items": null,
            "left": null,
            "margin": null,
            "max_height": null,
            "max_width": null,
            "min_height": null,
            "min_width": null,
            "object_fit": null,
            "object_position": null,
            "order": null,
            "overflow": null,
            "overflow_x": null,
            "overflow_y": null,
            "padding": null,
            "right": null,
            "top": null,
            "visibility": null,
            "width": null
          }
        },
        "78199f8096744c38838e022384cffa80": {
          "model_module": "@jupyter-widgets/controls",
          "model_name": "FloatLogSliderModel",
          "model_module_version": "1.5.0",
          "state": {
            "_dom_classes": [],
            "_model_module": "@jupyter-widgets/controls",
            "_model_module_version": "1.5.0",
            "_model_name": "FloatLogSliderModel",
            "_view_count": null,
            "_view_module": "@jupyter-widgets/controls",
            "_view_module_version": "1.5.0",
            "_view_name": "FloatLogSliderView",
            "base": 10,
            "continuous_update": true,
            "description": "FISTA: $\\lambda_1$",
            "description_tooltip": null,
            "disabled": false,
            "layout": "IPY_MODEL_256df129a4b647ea8df6999b4ee4b09a",
            "max": 1,
            "min": -10,
            "orientation": "horizontal",
            "readout": true,
            "readout_format": ".3g",
            "step": 0.2,
            "style": "IPY_MODEL_8ee76869497f4f7a91541a7942929a18",
            "value": 1e-8
          }
        },
        "61dae7c2f3464a478b401bdfe9237863": {
          "model_module": "@jupyter-widgets/controls",
          "model_name": "FloatLogSliderModel",
          "model_module_version": "1.5.0",
          "state": {
            "_dom_classes": [],
            "_model_module": "@jupyter-widgets/controls",
            "_model_module_version": "1.5.0",
            "_model_name": "FloatLogSliderModel",
            "_view_count": null,
            "_view_module": "@jupyter-widgets/controls",
            "_view_module_version": "1.5.0",
            "_view_name": "FloatLogSliderView",
            "base": 10,
            "continuous_update": true,
            "description": "L2: $\\lambda_2$",
            "description_tooltip": null,
            "disabled": false,
            "layout": "IPY_MODEL_719fb31c8bb04bfca8c4e353de14a43a",
            "max": 1,
            "min": -10,
            "orientation": "horizontal",
            "readout": true,
            "readout_format": ".3g",
            "step": 0.2,
            "style": "IPY_MODEL_b648cf3b8f10400089fba56de54ac0d1",
            "value": 1e-8
          }
        },
        "2860e1db3d8041a385dee9830218962a": {
          "model_module": "@jupyter-widgets/controls",
          "model_name": "FloatLogSliderModel",
          "model_module_version": "1.5.0",
          "state": {
            "_dom_classes": [],
            "_model_module": "@jupyter-widgets/controls",
            "_model_module_version": "1.5.0",
            "_model_name": "FloatLogSliderModel",
            "_view_count": null,
            "_view_module": "@jupyter-widgets/controls",
            "_view_module_version": "1.5.0",
            "_view_name": "FloatLogSliderView",
            "base": 10,
            "continuous_update": true,
            "description": "Contin: $\\lambda_{\\text{C}}$",
            "description_tooltip": null,
            "disabled": false,
            "layout": "IPY_MODEL_428b4653d54f46d9827407f24077a1dd",
            "max": 2,
            "min": -8,
            "orientation": "horizontal",
            "readout": true,
            "readout_format": ".3g",
            "step": 0.2,
            "style": "IPY_MODEL_c39c4943ed4346a4af503264ecbf6a21",
            "value": 0.1
          }
        },
        "aade8dd93fa34330beff79a99d212bd1": {
          "model_module": "@jupyter-widgets/controls",
          "model_name": "FloatLogSliderModel",
          "model_module_version": "1.5.0",
          "state": {
            "_dom_classes": [],
            "_model_module": "@jupyter-widgets/controls",
            "_model_module_version": "1.5.0",
            "_model_name": "FloatLogSliderModel",
            "_view_count": null,
            "_view_module": "@jupyter-widgets/controls",
            "_view_module_version": "1.5.0",
            "_view_name": "FloatLogSliderView",
            "base": 10,
            "continuous_update": true,
            "description": "reSpect: $\\lambda_{\\text{S}}$",
            "description_tooltip": null,
            "disabled": false,
            "layout": "IPY_MODEL_869957b2c7d248cca547c1b899f96e12",
            "max": 2,
            "min": -12,
            "orientation": "horizontal",
            "readout": true,
            "readout_format": ".3g",
            "step": 0.2,
            "style": "IPY_MODEL_6b043677298d4071ac541169d9a853d2",
            "value": 0.01
          }
        },
        "25e79820e9884ea6ab451bbbf9726358": {
          "model_module": "@jupyter-widgets/controls",
          "model_name": "IntRangeSliderModel",
          "model_module_version": "1.5.0",
          "state": {
            "_dom_classes": [],
            "_model_module": "@jupyter-widgets/controls",
            "_model_module_version": "1.5.0",
            "_model_name": "IntRangeSliderModel",
            "_view_count": null,
            "_view_module": "@jupyter-widgets/controls",
            "_view_module_version": "1.5.0",
            "_view_name": "IntRangeSliderView",
            "continuous_update": false,
            "description": "$10^{a}\\div 10^{b}$:",
            "description_tooltip": null,
            "disabled": false,
            "layout": "IPY_MODEL_d375aa3d74404985a3f122e3c7fceb76",
            "max": 5,
            "min": -5,
            "orientation": "horizontal",
            "readout": true,
            "readout_format": "d",
            "step": 1,
            "style": "IPY_MODEL_1dd5de9101e140698966028d2282d1a9",
            "value": [
              -2,
              2
            ]
          }
        },
        "85cc28b900a942bd9ffe6267766a93d3": {
          "model_module": "@jupyter-widgets/base",
          "model_name": "LayoutModel",
          "model_module_version": "1.2.0",
          "state": {
            "_model_module": "@jupyter-widgets/base",
            "_model_module_version": "1.2.0",
            "_model_name": "LayoutModel",
            "_view_count": null,
            "_view_module": "@jupyter-widgets/base",
            "_view_module_version": "1.2.0",
            "_view_name": "LayoutView",
            "align_content": null,
            "align_items": null,
            "align_self": null,
            "border": null,
            "bottom": null,
            "display": null,
            "flex": null,
            "flex_flow": null,
            "grid_area": null,
            "grid_auto_columns": null,
            "grid_auto_flow": null,
            "grid_auto_rows": null,
            "grid_column": null,
            "grid_gap": null,
            "grid_row": null,
            "grid_template_areas": null,
            "grid_template_columns": null,
            "grid_template_rows": null,
            "height": null,
            "justify_content": null,
            "justify_items": null,
            "left": null,
            "margin": null,
            "max_height": null,
            "max_width": null,
            "min_height": null,
            "min_width": null,
            "object_fit": null,
            "object_position": null,
            "order": null,
            "overflow": null,
            "overflow_x": null,
            "overflow_y": null,
            "padding": null,
            "right": null,
            "top": null,
            "visibility": null,
            "width": null
          }
        },
        "2f7a7fe3f2374d24bb557a79a8e4e938": {
          "model_module": "@jupyter-widgets/controls",
          "model_name": "CheckboxModel",
          "model_module_version": "1.5.0",
          "state": {
            "_dom_classes": [],
            "_model_module": "@jupyter-widgets/controls",
            "_model_module_version": "1.5.0",
            "_model_name": "CheckboxModel",
            "_view_count": null,
            "_view_module": "@jupyter-widgets/controls",
            "_view_module_version": "1.5.0",
            "_view_name": "CheckboxView",
            "description": "Use L-Curve optimal?",
            "description_tooltip": null,
            "disabled": false,
            "indent": true,
            "layout": "IPY_MODEL_5271885c12294b93bb6aa31541080f96",
            "style": "IPY_MODEL_3189b5fedfbb44a48f260fe11ad352cf",
            "value": false
          }
        },
        "f5651f5fdecf4ee9a22747e1a13fe47f": {
          "model_module": "@jupyter-widgets/controls",
          "model_name": "CheckboxModel",
          "model_module_version": "1.5.0",
          "state": {
            "_dom_classes": [],
            "_model_module": "@jupyter-widgets/controls",
            "_model_module_version": "1.5.0",
            "_model_name": "CheckboxModel",
            "_view_count": null,
            "_view_module": "@jupyter-widgets/controls",
            "_view_module_version": "1.5.0",
            "_view_name": "CheckboxView",
            "description": "Draw Arrhenius instead DLTS?",
            "description_tooltip": null,
            "disabled": false,
            "indent": true,
            "layout": "IPY_MODEL_812b654728bc42a597c6a14d27ed8e00",
            "style": "IPY_MODEL_9045ffdfb0884da2986b3e7144324a35",
            "value": true
          }
        },
        "59181cdb41b841b2bf351b44e369b2e9": {
          "model_module": "@jupyter-widgets/controls",
          "model_name": "ToggleButtonModel",
          "model_module_version": "1.5.0",
          "state": {
            "_dom_classes": [],
            "_model_module": "@jupyter-widgets/controls",
            "_model_module_version": "1.5.0",
            "_model_name": "ToggleButtonModel",
            "_view_count": null,
            "_view_module": "@jupyter-widgets/controls",
            "_view_module_version": "1.5.0",
            "_view_name": "ToggleButtonView",
            "button_style": "success",
            "description": "Hide graphics?",
            "description_tooltip": null,
            "disabled": false,
            "icon": "eye-slash",
            "layout": "IPY_MODEL_b698bf22ebc844bdbaa5b3d328963c0b",
            "style": "IPY_MODEL_1341c8f4096d40f89711acba5d1b5319",
            "tooltip": "Hides graphics",
            "value": true
          }
        },
        "04ff1343a8084c779c546f597a72f35d": {
          "model_module": "@jupyter-widgets/controls",
          "model_name": "ToggleButtonModel",
          "model_module_version": "1.5.0",
          "state": {
            "_dom_classes": [],
            "_model_module": "@jupyter-widgets/controls",
            "_model_module_version": "1.5.0",
            "_model_name": "ToggleButtonModel",
            "_view_count": null,
            "_view_module": "@jupyter-widgets/controls",
            "_view_module_version": "1.5.0",
            "_view_name": "ToggleButtonView",
            "button_style": "info",
            "description": "Compute L-curve?",
            "description_tooltip": null,
            "disabled": false,
            "icon": "calculator",
            "layout": "IPY_MODEL_86cd30053e8649c6869d25c8c9df00e4",
            "style": "IPY_MODEL_51acd2773fe14d9fbd428e5e82bf38ce",
            "tooltip": "Plots L-curve to choose best value of regularization parameter of L2 reg. method",
            "value": false
          }
        },
        "dc6dd29f15eb49b2b877ecd2ba49bf41": {
          "model_module": "@jupyter-widgets/controls",
          "model_name": "ToggleButtonModel",
          "model_module_version": "1.5.0",
          "state": {
            "_dom_classes": [],
            "_model_module": "@jupyter-widgets/controls",
            "_model_module_version": "1.5.0",
            "_model_name": "ToggleButtonModel",
            "_view_count": null,
            "_view_module": "@jupyter-widgets/controls",
            "_view_module_version": "1.5.0",
            "_view_name": "ToggleButtonView",
            "button_style": "warning",
            "description": "Plot heatmap?",
            "description_tooltip": null,
            "disabled": false,
            "icon": "braille",
            "layout": "IPY_MODEL_1a9d6dbc31284548a33b7415310a7449",
            "style": "IPY_MODEL_b1816315584f484aa2ab999661e80089",
            "tooltip": "Plots heatmap of data from choosed file",
            "value": true
          }
        },
        "cde01d72894649829bc5dabf4b9680db": {
          "model_module": "@jupyter-widgets/base",
          "model_name": "LayoutModel",
          "model_module_version": "1.2.0",
          "state": {
            "_model_module": "@jupyter-widgets/base",
            "_model_module_version": "1.2.0",
            "_model_name": "LayoutModel",
            "_view_count": null,
            "_view_module": "@jupyter-widgets/base",
            "_view_module_version": "1.2.0",
            "_view_name": "LayoutView",
            "align_content": null,
            "align_items": null,
            "align_self": null,
            "border": null,
            "bottom": null,
            "display": null,
            "flex": null,
            "flex_flow": null,
            "grid_area": null,
            "grid_auto_columns": null,
            "grid_auto_flow": null,
            "grid_auto_rows": null,
            "grid_column": null,
            "grid_gap": null,
            "grid_row": null,
            "grid_template_areas": null,
            "grid_template_columns": null,
            "grid_template_rows": null,
            "height": null,
            "justify_content": null,
            "justify_items": null,
            "left": null,
            "margin": null,
            "max_height": null,
            "max_width": null,
            "min_height": null,
            "min_width": null,
            "object_fit": null,
            "object_position": null,
            "order": null,
            "overflow": null,
            "overflow_x": null,
            "overflow_y": null,
            "padding": null,
            "right": null,
            "top": null,
            "visibility": null,
            "width": null
          }
        },
        "10420ecc54ed40a9b7a6f17029e83320": {
          "model_module": "@jupyter-widgets/base",
          "model_name": "LayoutModel",
          "model_module_version": "1.2.0",
          "state": {
            "_model_module": "@jupyter-widgets/base",
            "_model_module_version": "1.2.0",
            "_model_name": "LayoutModel",
            "_view_count": null,
            "_view_module": "@jupyter-widgets/base",
            "_view_module_version": "1.2.0",
            "_view_name": "LayoutView",
            "align_content": null,
            "align_items": null,
            "align_self": null,
            "border": null,
            "bottom": null,
            "display": null,
            "flex": null,
            "flex_flow": null,
            "grid_area": null,
            "grid_auto_columns": null,
            "grid_auto_flow": null,
            "grid_auto_rows": null,
            "grid_column": null,
            "grid_gap": null,
            "grid_row": null,
            "grid_template_areas": null,
            "grid_template_columns": null,
            "grid_template_rows": null,
            "height": null,
            "justify_content": null,
            "justify_items": null,
            "left": null,
            "margin": null,
            "max_height": null,
            "max_width": null,
            "min_height": null,
            "min_width": null,
            "object_fit": null,
            "object_position": null,
            "order": null,
            "overflow": null,
            "overflow_x": null,
            "overflow_y": null,
            "padding": null,
            "right": null,
            "top": null,
            "visibility": null,
            "width": null
          }
        },
        "1b3edd1560da429a87cc3b9536990422": {
          "model_module": "@jupyter-widgets/controls",
          "model_name": "DescriptionStyleModel",
          "model_module_version": "1.5.0",
          "state": {
            "_model_module": "@jupyter-widgets/controls",
            "_model_module_version": "1.5.0",
            "_model_name": "DescriptionStyleModel",
            "_view_count": null,
            "_view_module": "@jupyter-widgets/base",
            "_view_module_version": "1.2.0",
            "_view_name": "StyleView",
            "description_width": ""
          }
        },
        "8b9f9d8beda14eb992fec7e29f5c1e12": {
          "model_module": "@jupyter-widgets/base",
          "model_name": "LayoutModel",
          "model_module_version": "1.2.0",
          "state": {
            "_model_module": "@jupyter-widgets/base",
            "_model_module_version": "1.2.0",
            "_model_name": "LayoutModel",
            "_view_count": null,
            "_view_module": "@jupyter-widgets/base",
            "_view_module_version": "1.2.0",
            "_view_name": "LayoutView",
            "align_content": null,
            "align_items": null,
            "align_self": null,
            "border": null,
            "bottom": null,
            "display": null,
            "flex": null,
            "flex_flow": null,
            "grid_area": null,
            "grid_auto_columns": null,
            "grid_auto_flow": null,
            "grid_auto_rows": null,
            "grid_column": null,
            "grid_gap": null,
            "grid_row": null,
            "grid_template_areas": null,
            "grid_template_columns": null,
            "grid_template_rows": null,
            "height": null,
            "justify_content": null,
            "justify_items": null,
            "left": null,
            "margin": null,
            "max_height": null,
            "max_width": null,
            "min_height": null,
            "min_width": null,
            "object_fit": null,
            "object_position": null,
            "order": null,
            "overflow": null,
            "overflow_x": null,
            "overflow_y": null,
            "padding": null,
            "right": null,
            "top": null,
            "visibility": null,
            "width": null
          }
        },
        "76579f76f4b84cc99b8012072151a0b3": {
          "model_module": "@jupyter-widgets/controls",
          "model_name": "DescriptionStyleModel",
          "model_module_version": "1.5.0",
          "state": {
            "_model_module": "@jupyter-widgets/controls",
            "_model_module_version": "1.5.0",
            "_model_name": "DescriptionStyleModel",
            "_view_count": null,
            "_view_module": "@jupyter-widgets/base",
            "_view_module_version": "1.2.0",
            "_view_name": "StyleView",
            "description_width": ""
          }
        },
        "7e30bc2f66de45d1a42b61335cc23326": {
          "model_module": "@jupyter-widgets/base",
          "model_name": "LayoutModel",
          "model_module_version": "1.2.0",
          "state": {
            "_model_module": "@jupyter-widgets/base",
            "_model_module_version": "1.2.0",
            "_model_name": "LayoutModel",
            "_view_count": null,
            "_view_module": "@jupyter-widgets/base",
            "_view_module_version": "1.2.0",
            "_view_name": "LayoutView",
            "align_content": null,
            "align_items": null,
            "align_self": null,
            "border": null,
            "bottom": null,
            "display": null,
            "flex": null,
            "flex_flow": null,
            "grid_area": null,
            "grid_auto_columns": null,
            "grid_auto_flow": null,
            "grid_auto_rows": null,
            "grid_column": null,
            "grid_gap": null,
            "grid_row": null,
            "grid_template_areas": null,
            "grid_template_columns": null,
            "grid_template_rows": null,
            "height": null,
            "justify_content": null,
            "justify_items": null,
            "left": null,
            "margin": null,
            "max_height": null,
            "max_width": null,
            "min_height": null,
            "min_width": null,
            "object_fit": null,
            "object_position": null,
            "order": null,
            "overflow": null,
            "overflow_x": null,
            "overflow_y": null,
            "padding": null,
            "right": null,
            "top": null,
            "visibility": null,
            "width": null
          }
        },
        "3baa73a642624c85ac313be987614461": {
          "model_module": "@jupyter-widgets/controls",
          "model_name": "DescriptionStyleModel",
          "model_module_version": "1.5.0",
          "state": {
            "_model_module": "@jupyter-widgets/controls",
            "_model_module_version": "1.5.0",
            "_model_name": "DescriptionStyleModel",
            "_view_count": null,
            "_view_module": "@jupyter-widgets/base",
            "_view_module_version": "1.2.0",
            "_view_name": "StyleView",
            "description_width": ""
          }
        },
        "256df129a4b647ea8df6999b4ee4b09a": {
          "model_module": "@jupyter-widgets/base",
          "model_name": "LayoutModel",
          "model_module_version": "1.2.0",
          "state": {
            "_model_module": "@jupyter-widgets/base",
            "_model_module_version": "1.2.0",
            "_model_name": "LayoutModel",
            "_view_count": null,
            "_view_module": "@jupyter-widgets/base",
            "_view_module_version": "1.2.0",
            "_view_name": "LayoutView",
            "align_content": null,
            "align_items": null,
            "align_self": null,
            "border": null,
            "bottom": null,
            "display": null,
            "flex": null,
            "flex_flow": null,
            "grid_area": null,
            "grid_auto_columns": null,
            "grid_auto_flow": null,
            "grid_auto_rows": null,
            "grid_column": null,
            "grid_gap": null,
            "grid_row": null,
            "grid_template_areas": null,
            "grid_template_columns": null,
            "grid_template_rows": null,
            "height": null,
            "justify_content": null,
            "justify_items": null,
            "left": null,
            "margin": null,
            "max_height": null,
            "max_width": null,
            "min_height": null,
            "min_width": null,
            "object_fit": null,
            "object_position": null,
            "order": null,
            "overflow": null,
            "overflow_x": null,
            "overflow_y": null,
            "padding": null,
            "right": null,
            "top": null,
            "visibility": null,
            "width": null
          }
        },
        "8ee76869497f4f7a91541a7942929a18": {
          "model_module": "@jupyter-widgets/controls",
          "model_name": "SliderStyleModel",
          "model_module_version": "1.5.0",
          "state": {
            "_model_module": "@jupyter-widgets/controls",
            "_model_module_version": "1.5.0",
            "_model_name": "SliderStyleModel",
            "_view_count": null,
            "_view_module": "@jupyter-widgets/base",
            "_view_module_version": "1.2.0",
            "_view_name": "StyleView",
            "description_width": "",
            "handle_color": null
          }
        },
        "719fb31c8bb04bfca8c4e353de14a43a": {
          "model_module": "@jupyter-widgets/base",
          "model_name": "LayoutModel",
          "model_module_version": "1.2.0",
          "state": {
            "_model_module": "@jupyter-widgets/base",
            "_model_module_version": "1.2.0",
            "_model_name": "LayoutModel",
            "_view_count": null,
            "_view_module": "@jupyter-widgets/base",
            "_view_module_version": "1.2.0",
            "_view_name": "LayoutView",
            "align_content": null,
            "align_items": null,
            "align_self": null,
            "border": null,
            "bottom": null,
            "display": null,
            "flex": null,
            "flex_flow": null,
            "grid_area": null,
            "grid_auto_columns": null,
            "grid_auto_flow": null,
            "grid_auto_rows": null,
            "grid_column": null,
            "grid_gap": null,
            "grid_row": null,
            "grid_template_areas": null,
            "grid_template_columns": null,
            "grid_template_rows": null,
            "height": null,
            "justify_content": null,
            "justify_items": null,
            "left": null,
            "margin": null,
            "max_height": null,
            "max_width": null,
            "min_height": null,
            "min_width": null,
            "object_fit": null,
            "object_position": null,
            "order": null,
            "overflow": null,
            "overflow_x": null,
            "overflow_y": null,
            "padding": null,
            "right": null,
            "top": null,
            "visibility": null,
            "width": null
          }
        },
        "b648cf3b8f10400089fba56de54ac0d1": {
          "model_module": "@jupyter-widgets/controls",
          "model_name": "SliderStyleModel",
          "model_module_version": "1.5.0",
          "state": {
            "_model_module": "@jupyter-widgets/controls",
            "_model_module_version": "1.5.0",
            "_model_name": "SliderStyleModel",
            "_view_count": null,
            "_view_module": "@jupyter-widgets/base",
            "_view_module_version": "1.2.0",
            "_view_name": "StyleView",
            "description_width": "",
            "handle_color": null
          }
        },
        "428b4653d54f46d9827407f24077a1dd": {
          "model_module": "@jupyter-widgets/base",
          "model_name": "LayoutModel",
          "model_module_version": "1.2.0",
          "state": {
            "_model_module": "@jupyter-widgets/base",
            "_model_module_version": "1.2.0",
            "_model_name": "LayoutModel",
            "_view_count": null,
            "_view_module": "@jupyter-widgets/base",
            "_view_module_version": "1.2.0",
            "_view_name": "LayoutView",
            "align_content": null,
            "align_items": null,
            "align_self": null,
            "border": null,
            "bottom": null,
            "display": null,
            "flex": null,
            "flex_flow": null,
            "grid_area": null,
            "grid_auto_columns": null,
            "grid_auto_flow": null,
            "grid_auto_rows": null,
            "grid_column": null,
            "grid_gap": null,
            "grid_row": null,
            "grid_template_areas": null,
            "grid_template_columns": null,
            "grid_template_rows": null,
            "height": null,
            "justify_content": null,
            "justify_items": null,
            "left": null,
            "margin": null,
            "max_height": null,
            "max_width": null,
            "min_height": null,
            "min_width": null,
            "object_fit": null,
            "object_position": null,
            "order": null,
            "overflow": null,
            "overflow_x": null,
            "overflow_y": null,
            "padding": null,
            "right": null,
            "top": null,
            "visibility": null,
            "width": null
          }
        },
        "c39c4943ed4346a4af503264ecbf6a21": {
          "model_module": "@jupyter-widgets/controls",
          "model_name": "SliderStyleModel",
          "model_module_version": "1.5.0",
          "state": {
            "_model_module": "@jupyter-widgets/controls",
            "_model_module_version": "1.5.0",
            "_model_name": "SliderStyleModel",
            "_view_count": null,
            "_view_module": "@jupyter-widgets/base",
            "_view_module_version": "1.2.0",
            "_view_name": "StyleView",
            "description_width": "",
            "handle_color": null
          }
        },
        "869957b2c7d248cca547c1b899f96e12": {
          "model_module": "@jupyter-widgets/base",
          "model_name": "LayoutModel",
          "model_module_version": "1.2.0",
          "state": {
            "_model_module": "@jupyter-widgets/base",
            "_model_module_version": "1.2.0",
            "_model_name": "LayoutModel",
            "_view_count": null,
            "_view_module": "@jupyter-widgets/base",
            "_view_module_version": "1.2.0",
            "_view_name": "LayoutView",
            "align_content": null,
            "align_items": null,
            "align_self": null,
            "border": null,
            "bottom": null,
            "display": null,
            "flex": null,
            "flex_flow": null,
            "grid_area": null,
            "grid_auto_columns": null,
            "grid_auto_flow": null,
            "grid_auto_rows": null,
            "grid_column": null,
            "grid_gap": null,
            "grid_row": null,
            "grid_template_areas": null,
            "grid_template_columns": null,
            "grid_template_rows": null,
            "height": null,
            "justify_content": null,
            "justify_items": null,
            "left": null,
            "margin": null,
            "max_height": null,
            "max_width": null,
            "min_height": null,
            "min_width": null,
            "object_fit": null,
            "object_position": null,
            "order": null,
            "overflow": null,
            "overflow_x": null,
            "overflow_y": null,
            "padding": null,
            "right": null,
            "top": null,
            "visibility": null,
            "width": null
          }
        },
        "6b043677298d4071ac541169d9a853d2": {
          "model_module": "@jupyter-widgets/controls",
          "model_name": "SliderStyleModel",
          "model_module_version": "1.5.0",
          "state": {
            "_model_module": "@jupyter-widgets/controls",
            "_model_module_version": "1.5.0",
            "_model_name": "SliderStyleModel",
            "_view_count": null,
            "_view_module": "@jupyter-widgets/base",
            "_view_module_version": "1.2.0",
            "_view_name": "StyleView",
            "description_width": "",
            "handle_color": null
          }
        },
        "d375aa3d74404985a3f122e3c7fceb76": {
          "model_module": "@jupyter-widgets/base",
          "model_name": "LayoutModel",
          "model_module_version": "1.2.0",
          "state": {
            "_model_module": "@jupyter-widgets/base",
            "_model_module_version": "1.2.0",
            "_model_name": "LayoutModel",
            "_view_count": null,
            "_view_module": "@jupyter-widgets/base",
            "_view_module_version": "1.2.0",
            "_view_name": "LayoutView",
            "align_content": null,
            "align_items": null,
            "align_self": null,
            "border": null,
            "bottom": null,
            "display": null,
            "flex": null,
            "flex_flow": null,
            "grid_area": null,
            "grid_auto_columns": null,
            "grid_auto_flow": null,
            "grid_auto_rows": null,
            "grid_column": null,
            "grid_gap": null,
            "grid_row": null,
            "grid_template_areas": null,
            "grid_template_columns": null,
            "grid_template_rows": null,
            "height": null,
            "justify_content": null,
            "justify_items": null,
            "left": null,
            "margin": null,
            "max_height": null,
            "max_width": null,
            "min_height": null,
            "min_width": null,
            "object_fit": null,
            "object_position": null,
            "order": null,
            "overflow": null,
            "overflow_x": null,
            "overflow_y": null,
            "padding": null,
            "right": null,
            "top": null,
            "visibility": null,
            "width": null
          }
        },
        "1dd5de9101e140698966028d2282d1a9": {
          "model_module": "@jupyter-widgets/controls",
          "model_name": "SliderStyleModel",
          "model_module_version": "1.5.0",
          "state": {
            "_model_module": "@jupyter-widgets/controls",
            "_model_module_version": "1.5.0",
            "_model_name": "SliderStyleModel",
            "_view_count": null,
            "_view_module": "@jupyter-widgets/base",
            "_view_module_version": "1.2.0",
            "_view_name": "StyleView",
            "description_width": "",
            "handle_color": null
          }
        },
        "5271885c12294b93bb6aa31541080f96": {
          "model_module": "@jupyter-widgets/base",
          "model_name": "LayoutModel",
          "model_module_version": "1.2.0",
          "state": {
            "_model_module": "@jupyter-widgets/base",
            "_model_module_version": "1.2.0",
            "_model_name": "LayoutModel",
            "_view_count": null,
            "_view_module": "@jupyter-widgets/base",
            "_view_module_version": "1.2.0",
            "_view_name": "LayoutView",
            "align_content": null,
            "align_items": null,
            "align_self": null,
            "border": null,
            "bottom": null,
            "display": null,
            "flex": null,
            "flex_flow": null,
            "grid_area": null,
            "grid_auto_columns": null,
            "grid_auto_flow": null,
            "grid_auto_rows": null,
            "grid_column": null,
            "grid_gap": null,
            "grid_row": null,
            "grid_template_areas": null,
            "grid_template_columns": null,
            "grid_template_rows": null,
            "height": null,
            "justify_content": null,
            "justify_items": null,
            "left": null,
            "margin": null,
            "max_height": null,
            "max_width": null,
            "min_height": null,
            "min_width": null,
            "object_fit": null,
            "object_position": null,
            "order": null,
            "overflow": null,
            "overflow_x": null,
            "overflow_y": null,
            "padding": null,
            "right": null,
            "top": null,
            "visibility": null,
            "width": null
          }
        },
        "3189b5fedfbb44a48f260fe11ad352cf": {
          "model_module": "@jupyter-widgets/controls",
          "model_name": "DescriptionStyleModel",
          "model_module_version": "1.5.0",
          "state": {
            "_model_module": "@jupyter-widgets/controls",
            "_model_module_version": "1.5.0",
            "_model_name": "DescriptionStyleModel",
            "_view_count": null,
            "_view_module": "@jupyter-widgets/base",
            "_view_module_version": "1.2.0",
            "_view_name": "StyleView",
            "description_width": ""
          }
        },
        "812b654728bc42a597c6a14d27ed8e00": {
          "model_module": "@jupyter-widgets/base",
          "model_name": "LayoutModel",
          "model_module_version": "1.2.0",
          "state": {
            "_model_module": "@jupyter-widgets/base",
            "_model_module_version": "1.2.0",
            "_model_name": "LayoutModel",
            "_view_count": null,
            "_view_module": "@jupyter-widgets/base",
            "_view_module_version": "1.2.0",
            "_view_name": "LayoutView",
            "align_content": null,
            "align_items": null,
            "align_self": null,
            "border": null,
            "bottom": null,
            "display": null,
            "flex": null,
            "flex_flow": null,
            "grid_area": null,
            "grid_auto_columns": null,
            "grid_auto_flow": null,
            "grid_auto_rows": null,
            "grid_column": null,
            "grid_gap": null,
            "grid_row": null,
            "grid_template_areas": null,
            "grid_template_columns": null,
            "grid_template_rows": null,
            "height": null,
            "justify_content": null,
            "justify_items": null,
            "left": null,
            "margin": null,
            "max_height": null,
            "max_width": null,
            "min_height": null,
            "min_width": null,
            "object_fit": null,
            "object_position": null,
            "order": null,
            "overflow": null,
            "overflow_x": null,
            "overflow_y": null,
            "padding": null,
            "right": null,
            "top": null,
            "visibility": null,
            "width": null
          }
        },
        "9045ffdfb0884da2986b3e7144324a35": {
          "model_module": "@jupyter-widgets/controls",
          "model_name": "DescriptionStyleModel",
          "model_module_version": "1.5.0",
          "state": {
            "_model_module": "@jupyter-widgets/controls",
            "_model_module_version": "1.5.0",
            "_model_name": "DescriptionStyleModel",
            "_view_count": null,
            "_view_module": "@jupyter-widgets/base",
            "_view_module_version": "1.2.0",
            "_view_name": "StyleView",
            "description_width": ""
          }
        },
        "b698bf22ebc844bdbaa5b3d328963c0b": {
          "model_module": "@jupyter-widgets/base",
          "model_name": "LayoutModel",
          "model_module_version": "1.2.0",
          "state": {
            "_model_module": "@jupyter-widgets/base",
            "_model_module_version": "1.2.0",
            "_model_name": "LayoutModel",
            "_view_count": null,
            "_view_module": "@jupyter-widgets/base",
            "_view_module_version": "1.2.0",
            "_view_name": "LayoutView",
            "align_content": null,
            "align_items": null,
            "align_self": null,
            "border": null,
            "bottom": null,
            "display": null,
            "flex": null,
            "flex_flow": null,
            "grid_area": null,
            "grid_auto_columns": null,
            "grid_auto_flow": null,
            "grid_auto_rows": null,
            "grid_column": null,
            "grid_gap": null,
            "grid_row": null,
            "grid_template_areas": null,
            "grid_template_columns": null,
            "grid_template_rows": null,
            "height": null,
            "justify_content": null,
            "justify_items": null,
            "left": null,
            "margin": null,
            "max_height": null,
            "max_width": null,
            "min_height": null,
            "min_width": null,
            "object_fit": null,
            "object_position": null,
            "order": null,
            "overflow": null,
            "overflow_x": null,
            "overflow_y": null,
            "padding": null,
            "right": null,
            "top": null,
            "visibility": null,
            "width": null
          }
        },
        "1341c8f4096d40f89711acba5d1b5319": {
          "model_module": "@jupyter-widgets/controls",
          "model_name": "DescriptionStyleModel",
          "model_module_version": "1.5.0",
          "state": {
            "_model_module": "@jupyter-widgets/controls",
            "_model_module_version": "1.5.0",
            "_model_name": "DescriptionStyleModel",
            "_view_count": null,
            "_view_module": "@jupyter-widgets/base",
            "_view_module_version": "1.2.0",
            "_view_name": "StyleView",
            "description_width": ""
          }
        },
        "86cd30053e8649c6869d25c8c9df00e4": {
          "model_module": "@jupyter-widgets/base",
          "model_name": "LayoutModel",
          "model_module_version": "1.2.0",
          "state": {
            "_model_module": "@jupyter-widgets/base",
            "_model_module_version": "1.2.0",
            "_model_name": "LayoutModel",
            "_view_count": null,
            "_view_module": "@jupyter-widgets/base",
            "_view_module_version": "1.2.0",
            "_view_name": "LayoutView",
            "align_content": null,
            "align_items": null,
            "align_self": null,
            "border": null,
            "bottom": null,
            "display": null,
            "flex": null,
            "flex_flow": null,
            "grid_area": null,
            "grid_auto_columns": null,
            "grid_auto_flow": null,
            "grid_auto_rows": null,
            "grid_column": null,
            "grid_gap": null,
            "grid_row": null,
            "grid_template_areas": null,
            "grid_template_columns": null,
            "grid_template_rows": null,
            "height": null,
            "justify_content": null,
            "justify_items": null,
            "left": null,
            "margin": null,
            "max_height": null,
            "max_width": null,
            "min_height": null,
            "min_width": null,
            "object_fit": null,
            "object_position": null,
            "order": null,
            "overflow": null,
            "overflow_x": null,
            "overflow_y": null,
            "padding": null,
            "right": null,
            "top": null,
            "visibility": null,
            "width": null
          }
        },
        "51acd2773fe14d9fbd428e5e82bf38ce": {
          "model_module": "@jupyter-widgets/controls",
          "model_name": "DescriptionStyleModel",
          "model_module_version": "1.5.0",
          "state": {
            "_model_module": "@jupyter-widgets/controls",
            "_model_module_version": "1.5.0",
            "_model_name": "DescriptionStyleModel",
            "_view_count": null,
            "_view_module": "@jupyter-widgets/base",
            "_view_module_version": "1.2.0",
            "_view_name": "StyleView",
            "description_width": ""
          }
        },
        "1a9d6dbc31284548a33b7415310a7449": {
          "model_module": "@jupyter-widgets/base",
          "model_name": "LayoutModel",
          "model_module_version": "1.2.0",
          "state": {
            "_model_module": "@jupyter-widgets/base",
            "_model_module_version": "1.2.0",
            "_model_name": "LayoutModel",
            "_view_count": null,
            "_view_module": "@jupyter-widgets/base",
            "_view_module_version": "1.2.0",
            "_view_name": "LayoutView",
            "align_content": null,
            "align_items": null,
            "align_self": null,
            "border": null,
            "bottom": null,
            "display": null,
            "flex": null,
            "flex_flow": null,
            "grid_area": null,
            "grid_auto_columns": null,
            "grid_auto_flow": null,
            "grid_auto_rows": null,
            "grid_column": null,
            "grid_gap": null,
            "grid_row": null,
            "grid_template_areas": null,
            "grid_template_columns": null,
            "grid_template_rows": null,
            "height": null,
            "justify_content": null,
            "justify_items": null,
            "left": null,
            "margin": null,
            "max_height": null,
            "max_width": null,
            "min_height": null,
            "min_width": null,
            "object_fit": null,
            "object_position": null,
            "order": null,
            "overflow": null,
            "overflow_x": null,
            "overflow_y": null,
            "padding": null,
            "right": null,
            "top": null,
            "visibility": null,
            "width": null
          }
        },
        "b1816315584f484aa2ab999661e80089": {
          "model_module": "@jupyter-widgets/controls",
          "model_name": "DescriptionStyleModel",
          "model_module_version": "1.5.0",
          "state": {
            "_model_module": "@jupyter-widgets/controls",
            "_model_module_version": "1.5.0",
            "_model_name": "DescriptionStyleModel",
            "_view_count": null,
            "_view_module": "@jupyter-widgets/base",
            "_view_module_version": "1.2.0",
            "_view_name": "StyleView",
            "description_width": ""
          }
        },
        "9a408ad5af9d4d74b07766b17c930413": {
          "model_module": "@jupyter-widgets/controls",
          "model_name": "HBoxModel",
          "model_module_version": "1.5.0",
          "state": {
            "_dom_classes": [],
            "_model_module": "@jupyter-widgets/controls",
            "_model_module_version": "1.5.0",
            "_model_name": "HBoxModel",
            "_view_count": null,
            "_view_module": "@jupyter-widgets/controls",
            "_view_module_version": "1.5.0",
            "_view_name": "HBoxView",
            "box_style": "",
            "children": [
              "IPY_MODEL_23799bcea8e3422aab9618a078d967c9",
              "IPY_MODEL_34333dfd0c574a36b6753c8e2d3e4c35"
            ],
            "layout": "IPY_MODEL_6f796371227e46529bbda758401e3bd4"
          }
        },
        "23799bcea8e3422aab9618a078d967c9": {
          "model_module": "@jupyter-widgets/controls",
          "model_name": "LabelModel",
          "model_module_version": "1.5.0",
          "state": {
            "_dom_classes": [],
            "_model_module": "@jupyter-widgets/controls",
            "_model_module_version": "1.5.0",
            "_model_name": "LabelModel",
            "_view_count": null,
            "_view_module": "@jupyter-widgets/controls",
            "_view_module_version": "1.5.0",
            "_view_name": "LabelView",
            "description": "",
            "description_tooltip": null,
            "layout": "IPY_MODEL_9fe19136b50d47cea27b96d490a14324",
            "placeholder": "​",
            "style": "IPY_MODEL_499d6834d6e54a24919b7915520f1975",
            "value": "Transient №"
          }
        },
        "34333dfd0c574a36b6753c8e2d3e4c35": {
          "model_module": "@jupyter-widgets/controls",
          "model_name": "IntSliderModel",
          "model_module_version": "1.5.0",
          "state": {
            "_dom_classes": [],
            "_model_module": "@jupyter-widgets/controls",
            "_model_module_version": "1.5.0",
            "_model_name": "IntSliderModel",
            "_view_count": null,
            "_view_module": "@jupyter-widgets/controls",
            "_view_module_version": "1.5.0",
            "_view_name": "IntSliderView",
            "continuous_update": true,
            "description": "",
            "description_tooltip": null,
            "disabled": false,
            "layout": "IPY_MODEL_684ccec865fb4a1690207dc720959d61",
            "max": 206,
            "min": 0,
            "orientation": "horizontal",
            "readout": true,
            "readout_format": "d",
            "step": 1,
            "style": "IPY_MODEL_2f49c474c99f4ecb94b39e4cf9c6ef75",
            "value": 0
          }
        },
        "6f796371227e46529bbda758401e3bd4": {
          "model_module": "@jupyter-widgets/base",
          "model_name": "LayoutModel",
          "model_module_version": "1.2.0",
          "state": {
            "_model_module": "@jupyter-widgets/base",
            "_model_module_version": "1.2.0",
            "_model_name": "LayoutModel",
            "_view_count": null,
            "_view_module": "@jupyter-widgets/base",
            "_view_module_version": "1.2.0",
            "_view_name": "LayoutView",
            "align_content": null,
            "align_items": null,
            "align_self": null,
            "border": null,
            "bottom": null,
            "display": null,
            "flex": null,
            "flex_flow": null,
            "grid_area": null,
            "grid_auto_columns": null,
            "grid_auto_flow": null,
            "grid_auto_rows": null,
            "grid_column": null,
            "grid_gap": null,
            "grid_row": null,
            "grid_template_areas": null,
            "grid_template_columns": null,
            "grid_template_rows": null,
            "height": null,
            "justify_content": null,
            "justify_items": null,
            "left": null,
            "margin": null,
            "max_height": null,
            "max_width": null,
            "min_height": null,
            "min_width": null,
            "object_fit": null,
            "object_position": null,
            "order": null,
            "overflow": null,
            "overflow_x": null,
            "overflow_y": null,
            "padding": null,
            "right": null,
            "top": null,
            "visibility": null,
            "width": null
          }
        },
        "9fe19136b50d47cea27b96d490a14324": {
          "model_module": "@jupyter-widgets/base",
          "model_name": "LayoutModel",
          "model_module_version": "1.2.0",
          "state": {
            "_model_module": "@jupyter-widgets/base",
            "_model_module_version": "1.2.0",
            "_model_name": "LayoutModel",
            "_view_count": null,
            "_view_module": "@jupyter-widgets/base",
            "_view_module_version": "1.2.0",
            "_view_name": "LayoutView",
            "align_content": null,
            "align_items": null,
            "align_self": null,
            "border": null,
            "bottom": null,
            "display": null,
            "flex": null,
            "flex_flow": null,
            "grid_area": null,
            "grid_auto_columns": null,
            "grid_auto_flow": null,
            "grid_auto_rows": null,
            "grid_column": null,
            "grid_gap": null,
            "grid_row": null,
            "grid_template_areas": null,
            "grid_template_columns": null,
            "grid_template_rows": null,
            "height": null,
            "justify_content": null,
            "justify_items": null,
            "left": null,
            "margin": null,
            "max_height": null,
            "max_width": null,
            "min_height": null,
            "min_width": null,
            "object_fit": null,
            "object_position": null,
            "order": null,
            "overflow": null,
            "overflow_x": null,
            "overflow_y": null,
            "padding": null,
            "right": null,
            "top": null,
            "visibility": null,
            "width": null
          }
        },
        "499d6834d6e54a24919b7915520f1975": {
          "model_module": "@jupyter-widgets/controls",
          "model_name": "DescriptionStyleModel",
          "model_module_version": "1.5.0",
          "state": {
            "_model_module": "@jupyter-widgets/controls",
            "_model_module_version": "1.5.0",
            "_model_name": "DescriptionStyleModel",
            "_view_count": null,
            "_view_module": "@jupyter-widgets/base",
            "_view_module_version": "1.2.0",
            "_view_name": "StyleView",
            "description_width": ""
          }
        },
        "684ccec865fb4a1690207dc720959d61": {
          "model_module": "@jupyter-widgets/base",
          "model_name": "LayoutModel",
          "model_module_version": "1.2.0",
          "state": {
            "_model_module": "@jupyter-widgets/base",
            "_model_module_version": "1.2.0",
            "_model_name": "LayoutModel",
            "_view_count": null,
            "_view_module": "@jupyter-widgets/base",
            "_view_module_version": "1.2.0",
            "_view_name": "LayoutView",
            "align_content": null,
            "align_items": null,
            "align_self": null,
            "border": null,
            "bottom": null,
            "display": null,
            "flex": null,
            "flex_flow": null,
            "grid_area": null,
            "grid_auto_columns": null,
            "grid_auto_flow": null,
            "grid_auto_rows": null,
            "grid_column": null,
            "grid_gap": null,
            "grid_row": null,
            "grid_template_areas": null,
            "grid_template_columns": null,
            "grid_template_rows": null,
            "height": null,
            "justify_content": null,
            "justify_items": null,
            "left": null,
            "margin": null,
            "max_height": null,
            "max_width": null,
            "min_height": null,
            "min_width": null,
            "object_fit": null,
            "object_position": null,
            "order": null,
            "overflow": null,
            "overflow_x": null,
            "overflow_y": null,
            "padding": null,
            "right": null,
            "top": null,
            "visibility": null,
            "width": null
          }
        },
        "2f49c474c99f4ecb94b39e4cf9c6ef75": {
          "model_module": "@jupyter-widgets/controls",
          "model_name": "SliderStyleModel",
          "model_module_version": "1.5.0",
          "state": {
            "_model_module": "@jupyter-widgets/controls",
            "_model_module_version": "1.5.0",
            "_model_name": "SliderStyleModel",
            "_view_count": null,
            "_view_module": "@jupyter-widgets/base",
            "_view_module_version": "1.2.0",
            "_view_name": "StyleView",
            "description_width": "",
            "handle_color": null
          }
        },
        "a0b3cba9b18b416ea35bbf7c23eaef9c": {
          "model_module": "@jupyter-widgets/output",
          "model_name": "OutputModel",
          "model_module_version": "1.0.0",
          "state": {
            "_dom_classes": [],
            "_model_module": "@jupyter-widgets/output",
            "_model_module_version": "1.0.0",
            "_model_name": "OutputModel",
            "_view_count": null,
            "_view_module": "@jupyter-widgets/output",
            "_view_module_version": "1.0.0",
            "_view_name": "OutputView",
            "layout": "IPY_MODEL_a7cd067f8d7c4136977ec1ecaefa099b",
            "msg_id": "",
            "outputs": [
              {
                "output_type": "stream",
                "name": "stdout",
                "text": [
                  "[#                   ] 1%  Building Heatmap\r"
                ]
              },
              {
                "output_type": "stream",
                "name": "stdout",
                "text": [
                  "[#                   ] 1%  Building Heatmap\r"
                ]
              },
              {
                "output_type": "stream",
                "name": "stdout",
                "text": [
                  "[#                   ] 2%  Building Heatmap\r"
                ]
              },
              {
                "output_type": "stream",
                "name": "stdout",
                "text": [
                  "[#                   ] 2%  Building Heatmap\r"
                ]
              },
              {
                "output_type": "stream",
                "name": "stdout",
                "text": [
                  "[#                   ] 3%  Building Heatmap\r"
                ]
              },
              {
                "output_type": "stream",
                "name": "stdout",
                "text": [
                  "[#                   ] 3%  Building Heatmap\r"
                ]
              },
              {
                "output_type": "stream",
                "name": "stdout",
                "text": [
                  "[#                   ] 4%  Building Heatmap\r"
                ]
              },
              {
                "output_type": "stream",
                "name": "stdout",
                "text": [
                  "[#                   ] 4%  Building Heatmap\r"
                ]
              },
              {
                "output_type": "stream",
                "name": "stdout",
                "text": [
                  "[#                   ] 5%  Building Heatmap\r"
                ]
              },
              {
                "output_type": "stream",
                "name": "stdout",
                "text": [
                  "[#                   ] 5%  Building Heatmap\r"
                ]
              },
              {
                "output_type": "stream",
                "name": "stdout",
                "text": [
                  "[##                  ] 6%  Building Heatmap\r"
                ]
              },
              {
                "output_type": "stream",
                "name": "stdout",
                "text": [
                  "[##                  ] 6%  Building Heatmap\r"
                ]
              },
              {
                "output_type": "stream",
                "name": "stdout",
                "text": [
                  "[##                  ] 7%  Building Heatmap\r"
                ]
              },
              {
                "output_type": "stream",
                "name": "stdout",
                "text": [
                  "[##                  ] 7%  Building Heatmap\r"
                ]
              },
              {
                "output_type": "stream",
                "name": "stdout",
                "text": [
                  "[##                  ] 8%  Building Heatmap\r"
                ]
              },
              {
                "output_type": "stream",
                "name": "stdout",
                "text": [
                  "[##                  ] 8%  Building Heatmap\r"
                ]
              },
              {
                "output_type": "stream",
                "name": "stdout",
                "text": [
                  "[##                  ] 9%  Building Heatmap\r"
                ]
              },
              {
                "output_type": "stream",
                "name": "stdout",
                "text": [
                  "[##                  ] 9%  Building Heatmap\r"
                ]
              },
              {
                "output_type": "stream",
                "name": "stdout",
                "text": [
                  "[##                  ] 10%  Building Heatmap\r"
                ]
              },
              {
                "output_type": "stream",
                "name": "stdout",
                "text": [
                  "[##                  ] 10%  Building Heatmap\r"
                ]
              },
              {
                "output_type": "stream",
                "name": "stdout",
                "text": [
                  "[###                 ] 11%  Building Heatmap\r"
                ]
              },
              {
                "output_type": "stream",
                "name": "stdout",
                "text": [
                  "[###                 ] 11%  Building Heatmap\r"
                ]
              },
              {
                "output_type": "stream",
                "name": "stdout",
                "text": [
                  "[###                 ] 12%  Building Heatmap\r"
                ]
              },
              {
                "output_type": "stream",
                "name": "stdout",
                "text": [
                  "[###                 ] 12%  Building Heatmap\r"
                ]
              },
              {
                "output_type": "stream",
                "name": "stdout",
                "text": [
                  "[###                 ] 13%  Building Heatmap\r"
                ]
              },
              {
                "output_type": "stream",
                "name": "stdout",
                "text": [
                  "[###                 ] 13%  Building Heatmap\r"
                ]
              },
              {
                "output_type": "stream",
                "name": "stdout",
                "text": [
                  "[###                 ] 14%  Building Heatmap\r"
                ]
              },
              {
                "output_type": "stream",
                "name": "stdout",
                "text": [
                  "[###                 ] 14%  Building Heatmap\r"
                ]
              },
              {
                "output_type": "stream",
                "name": "stdout",
                "text": [
                  "[###                 ] 15%  Building Heatmap\r"
                ]
              },
              {
                "output_type": "stream",
                "name": "stdout",
                "text": [
                  "[###                 ] 15%  Building Heatmap\r"
                ]
              },
              {
                "output_type": "stream",
                "name": "stdout",
                "text": [
                  "[###                 ] 15%  Building Heatmap\r"
                ]
              },
              {
                "output_type": "stream",
                "name": "stdout",
                "text": [
                  "[####                ] 16%  Building Heatmap\r"
                ]
              },
              {
                "output_type": "stream",
                "name": "stdout",
                "text": [
                  "[####                ] 16%  Building Heatmap\r"
                ]
              },
              {
                "output_type": "stream",
                "name": "stdout",
                "text": [
                  "[####                ] 17%  Building Heatmap\r"
                ]
              },
              {
                "output_type": "stream",
                "name": "stdout",
                "text": [
                  "[####                ] 17%  Building Heatmap\r"
                ]
              },
              {
                "output_type": "stream",
                "name": "stdout",
                "text": [
                  "[####                ] 18%  Building Heatmap\r"
                ]
              },
              {
                "output_type": "stream",
                "name": "stdout",
                "text": [
                  "[####                ] 18%  Building Heatmap\r"
                ]
              },
              {
                "output_type": "stream",
                "name": "stdout",
                "text": [
                  "[####                ] 19%  Building Heatmap\r"
                ]
              },
              {
                "output_type": "stream",
                "name": "stdout",
                "text": [
                  "[####                ] 19%  Building Heatmap\r"
                ]
              },
              {
                "output_type": "stream",
                "name": "stdout",
                "text": [
                  "[####                ] 20%  Building Heatmap\r"
                ]
              },
              {
                "output_type": "stream",
                "name": "stdout",
                "text": [
                  "[####                ] 20%  Building Heatmap\r"
                ]
              },
              {
                "output_type": "stream",
                "name": "stdout",
                "text": [
                  "[#####               ] 21%  Building Heatmap\r"
                ]
              },
              {
                "output_type": "stream",
                "name": "stdout",
                "text": [
                  "[#####               ] 21%  Building Heatmap\r"
                ]
              },
              {
                "output_type": "stream",
                "name": "stdout",
                "text": [
                  "[#####               ] 22%  Building Heatmap\r"
                ]
              },
              {
                "output_type": "stream",
                "name": "stdout",
                "text": [
                  "[#####               ] 22%  Building Heatmap\r"
                ]
              },
              {
                "output_type": "stream",
                "name": "stdout",
                "text": [
                  "[#####               ] 23%  Building Heatmap\r"
                ]
              },
              {
                "output_type": "stream",
                "name": "stdout",
                "text": [
                  "[#####               ] 23%  Building Heatmap\r"
                ]
              },
              {
                "output_type": "stream",
                "name": "stdout",
                "text": [
                  "[#####               ] 24%  Building Heatmap\r"
                ]
              },
              {
                "output_type": "stream",
                "name": "stdout",
                "text": [
                  "[#####               ] 24%  Building Heatmap\r"
                ]
              },
              {
                "output_type": "stream",
                "name": "stdout",
                "text": [
                  "[#####               ] 25%  Building Heatmap\r"
                ]
              },
              {
                "output_type": "stream",
                "name": "stdout",
                "text": [
                  "[#####               ] 25%  Building Heatmap\r"
                ]
              },
              {
                "output_type": "stream",
                "name": "stdout",
                "text": [
                  "[######              ] 26%  Building Heatmap\r"
                ]
              },
              {
                "output_type": "stream",
                "name": "stdout",
                "text": [
                  "[######              ] 26%  Building Heatmap\r"
                ]
              },
              {
                "output_type": "stream",
                "name": "stdout",
                "text": [
                  "[######              ] 27%  Building Heatmap\r"
                ]
              },
              {
                "output_type": "stream",
                "name": "stdout",
                "text": [
                  "[######              ] 27%  Building Heatmap\r"
                ]
              },
              {
                "output_type": "stream",
                "name": "stdout",
                "text": [
                  "[######              ] 28%  Building Heatmap\r"
                ]
              },
              {
                "output_type": "stream",
                "name": "stdout",
                "text": [
                  "[######              ] 28%  Building Heatmap\r"
                ]
              },
              {
                "output_type": "stream",
                "name": "stdout",
                "text": [
                  "[######              ] 29%  Building Heatmap\r"
                ]
              },
              {
                "output_type": "stream",
                "name": "stdout",
                "text": [
                  "[######              ] 29%  Building Heatmap\r"
                ]
              },
              {
                "output_type": "stream",
                "name": "stdout",
                "text": [
                  "[######              ] 29%  Building Heatmap\r"
                ]
              },
              {
                "output_type": "stream",
                "name": "stdout",
                "text": [
                  "[######              ] 30%  Building Heatmap\r"
                ]
              },
              {
                "output_type": "stream",
                "name": "stdout",
                "text": [
                  "[######              ] 30%  Building Heatmap\r"
                ]
              },
              {
                "output_type": "stream",
                "name": "stdout",
                "text": [
                  "[#######             ] 31%  Building Heatmap\r"
                ]
              },
              {
                "output_type": "stream",
                "name": "stdout",
                "text": [
                  "[#######             ] 31%  Building Heatmap\r"
                ]
              },
              {
                "output_type": "stream",
                "name": "stdout",
                "text": [
                  "[#######             ] 32%  Building Heatmap\r"
                ]
              },
              {
                "output_type": "stream",
                "name": "stdout",
                "text": [
                  "[#######             ] 32%  Building Heatmap\r"
                ]
              },
              {
                "output_type": "stream",
                "name": "stdout",
                "text": [
                  "[#######             ] 33%  Building Heatmap\r"
                ]
              },
              {
                "output_type": "stream",
                "name": "stdout",
                "text": [
                  "[#######             ] 33%  Building Heatmap\r"
                ]
              },
              {
                "output_type": "stream",
                "name": "stdout",
                "text": [
                  "[#######             ] 34%  Building Heatmap\r"
                ]
              },
              {
                "output_type": "stream",
                "name": "stdout",
                "text": [
                  "[#######             ] 34%  Building Heatmap\r"
                ]
              },
              {
                "output_type": "stream",
                "name": "stdout",
                "text": [
                  "[#######             ] 35%  Building Heatmap\r"
                ]
              },
              {
                "output_type": "stream",
                "name": "stdout",
                "text": [
                  "[#######             ] 35%  Building Heatmap\r"
                ]
              },
              {
                "output_type": "stream",
                "name": "stdout",
                "text": [
                  "[########            ] 36%  Building Heatmap\r"
                ]
              },
              {
                "output_type": "stream",
                "name": "stdout",
                "text": [
                  "[########            ] 36%  Building Heatmap\r"
                ]
              },
              {
                "output_type": "stream",
                "name": "stdout",
                "text": [
                  "[########            ] 37%  Building Heatmap\r"
                ]
              },
              {
                "output_type": "stream",
                "name": "stdout",
                "text": [
                  "[########            ] 37%  Building Heatmap\r"
                ]
              },
              {
                "output_type": "stream",
                "name": "stdout",
                "text": [
                  "[########            ] 38%  Building Heatmap\r"
                ]
              },
              {
                "output_type": "stream",
                "name": "stdout",
                "text": [
                  "[########            ] 38%  Building Heatmap\r"
                ]
              },
              {
                "output_type": "stream",
                "name": "stdout",
                "text": [
                  "[########            ] 39%  Building Heatmap\r"
                ]
              },
              {
                "output_type": "stream",
                "name": "stdout",
                "text": [
                  "[########            ] 39%  Building Heatmap\r"
                ]
              },
              {
                "output_type": "stream",
                "name": "stdout",
                "text": [
                  "[########            ] 40%  Building Heatmap\r"
                ]
              },
              {
                "output_type": "stream",
                "name": "stdout",
                "text": [
                  "[########            ] 40%  Building Heatmap\r"
                ]
              },
              {
                "output_type": "stream",
                "name": "stdout",
                "text": [
                  "[#########           ] 41%  Building Heatmap\r"
                ]
              },
              {
                "output_type": "stream",
                "name": "stdout",
                "text": [
                  "[#########           ] 41%  Building Heatmap\r"
                ]
              },
              {
                "output_type": "stream",
                "name": "stdout",
                "text": [
                  "[#########           ] 42%  Building Heatmap\r"
                ]
              },
              {
                "output_type": "stream",
                "name": "stdout",
                "text": [
                  "[#########           ] 42%  Building Heatmap\r"
                ]
              },
              {
                "output_type": "stream",
                "name": "stdout",
                "text": [
                  "[#########           ] 43%  Building Heatmap\r"
                ]
              },
              {
                "output_type": "stream",
                "name": "stdout",
                "text": [
                  "[#########           ] 43%  Building Heatmap\r"
                ]
              },
              {
                "output_type": "stream",
                "name": "stdout",
                "text": [
                  "[#########           ] 43%  Building Heatmap\r"
                ]
              },
              {
                "output_type": "stream",
                "name": "stdout",
                "text": [
                  "[#########           ] 44%  Building Heatmap\r"
                ]
              },
              {
                "output_type": "stream",
                "name": "stdout",
                "text": [
                  "[#########           ] 44%  Building Heatmap\r"
                ]
              },
              {
                "output_type": "stream",
                "name": "stdout",
                "text": [
                  "[#########           ] 45%  Building Heatmap\r"
                ]
              },
              {
                "output_type": "stream",
                "name": "stdout",
                "text": [
                  "[#########           ] 45%  Building Heatmap\r"
                ]
              },
              {
                "output_type": "stream",
                "name": "stdout",
                "text": [
                  "[##########          ] 46%  Building Heatmap\r"
                ]
              },
              {
                "output_type": "stream",
                "name": "stdout",
                "text": [
                  "[##########          ] 46%  Building Heatmap\r"
                ]
              },
              {
                "output_type": "stream",
                "name": "stdout",
                "text": [
                  "[##########          ] 47%  Building Heatmap\r"
                ]
              },
              {
                "output_type": "stream",
                "name": "stdout",
                "text": [
                  "[##########          ] 47%  Building Heatmap\r"
                ]
              },
              {
                "output_type": "stream",
                "name": "stdout",
                "text": [
                  "[##########          ] 48%  Building Heatmap\r"
                ]
              },
              {
                "output_type": "stream",
                "name": "stdout",
                "text": [
                  "[##########          ] 48%  Building Heatmap\r"
                ]
              },
              {
                "output_type": "stream",
                "name": "stdout",
                "text": [
                  "[##########          ] 49%  Building Heatmap\r"
                ]
              },
              {
                "output_type": "stream",
                "name": "stdout",
                "text": [
                  "[##########          ] 49%  Building Heatmap\r"
                ]
              },
              {
                "output_type": "stream",
                "name": "stdout",
                "text": [
                  "[##########          ] 50%  Building Heatmap\r"
                ]
              },
              {
                "output_type": "stream",
                "name": "stdout",
                "text": [
                  "[##########          ] 50%  Building Heatmap\r"
                ]
              },
              {
                "output_type": "stream",
                "name": "stdout",
                "text": [
                  "[###########         ] 51%  Building Heatmap\r"
                ]
              },
              {
                "output_type": "stream",
                "name": "stdout",
                "text": [
                  "[###########         ] 51%  Building Heatmap\r"
                ]
              },
              {
                "output_type": "stream",
                "name": "stdout",
                "text": [
                  "[###########         ] 52%  Building Heatmap\r"
                ]
              },
              {
                "output_type": "stream",
                "name": "stdout",
                "text": [
                  "[###########         ] 52%  Building Heatmap\r"
                ]
              },
              {
                "output_type": "stream",
                "name": "stdout",
                "text": [
                  "[###########         ] 53%  Building Heatmap\r"
                ]
              },
              {
                "output_type": "stream",
                "name": "stdout",
                "text": [
                  "[###########         ] 53%  Building Heatmap\r"
                ]
              },
              {
                "output_type": "stream",
                "name": "stdout",
                "text": [
                  "[###########         ] 54%  Building Heatmap\r"
                ]
              },
              {
                "output_type": "stream",
                "name": "stdout",
                "text": [
                  "[###########         ] 54%  Building Heatmap\r"
                ]
              },
              {
                "output_type": "stream",
                "name": "stdout",
                "text": [
                  "[###########         ] 55%  Building Heatmap\r"
                ]
              },
              {
                "output_type": "stream",
                "name": "stdout",
                "text": [
                  "[###########         ] 55%  Building Heatmap\r"
                ]
              },
              {
                "output_type": "stream",
                "name": "stdout",
                "text": [
                  "[############        ] 56%  Building Heatmap\r"
                ]
              },
              {
                "output_type": "stream",
                "name": "stdout",
                "text": [
                  "[############        ] 56%  Building Heatmap\r"
                ]
              },
              {
                "output_type": "stream",
                "name": "stdout",
                "text": [
                  "[############        ] 57%  Building Heatmap\r"
                ]
              },
              {
                "output_type": "stream",
                "name": "stdout",
                "text": [
                  "[############        ] 57%  Building Heatmap\r"
                ]
              },
              {
                "output_type": "stream",
                "name": "stdout",
                "text": [
                  "[############        ] 58%  Building Heatmap\r"
                ]
              },
              {
                "output_type": "stream",
                "name": "stdout",
                "text": [
                  "[############        ] 58%  Building Heatmap\r"
                ]
              },
              {
                "output_type": "stream",
                "name": "stdout",
                "text": [
                  "[############        ] 58%  Building Heatmap\r"
                ]
              },
              {
                "output_type": "stream",
                "name": "stdout",
                "text": [
                  "[############        ] 59%  Building Heatmap\r"
                ]
              },
              {
                "output_type": "stream",
                "name": "stdout",
                "text": [
                  "[############        ] 59%  Building Heatmap\r"
                ]
              },
              {
                "output_type": "stream",
                "name": "stdout",
                "text": [
                  "[############        ] 60%  Building Heatmap\r"
                ]
              },
              {
                "output_type": "stream",
                "name": "stdout",
                "text": [
                  "[############        ] 60%  Building Heatmap\r"
                ]
              },
              {
                "output_type": "stream",
                "name": "stdout",
                "text": [
                  "[#############       ] 61%  Building Heatmap\r"
                ]
              },
              {
                "output_type": "stream",
                "name": "stdout",
                "text": [
                  "[#############       ] 61%  Building Heatmap\r"
                ]
              },
              {
                "output_type": "stream",
                "name": "stdout",
                "text": [
                  "[#############       ] 62%  Building Heatmap\r"
                ]
              },
              {
                "output_type": "stream",
                "name": "stdout",
                "text": [
                  "[#############       ] 62%  Building Heatmap\r"
                ]
              },
              {
                "output_type": "stream",
                "name": "stdout",
                "text": [
                  "[#############       ] 63%  Building Heatmap\r"
                ]
              },
              {
                "output_type": "stream",
                "name": "stdout",
                "text": [
                  "[#############       ] 63%  Building Heatmap\r"
                ]
              },
              {
                "output_type": "stream",
                "name": "stdout",
                "text": [
                  "[#############       ] 64%  Building Heatmap\r"
                ]
              },
              {
                "output_type": "stream",
                "name": "stdout",
                "text": [
                  "[#############       ] 64%  Building Heatmap\r"
                ]
              },
              {
                "output_type": "stream",
                "name": "stdout",
                "text": [
                  "[#############       ] 65%  Building Heatmap\r"
                ]
              },
              {
                "output_type": "stream",
                "name": "stdout",
                "text": [
                  "[#############       ] 65%  Building Heatmap\r"
                ]
              },
              {
                "output_type": "stream",
                "name": "stdout",
                "text": [
                  "[##############      ] 66%  Building Heatmap\r"
                ]
              },
              {
                "output_type": "stream",
                "name": "stdout",
                "text": [
                  "[##############      ] 66%  Building Heatmap\r"
                ]
              },
              {
                "output_type": "stream",
                "name": "stdout",
                "text": [
                  "[##############      ] 67%  Building Heatmap\r"
                ]
              },
              {
                "output_type": "stream",
                "name": "stdout",
                "text": [
                  "[##############      ] 67%  Building Heatmap\r"
                ]
              },
              {
                "output_type": "stream",
                "name": "stdout",
                "text": [
                  "[##############      ] 68%  Building Heatmap\r"
                ]
              },
              {
                "output_type": "stream",
                "name": "stdout",
                "text": [
                  "[##############      ] 68%  Building Heatmap\r"
                ]
              },
              {
                "output_type": "stream",
                "name": "stdout",
                "text": [
                  "[##############      ] 69%  Building Heatmap\r"
                ]
              },
              {
                "output_type": "stream",
                "name": "stdout",
                "text": [
                  "[##############      ] 69%  Building Heatmap\r"
                ]
              },
              {
                "output_type": "stream",
                "name": "stdout",
                "text": [
                  "[##############      ] 70%  Building Heatmap\r"
                ]
              },
              {
                "output_type": "stream",
                "name": "stdout",
                "text": [
                  "[##############      ] 70%  Building Heatmap\r"
                ]
              },
              {
                "output_type": "stream",
                "name": "stdout",
                "text": [
                  "[###############     ] 71%  Building Heatmap\r"
                ]
              },
              {
                "output_type": "stream",
                "name": "stdout",
                "text": [
                  "[###############     ] 71%  Building Heatmap\r"
                ]
              },
              {
                "output_type": "stream",
                "name": "stdout",
                "text": [
                  "[###############     ] 72%  Building Heatmap\r"
                ]
              },
              {
                "output_type": "stream",
                "name": "stdout",
                "text": [
                  "[###############     ] 72%  Building Heatmap\r"
                ]
              },
              {
                "output_type": "stream",
                "name": "stdout",
                "text": [
                  "[###############     ] 72%  Building Heatmap\r"
                ]
              },
              {
                "output_type": "stream",
                "name": "stdout",
                "text": [
                  "[###############     ] 73%  Building Heatmap\r"
                ]
              },
              {
                "output_type": "stream",
                "name": "stdout",
                "text": [
                  "[###############     ] 73%  Building Heatmap\r"
                ]
              },
              {
                "output_type": "stream",
                "name": "stdout",
                "text": [
                  "[###############     ] 74%  Building Heatmap\r"
                ]
              },
              {
                "output_type": "stream",
                "name": "stdout",
                "text": [
                  "[###############     ] 74%  Building Heatmap\r"
                ]
              },
              {
                "output_type": "stream",
                "name": "stdout",
                "text": [
                  "[###############     ] 75%  Building Heatmap\r"
                ]
              },
              {
                "output_type": "stream",
                "name": "stdout",
                "text": [
                  "[###############     ] 75%  Building Heatmap\r"
                ]
              },
              {
                "output_type": "stream",
                "name": "stdout",
                "text": [
                  "[################    ] 76%  Building Heatmap\r"
                ]
              },
              {
                "output_type": "stream",
                "name": "stdout",
                "text": [
                  "[################    ] 76%  Building Heatmap\r"
                ]
              },
              {
                "output_type": "stream",
                "name": "stdout",
                "text": [
                  "[################    ] 77%  Building Heatmap\r"
                ]
              },
              {
                "output_type": "stream",
                "name": "stdout",
                "text": [
                  "[################    ] 77%  Building Heatmap\r"
                ]
              },
              {
                "output_type": "stream",
                "name": "stdout",
                "text": [
                  "[################    ] 78%  Building Heatmap\r"
                ]
              },
              {
                "output_type": "stream",
                "name": "stdout",
                "text": [
                  "[################    ] 78%  Building Heatmap\r"
                ]
              },
              {
                "output_type": "stream",
                "name": "stdout",
                "text": [
                  "[################    ] 79%  Building Heatmap\r"
                ]
              },
              {
                "output_type": "stream",
                "name": "stdout",
                "text": [
                  "[################    ] 79%  Building Heatmap\r"
                ]
              },
              {
                "output_type": "stream",
                "name": "stdout",
                "text": [
                  "[################    ] 80%  Building Heatmap\r"
                ]
              },
              {
                "output_type": "stream",
                "name": "stdout",
                "text": [
                  "[################    ] 80%  Building Heatmap\r"
                ]
              },
              {
                "output_type": "stream",
                "name": "stdout",
                "text": [
                  "[#################   ] 81%  Building Heatmap\r"
                ]
              },
              {
                "output_type": "stream",
                "name": "stdout",
                "text": [
                  "[#################   ] 81%  Building Heatmap\r"
                ]
              },
              {
                "output_type": "stream",
                "name": "stdout",
                "text": [
                  "[#################   ] 82%  Building Heatmap\r"
                ]
              },
              {
                "output_type": "stream",
                "name": "stdout",
                "text": [
                  "[#################   ] 82%  Building Heatmap\r"
                ]
              },
              {
                "output_type": "stream",
                "name": "stdout",
                "text": [
                  "[#################   ] 83%  Building Heatmap\r"
                ]
              },
              {
                "output_type": "stream",
                "name": "stdout",
                "text": [
                  "[#################   ] 83%  Building Heatmap\r"
                ]
              },
              {
                "output_type": "stream",
                "name": "stdout",
                "text": [
                  "[#################   ] 84%  Building Heatmap\r"
                ]
              },
              {
                "output_type": "stream",
                "name": "stdout",
                "text": [
                  "[#################   ] 84%  Building Heatmap\r"
                ]
              },
              {
                "output_type": "stream",
                "name": "stdout",
                "text": [
                  "[#################   ] 85%  Building Heatmap\r"
                ]
              },
              {
                "output_type": "stream",
                "name": "stdout",
                "text": [
                  "[#################   ] 85%  Building Heatmap\r"
                ]
              },
              {
                "output_type": "stream",
                "name": "stdout",
                "text": [
                  "[##################  ] 86%  Building Heatmap\r"
                ]
              },
              {
                "output_type": "stream",
                "name": "stdout",
                "text": [
                  "[##################  ] 86%  Building Heatmap\r"
                ]
              },
              {
                "output_type": "stream",
                "name": "stdout",
                "text": [
                  "[##################  ] 86%  Building Heatmap\r"
                ]
              },
              {
                "output_type": "stream",
                "name": "stdout",
                "text": [
                  "[##################  ] 87%  Building Heatmap\r"
                ]
              },
              {
                "output_type": "stream",
                "name": "stdout",
                "text": [
                  "[##################  ] 87%  Building Heatmap\r"
                ]
              },
              {
                "output_type": "stream",
                "name": "stdout",
                "text": [
                  "[##################  ] 88%  Building Heatmap\r"
                ]
              },
              {
                "output_type": "stream",
                "name": "stdout",
                "text": [
                  "[##################  ] 88%  Building Heatmap\r"
                ]
              },
              {
                "output_type": "stream",
                "name": "stdout",
                "text": [
                  "[##################  ] 89%  Building Heatmap\r"
                ]
              },
              {
                "output_type": "stream",
                "name": "stdout",
                "text": [
                  "[##################  ] 89%  Building Heatmap\r"
                ]
              },
              {
                "output_type": "stream",
                "name": "stdout",
                "text": [
                  "[##################  ] 90%  Building Heatmap\r"
                ]
              },
              {
                "output_type": "stream",
                "name": "stdout",
                "text": [
                  "[##################  ] 90%  Building Heatmap\r"
                ]
              },
              {
                "output_type": "stream",
                "name": "stdout",
                "text": [
                  "[################### ] 91%  Building Heatmap\r"
                ]
              },
              {
                "output_type": "stream",
                "name": "stdout",
                "text": [
                  "[################### ] 91%  Building Heatmap\r"
                ]
              },
              {
                "output_type": "stream",
                "name": "stdout",
                "text": [
                  "[################### ] 92%  Building Heatmap\r"
                ]
              },
              {
                "output_type": "stream",
                "name": "stdout",
                "text": [
                  "[################### ] 92%  Building Heatmap\r"
                ]
              },
              {
                "output_type": "stream",
                "name": "stdout",
                "text": [
                  "[################### ] 93%  Building Heatmap\r"
                ]
              },
              {
                "output_type": "stream",
                "name": "stdout",
                "text": [
                  "[################### ] 93%  Building Heatmap\r"
                ]
              },
              {
                "output_type": "stream",
                "name": "stdout",
                "text": [
                  "[################### ] 94%  Building Heatmap\r"
                ]
              },
              {
                "output_type": "stream",
                "name": "stdout",
                "text": [
                  "[################### ] 94%  Building Heatmap\r"
                ]
              },
              {
                "output_type": "stream",
                "name": "stdout",
                "text": [
                  "[################### ] 95%  Building Heatmap\r"
                ]
              },
              {
                "output_type": "stream",
                "name": "stdout",
                "text": [
                  "[################### ] 95%  Building Heatmap\r"
                ]
              },
              {
                "output_type": "stream",
                "name": "stdout",
                "text": [
                  "[####################] 96%  Building Heatmap\r"
                ]
              },
              {
                "output_type": "stream",
                "name": "stdout",
                "text": [
                  "[####################] 96%  Building Heatmap\r"
                ]
              },
              {
                "output_type": "stream",
                "name": "stdout",
                "text": [
                  "[####################] 97%  Building Heatmap\r"
                ]
              },
              {
                "output_type": "stream",
                "name": "stdout",
                "text": [
                  "[####################] 97%  Building Heatmap\r"
                ]
              },
              {
                "output_type": "stream",
                "name": "stdout",
                "text": [
                  "[####################] 98%  Building Heatmap\r"
                ]
              },
              {
                "output_type": "stream",
                "name": "stdout",
                "text": [
                  "[####################] 98%  Building Heatmap\r"
                ]
              },
              {
                "output_type": "stream",
                "name": "stdout",
                "text": [
                  "[####################] 99%  Building Heatmap\r"
                ]
              },
              {
                "output_type": "stream",
                "name": "stdout",
                "text": [
                  "[####################] 99%  Building Heatmap\r"
                ]
              },
              {
                "output_type": "stream",
                "name": "stdout",
                "text": [
                  "[####################] 100%  Building Heatmap\r"
                ]
              },
              {
                "output_type": "stream",
                "name": "stdout",
                "text": [
                  "[####################] 100%  Building Heatmap\r"
                ]
              },
              {
                "output_type": "stream",
                "name": "stdout",
                "text": [
                  "[####################] 100%  Building Heatmap\r"
                ]
              },
              {
                "output_type": "display_data",
                "data": {
                  "text/plain": "<Figure size 684x792 with 6 Axes>",
                  "image/svg+xml": "<?xml version=\"1.0\" encoding=\"utf-8\" standalone=\"no\"?>\n<!DOCTYPE svg PUBLIC \"-//W3C//DTD SVG 1.1//EN\"\n  \"http://www.w3.org/Graphics/SVG/1.1/DTD/svg11.dtd\">\n<!-- Created with matplotlib (https://matplotlib.org/) -->\n<svg height=\"815.09625pt\" version=\"1.1\" viewBox=\"0 0 708.468807 815.09625\" width=\"708.468807pt\" xmlns=\"http://www.w3.org/2000/svg\" xmlns:xlink=\"http://www.w3.org/1999/xlink\">\n <defs>\n  <style type=\"text/css\">\n*{stroke-linecap:butt;stroke-linejoin:round;}\n  </style>\n </defs>\n <g id=\"figure_1\">\n  <g id=\"patch_1\">\n   <path d=\"M 0 815.09625 \nL 708.468807 815.09625 \nL 708.468807 0 \nL 0 0 \nz\n\" style=\"fill:none;\"/>\n  </g>\n  <g id=\"axes_1\">\n   <g id=\"patch_2\">\n    <path d=\"M 46.965625 215.544375 \nL 682.865625 215.544375 \nL 682.865625 22.318125 \nL 46.965625 22.318125 \nz\n\" style=\"fill:#ffffff;\"/>\n   </g>\n   <g id=\"matplotlib.axis_1\">\n    <g id=\"xtick_1\">\n     <g id=\"line2d_1\">\n      <path clip-path=\"url(#p42414f6714)\" d=\"M 75.87017 215.544375 \nL 75.87017 22.318125 \n\" style=\"fill:none;stroke:#b0b0b0;stroke-linecap:square;stroke-width:0.8;\"/>\n     </g>\n     <g id=\"line2d_2\">\n      <defs>\n       <path d=\"M 0 0 \nL 0 3.5 \n\" id=\"mea06334881\" style=\"stroke:#000000;stroke-width:0.8;\"/>\n      </defs>\n      <g>\n       <use style=\"stroke:#000000;stroke-width:0.8;\" x=\"75.87017\" xlink:href=\"#mea06334881\" y=\"215.544375\"/>\n      </g>\n     </g>\n     <g id=\"text_1\">\n      <!-- $\\mathdefault{10^{-2}}$ -->\n      <defs>\n       <path d=\"M 14.203125 0 \nL 14.203125 5.171875 \nL 26.90625 5.171875 \nL 26.90625 65.828125 \nL 12.203125 56.296875 \nL 12.203125 62.703125 \nL 29.984375 74.21875 \nL 36.71875 74.21875 \nL 36.71875 5.171875 \nL 49.421875 5.171875 \nL 49.421875 0 \nz\n\" id=\"DejaVuSerif-49\"/>\n       <path d=\"M 31.78125 3.421875 \nQ 39.265625 3.421875 42.96875 11.625 \nQ 46.6875 19.828125 46.6875 36.375 \nQ 46.6875 52.984375 42.96875 61.1875 \nQ 39.265625 69.390625 31.78125 69.390625 \nQ 24.3125 69.390625 20.59375 61.1875 \nQ 16.890625 52.984375 16.890625 36.375 \nQ 16.890625 19.828125 20.59375 11.625 \nQ 24.3125 3.421875 31.78125 3.421875 \nz\nM 31.78125 -1.421875 \nQ 19.921875 -1.421875 13.25 8.53125 \nQ 6.59375 18.5 6.59375 36.375 \nQ 6.59375 54.296875 13.25 64.25 \nQ 19.921875 74.21875 31.78125 74.21875 \nQ 43.703125 74.21875 50.34375 64.25 \nQ 56.984375 54.296875 56.984375 36.375 \nQ 56.984375 18.5 50.34375 8.53125 \nQ 43.703125 -1.421875 31.78125 -1.421875 \nz\n\" id=\"DejaVuSerif-48\"/>\n       <path d=\"M 10.59375 35.296875 \nL 73.1875 35.296875 \nL 73.1875 27.390625 \nL 10.59375 27.390625 \nz\n\" id=\"DejaVuSerif-8722\"/>\n       <path d=\"M 12.796875 55.515625 \nL 7.328125 55.515625 \nL 7.328125 68.5 \nQ 12.546875 71.296875 17.84375 72.75 \nQ 23.140625 74.21875 28.21875 74.21875 \nQ 39.59375 74.21875 46.1875 68.703125 \nQ 52.78125 63.1875 52.78125 53.71875 \nQ 52.78125 43.015625 37.84375 28.125 \nQ 36.671875 27 36.078125 26.421875 \nL 17.671875 8.015625 \nL 48.09375 8.015625 \nL 48.09375 17 \nL 53.8125 17 \nL 53.8125 0 \nL 6.78125 0 \nL 6.78125 5.328125 \nL 28.90625 27.390625 \nQ 36.234375 34.71875 39.359375 40.84375 \nQ 42.484375 46.96875 42.484375 53.71875 \nQ 42.484375 61.078125 38.640625 65.234375 \nQ 34.8125 69.390625 28.078125 69.390625 \nQ 21.09375 69.390625 17.28125 65.921875 \nQ 13.484375 62.453125 12.796875 55.515625 \nz\n\" id=\"DejaVuSerif-50\"/>\n      </defs>\n      <g transform=\"translate(64.17017 230.142812)scale(0.1 -0.1)\">\n       <use transform=\"translate(0 0.7125)\" xlink:href=\"#DejaVuSerif-49\"/>\n       <use transform=\"translate(63.623047 0.7125)\" xlink:href=\"#DejaVuSerif-48\"/>\n       <use transform=\"translate(128.154453 37.046875)scale(0.7)\" xlink:href=\"#DejaVuSerif-8722\"/>\n       <use transform=\"translate(186.806797 37.046875)scale(0.7)\" xlink:href=\"#DejaVuSerif-50\"/>\n      </g>\n     </g>\n    </g>\n    <g id=\"xtick_2\">\n     <g id=\"line2d_3\">\n      <path clip-path=\"url(#p42414f6714)\" d=\"M 220.392898 215.544375 \nL 220.392898 22.318125 \n\" style=\"fill:none;stroke:#b0b0b0;stroke-linecap:square;stroke-width:0.8;\"/>\n     </g>\n     <g id=\"line2d_4\">\n      <g>\n       <use style=\"stroke:#000000;stroke-width:0.8;\" x=\"220.392898\" xlink:href=\"#mea06334881\" y=\"215.544375\"/>\n      </g>\n     </g>\n     <g id=\"text_2\">\n      <!-- $\\mathdefault{10^{-1}}$ -->\n      <g transform=\"translate(208.692898 230.142812)scale(0.1 -0.1)\">\n       <use transform=\"translate(0 0.7125)\" xlink:href=\"#DejaVuSerif-49\"/>\n       <use transform=\"translate(63.623047 0.7125)\" xlink:href=\"#DejaVuSerif-48\"/>\n       <use transform=\"translate(128.154453 37.046875)scale(0.7)\" xlink:href=\"#DejaVuSerif-8722\"/>\n       <use transform=\"translate(186.806797 37.046875)scale(0.7)\" xlink:href=\"#DejaVuSerif-49\"/>\n      </g>\n     </g>\n    </g>\n    <g id=\"xtick_3\">\n     <g id=\"line2d_5\">\n      <path clip-path=\"url(#p42414f6714)\" d=\"M 364.915625 215.544375 \nL 364.915625 22.318125 \n\" style=\"fill:none;stroke:#b0b0b0;stroke-linecap:square;stroke-width:0.8;\"/>\n     </g>\n     <g id=\"line2d_6\">\n      <g>\n       <use style=\"stroke:#000000;stroke-width:0.8;\" x=\"364.915625\" xlink:href=\"#mea06334881\" y=\"215.544375\"/>\n      </g>\n     </g>\n     <g id=\"text_3\">\n      <!-- $\\mathdefault{10^{0}}$ -->\n      <g transform=\"translate(356.115625 230.142812)scale(0.1 -0.1)\">\n       <use transform=\"translate(0 0.7125)\" xlink:href=\"#DejaVuSerif-49\"/>\n       <use transform=\"translate(63.623047 0.7125)\" xlink:href=\"#DejaVuSerif-48\"/>\n       <use transform=\"translate(128.154453 37.046875)scale(0.7)\" xlink:href=\"#DejaVuSerif-48\"/>\n      </g>\n     </g>\n    </g>\n    <g id=\"xtick_4\">\n     <g id=\"line2d_7\">\n      <path clip-path=\"url(#p42414f6714)\" d=\"M 509.438352 215.544375 \nL 509.438352 22.318125 \n\" style=\"fill:none;stroke:#b0b0b0;stroke-linecap:square;stroke-width:0.8;\"/>\n     </g>\n     <g id=\"line2d_8\">\n      <g>\n       <use style=\"stroke:#000000;stroke-width:0.8;\" x=\"509.438352\" xlink:href=\"#mea06334881\" y=\"215.544375\"/>\n      </g>\n     </g>\n     <g id=\"text_4\">\n      <!-- $\\mathdefault{10^{1}}$ -->\n      <g transform=\"translate(500.638352 230.142812)scale(0.1 -0.1)\">\n       <use transform=\"translate(0 0.7125)\" xlink:href=\"#DejaVuSerif-49\"/>\n       <use transform=\"translate(63.623047 0.7125)\" xlink:href=\"#DejaVuSerif-48\"/>\n       <use transform=\"translate(128.154453 37.046875)scale(0.7)\" xlink:href=\"#DejaVuSerif-49\"/>\n      </g>\n     </g>\n    </g>\n    <g id=\"xtick_5\">\n     <g id=\"line2d_9\">\n      <path clip-path=\"url(#p42414f6714)\" d=\"M 653.96108 215.544375 \nL 653.96108 22.318125 \n\" style=\"fill:none;stroke:#b0b0b0;stroke-linecap:square;stroke-width:0.8;\"/>\n     </g>\n     <g id=\"line2d_10\">\n      <g>\n       <use style=\"stroke:#000000;stroke-width:0.8;\" x=\"653.96108\" xlink:href=\"#mea06334881\" y=\"215.544375\"/>\n      </g>\n     </g>\n     <g id=\"text_5\">\n      <!-- $\\mathdefault{10^{2}}$ -->\n      <g transform=\"translate(645.16108 230.142812)scale(0.1 -0.1)\">\n       <use transform=\"translate(0 0.7125)\" xlink:href=\"#DejaVuSerif-49\"/>\n       <use transform=\"translate(63.623047 0.7125)\" xlink:href=\"#DejaVuSerif-48\"/>\n       <use transform=\"translate(128.154453 37.046875)scale(0.7)\" xlink:href=\"#DejaVuSerif-50\"/>\n      </g>\n     </g>\n    </g>\n    <g id=\"xtick_6\">\n     <g id=\"line2d_11\">\n      <path clip-path=\"url(#p42414f6714)\" d=\"M 53.483317 215.544375 \nL 53.483317 22.318125 \n\" style=\"fill:none;stroke:#b0b0b0;stroke-linecap:square;stroke-width:0.8;\"/>\n     </g>\n     <g id=\"line2d_12\">\n      <defs>\n       <path d=\"M 0 0 \nL 0 2 \n\" id=\"m655ae1330b\" style=\"stroke:#000000;stroke-width:0.6;\"/>\n      </defs>\n      <g>\n       <use style=\"stroke:#000000;stroke-width:0.6;\" x=\"53.483317\" xlink:href=\"#m655ae1330b\" y=\"215.544375\"/>\n      </g>\n     </g>\n    </g>\n    <g id=\"xtick_7\">\n     <g id=\"line2d_13\">\n      <path clip-path=\"url(#p42414f6714)\" d=\"M 61.864471 215.544375 \nL 61.864471 22.318125 \n\" style=\"fill:none;stroke:#b0b0b0;stroke-linecap:square;stroke-width:0.8;\"/>\n     </g>\n     <g id=\"line2d_14\">\n      <g>\n       <use style=\"stroke:#000000;stroke-width:0.6;\" x=\"61.864471\" xlink:href=\"#m655ae1330b\" y=\"215.544375\"/>\n      </g>\n     </g>\n    </g>\n    <g id=\"xtick_8\">\n     <g id=\"line2d_15\">\n      <path clip-path=\"url(#p42414f6714)\" d=\"M 69.257173 215.544375 \nL 69.257173 22.318125 \n\" style=\"fill:none;stroke:#b0b0b0;stroke-linecap:square;stroke-width:0.8;\"/>\n     </g>\n     <g id=\"line2d_16\">\n      <g>\n       <use style=\"stroke:#000000;stroke-width:0.6;\" x=\"69.257173\" xlink:href=\"#m655ae1330b\" y=\"215.544375\"/>\n      </g>\n     </g>\n    </g>\n    <g id=\"xtick_9\">\n     <g id=\"line2d_17\">\n      <path clip-path=\"url(#p42414f6714)\" d=\"M 119.375846 215.544375 \nL 119.375846 22.318125 \n\" style=\"fill:none;stroke:#b0b0b0;stroke-linecap:square;stroke-width:0.8;\"/>\n     </g>\n     <g id=\"line2d_18\">\n      <g>\n       <use style=\"stroke:#000000;stroke-width:0.6;\" x=\"119.375846\" xlink:href=\"#m655ae1330b\" y=\"215.544375\"/>\n      </g>\n     </g>\n    </g>\n    <g id=\"xtick_10\">\n     <g id=\"line2d_19\">\n      <path clip-path=\"url(#p42414f6714)\" d=\"M 144.825035 215.544375 \nL 144.825035 22.318125 \n\" style=\"fill:none;stroke:#b0b0b0;stroke-linecap:square;stroke-width:0.8;\"/>\n     </g>\n     <g id=\"line2d_20\">\n      <g>\n       <use style=\"stroke:#000000;stroke-width:0.6;\" x=\"144.825035\" xlink:href=\"#m655ae1330b\" y=\"215.544375\"/>\n      </g>\n     </g>\n    </g>\n    <g id=\"xtick_11\">\n     <g id=\"line2d_21\">\n      <path clip-path=\"url(#p42414f6714)\" d=\"M 162.881522 215.544375 \nL 162.881522 22.318125 \n\" style=\"fill:none;stroke:#b0b0b0;stroke-linecap:square;stroke-width:0.8;\"/>\n     </g>\n     <g id=\"line2d_22\">\n      <g>\n       <use style=\"stroke:#000000;stroke-width:0.6;\" x=\"162.881522\" xlink:href=\"#m655ae1330b\" y=\"215.544375\"/>\n      </g>\n     </g>\n    </g>\n    <g id=\"xtick_12\">\n     <g id=\"line2d_23\">\n      <path clip-path=\"url(#p42414f6714)\" d=\"M 176.887222 215.544375 \nL 176.887222 22.318125 \n\" style=\"fill:none;stroke:#b0b0b0;stroke-linecap:square;stroke-width:0.8;\"/>\n     </g>\n     <g id=\"line2d_24\">\n      <g>\n       <use style=\"stroke:#000000;stroke-width:0.6;\" x=\"176.887222\" xlink:href=\"#m655ae1330b\" y=\"215.544375\"/>\n      </g>\n     </g>\n    </g>\n    <g id=\"xtick_13\">\n     <g id=\"line2d_25\">\n      <path clip-path=\"url(#p42414f6714)\" d=\"M 188.330711 215.544375 \nL 188.330711 22.318125 \n\" style=\"fill:none;stroke:#b0b0b0;stroke-linecap:square;stroke-width:0.8;\"/>\n     </g>\n     <g id=\"line2d_26\">\n      <g>\n       <use style=\"stroke:#000000;stroke-width:0.6;\" x=\"188.330711\" xlink:href=\"#m655ae1330b\" y=\"215.544375\"/>\n      </g>\n     </g>\n    </g>\n    <g id=\"xtick_14\">\n     <g id=\"line2d_27\">\n      <path clip-path=\"url(#p42414f6714)\" d=\"M 198.006044 215.544375 \nL 198.006044 22.318125 \n\" style=\"fill:none;stroke:#b0b0b0;stroke-linecap:square;stroke-width:0.8;\"/>\n     </g>\n     <g id=\"line2d_28\">\n      <g>\n       <use style=\"stroke:#000000;stroke-width:0.6;\" x=\"198.006044\" xlink:href=\"#m655ae1330b\" y=\"215.544375\"/>\n      </g>\n     </g>\n    </g>\n    <g id=\"xtick_15\">\n     <g id=\"line2d_29\">\n      <path clip-path=\"url(#p42414f6714)\" d=\"M 206.387198 215.544375 \nL 206.387198 22.318125 \n\" style=\"fill:none;stroke:#b0b0b0;stroke-linecap:square;stroke-width:0.8;\"/>\n     </g>\n     <g id=\"line2d_30\">\n      <g>\n       <use style=\"stroke:#000000;stroke-width:0.6;\" x=\"206.387198\" xlink:href=\"#m655ae1330b\" y=\"215.544375\"/>\n      </g>\n     </g>\n    </g>\n    <g id=\"xtick_16\">\n     <g id=\"line2d_31\">\n      <path clip-path=\"url(#p42414f6714)\" d=\"M 213.7799 215.544375 \nL 213.7799 22.318125 \n\" style=\"fill:none;stroke:#b0b0b0;stroke-linecap:square;stroke-width:0.8;\"/>\n     </g>\n     <g id=\"line2d_32\">\n      <g>\n       <use style=\"stroke:#000000;stroke-width:0.6;\" x=\"213.7799\" xlink:href=\"#m655ae1330b\" y=\"215.544375\"/>\n      </g>\n     </g>\n    </g>\n    <g id=\"xtick_17\">\n     <g id=\"line2d_33\">\n      <path clip-path=\"url(#p42414f6714)\" d=\"M 263.898574 215.544375 \nL 263.898574 22.318125 \n\" style=\"fill:none;stroke:#b0b0b0;stroke-linecap:square;stroke-width:0.8;\"/>\n     </g>\n     <g id=\"line2d_34\">\n      <g>\n       <use style=\"stroke:#000000;stroke-width:0.6;\" x=\"263.898574\" xlink:href=\"#m655ae1330b\" y=\"215.544375\"/>\n      </g>\n     </g>\n    </g>\n    <g id=\"xtick_18\">\n     <g id=\"line2d_35\">\n      <path clip-path=\"url(#p42414f6714)\" d=\"M 289.347763 215.544375 \nL 289.347763 22.318125 \n\" style=\"fill:none;stroke:#b0b0b0;stroke-linecap:square;stroke-width:0.8;\"/>\n     </g>\n     <g id=\"line2d_36\">\n      <g>\n       <use style=\"stroke:#000000;stroke-width:0.6;\" x=\"289.347763\" xlink:href=\"#m655ae1330b\" y=\"215.544375\"/>\n      </g>\n     </g>\n    </g>\n    <g id=\"xtick_19\">\n     <g id=\"line2d_37\">\n      <path clip-path=\"url(#p42414f6714)\" d=\"M 307.40425 215.544375 \nL 307.40425 22.318125 \n\" style=\"fill:none;stroke:#b0b0b0;stroke-linecap:square;stroke-width:0.8;\"/>\n     </g>\n     <g id=\"line2d_38\">\n      <g>\n       <use style=\"stroke:#000000;stroke-width:0.6;\" x=\"307.40425\" xlink:href=\"#m655ae1330b\" y=\"215.544375\"/>\n      </g>\n     </g>\n    </g>\n    <g id=\"xtick_20\">\n     <g id=\"line2d_39\">\n      <path clip-path=\"url(#p42414f6714)\" d=\"M 321.409949 215.544375 \nL 321.409949 22.318125 \n\" style=\"fill:none;stroke:#b0b0b0;stroke-linecap:square;stroke-width:0.8;\"/>\n     </g>\n     <g id=\"line2d_40\">\n      <g>\n       <use style=\"stroke:#000000;stroke-width:0.6;\" x=\"321.409949\" xlink:href=\"#m655ae1330b\" y=\"215.544375\"/>\n      </g>\n     </g>\n    </g>\n    <g id=\"xtick_21\">\n     <g id=\"line2d_41\">\n      <path clip-path=\"url(#p42414f6714)\" d=\"M 332.853439 215.544375 \nL 332.853439 22.318125 \n\" style=\"fill:none;stroke:#b0b0b0;stroke-linecap:square;stroke-width:0.8;\"/>\n     </g>\n     <g id=\"line2d_42\">\n      <g>\n       <use style=\"stroke:#000000;stroke-width:0.6;\" x=\"332.853439\" xlink:href=\"#m655ae1330b\" y=\"215.544375\"/>\n      </g>\n     </g>\n    </g>\n    <g id=\"xtick_22\">\n     <g id=\"line2d_43\">\n      <path clip-path=\"url(#p42414f6714)\" d=\"M 342.528771 215.544375 \nL 342.528771 22.318125 \n\" style=\"fill:none;stroke:#b0b0b0;stroke-linecap:square;stroke-width:0.8;\"/>\n     </g>\n     <g id=\"line2d_44\">\n      <g>\n       <use style=\"stroke:#000000;stroke-width:0.6;\" x=\"342.528771\" xlink:href=\"#m655ae1330b\" y=\"215.544375\"/>\n      </g>\n     </g>\n    </g>\n    <g id=\"xtick_23\">\n     <g id=\"line2d_45\">\n      <path clip-path=\"url(#p42414f6714)\" d=\"M 350.909926 215.544375 \nL 350.909926 22.318125 \n\" style=\"fill:none;stroke:#b0b0b0;stroke-linecap:square;stroke-width:0.8;\"/>\n     </g>\n     <g id=\"line2d_46\">\n      <g>\n       <use style=\"stroke:#000000;stroke-width:0.6;\" x=\"350.909926\" xlink:href=\"#m655ae1330b\" y=\"215.544375\"/>\n      </g>\n     </g>\n    </g>\n    <g id=\"xtick_24\">\n     <g id=\"line2d_47\">\n      <path clip-path=\"url(#p42414f6714)\" d=\"M 358.302628 215.544375 \nL 358.302628 22.318125 \n\" style=\"fill:none;stroke:#b0b0b0;stroke-linecap:square;stroke-width:0.8;\"/>\n     </g>\n     <g id=\"line2d_48\">\n      <g>\n       <use style=\"stroke:#000000;stroke-width:0.6;\" x=\"358.302628\" xlink:href=\"#m655ae1330b\" y=\"215.544375\"/>\n      </g>\n     </g>\n    </g>\n    <g id=\"xtick_25\">\n     <g id=\"line2d_49\">\n      <path clip-path=\"url(#p42414f6714)\" d=\"M 408.421301 215.544375 \nL 408.421301 22.318125 \n\" style=\"fill:none;stroke:#b0b0b0;stroke-linecap:square;stroke-width:0.8;\"/>\n     </g>\n     <g id=\"line2d_50\">\n      <g>\n       <use style=\"stroke:#000000;stroke-width:0.6;\" x=\"408.421301\" xlink:href=\"#m655ae1330b\" y=\"215.544375\"/>\n      </g>\n     </g>\n    </g>\n    <g id=\"xtick_26\">\n     <g id=\"line2d_51\">\n      <path clip-path=\"url(#p42414f6714)\" d=\"M 433.87049 215.544375 \nL 433.87049 22.318125 \n\" style=\"fill:none;stroke:#b0b0b0;stroke-linecap:square;stroke-width:0.8;\"/>\n     </g>\n     <g id=\"line2d_52\">\n      <g>\n       <use style=\"stroke:#000000;stroke-width:0.6;\" x=\"433.87049\" xlink:href=\"#m655ae1330b\" y=\"215.544375\"/>\n      </g>\n     </g>\n    </g>\n    <g id=\"xtick_27\">\n     <g id=\"line2d_53\">\n      <path clip-path=\"url(#p42414f6714)\" d=\"M 451.926977 215.544375 \nL 451.926977 22.318125 \n\" style=\"fill:none;stroke:#b0b0b0;stroke-linecap:square;stroke-width:0.8;\"/>\n     </g>\n     <g id=\"line2d_54\">\n      <g>\n       <use style=\"stroke:#000000;stroke-width:0.6;\" x=\"451.926977\" xlink:href=\"#m655ae1330b\" y=\"215.544375\"/>\n      </g>\n     </g>\n    </g>\n    <g id=\"xtick_28\">\n     <g id=\"line2d_55\">\n      <path clip-path=\"url(#p42414f6714)\" d=\"M 465.932676 215.544375 \nL 465.932676 22.318125 \n\" style=\"fill:none;stroke:#b0b0b0;stroke-linecap:square;stroke-width:0.8;\"/>\n     </g>\n     <g id=\"line2d_56\">\n      <g>\n       <use style=\"stroke:#000000;stroke-width:0.6;\" x=\"465.932676\" xlink:href=\"#m655ae1330b\" y=\"215.544375\"/>\n      </g>\n     </g>\n    </g>\n    <g id=\"xtick_29\">\n     <g id=\"line2d_57\">\n      <path clip-path=\"url(#p42414f6714)\" d=\"M 477.376166 215.544375 \nL 477.376166 22.318125 \n\" style=\"fill:none;stroke:#b0b0b0;stroke-linecap:square;stroke-width:0.8;\"/>\n     </g>\n     <g id=\"line2d_58\">\n      <g>\n       <use style=\"stroke:#000000;stroke-width:0.6;\" x=\"477.376166\" xlink:href=\"#m655ae1330b\" y=\"215.544375\"/>\n      </g>\n     </g>\n    </g>\n    <g id=\"xtick_30\">\n     <g id=\"line2d_59\">\n      <path clip-path=\"url(#p42414f6714)\" d=\"M 487.051499 215.544375 \nL 487.051499 22.318125 \n\" style=\"fill:none;stroke:#b0b0b0;stroke-linecap:square;stroke-width:0.8;\"/>\n     </g>\n     <g id=\"line2d_60\">\n      <g>\n       <use style=\"stroke:#000000;stroke-width:0.6;\" x=\"487.051499\" xlink:href=\"#m655ae1330b\" y=\"215.544375\"/>\n      </g>\n     </g>\n    </g>\n    <g id=\"xtick_31\">\n     <g id=\"line2d_61\">\n      <path clip-path=\"url(#p42414f6714)\" d=\"M 495.432653 215.544375 \nL 495.432653 22.318125 \n\" style=\"fill:none;stroke:#b0b0b0;stroke-linecap:square;stroke-width:0.8;\"/>\n     </g>\n     <g id=\"line2d_62\">\n      <g>\n       <use style=\"stroke:#000000;stroke-width:0.6;\" x=\"495.432653\" xlink:href=\"#m655ae1330b\" y=\"215.544375\"/>\n      </g>\n     </g>\n    </g>\n    <g id=\"xtick_32\">\n     <g id=\"line2d_63\">\n      <path clip-path=\"url(#p42414f6714)\" d=\"M 502.825355 215.544375 \nL 502.825355 22.318125 \n\" style=\"fill:none;stroke:#b0b0b0;stroke-linecap:square;stroke-width:0.8;\"/>\n     </g>\n     <g id=\"line2d_64\">\n      <g>\n       <use style=\"stroke:#000000;stroke-width:0.6;\" x=\"502.825355\" xlink:href=\"#m655ae1330b\" y=\"215.544375\"/>\n      </g>\n     </g>\n    </g>\n    <g id=\"xtick_33\">\n     <g id=\"line2d_65\">\n      <path clip-path=\"url(#p42414f6714)\" d=\"M 552.944028 215.544375 \nL 552.944028 22.318125 \n\" style=\"fill:none;stroke:#b0b0b0;stroke-linecap:square;stroke-width:0.8;\"/>\n     </g>\n     <g id=\"line2d_66\">\n      <g>\n       <use style=\"stroke:#000000;stroke-width:0.6;\" x=\"552.944028\" xlink:href=\"#m655ae1330b\" y=\"215.544375\"/>\n      </g>\n     </g>\n    </g>\n    <g id=\"xtick_34\">\n     <g id=\"line2d_67\">\n      <path clip-path=\"url(#p42414f6714)\" d=\"M 578.393217 215.544375 \nL 578.393217 22.318125 \n\" style=\"fill:none;stroke:#b0b0b0;stroke-linecap:square;stroke-width:0.8;\"/>\n     </g>\n     <g id=\"line2d_68\">\n      <g>\n       <use style=\"stroke:#000000;stroke-width:0.6;\" x=\"578.393217\" xlink:href=\"#m655ae1330b\" y=\"215.544375\"/>\n      </g>\n     </g>\n    </g>\n    <g id=\"xtick_35\">\n     <g id=\"line2d_69\">\n      <path clip-path=\"url(#p42414f6714)\" d=\"M 596.449704 215.544375 \nL 596.449704 22.318125 \n\" style=\"fill:none;stroke:#b0b0b0;stroke-linecap:square;stroke-width:0.8;\"/>\n     </g>\n     <g id=\"line2d_70\">\n      <g>\n       <use style=\"stroke:#000000;stroke-width:0.6;\" x=\"596.449704\" xlink:href=\"#m655ae1330b\" y=\"215.544375\"/>\n      </g>\n     </g>\n    </g>\n    <g id=\"xtick_36\">\n     <g id=\"line2d_71\">\n      <path clip-path=\"url(#p42414f6714)\" d=\"M 610.455404 215.544375 \nL 610.455404 22.318125 \n\" style=\"fill:none;stroke:#b0b0b0;stroke-linecap:square;stroke-width:0.8;\"/>\n     </g>\n     <g id=\"line2d_72\">\n      <g>\n       <use style=\"stroke:#000000;stroke-width:0.6;\" x=\"610.455404\" xlink:href=\"#m655ae1330b\" y=\"215.544375\"/>\n      </g>\n     </g>\n    </g>\n    <g id=\"xtick_37\">\n     <g id=\"line2d_73\">\n      <path clip-path=\"url(#p42414f6714)\" d=\"M 621.898893 215.544375 \nL 621.898893 22.318125 \n\" style=\"fill:none;stroke:#b0b0b0;stroke-linecap:square;stroke-width:0.8;\"/>\n     </g>\n     <g id=\"line2d_74\">\n      <g>\n       <use style=\"stroke:#000000;stroke-width:0.6;\" x=\"621.898893\" xlink:href=\"#m655ae1330b\" y=\"215.544375\"/>\n      </g>\n     </g>\n    </g>\n    <g id=\"xtick_38\">\n     <g id=\"line2d_75\">\n      <path clip-path=\"url(#p42414f6714)\" d=\"M 631.574226 215.544375 \nL 631.574226 22.318125 \n\" style=\"fill:none;stroke:#b0b0b0;stroke-linecap:square;stroke-width:0.8;\"/>\n     </g>\n     <g id=\"line2d_76\">\n      <g>\n       <use style=\"stroke:#000000;stroke-width:0.6;\" x=\"631.574226\" xlink:href=\"#m655ae1330b\" y=\"215.544375\"/>\n      </g>\n     </g>\n    </g>\n    <g id=\"xtick_39\">\n     <g id=\"line2d_77\">\n      <path clip-path=\"url(#p42414f6714)\" d=\"M 639.95538 215.544375 \nL 639.95538 22.318125 \n\" style=\"fill:none;stroke:#b0b0b0;stroke-linecap:square;stroke-width:0.8;\"/>\n     </g>\n     <g id=\"line2d_78\">\n      <g>\n       <use style=\"stroke:#000000;stroke-width:0.6;\" x=\"639.95538\" xlink:href=\"#m655ae1330b\" y=\"215.544375\"/>\n      </g>\n     </g>\n    </g>\n    <g id=\"xtick_40\">\n     <g id=\"line2d_79\">\n      <path clip-path=\"url(#p42414f6714)\" d=\"M 647.348082 215.544375 \nL 647.348082 22.318125 \n\" style=\"fill:none;stroke:#b0b0b0;stroke-linecap:square;stroke-width:0.8;\"/>\n     </g>\n     <g id=\"line2d_80\">\n      <g>\n       <use style=\"stroke:#000000;stroke-width:0.6;\" x=\"647.348082\" xlink:href=\"#m655ae1330b\" y=\"215.544375\"/>\n      </g>\n     </g>\n    </g>\n    <g id=\"text_6\">\n     <!-- Emission rate, $s^{-1}$ -->\n     <defs>\n      <path d=\"M 5.515625 0 \nL 5.515625 5.171875 \nL 14.796875 5.171875 \nL 14.796875 67.671875 \nL 5.515625 67.671875 \nL 5.515625 72.90625 \nL 64.203125 72.90625 \nL 64.203125 56.6875 \nL 58.203125 56.6875 \nL 58.203125 66.890625 \nL 24.703125 66.890625 \nL 24.703125 42.484375 \nL 48.578125 42.484375 \nL 48.578125 51.609375 \nL 54.59375 51.609375 \nL 54.59375 27.390625 \nL 48.578125 27.390625 \nL 48.578125 36.53125 \nL 24.703125 36.53125 \nL 24.703125 6 \nL 58.984375 6 \nL 58.984375 16.21875 \nL 64.984375 16.21875 \nL 64.984375 0 \nz\n\" id=\"DejaVuSerif-69\"/>\n      <path d=\"M 51.8125 41.796875 \nQ 54.390625 47.515625 58.421875 50.421875 \nQ 62.453125 53.328125 67.828125 53.328125 \nQ 75.984375 53.328125 79.984375 48.265625 \nQ 83.984375 43.21875 83.984375 33.015625 \nL 83.984375 5.171875 \nL 92.09375 5.171875 \nL 92.09375 0 \nL 67.1875 0 \nL 67.1875 5.171875 \nL 75 5.171875 \nL 75 31.984375 \nQ 75 39.9375 72.65625 43.3125 \nQ 70.3125 46.6875 64.890625 46.6875 \nQ 58.890625 46.6875 55.734375 42.140625 \nQ 52.59375 37.59375 52.59375 28.90625 \nL 52.59375 5.171875 \nL 60.40625 5.171875 \nL 60.40625 0 \nL 35.796875 0 \nL 35.796875 5.171875 \nL 43.609375 5.171875 \nL 43.609375 32.328125 \nQ 43.609375 40.09375 41.265625 43.390625 \nQ 38.921875 46.6875 33.5 46.6875 \nQ 27.484375 46.6875 24.328125 42.140625 \nQ 21.1875 37.59375 21.1875 28.90625 \nL 21.1875 5.171875 \nL 29 5.171875 \nL 29 0 \nL 4.109375 0 \nL 4.109375 5.171875 \nL 12.203125 5.171875 \nL 12.203125 46.78125 \nL 3.609375 46.78125 \nL 3.609375 51.90625 \nL 21.1875 51.90625 \nL 21.1875 42.671875 \nQ 23.6875 47.859375 27.53125 50.59375 \nQ 31.390625 53.328125 36.28125 53.328125 \nQ 42.328125 53.328125 46.375 50.3125 \nQ 50.4375 47.3125 51.8125 41.796875 \nz\n\" id=\"DejaVuSerif-109\"/>\n      <path d=\"M 9.71875 68.015625 \nQ 9.71875 70.265625 11.34375 71.921875 \nQ 12.984375 73.578125 15.28125 73.578125 \nQ 17.53125 73.578125 19.15625 71.921875 \nQ 20.796875 70.265625 20.796875 68.015625 \nQ 20.796875 65.71875 19.1875 64.109375 \nQ 17.578125 62.5 15.28125 62.5 \nQ 12.984375 62.5 11.34375 64.109375 \nQ 9.71875 65.71875 9.71875 68.015625 \nz\nM 21.1875 5.171875 \nL 29.6875 5.171875 \nL 29.6875 0 \nL 3.609375 0 \nL 3.609375 5.171875 \nL 12.203125 5.171875 \nL 12.203125 46.6875 \nL 3.609375 46.6875 \nL 3.609375 51.90625 \nL 21.1875 51.90625 \nz\n\" id=\"DejaVuSerif-105\"/>\n      <path d=\"M 5.609375 2.875 \nL 5.609375 14.984375 \nL 10.796875 14.984375 \nQ 10.984375 9.1875 14.421875 6.296875 \nQ 17.875 3.421875 24.609375 3.421875 \nQ 30.671875 3.421875 33.84375 5.6875 \nQ 37.015625 7.953125 37.015625 12.3125 \nQ 37.015625 15.71875 34.6875 17.8125 \nQ 32.375 19.921875 24.90625 22.3125 \nL 18.40625 24.515625 \nQ 11.71875 26.65625 8.71875 29.875 \nQ 5.71875 33.109375 5.71875 38.09375 \nQ 5.71875 45.21875 10.9375 49.265625 \nQ 16.15625 53.328125 25.390625 53.328125 \nQ 29.5 53.328125 34.03125 52.25 \nQ 38.578125 51.171875 43.40625 49.125 \nL 43.40625 37.796875 \nL 38.234375 37.796875 \nQ 38.03125 42.828125 34.703125 45.65625 \nQ 31.390625 48.484375 25.6875 48.484375 \nQ 20.015625 48.484375 17.109375 46.484375 \nQ 14.203125 44.484375 14.203125 40.484375 \nQ 14.203125 37.203125 16.40625 35.21875 \nQ 18.609375 33.25 25.203125 31.203125 \nL 32.328125 29 \nQ 39.703125 26.703125 42.9375 23.265625 \nQ 46.1875 19.828125 46.1875 14.40625 \nQ 46.1875 7.03125 40.546875 2.796875 \nQ 34.90625 -1.421875 25 -1.421875 \nQ 19.96875 -1.421875 15.1875 -0.34375 \nQ 10.40625 0.734375 5.609375 2.875 \nz\n\" id=\"DejaVuSerif-115\"/>\n      <path d=\"M 30.078125 3.421875 \nQ 37.3125 3.421875 40.984375 9.125 \nQ 44.671875 14.84375 44.671875 25.984375 \nQ 44.671875 37.109375 40.984375 42.796875 \nQ 37.3125 48.484375 30.078125 48.484375 \nQ 22.859375 48.484375 19.171875 42.796875 \nQ 15.484375 37.109375 15.484375 25.984375 \nQ 15.484375 14.84375 19.1875 9.125 \nQ 22.90625 3.421875 30.078125 3.421875 \nz\nM 30.078125 -1.421875 \nQ 18.75 -1.421875 11.859375 6.078125 \nQ 4.984375 13.578125 4.984375 25.984375 \nQ 4.984375 38.375 11.84375 45.84375 \nQ 18.703125 53.328125 30.078125 53.328125 \nQ 41.453125 53.328125 48.3125 45.84375 \nQ 55.171875 38.375 55.171875 25.984375 \nQ 55.171875 13.578125 48.3125 6.078125 \nQ 41.453125 -1.421875 30.078125 -1.421875 \nz\n\" id=\"DejaVuSerif-111\"/>\n      <path d=\"M 4.109375 0 \nL 4.109375 5.171875 \nL 12.203125 5.171875 \nL 12.203125 46.6875 \nL 3.609375 46.6875 \nL 3.609375 51.90625 \nL 21.1875 51.90625 \nL 21.1875 42.671875 \nQ 23.6875 47.953125 27.65625 50.640625 \nQ 31.640625 53.328125 36.921875 53.328125 \nQ 45.515625 53.328125 49.5625 48.390625 \nQ 53.609375 43.453125 53.609375 33.015625 \nL 53.609375 5.171875 \nL 61.625 5.171875 \nL 61.625 0 \nL 36.8125 0 \nL 36.8125 5.171875 \nL 44.578125 5.171875 \nL 44.578125 30.171875 \nQ 44.578125 39.703125 42.234375 43.234375 \nQ 39.890625 46.78125 33.984375 46.78125 \nQ 27.734375 46.78125 24.453125 42.203125 \nQ 21.1875 37.640625 21.1875 28.90625 \nL 21.1875 5.171875 \nL 29 5.171875 \nL 29 0 \nz\n\" id=\"DejaVuSerif-110\"/>\n      <path id=\"DejaVuSerif-32\"/>\n      <path d=\"M 47.796875 52 \nL 47.796875 39.015625 \nL 42.625 39.015625 \nQ 42.390625 42.875 40.484375 44.78125 \nQ 38.578125 46.6875 34.90625 46.6875 \nQ 28.265625 46.6875 24.71875 42.09375 \nQ 21.1875 37.5 21.1875 28.90625 \nL 21.1875 5.171875 \nL 31.59375 5.171875 \nL 31.59375 0 \nL 4.109375 0 \nL 4.109375 5.171875 \nL 12.203125 5.171875 \nL 12.203125 46.78125 \nL 3.609375 46.78125 \nL 3.609375 51.90625 \nL 21.1875 51.90625 \nL 21.1875 42.671875 \nQ 23.828125 48.09375 27.96875 50.703125 \nQ 32.125 53.328125 38.09375 53.328125 \nQ 40.28125 53.328125 42.703125 52.984375 \nQ 45.125 52.640625 47.796875 52 \nz\n\" id=\"DejaVuSerif-114\"/>\n      <path d=\"M 39.796875 16.3125 \nL 39.796875 27.296875 \nL 28.21875 27.296875 \nQ 21.53125 27.296875 18.25 24.40625 \nQ 14.984375 21.53125 14.984375 15.578125 \nQ 14.984375 10.15625 18.296875 6.984375 \nQ 21.625 3.8125 27.296875 3.8125 \nQ 32.90625 3.8125 36.34375 7.28125 \nQ 39.796875 10.75 39.796875 16.3125 \nz\nM 48.78125 32.421875 \nL 48.78125 5.171875 \nL 56.78125 5.171875 \nL 56.78125 0 \nL 39.796875 0 \nL 39.796875 5.609375 \nQ 36.8125 2 32.90625 0.28125 \nQ 29 -1.421875 23.78125 -1.421875 \nQ 15.140625 -1.421875 10.0625 3.171875 \nQ 4.984375 7.765625 4.984375 15.578125 \nQ 4.984375 23.640625 10.796875 28.078125 \nQ 16.609375 32.515625 27.203125 32.515625 \nL 39.796875 32.515625 \nL 39.796875 36.078125 \nQ 39.796875 42 36.203125 45.234375 \nQ 32.625 48.484375 26.125 48.484375 \nQ 20.75 48.484375 17.578125 46.046875 \nQ 14.40625 43.609375 13.625 38.8125 \nL 8.984375 38.8125 \nL 8.984375 49.3125 \nQ 13.671875 51.3125 18.09375 52.3125 \nQ 22.515625 53.328125 26.703125 53.328125 \nQ 37.5 53.328125 43.140625 47.96875 \nQ 48.78125 42.625 48.78125 32.421875 \nz\n\" id=\"DejaVuSerif-97\"/>\n      <path d=\"M 10.796875 46.6875 \nL 2.875 46.6875 \nL 2.875 51.90625 \nL 10.796875 51.90625 \nL 10.796875 68.015625 \nL 19.828125 68.015625 \nL 19.828125 51.90625 \nL 36.71875 51.90625 \nL 36.71875 46.6875 \nL 19.828125 46.6875 \nL 19.828125 13.71875 \nQ 19.828125 7.125 21.09375 5.265625 \nQ 22.359375 3.421875 25.78125 3.421875 \nQ 29.296875 3.421875 30.90625 5.484375 \nQ 32.515625 7.5625 32.625 12.203125 \nL 39.40625 12.203125 \nQ 39.015625 5.125 35.546875 1.84375 \nQ 32.078125 -1.421875 25 -1.421875 \nQ 17.234375 -1.421875 14.015625 2.015625 \nQ 10.796875 5.46875 10.796875 13.71875 \nz\n\" id=\"DejaVuSerif-116\"/>\n      <path d=\"M 54.203125 25 \nL 15.484375 25 \nL 15.484375 24.609375 \nQ 15.484375 14.109375 19.4375 8.765625 \nQ 23.390625 3.421875 31.109375 3.421875 \nQ 37.015625 3.421875 40.796875 6.515625 \nQ 44.578125 9.625 46.09375 15.71875 \nL 53.328125 15.71875 \nQ 51.171875 7.171875 45.375 2.875 \nQ 39.59375 -1.421875 30.171875 -1.421875 \nQ 18.796875 -1.421875 11.890625 6.078125 \nQ 4.984375 13.578125 4.984375 25.984375 \nQ 4.984375 38.28125 11.765625 45.796875 \nQ 18.5625 53.328125 29.59375 53.328125 \nQ 41.359375 53.328125 47.65625 46.0625 \nQ 53.953125 38.8125 54.203125 25 \nz\nM 43.609375 30.171875 \nQ 43.3125 39.265625 39.765625 43.875 \nQ 36.234375 48.484375 29.59375 48.484375 \nQ 23.390625 48.484375 19.828125 43.84375 \nQ 16.265625 39.203125 15.484375 30.171875 \nz\n\" id=\"DejaVuSerif-101\"/>\n      <path d=\"M 3.609375 -9.71875 \nQ 8.203125 -6.34375 10.34375 -1.78125 \nQ 12.5 2.78125 12.5 9.28125 \nL 12.5 11.078125 \nL 22.125 11.078125 \nQ 21.734375 2.734375 18.1875 -3.25 \nQ 14.65625 -9.234375 7.515625 -13.625 \nz\n\" id=\"DejaVuSerif-44\"/>\n      <path d=\"M 3.46875 14.984375 \nL 8.640625 14.984375 \nQ 8.453125 13.578125 8.453125 12.3125 \nQ 8.453125 3.421875 20.515625 3.421875 \nQ 32.625 3.421875 34.375 12.3125 \nQ 34.515625 13.1875 34.515625 14.75 \nQ 34.515625 16.265625 32.859375 18.09375 \nQ 31.203125 19.921875 24.21875 22.3125 \nL 18.109375 24.515625 \nQ 11.859375 26.65625 9.828125 29.40625 \nQ 7.8125 32.171875 7.8125 35.359375 \nQ 7.8125 36.625 8.0625 38.09375 \nQ 9.46875 45.21875 15.46875 49.265625 \nQ 21.484375 53.328125 30.171875 53.328125 \nQ 38.8125 53.328125 47.90625 49.125 \nL 45.703125 37.796875 \nL 40.53125 37.796875 \nQ 40.71875 38.921875 40.71875 39.890625 \nQ 40.71875 43.453125 38.25 45.96875 \nQ 35.796875 48.484375 30.078125 48.484375 \nQ 18.609375 48.484375 17.046875 40.484375 \nQ 16.84375 39.65625 16.84375 38.1875 \nQ 16.84375 36.671875 18.421875 34.953125 \nQ 20.015625 33.25 26.21875 31.203125 \nL 32.90625 29 \nQ 39.84375 26.703125 42.4375 23.25 \nQ 44.234375 20.796875 44.234375 18.40625 \nQ 44.234375 8.15625 36.03125 2.828125 \nQ 29.59375 -1.421875 19.71875 -1.421875 \nQ 9.859375 -1.421875 1.125 2.875 \nz\n\" id=\"DejaVuSerif-Italic-115\"/>\n     </defs>\n     <g transform=\"translate(318.765625 244.442812)scale(0.1 -0.1)\">\n      <use transform=\"translate(0 0.7125)\" xlink:href=\"#DejaVuSerif-69\"/>\n      <use transform=\"translate(72.998047 0.7125)\" xlink:href=\"#DejaVuSerif-109\"/>\n      <use transform=\"translate(167.822266 0.7125)\" xlink:href=\"#DejaVuSerif-105\"/>\n      <use transform=\"translate(199.804688 0.7125)\" xlink:href=\"#DejaVuSerif-115\"/>\n      <use transform=\"translate(251.123047 0.7125)\" xlink:href=\"#DejaVuSerif-115\"/>\n      <use transform=\"translate(302.441406 0.7125)\" xlink:href=\"#DejaVuSerif-105\"/>\n      <use transform=\"translate(334.423828 0.7125)\" xlink:href=\"#DejaVuSerif-111\"/>\n      <use transform=\"translate(394.628906 0.7125)\" xlink:href=\"#DejaVuSerif-110\"/>\n      <use transform=\"translate(459.033203 0.7125)\" xlink:href=\"#DejaVuSerif-32\"/>\n      <use transform=\"translate(490.820312 0.7125)\" xlink:href=\"#DejaVuSerif-114\"/>\n      <use transform=\"translate(538.623047 0.7125)\" xlink:href=\"#DejaVuSerif-97\"/>\n      <use transform=\"translate(598.242188 0.7125)\" xlink:href=\"#DejaVuSerif-116\"/>\n      <use transform=\"translate(638.427734 0.7125)\" xlink:href=\"#DejaVuSerif-101\"/>\n      <use transform=\"translate(697.607422 0.7125)\" xlink:href=\"#DejaVuSerif-44\"/>\n      <use transform=\"translate(729.394531 0.7125)\" xlink:href=\"#DejaVuSerif-32\"/>\n      <use transform=\"translate(761.181641 0.7125)\" xlink:href=\"#DejaVuSerif-Italic-115\"/>\n      <use transform=\"translate(816.938073 37.046875)scale(0.7)\" xlink:href=\"#DejaVuSerif-8722\"/>\n      <use transform=\"translate(875.590417 37.046875)scale(0.7)\" xlink:href=\"#DejaVuSerif-49\"/>\n     </g>\n    </g>\n   </g>\n   <g id=\"matplotlib.axis_2\">\n    <g id=\"ytick_1\">\n     <g id=\"line2d_81\">\n      <path clip-path=\"url(#p42414f6714)\" d=\"M 46.965625 206.761364 \nL 682.865625 206.761364 \n\" style=\"fill:none;stroke:#b0b0b0;stroke-linecap:square;stroke-width:0.8;\"/>\n     </g>\n     <g id=\"line2d_82\">\n      <defs>\n       <path d=\"M 0 0 \nL -3.5 0 \n\" id=\"m840f3a8109\" style=\"stroke:#000000;stroke-width:0.8;\"/>\n      </defs>\n      <g>\n       <use style=\"stroke:#000000;stroke-width:0.8;\" x=\"46.965625\" xlink:href=\"#m840f3a8109\" y=\"206.761364\"/>\n      </g>\n     </g>\n     <g id=\"text_7\">\n      <!-- 0 -->\n      <g transform=\"translate(33.603125 210.560582)scale(0.1 -0.1)\">\n       <use xlink:href=\"#DejaVuSerif-48\"/>\n      </g>\n     </g>\n    </g>\n    <g id=\"ytick_2\">\n     <g id=\"line2d_83\">\n      <path clip-path=\"url(#p42414f6714)\" d=\"M 46.965625 183.372664 \nL 682.865625 183.372664 \n\" style=\"fill:none;stroke:#b0b0b0;stroke-linecap:square;stroke-width:0.8;\"/>\n     </g>\n     <g id=\"line2d_84\">\n      <g>\n       <use style=\"stroke:#000000;stroke-width:0.8;\" x=\"46.965625\" xlink:href=\"#m840f3a8109\" y=\"183.372664\"/>\n      </g>\n     </g>\n     <g id=\"text_8\">\n      <!-- 1 -->\n      <g transform=\"translate(33.603125 187.171883)scale(0.1 -0.1)\">\n       <use xlink:href=\"#DejaVuSerif-49\"/>\n      </g>\n     </g>\n    </g>\n    <g id=\"ytick_3\">\n     <g id=\"line2d_85\">\n      <path clip-path=\"url(#p42414f6714)\" d=\"M 46.965625 159.983965 \nL 682.865625 159.983965 \n\" style=\"fill:none;stroke:#b0b0b0;stroke-linecap:square;stroke-width:0.8;\"/>\n     </g>\n     <g id=\"line2d_86\">\n      <g>\n       <use style=\"stroke:#000000;stroke-width:0.8;\" x=\"46.965625\" xlink:href=\"#m840f3a8109\" y=\"159.983965\"/>\n      </g>\n     </g>\n     <g id=\"text_9\">\n      <!-- 2 -->\n      <g transform=\"translate(33.603125 163.783183)scale(0.1 -0.1)\">\n       <use xlink:href=\"#DejaVuSerif-50\"/>\n      </g>\n     </g>\n    </g>\n    <g id=\"ytick_4\">\n     <g id=\"line2d_87\">\n      <path clip-path=\"url(#p42414f6714)\" d=\"M 46.965625 136.595265 \nL 682.865625 136.595265 \n\" style=\"fill:none;stroke:#b0b0b0;stroke-linecap:square;stroke-width:0.8;\"/>\n     </g>\n     <g id=\"line2d_88\">\n      <g>\n       <use style=\"stroke:#000000;stroke-width:0.8;\" x=\"46.965625\" xlink:href=\"#m840f3a8109\" y=\"136.595265\"/>\n      </g>\n     </g>\n     <g id=\"text_10\">\n      <!-- 3 -->\n      <defs>\n       <path d=\"M 9.71875 69.828125 \nQ 15.4375 71.96875 20.671875 73.09375 \nQ 25.921875 74.21875 30.515625 74.21875 \nQ 41.21875 74.21875 47.21875 69.59375 \nQ 53.21875 64.984375 53.21875 56.78125 \nQ 53.21875 50.203125 49.0625 45.78125 \nQ 44.921875 41.359375 37.3125 39.796875 \nQ 46.296875 38.53125 51.25 33.28125 \nQ 56.203125 28.03125 56.203125 19.671875 \nQ 56.203125 9.46875 49.34375 4.015625 \nQ 42.484375 -1.421875 29.59375 -1.421875 \nQ 23.875 -1.421875 18.421875 -0.1875 \nQ 12.984375 1.03125 7.625 3.515625 \nL 7.625 17.671875 \nL 13.09375 17.671875 \nQ 13.578125 10.640625 17.828125 7.03125 \nQ 22.078125 3.421875 29.78125 3.421875 \nQ 37.25 3.421875 41.578125 7.734375 \nQ 45.90625 12.0625 45.90625 19.578125 \nQ 45.90625 28.171875 41.453125 32.59375 \nQ 37.015625 37.015625 28.421875 37.015625 \nL 23.78125 37.015625 \nL 23.78125 42 \nL 26.21875 42 \nQ 34.765625 42 39.03125 45.53125 \nQ 43.3125 49.078125 43.3125 56.203125 \nQ 43.3125 62.59375 39.796875 65.984375 \nQ 36.28125 69.390625 29.6875 69.390625 \nQ 23.09375 69.390625 19.453125 66.265625 \nQ 15.828125 63.140625 15.1875 56.984375 \nL 9.71875 56.984375 \nz\n\" id=\"DejaVuSerif-51\"/>\n      </defs>\n      <g transform=\"translate(33.603125 140.394484)scale(0.1 -0.1)\">\n       <use xlink:href=\"#DejaVuSerif-51\"/>\n      </g>\n     </g>\n    </g>\n    <g id=\"ytick_5\">\n     <g id=\"line2d_89\">\n      <path clip-path=\"url(#p42414f6714)\" d=\"M 46.965625 113.206566 \nL 682.865625 113.206566 \n\" style=\"fill:none;stroke:#b0b0b0;stroke-linecap:square;stroke-width:0.8;\"/>\n     </g>\n     <g id=\"line2d_90\">\n      <g>\n       <use style=\"stroke:#000000;stroke-width:0.8;\" x=\"46.965625\" xlink:href=\"#m840f3a8109\" y=\"113.206566\"/>\n      </g>\n     </g>\n     <g id=\"text_11\">\n      <!-- 4 -->\n      <defs>\n       <path d=\"M 34.90625 24.703125 \nL 34.90625 63.484375 \nL 10.015625 24.703125 \nz\nM 56.390625 0 \nL 23.1875 0 \nL 23.1875 5.171875 \nL 34.90625 5.171875 \nL 34.90625 19.484375 \nL 3.078125 19.484375 \nL 3.078125 24.8125 \nL 35.015625 74.21875 \nL 44.671875 74.21875 \nL 44.671875 24.703125 \nL 58.59375 24.703125 \nL 58.59375 19.484375 \nL 44.671875 19.484375 \nL 44.671875 5.171875 \nL 56.390625 5.171875 \nz\n\" id=\"DejaVuSerif-52\"/>\n      </defs>\n      <g transform=\"translate(33.603125 117.005784)scale(0.1 -0.1)\">\n       <use xlink:href=\"#DejaVuSerif-52\"/>\n      </g>\n     </g>\n    </g>\n    <g id=\"ytick_6\">\n     <g id=\"line2d_91\">\n      <path clip-path=\"url(#p42414f6714)\" d=\"M 46.965625 89.817866 \nL 682.865625 89.817866 \n\" style=\"fill:none;stroke:#b0b0b0;stroke-linecap:square;stroke-width:0.8;\"/>\n     </g>\n     <g id=\"line2d_92\">\n      <g>\n       <use style=\"stroke:#000000;stroke-width:0.8;\" x=\"46.965625\" xlink:href=\"#m840f3a8109\" y=\"89.817866\"/>\n      </g>\n     </g>\n     <g id=\"text_12\">\n      <!-- 5 -->\n      <defs>\n       <path d=\"M 50.296875 72.90625 \nL 50.296875 64.890625 \nL 16.890625 64.890625 \nL 16.890625 44 \nQ 19.4375 45.75 22.828125 46.625 \nQ 26.21875 47.515625 30.421875 47.515625 \nQ 42.234375 47.515625 49.0625 40.96875 \nQ 55.90625 34.421875 55.90625 23.09375 \nQ 55.90625 11.53125 49 5.046875 \nQ 42.09375 -1.421875 29.59375 -1.421875 \nQ 24.5625 -1.421875 19.28125 -0.1875 \nQ 14.015625 1.03125 8.5 3.515625 \nL 8.5 17.671875 \nL 14.015625 17.671875 \nQ 14.453125 10.75 18.421875 7.078125 \nQ 22.40625 3.421875 29.59375 3.421875 \nQ 37.3125 3.421875 41.453125 8.5 \nQ 45.609375 13.578125 45.609375 23.09375 \nQ 45.609375 32.5625 41.484375 37.609375 \nQ 37.359375 42.671875 29.59375 42.671875 \nQ 25.203125 42.671875 21.84375 41.109375 \nQ 18.5 39.546875 15.921875 36.28125 \nL 11.71875 36.28125 \nL 11.71875 72.90625 \nz\n\" id=\"DejaVuSerif-53\"/>\n      </defs>\n      <g transform=\"translate(33.603125 93.617085)scale(0.1 -0.1)\">\n       <use xlink:href=\"#DejaVuSerif-53\"/>\n      </g>\n     </g>\n    </g>\n    <g id=\"ytick_7\">\n     <g id=\"line2d_93\">\n      <path clip-path=\"url(#p42414f6714)\" d=\"M 46.965625 66.429167 \nL 682.865625 66.429167 \n\" style=\"fill:none;stroke:#b0b0b0;stroke-linecap:square;stroke-width:0.8;\"/>\n     </g>\n     <g id=\"line2d_94\">\n      <g>\n       <use style=\"stroke:#000000;stroke-width:0.8;\" x=\"46.965625\" xlink:href=\"#m840f3a8109\" y=\"66.429167\"/>\n      </g>\n     </g>\n     <g id=\"text_13\">\n      <!-- 6 -->\n      <defs>\n       <path d=\"M 32.71875 3.421875 \nQ 39.59375 3.421875 43.296875 8.46875 \nQ 47.015625 13.53125 47.015625 23 \nQ 47.015625 32.46875 43.296875 37.515625 \nQ 39.59375 42.578125 32.71875 42.578125 \nQ 25.734375 42.578125 22.0625 37.6875 \nQ 18.40625 32.8125 18.40625 23.578125 \nQ 18.40625 13.875 22.109375 8.640625 \nQ 25.828125 3.421875 32.71875 3.421875 \nz\nM 16.796875 40.140625 \nQ 20.125 43.796875 24.3125 45.59375 \nQ 28.515625 47.40625 33.796875 47.40625 \nQ 44.671875 47.40625 51 40.859375 \nQ 57.328125 34.328125 57.328125 23 \nQ 57.328125 11.921875 50.515625 5.25 \nQ 43.703125 -1.421875 32.328125 -1.421875 \nQ 19.96875 -1.421875 13.328125 7.78125 \nQ 6.6875 17 6.6875 34.078125 \nQ 6.6875 53.21875 14.546875 63.71875 \nQ 22.40625 74.21875 36.71875 74.21875 \nQ 40.578125 74.21875 44.828125 73.484375 \nQ 49.078125 72.75 53.515625 71.296875 \nL 53.515625 59.28125 \nL 48 59.28125 \nQ 47.40625 64.203125 44.234375 66.796875 \nQ 41.0625 69.390625 35.6875 69.390625 \nQ 26.21875 69.390625 21.578125 62.203125 \nQ 16.9375 55.03125 16.796875 40.140625 \nz\n\" id=\"DejaVuSerif-54\"/>\n      </defs>\n      <g transform=\"translate(33.603125 70.228385)scale(0.1 -0.1)\">\n       <use xlink:href=\"#DejaVuSerif-54\"/>\n      </g>\n     </g>\n    </g>\n    <g id=\"ytick_8\">\n     <g id=\"line2d_95\">\n      <path clip-path=\"url(#p42414f6714)\" d=\"M 46.965625 43.040467 \nL 682.865625 43.040467 \n\" style=\"fill:none;stroke:#b0b0b0;stroke-linecap:square;stroke-width:0.8;\"/>\n     </g>\n     <g id=\"line2d_96\">\n      <g>\n       <use style=\"stroke:#000000;stroke-width:0.8;\" x=\"46.965625\" xlink:href=\"#m840f3a8109\" y=\"43.040467\"/>\n      </g>\n     </g>\n     <g id=\"text_14\">\n      <!-- 7 -->\n      <defs>\n       <path d=\"M 56.390625 67.921875 \nL 27.875 0 \nL 20.609375 0 \nL 47.796875 64.890625 \nL 14.109375 64.890625 \nL 14.109375 55.90625 \nL 8.40625 55.90625 \nL 8.40625 72.90625 \nL 56.390625 72.90625 \nz\n\" id=\"DejaVuSerif-55\"/>\n      </defs>\n      <g transform=\"translate(33.603125 46.839686)scale(0.1 -0.1)\">\n       <use xlink:href=\"#DejaVuSerif-55\"/>\n      </g>\n     </g>\n    </g>\n    <g id=\"text_15\">\n     <!-- Amplitude, arb. units -->\n     <defs>\n      <path d=\"M 20.015625 26.421875 \nL 46.78125 26.421875 \nL 33.40625 61.078125 \nz\nM -0.59375 0 \nL -0.59375 5.171875 \nL 5.8125 5.171875 \nL 31.78125 72.90625 \nL 39.984375 72.90625 \nL 66.015625 5.171875 \nL 73.1875 5.171875 \nL 73.1875 0 \nL 46.6875 0 \nL 46.6875 5.171875 \nL 54.78125 5.171875 \nL 48.6875 21.1875 \nL 18.015625 21.1875 \nL 11.921875 5.171875 \nL 19.921875 5.171875 \nL 19.921875 0 \nz\n\" id=\"DejaVuSerif-65\"/>\n      <path d=\"M 20.515625 28.515625 \nL 20.515625 23.390625 \nQ 20.515625 14.015625 24.09375 9.109375 \nQ 27.6875 4.203125 34.515625 4.203125 \nQ 41.40625 4.203125 44.9375 9.71875 \nQ 48.484375 15.234375 48.484375 25.984375 \nQ 48.484375 36.765625 44.9375 42.234375 \nQ 41.40625 47.703125 34.515625 47.703125 \nQ 27.6875 47.703125 24.09375 42.765625 \nQ 20.515625 37.84375 20.515625 28.515625 \nz\nM 11.53125 46.6875 \nL 2.875 46.6875 \nL 2.875 51.90625 \nL 20.515625 51.90625 \nL 20.515625 43.796875 \nQ 23.140625 48.6875 27.21875 51 \nQ 31.296875 53.328125 37.3125 53.328125 \nQ 46.875 53.328125 52.921875 45.75 \nQ 58.984375 38.1875 58.984375 25.984375 \nQ 58.984375 13.765625 52.921875 6.171875 \nQ 46.875 -1.421875 37.3125 -1.421875 \nQ 31.296875 -1.421875 27.21875 0.890625 \nQ 23.140625 3.21875 20.515625 8.109375 \nL 20.515625 -15.578125 \nL 29 -15.578125 \nL 29 -20.796875 \nL 2.875 -20.796875 \nL 2.875 -15.578125 \nL 11.53125 -15.578125 \nz\n\" id=\"DejaVuSerif-112\"/>\n      <path d=\"M 20.515625 5.171875 \nL 29 5.171875 \nL 29 0 \nL 2.875 0 \nL 2.875 5.171875 \nL 11.53125 5.171875 \nL 11.53125 70.796875 \nL 2.875 70.796875 \nL 2.875 75.984375 \nL 20.515625 75.984375 \nz\n\" id=\"DejaVuSerif-108\"/>\n      <path d=\"M 35.40625 51.90625 \nL 52.203125 51.90625 \nL 52.203125 5.171875 \nL 60.6875 5.171875 \nL 60.6875 0 \nL 43.21875 0 \nL 43.21875 9.1875 \nQ 40.71875 4 36.765625 1.28125 \nQ 32.8125 -1.421875 27.59375 -1.421875 \nQ 18.953125 -1.421875 14.875 3.484375 \nQ 10.796875 8.40625 10.796875 18.890625 \nL 10.796875 46.6875 \nL 2.6875 46.6875 \nL 2.6875 51.90625 \nL 19.828125 51.90625 \nL 19.828125 21.6875 \nQ 19.828125 12.203125 22.140625 8.6875 \nQ 24.46875 5.171875 30.421875 5.171875 \nQ 36.671875 5.171875 39.9375 9.765625 \nQ 43.21875 14.359375 43.21875 23.09375 \nL 43.21875 46.6875 \nL 35.40625 46.6875 \nz\n\" id=\"DejaVuSerif-117\"/>\n      <path d=\"M 52.484375 5.171875 \nL 61.078125 5.171875 \nL 61.078125 0 \nL 43.5 0 \nL 43.5 8.109375 \nQ 40.875 3.21875 36.796875 0.890625 \nQ 32.71875 -1.421875 26.703125 -1.421875 \nQ 17.140625 -1.421875 11.0625 6.171875 \nQ 4.984375 13.765625 4.984375 25.984375 \nQ 4.984375 38.1875 11.03125 45.75 \nQ 17.09375 53.328125 26.703125 53.328125 \nQ 32.71875 53.328125 36.796875 51 \nQ 40.875 48.6875 43.5 43.796875 \nL 43.5 70.796875 \nL 35.015625 70.796875 \nL 35.015625 75.984375 \nL 52.484375 75.984375 \nz\nM 43.5 23.390625 \nL 43.5 28.515625 \nQ 43.5 37.84375 39.90625 42.765625 \nQ 36.328125 47.703125 29.5 47.703125 \nQ 22.5625 47.703125 19.015625 42.234375 \nQ 15.484375 36.765625 15.484375 25.984375 \nQ 15.484375 15.234375 19.015625 9.71875 \nQ 22.5625 4.203125 29.5 4.203125 \nQ 36.328125 4.203125 39.90625 9.109375 \nQ 43.5 14.015625 43.5 23.390625 \nz\n\" id=\"DejaVuSerif-100\"/>\n      <path d=\"M 11.53125 5.171875 \nL 11.53125 70.796875 \nL 2.875 70.796875 \nL 2.875 75.984375 \nL 20.515625 75.984375 \nL 20.515625 43.796875 \nQ 23.140625 48.6875 27.21875 51 \nQ 31.296875 53.328125 37.3125 53.328125 \nQ 46.875 53.328125 52.921875 45.75 \nQ 58.984375 38.1875 58.984375 25.984375 \nQ 58.984375 13.765625 52.921875 6.171875 \nQ 46.875 -1.421875 37.3125 -1.421875 \nQ 31.296875 -1.421875 27.21875 0.890625 \nQ 23.140625 3.21875 20.515625 8.109375 \nL 20.515625 0 \nL 2.875 0 \nL 2.875 5.171875 \nz\nM 20.515625 23.390625 \nQ 20.515625 14.015625 24.09375 9.109375 \nQ 27.6875 4.203125 34.515625 4.203125 \nQ 41.40625 4.203125 44.9375 9.71875 \nQ 48.484375 15.234375 48.484375 25.984375 \nQ 48.484375 36.765625 44.9375 42.234375 \nQ 41.40625 47.703125 34.515625 47.703125 \nQ 27.6875 47.703125 24.09375 42.765625 \nQ 20.515625 37.84375 20.515625 28.515625 \nz\n\" id=\"DejaVuSerif-98\"/>\n      <path d=\"M 9.421875 5.078125 \nQ 9.421875 7.8125 11.28125 9.71875 \nQ 13.140625 11.625 15.921875 11.625 \nQ 18.609375 11.625 20.5 9.71875 \nQ 22.40625 7.8125 22.40625 5.078125 \nQ 22.40625 2.390625 20.5 0.484375 \nQ 18.609375 -1.421875 15.921875 -1.421875 \nQ 13.140625 -1.421875 11.28125 0.453125 \nQ 9.421875 2.34375 9.421875 5.078125 \nz\n\" id=\"DejaVuSerif-46\"/>\n     </defs>\n     <g transform=\"translate(27.523438 172.615625)rotate(-90)scale(0.1 -0.1)\">\n      <use xlink:href=\"#DejaVuSerif-65\"/>\n      <use x=\"72.216797\" xlink:href=\"#DejaVuSerif-109\"/>\n      <use x=\"167.041016\" xlink:href=\"#DejaVuSerif-112\"/>\n      <use x=\"231.054688\" xlink:href=\"#DejaVuSerif-108\"/>\n      <use x=\"263.037109\" xlink:href=\"#DejaVuSerif-105\"/>\n      <use x=\"295.019531\" xlink:href=\"#DejaVuSerif-116\"/>\n      <use x=\"335.205078\" xlink:href=\"#DejaVuSerif-117\"/>\n      <use x=\"399.609375\" xlink:href=\"#DejaVuSerif-100\"/>\n      <use x=\"463.623047\" xlink:href=\"#DejaVuSerif-101\"/>\n      <use x=\"522.802734\" xlink:href=\"#DejaVuSerif-44\"/>\n      <use x=\"554.589844\" xlink:href=\"#DejaVuSerif-32\"/>\n      <use x=\"586.376953\" xlink:href=\"#DejaVuSerif-97\"/>\n      <use x=\"645.996094\" xlink:href=\"#DejaVuSerif-114\"/>\n      <use x=\"693.798828\" xlink:href=\"#DejaVuSerif-98\"/>\n      <use x=\"757.8125\" xlink:href=\"#DejaVuSerif-46\"/>\n      <use x=\"789.599609\" xlink:href=\"#DejaVuSerif-32\"/>\n      <use x=\"821.386719\" xlink:href=\"#DejaVuSerif-117\"/>\n      <use x=\"885.791016\" xlink:href=\"#DejaVuSerif-110\"/>\n      <use x=\"950.195312\" xlink:href=\"#DejaVuSerif-105\"/>\n      <use x=\"982.177734\" xlink:href=\"#DejaVuSerif-116\"/>\n      <use x=\"1022.363281\" xlink:href=\"#DejaVuSerif-115\"/>\n     </g>\n    </g>\n    <g id=\"text_16\">\n     <!-- 1e−5 -->\n     <g transform=\"translate(46.965625 19.318125)scale(0.1 -0.1)\">\n      <use xlink:href=\"#DejaVuSerif-49\"/>\n      <use x=\"63.623047\" xlink:href=\"#DejaVuSerif-101\"/>\n      <use x=\"122.802734\" xlink:href=\"#DejaVuSerif-8722\"/>\n      <use x=\"206.591797\" xlink:href=\"#DejaVuSerif-53\"/>\n     </g>\n    </g>\n   </g>\n   <g id=\"line2d_97\">\n    <path clip-path=\"url(#p42414f6714)\" d=\"M 75.87017 200.610695 \nL 81.709473 189.511637 \nL 87.548775 174.652147 \nL 93.388077 157.170274 \nL 99.227379 138.149454 \nL 105.066681 118.596664 \nL 110.905983 99.437701 \nL 116.745285 81.503192 \nL 122.584587 65.512028 \nL 128.423889 52.067341 \nL 134.263192 41.647505 \nL 140.102494 34.591538 \nL 145.941796 31.101136 \nL 151.781098 31.23644 \nL 157.6204 34.914946 \nL 163.459702 41.916461 \nL 169.299004 51.889782 \nL 175.138306 64.36965 \nL 180.977608 78.787044 \nL 186.816911 94.496143 \nL 192.656213 110.79814 \nL 198.495515 126.973203 \nL 204.334817 142.312795 \nL 210.174119 156.159812 \nL 216.013421 167.940333 \nL 221.852723 177.202078 \nL 227.692025 183.64917 \nL 233.531327 187.16179 \nL 239.37063 187.81703 \nL 245.209932 185.888207 \nL 251.049234 181.836109 \nL 256.888536 176.277157 \nL 262.727838 169.936495 \nL 268.56714 163.587007 \nL 274.406442 157.976572 \nL 280.245744 153.744414 \nL 286.085046 151.340454 \nL 291.924349 150.96417 \nL 297.763651 152.523167 \nL 303.602953 155.61721 \nL 309.442255 159.584937 \nL 315.281557 163.568388 \nL 321.120859 166.64697 \nL 326.960161 167.97143 \nL 332.799463 166.923132 \nL 338.638765 163.268472 \nL 344.478068 157.220738 \nL 350.31737 149.487334 \nL 356.156672 141.203051 \nL 361.995974 133.781374 \nL 367.835276 128.661873 \nL 373.674578 127.104597 \nL 379.51388 129.889811 \nL 385.353182 137.124961 \nL 391.192485 148.1964 \nL 397.031787 161.761163 \nL 402.871089 176.003651 \nL 408.710391 188.928296 \nL 414.549693 198.819481 \nL 420.388995 204.697678 \nL 426.228297 206.761364 \nL 432.067599 206.761364 \nL 437.906901 206.761364 \nL 443.746204 206.761364 \nL 449.585506 206.761364 \nL 455.424808 206.761364 \nL 461.26411 206.761364 \nL 467.103412 206.761364 \nL 472.942714 206.761364 \nL 478.782016 206.761364 \nL 484.621318 206.761364 \nL 490.46062 206.761364 \nL 496.299923 206.761364 \nL 502.139225 206.761364 \nL 507.978527 206.761364 \nL 513.817829 206.761364 \nL 519.657131 206.761364 \nL 525.496433 206.761364 \nL 531.335735 206.761364 \nL 537.175037 206.761364 \nL 543.014339 206.761364 \nL 548.853642 206.761364 \nL 554.692944 206.761364 \nL 560.532246 206.761364 \nL 566.371548 206.761364 \nL 572.21085 206.761364 \nL 578.050152 206.761364 \nL 583.889454 206.761364 \nL 589.728756 206.761364 \nL 595.568058 206.761364 \nL 601.407361 206.761364 \nL 607.246663 206.761364 \nL 613.085965 206.758935 \nL 618.925267 206.76021 \nL 624.764569 206.761364 \nL 630.603871 206.758556 \nL 636.443173 206.756249 \nL 642.282475 206.761364 \nL 648.121777 206.758334 \nL 653.96108 206.760568 \n\" style=\"fill:none;stroke:#00bfbf;stroke-linecap:square;stroke-width:1.5;\"/>\n   </g>\n   <g id=\"patch_3\">\n    <path d=\"M 46.965625 215.544375 \nL 46.965625 22.318125 \n\" style=\"fill:none;stroke:#000000;stroke-linecap:square;stroke-linejoin:miter;stroke-width:0.8;\"/>\n   </g>\n   <g id=\"patch_4\">\n    <path d=\"M 682.865625 215.544375 \nL 682.865625 22.318125 \n\" style=\"fill:none;stroke:#000000;stroke-linecap:square;stroke-linejoin:miter;stroke-width:0.8;\"/>\n   </g>\n   <g id=\"patch_5\">\n    <path d=\"M 46.965625 215.544375 \nL 682.865625 215.544375 \n\" style=\"fill:none;stroke:#000000;stroke-linecap:square;stroke-linejoin:miter;stroke-width:0.8;\"/>\n   </g>\n   <g id=\"patch_6\">\n    <path d=\"M 46.965625 22.318125 \nL 682.865625 22.318125 \n\" style=\"fill:none;stroke:#000000;stroke-linecap:square;stroke-linejoin:miter;stroke-width:0.8;\"/>\n   </g>\n   <g id=\"text_17\">\n    <!-- Temperature 144.16 K -->\n    <defs>\n     <path d=\"M 19.09375 0 \nL 19.09375 5.171875 \nL 28.421875 5.171875 \nL 28.421875 67.09375 \nL 6.984375 67.09375 \nL 6.984375 55.71875 \nL 0.984375 55.71875 \nL 0.984375 72.90625 \nL 65.71875 72.90625 \nL 65.71875 55.71875 \nL 59.71875 55.71875 \nL 59.71875 67.09375 \nL 38.28125 67.09375 \nL 38.28125 5.171875 \nL 47.609375 5.171875 \nL 47.609375 0 \nz\n\" id=\"DejaVuSerif-84\"/>\n     <path d=\"M 5.515625 0 \nL 5.515625 5.171875 \nL 14.796875 5.171875 \nL 14.796875 67.671875 \nL 5.515625 67.671875 \nL 5.515625 72.90625 \nL 33.984375 72.90625 \nL 33.984375 67.671875 \nL 24.703125 67.671875 \nL 24.703125 40.09375 \nL 56.109375 67.671875 \nL 48.1875 67.671875 \nL 48.1875 72.90625 \nL 72.40625 72.90625 \nL 72.40625 67.671875 \nL 64.203125 67.671875 \nL 32.90625 40.1875 \nL 67.921875 5.171875 \nL 76.21875 5.171875 \nL 76.21875 0 \nL 59.28125 0 \nL 24.703125 34.625 \nL 24.703125 5.171875 \nL 33.984375 5.171875 \nL 33.984375 0 \nz\n\" id=\"DejaVuSerif-75\"/>\n    </defs>\n    <g transform=\"translate(296.315 16.318125)scale(0.12 -0.12)\">\n     <use xlink:href=\"#DejaVuSerif-84\"/>\n     <use x=\"58.949219\" xlink:href=\"#DejaVuSerif-101\"/>\n     <use x=\"118.128906\" xlink:href=\"#DejaVuSerif-109\"/>\n     <use x=\"212.953125\" xlink:href=\"#DejaVuSerif-112\"/>\n     <use x=\"276.966797\" xlink:href=\"#DejaVuSerif-101\"/>\n     <use x=\"336.146484\" xlink:href=\"#DejaVuSerif-114\"/>\n     <use x=\"383.949219\" xlink:href=\"#DejaVuSerif-97\"/>\n     <use x=\"443.568359\" xlink:href=\"#DejaVuSerif-116\"/>\n     <use x=\"483.753906\" xlink:href=\"#DejaVuSerif-117\"/>\n     <use x=\"548.158203\" xlink:href=\"#DejaVuSerif-114\"/>\n     <use x=\"595.960938\" xlink:href=\"#DejaVuSerif-101\"/>\n     <use x=\"655.140625\" xlink:href=\"#DejaVuSerif-32\"/>\n     <use x=\"686.927734\" xlink:href=\"#DejaVuSerif-49\"/>\n     <use x=\"750.550781\" xlink:href=\"#DejaVuSerif-52\"/>\n     <use x=\"814.173828\" xlink:href=\"#DejaVuSerif-52\"/>\n     <use x=\"877.796875\" xlink:href=\"#DejaVuSerif-46\"/>\n     <use x=\"909.583984\" xlink:href=\"#DejaVuSerif-49\"/>\n     <use x=\"973.207031\" xlink:href=\"#DejaVuSerif-54\"/>\n     <use x=\"1036.830078\" xlink:href=\"#DejaVuSerif-32\"/>\n     <use x=\"1068.617188\" xlink:href=\"#DejaVuSerif-75\"/>\n    </g>\n   </g>\n   <g id=\"legend_1\">\n    <g id=\"patch_7\">\n     <path d=\"M 610.095312 44.99625 \nL 675.865625 44.99625 \nQ 677.865625 44.99625 677.865625 42.99625 \nL 677.865625 29.318125 \nQ 677.865625 27.318125 675.865625 27.318125 \nL 610.095312 27.318125 \nQ 608.095312 27.318125 608.095312 29.318125 \nL 608.095312 42.99625 \nQ 608.095312 44.99625 610.095312 44.99625 \nz\n\" style=\"fill:#ffffff;opacity:0.8;stroke:#cccccc;stroke-linejoin:miter;\"/>\n    </g>\n    <g id=\"line2d_98\">\n     <path d=\"M 612.095312 35.416562 \nL 632.095312 35.416562 \n\" style=\"fill:none;stroke:#00bfbf;stroke-linecap:square;stroke-width:1.5;\"/>\n    </g>\n    <g id=\"line2d_99\"/>\n    <g id=\"text_18\">\n     <!-- Contin -->\n     <defs>\n      <path d=\"M 70.515625 19.28125 \nQ 67.28125 9.078125 59.6875 3.828125 \nQ 52.09375 -1.421875 40.484375 -1.421875 \nQ 33.34375 -1.421875 27.234375 1.015625 \nQ 21.140625 3.46875 16.40625 8.203125 \nQ 10.9375 13.671875 8.265625 20.625 \nQ 5.609375 27.59375 5.609375 36.375 \nQ 5.609375 53.375 15.421875 63.796875 \nQ 25.25 74.21875 41.3125 74.21875 \nQ 47.265625 74.21875 54 72.65625 \nQ 60.75 71.09375 68.5 67.921875 \nL 68.5 51.125 \nL 62.984375 51.125 \nQ 61.1875 60.296875 55.734375 64.640625 \nQ 50.296875 69 40.484375 69 \nQ 28.8125 69 22.796875 60.71875 \nQ 16.796875 52.4375 16.796875 36.375 \nQ 16.796875 20.359375 22.796875 12.078125 \nQ 28.8125 3.8125 40.484375 3.8125 \nQ 48.640625 3.8125 53.90625 7.6875 \nQ 59.1875 11.578125 61.53125 19.28125 \nz\n\" id=\"DejaVuSerif-67\"/>\n     </defs>\n     <g transform=\"translate(640.095312 38.916562)scale(0.1 -0.1)\">\n      <use xlink:href=\"#DejaVuSerif-67\"/>\n      <use x=\"76.513672\" xlink:href=\"#DejaVuSerif-111\"/>\n      <use x=\"136.71875\" xlink:href=\"#DejaVuSerif-110\"/>\n      <use x=\"201.123047\" xlink:href=\"#DejaVuSerif-116\"/>\n      <use x=\"241.308594\" xlink:href=\"#DejaVuSerif-105\"/>\n      <use x=\"273.291016\" xlink:href=\"#DejaVuSerif-110\"/>\n     </g>\n    </g>\n   </g>\n  </g>\n  <g id=\"axes_2\">\n   <g id=\"patch_8\">\n    <path d=\"M 46.965625 463.926875 \nL 324.703125 463.926875 \nL 324.703125 270.700625 \nL 46.965625 270.700625 \nz\n\" style=\"fill:#ffffff;\"/>\n   </g>\n   <g id=\"matplotlib.axis_3\">\n    <g id=\"xtick_41\">\n     <g id=\"line2d_100\">\n      <g>\n       <use style=\"stroke:#000000;stroke-width:0.8;\" x=\"46.965625\" xlink:href=\"#mea06334881\" y=\"463.926875\"/>\n      </g>\n     </g>\n     <g id=\"text_19\">\n      <!-- 0.0 -->\n      <g transform=\"translate(39.014063 478.525312)scale(0.1 -0.1)\">\n       <use xlink:href=\"#DejaVuSerif-48\"/>\n       <use x=\"63.623047\" xlink:href=\"#DejaVuSerif-46\"/>\n       <use x=\"95.410156\" xlink:href=\"#DejaVuSerif-48\"/>\n      </g>\n     </g>\n    </g>\n    <g id=\"xtick_42\">\n     <g id=\"line2d_101\">\n      <g>\n       <use style=\"stroke:#000000;stroke-width:0.8;\" x=\"102.513125\" xlink:href=\"#mea06334881\" y=\"463.926875\"/>\n      </g>\n     </g>\n     <g id=\"text_20\">\n      <!-- 0.2 -->\n      <g transform=\"translate(94.561563 478.525312)scale(0.1 -0.1)\">\n       <use xlink:href=\"#DejaVuSerif-48\"/>\n       <use x=\"63.623047\" xlink:href=\"#DejaVuSerif-46\"/>\n       <use x=\"95.410156\" xlink:href=\"#DejaVuSerif-50\"/>\n      </g>\n     </g>\n    </g>\n    <g id=\"xtick_43\">\n     <g id=\"line2d_102\">\n      <g>\n       <use style=\"stroke:#000000;stroke-width:0.8;\" x=\"158.060625\" xlink:href=\"#mea06334881\" y=\"463.926875\"/>\n      </g>\n     </g>\n     <g id=\"text_21\">\n      <!-- 0.4 -->\n      <g transform=\"translate(150.109062 478.525312)scale(0.1 -0.1)\">\n       <use xlink:href=\"#DejaVuSerif-48\"/>\n       <use x=\"63.623047\" xlink:href=\"#DejaVuSerif-46\"/>\n       <use x=\"95.410156\" xlink:href=\"#DejaVuSerif-52\"/>\n      </g>\n     </g>\n    </g>\n    <g id=\"xtick_44\">\n     <g id=\"line2d_103\">\n      <g>\n       <use style=\"stroke:#000000;stroke-width:0.8;\" x=\"213.608125\" xlink:href=\"#mea06334881\" y=\"463.926875\"/>\n      </g>\n     </g>\n     <g id=\"text_22\">\n      <!-- 0.6 -->\n      <g transform=\"translate(205.656563 478.525312)scale(0.1 -0.1)\">\n       <use xlink:href=\"#DejaVuSerif-48\"/>\n       <use x=\"63.623047\" xlink:href=\"#DejaVuSerif-46\"/>\n       <use x=\"95.410156\" xlink:href=\"#DejaVuSerif-54\"/>\n      </g>\n     </g>\n    </g>\n    <g id=\"xtick_45\">\n     <g id=\"line2d_104\">\n      <g>\n       <use style=\"stroke:#000000;stroke-width:0.8;\" x=\"269.155625\" xlink:href=\"#mea06334881\" y=\"463.926875\"/>\n      </g>\n     </g>\n     <g id=\"text_23\">\n      <!-- 0.8 -->\n      <defs>\n       <path d=\"M 46.578125 19.921875 \nQ 46.578125 27.734375 42.6875 32.046875 \nQ 38.8125 36.375 31.78125 36.375 \nQ 24.75 36.375 20.875 32.046875 \nQ 17 27.734375 17 19.921875 \nQ 17 12.0625 20.875 7.734375 \nQ 24.75 3.421875 31.78125 3.421875 \nQ 38.8125 3.421875 42.6875 7.734375 \nQ 46.578125 12.0625 46.578125 19.921875 \nz\nM 44.578125 55.328125 \nQ 44.578125 61.96875 41.203125 65.671875 \nQ 37.84375 69.390625 31.78125 69.390625 \nQ 25.78125 69.390625 22.390625 65.671875 \nQ 19 61.96875 19 55.328125 \nQ 19 48.640625 22.390625 44.921875 \nQ 25.78125 41.21875 31.78125 41.21875 \nQ 37.84375 41.21875 41.203125 44.921875 \nQ 44.578125 48.640625 44.578125 55.328125 \nz\nM 39.3125 38.8125 \nQ 47.609375 37.703125 52.25 32.6875 \nQ 56.890625 27.6875 56.890625 19.921875 \nQ 56.890625 9.671875 50.390625 4.125 \nQ 43.890625 -1.421875 31.78125 -1.421875 \nQ 19.734375 -1.421875 13.203125 4.125 \nQ 6.6875 9.671875 6.6875 19.921875 \nQ 6.6875 27.6875 11.328125 32.6875 \nQ 15.96875 37.703125 24.3125 38.8125 \nQ 16.9375 40.140625 13 44.40625 \nQ 9.078125 48.6875 9.078125 55.328125 \nQ 9.078125 64.109375 15.125 69.15625 \nQ 21.1875 74.21875 31.78125 74.21875 \nQ 42.390625 74.21875 48.4375 69.15625 \nQ 54.5 64.109375 54.5 55.328125 \nQ 54.5 48.6875 50.5625 44.40625 \nQ 46.625 40.140625 39.3125 38.8125 \nz\n\" id=\"DejaVuSerif-56\"/>\n      </defs>\n      <g transform=\"translate(261.204062 478.525312)scale(0.1 -0.1)\">\n       <use xlink:href=\"#DejaVuSerif-48\"/>\n       <use x=\"63.623047\" xlink:href=\"#DejaVuSerif-46\"/>\n       <use x=\"95.410156\" xlink:href=\"#DejaVuSerif-56\"/>\n      </g>\n     </g>\n    </g>\n    <g id=\"xtick_46\">\n     <g id=\"line2d_105\">\n      <g>\n       <use style=\"stroke:#000000;stroke-width:0.8;\" x=\"324.703125\" xlink:href=\"#mea06334881\" y=\"463.926875\"/>\n      </g>\n     </g>\n     <g id=\"text_24\">\n      <!-- 1.0 -->\n      <g transform=\"translate(316.751562 478.525312)scale(0.1 -0.1)\">\n       <use xlink:href=\"#DejaVuSerif-49\"/>\n       <use x=\"63.623047\" xlink:href=\"#DejaVuSerif-46\"/>\n       <use x=\"95.410156\" xlink:href=\"#DejaVuSerif-48\"/>\n      </g>\n     </g>\n    </g>\n   </g>\n   <g id=\"matplotlib.axis_4\">\n    <g id=\"ytick_9\">\n     <g id=\"line2d_106\">\n      <g>\n       <use style=\"stroke:#000000;stroke-width:0.8;\" x=\"46.965625\" xlink:href=\"#m840f3a8109\" y=\"463.926875\"/>\n      </g>\n     </g>\n     <g id=\"text_25\">\n      <!-- 0.0 -->\n      <g transform=\"translate(24.0625 467.726094)scale(0.1 -0.1)\">\n       <use xlink:href=\"#DejaVuSerif-48\"/>\n       <use x=\"63.623047\" xlink:href=\"#DejaVuSerif-46\"/>\n       <use x=\"95.410156\" xlink:href=\"#DejaVuSerif-48\"/>\n      </g>\n     </g>\n    </g>\n    <g id=\"ytick_10\">\n     <g id=\"line2d_107\">\n      <g>\n       <use style=\"stroke:#000000;stroke-width:0.8;\" x=\"46.965625\" xlink:href=\"#m840f3a8109\" y=\"425.281625\"/>\n      </g>\n     </g>\n     <g id=\"text_26\">\n      <!-- 0.2 -->\n      <g transform=\"translate(24.0625 429.080844)scale(0.1 -0.1)\">\n       <use xlink:href=\"#DejaVuSerif-48\"/>\n       <use x=\"63.623047\" xlink:href=\"#DejaVuSerif-46\"/>\n       <use x=\"95.410156\" xlink:href=\"#DejaVuSerif-50\"/>\n      </g>\n     </g>\n    </g>\n    <g id=\"ytick_11\">\n     <g id=\"line2d_108\">\n      <g>\n       <use style=\"stroke:#000000;stroke-width:0.8;\" x=\"46.965625\" xlink:href=\"#m840f3a8109\" y=\"386.636375\"/>\n      </g>\n     </g>\n     <g id=\"text_27\">\n      <!-- 0.4 -->\n      <g transform=\"translate(24.0625 390.435594)scale(0.1 -0.1)\">\n       <use xlink:href=\"#DejaVuSerif-48\"/>\n       <use x=\"63.623047\" xlink:href=\"#DejaVuSerif-46\"/>\n       <use x=\"95.410156\" xlink:href=\"#DejaVuSerif-52\"/>\n      </g>\n     </g>\n    </g>\n    <g id=\"ytick_12\">\n     <g id=\"line2d_109\">\n      <g>\n       <use style=\"stroke:#000000;stroke-width:0.8;\" x=\"46.965625\" xlink:href=\"#m840f3a8109\" y=\"347.991125\"/>\n      </g>\n     </g>\n     <g id=\"text_28\">\n      <!-- 0.6 -->\n      <g transform=\"translate(24.0625 351.790344)scale(0.1 -0.1)\">\n       <use xlink:href=\"#DejaVuSerif-48\"/>\n       <use x=\"63.623047\" xlink:href=\"#DejaVuSerif-46\"/>\n       <use x=\"95.410156\" xlink:href=\"#DejaVuSerif-54\"/>\n      </g>\n     </g>\n    </g>\n    <g id=\"ytick_13\">\n     <g id=\"line2d_110\">\n      <g>\n       <use style=\"stroke:#000000;stroke-width:0.8;\" x=\"46.965625\" xlink:href=\"#m840f3a8109\" y=\"309.345875\"/>\n      </g>\n     </g>\n     <g id=\"text_29\">\n      <!-- 0.8 -->\n      <g transform=\"translate(24.0625 313.145094)scale(0.1 -0.1)\">\n       <use xlink:href=\"#DejaVuSerif-48\"/>\n       <use x=\"63.623047\" xlink:href=\"#DejaVuSerif-46\"/>\n       <use x=\"95.410156\" xlink:href=\"#DejaVuSerif-56\"/>\n      </g>\n     </g>\n    </g>\n    <g id=\"ytick_14\">\n     <g id=\"line2d_111\">\n      <g>\n       <use style=\"stroke:#000000;stroke-width:0.8;\" x=\"46.965625\" xlink:href=\"#m840f3a8109\" y=\"270.700625\"/>\n      </g>\n     </g>\n     <g id=\"text_30\">\n      <!-- 1.0 -->\n      <g transform=\"translate(24.0625 274.499844)scale(0.1 -0.1)\">\n       <use xlink:href=\"#DejaVuSerif-49\"/>\n       <use x=\"63.623047\" xlink:href=\"#DejaVuSerif-46\"/>\n       <use x=\"95.410156\" xlink:href=\"#DejaVuSerif-48\"/>\n      </g>\n     </g>\n    </g>\n   </g>\n   <g id=\"patch_9\">\n    <path d=\"M 46.965625 463.926875 \nL 46.965625 270.700625 \n\" style=\"fill:none;stroke:#000000;stroke-linecap:square;stroke-linejoin:miter;stroke-width:0.8;\"/>\n   </g>\n   <g id=\"patch_10\">\n    <path d=\"M 324.703125 463.926875 \nL 324.703125 270.700625 \n\" style=\"fill:none;stroke:#000000;stroke-linecap:square;stroke-linejoin:miter;stroke-width:0.8;\"/>\n   </g>\n   <g id=\"patch_11\">\n    <path d=\"M 46.965625 463.926875 \nL 324.703125 463.926875 \n\" style=\"fill:none;stroke:#000000;stroke-linecap:square;stroke-linejoin:miter;stroke-width:0.8;\"/>\n   </g>\n   <g id=\"patch_12\">\n    <path d=\"M 46.965625 270.700625 \nL 324.703125 270.700625 \n\" style=\"fill:none;stroke:#000000;stroke-linecap:square;stroke-linejoin:miter;stroke-width:0.8;\"/>\n   </g>\n  </g>\n  <g id=\"axes_3\">\n   <g id=\"patch_13\">\n    <path d=\"M 405.128125 463.926875 \nL 682.865625 463.926875 \nL 682.865625 270.700625 \nL 405.128125 270.700625 \nz\n\" style=\"fill:#ffffff;\"/>\n   </g>\n   <g id=\"matplotlib.axis_5\">\n    <g id=\"xtick_47\">\n     <g id=\"line2d_112\">\n      <path clip-path=\"url(#pe26060970b)\" d=\"M 521.993851 463.926875 \nL 521.993851 270.700625 \n\" style=\"fill:none;stroke:#b0b0b0;stroke-linecap:square;stroke-width:0.8;\"/>\n     </g>\n     <g id=\"line2d_113\">\n      <g>\n       <use style=\"stroke:#000000;stroke-width:0.8;\" x=\"521.993851\" xlink:href=\"#mea06334881\" y=\"463.926875\"/>\n      </g>\n     </g>\n     <g id=\"text_31\">\n      <!-- $\\mathdefault{10^{0}}$ -->\n      <g transform=\"translate(513.193851 478.525312)scale(0.1 -0.1)\">\n       <use transform=\"translate(0 0.7125)\" xlink:href=\"#DejaVuSerif-49\"/>\n       <use transform=\"translate(63.623047 0.7125)\" xlink:href=\"#DejaVuSerif-48\"/>\n       <use transform=\"translate(128.154453 37.046875)scale(0.7)\" xlink:href=\"#DejaVuSerif-48\"/>\n      </g>\n     </g>\n    </g>\n    <g id=\"xtick_48\">\n     <g id=\"line2d_114\">\n      <path clip-path=\"url(#pe26060970b)\" d=\"M 648.514287 463.926875 \nL 648.514287 270.700625 \n\" style=\"fill:none;stroke:#b0b0b0;stroke-linecap:square;stroke-width:0.8;\"/>\n     </g>\n     <g id=\"line2d_115\">\n      <g>\n       <use style=\"stroke:#000000;stroke-width:0.8;\" x=\"648.514287\" xlink:href=\"#mea06334881\" y=\"463.926875\"/>\n      </g>\n     </g>\n     <g id=\"text_32\">\n      <!-- $\\mathdefault{10^{1}}$ -->\n      <g transform=\"translate(639.714287 478.525312)scale(0.1 -0.1)\">\n       <use transform=\"translate(0 0.7125)\" xlink:href=\"#DejaVuSerif-49\"/>\n       <use transform=\"translate(63.623047 0.7125)\" xlink:href=\"#DejaVuSerif-48\"/>\n       <use transform=\"translate(128.154453 37.046875)scale(0.7)\" xlink:href=\"#DejaVuSerif-49\"/>\n      </g>\n     </g>\n    </g>\n    <g id=\"xtick_49\">\n     <g id=\"line2d_116\">\n      <path clip-path=\"url(#pe26060970b)\" d=\"M 433.55986 463.926875 \nL 433.55986 270.700625 \n\" style=\"fill:none;stroke:#b0b0b0;stroke-linecap:square;stroke-width:0.8;\"/>\n     </g>\n     <g id=\"line2d_117\">\n      <g>\n       <use style=\"stroke:#000000;stroke-width:0.6;\" x=\"433.55986\" xlink:href=\"#m655ae1330b\" y=\"463.926875\"/>\n      </g>\n     </g>\n    </g>\n    <g id=\"xtick_50\">\n     <g id=\"line2d_118\">\n      <path clip-path=\"url(#pe26060970b)\" d=\"M 455.839003 463.926875 \nL 455.839003 270.700625 \n\" style=\"fill:none;stroke:#b0b0b0;stroke-linecap:square;stroke-width:0.8;\"/>\n     </g>\n     <g id=\"line2d_119\">\n      <g>\n       <use style=\"stroke:#000000;stroke-width:0.6;\" x=\"455.839003\" xlink:href=\"#m655ae1330b\" y=\"463.926875\"/>\n      </g>\n     </g>\n    </g>\n    <g id=\"xtick_51\">\n     <g id=\"line2d_120\">\n      <path clip-path=\"url(#pe26060970b)\" d=\"M 471.646307 463.926875 \nL 471.646307 270.700625 \n\" style=\"fill:none;stroke:#b0b0b0;stroke-linecap:square;stroke-width:0.8;\"/>\n     </g>\n     <g id=\"line2d_121\">\n      <g>\n       <use style=\"stroke:#000000;stroke-width:0.6;\" x=\"471.646307\" xlink:href=\"#m655ae1330b\" y=\"463.926875\"/>\n      </g>\n     </g>\n    </g>\n    <g id=\"xtick_52\">\n     <g id=\"line2d_122\">\n      <path clip-path=\"url(#pe26060970b)\" d=\"M 483.907404 463.926875 \nL 483.907404 270.700625 \n\" style=\"fill:none;stroke:#b0b0b0;stroke-linecap:square;stroke-width:0.8;\"/>\n     </g>\n     <g id=\"line2d_123\">\n      <g>\n       <use style=\"stroke:#000000;stroke-width:0.6;\" x=\"483.907404\" xlink:href=\"#m655ae1330b\" y=\"463.926875\"/>\n      </g>\n     </g>\n    </g>\n    <g id=\"xtick_53\">\n     <g id=\"line2d_124\">\n      <path clip-path=\"url(#pe26060970b)\" d=\"M 493.92545 463.926875 \nL 493.92545 270.700625 \n\" style=\"fill:none;stroke:#b0b0b0;stroke-linecap:square;stroke-width:0.8;\"/>\n     </g>\n     <g id=\"line2d_125\">\n      <g>\n       <use style=\"stroke:#000000;stroke-width:0.6;\" x=\"493.92545\" xlink:href=\"#m655ae1330b\" y=\"463.926875\"/>\n      </g>\n     </g>\n    </g>\n    <g id=\"xtick_54\">\n     <g id=\"line2d_126\">\n      <path clip-path=\"url(#pe26060970b)\" d=\"M 502.395587 463.926875 \nL 502.395587 270.700625 \n\" style=\"fill:none;stroke:#b0b0b0;stroke-linecap:square;stroke-width:0.8;\"/>\n     </g>\n     <g id=\"line2d_127\">\n      <g>\n       <use style=\"stroke:#000000;stroke-width:0.6;\" x=\"502.395587\" xlink:href=\"#m655ae1330b\" y=\"463.926875\"/>\n      </g>\n     </g>\n    </g>\n    <g id=\"xtick_55\">\n     <g id=\"line2d_128\">\n      <path clip-path=\"url(#pe26060970b)\" d=\"M 509.732753 463.926875 \nL 509.732753 270.700625 \n\" style=\"fill:none;stroke:#b0b0b0;stroke-linecap:square;stroke-width:0.8;\"/>\n     </g>\n     <g id=\"line2d_129\">\n      <g>\n       <use style=\"stroke:#000000;stroke-width:0.6;\" x=\"509.732753\" xlink:href=\"#m655ae1330b\" y=\"463.926875\"/>\n      </g>\n     </g>\n    </g>\n    <g id=\"xtick_56\">\n     <g id=\"line2d_130\">\n      <path clip-path=\"url(#pe26060970b)\" d=\"M 516.204593 463.926875 \nL 516.204593 270.700625 \n\" style=\"fill:none;stroke:#b0b0b0;stroke-linecap:square;stroke-width:0.8;\"/>\n     </g>\n     <g id=\"line2d_131\">\n      <g>\n       <use style=\"stroke:#000000;stroke-width:0.6;\" x=\"516.204593\" xlink:href=\"#m655ae1330b\" y=\"463.926875\"/>\n      </g>\n     </g>\n    </g>\n    <g id=\"xtick_57\">\n     <g id=\"line2d_132\">\n      <path clip-path=\"url(#pe26060970b)\" d=\"M 560.080297 463.926875 \nL 560.080297 270.700625 \n\" style=\"fill:none;stroke:#b0b0b0;stroke-linecap:square;stroke-width:0.8;\"/>\n     </g>\n     <g id=\"line2d_133\">\n      <g>\n       <use style=\"stroke:#000000;stroke-width:0.6;\" x=\"560.080297\" xlink:href=\"#m655ae1330b\" y=\"463.926875\"/>\n      </g>\n     </g>\n    </g>\n    <g id=\"xtick_58\">\n     <g id=\"line2d_134\">\n      <path clip-path=\"url(#pe26060970b)\" d=\"M 582.35944 463.926875 \nL 582.35944 270.700625 \n\" style=\"fill:none;stroke:#b0b0b0;stroke-linecap:square;stroke-width:0.8;\"/>\n     </g>\n     <g id=\"line2d_135\">\n      <g>\n       <use style=\"stroke:#000000;stroke-width:0.6;\" x=\"582.35944\" xlink:href=\"#m655ae1330b\" y=\"463.926875\"/>\n      </g>\n     </g>\n    </g>\n    <g id=\"xtick_59\">\n     <g id=\"line2d_136\">\n      <path clip-path=\"url(#pe26060970b)\" d=\"M 598.166744 463.926875 \nL 598.166744 270.700625 \n\" style=\"fill:none;stroke:#b0b0b0;stroke-linecap:square;stroke-width:0.8;\"/>\n     </g>\n     <g id=\"line2d_137\">\n      <g>\n       <use style=\"stroke:#000000;stroke-width:0.6;\" x=\"598.166744\" xlink:href=\"#m655ae1330b\" y=\"463.926875\"/>\n      </g>\n     </g>\n    </g>\n    <g id=\"xtick_60\">\n     <g id=\"line2d_138\">\n      <path clip-path=\"url(#pe26060970b)\" d=\"M 610.427841 463.926875 \nL 610.427841 270.700625 \n\" style=\"fill:none;stroke:#b0b0b0;stroke-linecap:square;stroke-width:0.8;\"/>\n     </g>\n     <g id=\"line2d_139\">\n      <g>\n       <use style=\"stroke:#000000;stroke-width:0.6;\" x=\"610.427841\" xlink:href=\"#m655ae1330b\" y=\"463.926875\"/>\n      </g>\n     </g>\n    </g>\n    <g id=\"xtick_61\">\n     <g id=\"line2d_140\">\n      <path clip-path=\"url(#pe26060970b)\" d=\"M 620.445887 463.926875 \nL 620.445887 270.700625 \n\" style=\"fill:none;stroke:#b0b0b0;stroke-linecap:square;stroke-width:0.8;\"/>\n     </g>\n     <g id=\"line2d_141\">\n      <g>\n       <use style=\"stroke:#000000;stroke-width:0.6;\" x=\"620.445887\" xlink:href=\"#m655ae1330b\" y=\"463.926875\"/>\n      </g>\n     </g>\n    </g>\n    <g id=\"xtick_62\">\n     <g id=\"line2d_142\">\n      <path clip-path=\"url(#pe26060970b)\" d=\"M 628.916024 463.926875 \nL 628.916024 270.700625 \n\" style=\"fill:none;stroke:#b0b0b0;stroke-linecap:square;stroke-width:0.8;\"/>\n     </g>\n     <g id=\"line2d_143\">\n      <g>\n       <use style=\"stroke:#000000;stroke-width:0.6;\" x=\"628.916024\" xlink:href=\"#m655ae1330b\" y=\"463.926875\"/>\n      </g>\n     </g>\n    </g>\n    <g id=\"xtick_63\">\n     <g id=\"line2d_144\">\n      <path clip-path=\"url(#pe26060970b)\" d=\"M 636.25319 463.926875 \nL 636.25319 270.700625 \n\" style=\"fill:none;stroke:#b0b0b0;stroke-linecap:square;stroke-width:0.8;\"/>\n     </g>\n     <g id=\"line2d_145\">\n      <g>\n       <use style=\"stroke:#000000;stroke-width:0.6;\" x=\"636.25319\" xlink:href=\"#m655ae1330b\" y=\"463.926875\"/>\n      </g>\n     </g>\n    </g>\n    <g id=\"xtick_64\">\n     <g id=\"line2d_146\">\n      <path clip-path=\"url(#pe26060970b)\" d=\"M 642.72503 463.926875 \nL 642.72503 270.700625 \n\" style=\"fill:none;stroke:#b0b0b0;stroke-linecap:square;stroke-width:0.8;\"/>\n     </g>\n     <g id=\"line2d_147\">\n      <g>\n       <use style=\"stroke:#000000;stroke-width:0.6;\" x=\"642.72503\" xlink:href=\"#m655ae1330b\" y=\"463.926875\"/>\n      </g>\n     </g>\n    </g>\n    <g id=\"text_33\">\n     <!-- Time $t$, $s$ -->\n     <defs>\n      <path d=\"M 13.375 46.6875 \nL 5.46875 46.6875 \nL 6.5 51.90625 \nL 14.40625 51.90625 \nL 17.53125 68.015625 \nL 26.5625 68.015625 \nL 23.4375 51.90625 \nL 40.328125 51.90625 \nL 39.3125 46.6875 \nL 22.40625 46.6875 \nL 16.015625 13.71875 \nQ 15.28125 9.859375 15.28125 7.625 \nQ 15.28125 6.0625 15.625 5.28125 \nQ 16.546875 3.421875 19.96875 3.421875 \nQ 23.484375 3.421875 25.515625 5.484375 \nQ 27.546875 7.5625 28.515625 12.203125 \nL 35.296875 12.203125 \nQ 33.546875 5.125 29.4375 1.84375 \nQ 25.34375 -1.421875 18.265625 -1.421875 \nQ 10.5 -1.421875 7.90625 2.046875 \nQ 6.34375 4.15625 6.34375 8.0625 \nQ 6.34375 10.546875 6.984375 13.71875 \nz\n\" id=\"DejaVuSerif-Italic-116\"/>\n     </defs>\n     <g transform=\"translate(521.996875 492.203437)scale(0.1 -0.1)\">\n      <use transform=\"translate(0 0.421875)\" xlink:href=\"#DejaVuSerif-84\"/>\n      <use transform=\"translate(66.699219 0.421875)\" xlink:href=\"#DejaVuSerif-105\"/>\n      <use transform=\"translate(98.681641 0.421875)\" xlink:href=\"#DejaVuSerif-109\"/>\n      <use transform=\"translate(193.505859 0.421875)\" xlink:href=\"#DejaVuSerif-101\"/>\n      <use transform=\"translate(252.685547 0.421875)\" xlink:href=\"#DejaVuSerif-32\"/>\n      <use transform=\"translate(284.472656 0.421875)\" xlink:href=\"#DejaVuSerif-Italic-116\"/>\n      <use transform=\"translate(324.658203 0.421875)\" xlink:href=\"#DejaVuSerif-44\"/>\n      <use transform=\"translate(356.445312 0.421875)\" xlink:href=\"#DejaVuSerif-32\"/>\n      <use transform=\"translate(388.232422 0.421875)\" xlink:href=\"#DejaVuSerif-Italic-115\"/>\n     </g>\n    </g>\n   </g>\n   <g id=\"matplotlib.axis_6\">\n    <g id=\"ytick_15\">\n     <g id=\"line2d_148\">\n      <path clip-path=\"url(#pe26060970b)\" d=\"M 405.128125 457.525915 \nL 682.865625 457.525915 \n\" style=\"fill:none;stroke:#b0b0b0;stroke-linecap:square;stroke-width:0.8;\"/>\n     </g>\n     <g id=\"line2d_149\">\n      <g>\n       <use style=\"stroke:#000000;stroke-width:0.8;\" x=\"405.128125\" xlink:href=\"#m840f3a8109\" y=\"457.525915\"/>\n      </g>\n     </g>\n     <g id=\"text_34\">\n      <!-- 0.00006 -->\n      <g transform=\"translate(356.775 461.325134)scale(0.1 -0.1)\">\n       <use xlink:href=\"#DejaVuSerif-48\"/>\n       <use x=\"63.623047\" xlink:href=\"#DejaVuSerif-46\"/>\n       <use x=\"95.410156\" xlink:href=\"#DejaVuSerif-48\"/>\n       <use x=\"159.033203\" xlink:href=\"#DejaVuSerif-48\"/>\n       <use x=\"222.65625\" xlink:href=\"#DejaVuSerif-48\"/>\n       <use x=\"286.279297\" xlink:href=\"#DejaVuSerif-48\"/>\n       <use x=\"349.902344\" xlink:href=\"#DejaVuSerif-54\"/>\n      </g>\n     </g>\n    </g>\n    <g id=\"ytick_16\">\n     <g id=\"line2d_150\">\n      <path clip-path=\"url(#pe26060970b)\" d=\"M 405.128125 422.15836 \nL 682.865625 422.15836 \n\" style=\"fill:none;stroke:#b0b0b0;stroke-linecap:square;stroke-width:0.8;\"/>\n     </g>\n     <g id=\"line2d_151\">\n      <g>\n       <use style=\"stroke:#000000;stroke-width:0.8;\" x=\"405.128125\" xlink:href=\"#m840f3a8109\" y=\"422.15836\"/>\n      </g>\n     </g>\n     <g id=\"text_35\">\n      <!-- 0.00008 -->\n      <g transform=\"translate(356.775 425.957579)scale(0.1 -0.1)\">\n       <use xlink:href=\"#DejaVuSerif-48\"/>\n       <use x=\"63.623047\" xlink:href=\"#DejaVuSerif-46\"/>\n       <use x=\"95.410156\" xlink:href=\"#DejaVuSerif-48\"/>\n       <use x=\"159.033203\" xlink:href=\"#DejaVuSerif-48\"/>\n       <use x=\"222.65625\" xlink:href=\"#DejaVuSerif-48\"/>\n       <use x=\"286.279297\" xlink:href=\"#DejaVuSerif-48\"/>\n       <use x=\"349.902344\" xlink:href=\"#DejaVuSerif-56\"/>\n      </g>\n     </g>\n    </g>\n    <g id=\"ytick_17\">\n     <g id=\"line2d_152\">\n      <path clip-path=\"url(#pe26060970b)\" d=\"M 405.128125 386.790805 \nL 682.865625 386.790805 \n\" style=\"fill:none;stroke:#b0b0b0;stroke-linecap:square;stroke-width:0.8;\"/>\n     </g>\n     <g id=\"line2d_153\">\n      <g>\n       <use style=\"stroke:#000000;stroke-width:0.8;\" x=\"405.128125\" xlink:href=\"#m840f3a8109\" y=\"386.790805\"/>\n      </g>\n     </g>\n     <g id=\"text_36\">\n      <!-- 0.00010 -->\n      <g transform=\"translate(356.775 390.590023)scale(0.1 -0.1)\">\n       <use xlink:href=\"#DejaVuSerif-48\"/>\n       <use x=\"63.623047\" xlink:href=\"#DejaVuSerif-46\"/>\n       <use x=\"95.410156\" xlink:href=\"#DejaVuSerif-48\"/>\n       <use x=\"159.033203\" xlink:href=\"#DejaVuSerif-48\"/>\n       <use x=\"222.65625\" xlink:href=\"#DejaVuSerif-48\"/>\n       <use x=\"286.279297\" xlink:href=\"#DejaVuSerif-49\"/>\n       <use x=\"349.902344\" xlink:href=\"#DejaVuSerif-48\"/>\n      </g>\n     </g>\n    </g>\n    <g id=\"ytick_18\">\n     <g id=\"line2d_154\">\n      <path clip-path=\"url(#pe26060970b)\" d=\"M 405.128125 351.423249 \nL 682.865625 351.423249 \n\" style=\"fill:none;stroke:#b0b0b0;stroke-linecap:square;stroke-width:0.8;\"/>\n     </g>\n     <g id=\"line2d_155\">\n      <g>\n       <use style=\"stroke:#000000;stroke-width:0.8;\" x=\"405.128125\" xlink:href=\"#m840f3a8109\" y=\"351.423249\"/>\n      </g>\n     </g>\n     <g id=\"text_37\">\n      <!-- 0.00012 -->\n      <g transform=\"translate(356.775 355.222468)scale(0.1 -0.1)\">\n       <use xlink:href=\"#DejaVuSerif-48\"/>\n       <use x=\"63.623047\" xlink:href=\"#DejaVuSerif-46\"/>\n       <use x=\"95.410156\" xlink:href=\"#DejaVuSerif-48\"/>\n       <use x=\"159.033203\" xlink:href=\"#DejaVuSerif-48\"/>\n       <use x=\"222.65625\" xlink:href=\"#DejaVuSerif-48\"/>\n       <use x=\"286.279297\" xlink:href=\"#DejaVuSerif-49\"/>\n       <use x=\"349.902344\" xlink:href=\"#DejaVuSerif-50\"/>\n      </g>\n     </g>\n    </g>\n    <g id=\"ytick_19\">\n     <g id=\"line2d_156\">\n      <path clip-path=\"url(#pe26060970b)\" d=\"M 405.128125 316.055694 \nL 682.865625 316.055694 \n\" style=\"fill:none;stroke:#b0b0b0;stroke-linecap:square;stroke-width:0.8;\"/>\n     </g>\n     <g id=\"line2d_157\">\n      <g>\n       <use style=\"stroke:#000000;stroke-width:0.8;\" x=\"405.128125\" xlink:href=\"#m840f3a8109\" y=\"316.055694\"/>\n      </g>\n     </g>\n     <g id=\"text_38\">\n      <!-- 0.00014 -->\n      <g transform=\"translate(356.775 319.854913)scale(0.1 -0.1)\">\n       <use xlink:href=\"#DejaVuSerif-48\"/>\n       <use x=\"63.623047\" xlink:href=\"#DejaVuSerif-46\"/>\n       <use x=\"95.410156\" xlink:href=\"#DejaVuSerif-48\"/>\n       <use x=\"159.033203\" xlink:href=\"#DejaVuSerif-48\"/>\n       <use x=\"222.65625\" xlink:href=\"#DejaVuSerif-48\"/>\n       <use x=\"286.279297\" xlink:href=\"#DejaVuSerif-49\"/>\n       <use x=\"349.902344\" xlink:href=\"#DejaVuSerif-52\"/>\n      </g>\n     </g>\n    </g>\n    <g id=\"ytick_20\">\n     <g id=\"line2d_158\">\n      <path clip-path=\"url(#pe26060970b)\" d=\"M 405.128125 280.688139 \nL 682.865625 280.688139 \n\" style=\"fill:none;stroke:#b0b0b0;stroke-linecap:square;stroke-width:0.8;\"/>\n     </g>\n     <g id=\"line2d_159\">\n      <g>\n       <use style=\"stroke:#000000;stroke-width:0.8;\" x=\"405.128125\" xlink:href=\"#m840f3a8109\" y=\"280.688139\"/>\n      </g>\n     </g>\n     <g id=\"text_39\">\n      <!-- 0.00016 -->\n      <g transform=\"translate(356.775 284.487357)scale(0.1 -0.1)\">\n       <use xlink:href=\"#DejaVuSerif-48\"/>\n       <use x=\"63.623047\" xlink:href=\"#DejaVuSerif-46\"/>\n       <use x=\"95.410156\" xlink:href=\"#DejaVuSerif-48\"/>\n       <use x=\"159.033203\" xlink:href=\"#DejaVuSerif-48\"/>\n       <use x=\"222.65625\" xlink:href=\"#DejaVuSerif-48\"/>\n       <use x=\"286.279297\" xlink:href=\"#DejaVuSerif-49\"/>\n       <use x=\"349.902344\" xlink:href=\"#DejaVuSerif-54\"/>\n      </g>\n     </g>\n    </g>\n    <g id=\"text_40\">\n     <!-- Transient , arb. units -->\n     <g transform=\"translate(350.695312 420.72625)rotate(-90)scale(0.1 -0.1)\">\n      <use xlink:href=\"#DejaVuSerif-84\"/>\n      <use x=\"66.699219\" xlink:href=\"#DejaVuSerif-114\"/>\n      <use x=\"114.501953\" xlink:href=\"#DejaVuSerif-97\"/>\n      <use x=\"174.121094\" xlink:href=\"#DejaVuSerif-110\"/>\n      <use x=\"238.525391\" xlink:href=\"#DejaVuSerif-115\"/>\n      <use x=\"289.84375\" xlink:href=\"#DejaVuSerif-105\"/>\n      <use x=\"321.826172\" xlink:href=\"#DejaVuSerif-101\"/>\n      <use x=\"381.005859\" xlink:href=\"#DejaVuSerif-110\"/>\n      <use x=\"445.410156\" xlink:href=\"#DejaVuSerif-116\"/>\n      <use x=\"485.595703\" xlink:href=\"#DejaVuSerif-32\"/>\n      <use x=\"517.382812\" xlink:href=\"#DejaVuSerif-44\"/>\n      <use x=\"549.169922\" xlink:href=\"#DejaVuSerif-32\"/>\n      <use x=\"580.957031\" xlink:href=\"#DejaVuSerif-97\"/>\n      <use x=\"640.576172\" xlink:href=\"#DejaVuSerif-114\"/>\n      <use x=\"688.378906\" xlink:href=\"#DejaVuSerif-98\"/>\n      <use x=\"752.392578\" xlink:href=\"#DejaVuSerif-46\"/>\n      <use x=\"784.179688\" xlink:href=\"#DejaVuSerif-32\"/>\n      <use x=\"815.966797\" xlink:href=\"#DejaVuSerif-117\"/>\n      <use x=\"880.371094\" xlink:href=\"#DejaVuSerif-110\"/>\n      <use x=\"944.775391\" xlink:href=\"#DejaVuSerif-105\"/>\n      <use x=\"976.757812\" xlink:href=\"#DejaVuSerif-116\"/>\n      <use x=\"1016.943359\" xlink:href=\"#DejaVuSerif-115\"/>\n     </g>\n    </g>\n   </g>\n   <g id=\"line2d_160\">\n    <path clip-path=\"url(#pe26060970b)\" d=\"M 417.752557 280.76439 \nL 455.839003 285.235659 \nL 478.118146 298.649465 \nL 493.92545 321.005807 \nL 506.186547 307.592002 \nL 516.204593 316.534539 \nL 524.67473 334.419613 \nL 532.011896 316.534539 \nL 538.483736 329.948344 \nL 544.272994 338.890882 \nL 549.510014 343.36215 \nL 554.291039 343.36215 \nL 558.689156 352.304687 \nL 562.761176 356.775956 \nL 566.552137 365.718493 \nL 570.098343 379.132298 \nL 573.429492 370.189761 \nL 576.570182 356.775956 \nL 579.541021 374.66103 \nL 582.35944 370.189761 \nL 585.040319 365.718493 \nL 587.596461 370.189761 \nL 590.038957 374.66103 \nL 592.377486 383.603567 \nL 594.620537 361.247224 \nL 596.775603 374.66103 \nL 598.849325 379.132298 \nL 600.847623 379.132298 \nL 602.77579 379.132298 \nL 604.638583 365.718493 \nL 606.44029 379.132298 \nL 608.184789 401.488641 \nL 609.875604 392.546104 \nL 611.515938 392.546104 \nL 613.10872 397.017373 \nL 614.656629 392.546104 \nL 616.162124 388.074835 \nL 617.627467 405.95991 \nL 619.054746 419.373715 \nL 620.445887 397.017373 \nL 621.802675 401.488641 \nL 623.126766 410.431178 \nL 624.419699 410.431178 \nL 625.682907 410.431178 \nL 626.917726 414.902447 \nL 628.125404 405.95991 \nL 629.307108 419.373715 \nL 630.463932 410.431178 \nL 631.596903 405.95991 \nL 632.706984 401.488641 \nL 633.795081 410.431178 \nL 634.862049 414.902447 \nL 635.908693 410.431178 \nL 636.935772 405.95991 \nL 637.944004 419.373715 \nL 638.934069 428.316252 \nL 639.90661 410.431178 \nL 640.862237 419.373715 \nL 641.801527 423.844984 \nL 642.72503 423.844984 \nL 643.633267 428.316252 \nL 644.526736 410.431178 \nL 645.405909 428.316252 \nL 646.271236 423.844984 \nL 647.123146 419.373715 \nL 647.96205 437.258789 \nL 648.788338 410.431178 \nL 649.602385 414.902447 \nL 650.404547 419.373715 \nL 651.195167 428.316252 \nL 651.974572 428.316252 \nL 652.743075 432.787521 \nL 653.500979 437.258789 \nL 654.24857 437.258789 \nL 654.986127 428.316252 \nL 655.713914 441.730058 \nL 656.432187 441.730058 \nL 657.141192 437.258789 \nL 657.841165 423.844984 \nL 658.532333 446.201327 \nL 659.214915 441.730058 \nL 659.889121 437.258789 \nL 660.555155 441.730058 \nL 661.213212 423.844984 \nL 661.863482 450.672595 \nL 662.506146 441.730058 \nL 663.14138 437.258789 \nL 663.769354 441.730058 \nL 664.390232 432.787521 \nL 665.004173 441.730058 \nL 665.611329 437.258789 \nL 666.21185 432.787521 \nL 666.805879 450.672595 \nL 667.393555 441.730058 \nL 667.975011 455.143864 \nL 668.550379 455.143864 \nL 669.119784 450.672595 \nL 669.68335 450.672595 \nL 670.241193 450.672595 \n\" style=\"fill:none;stroke:#000000;stroke-linecap:square;stroke-width:1.5;\"/>\n    <defs>\n     <path d=\"M -3 3 \nL 3 3 \nL 3 -3 \nL -3 -3 \nz\n\" id=\"m6376b3f606\" style=\"stroke:#000000;stroke-linejoin:miter;\"/>\n    </defs>\n    <g clip-path=\"url(#pe26060970b)\">\n     <use style=\"stroke:#000000;stroke-linejoin:miter;\" x=\"417.752557\" xlink:href=\"#m6376b3f606\" y=\"280.76439\"/>\n     <use style=\"stroke:#000000;stroke-linejoin:miter;\" x=\"455.839003\" xlink:href=\"#m6376b3f606\" y=\"285.235659\"/>\n     <use style=\"stroke:#000000;stroke-linejoin:miter;\" x=\"478.118146\" xlink:href=\"#m6376b3f606\" y=\"298.649465\"/>\n     <use style=\"stroke:#000000;stroke-linejoin:miter;\" x=\"493.92545\" xlink:href=\"#m6376b3f606\" y=\"321.005807\"/>\n     <use style=\"stroke:#000000;stroke-linejoin:miter;\" x=\"506.186547\" xlink:href=\"#m6376b3f606\" y=\"307.592002\"/>\n     <use style=\"stroke:#000000;stroke-linejoin:miter;\" x=\"516.204593\" xlink:href=\"#m6376b3f606\" y=\"316.534539\"/>\n     <use style=\"stroke:#000000;stroke-linejoin:miter;\" x=\"524.67473\" xlink:href=\"#m6376b3f606\" y=\"334.419613\"/>\n     <use style=\"stroke:#000000;stroke-linejoin:miter;\" x=\"532.011896\" xlink:href=\"#m6376b3f606\" y=\"316.534539\"/>\n     <use style=\"stroke:#000000;stroke-linejoin:miter;\" x=\"538.483736\" xlink:href=\"#m6376b3f606\" y=\"329.948344\"/>\n     <use style=\"stroke:#000000;stroke-linejoin:miter;\" x=\"544.272994\" xlink:href=\"#m6376b3f606\" y=\"338.890882\"/>\n     <use style=\"stroke:#000000;stroke-linejoin:miter;\" x=\"549.510014\" xlink:href=\"#m6376b3f606\" y=\"343.36215\"/>\n     <use style=\"stroke:#000000;stroke-linejoin:miter;\" x=\"554.291039\" xlink:href=\"#m6376b3f606\" y=\"343.36215\"/>\n     <use style=\"stroke:#000000;stroke-linejoin:miter;\" x=\"558.689156\" xlink:href=\"#m6376b3f606\" y=\"352.304687\"/>\n     <use style=\"stroke:#000000;stroke-linejoin:miter;\" x=\"562.761176\" xlink:href=\"#m6376b3f606\" y=\"356.775956\"/>\n     <use style=\"stroke:#000000;stroke-linejoin:miter;\" x=\"566.552137\" xlink:href=\"#m6376b3f606\" y=\"365.718493\"/>\n     <use style=\"stroke:#000000;stroke-linejoin:miter;\" x=\"570.098343\" xlink:href=\"#m6376b3f606\" y=\"379.132298\"/>\n     <use style=\"stroke:#000000;stroke-linejoin:miter;\" x=\"573.429492\" xlink:href=\"#m6376b3f606\" y=\"370.189761\"/>\n     <use style=\"stroke:#000000;stroke-linejoin:miter;\" x=\"576.570182\" xlink:href=\"#m6376b3f606\" y=\"356.775956\"/>\n     <use style=\"stroke:#000000;stroke-linejoin:miter;\" x=\"579.541021\" xlink:href=\"#m6376b3f606\" y=\"374.66103\"/>\n     <use style=\"stroke:#000000;stroke-linejoin:miter;\" x=\"582.35944\" xlink:href=\"#m6376b3f606\" y=\"370.189761\"/>\n     <use style=\"stroke:#000000;stroke-linejoin:miter;\" x=\"585.040319\" xlink:href=\"#m6376b3f606\" y=\"365.718493\"/>\n     <use style=\"stroke:#000000;stroke-linejoin:miter;\" x=\"587.596461\" xlink:href=\"#m6376b3f606\" y=\"370.189761\"/>\n     <use style=\"stroke:#000000;stroke-linejoin:miter;\" x=\"590.038957\" xlink:href=\"#m6376b3f606\" y=\"374.66103\"/>\n     <use style=\"stroke:#000000;stroke-linejoin:miter;\" x=\"592.377486\" xlink:href=\"#m6376b3f606\" y=\"383.603567\"/>\n     <use style=\"stroke:#000000;stroke-linejoin:miter;\" x=\"594.620537\" xlink:href=\"#m6376b3f606\" y=\"361.247224\"/>\n     <use style=\"stroke:#000000;stroke-linejoin:miter;\" x=\"596.775603\" xlink:href=\"#m6376b3f606\" y=\"374.66103\"/>\n     <use style=\"stroke:#000000;stroke-linejoin:miter;\" x=\"598.849325\" xlink:href=\"#m6376b3f606\" y=\"379.132298\"/>\n     <use style=\"stroke:#000000;stroke-linejoin:miter;\" x=\"600.847623\" xlink:href=\"#m6376b3f606\" y=\"379.132298\"/>\n     <use style=\"stroke:#000000;stroke-linejoin:miter;\" x=\"602.77579\" xlink:href=\"#m6376b3f606\" y=\"379.132298\"/>\n     <use style=\"stroke:#000000;stroke-linejoin:miter;\" x=\"604.638583\" xlink:href=\"#m6376b3f606\" y=\"365.718493\"/>\n     <use style=\"stroke:#000000;stroke-linejoin:miter;\" x=\"606.44029\" xlink:href=\"#m6376b3f606\" y=\"379.132298\"/>\n     <use style=\"stroke:#000000;stroke-linejoin:miter;\" x=\"608.184789\" xlink:href=\"#m6376b3f606\" y=\"401.488641\"/>\n     <use style=\"stroke:#000000;stroke-linejoin:miter;\" x=\"609.875604\" xlink:href=\"#m6376b3f606\" y=\"392.546104\"/>\n     <use style=\"stroke:#000000;stroke-linejoin:miter;\" x=\"611.515938\" xlink:href=\"#m6376b3f606\" y=\"392.546104\"/>\n     <use style=\"stroke:#000000;stroke-linejoin:miter;\" x=\"613.10872\" xlink:href=\"#m6376b3f606\" y=\"397.017373\"/>\n     <use style=\"stroke:#000000;stroke-linejoin:miter;\" x=\"614.656629\" xlink:href=\"#m6376b3f606\" y=\"392.546104\"/>\n     <use style=\"stroke:#000000;stroke-linejoin:miter;\" x=\"616.162124\" xlink:href=\"#m6376b3f606\" y=\"388.074835\"/>\n     <use style=\"stroke:#000000;stroke-linejoin:miter;\" x=\"617.627467\" xlink:href=\"#m6376b3f606\" y=\"405.95991\"/>\n     <use style=\"stroke:#000000;stroke-linejoin:miter;\" x=\"619.054746\" xlink:href=\"#m6376b3f606\" y=\"419.373715\"/>\n     <use style=\"stroke:#000000;stroke-linejoin:miter;\" x=\"620.445887\" xlink:href=\"#m6376b3f606\" y=\"397.017373\"/>\n     <use style=\"stroke:#000000;stroke-linejoin:miter;\" x=\"621.802675\" xlink:href=\"#m6376b3f606\" y=\"401.488641\"/>\n     <use style=\"stroke:#000000;stroke-linejoin:miter;\" x=\"623.126766\" xlink:href=\"#m6376b3f606\" y=\"410.431178\"/>\n     <use style=\"stroke:#000000;stroke-linejoin:miter;\" x=\"624.419699\" xlink:href=\"#m6376b3f606\" y=\"410.431178\"/>\n     <use style=\"stroke:#000000;stroke-linejoin:miter;\" x=\"625.682907\" xlink:href=\"#m6376b3f606\" y=\"410.431178\"/>\n     <use style=\"stroke:#000000;stroke-linejoin:miter;\" x=\"626.917726\" xlink:href=\"#m6376b3f606\" y=\"414.902447\"/>\n     <use style=\"stroke:#000000;stroke-linejoin:miter;\" x=\"628.125404\" xlink:href=\"#m6376b3f606\" y=\"405.95991\"/>\n     <use style=\"stroke:#000000;stroke-linejoin:miter;\" x=\"629.307108\" xlink:href=\"#m6376b3f606\" y=\"419.373715\"/>\n     <use style=\"stroke:#000000;stroke-linejoin:miter;\" x=\"630.463932\" xlink:href=\"#m6376b3f606\" y=\"410.431178\"/>\n     <use style=\"stroke:#000000;stroke-linejoin:miter;\" x=\"631.596903\" xlink:href=\"#m6376b3f606\" y=\"405.95991\"/>\n     <use style=\"stroke:#000000;stroke-linejoin:miter;\" x=\"632.706984\" xlink:href=\"#m6376b3f606\" y=\"401.488641\"/>\n     <use style=\"stroke:#000000;stroke-linejoin:miter;\" x=\"633.795081\" xlink:href=\"#m6376b3f606\" y=\"410.431178\"/>\n     <use style=\"stroke:#000000;stroke-linejoin:miter;\" x=\"634.862049\" xlink:href=\"#m6376b3f606\" y=\"414.902447\"/>\n     <use style=\"stroke:#000000;stroke-linejoin:miter;\" x=\"635.908693\" xlink:href=\"#m6376b3f606\" y=\"410.431178\"/>\n     <use style=\"stroke:#000000;stroke-linejoin:miter;\" x=\"636.935772\" xlink:href=\"#m6376b3f606\" y=\"405.95991\"/>\n     <use style=\"stroke:#000000;stroke-linejoin:miter;\" x=\"637.944004\" xlink:href=\"#m6376b3f606\" y=\"419.373715\"/>\n     <use style=\"stroke:#000000;stroke-linejoin:miter;\" x=\"638.934069\" xlink:href=\"#m6376b3f606\" y=\"428.316252\"/>\n     <use style=\"stroke:#000000;stroke-linejoin:miter;\" x=\"639.90661\" xlink:href=\"#m6376b3f606\" y=\"410.431178\"/>\n     <use style=\"stroke:#000000;stroke-linejoin:miter;\" x=\"640.862237\" xlink:href=\"#m6376b3f606\" y=\"419.373715\"/>\n     <use style=\"stroke:#000000;stroke-linejoin:miter;\" x=\"641.801527\" xlink:href=\"#m6376b3f606\" y=\"423.844984\"/>\n     <use style=\"stroke:#000000;stroke-linejoin:miter;\" x=\"642.72503\" xlink:href=\"#m6376b3f606\" y=\"423.844984\"/>\n     <use style=\"stroke:#000000;stroke-linejoin:miter;\" x=\"643.633267\" xlink:href=\"#m6376b3f606\" y=\"428.316252\"/>\n     <use style=\"stroke:#000000;stroke-linejoin:miter;\" x=\"644.526736\" xlink:href=\"#m6376b3f606\" y=\"410.431178\"/>\n     <use style=\"stroke:#000000;stroke-linejoin:miter;\" x=\"645.405909\" xlink:href=\"#m6376b3f606\" y=\"428.316252\"/>\n     <use style=\"stroke:#000000;stroke-linejoin:miter;\" x=\"646.271236\" xlink:href=\"#m6376b3f606\" y=\"423.844984\"/>\n     <use style=\"stroke:#000000;stroke-linejoin:miter;\" x=\"647.123146\" xlink:href=\"#m6376b3f606\" y=\"419.373715\"/>\n     <use style=\"stroke:#000000;stroke-linejoin:miter;\" x=\"647.96205\" xlink:href=\"#m6376b3f606\" y=\"437.258789\"/>\n     <use style=\"stroke:#000000;stroke-linejoin:miter;\" x=\"648.788338\" xlink:href=\"#m6376b3f606\" y=\"410.431178\"/>\n     <use style=\"stroke:#000000;stroke-linejoin:miter;\" x=\"649.602385\" xlink:href=\"#m6376b3f606\" y=\"414.902447\"/>\n     <use style=\"stroke:#000000;stroke-linejoin:miter;\" x=\"650.404547\" xlink:href=\"#m6376b3f606\" y=\"419.373715\"/>\n     <use style=\"stroke:#000000;stroke-linejoin:miter;\" x=\"651.195167\" xlink:href=\"#m6376b3f606\" y=\"428.316252\"/>\n     <use style=\"stroke:#000000;stroke-linejoin:miter;\" x=\"651.974572\" xlink:href=\"#m6376b3f606\" y=\"428.316252\"/>\n     <use style=\"stroke:#000000;stroke-linejoin:miter;\" x=\"652.743075\" xlink:href=\"#m6376b3f606\" y=\"432.787521\"/>\n     <use style=\"stroke:#000000;stroke-linejoin:miter;\" x=\"653.500979\" xlink:href=\"#m6376b3f606\" y=\"437.258789\"/>\n     <use style=\"stroke:#000000;stroke-linejoin:miter;\" x=\"654.24857\" xlink:href=\"#m6376b3f606\" y=\"437.258789\"/>\n     <use style=\"stroke:#000000;stroke-linejoin:miter;\" x=\"654.986127\" xlink:href=\"#m6376b3f606\" y=\"428.316252\"/>\n     <use style=\"stroke:#000000;stroke-linejoin:miter;\" x=\"655.713914\" xlink:href=\"#m6376b3f606\" y=\"441.730058\"/>\n     <use style=\"stroke:#000000;stroke-linejoin:miter;\" x=\"656.432187\" xlink:href=\"#m6376b3f606\" y=\"441.730058\"/>\n     <use style=\"stroke:#000000;stroke-linejoin:miter;\" x=\"657.141192\" xlink:href=\"#m6376b3f606\" y=\"437.258789\"/>\n     <use style=\"stroke:#000000;stroke-linejoin:miter;\" x=\"657.841165\" xlink:href=\"#m6376b3f606\" y=\"423.844984\"/>\n     <use style=\"stroke:#000000;stroke-linejoin:miter;\" x=\"658.532333\" xlink:href=\"#m6376b3f606\" y=\"446.201327\"/>\n     <use style=\"stroke:#000000;stroke-linejoin:miter;\" x=\"659.214915\" xlink:href=\"#m6376b3f606\" y=\"441.730058\"/>\n     <use style=\"stroke:#000000;stroke-linejoin:miter;\" x=\"659.889121\" xlink:href=\"#m6376b3f606\" y=\"437.258789\"/>\n     <use style=\"stroke:#000000;stroke-linejoin:miter;\" x=\"660.555155\" xlink:href=\"#m6376b3f606\" y=\"441.730058\"/>\n     <use style=\"stroke:#000000;stroke-linejoin:miter;\" x=\"661.213212\" xlink:href=\"#m6376b3f606\" y=\"423.844984\"/>\n     <use style=\"stroke:#000000;stroke-linejoin:miter;\" x=\"661.863482\" xlink:href=\"#m6376b3f606\" y=\"450.672595\"/>\n     <use style=\"stroke:#000000;stroke-linejoin:miter;\" x=\"662.506146\" xlink:href=\"#m6376b3f606\" y=\"441.730058\"/>\n     <use style=\"stroke:#000000;stroke-linejoin:miter;\" x=\"663.14138\" xlink:href=\"#m6376b3f606\" y=\"437.258789\"/>\n     <use style=\"stroke:#000000;stroke-linejoin:miter;\" x=\"663.769354\" xlink:href=\"#m6376b3f606\" y=\"441.730058\"/>\n     <use style=\"stroke:#000000;stroke-linejoin:miter;\" x=\"664.390232\" xlink:href=\"#m6376b3f606\" y=\"432.787521\"/>\n     <use style=\"stroke:#000000;stroke-linejoin:miter;\" x=\"665.004173\" xlink:href=\"#m6376b3f606\" y=\"441.730058\"/>\n     <use style=\"stroke:#000000;stroke-linejoin:miter;\" x=\"665.611329\" xlink:href=\"#m6376b3f606\" y=\"437.258789\"/>\n     <use style=\"stroke:#000000;stroke-linejoin:miter;\" x=\"666.21185\" xlink:href=\"#m6376b3f606\" y=\"432.787521\"/>\n     <use style=\"stroke:#000000;stroke-linejoin:miter;\" x=\"666.805879\" xlink:href=\"#m6376b3f606\" y=\"450.672595\"/>\n     <use style=\"stroke:#000000;stroke-linejoin:miter;\" x=\"667.393555\" xlink:href=\"#m6376b3f606\" y=\"441.730058\"/>\n     <use style=\"stroke:#000000;stroke-linejoin:miter;\" x=\"667.975011\" xlink:href=\"#m6376b3f606\" y=\"455.143864\"/>\n     <use style=\"stroke:#000000;stroke-linejoin:miter;\" x=\"668.550379\" xlink:href=\"#m6376b3f606\" y=\"455.143864\"/>\n     <use style=\"stroke:#000000;stroke-linejoin:miter;\" x=\"669.119784\" xlink:href=\"#m6376b3f606\" y=\"450.672595\"/>\n     <use style=\"stroke:#000000;stroke-linejoin:miter;\" x=\"669.68335\" xlink:href=\"#m6376b3f606\" y=\"450.672595\"/>\n     <use style=\"stroke:#000000;stroke-linejoin:miter;\" x=\"670.241193\" xlink:href=\"#m6376b3f606\" y=\"450.672595\"/>\n    </g>\n   </g>\n   <g id=\"line2d_161\">\n    <path clip-path=\"url(#pe26060970b)\" d=\"M 417.752557 279.483636 \nL 455.839003 289.869042 \nL 478.118146 298.933778 \nL 493.92545 306.902006 \nL 506.186547 313.955296 \nL 516.204593 320.241319 \nL 524.67473 325.880671 \nL 532.011896 330.972242 \nL 538.483736 335.597455 \nL 544.272994 339.823633 \nL 549.510014 343.706667 \nL 554.291039 347.293151 \nL 558.689156 350.622085 \nL 562.761176 353.726252 \nL 566.552137 356.633316 \nL 570.098343 359.366722 \nL 573.429492 361.946417 \nL 576.570182 364.389438 \nL 579.541021 366.710399 \nL 582.35944 368.921884 \nL 585.040319 371.034769 \nL 587.596461 373.058491 \nL 590.038957 375.001273 \nL 592.377486 376.870302 \nL 594.620537 378.671886 \nL 596.775603 380.411581 \nL 598.849325 382.094296 \nL 600.847623 383.724387 \nL 602.77579 385.305731 \nL 604.638583 386.841788 \nL 606.44029 388.335658 \nL 608.184789 389.790128 \nL 609.875604 391.207709 \nL 611.515938 392.590671 \nL 613.10872 393.941073 \nL 614.656629 395.260787 \nL 616.162124 396.551518 \nL 617.627467 397.814826 \nL 619.054746 399.052139 \nL 620.445887 400.26477 \nL 621.802675 401.453926 \nL 623.126766 402.620722 \nL 624.419699 403.766188 \nL 625.682907 404.891279 \nL 626.917726 405.996881 \nL 628.125404 407.083818 \nL 629.307108 408.152857 \nL 630.463932 409.204717 \nL 631.596903 410.240066 \nL 632.706984 411.259532 \nL 633.795081 412.263702 \nL 634.862049 413.253131 \nL 635.908693 414.228336 \nL 636.935772 415.189808 \nL 637.944004 416.138008 \nL 638.934069 417.073372 \nL 639.90661 417.99631 \nL 640.862237 418.907213 \nL 641.801527 419.80645 \nL 642.72503 420.69437 \nL 643.633267 421.571307 \nL 644.526736 422.437575 \nL 645.405909 423.293476 \nL 646.271236 424.139294 \nL 647.123146 424.975302 \nL 647.96205 425.80176 \nL 648.788338 426.618916 \nL 649.602385 427.427007 \nL 650.404547 428.226258 \nL 651.195167 429.016887 \nL 651.974572 429.7991 \nL 652.743075 430.573096 \nL 653.500979 431.339066 \nL 654.24857 432.097192 \nL 654.986127 432.847649 \nL 655.713914 433.590605 \nL 656.432187 434.326223 \nL 657.141192 435.054658 \nL 657.841165 435.776059 \nL 658.532333 436.49057 \nL 659.214915 437.198331 \nL 659.889121 437.899475 \nL 660.555155 438.594131 \nL 661.213212 439.282424 \nL 661.863482 439.964473 \nL 662.506146 440.640395 \nL 663.14138 441.310302 \nL 663.769354 441.974302 \nL 664.390232 442.632499 \nL 665.004173 443.284996 \nL 665.611329 443.931891 \nL 666.21185 444.573278 \nL 666.805879 445.20925 \nL 667.393555 445.839895 \nL 667.975011 446.465301 \nL 668.550379 447.085552 \nL 669.119784 447.700728 \nL 669.68335 448.31091 \nL 670.241193 448.916173 \n\" style=\"fill:none;stroke:#00bfbf;stroke-linecap:square;stroke-width:1.5;\"/>\n    <defs>\n     <path d=\"M -3 3 \nL 3 -3 \nM -3 -3 \nL 3 3 \n\" id=\"m8c1574de41\" style=\"stroke:#00bfbf;\"/>\n    </defs>\n    <g clip-path=\"url(#pe26060970b)\">\n     <use style=\"fill:#00bfbf;stroke:#00bfbf;\" x=\"417.752557\" xlink:href=\"#m8c1574de41\" y=\"279.483636\"/>\n     <use style=\"fill:#00bfbf;stroke:#00bfbf;\" x=\"455.839003\" xlink:href=\"#m8c1574de41\" y=\"289.869042\"/>\n     <use style=\"fill:#00bfbf;stroke:#00bfbf;\" x=\"478.118146\" xlink:href=\"#m8c1574de41\" y=\"298.933778\"/>\n     <use style=\"fill:#00bfbf;stroke:#00bfbf;\" x=\"493.92545\" xlink:href=\"#m8c1574de41\" y=\"306.902006\"/>\n     <use style=\"fill:#00bfbf;stroke:#00bfbf;\" x=\"506.186547\" xlink:href=\"#m8c1574de41\" y=\"313.955296\"/>\n     <use style=\"fill:#00bfbf;stroke:#00bfbf;\" x=\"516.204593\" xlink:href=\"#m8c1574de41\" y=\"320.241319\"/>\n     <use style=\"fill:#00bfbf;stroke:#00bfbf;\" x=\"524.67473\" xlink:href=\"#m8c1574de41\" y=\"325.880671\"/>\n     <use style=\"fill:#00bfbf;stroke:#00bfbf;\" x=\"532.011896\" xlink:href=\"#m8c1574de41\" y=\"330.972242\"/>\n     <use style=\"fill:#00bfbf;stroke:#00bfbf;\" x=\"538.483736\" xlink:href=\"#m8c1574de41\" y=\"335.597455\"/>\n     <use style=\"fill:#00bfbf;stroke:#00bfbf;\" x=\"544.272994\" xlink:href=\"#m8c1574de41\" y=\"339.823633\"/>\n     <use style=\"fill:#00bfbf;stroke:#00bfbf;\" x=\"549.510014\" xlink:href=\"#m8c1574de41\" y=\"343.706667\"/>\n     <use style=\"fill:#00bfbf;stroke:#00bfbf;\" x=\"554.291039\" xlink:href=\"#m8c1574de41\" y=\"347.293151\"/>\n     <use style=\"fill:#00bfbf;stroke:#00bfbf;\" x=\"558.689156\" xlink:href=\"#m8c1574de41\" y=\"350.622085\"/>\n     <use style=\"fill:#00bfbf;stroke:#00bfbf;\" x=\"562.761176\" xlink:href=\"#m8c1574de41\" y=\"353.726252\"/>\n     <use style=\"fill:#00bfbf;stroke:#00bfbf;\" x=\"566.552137\" xlink:href=\"#m8c1574de41\" y=\"356.633316\"/>\n     <use style=\"fill:#00bfbf;stroke:#00bfbf;\" x=\"570.098343\" xlink:href=\"#m8c1574de41\" y=\"359.366722\"/>\n     <use style=\"fill:#00bfbf;stroke:#00bfbf;\" x=\"573.429492\" xlink:href=\"#m8c1574de41\" y=\"361.946417\"/>\n     <use style=\"fill:#00bfbf;stroke:#00bfbf;\" x=\"576.570182\" xlink:href=\"#m8c1574de41\" y=\"364.389438\"/>\n     <use style=\"fill:#00bfbf;stroke:#00bfbf;\" x=\"579.541021\" xlink:href=\"#m8c1574de41\" y=\"366.710399\"/>\n     <use style=\"fill:#00bfbf;stroke:#00bfbf;\" x=\"582.35944\" xlink:href=\"#m8c1574de41\" y=\"368.921884\"/>\n     <use style=\"fill:#00bfbf;stroke:#00bfbf;\" x=\"585.040319\" xlink:href=\"#m8c1574de41\" y=\"371.034769\"/>\n     <use style=\"fill:#00bfbf;stroke:#00bfbf;\" x=\"587.596461\" xlink:href=\"#m8c1574de41\" y=\"373.058491\"/>\n     <use style=\"fill:#00bfbf;stroke:#00bfbf;\" x=\"590.038957\" xlink:href=\"#m8c1574de41\" y=\"375.001273\"/>\n     <use style=\"fill:#00bfbf;stroke:#00bfbf;\" x=\"592.377486\" xlink:href=\"#m8c1574de41\" y=\"376.870302\"/>\n     <use style=\"fill:#00bfbf;stroke:#00bfbf;\" x=\"594.620537\" xlink:href=\"#m8c1574de41\" y=\"378.671886\"/>\n     <use style=\"fill:#00bfbf;stroke:#00bfbf;\" x=\"596.775603\" xlink:href=\"#m8c1574de41\" y=\"380.411581\"/>\n     <use style=\"fill:#00bfbf;stroke:#00bfbf;\" x=\"598.849325\" xlink:href=\"#m8c1574de41\" y=\"382.094296\"/>\n     <use style=\"fill:#00bfbf;stroke:#00bfbf;\" x=\"600.847623\" xlink:href=\"#m8c1574de41\" y=\"383.724387\"/>\n     <use style=\"fill:#00bfbf;stroke:#00bfbf;\" x=\"602.77579\" xlink:href=\"#m8c1574de41\" y=\"385.305731\"/>\n     <use style=\"fill:#00bfbf;stroke:#00bfbf;\" x=\"604.638583\" xlink:href=\"#m8c1574de41\" y=\"386.841788\"/>\n     <use style=\"fill:#00bfbf;stroke:#00bfbf;\" x=\"606.44029\" xlink:href=\"#m8c1574de41\" y=\"388.335658\"/>\n     <use style=\"fill:#00bfbf;stroke:#00bfbf;\" x=\"608.184789\" xlink:href=\"#m8c1574de41\" y=\"389.790128\"/>\n     <use style=\"fill:#00bfbf;stroke:#00bfbf;\" x=\"609.875604\" xlink:href=\"#m8c1574de41\" y=\"391.207709\"/>\n     <use style=\"fill:#00bfbf;stroke:#00bfbf;\" x=\"611.515938\" xlink:href=\"#m8c1574de41\" y=\"392.590671\"/>\n     <use style=\"fill:#00bfbf;stroke:#00bfbf;\" x=\"613.10872\" xlink:href=\"#m8c1574de41\" y=\"393.941073\"/>\n     <use style=\"fill:#00bfbf;stroke:#00bfbf;\" x=\"614.656629\" xlink:href=\"#m8c1574de41\" y=\"395.260787\"/>\n     <use style=\"fill:#00bfbf;stroke:#00bfbf;\" x=\"616.162124\" xlink:href=\"#m8c1574de41\" y=\"396.551518\"/>\n     <use style=\"fill:#00bfbf;stroke:#00bfbf;\" x=\"617.627467\" xlink:href=\"#m8c1574de41\" y=\"397.814826\"/>\n     <use style=\"fill:#00bfbf;stroke:#00bfbf;\" x=\"619.054746\" xlink:href=\"#m8c1574de41\" y=\"399.052139\"/>\n     <use style=\"fill:#00bfbf;stroke:#00bfbf;\" x=\"620.445887\" xlink:href=\"#m8c1574de41\" y=\"400.26477\"/>\n     <use style=\"fill:#00bfbf;stroke:#00bfbf;\" x=\"621.802675\" xlink:href=\"#m8c1574de41\" y=\"401.453926\"/>\n     <use style=\"fill:#00bfbf;stroke:#00bfbf;\" x=\"623.126766\" xlink:href=\"#m8c1574de41\" y=\"402.620722\"/>\n     <use style=\"fill:#00bfbf;stroke:#00bfbf;\" x=\"624.419699\" xlink:href=\"#m8c1574de41\" y=\"403.766188\"/>\n     <use style=\"fill:#00bfbf;stroke:#00bfbf;\" x=\"625.682907\" xlink:href=\"#m8c1574de41\" y=\"404.891279\"/>\n     <use style=\"fill:#00bfbf;stroke:#00bfbf;\" x=\"626.917726\" xlink:href=\"#m8c1574de41\" y=\"405.996881\"/>\n     <use style=\"fill:#00bfbf;stroke:#00bfbf;\" x=\"628.125404\" xlink:href=\"#m8c1574de41\" y=\"407.083818\"/>\n     <use style=\"fill:#00bfbf;stroke:#00bfbf;\" x=\"629.307108\" xlink:href=\"#m8c1574de41\" y=\"408.152857\"/>\n     <use style=\"fill:#00bfbf;stroke:#00bfbf;\" x=\"630.463932\" xlink:href=\"#m8c1574de41\" y=\"409.204717\"/>\n     <use style=\"fill:#00bfbf;stroke:#00bfbf;\" x=\"631.596903\" xlink:href=\"#m8c1574de41\" y=\"410.240066\"/>\n     <use style=\"fill:#00bfbf;stroke:#00bfbf;\" x=\"632.706984\" xlink:href=\"#m8c1574de41\" y=\"411.259532\"/>\n     <use style=\"fill:#00bfbf;stroke:#00bfbf;\" x=\"633.795081\" xlink:href=\"#m8c1574de41\" y=\"412.263702\"/>\n     <use style=\"fill:#00bfbf;stroke:#00bfbf;\" x=\"634.862049\" xlink:href=\"#m8c1574de41\" y=\"413.253131\"/>\n     <use style=\"fill:#00bfbf;stroke:#00bfbf;\" x=\"635.908693\" xlink:href=\"#m8c1574de41\" y=\"414.228336\"/>\n     <use style=\"fill:#00bfbf;stroke:#00bfbf;\" x=\"636.935772\" xlink:href=\"#m8c1574de41\" y=\"415.189808\"/>\n     <use style=\"fill:#00bfbf;stroke:#00bfbf;\" x=\"637.944004\" xlink:href=\"#m8c1574de41\" y=\"416.138008\"/>\n     <use style=\"fill:#00bfbf;stroke:#00bfbf;\" x=\"638.934069\" xlink:href=\"#m8c1574de41\" y=\"417.073372\"/>\n     <use style=\"fill:#00bfbf;stroke:#00bfbf;\" x=\"639.90661\" xlink:href=\"#m8c1574de41\" y=\"417.99631\"/>\n     <use style=\"fill:#00bfbf;stroke:#00bfbf;\" x=\"640.862237\" xlink:href=\"#m8c1574de41\" y=\"418.907213\"/>\n     <use style=\"fill:#00bfbf;stroke:#00bfbf;\" x=\"641.801527\" xlink:href=\"#m8c1574de41\" y=\"419.80645\"/>\n     <use style=\"fill:#00bfbf;stroke:#00bfbf;\" x=\"642.72503\" xlink:href=\"#m8c1574de41\" y=\"420.69437\"/>\n     <use style=\"fill:#00bfbf;stroke:#00bfbf;\" x=\"643.633267\" xlink:href=\"#m8c1574de41\" y=\"421.571307\"/>\n     <use style=\"fill:#00bfbf;stroke:#00bfbf;\" x=\"644.526736\" xlink:href=\"#m8c1574de41\" y=\"422.437575\"/>\n     <use style=\"fill:#00bfbf;stroke:#00bfbf;\" x=\"645.405909\" xlink:href=\"#m8c1574de41\" y=\"423.293476\"/>\n     <use style=\"fill:#00bfbf;stroke:#00bfbf;\" x=\"646.271236\" xlink:href=\"#m8c1574de41\" y=\"424.139294\"/>\n     <use style=\"fill:#00bfbf;stroke:#00bfbf;\" x=\"647.123146\" xlink:href=\"#m8c1574de41\" y=\"424.975302\"/>\n     <use style=\"fill:#00bfbf;stroke:#00bfbf;\" x=\"647.96205\" xlink:href=\"#m8c1574de41\" y=\"425.80176\"/>\n     <use style=\"fill:#00bfbf;stroke:#00bfbf;\" x=\"648.788338\" xlink:href=\"#m8c1574de41\" y=\"426.618916\"/>\n     <use style=\"fill:#00bfbf;stroke:#00bfbf;\" x=\"649.602385\" xlink:href=\"#m8c1574de41\" y=\"427.427007\"/>\n     <use style=\"fill:#00bfbf;stroke:#00bfbf;\" x=\"650.404547\" xlink:href=\"#m8c1574de41\" y=\"428.226258\"/>\n     <use style=\"fill:#00bfbf;stroke:#00bfbf;\" x=\"651.195167\" xlink:href=\"#m8c1574de41\" y=\"429.016887\"/>\n     <use style=\"fill:#00bfbf;stroke:#00bfbf;\" x=\"651.974572\" xlink:href=\"#m8c1574de41\" y=\"429.7991\"/>\n     <use style=\"fill:#00bfbf;stroke:#00bfbf;\" x=\"652.743075\" xlink:href=\"#m8c1574de41\" y=\"430.573096\"/>\n     <use style=\"fill:#00bfbf;stroke:#00bfbf;\" x=\"653.500979\" xlink:href=\"#m8c1574de41\" y=\"431.339066\"/>\n     <use style=\"fill:#00bfbf;stroke:#00bfbf;\" x=\"654.24857\" xlink:href=\"#m8c1574de41\" y=\"432.097192\"/>\n     <use style=\"fill:#00bfbf;stroke:#00bfbf;\" x=\"654.986127\" xlink:href=\"#m8c1574de41\" y=\"432.847649\"/>\n     <use style=\"fill:#00bfbf;stroke:#00bfbf;\" x=\"655.713914\" xlink:href=\"#m8c1574de41\" y=\"433.590605\"/>\n     <use style=\"fill:#00bfbf;stroke:#00bfbf;\" x=\"656.432187\" xlink:href=\"#m8c1574de41\" y=\"434.326223\"/>\n     <use style=\"fill:#00bfbf;stroke:#00bfbf;\" x=\"657.141192\" xlink:href=\"#m8c1574de41\" y=\"435.054658\"/>\n     <use style=\"fill:#00bfbf;stroke:#00bfbf;\" x=\"657.841165\" xlink:href=\"#m8c1574de41\" y=\"435.776059\"/>\n     <use style=\"fill:#00bfbf;stroke:#00bfbf;\" x=\"658.532333\" xlink:href=\"#m8c1574de41\" y=\"436.49057\"/>\n     <use style=\"fill:#00bfbf;stroke:#00bfbf;\" x=\"659.214915\" xlink:href=\"#m8c1574de41\" y=\"437.198331\"/>\n     <use style=\"fill:#00bfbf;stroke:#00bfbf;\" x=\"659.889121\" xlink:href=\"#m8c1574de41\" y=\"437.899475\"/>\n     <use style=\"fill:#00bfbf;stroke:#00bfbf;\" x=\"660.555155\" xlink:href=\"#m8c1574de41\" y=\"438.594131\"/>\n     <use style=\"fill:#00bfbf;stroke:#00bfbf;\" x=\"661.213212\" xlink:href=\"#m8c1574de41\" y=\"439.282424\"/>\n     <use style=\"fill:#00bfbf;stroke:#00bfbf;\" x=\"661.863482\" xlink:href=\"#m8c1574de41\" y=\"439.964473\"/>\n     <use style=\"fill:#00bfbf;stroke:#00bfbf;\" x=\"662.506146\" xlink:href=\"#m8c1574de41\" y=\"440.640395\"/>\n     <use style=\"fill:#00bfbf;stroke:#00bfbf;\" x=\"663.14138\" xlink:href=\"#m8c1574de41\" y=\"441.310302\"/>\n     <use style=\"fill:#00bfbf;stroke:#00bfbf;\" x=\"663.769354\" xlink:href=\"#m8c1574de41\" y=\"441.974302\"/>\n     <use style=\"fill:#00bfbf;stroke:#00bfbf;\" x=\"664.390232\" xlink:href=\"#m8c1574de41\" y=\"442.632499\"/>\n     <use style=\"fill:#00bfbf;stroke:#00bfbf;\" x=\"665.004173\" xlink:href=\"#m8c1574de41\" y=\"443.284996\"/>\n     <use style=\"fill:#00bfbf;stroke:#00bfbf;\" x=\"665.611329\" xlink:href=\"#m8c1574de41\" y=\"443.931891\"/>\n     <use style=\"fill:#00bfbf;stroke:#00bfbf;\" x=\"666.21185\" xlink:href=\"#m8c1574de41\" y=\"444.573278\"/>\n     <use style=\"fill:#00bfbf;stroke:#00bfbf;\" x=\"666.805879\" xlink:href=\"#m8c1574de41\" y=\"445.20925\"/>\n     <use style=\"fill:#00bfbf;stroke:#00bfbf;\" x=\"667.393555\" xlink:href=\"#m8c1574de41\" y=\"445.839895\"/>\n     <use style=\"fill:#00bfbf;stroke:#00bfbf;\" x=\"667.975011\" xlink:href=\"#m8c1574de41\" y=\"446.465301\"/>\n     <use style=\"fill:#00bfbf;stroke:#00bfbf;\" x=\"668.550379\" xlink:href=\"#m8c1574de41\" y=\"447.085552\"/>\n     <use style=\"fill:#00bfbf;stroke:#00bfbf;\" x=\"669.119784\" xlink:href=\"#m8c1574de41\" y=\"447.700728\"/>\n     <use style=\"fill:#00bfbf;stroke:#00bfbf;\" x=\"669.68335\" xlink:href=\"#m8c1574de41\" y=\"448.31091\"/>\n     <use style=\"fill:#00bfbf;stroke:#00bfbf;\" x=\"670.241193\" xlink:href=\"#m8c1574de41\" y=\"448.916173\"/>\n    </g>\n   </g>\n   <g id=\"patch_14\">\n    <path d=\"M 405.128125 463.926875 \nL 405.128125 270.700625 \n\" style=\"fill:none;stroke:#000000;stroke-linecap:square;stroke-linejoin:miter;stroke-width:0.8;\"/>\n   </g>\n   <g id=\"patch_15\">\n    <path d=\"M 682.865625 463.926875 \nL 682.865625 270.700625 \n\" style=\"fill:none;stroke:#000000;stroke-linecap:square;stroke-linejoin:miter;stroke-width:0.8;\"/>\n   </g>\n   <g id=\"patch_16\">\n    <path d=\"M 405.128125 463.926875 \nL 682.865625 463.926875 \n\" style=\"fill:none;stroke:#000000;stroke-linecap:square;stroke-linejoin:miter;stroke-width:0.8;\"/>\n   </g>\n   <g id=\"patch_17\">\n    <path d=\"M 405.128125 270.700625 \nL 682.865625 270.700625 \n\" style=\"fill:none;stroke:#000000;stroke-linecap:square;stroke-linejoin:miter;stroke-width:0.8;\"/>\n   </g>\n   <g id=\"legend_2\">\n    <g id=\"patch_18\">\n     <path d=\"M 602.4875 308.199062 \nL 675.865625 308.199062 \nQ 677.865625 308.199062 677.865625 306.199062 \nL 677.865625 277.700625 \nQ 677.865625 275.700625 675.865625 275.700625 \nL 602.4875 275.700625 \nQ 600.4875 275.700625 600.4875 277.700625 \nL 600.4875 306.199062 \nQ 600.4875 308.199062 602.4875 308.199062 \nz\n\" style=\"fill:#ffffff;opacity:0.8;stroke:#cccccc;stroke-linejoin:miter;\"/>\n    </g>\n    <g id=\"line2d_162\">\n     <path d=\"M 604.4875 283.799062 \nL 624.4875 283.799062 \n\" style=\"fill:none;stroke:#000000;stroke-linecap:square;stroke-width:1.5;\"/>\n    </g>\n    <g id=\"line2d_163\">\n     <g>\n      <use style=\"stroke:#000000;stroke-linejoin:miter;\" x=\"614.4875\" xlink:href=\"#m6376b3f606\" y=\"283.799062\"/>\n     </g>\n    </g>\n    <g id=\"text_41\">\n     <!-- Original -->\n     <defs>\n      <path d=\"M 41.015625 3.8125 \nQ 52.984375 3.8125 59.078125 12.03125 \nQ 65.1875 20.265625 65.1875 36.375 \nQ 65.1875 52.546875 59.078125 60.765625 \nQ 52.984375 69 41.015625 69 \nQ 29 69 22.890625 60.765625 \nQ 16.796875 52.546875 16.796875 36.375 \nQ 16.796875 20.265625 22.890625 12.03125 \nQ 29 3.8125 41.015625 3.8125 \nz\nM 41.015625 -1.421875 \nQ 33.59375 -1.421875 27.359375 1.015625 \nQ 21.140625 3.46875 16.40625 8.203125 \nQ 10.9375 13.671875 8.265625 20.609375 \nQ 5.609375 27.546875 5.609375 36.375 \nQ 5.609375 45.21875 8.265625 52.171875 \nQ 10.9375 59.125 16.40625 64.59375 \nQ 21.1875 69.390625 27.34375 71.796875 \nQ 33.5 74.21875 41.015625 74.21875 \nQ 56.890625 74.21875 66.65625 63.8125 \nQ 76.421875 53.421875 76.421875 36.375 \nQ 76.421875 27.640625 73.734375 20.625 \nQ 71.046875 13.625 65.578125 8.203125 \nQ 60.796875 3.421875 54.640625 1 \nQ 48.484375 -1.421875 41.015625 -1.421875 \nz\n\" id=\"DejaVuSerif-79\"/>\n      <path d=\"M 52.484375 46.6875 \nL 52.484375 1.125 \nQ 52.484375 -10.0625 46.328125 -16.140625 \nQ 40.1875 -22.21875 28.8125 -22.21875 \nQ 23.6875 -22.21875 19 -21.28125 \nQ 14.3125 -20.359375 10.015625 -18.5 \nL 10.015625 -7.625 \nL 14.703125 -7.625 \nQ 15.578125 -12.703125 18.84375 -15.046875 \nQ 22.125 -17.390625 28.21875 -17.390625 \nQ 36.140625 -17.390625 39.8125 -12.921875 \nQ 43.5 -8.453125 43.5 1.125 \nL 43.5 8.109375 \nQ 40.875 3.21875 36.796875 0.890625 \nQ 32.71875 -1.421875 26.703125 -1.421875 \nQ 17.140625 -1.421875 11.0625 6.171875 \nQ 4.984375 13.765625 4.984375 25.984375 \nQ 4.984375 38.1875 11.03125 45.75 \nQ 17.09375 53.328125 26.703125 53.328125 \nQ 32.71875 53.328125 36.796875 51 \nQ 40.875 48.6875 43.5 43.796875 \nL 43.5 51.90625 \nL 61.078125 51.90625 \nL 61.078125 46.6875 \nz\nM 43.5 28.515625 \nQ 43.5 37.84375 39.90625 42.765625 \nQ 36.328125 47.703125 29.5 47.703125 \nQ 22.5625 47.703125 19.015625 42.234375 \nQ 15.484375 36.765625 15.484375 25.984375 \nQ 15.484375 15.234375 19.015625 9.71875 \nQ 22.5625 4.203125 29.5 4.203125 \nQ 36.328125 4.203125 39.90625 9.109375 \nQ 43.5 14.015625 43.5 23.390625 \nz\n\" id=\"DejaVuSerif-103\"/>\n     </defs>\n     <g transform=\"translate(632.4875 287.299062)scale(0.1 -0.1)\">\n      <use xlink:href=\"#DejaVuSerif-79\"/>\n      <use x=\"81.982422\" xlink:href=\"#DejaVuSerif-114\"/>\n      <use x=\"129.785156\" xlink:href=\"#DejaVuSerif-105\"/>\n      <use x=\"161.767578\" xlink:href=\"#DejaVuSerif-103\"/>\n      <use x=\"225.78125\" xlink:href=\"#DejaVuSerif-105\"/>\n      <use x=\"257.763672\" xlink:href=\"#DejaVuSerif-110\"/>\n      <use x=\"322.167969\" xlink:href=\"#DejaVuSerif-97\"/>\n      <use x=\"381.787109\" xlink:href=\"#DejaVuSerif-108\"/>\n     </g>\n    </g>\n    <g id=\"line2d_164\">\n     <path d=\"M 604.4875 298.619375 \nL 624.4875 298.619375 \n\" style=\"fill:none;stroke:#00bfbf;stroke-linecap:square;stroke-width:1.5;\"/>\n    </g>\n    <g id=\"line2d_165\">\n     <g>\n      <use style=\"fill:#00bfbf;stroke:#00bfbf;\" x=\"614.4875\" xlink:href=\"#m8c1574de41\" y=\"298.619375\"/>\n     </g>\n    </g>\n    <g id=\"text_42\">\n     <!-- Contin -->\n     <g transform=\"translate(632.4875 302.119375)scale(0.1 -0.1)\">\n      <use xlink:href=\"#DejaVuSerif-67\"/>\n      <use x=\"76.513672\" xlink:href=\"#DejaVuSerif-111\"/>\n      <use x=\"136.71875\" xlink:href=\"#DejaVuSerif-110\"/>\n      <use x=\"201.123047\" xlink:href=\"#DejaVuSerif-116\"/>\n      <use x=\"241.308594\" xlink:href=\"#DejaVuSerif-105\"/>\n      <use x=\"273.291016\" xlink:href=\"#DejaVuSerif-110\"/>\n     </g>\n    </g>\n   </g>\n  </g>\n  <g id=\"axes_4\">\n   <g id=\"patch_19\">\n    <path d=\"M 46.965625 776.718125 \nL 324.703125 776.718125 \nL 324.703125 519.083125 \nL 46.965625 519.083125 \nz\n\" style=\"fill:#ffffff;\"/>\n   </g>\n   <g id=\"PathCollection_1\">\n    <path clip-path=\"url(#p5e09f7d5ca)\" d=\"M 49.771054 774.92563 \nL 52.576484 774.92563 \nL 55.381913 774.92563 \nL 58.187342 774.92563 \nL 60.992771 774.92563 \nL 63.798201 774.92563 \nL 66.60363 774.92563 \nL 69.409059 774.92563 \nL 72.214489 774.92563 \nL 75.019918 774.92563 \nL 77.825347 774.92563 \nL 80.630777 774.92563 \nL 83.436206 774.92563 \nL 86.241635 774.92563 \nL 89.047064 774.92563 \nL 91.852494 774.92563 \nL 94.657923 774.92563 \nL 97.463352 774.92563 \nL 100.268782 774.92563 \nL 103.074211 774.92563 \nL 105.87964 774.92563 \nL 108.685069 774.92563 \nL 111.490499 774.92563 \nL 114.295928 774.92563 \nL 117.101357 774.92563 \nL 119.906787 774.92563 \nL 122.712216 774.92563 \nL 125.517645 774.92563 \nL 128.323074 774.92563 \nL 131.128504 774.92563 \nL 133.933933 774.92563 \nL 136.739362 774.92563 \nL 139.544792 774.92563 \nL 142.350221 774.92563 \nL 145.15565 774.92563 \nL 147.96108 774.92563 \nL 150.766509 774.92563 \nL 153.571938 774.92563 \nL 156.377367 774.92563 \nL 159.182797 774.92563 \nL 161.988226 774.92563 \nL 164.793655 774.92563 \nL 167.599085 774.92563 \nL 170.404514 774.92563 \nL 173.209943 774.92563 \nL 176.015372 774.92563 \nL 178.820802 774.92563 \nL 181.626231 774.92563 \nL 184.43166 774.92563 \nL 187.23709 774.92563 \nL 190.042519 774.92563 \nL 192.847948 774.92563 \nL 195.653378 774.92563 \nL 198.458807 774.92563 \nL 201.264236 774.92563 \nL 204.069665 774.92563 \nL 206.875095 774.92563 \nL 209.680524 774.92563 \nL 212.485953 774.92563 \nL 215.291383 774.92563 \nL 218.096812 774.92563 \nL 220.902241 774.92563 \nL 223.70767 774.92563 \nL 226.5131 774.92563 \nL 229.318529 774.92563 \nL 232.123958 774.92563 \nL 234.929388 774.92563 \nL 237.734817 774.92563 \nL 240.540246 774.92563 \nL 243.345676 774.92563 \nL 246.151105 774.92563 \nL 248.956534 774.92563 \nL 251.761963 774.92563 \nL 254.567393 774.92563 \nL 257.372822 774.92563 \nL 260.178251 774.92563 \nL 262.983681 774.92563 \nL 265.78911 774.92563 \nL 268.594539 774.92563 \nL 271.399968 774.92563 \nL 274.205398 774.92563 \nL 277.010827 774.92563 \nL 279.816256 774.92563 \nL 282.621686 774.92563 \nL 285.427115 774.92563 \nL 288.232544 774.92563 \nL 291.037973 774.92563 \nL 293.843403 774.92563 \nL 296.648832 774.92563 \nL 299.454261 774.92563 \nL 302.259691 774.92563 \nL 305.06512 774.92563 \nL 307.870549 774.92563 \nL 310.675979 774.92563 \nL 313.481408 774.92563 \nL 316.286837 774.92563 \nL 319.092266 774.92563 \nL 321.897696 774.92563 \nL 324.703125 774.92563 \nL 324.703125 776.718125 \nL 324.703125 776.420792 \nL 324.703125 776.055497 \nL 324.703125 775.664716 \nL 324.703125 775.26544 \nL 324.703125 774.857668 \nL 324.703125 774.458392 \nL 324.703125 774.050621 \nL 324.703125 773.625859 \nL 324.703125 773.226583 \nL 324.703125 772.818812 \nL 324.703125 772.411041 \nL 324.703125 772.003269 \nL 324.703125 771.595498 \nL 324.703125 771.179232 \nL 324.703125 770.779956 \nL 324.703125 770.363689 \nL 324.703125 769.955918 \nL 324.703125 769.50567 \nL 324.703125 768.860032 \nL 324.703125 768.035995 \nL 324.703125 767.093023 \nL 324.703125 766.099081 \nL 324.703125 764.807805 \nL 324.703125 763.508034 \nL 324.703125 762.208263 \nL 324.703125 760.883006 \nL 324.703125 759.55775 \nL 324.703125 758.190017 \nL 324.703125 756.86476 \nL 324.703125 755.539503 \nL 324.703125 754.222742 \nL 324.703125 752.905981 \nL 324.703125 751.580724 \nL 324.703125 750.212991 \nL 324.703125 748.896229 \nL 324.703125 747.562478 \nL 324.703125 746.245716 \nL 324.703125 744.920459 \nL 324.703125 743.603698 \nL 324.703125 742.269946 \nL 324.703125 740.910708 \nL 324.703125 739.576956 \nL 324.703125 738.260195 \nL 324.703125 736.926443 \nL 324.703125 735.601186 \nL 324.703125 734.284425 \nL 324.703125 732.959168 \nL 324.703125 731.633911 \nL 324.703125 730.266179 \nL 324.703125 728.940922 \nL 324.703125 727.615665 \nL 324.703125 726.290408 \nL 324.703125 724.965152 \nL 324.703125 723.6314 \nL 324.703125 722.263667 \nL 324.703125 720.972391 \nL 324.703125 719.604658 \nL 324.703125 718.270906 \nL 324.703125 716.94565 \nL 324.703125 715.620393 \nL 324.703125 714.295136 \nL 324.703125 712.961384 \nL 324.703125 711.636128 \nL 324.703125 710.310871 \nL 324.703125 708.934643 \nL 324.703125 707.609386 \nL 324.703125 706.267139 \nL 324.703125 704.933387 \nL 324.703125 703.599635 \nL 324.703125 702.274378 \nL 324.703125 700.949122 \nL 324.703125 699.623865 \nL 324.703125 698.264627 \nL 324.703125 696.990342 \nL 324.703125 695.631104 \nL 324.703125 694.288857 \nL 324.703125 692.94661 \nL 324.703125 691.595868 \nL 324.703125 690.262116 \nL 324.703125 688.928364 \nL 324.703125 687.36524 \nL 324.703125 685.581241 \nL 324.703125 683.950156 \nL 324.703125 682.395528 \nL 324.703125 680.891871 \nL 324.703125 679.422195 \nL 324.703125 677.978005 \nL 324.703125 676.491339 \nL 324.703125 675.072635 \nL 324.703125 673.653931 \nL 324.703125 672.252217 \nL 324.703125 670.858998 \nL 324.703125 669.474275 \nL 324.703125 668.098047 \nL 324.703125 666.704828 \nL 324.703125 665.286124 \nL 324.703125 663.986353 \nL 324.703125 662.550658 \nL 324.703125 661.15744 \nL 324.703125 659.789707 \nL 324.703125 658.413479 \nL 324.703125 657.028755 \nL 324.703125 655.661022 \nL 324.703125 654.242318 \nL 324.703125 652.874585 \nL 324.703125 651.506852 \nL 324.703125 650.130624 \nL 324.703125 648.762891 \nL 324.703125 647.403654 \nL 324.703125 646.044416 \nL 324.703125 644.676683 \nL 324.703125 643.266474 \nL 324.703125 641.949713 \nL 324.703125 640.547999 \nL 324.703125 639.188761 \nL 324.703125 637.838019 \nL 324.703125 636.487276 \nL 324.703125 635.136534 \nL 324.703125 633.777296 \nL 324.703125 632.426554 \nL 324.703125 631.084307 \nL 324.703125 629.682593 \nL 324.703125 628.340346 \nL 324.703125 626.998099 \nL 324.703125 625.655851 \nL 324.703125 624.313604 \nL 324.703125 622.971357 \nL 324.703125 621.595129 \nL 324.703125 620.269872 \nL 324.703125 618.93612 \nL 324.703125 617.559892 \nL 324.703125 616.243131 \nL 324.703125 614.883893 \nL 324.703125 613.558636 \nL 324.703125 612.23338 \nL 324.703125 610.882637 \nL 324.703125 609.565876 \nL 324.703125 608.206638 \nL 324.703125 606.881382 \nL 324.703125 605.556125 \nL 324.703125 604.196887 \nL 324.703125 602.87163 \nL 324.703125 601.512393 \nL 324.703125 600.195631 \nL 324.703125 598.836394 \nL 324.703125 597.528127 \nL 324.703125 596.18588 \nL 324.703125 594.852128 \nL 324.703125 593.518376 \nL 324.703125 592.19312 \nL 324.703125 590.859368 \nL 324.703125 589.534111 \nL 324.703125 588.200359 \nL 324.703125 586.875102 \nL 324.703125 585.549846 \nL 324.703125 584.224589 \nL 324.703125 582.890837 \nL 324.703125 581.523104 \nL 324.703125 580.231828 \nL 324.703125 578.872591 \nL 324.703125 577.581315 \nL 324.703125 576.222077 \nL 324.703125 574.930802 \nL 324.703125 573.61404 \nL 324.703125 572.288783 \nL 324.703125 570.963527 \nL 324.703125 569.63827 \nL 324.703125 568.270537 \nL 324.703125 566.987757 \nL 324.703125 565.6625 \nL 324.703125 564.328748 \nL 324.703125 563.003491 \nL 324.703125 561.644254 \nL 324.703125 560.327492 \nL 324.703125 559.010731 \nL 324.703125 557.685474 \nL 324.703125 556.368713 \nL 324.703125 555.043456 \nL 324.703125 553.718199 \nL 324.703125 552.358962 \nL 324.703125 551.050695 \nL 324.703125 549.733934 \nL 324.703125 548.425668 \nL 324.703125 547.125897 \nL 324.703125 545.81763 \nL 324.703125 544.526355 \nL 324.703125 543.167117 \nL 324.703125 541.867346 \nL 324.703125 540.567575 \nL 324.703125 539.267804 \nL 324.703125 537.968033 \nL 324.703125 536.659767 \nL 324.703125 535.351501 \nL 324.703125 533.949787 \nL 324.703125 532.565063 \nL 324.703125 531.222816 \nL 324.703125 529.855083 \nL 324.703125 528.495846 \nL 324.703125 527.145103 \nL 324.703125 525.794361 \nL 324.703125 524.460609 \nL 324.703125 523.126857 \nL 324.703125 521.750629 \nL 324.703125 520.408382 \nL 324.703125 519.083125 \nL 321.897696 519.083125 \nL 319.092266 519.083125 \nL 316.286837 519.083125 \nL 313.481408 519.083125 \nL 310.675979 519.083125 \nL 307.870549 519.083125 \nL 305.06512 519.083125 \nL 302.259691 519.083125 \nL 299.454261 519.083125 \nL 296.648832 519.083125 \nL 293.843403 519.083125 \nL 291.037973 519.083125 \nL 288.232544 519.083125 \nL 285.427115 519.083125 \nL 282.621686 519.083125 \nL 279.816256 519.083125 \nL 277.010827 519.083125 \nL 274.205398 519.083125 \nL 271.399968 519.083125 \nL 268.594539 519.083125 \nL 265.78911 519.083125 \nL 262.983681 519.083125 \nL 260.178251 519.083125 \nL 257.372822 519.083125 \nL 254.567393 519.083125 \nL 251.761963 519.083125 \nL 248.956534 519.083125 \nL 246.151105 519.083125 \nL 243.345676 519.083125 \nL 240.540246 519.083125 \nL 237.734817 519.083125 \nL 234.929388 519.083125 \nL 232.123958 519.083125 \nL 229.318529 519.083125 \nL 226.5131 519.083125 \nL 223.70767 519.083125 \nL 220.902241 519.083125 \nL 218.096812 519.083125 \nL 215.291383 519.083125 \nL 212.485953 519.083125 \nL 209.680524 519.083125 \nL 206.875095 519.083125 \nL 204.069665 519.083125 \nL 201.264236 519.083125 \nL 198.458807 519.083125 \nL 195.653378 519.083125 \nL 192.847948 519.083125 \nL 190.042519 519.083125 \nL 187.23709 519.083125 \nL 184.43166 519.083125 \nL 181.626231 519.083125 \nL 178.820802 519.083125 \nL 176.015372 519.083125 \nL 173.209943 519.083125 \nL 170.404514 519.083125 \nL 167.599085 519.083125 \nL 164.793655 519.083125 \nL 161.988226 519.083125 \nL 159.182797 519.083125 \nL 156.377367 519.083125 \nL 153.571938 519.083125 \nL 150.766509 519.083125 \nL 147.96108 519.083125 \nL 145.15565 519.083125 \nL 142.350221 519.083125 \nL 139.544792 519.083125 \nL 136.739362 519.083125 \nL 133.933933 519.083125 \nL 131.128504 519.083125 \nL 128.323074 519.083125 \nL 125.517645 519.083125 \nL 122.712216 519.083125 \nL 119.906787 519.083125 \nL 117.101357 519.083125 \nL 114.295928 519.083125 \nL 111.490499 519.083125 \nL 108.685069 519.083125 \nL 105.87964 519.083125 \nL 104.531175 519.083125 \nL 103.074211 519.569605 \nL 100.268782 519.999247 \nL 97.463352 520.179945 \nL 94.657923 520.255864 \nL 91.852494 520.270305 \nL 89.047064 520.233087 \nL 86.241635 520.132451 \nL 83.436206 519.924809 \nL 80.630777 519.479248 \nL 79.387585 519.083125 \nL 77.825347 519.083125 \nL 75.019918 519.083125 \nL 72.214489 519.083125 \nL 69.409059 519.083125 \nL 66.60363 519.083125 \nL 63.798201 519.083125 \nL 60.992771 519.083125 \nL 58.187342 519.083125 \nL 55.381913 519.083125 \nL 52.576484 519.083125 \nL 49.771054 519.083125 \nL 46.965625 519.083125 \nL 46.965625 520.408382 \nL 46.965625 521.750629 \nL 46.965625 523.126857 \nL 46.965625 524.460609 \nL 46.965625 525.794361 \nL 46.965625 527.145103 \nL 46.965625 528.495846 \nL 46.965625 529.855083 \nL 46.965625 531.222816 \nL 46.965625 532.565063 \nL 46.965625 533.949787 \nL 46.965625 535.351501 \nL 46.965625 536.659767 \nL 46.965625 537.968033 \nL 46.965625 539.267804 \nL 46.965625 540.567575 \nL 46.965625 541.867346 \nL 46.965625 543.167117 \nL 46.965625 544.526355 \nL 46.965625 545.81763 \nL 46.965625 547.125897 \nL 46.965625 548.425668 \nL 46.965625 549.733934 \nL 46.965625 551.050695 \nL 46.965625 552.358962 \nL 46.965625 553.718199 \nL 46.965625 555.043456 \nL 46.965625 556.368713 \nL 46.965625 557.685474 \nL 46.965625 559.010731 \nL 46.965625 560.327492 \nL 46.965625 561.644254 \nL 46.965625 563.003491 \nL 46.965625 564.328748 \nL 46.965625 565.6625 \nL 46.965625 566.987757 \nL 46.965625 568.270537 \nL 46.965625 569.63827 \nL 46.965625 570.963527 \nL 46.965625 572.288783 \nL 46.965625 573.61404 \nL 46.965625 574.930802 \nL 46.965625 576.222077 \nL 46.965625 577.581315 \nL 46.965625 578.872591 \nL 46.965625 580.231828 \nL 46.965625 581.523104 \nL 46.965625 582.890837 \nL 46.965625 584.224589 \nL 46.965625 585.549846 \nL 46.965625 586.875102 \nL 46.965625 588.200359 \nL 46.965625 589.534111 \nL 46.965625 590.859368 \nL 46.965625 592.19312 \nL 46.965625 593.518376 \nL 46.965625 594.852128 \nL 46.965625 596.18588 \nL 46.965625 597.528127 \nL 46.965625 598.836394 \nL 46.965625 600.195631 \nL 46.965625 601.512393 \nL 46.965625 602.87163 \nL 46.965625 604.196887 \nL 46.965625 604.240532 \nL 46.987337 604.196887 \nL 47.466722 602.87163 \nL 49.650123 601.512393 \nL 49.57184 600.195631 \nL 49.771054 600.118654 \nL 52.576484 599.496721 \nL 55.381913 599.208326 \nL 58.187342 599.021428 \nL 60.992771 598.837072 \nL 61.00369 598.836394 \nL 62.75446 597.528127 \nL 63.798201 597.413893 \nL 66.60363 597.163082 \nL 69.409059 596.662839 \nL 70.138573 596.18588 \nL 72.214489 595.841442 \nL 75.019918 595.683203 \nL 77.825347 595.698661 \nL 80.630777 595.868935 \nL 82.9058 596.18588 \nL 80.630777 596.449099 \nL 77.825347 596.708979 \nL 75.019918 596.959571 \nL 72.214489 597.402926 \nL 71.824551 597.528127 \nL 72.214489 597.613212 \nL 75.019918 598.61911 \nL 75.455459 598.836394 \nL 75.019918 598.866551 \nL 72.214489 599.034464 \nL 69.409059 599.268019 \nL 67.020993 600.195631 \nL 68.689951 601.512393 \nL 66.60363 602.202957 \nL 65.373598 602.87163 \nL 65.889427 604.196887 \nL 65.172777 605.556125 \nL 65.486342 606.881382 \nL 66.262004 608.206638 \nL 66.14685 609.565876 \nL 66.60363 610.107753 \nL 67.565833 610.882637 \nL 67.57199 612.23338 \nL 68.935981 613.558636 \nL 69.409059 613.941057 \nL 70.982232 614.883893 \nL 71.916117 616.243131 \nL 72.214489 616.408413 \nL 74.634372 617.559892 \nL 75.019918 617.825459 \nL 76.990478 618.93612 \nL 77.825347 619.474145 \nL 79.342705 620.269872 \nL 80.630777 620.692006 \nL 83.247164 621.595129 \nL 83.436206 621.663615 \nL 86.241635 622.515804 \nL 87.545172 622.971357 \nL 89.047064 623.666536 \nL 90.583045 624.313604 \nL 91.852494 624.62699 \nL 94.657923 625.207647 \nL 97.001307 625.655851 \nL 97.463352 625.693482 \nL 100.268782 625.766436 \nL 103.074211 625.681598 \nL 103.364114 625.655851 \nL 105.87964 625.206431 \nL 108.685069 624.773984 \nL 111.490499 624.356973 \nL 111.727579 624.313604 \nL 114.295928 623.589095 \nL 117.101357 623.05601 \nL 117.498396 622.971357 \nL 119.906787 622.224722 \nL 122.712216 621.657045 \nL 122.97226 621.595129 \nL 125.517645 620.843141 \nL 128.323074 620.360385 \nL 128.751743 620.269872 \nL 131.128504 619.435205 \nL 133.45403 618.93612 \nL 133.933933 618.727197 \nL 136.739362 617.813639 \nL 137.665624 617.559892 \nL 139.544792 616.880877 \nL 142.350221 616.355704 \nL 142.875442 616.243131 \nL 145.15565 615.376257 \nL 147.183425 614.883893 \nL 147.96108 614.531223 \nL 150.766509 613.671801 \nL 151.163598 613.558636 \nL 153.571938 612.706753 \nL 155.925151 612.23338 \nL 156.377367 612.007065 \nL 159.18026 610.882637 \nL 159.182797 610.88139 \nL 161.988226 609.802963 \nL 162.858434 609.565876 \nL 164.793655 608.783464 \nL 166.969537 608.206638 \nL 167.599085 607.869352 \nL 169.617979 606.881382 \nL 170.404514 606.561551 \nL 173.209943 605.805229 \nL 174.361467 605.556125 \nL 176.015372 604.696722 \nL 177.094983 604.196887 \nL 178.820802 603.501936 \nL 181.065446 602.87163 \nL 181.626231 602.578147 \nL 184.028844 601.512393 \nL 184.43166 601.339327 \nL 187.23709 600.329589 \nL 187.662298 600.195631 \nL 190.042519 599.356194 \nL 192.179632 598.836394 \nL 192.847948 598.451517 \nL 194.653446 597.528127 \nL 195.653378 597.212789 \nL 198.458807 596.563029 \nL 200.452476 596.18588 \nL 201.264236 595.670999 \nL 202.715971 594.852128 \nL 204.069665 594.430019 \nL 206.875095 593.754158 \nL 207.940932 593.518376 \nL 209.680524 592.454963 \nL 210.190598 592.19312 \nL 212.485953 591.352997 \nL 214.225265 590.859368 \nL 215.291383 590.430328 \nL 218.096812 589.583197 \nL 218.295021 589.534111 \nL 219.972883 588.200359 \nL 220.902241 588.036896 \nL 223.70767 587.585452 \nL 226.5131 587.13009 \nL 227.906536 586.875102 \nL 229.318529 586.48478 \nL 232.123958 585.891954 \nL 234.1502 585.549846 \nL 234.929388 585.272177 \nL 237.734817 584.448644 \nL 238.639712 584.224589 \nL 240.540246 583.535566 \nL 242.601288 582.890837 \nL 243.345676 582.706743 \nL 246.151105 582.095072 \nL 248.956534 581.568347 \nL 249.217574 581.523104 \nL 251.761963 580.516726 \nL 253.214193 580.231828 \nL 254.567393 580.008825 \nL 257.372822 579.711818 \nL 260.178251 579.536285 \nL 262.983681 579.433791 \nL 265.78911 579.378462 \nL 268.594539 579.3556 \nL 271.399968 579.356803 \nL 274.205398 579.377497 \nL 277.010827 579.415302 \nL 279.816256 579.469632 \nL 282.621686 579.541423 \nL 285.427115 579.632767 \nL 288.232544 579.747406 \nL 291.037973 579.890817 \nL 293.843403 580.071495 \nL 295.884679 580.231828 \nL 296.648832 580.274513 \nL 299.454261 580.456533 \nL 302.259691 580.695978 \nL 305.06512 581.020442 \nL 307.870549 581.476857 \nL 308.120221 581.523104 \nL 309.828473 582.890837 \nL 310.675979 583.509236 \nL 311.622968 584.224589 \nL 310.979026 585.549846 \nL 310.675979 585.651352 \nL 307.870549 586.486665 \nL 306.214717 586.875102 \nL 306.752409 588.200359 \nL 305.06512 588.435004 \nL 302.259691 588.765267 \nL 299.454261 589.035296 \nL 296.648832 589.270168 \nL 293.843403 589.487082 \nL 293.27295 589.534111 \nL 291.037973 589.713284 \nL 288.232544 589.900014 \nL 285.427115 590.058668 \nL 282.621686 590.204875 \nL 279.816256 590.351655 \nL 277.010827 590.51066 \nL 274.205398 590.69367 \nL 272.136052 590.859368 \nL 271.399968 590.991961 \nL 268.594539 591.491566 \nL 265.78911 591.950121 \nL 264.466028 592.19312 \nL 262.983681 592.621514 \nL 260.178251 593.436689 \nL 259.941515 593.518376 \nL 257.372822 594.216564 \nL 254.567393 594.844322 \nL 254.537571 594.852128 \nL 251.761963 595.618791 \nL 249.417522 596.18588 \nL 248.956534 596.329192 \nL 246.151105 597.141222 \nL 244.599756 597.528127 \nL 243.345676 597.883042 \nL 240.540246 598.565199 \nL 239.459926 598.836394 \nL 237.734817 599.384427 \nL 234.929388 600.081113 \nL 234.511644 600.195631 \nL 232.123958 601.017057 \nL 230.395173 601.512393 \nL 229.318529 601.851139 \nL 226.5131 602.548944 \nL 225.114053 602.87163 \nL 223.70767 603.366494 \nL 220.902241 604.110078 \nL 220.603769 604.196887 \nL 218.096812 605.012158 \nL 215.612521 605.556125 \nL 215.291383 605.672834 \nL 212.485953 606.602716 \nL 211.478065 606.881382 \nL 209.680524 607.492794 \nL 206.875095 608.130575 \nL 206.602163 608.206638 \nL 204.069665 609.120219 \nL 202.211274 609.565876 \nL 201.264236 609.913655 \nL 198.458807 610.733097 \nL 197.956029 610.882637 \nL 195.653378 611.72284 \nL 193.535686 612.23338 \nL 192.847948 612.50752 \nL 190.042519 613.365175 \nL 189.314916 613.558636 \nL 187.23709 614.340474 \nL 185.20567 614.883893 \nL 184.43166 615.200339 \nL 181.626231 616.085331 \nL 181.102655 616.243131 \nL 178.820802 617.164227 \nL 177.531769 617.559892 \nL 176.015372 618.195212 \nL 173.766674 618.93612 \nL 173.209943 619.1513 \nL 170.404514 620.084039 \nL 169.786924 620.269872 \nL 167.599085 621.274523 \nL 166.807495 621.595129 \nL 164.793655 622.680536 \nL 164.228086 622.971357 \nL 161.988226 623.8547 \nL 160.541593 624.313604 \nL 159.182797 624.985678 \nL 157.615095 625.655851 \nL 157.511944 626.998099 \nL 156.377367 627.410675 \nL 153.571938 628.184952 \nL 152.877698 628.340346 \nL 150.766509 628.85251 \nL 147.96108 629.23706 \nL 145.15565 629.494392 \nL 142.748118 629.682593 \nL 142.350221 629.768383 \nL 139.544792 630.443029 \nL 136.96355 631.084307 \nL 136.739362 631.129558 \nL 133.933933 631.620814 \nL 131.128504 631.96837 \nL 128.323074 632.316456 \nL 127.654454 632.426554 \nL 125.904895 633.777296 \nL 126.747858 635.136534 \nL 125.517645 635.883513 \nL 124.689478 636.487276 \nL 125.023613 637.838019 \nL 125.517645 638.186587 \nL 127.274316 639.188761 \nL 125.517645 640.520914 \nL 125.487637 640.547999 \nL 125.517645 640.565405 \nL 128.323074 641.501829 \nL 131.128504 641.940299 \nL 131.263905 641.949713 \nL 133.933933 642.092345 \nL 136.739362 642.166564 \nL 139.544792 642.125842 \nL 140.978314 641.949713 \nL 142.350221 641.829913 \nL 145.15565 641.438795 \nL 147.96108 640.713109 \nL 148.388053 640.547999 \nL 149.399633 639.188761 \nL 148.742865 637.838019 \nL 150.766509 637.390494 \nL 153.571938 636.838524 \nL 155.190307 636.487276 \nL 156.377367 635.71471 \nL 157.338841 635.136534 \nL 157.560725 633.777296 \nL 159.182797 633.216048 \nL 161.894971 632.426554 \nL 161.988226 632.33719 \nL 163.699038 631.084307 \nL 163.991208 629.682593 \nL 164.793655 629.569548 \nL 167.599085 629.272468 \nL 170.404514 629.063642 \nL 173.209943 628.875499 \nL 176.015372 628.663916 \nL 178.820802 628.381633 \nL 179.14954 628.340346 \nL 181.626231 627.862166 \nL 184.43166 627.435119 \nL 187.23709 626.9998 \nL 187.247243 626.998099 \nL 190.042519 626.064177 \nL 191.227413 625.655851 \nL 192.847948 625.333931 \nL 195.653378 624.970267 \nL 198.458807 624.672743 \nL 201.264236 624.336759 \nL 201.43004 624.313604 \nL 204.069665 623.668838 \nL 206.875095 623.112594 \nL 207.575159 622.971357 \nL 209.680524 622.40835 \nL 212.485953 621.769464 \nL 213.229618 621.595129 \nL 215.291383 621.201215 \nL 218.096812 620.851153 \nL 220.902241 620.539864 \nL 223.016325 620.269872 \nL 223.70767 620.10537 \nL 226.5131 619.574083 \nL 229.318529 619.118555 \nL 230.403097 618.93612 \nL 232.123958 618.612161 \nL 234.929388 618.2469 \nL 237.734817 617.941017 \nL 240.540246 617.612716 \nL 240.938934 617.559892 \nL 243.345676 617.138065 \nL 246.151105 616.728806 \nL 248.956534 616.299595 \nL 249.291165 616.243131 \nL 251.761963 615.741047 \nL 254.567393 615.208599 \nL 256.052637 614.883893 \nL 257.372822 614.388232 \nL 260.178251 613.570422 \nL 260.226296 613.558636 \nL 262.983681 613.084827 \nL 265.78911 612.768397 \nL 268.594539 612.539802 \nL 271.399968 612.364909 \nL 274.051423 612.23338 \nL 274.205398 612.21738 \nL 277.010827 612.007193 \nL 279.816256 611.875337 \nL 282.621686 611.789381 \nL 285.427115 611.742361 \nL 288.232544 611.726983 \nL 291.037973 611.732176 \nL 293.843403 611.770612 \nL 296.648832 611.833696 \nL 299.454261 611.933361 \nL 302.259691 612.081747 \nL 304.407569 612.23338 \nL 305.06512 612.277274 \nL 307.870549 612.522103 \nL 310.675979 612.901247 \nL 313.481408 613.510019 \nL 313.66886 613.558636 \nL 315.702928 614.883893 \nL 313.481408 615.655307 \nL 310.947613 616.243131 \nL 310.675979 616.293877 \nL 307.870549 616.75768 \nL 305.06512 617.082526 \nL 302.259691 617.325764 \nL 299.454261 617.521012 \nL 298.860865 617.559892 \nL 296.648832 617.716909 \nL 293.843403 617.879189 \nL 291.037973 618.004792 \nL 288.232544 618.109073 \nL 285.427115 618.189611 \nL 282.621686 618.25624 \nL 279.816256 618.311305 \nL 277.010827 618.357361 \nL 274.205398 618.408159 \nL 271.399968 618.469584 \nL 268.594539 618.546085 \nL 265.78911 618.650912 \nL 262.983681 618.801111 \nL 261.211991 618.93612 \nL 260.178251 619.096488 \nL 257.372822 619.50115 \nL 254.567393 619.88207 \nL 252.082352 620.269872 \nL 251.761963 620.322448 \nL 248.956534 620.721103 \nL 246.151105 621.021428 \nL 243.345676 621.320971 \nL 241.279413 621.595129 \nL 240.540246 621.802228 \nL 237.734817 622.554262 \nL 236.168079 622.971357 \nL 234.929388 623.257181 \nL 232.123958 623.858374 \nL 230.056485 624.313604 \nL 229.318529 624.463255 \nL 226.5131 624.928546 \nL 223.70767 625.291946 \nL 221.055573 625.655851 \nL 220.902241 625.709234 \nL 218.096812 626.670191 \nL 217.080809 626.998099 \nL 215.291383 627.481896 \nL 212.485953 628.141474 \nL 211.680631 628.340346 \nL 209.680524 628.827355 \nL 206.875095 629.325623 \nL 204.393533 629.682593 \nL 204.069665 629.802618 \nL 201.264236 631.000008 \nL 201.100055 631.084307 \nL 198.458807 631.654376 \nL 195.653378 632.297003 \nL 195.222627 632.426554 \nL 192.847948 633.080755 \nL 190.042519 633.754679 \nL 189.959818 633.777296 \nL 188.834221 635.136534 \nL 187.23709 635.701092 \nL 185.097007 636.487276 \nL 184.43166 636.677335 \nL 181.626231 637.386368 \nL 179.54697 637.838019 \nL 178.820802 638.569376 \nL 178.153122 639.188761 \nL 176.015372 640.064891 \nL 174.869627 640.547999 \nL 173.209943 640.989482 \nL 170.404514 641.580261 \nL 168.30612 641.949713 \nL 167.599085 642.050737 \nL 164.793655 642.327047 \nL 161.988226 642.484117 \nL 159.182797 642.58182 \nL 156.377367 642.647561 \nL 153.571938 642.696625 \nL 150.766509 642.74506 \nL 147.96108 642.828374 \nL 145.15565 643.184348 \nL 144.956145 643.266474 \nL 142.350221 643.499574 \nL 139.544792 643.715974 \nL 136.739362 643.936091 \nL 133.933933 644.19441 \nL 131.128504 644.533519 \nL 130.268599 644.676683 \nL 129.370424 646.044416 \nL 130.387545 647.403654 \nL 128.323074 647.728965 \nL 125.517645 648.108893 \nL 122.712216 648.518434 \nL 121.477631 648.762891 \nL 121.936388 650.130624 \nL 119.906787 650.891327 \nL 118.54779 651.506852 \nL 117.101357 652.257646 \nL 116.146731 652.874585 \nL 115.389734 654.242318 \nL 114.295928 655.069333 \nL 113.697101 655.661022 \nL 111.490499 656.889008 \nL 111.293856 657.028755 \nL 111.490499 657.877491 \nL 111.702388 658.413479 \nL 111.490499 658.570119 \nL 110.076623 659.789707 \nL 108.685069 660.448621 \nL 107.390951 661.15744 \nL 107.12789 662.550658 \nL 107.261258 663.986353 \nL 106.503316 665.286124 \nL 105.87964 665.646063 \nL 104.225853 666.704828 \nL 103.074211 667.223098 \nL 100.824523 668.098047 \nL 100.711384 669.474275 \nL 101.269049 670.858998 \nL 100.268782 671.072192 \nL 97.463352 671.956903 \nL 96.944887 672.252217 \nL 94.657923 672.882819 \nL 91.852494 673.447759 \nL 90.280783 673.653931 \nL 89.047064 673.852941 \nL 86.241635 673.881048 \nL 84.490011 673.653931 \nL 83.436206 673.13342 \nL 82.934361 672.252217 \nL 83.436206 672.114733 \nL 86.241635 671.51505 \nL 89.047064 670.937606 \nL 89.471013 670.858998 \nL 89.047064 670.615245 \nL 86.986614 669.474275 \nL 86.241635 669.421706 \nL 83.436206 669.094946 \nL 80.630777 668.464237 \nL 79.694945 668.098047 \nL 80.630777 667.496089 \nL 81.713192 666.704828 \nL 81.165729 665.286124 \nL 80.630777 664.891331 \nL 79.420972 663.986353 \nL 79.117188 662.550658 \nL 78.110245 661.15744 \nL 77.825347 660.657047 \nL 77.247485 659.789707 \nL 77.825347 658.543109 \nL 77.87905 658.413479 \nL 77.825347 658.294964 \nL 77.298009 657.028755 \nL 77.159403 655.661022 \nL 75.019918 654.283165 \nL 74.950896 654.242318 \nL 75.019918 654.142272 \nL 75.67771 652.874585 \nL 75.019918 652.572432 \nL 72.550767 651.506852 \nL 72.214489 651.365701 \nL 69.409059 650.318358 \nL 68.886272 650.130624 \nL 69.409059 649.048189 \nL 69.518067 648.762891 \nL 69.409059 648.731436 \nL 66.60363 648.103557 \nL 63.798201 647.584971 \nL 62.819936 647.403654 \nL 61.186194 646.044416 \nL 60.992771 645.788674 \nL 60.127134 644.676683 \nL 58.187342 644.212361 \nL 55.381913 643.446623 \nL 54.82857 643.266474 \nL 55.381913 643.012008 \nL 57.817092 641.949713 \nL 58.187342 641.793282 \nL 60.900908 640.547999 \nL 59.180838 639.188761 \nL 60.624254 637.838019 \nL 60.992771 637.633563 \nL 62.814148 636.487276 \nL 61.55143 635.136534 \nL 62.079991 633.777296 \nL 61.239697 632.426554 \nL 60.992771 632.378306 \nL 58.187342 631.9206 \nL 55.381913 631.446356 \nL 53.673231 631.084307 \nL 52.576484 630.439582 \nL 51.484568 629.682593 \nL 49.771054 629.011897 \nL 48.654841 628.340346 \nL 47.659978 626.998099 \nL 47.070469 625.655851 \nL 46.965625 625.438814 \nL 46.965625 625.655851 \nL 46.965625 626.998099 \nL 46.965625 628.340346 \nL 46.965625 629.682593 \nL 46.965625 631.084307 \nL 46.965625 632.426554 \nL 46.965625 633.777296 \nL 46.965625 635.136534 \nL 46.965625 636.487276 \nL 46.965625 637.838019 \nL 46.965625 639.188761 \nL 46.965625 640.547999 \nL 46.965625 641.949713 \nL 46.965625 643.266474 \nL 46.965625 644.676683 \nL 46.965625 646.044416 \nL 46.965625 647.403654 \nL 46.965625 648.762891 \nL 46.965625 650.130624 \nL 46.965625 651.506852 \nL 46.965625 652.874585 \nL 46.965625 654.242318 \nL 46.965625 655.661022 \nL 46.965625 657.028755 \nL 46.965625 658.413479 \nL 46.965625 659.789707 \nL 46.965625 661.15744 \nL 46.965625 662.550658 \nL 46.965625 663.986353 \nL 46.965625 665.286124 \nL 46.965625 666.704828 \nL 46.965625 668.098047 \nL 46.965625 669.474275 \nL 46.965625 670.858998 \nL 46.965625 672.252217 \nL 46.965625 673.653931 \nL 46.965625 675.072635 \nL 46.965625 676.491339 \nL 46.965625 677.978005 \nL 46.965625 679.422195 \nL 46.965625 680.891871 \nL 46.965625 682.395528 \nL 46.965625 683.950156 \nL 46.965625 685.581241 \nL 46.965625 687.36524 \nL 46.965625 688.928364 \nL 46.965625 690.262116 \nL 46.965625 691.595868 \nL 46.965625 692.94661 \nL 46.965625 694.288857 \nL 46.965625 695.631104 \nL 46.965625 696.990342 \nL 46.965625 698.264627 \nL 46.965625 699.623865 \nL 46.965625 700.949122 \nL 46.965625 702.274378 \nL 46.965625 703.599635 \nL 46.965625 704.933387 \nL 46.965625 706.267139 \nL 46.965625 707.609386 \nL 46.965625 708.934643 \nL 46.965625 710.310871 \nL 46.965625 711.636128 \nL 46.965625 712.961384 \nL 46.965625 714.295136 \nL 46.965625 715.620393 \nL 46.965625 716.94565 \nL 46.965625 718.270906 \nL 46.965625 719.604658 \nL 46.965625 720.972391 \nL 46.965625 722.263667 \nL 46.965625 723.6314 \nL 46.965625 724.965152 \nL 46.965625 726.290408 \nL 46.965625 727.615665 \nL 46.965625 728.940922 \nL 46.965625 730.266179 \nL 46.965625 731.633911 \nL 46.965625 732.959168 \nL 46.965625 734.284425 \nL 46.965625 735.601186 \nL 46.965625 736.926443 \nL 46.965625 738.260195 \nL 46.965625 739.576956 \nL 46.965625 740.910708 \nL 46.965625 742.269946 \nL 46.965625 743.603698 \nL 46.965625 744.920459 \nL 46.965625 746.245716 \nL 46.965625 747.562478 \nL 46.965625 748.896229 \nL 46.965625 750.212991 \nL 46.965625 751.580724 \nL 46.965625 752.905981 \nL 46.965625 754.222742 \nL 46.965625 755.539503 \nL 46.965625 756.86476 \nL 46.965625 758.190017 \nL 46.965625 759.55775 \nL 46.965625 760.883006 \nL 46.965625 762.208263 \nL 46.965625 763.508034 \nL 46.965625 764.807805 \nL 46.965625 766.099081 \nL 46.965625 767.093023 \nL 46.965625 768.035995 \nL 46.965625 768.860032 \nL 46.965625 769.50567 \nL 46.965625 769.955918 \nL 46.965625 770.363689 \nL 46.965625 770.779956 \nL 46.965625 771.179232 \nL 46.965625 771.595498 \nL 46.965625 772.003269 \nL 46.965625 772.411041 \nL 46.965625 772.818812 \nL 46.965625 773.226583 \nL 46.965625 773.625859 \nL 46.965625 774.050621 \nL 46.965625 774.458392 \nL 46.965625 774.857668 \nL 46.965625 775.26544 \nL 46.965625 775.664716 \nL 46.965625 776.055497 \nL 46.965625 776.420792 \nL 46.965625 776.718125 \nL 46.965625 774.92563 \nz\nM 91.035962 773.226583 \nL 89.047064 773.077144 \nL 86.450469 772.818812 \nL 86.241635 772.781374 \nL 84.782521 772.411041 \nL 83.436206 772.25839 \nL 81.733225 772.003269 \nL 80.630777 771.741957 \nL 80.094671 771.595498 \nL 79.788445 771.179232 \nL 80.630777 771.018648 \nL 82.249999 770.779956 \nL 80.846877 770.363689 \nL 83.436206 770.158639 \nL 86.241635 770.093527 \nL 89.047064 770.072109 \nL 91.852494 770.07088 \nL 94.657923 770.084924 \nL 97.463352 770.117617 \nL 100.268782 770.183933 \nL 103.074211 770.336265 \nL 103.372129 770.363689 \nL 103.118139 770.779956 \nL 103.074211 770.786328 \nL 100.920921 771.179232 \nL 100.375571 771.595498 \nL 100.268782 771.96053 \nL 100.255255 772.003269 \nL 100.268782 772.019097 \nL 100.66878 772.411041 \nL 100.610403 772.818812 \nL 100.321783 773.226583 \nL 100.268782 773.229023 \nL 97.463352 773.294364 \nL 94.657923 773.300911 \nL 91.852494 773.257325 \nz\nM 82.661971 769.50567 \nL 83.436206 769.391395 \nL 86.241635 769.124901 \nL 89.047064 768.947848 \nL 90.788321 768.860032 \nL 91.852494 768.746737 \nL 94.657923 768.578994 \nL 97.463352 768.483088 \nL 100.268782 768.420763 \nL 103.074211 768.381481 \nL 105.87964 768.369188 \nL 108.685069 768.411635 \nL 111.490499 768.639553 \nL 112.365252 768.860032 \nL 111.490499 768.914308 \nL 108.685069 769.125982 \nL 106.214226 769.50567 \nL 105.87964 769.525443 \nL 103.074211 769.642509 \nL 100.268782 769.710258 \nL 97.463352 769.750758 \nL 94.657923 769.772841 \nL 91.852494 769.778827 \nL 89.047064 769.765214 \nL 86.241635 769.71781 \nL 83.436206 769.585861 \nz\nM 106.138126 767.093023 \nL 108.685069 766.710701 \nL 111.118265 766.099081 \nL 111.490499 766.07236 \nL 114.295928 765.888541 \nL 117.101357 765.680494 \nL 119.906787 765.355563 \nL 122.002768 764.807805 \nL 122.712216 764.692437 \nL 125.517645 764.294608 \nL 128.323074 763.872846 \nL 130.176689 763.508034 \nL 131.128504 763.356601 \nL 133.933933 763.002038 \nL 136.739362 762.65302 \nL 139.286377 762.208263 \nL 139.544792 762.154243 \nL 142.350221 761.690952 \nL 145.15565 761.288136 \nL 147.395407 760.883006 \nL 147.96108 760.738971 \nL 150.766509 760.185543 \nL 153.571938 759.737752 \nL 154.688255 759.55775 \nL 156.377367 759.190289 \nL 159.182797 758.69068 \nL 161.896926 758.190017 \nL 161.988226 758.169567 \nL 164.793655 757.669155 \nL 167.599085 757.26601 \nL 170.228434 756.86476 \nL 170.404514 756.823969 \nL 173.209943 756.332603 \nL 176.015372 755.983192 \nL 178.820802 755.679618 \nL 180.130126 755.539503 \nL 181.626231 755.349432 \nL 184.43166 755.016005 \nL 187.23709 754.638527 \nL 189.574817 754.222742 \nL 190.042519 754.150656 \nL 192.847948 753.779354 \nL 195.653378 753.402643 \nL 198.458807 752.923154 \nL 198.554164 752.905981 \nL 201.264236 752.528973 \nL 204.069665 752.269821 \nL 206.875095 752.090481 \nL 209.680524 751.96399 \nL 212.485953 751.881467 \nL 215.291383 751.87408 \nL 217.899546 752.905981 \nL 215.291383 753.401185 \nL 212.485953 754.003941 \nL 211.670634 754.222742 \nL 209.680524 754.511617 \nL 206.875095 754.917412 \nL 204.069665 755.402432 \nL 203.423313 755.539503 \nL 201.264236 755.775313 \nL 198.458807 756.068191 \nL 195.653378 756.442877 \nL 193.773085 756.86476 \nL 192.847948 757.010989 \nL 190.042519 757.417892 \nL 187.23709 757.837478 \nL 185.442505 758.190017 \nL 184.43166 758.372014 \nL 181.626231 758.842415 \nL 178.820802 759.347231 \nL 177.906397 759.55775 \nL 176.015372 759.873917 \nL 173.209943 760.280223 \nL 170.404514 760.767723 \nL 169.92798 760.883006 \nL 167.599085 761.353518 \nL 164.793655 761.780591 \nL 162.056109 762.208263 \nL 161.988226 762.222027 \nL 159.182797 762.709456 \nL 156.377367 763.07231 \nL 153.571938 763.439077 \nL 153.120344 763.508034 \nL 150.766509 763.921984 \nL 147.96108 764.321415 \nL 145.15565 764.731961 \nL 144.703054 764.807805 \nL 142.350221 765.149431 \nL 139.544792 765.439964 \nL 136.739362 765.672497 \nL 133.933933 765.893107 \nL 131.650445 766.099081 \nL 131.128504 766.18851 \nL 128.323074 766.618082 \nL 125.517645 767.03333 \nL 125.091472 767.093023 \nL 122.712216 767.365831 \nL 119.906787 767.572537 \nL 117.101357 767.694732 \nL 114.295928 767.74701 \nL 111.490499 767.722676 \nL 108.685069 767.569452 \nz\nM 65.869918 766.099081 \nL 63.798201 766.040206 \nL 60.992771 765.871354 \nL 58.187342 765.600218 \nL 55.381913 765.148286 \nL 54.120731 764.807805 \nL 52.974602 763.508034 \nL 52.576484 763.245097 \nL 51.492386 762.208263 \nL 50.894831 760.883006 \nL 52.482378 759.55775 \nL 52.284636 758.190017 \nL 52.576484 758.050994 \nL 55.381913 757.476883 \nL 58.187342 757.476459 \nL 60.992771 758.034822 \nL 61.388233 758.190017 \nL 62.825892 759.55775 \nL 63.798201 760.103537 \nL 64.749337 760.883006 \nL 66.60363 761.757775 \nL 67.6769 762.208263 \nL 69.409059 762.95769 \nL 71.030943 763.508034 \nL 72.214489 764.73358 \nL 72.299841 764.807805 \nL 72.214489 764.961277 \nL 69.409059 766.079234 \nL 68.610213 766.099081 \nL 66.60363 766.13517 \nz\nM 77.39889 593.518376 \nL 77.825347 593.467405 \nL 80.630777 593.338547 \nL 83.436206 593.354286 \nL 86.241635 593.474525 \nL 86.80292 593.518376 \nL 86.241635 593.57944 \nL 83.436206 593.74619 \nL 80.630777 593.771875 \nL 77.825347 593.593678 \nz\nM 83.503499 590.859368 \nL 86.241635 590.728318 \nL 89.047064 590.704356 \nL 91.852494 590.754823 \nL 94.163331 590.859368 \nL 91.852494 590.996915 \nL 89.047064 591.066437 \nL 86.241635 591.037959 \nz\nM 83.357136 588.200359 \nL 83.436206 588.194916 \nL 86.241635 588.097011 \nL 89.047064 588.078153 \nL 91.852494 588.124068 \nL 93.689782 588.200359 \nL 91.852494 588.275465 \nL 89.047064 588.326037 \nL 86.241635 588.312236 \nL 83.436206 588.20671 \nz\nM 86.197486 585.549846 \nL 86.241635 585.544655 \nL 89.047064 585.381936 \nL 91.852494 585.357784 \nL 94.657923 585.46195 \nL 95.637972 585.549846 \nL 94.657923 585.590872 \nL 91.852494 585.641986 \nL 89.047064 585.631059 \nL 86.241635 585.552333 \nz\nM 83.035605 580.231828 \nL 83.436206 579.742327 \nL 83.797761 578.872591 \nL 83.436206 578.514557 \nL 81.168139 577.581315 \nL 80.630777 577.33422 \nL 79.74694 576.222077 \nL 80.630777 575.90481 \nL 83.436206 575.407926 \nL 86.241635 575.195011 \nL 89.047064 575.097016 \nL 91.852494 575.062134 \nL 94.657923 575.075478 \nL 97.463352 575.14348 \nL 100.268782 575.302212 \nL 103.074211 575.67354 \nL 104.854682 576.222077 \nL 103.074211 576.687593 \nL 100.268782 577.193085 \nL 97.463352 577.534552 \nL 96.940534 577.581315 \nL 97.463352 577.626898 \nL 100.268782 577.941519 \nL 103.074211 578.393801 \nL 105.02919 578.872591 \nL 103.074211 579.332314 \nL 100.268782 579.791155 \nL 97.463352 580.119075 \nL 96.20021 580.231828 \nL 94.657923 580.422137 \nL 91.852494 580.554459 \nL 89.047064 580.556665 \nL 86.241635 580.466315 \nL 83.436206 580.27651 \nz\nM 81.96492 573.61404 \nL 83.436206 572.430449 \nL 85.793646 572.288783 \nL 83.436206 572.109524 \nL 82.161662 570.963527 \nL 80.630777 570.437033 \nL 77.825347 569.880395 \nL 76.116634 569.63827 \nL 77.825347 569.263213 \nL 80.630777 568.452129 \nL 81.114221 568.270537 \nL 80.630777 568.078701 \nL 77.825347 567.167225 \nL 77.17914 566.987757 \nL 77.66706 565.6625 \nL 76.964468 564.328748 \nL 75.019918 563.046188 \nL 74.63988 563.003491 \nL 75.019918 562.904736 \nL 75.523864 561.644254 \nL 75.019918 561.457074 \nL 72.214489 560.97128 \nL 69.409059 560.763942 \nL 66.60363 560.612461 \nL 63.798201 560.460006 \nL 61.86077 560.327492 \nL 63.798201 560.1091 \nL 66.60363 559.853118 \nL 69.409059 559.603974 \nL 72.214489 559.286963 \nL 73.82353 559.010731 \nL 72.214489 558.473878 \nL 69.779853 557.685474 \nL 69.409059 557.615279 \nL 66.60363 557.17721 \nL 63.798201 556.825924 \nL 60.992771 556.448886 \nL 60.53086 556.368713 \nL 60.992771 556.320037 \nL 63.798201 556.098723 \nL 66.60363 555.910377 \nL 69.409059 555.709904 \nL 72.214489 555.40505 \nL 73.881337 555.043456 \nL 72.214489 554.648433 \nL 69.409059 554.23704 \nL 66.60363 553.934721 \nL 64.571165 553.718199 \nL 63.798201 553.586272 \nL 60.992771 553.016202 \nL 58.47055 552.358962 \nL 60.992771 551.910837 \nL 63.798201 551.573541 \nL 66.60363 551.325028 \nL 69.409059 551.121184 \nL 70.576034 551.050695 \nL 69.409059 550.911465 \nL 66.60363 550.234172 \nL 65.49859 549.733934 \nL 63.798201 549.263135 \nL 60.992771 548.464406 \nL 60.877712 548.425668 \nL 60.992771 548.362042 \nL 63.798201 547.1972 \nL 64.033079 547.125897 \nL 66.60363 546.844598 \nL 69.409059 546.511861 \nL 72.214489 546.023945 \nL 73.032496 545.81763 \nL 72.214489 545.46657 \nL 69.596611 544.526355 \nL 69.409059 544.412097 \nL 66.60363 543.288167 \nL 66.209968 543.167117 \nL 66.60363 542.983875 \nL 69.409059 542.375571 \nL 72.214489 542.224001 \nL 75.019918 542.259503 \nL 77.825347 542.384905 \nL 80.630777 542.564918 \nL 83.436206 542.793287 \nL 86.241635 543.085461 \nL 86.883715 543.167117 \nL 89.047064 543.374906 \nL 91.852494 543.66049 \nL 94.657923 543.99567 \nL 97.463352 544.433416 \nL 97.952525 544.526355 \nL 100.268782 544.910849 \nL 103.074211 545.392419 \nL 105.334746 545.81763 \nL 103.074211 546.125094 \nL 100.268782 546.404025 \nL 97.463352 546.622446 \nL 94.657923 546.813276 \nL 91.852494 547.000448 \nL 90.112475 547.125897 \nL 89.047064 547.502163 \nL 87.324187 548.425668 \nL 89.047064 548.688077 \nL 91.852494 549.057643 \nL 94.657923 549.396196 \nL 97.44228 549.733934 \nL 94.704462 551.050695 \nL 94.657923 551.051635 \nL 91.852494 551.120839 \nL 89.047064 551.221388 \nL 86.241635 551.397192 \nL 83.436206 551.849212 \nL 82.34203 552.358962 \nL 83.436206 552.631873 \nL 86.241635 553.102523 \nL 89.047064 553.418885 \nL 91.852494 553.671425 \nL 92.420557 553.718199 \nL 94.657923 553.828516 \nL 97.463352 553.951852 \nL 100.268782 554.071222 \nL 103.074211 554.197714 \nL 105.87964 554.344239 \nL 108.685069 554.530598 \nL 111.490499 554.794338 \nL 113.329584 555.043456 \nL 111.490499 555.454536 \nL 108.685069 555.671316 \nL 105.87964 555.768924 \nL 103.074211 555.830035 \nL 100.268782 555.877693 \nL 97.463352 555.921639 \nL 94.657923 555.967871 \nL 91.852494 556.022019 \nL 89.047064 556.092055 \nL 86.241635 556.193375 \nL 83.436206 556.366229 \nL 83.407457 556.368713 \nL 83.436206 556.371894 \nL 86.241635 556.609917 \nL 89.047064 556.767635 \nL 91.852494 556.887839 \nL 94.657923 556.990411 \nL 97.463352 557.088355 \nL 100.268782 557.194689 \nL 103.074211 557.329869 \nL 105.87964 557.541366 \nL 107.098523 557.685474 \nL 108.685069 557.965036 \nL 111.490499 558.481826 \nL 113.97055 559.010731 \nL 111.490499 559.299826 \nL 108.685069 559.465188 \nL 105.87964 559.568514 \nL 103.074211 559.646421 \nL 100.268782 559.71457 \nL 97.463352 559.781993 \nL 94.657923 559.856135 \nL 91.852494 559.945992 \nL 89.047064 560.066885 \nL 86.241635 560.253229 \nL 85.463559 560.327492 \nL 86.241635 560.368741 \nL 89.047064 560.478974 \nL 91.852494 560.559311 \nL 94.657923 560.628114 \nL 97.463352 560.69551 \nL 100.268782 560.770205 \nL 103.074211 560.864161 \nL 105.87964 561.000902 \nL 108.685069 561.244506 \nL 110.844747 561.644254 \nL 111.490499 562.887925 \nL 114.295928 562.993799 \nL 114.72219 563.003491 \nL 114.295928 563.018277 \nL 111.490499 563.164264 \nL 110.733773 564.328748 \nL 111.490499 564.825164 \nL 112.970295 565.6625 \nL 111.490499 566.087658 \nL 108.685069 566.979762 \nL 108.661972 566.987757 \nL 108.685069 566.993324 \nL 111.490499 567.764468 \nL 112.96327 568.270537 \nL 111.490499 568.55791 \nL 108.685069 569.023424 \nL 105.87964 569.421938 \nL 104.253688 569.63827 \nL 105.87964 569.838554 \nL 108.685069 570.291947 \nL 111.354059 570.963527 \nL 108.685069 571.477253 \nL 105.87964 571.772711 \nL 103.074211 571.953427 \nL 100.268782 572.074457 \nL 97.463352 572.161039 \nL 94.657923 572.225739 \nL 91.852494 572.27422 \nL 90.395484 572.288783 \nL 91.852494 572.302242 \nL 94.657923 572.350255 \nL 97.463352 572.422337 \nL 100.268782 572.534953 \nL 103.074211 572.729007 \nL 105.87964 573.121851 \nL 107.592037 573.61404 \nL 105.87964 574.185008 \nL 103.074211 574.567376 \nL 100.268782 574.727545 \nL 97.463352 574.80426 \nL 94.657923 574.837504 \nL 91.852494 574.837964 \nL 89.047064 574.798426 \nL 86.241635 574.679357 \nL 83.436206 574.299044 \nz\nM 122.260321 556.368713 \nL 122.712216 556.346951 \nL 125.517645 556.283419 \nL 128.323074 556.271717 \nL 131.128504 556.29561 \nL 133.933933 556.35606 \nL 134.295325 556.368713 \nL 133.933933 556.385266 \nL 131.128504 556.460421 \nL 128.323074 556.485354 \nL 125.517645 556.465776 \nL 122.712216 556.391404 \nz\nM 124.924003 552.358962 \nL 125.517645 552.254887 \nL 128.323074 552.018775 \nL 131.128504 551.940209 \nL 133.933933 551.935024 \nL 136.739362 551.979431 \nL 139.544792 552.069797 \nL 142.350221 552.215397 \nL 144.222139 552.358962 \nL 142.350221 552.683474 \nL 139.544792 552.843512 \nL 136.739362 552.873627 \nL 133.933933 552.840374 \nL 131.128504 552.759247 \nL 128.323074 552.626546 \nL 125.517645 552.421641 \nz\nM 150.373311 549.733934 \nL 147.96108 549.209701 \nL 145.15565 548.893359 \nL 142.350221 548.657496 \nL 139.544792 548.434858 \nL 139.446776 548.425668 \nL 139.544792 548.409419 \nL 142.350221 548.097216 \nL 145.15565 547.915795 \nL 147.96108 547.829789 \nL 150.766509 547.83145 \nL 153.571938 547.93864 \nL 156.377367 548.214011 \nL 157.553377 548.425668 \nL 159.182797 548.69938 \nL 161.988226 549.030288 \nL 164.793655 549.312728 \nL 167.599085 549.613124 \nL 168.566687 549.733934 \nL 167.599085 549.856068 \nL 164.793655 550.029622 \nL 161.988226 550.086115 \nL 159.182797 550.08293 \nL 156.377367 550.034722 \nL 153.571938 549.937818 \nL 150.766509 549.769791 \nz\nM 163.316996 545.81763 \nL 161.988226 545.473336 \nL 159.182797 544.93516 \nL 156.59345 544.526355 \nL 159.182797 544.06639 \nL 161.988226 543.849063 \nL 164.793655 543.748653 \nL 167.599085 543.718663 \nL 170.404514 543.76343 \nL 173.209943 543.974517 \nL 175.128885 544.526355 \nL 176.015372 544.690979 \nL 178.820802 545.155524 \nL 181.626231 545.612031 \nL 182.743561 545.81763 \nL 181.626231 545.96276 \nL 178.820802 546.192753 \nL 176.015372 546.317202 \nL 173.209943 546.377808 \nL 170.404514 546.385015 \nL 167.599085 546.323356 \nL 164.793655 546.114555 \nz\nM 175.713624 541.867346 \nL 173.209943 541.327108 \nL 170.404514 540.651116 \nL 170.120226 540.567575 \nL 170.404514 540.330402 \nL 173.209943 539.535578 \nL 176.015372 539.362612 \nL 178.820802 539.336552 \nL 181.626231 539.389208 \nL 184.43166 539.52853 \nL 187.23709 539.833744 \nL 189.870716 540.567575 \nL 190.042519 540.749164 \nL 191.401509 541.867346 \nL 190.042519 542.127995 \nL 187.23709 542.4453 \nL 184.43166 542.596955 \nL 181.626231 542.628436 \nL 178.820802 542.515038 \nL 176.015372 542.009724 \nz\nM 74.731466 540.567575 \nL 72.880079 539.267804 \nL 72.214489 538.9165 \nL 69.409059 538.331824 \nL 66.60363 538.005373 \nL 66.354652 537.968033 \nL 66.60363 537.838118 \nL 69.409059 536.719918 \nL 69.610981 536.659767 \nL 72.214489 536.510001 \nL 75.019918 536.400515 \nL 77.825347 536.377482 \nL 79.348268 536.659767 \nL 77.825347 537.297461 \nL 76.688262 537.968033 \nL 77.825347 538.14141 \nL 80.630777 538.39702 \nL 83.436206 538.553336 \nL 86.241635 538.677856 \nL 89.047064 538.790867 \nL 91.852494 538.903408 \nL 94.657923 539.025129 \nL 97.463352 539.16799 \nL 99.073298 539.267804 \nL 100.268782 539.398816 \nL 103.074211 539.832546 \nL 105.79699 540.567575 \nL 103.074211 540.957147 \nL 100.268782 541.140647 \nL 97.463352 541.245583 \nL 94.657923 541.314526 \nL 91.852494 541.364113 \nL 89.047064 541.401712 \nL 86.241635 541.430131 \nL 83.436206 541.448154 \nL 80.630777 541.446556 \nL 77.825347 541.383409 \nL 75.019918 540.83327 \nz\nM 183.676183 537.968033 \nL 184.43166 537.896257 \nL 187.23709 537.713525 \nL 190.042519 537.602267 \nL 190.651295 537.968033 \nL 190.042519 538.054085 \nL 187.23709 538.259979 \nL 184.43166 538.206629 \nz\nM 263.639763 537.968033 \nL 265.78911 537.861089 \nL 268.594539 537.762857 \nL 271.399968 537.696465 \nL 274.205398 537.654644 \nL 277.010827 537.632951 \nL 279.816256 537.628842 \nL 282.621686 537.641168 \nL 285.427115 537.670021 \nL 288.232544 537.716656 \nL 291.037973 537.783645 \nL 293.843403 537.875359 \nL 296.025884 537.968033 \nL 293.843403 538.060105 \nL 291.037973 538.151227 \nL 288.232544 538.217778 \nL 285.427115 538.26411 \nL 282.621686 538.292776 \nL 279.816256 538.305022 \nL 277.010827 538.300939 \nL 274.205398 538.279387 \nL 271.399968 538.237838 \nL 268.594539 538.171877 \nL 265.78911 538.074282 \nz\nM 191.178863 536.659767 \nL 192.847948 536.253475 \nL 195.653378 536.089946 \nL 198.458807 536.115615 \nL 201.264236 536.253233 \nL 204.069665 536.519939 \nL 204.991281 536.659767 \nL 204.069665 536.727556 \nL 201.264236 536.900523 \nL 198.458807 537.055817 \nL 195.653378 537.200848 \nL 192.847948 537.329475 \nz\nM 80.878299 535.351501 \nL 80.630777 535.324351 \nL 77.825347 534.845687 \nL 75.059285 533.949787 \nL 75.019918 533.932766 \nL 72.214489 533.033613 \nL 69.898369 532.565063 \nL 69.409059 532.081101 \nL 68.305787 531.222816 \nL 66.60363 530.846364 \nL 63.798201 530.221161 \nL 62.464748 529.855083 \nL 63.798201 529.659279 \nL 66.60363 529.37419 \nL 69.409059 529.147877 \nL 72.214489 528.917261 \nL 74.102689 528.495846 \nL 75.019918 528.36152 \nL 77.825347 527.656752 \nL 78.588839 527.145103 \nL 77.825347 526.805018 \nL 76.152134 525.794361 \nL 77.786164 524.460609 \nL 75.019918 523.780548 \nL 72.214489 523.410541 \nL 69.626443 523.126857 \nL 72.214489 522.598167 \nL 75.019918 522.338688 \nL 77.825347 522.290689 \nL 80.630777 522.402921 \nL 83.436206 522.660557 \nL 86.241635 523.081355 \nL 86.467629 523.126857 \nL 89.047064 523.489714 \nL 91.852494 523.788666 \nL 94.657923 524.066025 \nL 97.463352 524.359351 \nL 98.321995 524.460609 \nL 100.233171 525.794361 \nL 100.268782 525.811735 \nL 103.074211 526.885914 \nL 103.97821 527.145103 \nL 103.074211 527.289531 \nL 100.268782 527.635182 \nL 97.463352 527.890593 \nL 94.657923 528.097049 \nL 91.852494 528.281106 \nL 89.047064 528.466881 \nL 88.596249 528.495846 \nL 86.241635 528.57078 \nL 83.436206 528.662089 \nL 80.630777 528.76578 \nL 77.825347 528.907203 \nL 75.019918 529.699328 \nL 74.942825 529.855083 \nL 75.019918 529.898948 \nL 77.825347 530.855619 \nL 79.987065 531.222816 \nL 80.630777 531.303091 \nL 83.436206 531.658332 \nL 86.241635 531.971103 \nL 89.047064 532.270256 \nL 91.749888 532.565063 \nL 91.852494 532.576564 \nL 94.657923 532.89605 \nL 97.463352 533.210093 \nL 100.268782 533.545634 \nL 103.074211 533.928398 \nL 103.217721 533.949787 \nL 104.433852 535.351501 \nL 103.074211 535.424302 \nL 100.268782 535.541341 \nL 97.463352 535.633278 \nL 94.657923 535.709869 \nL 91.852494 535.776649 \nL 89.047064 535.836001 \nL 86.241635 535.88526 \nL 83.436206 535.898644 \nz\nM 205.771956 532.565063 \nL 206.875095 532.337576 \nL 209.680524 532.19075 \nL 212.485953 532.3526 \nL 213.956252 532.565063 \nL 212.485953 532.669013 \nL 209.680524 532.707797 \nL 206.875095 532.635029 \nz\nM 277.320908 531.222816 \nL 279.816256 531.211733 \nL 282.42668 531.222816 \nL 279.816256 531.233693 \nz\n\"/>\n    <path clip-path=\"url(#p5e09f7d5ca)\" d=\"M 86.241635 563.028511 \nL 89.047064 563.055214 \nL 91.852494 563.072558 \nL 94.657923 563.082279 \nL 97.463352 563.085288 \nL 100.268782 563.081537 \nL 103.074211 563.070085 \nL 105.87964 563.047294 \nL 108.391021 563.003491 \nL 105.87964 562.978814 \nL 103.074211 562.966383 \nL 100.268782 562.960598 \nL 97.463352 562.959172 \nL 94.657923 562.961433 \nL 91.852494 562.967236 \nL 89.047064 562.976921 \nL 86.241635 562.991042 \nL 84.364562 563.003491 \nz\n\"/>\n   </g>\n   <g id=\"PathCollection_2\">\n    <path clip-path=\"url(#p5e09f7d5ca)\" d=\"M 91.852494 773.257325 \nL 94.657923 773.300911 \nL 97.463352 773.294364 \nL 100.268782 773.229023 \nL 100.321783 773.226583 \nL 100.610403 772.818812 \nL 100.66878 772.411041 \nL 100.268782 772.019097 \nL 100.255255 772.003269 \nL 100.268782 771.96053 \nL 100.375571 771.595498 \nL 100.920921 771.179232 \nL 103.074211 770.786328 \nL 103.118139 770.779956 \nL 103.372129 770.363689 \nL 103.074211 770.336265 \nL 100.268782 770.183933 \nL 97.463352 770.117617 \nL 94.657923 770.084924 \nL 91.852494 770.07088 \nL 89.047064 770.072109 \nL 86.241635 770.093527 \nL 83.436206 770.158639 \nL 80.846877 770.363689 \nL 82.249999 770.779956 \nL 80.630777 771.018648 \nL 79.788445 771.179232 \nL 80.094671 771.595498 \nL 80.630777 771.741957 \nL 81.733225 772.003269 \nL 83.436206 772.25839 \nL 84.782521 772.411041 \nL 86.241635 772.781374 \nL 86.450469 772.818812 \nL 89.047064 773.077144 \nL 91.035962 773.226583 \nz\n\" style=\"fill:#0000e8;\"/>\n    <path clip-path=\"url(#p5e09f7d5ca)\" d=\"M 83.436206 769.585861 \nL 86.241635 769.71781 \nL 89.047064 769.765214 \nL 91.852494 769.778827 \nL 94.657923 769.772841 \nL 97.463352 769.750758 \nL 100.268782 769.710258 \nL 103.074211 769.642509 \nL 105.87964 769.525443 \nL 106.214226 769.50567 \nL 108.685069 769.125982 \nL 111.490499 768.914308 \nL 112.365252 768.860032 \nL 111.490499 768.639553 \nL 108.685069 768.411635 \nL 105.87964 768.369188 \nL 103.074211 768.381481 \nL 100.268782 768.420763 \nL 97.463352 768.483088 \nL 94.657923 768.578994 \nL 91.852494 768.746737 \nL 90.788321 768.860032 \nL 89.047064 768.947848 \nL 86.241635 769.124901 \nL 83.436206 769.391395 \nL 82.661971 769.50567 \nz\n\" style=\"fill:#0000e8;\"/>\n    <path clip-path=\"url(#p5e09f7d5ca)\" d=\"M 108.685069 767.569452 \nL 111.490499 767.722676 \nL 114.295928 767.74701 \nL 117.101357 767.694732 \nL 119.906787 767.572537 \nL 122.712216 767.365831 \nL 125.091472 767.093023 \nL 125.517645 767.03333 \nL 128.323074 766.618082 \nL 131.128504 766.18851 \nL 131.650445 766.099081 \nL 133.933933 765.893107 \nL 136.739362 765.672497 \nL 139.544792 765.439964 \nL 142.350221 765.149431 \nL 144.703054 764.807805 \nL 145.15565 764.731961 \nL 147.96108 764.321415 \nL 150.766509 763.921984 \nL 153.120344 763.508034 \nL 153.571938 763.439077 \nL 156.377367 763.07231 \nL 159.182797 762.709456 \nL 161.988226 762.222027 \nL 162.056109 762.208263 \nL 164.793655 761.780591 \nL 167.599085 761.353518 \nL 169.92798 760.883006 \nL 170.404514 760.767723 \nL 173.209943 760.280223 \nL 176.015372 759.873917 \nL 177.906397 759.55775 \nL 178.820802 759.347231 \nL 181.626231 758.842415 \nL 184.43166 758.372014 \nL 185.442505 758.190017 \nL 187.23709 757.837478 \nL 190.042519 757.417892 \nL 192.847948 757.010989 \nL 193.773085 756.86476 \nL 195.653378 756.442877 \nL 198.458807 756.068191 \nL 201.264236 755.775313 \nL 203.423313 755.539503 \nL 204.069665 755.402432 \nL 206.875095 754.917412 \nL 209.680524 754.511617 \nL 211.670634 754.222742 \nL 212.485953 754.003941 \nL 215.291383 753.401185 \nL 217.899546 752.905981 \nL 215.291383 751.87408 \nL 212.485953 751.881467 \nL 209.680524 751.96399 \nL 206.875095 752.090481 \nL 204.069665 752.269821 \nL 201.264236 752.528973 \nL 198.554164 752.905981 \nL 198.458807 752.923154 \nL 195.653378 753.402643 \nL 192.847948 753.779354 \nL 190.042519 754.150656 \nL 189.574817 754.222742 \nL 187.23709 754.638527 \nL 184.43166 755.016005 \nL 181.626231 755.349432 \nL 180.130126 755.539503 \nL 178.820802 755.679618 \nL 176.015372 755.983192 \nL 173.209943 756.332603 \nL 170.404514 756.823969 \nL 170.228434 756.86476 \nL 167.599085 757.26601 \nL 164.793655 757.669155 \nL 161.988226 758.169567 \nL 161.896926 758.190017 \nL 159.182797 758.69068 \nL 156.377367 759.190289 \nL 154.688255 759.55775 \nL 153.571938 759.737752 \nL 150.766509 760.185543 \nL 147.96108 760.738971 \nL 147.395407 760.883006 \nL 145.15565 761.288136 \nL 142.350221 761.690952 \nL 139.544792 762.154243 \nL 139.286377 762.208263 \nL 136.739362 762.65302 \nL 133.933933 763.002038 \nL 131.128504 763.356601 \nL 130.176689 763.508034 \nL 128.323074 763.872846 \nL 125.517645 764.294608 \nL 122.712216 764.692437 \nL 122.002768 764.807805 \nL 119.906787 765.355563 \nL 117.101357 765.680494 \nL 114.295928 765.888541 \nL 111.490499 766.07236 \nL 111.118265 766.099081 \nL 108.685069 766.710701 \nL 106.138126 767.093023 \nz\nM 146.725398 762.208263 \nL 147.96108 762.056021 \nL 150.766509 761.755506 \nL 153.406641 760.883006 \nL 153.571938 760.8537 \nL 156.377367 760.503759 \nL 159.182797 760.212581 \nL 161.988226 759.855656 \nL 163.138755 759.55775 \nL 164.793655 759.373787 \nL 167.599085 759.23102 \nL 169.220727 759.55775 \nL 167.599085 759.735399 \nL 164.793655 760.133275 \nL 163.805873 760.883006 \nL 161.988226 761.120077 \nL 159.182797 761.417292 \nL 156.377367 761.763009 \nL 154.807649 762.208263 \nL 153.571938 762.333663 \nL 150.766509 762.509286 \nL 147.96108 762.521289 \nz\n\" style=\"fill:#0000e8;\"/>\n    <path clip-path=\"url(#p5e09f7d5ca)\" d=\"M 66.60363 766.13517 \nL 68.610213 766.099081 \nL 69.409059 766.079234 \nL 72.214489 764.961277 \nL 72.299841 764.807805 \nL 72.214489 764.73358 \nL 71.030943 763.508034 \nL 69.409059 762.95769 \nL 67.6769 762.208263 \nL 66.60363 761.757775 \nL 64.749337 760.883006 \nL 63.798201 760.103537 \nL 62.825892 759.55775 \nL 61.388233 758.190017 \nL 60.992771 758.034822 \nL 58.187342 757.476459 \nL 55.381913 757.476883 \nL 52.576484 758.050994 \nL 52.284636 758.190017 \nL 52.482378 759.55775 \nL 50.894831 760.883006 \nL 51.492386 762.208263 \nL 52.576484 763.245097 \nL 52.974602 763.508034 \nL 54.120731 764.807805 \nL 55.381913 765.148286 \nL 58.187342 765.600218 \nL 60.992771 765.871354 \nL 63.798201 766.040206 \nL 65.869918 766.099081 \nz\n\" style=\"fill:#0000e8;\"/>\n    <path clip-path=\"url(#p5e09f7d5ca)\" d=\"M 86.241635 673.881048 \nL 89.047064 673.852941 \nL 90.280783 673.653931 \nL 91.852494 673.447759 \nL 94.657923 672.882819 \nL 96.944887 672.252217 \nL 97.463352 671.956903 \nL 100.268782 671.072192 \nL 101.269049 670.858998 \nL 100.711384 669.474275 \nL 100.824523 668.098047 \nL 103.074211 667.223098 \nL 104.225853 666.704828 \nL 105.87964 665.646063 \nL 106.503316 665.286124 \nL 107.261258 663.986353 \nL 107.12789 662.550658 \nL 107.390951 661.15744 \nL 108.685069 660.448621 \nL 110.076623 659.789707 \nL 111.490499 658.570119 \nL 111.702388 658.413479 \nL 111.490499 657.877491 \nL 111.293856 657.028755 \nL 111.490499 656.889008 \nL 113.697101 655.661022 \nL 114.295928 655.069333 \nL 115.389734 654.242318 \nL 116.146731 652.874585 \nL 117.101357 652.257646 \nL 118.54779 651.506852 \nL 119.906787 650.891327 \nL 121.936388 650.130624 \nL 121.477631 648.762891 \nL 122.712216 648.518434 \nL 125.517645 648.108893 \nL 128.323074 647.728965 \nL 130.387545 647.403654 \nL 129.370424 646.044416 \nL 130.268599 644.676683 \nL 131.128504 644.533519 \nL 133.933933 644.19441 \nL 136.739362 643.936091 \nL 139.544792 643.715974 \nL 142.350221 643.499574 \nL 144.956145 643.266474 \nL 145.15565 643.184348 \nL 147.96108 642.828374 \nL 150.766509 642.74506 \nL 153.571938 642.696625 \nL 156.377367 642.647561 \nL 159.182797 642.58182 \nL 161.988226 642.484117 \nL 164.793655 642.327047 \nL 167.599085 642.050737 \nL 168.30612 641.949713 \nL 170.404514 641.580261 \nL 173.209943 640.989482 \nL 174.869627 640.547999 \nL 176.015372 640.064891 \nL 178.153122 639.188761 \nL 178.820802 638.569376 \nL 179.54697 637.838019 \nL 181.626231 637.386368 \nL 184.43166 636.677335 \nL 185.097007 636.487276 \nL 187.23709 635.701092 \nL 188.834221 635.136534 \nL 189.959818 633.777296 \nL 190.042519 633.754679 \nL 192.847948 633.080755 \nL 195.222627 632.426554 \nL 195.653378 632.297003 \nL 198.458807 631.654376 \nL 201.100055 631.084307 \nL 201.264236 631.000008 \nL 204.069665 629.802618 \nL 204.393533 629.682593 \nL 206.875095 629.325623 \nL 209.680524 628.827355 \nL 211.680631 628.340346 \nL 212.485953 628.141474 \nL 215.291383 627.481896 \nL 217.080809 626.998099 \nL 218.096812 626.670191 \nL 220.902241 625.709234 \nL 221.055573 625.655851 \nL 223.70767 625.291946 \nL 226.5131 624.928546 \nL 229.318529 624.463255 \nL 230.056485 624.313604 \nL 232.123958 623.858374 \nL 234.929388 623.257181 \nL 236.168079 622.971357 \nL 237.734817 622.554262 \nL 240.540246 621.802228 \nL 241.279413 621.595129 \nL 243.345676 621.320971 \nL 246.151105 621.021428 \nL 248.956534 620.721103 \nL 251.761963 620.322448 \nL 252.082352 620.269872 \nL 254.567393 619.88207 \nL 257.372822 619.50115 \nL 260.178251 619.096488 \nL 261.211991 618.93612 \nL 262.983681 618.801111 \nL 265.78911 618.650912 \nL 268.594539 618.546085 \nL 271.399968 618.469584 \nL 274.205398 618.408159 \nL 277.010827 618.357361 \nL 279.816256 618.311305 \nL 282.621686 618.25624 \nL 285.427115 618.189611 \nL 288.232544 618.109073 \nL 291.037973 618.004792 \nL 293.843403 617.879189 \nL 296.648832 617.716909 \nL 298.860865 617.559892 \nL 299.454261 617.521012 \nL 302.259691 617.325764 \nL 305.06512 617.082526 \nL 307.870549 616.75768 \nL 310.675979 616.293877 \nL 310.947613 616.243131 \nL 313.481408 615.655307 \nL 315.702928 614.883893 \nL 313.66886 613.558636 \nL 313.481408 613.510019 \nL 310.675979 612.901247 \nL 307.870549 612.522103 \nL 305.06512 612.277274 \nL 304.407569 612.23338 \nL 302.259691 612.081747 \nL 299.454261 611.933361 \nL 296.648832 611.833696 \nL 293.843403 611.770612 \nL 291.037973 611.732176 \nL 288.232544 611.726983 \nL 285.427115 611.742361 \nL 282.621686 611.789381 \nL 279.816256 611.875337 \nL 277.010827 612.007193 \nL 274.205398 612.21738 \nL 274.051423 612.23338 \nL 271.399968 612.364909 \nL 268.594539 612.539802 \nL 265.78911 612.768397 \nL 262.983681 613.084827 \nL 260.226296 613.558636 \nL 260.178251 613.570422 \nL 257.372822 614.388232 \nL 256.052637 614.883893 \nL 254.567393 615.208599 \nL 251.761963 615.741047 \nL 249.291165 616.243131 \nL 248.956534 616.299595 \nL 246.151105 616.728806 \nL 243.345676 617.138065 \nL 240.938934 617.559892 \nL 240.540246 617.612716 \nL 237.734817 617.941017 \nL 234.929388 618.2469 \nL 232.123958 618.612161 \nL 230.403097 618.93612 \nL 229.318529 619.118555 \nL 226.5131 619.574083 \nL 223.70767 620.10537 \nL 223.016325 620.269872 \nL 220.902241 620.539864 \nL 218.096812 620.851153 \nL 215.291383 621.201215 \nL 213.229618 621.595129 \nL 212.485953 621.769464 \nL 209.680524 622.40835 \nL 207.575159 622.971357 \nL 206.875095 623.112594 \nL 204.069665 623.668838 \nL 201.43004 624.313604 \nL 201.264236 624.336759 \nL 198.458807 624.672743 \nL 195.653378 624.970267 \nL 192.847948 625.333931 \nL 191.227413 625.655851 \nL 190.042519 626.064177 \nL 187.247243 626.998099 \nL 187.23709 626.9998 \nL 184.43166 627.435119 \nL 181.626231 627.862166 \nL 179.14954 628.340346 \nL 178.820802 628.381633 \nL 176.015372 628.663916 \nL 173.209943 628.875499 \nL 170.404514 629.063642 \nL 167.599085 629.272468 \nL 164.793655 629.569548 \nL 163.991208 629.682593 \nL 163.699038 631.084307 \nL 161.988226 632.33719 \nL 161.894971 632.426554 \nL 159.182797 633.216048 \nL 157.560725 633.777296 \nL 157.338841 635.136534 \nL 156.377367 635.71471 \nL 155.190307 636.487276 \nL 153.571938 636.838524 \nL 150.766509 637.390494 \nL 148.742865 637.838019 \nL 149.399633 639.188761 \nL 148.388053 640.547999 \nL 147.96108 640.713109 \nL 145.15565 641.438795 \nL 142.350221 641.829913 \nL 140.978314 641.949713 \nL 139.544792 642.125842 \nL 136.739362 642.166564 \nL 133.933933 642.092345 \nL 131.263905 641.949713 \nL 131.128504 641.940299 \nL 128.323074 641.501829 \nL 125.517645 640.565405 \nL 125.487637 640.547999 \nL 125.517645 640.520914 \nL 127.274316 639.188761 \nL 125.517645 638.186587 \nL 125.023613 637.838019 \nL 124.689478 636.487276 \nL 125.517645 635.883513 \nL 126.747858 635.136534 \nL 125.904895 633.777296 \nL 127.654454 632.426554 \nL 128.323074 632.316456 \nL 131.128504 631.96837 \nL 133.933933 631.620814 \nL 136.739362 631.129558 \nL 136.96355 631.084307 \nL 139.544792 630.443029 \nL 142.350221 629.768383 \nL 142.748118 629.682593 \nL 145.15565 629.494392 \nL 147.96108 629.23706 \nL 150.766509 628.85251 \nL 152.877698 628.340346 \nL 153.571938 628.184952 \nL 156.377367 627.410675 \nL 157.511944 626.998099 \nL 157.615095 625.655851 \nL 159.182797 624.985678 \nL 160.541593 624.313604 \nL 161.988226 623.8547 \nL 164.228086 622.971357 \nL 164.793655 622.680536 \nL 166.807495 621.595129 \nL 167.599085 621.274523 \nL 169.786924 620.269872 \nL 170.404514 620.084039 \nL 173.209943 619.1513 \nL 173.766674 618.93612 \nL 176.015372 618.195212 \nL 177.531769 617.559892 \nL 178.820802 617.164227 \nL 181.102655 616.243131 \nL 181.626231 616.085331 \nL 184.43166 615.200339 \nL 185.20567 614.883893 \nL 187.23709 614.340474 \nL 189.314916 613.558636 \nL 190.042519 613.365175 \nL 192.847948 612.50752 \nL 193.535686 612.23338 \nL 195.653378 611.72284 \nL 197.956029 610.882637 \nL 198.458807 610.733097 \nL 201.264236 609.913655 \nL 202.211274 609.565876 \nL 204.069665 609.120219 \nL 206.602163 608.206638 \nL 206.875095 608.130575 \nL 209.680524 607.492794 \nL 211.478065 606.881382 \nL 212.485953 606.602716 \nL 215.291383 605.672834 \nL 215.612521 605.556125 \nL 218.096812 605.012158 \nL 220.603769 604.196887 \nL 220.902241 604.110078 \nL 223.70767 603.366494 \nL 225.114053 602.87163 \nL 226.5131 602.548944 \nL 229.318529 601.851139 \nL 230.395173 601.512393 \nL 232.123958 601.017057 \nL 234.511644 600.195631 \nL 234.929388 600.081113 \nL 237.734817 599.384427 \nL 239.459926 598.836394 \nL 240.540246 598.565199 \nL 243.345676 597.883042 \nL 244.599756 597.528127 \nL 246.151105 597.141222 \nL 248.956534 596.329192 \nL 249.417522 596.18588 \nL 251.761963 595.618791 \nL 254.537571 594.852128 \nL 254.567393 594.844322 \nL 257.372822 594.216564 \nL 259.941515 593.518376 \nL 260.178251 593.436689 \nL 262.983681 592.621514 \nL 264.466028 592.19312 \nL 265.78911 591.950121 \nL 268.594539 591.491566 \nL 271.399968 590.991961 \nL 272.136052 590.859368 \nL 274.205398 590.69367 \nL 277.010827 590.51066 \nL 279.816256 590.351655 \nL 282.621686 590.204875 \nL 285.427115 590.058668 \nL 288.232544 589.900014 \nL 291.037973 589.713284 \nL 293.27295 589.534111 \nL 293.843403 589.487082 \nL 296.648832 589.270168 \nL 299.454261 589.035296 \nL 302.259691 588.765267 \nL 305.06512 588.435004 \nL 306.752409 588.200359 \nL 306.214717 586.875102 \nL 307.870549 586.486665 \nL 310.675979 585.651352 \nL 310.979026 585.549846 \nL 311.622968 584.224589 \nL 310.675979 583.509236 \nL 309.828473 582.890837 \nL 308.120221 581.523104 \nL 307.870549 581.476857 \nL 305.06512 581.020442 \nL 302.259691 580.695978 \nL 299.454261 580.456533 \nL 296.648832 580.274513 \nL 295.884679 580.231828 \nL 293.843403 580.071495 \nL 291.037973 579.890817 \nL 288.232544 579.747406 \nL 285.427115 579.632767 \nL 282.621686 579.541423 \nL 279.816256 579.469632 \nL 277.010827 579.415302 \nL 274.205398 579.377497 \nL 271.399968 579.356803 \nL 268.594539 579.3556 \nL 265.78911 579.378462 \nL 262.983681 579.433791 \nL 260.178251 579.536285 \nL 257.372822 579.711818 \nL 254.567393 580.008825 \nL 253.214193 580.231828 \nL 251.761963 580.516726 \nL 249.217574 581.523104 \nL 248.956534 581.568347 \nL 246.151105 582.095072 \nL 243.345676 582.706743 \nL 242.601288 582.890837 \nL 240.540246 583.535566 \nL 238.639712 584.224589 \nL 237.734817 584.448644 \nL 234.929388 585.272177 \nL 234.1502 585.549846 \nL 232.123958 585.891954 \nL 229.318529 586.48478 \nL 227.906536 586.875102 \nL 226.5131 587.13009 \nL 223.70767 587.585452 \nL 220.902241 588.036896 \nL 219.972883 588.200359 \nL 218.295021 589.534111 \nL 218.096812 589.583197 \nL 215.291383 590.430328 \nL 214.225265 590.859368 \nL 212.485953 591.352997 \nL 210.190598 592.19312 \nL 209.680524 592.454963 \nL 207.940932 593.518376 \nL 206.875095 593.754158 \nL 204.069665 594.430019 \nL 202.715971 594.852128 \nL 201.264236 595.670999 \nL 200.452476 596.18588 \nL 198.458807 596.563029 \nL 195.653378 597.212789 \nL 194.653446 597.528127 \nL 192.847948 598.451517 \nL 192.179632 598.836394 \nL 190.042519 599.356194 \nL 187.662298 600.195631 \nL 187.23709 600.329589 \nL 184.43166 601.339327 \nL 184.028844 601.512393 \nL 181.626231 602.578147 \nL 181.065446 602.87163 \nL 178.820802 603.501936 \nL 177.094983 604.196887 \nL 176.015372 604.696722 \nL 174.361467 605.556125 \nL 173.209943 605.805229 \nL 170.404514 606.561551 \nL 169.617979 606.881382 \nL 167.599085 607.869352 \nL 166.969537 608.206638 \nL 164.793655 608.783464 \nL 162.858434 609.565876 \nL 161.988226 609.802963 \nL 159.182797 610.88139 \nL 159.18026 610.882637 \nL 156.377367 612.007065 \nL 155.925151 612.23338 \nL 153.571938 612.706753 \nL 151.163598 613.558636 \nL 150.766509 613.671801 \nL 147.96108 614.531223 \nL 147.183425 614.883893 \nL 145.15565 615.376257 \nL 142.875442 616.243131 \nL 142.350221 616.355704 \nL 139.544792 616.880877 \nL 137.665624 617.559892 \nL 136.739362 617.813639 \nL 133.933933 618.727197 \nL 133.45403 618.93612 \nL 131.128504 619.435205 \nL 128.751743 620.269872 \nL 128.323074 620.360385 \nL 125.517645 620.843141 \nL 122.97226 621.595129 \nL 122.712216 621.657045 \nL 119.906787 622.224722 \nL 117.498396 622.971357 \nL 117.101357 623.05601 \nL 114.295928 623.589095 \nL 111.727579 624.313604 \nL 111.490499 624.356973 \nL 108.685069 624.773984 \nL 105.87964 625.206431 \nL 103.364114 625.655851 \nL 103.074211 625.681598 \nL 100.268782 625.766436 \nL 97.463352 625.693482 \nL 97.001307 625.655851 \nL 94.657923 625.207647 \nL 91.852494 624.62699 \nL 90.583045 624.313604 \nL 89.047064 623.666536 \nL 87.545172 622.971357 \nL 86.241635 622.515804 \nL 83.436206 621.663615 \nL 83.247164 621.595129 \nL 80.630777 620.692006 \nL 79.342705 620.269872 \nL 77.825347 619.474145 \nL 76.990478 618.93612 \nL 75.019918 617.825459 \nL 74.634372 617.559892 \nL 72.214489 616.408413 \nL 71.916117 616.243131 \nL 70.982232 614.883893 \nL 69.409059 613.941057 \nL 68.935981 613.558636 \nL 67.57199 612.23338 \nL 67.565833 610.882637 \nL 66.60363 610.107753 \nL 66.14685 609.565876 \nL 66.262004 608.206638 \nL 65.486342 606.881382 \nL 65.172777 605.556125 \nL 65.889427 604.196887 \nL 65.373598 602.87163 \nL 66.60363 602.202957 \nL 68.689951 601.512393 \nL 67.020993 600.195631 \nL 69.409059 599.268019 \nL 72.214489 599.034464 \nL 75.019918 598.866551 \nL 75.455459 598.836394 \nL 75.019918 598.61911 \nL 72.214489 597.613212 \nL 71.824551 597.528127 \nL 72.214489 597.402926 \nL 75.019918 596.959571 \nL 77.825347 596.708979 \nL 80.630777 596.449099 \nL 82.9058 596.18588 \nL 80.630777 595.868935 \nL 77.825347 595.698661 \nL 75.019918 595.683203 \nL 72.214489 595.841442 \nL 70.138573 596.18588 \nL 69.409059 596.662839 \nL 66.60363 597.163082 \nL 63.798201 597.413893 \nL 62.75446 597.528127 \nL 61.00369 598.836394 \nL 60.992771 598.837072 \nL 58.187342 599.021428 \nL 55.381913 599.208326 \nL 52.576484 599.496721 \nL 49.771054 600.118654 \nL 49.57184 600.195631 \nL 49.650123 601.512393 \nL 47.466722 602.87163 \nL 46.987337 604.196887 \nL 46.965625 604.240532 \nL 46.965625 605.556125 \nL 46.965625 606.881382 \nL 46.965625 608.206638 \nL 46.965625 609.565876 \nL 46.965625 610.40465 \nL 47.051409 609.565876 \nL 47.397478 608.206638 \nL 47.90451 606.881382 \nL 48.313637 605.556125 \nL 49.268936 604.196887 \nL 49.771054 603.379793 \nL 50.306829 602.87163 \nL 52.576484 602.049181 \nL 55.381913 601.552398 \nL 55.931928 601.512393 \nL 57.985638 600.195631 \nL 58.187342 600.188123 \nL 58.306623 600.195631 \nL 60.992771 601.262554 \nL 61.356572 601.512393 \nL 61.603574 602.87163 \nL 62.690841 604.196887 \nL 62.526409 605.556125 \nL 63.036751 606.881382 \nL 63.798201 607.838997 \nL 64.116237 608.206638 \nL 64.184193 609.565876 \nL 65.54173 610.882637 \nL 65.688278 612.23338 \nL 66.60363 613.103351 \nL 67.199114 613.558636 \nL 69.004502 614.883893 \nL 69.409059 615.383686 \nL 70.29248 616.243131 \nL 72.214489 617.279714 \nL 72.821416 617.559892 \nL 74.91622 618.93612 \nL 75.019918 619.005431 \nL 77.236279 620.269872 \nL 77.825347 620.499509 \nL 80.630777 621.47618 \nL 80.988638 621.595129 \nL 83.436206 622.44947 \nL 84.925121 622.971357 \nL 86.241635 623.660935 \nL 87.694772 624.313604 \nL 89.047064 624.723242 \nL 91.852494 625.464114 \nL 92.671186 625.655851 \nL 94.657923 625.916563 \nL 97.463352 626.129821 \nL 100.268782 626.213456 \nL 103.074211 626.164541 \nL 105.87964 625.942084 \nL 107.616356 625.655851 \nL 108.685069 625.435979 \nL 111.490499 624.890998 \nL 114.295928 624.351188 \nL 114.463206 624.313604 \nL 117.101357 623.605176 \nL 119.906787 622.9805 \nL 119.943648 622.971357 \nL 122.712216 622.164735 \nL 125.02397 621.595129 \nL 125.517645 621.444278 \nL 128.323074 620.740111 \nL 130.486544 620.269872 \nL 131.128504 620.037906 \nL 133.933933 619.234 \nL 135.096372 618.93612 \nL 136.739362 618.320229 \nL 139.433861 617.559892 \nL 139.544792 617.518623 \nL 142.350221 616.677926 \nL 144.33013 616.243131 \nL 145.15565 615.921695 \nL 147.96108 615.080026 \nL 148.654825 614.883893 \nL 150.766509 614.071449 \nL 152.525528 613.558636 \nL 153.571938 613.180126 \nL 156.377367 612.447092 \nL 157.228294 612.23338 \nL 159.182797 611.344578 \nL 160.419332 610.882637 \nL 161.988226 610.266742 \nL 164.491343 609.565876 \nL 164.793655 609.440317 \nL 167.599085 608.466579 \nL 168.506862 608.206638 \nL 170.404514 607.276131 \nL 171.349372 606.881382 \nL 173.209943 606.252348 \nL 176.015372 605.604686 \nL 176.216474 605.556125 \nL 178.820802 604.301741 \nL 179.081432 604.196887 \nL 181.626231 603.269917 \nL 183.010684 602.87163 \nL 184.43166 602.195736 \nL 186.205186 601.512393 \nL 187.23709 601.100566 \nL 189.999417 600.195631 \nL 190.042519 600.179834 \nL 192.847948 599.270543 \nL 194.553989 598.836394 \nL 195.653378 598.274937 \nL 197.432826 597.528127 \nL 198.458807 597.237831 \nL 201.264236 596.577126 \nL 203.10196 596.18588 \nL 204.069665 595.652131 \nL 205.838068 594.852128 \nL 206.875095 594.545888 \nL 209.680524 593.832848 \nL 211.020248 593.518376 \nL 212.485953 592.750851 \nL 213.819492 592.19312 \nL 215.291383 591.688651 \nL 218.096812 590.914885 \nL 218.325897 590.859368 \nL 220.902241 590.069909 \nL 223.266622 589.534111 \nL 223.70767 589.319195 \nL 226.5131 588.381207 \nL 227.33121 588.200359 \nL 229.318529 587.838409 \nL 232.123958 587.264253 \nL 233.736292 586.875102 \nL 234.929388 586.611927 \nL 237.734817 586.095252 \nL 240.540246 585.641572 \nL 241.145239 585.549846 \nL 243.345676 584.962202 \nL 246.151105 584.309117 \nL 246.547795 584.224589 \nL 248.956534 583.522604 \nL 251.587734 582.890837 \nL 251.761963 582.854485 \nL 254.567393 582.336801 \nL 257.372822 581.874495 \nL 259.746233 581.523104 \nL 260.178251 581.452782 \nL 262.983681 581.131278 \nL 265.78911 580.931457 \nL 268.594539 580.809289 \nL 271.399968 580.740615 \nL 274.205398 580.711717 \nL 277.010827 580.714945 \nL 279.816256 580.746491 \nL 282.621686 580.805273 \nL 285.427115 580.892466 \nL 288.232544 581.01142 \nL 291.037973 581.168254 \nL 293.843403 581.371955 \nL 295.53884 581.523104 \nL 296.648832 581.875993 \nL 299.213775 582.890837 \nL 299.454261 582.974023 \nL 302.259691 584.102767 \nL 302.526477 584.224589 \nL 302.259691 584.65866 \nL 301.754871 585.549846 \nL 299.454261 586.050529 \nL 296.648832 586.567668 \nL 294.791323 586.875102 \nL 295.398566 588.200359 \nL 293.843403 588.361827 \nL 291.037973 588.636604 \nL 288.232544 588.894819 \nL 285.427115 589.151646 \nL 282.621686 589.423053 \nL 281.609778 589.534111 \nL 279.816256 589.661001 \nL 277.010827 589.85903 \nL 274.205398 590.060978 \nL 271.399968 590.28257 \nL 268.594539 590.543329 \nL 265.893376 590.859368 \nL 265.78911 590.878427 \nL 262.983681 591.437722 \nL 260.178251 592.026658 \nL 259.514928 592.19312 \nL 257.372822 592.916224 \nL 255.835511 593.518376 \nL 254.567393 593.856463 \nL 251.761963 594.595379 \nL 250.858001 594.852128 \nL 248.956534 595.383565 \nL 246.151105 596.173901 \nL 246.115952 596.18588 \nL 243.345676 597.01429 \nL 241.417071 597.528127 \nL 240.540246 597.767656 \nL 237.734817 598.523527 \nL 236.668917 598.836394 \nL 234.929388 599.369999 \nL 232.123958 600.126811 \nL 231.897465 600.195631 \nL 229.318529 601.061908 \nL 227.889612 601.512393 \nL 226.5131 601.91297 \nL 223.70767 602.626976 \nL 222.820571 602.87163 \nL 220.902241 603.508697 \nL 218.450731 604.196887 \nL 218.096812 604.307915 \nL 215.291383 605.139705 \nL 213.790302 605.556125 \nL 212.485953 606.004798 \nL 209.680524 606.79897 \nL 209.404131 606.881382 \nL 206.875095 607.685084 \nL 204.95206 608.206638 \nL 204.069665 608.516285 \nL 201.264236 609.331193 \nL 200.440325 609.565876 \nL 198.458807 610.260914 \nL 196.311109 610.882637 \nL 195.653378 611.116124 \nL 192.847948 611.970845 \nL 191.980381 612.23338 \nL 190.042519 612.925861 \nL 187.594416 613.558636 \nL 187.23709 613.689284 \nL 184.43166 614.632729 \nL 183.625181 614.883893 \nL 181.626231 615.631656 \nL 179.54466 616.243131 \nL 178.820802 616.527812 \nL 176.015372 617.45239 \nL 175.673615 617.559892 \nL 173.209943 618.550897 \nL 172.120683 618.93612 \nL 170.404514 619.565724 \nL 167.994387 620.269872 \nL 167.599085 620.446041 \nL 164.793655 621.566094 \nL 164.714618 621.595129 \nL 161.988226 622.938929 \nL 161.915473 622.971357 \nL 159.182797 623.984549 \nL 158.118353 624.313604 \nL 156.377367 625.073083 \nL 154.722483 625.655851 \nL 153.978867 626.998099 \nL 153.571938 627.125826 \nL 150.766509 627.892268 \nL 148.439043 628.340346 \nL 147.96108 628.431022 \nL 145.15565 628.877696 \nL 142.350221 629.192629 \nL 139.544792 629.452411 \nL 136.940026 629.682593 \nL 136.739362 629.734099 \nL 133.933933 630.570332 \nL 132.48808 631.084307 \nL 131.128504 631.306857 \nL 128.323074 631.742752 \nL 125.517645 632.199228 \nL 124.428861 632.426554 \nL 122.712216 633.70697 \nL 122.630367 633.777296 \nL 122.712216 634.057213 \nL 123.160282 635.136534 \nL 122.712216 635.419057 \nL 121.263649 636.487276 \nL 121.142594 637.838019 \nL 122.712216 639.107888 \nL 122.838974 639.188761 \nL 122.712216 639.286642 \nL 121.303876 640.547999 \nL 122.593859 641.949713 \nL 122.712216 641.976401 \nL 125.517645 642.428986 \nL 128.323074 642.755897 \nL 131.128504 643.039304 \nL 133.292265 643.266474 \nL 131.128504 643.484071 \nL 128.323074 643.843023 \nL 125.517645 644.379913 \nL 124.494833 644.676683 \nL 122.724566 646.044416 \nL 124.134866 647.403654 \nL 122.712216 647.624054 \nL 119.906787 648.128646 \nL 117.437311 648.762891 \nL 117.250454 650.130624 \nL 117.101357 650.193806 \nL 114.703212 651.506852 \nL 114.295928 651.748449 \nL 112.765078 652.874585 \nL 111.490499 654.040546 \nL 111.240866 654.242318 \nL 110.000469 655.661022 \nL 108.685069 656.552527 \nL 108.13414 657.028755 \nL 107.651153 658.413479 \nL 105.87964 659.728133 \nL 105.795871 659.789707 \nL 103.443717 661.15744 \nL 103.074211 661.674351 \nL 102.284464 662.550658 \nL 100.268782 663.879358 \nL 99.937803 663.986353 \nL 98.990681 665.286124 \nL 97.463352 666.186501 \nL 96.269347 666.704828 \nL 94.657923 667.030655 \nL 91.852494 667.207589 \nL 90.010684 666.704828 \nL 89.047064 665.584475 \nL 88.921246 665.286124 \nL 87.233443 663.986353 \nL 86.241635 663.701068 \nL 84.27192 662.550658 \nL 83.436206 662.054089 \nL 82.363403 661.15744 \nL 81.89829 659.789707 \nL 82.298574 658.413479 \nL 80.839731 657.028755 \nL 81.279923 655.661022 \nL 80.630777 655.156606 \nL 79.401911 654.242318 \nL 79.403489 652.874585 \nL 77.825347 652.037604 \nL 76.743497 651.506852 \nL 75.019918 650.619256 \nL 73.933076 650.130624 \nL 73.874347 648.762891 \nL 72.214489 648.078364 \nL 69.737692 647.403654 \nL 69.409059 647.217528 \nL 67.585956 646.044416 \nL 66.60363 644.833869 \nL 66.481014 644.676683 \nL 63.798201 643.92137 \nL 61.339412 643.266474 \nL 63.618082 641.949713 \nL 63.798201 641.844909 \nL 65.689038 640.547999 \nL 64.166844 639.188761 \nL 64.925317 637.838019 \nL 66.60363 636.513082 \nL 66.631598 636.487276 \nL 66.60363 636.453998 \nL 65.423018 635.136534 \nL 65.694255 633.777296 \nL 64.811058 632.426554 \nL 63.798201 632.175551 \nL 60.992771 631.595717 \nL 58.427322 631.084307 \nL 58.187342 630.975466 \nL 55.683173 629.682593 \nL 55.381913 629.615394 \nL 52.576484 628.789419 \nL 51.564435 628.340346 \nL 49.974598 626.998099 \nL 49.771054 626.769158 \nL 48.920388 625.655851 \nL 47.984256 624.313604 \nL 47.550728 622.971357 \nL 47.154101 621.595129 \nL 46.965625 620.94773 \nL 46.965625 621.595129 \nL 46.965625 622.971357 \nL 46.965625 624.313604 \nL 46.965625 625.438814 \nL 47.070469 625.655851 \nL 47.659978 626.998099 \nL 48.654841 628.340346 \nL 49.771054 629.011897 \nL 51.484568 629.682593 \nL 52.576484 630.439582 \nL 53.673231 631.084307 \nL 55.381913 631.446356 \nL 58.187342 631.9206 \nL 60.992771 632.378306 \nL 61.239697 632.426554 \nL 62.079991 633.777296 \nL 61.55143 635.136534 \nL 62.814148 636.487276 \nL 60.992771 637.633563 \nL 60.624254 637.838019 \nL 59.180838 639.188761 \nL 60.900908 640.547999 \nL 58.187342 641.793282 \nL 57.817092 641.949713 \nL 55.381913 643.012008 \nL 54.82857 643.266474 \nL 55.381913 643.446623 \nL 58.187342 644.212361 \nL 60.127134 644.676683 \nL 60.992771 645.788674 \nL 61.186194 646.044416 \nL 62.819936 647.403654 \nL 63.798201 647.584971 \nL 66.60363 648.103557 \nL 69.409059 648.731436 \nL 69.518067 648.762891 \nL 69.409059 649.048189 \nL 68.886272 650.130624 \nL 69.409059 650.318358 \nL 72.214489 651.365701 \nL 72.550767 651.506852 \nL 75.019918 652.572432 \nL 75.67771 652.874585 \nL 75.019918 654.142272 \nL 74.950896 654.242318 \nL 75.019918 654.283165 \nL 77.159403 655.661022 \nL 77.298009 657.028755 \nL 77.825347 658.294964 \nL 77.87905 658.413479 \nL 77.825347 658.543109 \nL 77.247485 659.789707 \nL 77.825347 660.657047 \nL 78.110245 661.15744 \nL 79.117188 662.550658 \nL 79.420972 663.986353 \nL 80.630777 664.891331 \nL 81.165729 665.286124 \nL 81.713192 666.704828 \nL 80.630777 667.496089 \nL 79.694945 668.098047 \nL 80.630777 668.464237 \nL 83.436206 669.094946 \nL 86.241635 669.421706 \nL 86.986614 669.474275 \nL 89.047064 670.615245 \nL 89.471013 670.858998 \nL 89.047064 670.937606 \nL 86.241635 671.51505 \nL 83.436206 672.114733 \nL 82.934361 672.252217 \nL 83.436206 673.13342 \nL 84.490011 673.653931 \nz\nM 156.581421 640.547999 \nL 156.928752 639.188761 \nL 156.377367 638.984052 \nL 154.658952 637.838019 \nL 156.377367 637.472667 \nL 159.182797 636.799945 \nL 160.211092 636.487276 \nL 161.988226 635.475371 \nL 162.669289 635.136534 \nL 162.186873 633.777296 \nL 164.793655 632.978894 \nL 166.649017 632.426554 \nL 167.599085 631.968231 \nL 170.302968 631.084307 \nL 170.404514 630.978809 \nL 172.076022 629.682593 \nL 173.209943 629.581779 \nL 176.015372 629.369042 \nL 178.820802 629.155331 \nL 181.626231 628.890122 \nL 184.43166 628.459107 \nL 184.983688 628.340346 \nL 187.23709 627.978681 \nL 190.042519 627.540668 \nL 192.829408 626.998099 \nL 192.847948 626.991336 \nL 195.653378 625.932658 \nL 196.284517 625.655851 \nL 198.458807 625.368604 \nL 201.264236 625.060971 \nL 204.069665 624.724951 \nL 206.434539 624.313604 \nL 206.875095 624.213392 \nL 209.680524 623.665229 \nL 212.485953 623.060413 \nL 212.883609 622.971357 \nL 215.291383 622.432177 \nL 218.096812 621.733008 \nL 218.610725 621.595129 \nL 220.902241 621.313577 \nL 223.70767 621.02965 \nL 226.5131 620.709876 \nL 228.912159 620.269872 \nL 229.318529 620.197241 \nL 232.123958 619.787793 \nL 234.929388 619.363682 \nL 237.066151 618.93612 \nL 237.734817 618.851813 \nL 240.540246 618.593591 \nL 243.345676 618.356977 \nL 246.151105 618.061171 \nL 248.32031 617.559892 \nL 248.956534 617.463162 \nL 251.761963 617.060813 \nL 254.567393 616.547753 \nL 255.805167 616.243131 \nL 257.372822 615.913007 \nL 260.178251 615.202589 \nL 261.123032 614.883893 \nL 262.983681 614.332545 \nL 265.78911 613.687974 \nL 266.49068 613.558636 \nL 268.594539 613.302611 \nL 271.399968 613.052897 \nL 274.205398 612.868394 \nL 277.010827 612.733042 \nL 279.816256 612.637764 \nL 282.621686 612.574672 \nL 285.427115 612.543709 \nL 288.232544 612.544357 \nL 291.037973 612.574941 \nL 293.843403 612.644697 \nL 296.648832 612.755921 \nL 299.454261 612.922988 \nL 302.259691 613.166222 \nL 305.06512 613.512645 \nL 305.379075 613.558636 \nL 307.870549 614.40127 \nL 309.023347 614.883893 \nL 307.870549 615.159819 \nL 305.06512 615.711765 \nL 302.259691 616.117104 \nL 301.246911 616.243131 \nL 299.454261 616.444494 \nL 296.648832 616.707493 \nL 293.843403 616.922909 \nL 291.037973 617.108552 \nL 288.232544 617.272511 \nL 285.427115 617.42742 \nL 283.009758 617.559892 \nL 282.621686 617.57636 \nL 279.816256 617.686489 \nL 277.010827 617.776626 \nL 274.205398 617.853991 \nL 271.399968 617.924465 \nL 268.594539 617.992017 \nL 265.78911 618.062804 \nL 262.983681 618.142598 \nL 260.178251 618.237667 \nL 257.372822 618.369189 \nL 254.567393 618.59916 \nL 252.764727 618.93612 \nL 251.761963 619.068014 \nL 248.956534 619.443495 \nL 246.151105 619.958511 \nL 245.066491 620.269872 \nL 243.345676 620.457905 \nL 240.540246 620.737822 \nL 237.734817 621.057404 \nL 235.171555 621.595129 \nL 234.929388 621.65684 \nL 232.123958 622.373445 \nL 230.183132 622.971357 \nL 229.318529 623.152976 \nL 226.5131 623.761311 \nL 224.566819 624.313604 \nL 223.70767 624.442524 \nL 220.902241 624.815369 \nL 218.096812 625.199396 \nL 215.770283 625.655851 \nL 215.291383 625.805961 \nL 212.485953 626.650715 \nL 211.331264 626.998099 \nL 209.680524 627.383008 \nL 206.875095 628.056167 \nL 205.884108 628.340346 \nL 204.069665 628.657809 \nL 201.264236 629.060567 \nL 198.458807 629.436981 \nL 196.843689 629.682593 \nL 195.653378 630.379686 \nL 194.698171 631.084307 \nL 192.847948 631.549389 \nL 190.495897 632.426554 \nL 190.042519 632.542876 \nL 187.23709 633.270474 \nL 185.470365 633.777296 \nL 184.43166 634.588924 \nL 183.631419 635.136534 \nL 181.626231 635.898551 \nL 180.278194 636.487276 \nL 178.820802 636.829048 \nL 176.015372 637.423383 \nL 174.117912 637.838019 \nL 173.209943 638.316743 \nL 170.820819 639.188761 \nL 170.404514 639.345032 \nL 167.599085 640.348088 \nL 166.970303 640.547999 \nL 164.793655 640.828355 \nL 161.988226 641.043338 \nL 159.182797 641.061204 \nz\n\" style=\"fill:#0000e8;\"/>\n    <path clip-path=\"url(#p5e09f7d5ca)\" d=\"M 77.825347 593.593678 \nL 80.630777 593.771875 \nL 83.436206 593.74619 \nL 86.241635 593.57944 \nL 86.80292 593.518376 \nL 86.241635 593.474525 \nL 83.436206 593.354286 \nL 80.630777 593.338547 \nL 77.825347 593.467405 \nL 77.39889 593.518376 \nz\n\" style=\"fill:#0000e8;\"/>\n    <path clip-path=\"url(#p5e09f7d5ca)\" d=\"M 86.241635 591.037959 \nL 89.047064 591.066437 \nL 91.852494 590.996915 \nL 94.163331 590.859368 \nL 91.852494 590.754823 \nL 89.047064 590.704356 \nL 86.241635 590.728318 \nL 83.503499 590.859368 \nz\n\" style=\"fill:#0000e8;\"/>\n    <path clip-path=\"url(#p5e09f7d5ca)\" d=\"M 83.436206 588.20671 \nL 86.241635 588.312236 \nL 89.047064 588.326037 \nL 91.852494 588.275465 \nL 93.689782 588.200359 \nL 91.852494 588.124068 \nL 89.047064 588.078153 \nL 86.241635 588.097011 \nL 83.436206 588.194916 \nL 83.357136 588.200359 \nz\n\" style=\"fill:#0000e8;\"/>\n    <path clip-path=\"url(#p5e09f7d5ca)\" d=\"M 86.241635 585.552333 \nL 89.047064 585.631059 \nL 91.852494 585.641986 \nL 94.657923 585.590872 \nL 95.637972 585.549846 \nL 94.657923 585.46195 \nL 91.852494 585.357784 \nL 89.047064 585.381936 \nL 86.241635 585.544655 \nL 86.197486 585.549846 \nz\n\" style=\"fill:#0000e8;\"/>\n    <path clip-path=\"url(#p5e09f7d5ca)\" d=\"M 83.436206 580.27651 \nL 86.241635 580.466315 \nL 89.047064 580.556665 \nL 91.852494 580.554459 \nL 94.657923 580.422137 \nL 96.20021 580.231828 \nL 97.463352 580.119075 \nL 100.268782 579.791155 \nL 103.074211 579.332314 \nL 105.02919 578.872591 \nL 103.074211 578.393801 \nL 100.268782 577.941519 \nL 97.463352 577.626898 \nL 96.940534 577.581315 \nL 97.463352 577.534552 \nL 100.268782 577.193085 \nL 103.074211 576.687593 \nL 104.854682 576.222077 \nL 103.074211 575.67354 \nL 100.268782 575.302212 \nL 97.463352 575.14348 \nL 94.657923 575.075478 \nL 91.852494 575.062134 \nL 89.047064 575.097016 \nL 86.241635 575.195011 \nL 83.436206 575.407926 \nL 80.630777 575.90481 \nL 79.74694 576.222077 \nL 80.630777 577.33422 \nL 81.168139 577.581315 \nL 83.436206 578.514557 \nL 83.797761 578.872591 \nL 83.436206 579.742327 \nL 83.035605 580.231828 \nz\n\" style=\"fill:#0000e8;\"/>\n    <path clip-path=\"url(#p5e09f7d5ca)\" d=\"M 83.436206 574.299044 \nL 86.241635 574.679357 \nL 89.047064 574.798426 \nL 91.852494 574.837964 \nL 94.657923 574.837504 \nL 97.463352 574.80426 \nL 100.268782 574.727545 \nL 103.074211 574.567376 \nL 105.87964 574.185008 \nL 107.592037 573.61404 \nL 105.87964 573.121851 \nL 103.074211 572.729007 \nL 100.268782 572.534953 \nL 97.463352 572.422337 \nL 94.657923 572.350255 \nL 91.852494 572.302242 \nL 90.395484 572.288783 \nL 91.852494 572.27422 \nL 94.657923 572.225739 \nL 97.463352 572.161039 \nL 100.268782 572.074457 \nL 103.074211 571.953427 \nL 105.87964 571.772711 \nL 108.685069 571.477253 \nL 111.354059 570.963527 \nL 108.685069 570.291947 \nL 105.87964 569.838554 \nL 104.253688 569.63827 \nL 105.87964 569.421938 \nL 108.685069 569.023424 \nL 111.490499 568.55791 \nL 112.96327 568.270537 \nL 111.490499 567.764468 \nL 108.685069 566.993324 \nL 108.661972 566.987757 \nL 108.685069 566.979762 \nL 111.490499 566.087658 \nL 112.970295 565.6625 \nL 111.490499 564.825164 \nL 110.733773 564.328748 \nL 111.490499 563.164264 \nL 114.295928 563.018277 \nL 114.72219 563.003491 \nL 114.295928 562.993799 \nL 111.490499 562.887925 \nL 110.844747 561.644254 \nL 108.685069 561.244506 \nL 105.87964 561.000902 \nL 103.074211 560.864161 \nL 100.268782 560.770205 \nL 97.463352 560.69551 \nL 94.657923 560.628114 \nL 91.852494 560.559311 \nL 89.047064 560.478974 \nL 86.241635 560.368741 \nL 85.463559 560.327492 \nL 86.241635 560.253229 \nL 89.047064 560.066885 \nL 91.852494 559.945992 \nL 94.657923 559.856135 \nL 97.463352 559.781993 \nL 100.268782 559.71457 \nL 103.074211 559.646421 \nL 105.87964 559.568514 \nL 108.685069 559.465188 \nL 111.490499 559.299826 \nL 113.97055 559.010731 \nL 111.490499 558.481826 \nL 108.685069 557.965036 \nL 107.098523 557.685474 \nL 105.87964 557.541366 \nL 103.074211 557.329869 \nL 100.268782 557.194689 \nL 97.463352 557.088355 \nL 94.657923 556.990411 \nL 91.852494 556.887839 \nL 89.047064 556.767635 \nL 86.241635 556.609917 \nL 83.436206 556.371894 \nL 83.407457 556.368713 \nL 83.436206 556.366229 \nL 86.241635 556.193375 \nL 89.047064 556.092055 \nL 91.852494 556.022019 \nL 94.657923 555.967871 \nL 97.463352 555.921639 \nL 100.268782 555.877693 \nL 103.074211 555.830035 \nL 105.87964 555.768924 \nL 108.685069 555.671316 \nL 111.490499 555.454536 \nL 113.329584 555.043456 \nL 111.490499 554.794338 \nL 108.685069 554.530598 \nL 105.87964 554.344239 \nL 103.074211 554.197714 \nL 100.268782 554.071222 \nL 97.463352 553.951852 \nL 94.657923 553.828516 \nL 92.420557 553.718199 \nL 91.852494 553.671425 \nL 89.047064 553.418885 \nL 86.241635 553.102523 \nL 83.436206 552.631873 \nL 82.34203 552.358962 \nL 83.436206 551.849212 \nL 86.241635 551.397192 \nL 89.047064 551.221388 \nL 91.852494 551.120839 \nL 94.657923 551.051635 \nL 94.704462 551.050695 \nL 97.44228 549.733934 \nL 94.657923 549.396196 \nL 91.852494 549.057643 \nL 89.047064 548.688077 \nL 87.324187 548.425668 \nL 89.047064 547.502163 \nL 90.112475 547.125897 \nL 91.852494 547.000448 \nL 94.657923 546.813276 \nL 97.463352 546.622446 \nL 100.268782 546.404025 \nL 103.074211 546.125094 \nL 105.334746 545.81763 \nL 103.074211 545.392419 \nL 100.268782 544.910849 \nL 97.952525 544.526355 \nL 97.463352 544.433416 \nL 94.657923 543.99567 \nL 91.852494 543.66049 \nL 89.047064 543.374906 \nL 86.883715 543.167117 \nL 86.241635 543.085461 \nL 83.436206 542.793287 \nL 80.630777 542.564918 \nL 77.825347 542.384905 \nL 75.019918 542.259503 \nL 72.214489 542.224001 \nL 69.409059 542.375571 \nL 66.60363 542.983875 \nL 66.209968 543.167117 \nL 66.60363 543.288167 \nL 69.409059 544.412097 \nL 69.596611 544.526355 \nL 72.214489 545.46657 \nL 73.032496 545.81763 \nL 72.214489 546.023945 \nL 69.409059 546.511861 \nL 66.60363 546.844598 \nL 64.033079 547.125897 \nL 63.798201 547.1972 \nL 60.992771 548.362042 \nL 60.877712 548.425668 \nL 60.992771 548.464406 \nL 63.798201 549.263135 \nL 65.49859 549.733934 \nL 66.60363 550.234172 \nL 69.409059 550.911465 \nL 70.576034 551.050695 \nL 69.409059 551.121184 \nL 66.60363 551.325028 \nL 63.798201 551.573541 \nL 60.992771 551.910837 \nL 58.47055 552.358962 \nL 60.992771 553.016202 \nL 63.798201 553.586272 \nL 64.571165 553.718199 \nL 66.60363 553.934721 \nL 69.409059 554.23704 \nL 72.214489 554.648433 \nL 73.881337 555.043456 \nL 72.214489 555.40505 \nL 69.409059 555.709904 \nL 66.60363 555.910377 \nL 63.798201 556.098723 \nL 60.992771 556.320037 \nL 60.53086 556.368713 \nL 60.992771 556.448886 \nL 63.798201 556.825924 \nL 66.60363 557.17721 \nL 69.409059 557.615279 \nL 69.779853 557.685474 \nL 72.214489 558.473878 \nL 73.82353 559.010731 \nL 72.214489 559.286963 \nL 69.409059 559.603974 \nL 66.60363 559.853118 \nL 63.798201 560.1091 \nL 61.86077 560.327492 \nL 63.798201 560.460006 \nL 66.60363 560.612461 \nL 69.409059 560.763942 \nL 72.214489 560.97128 \nL 75.019918 561.457074 \nL 75.523864 561.644254 \nL 75.019918 562.904736 \nL 74.63988 563.003491 \nL 75.019918 563.046188 \nL 76.964468 564.328748 \nL 77.66706 565.6625 \nL 77.17914 566.987757 \nL 77.825347 567.167225 \nL 80.630777 568.078701 \nL 81.114221 568.270537 \nL 80.630777 568.452129 \nL 77.825347 569.263213 \nL 76.116634 569.63827 \nL 77.825347 569.880395 \nL 80.630777 570.437033 \nL 82.161662 570.963527 \nL 83.436206 572.109524 \nL 85.793646 572.288783 \nL 83.436206 572.430449 \nL 81.96492 573.61404 \nz\nM 84.364562 563.003491 \nL 86.241635 562.991042 \nL 89.047064 562.976921 \nL 91.852494 562.967236 \nL 94.657923 562.961433 \nL 97.463352 562.959172 \nL 100.268782 562.960598 \nL 103.074211 562.966383 \nL 105.87964 562.978814 \nL 108.391021 563.003491 \nL 105.87964 563.047294 \nL 103.074211 563.070085 \nL 100.268782 563.081537 \nL 97.463352 563.085288 \nL 94.657923 563.082279 \nL 91.852494 563.072558 \nL 89.047064 563.055214 \nL 86.241635 563.028511 \nz\nM 88.555328 561.644254 \nL 89.047064 561.615845 \nL 91.852494 561.546283 \nL 94.657923 561.548003 \nL 97.463352 561.608237 \nL 98.327633 561.644254 \nL 97.463352 561.694172 \nL 94.657923 561.769019 \nL 91.852494 561.763719 \nL 89.047064 561.676743 \nz\n\" style=\"fill:#0000e8;\"/>\n    <path clip-path=\"url(#p5e09f7d5ca)\" d=\"M 122.712216 556.391404 \nL 125.517645 556.465776 \nL 128.323074 556.485354 \nL 131.128504 556.460421 \nL 133.933933 556.385266 \nL 134.295325 556.368713 \nL 133.933933 556.35606 \nL 131.128504 556.29561 \nL 128.323074 556.271717 \nL 125.517645 556.283419 \nL 122.712216 556.346951 \nL 122.260321 556.368713 \nz\n\" style=\"fill:#0000e8;\"/>\n    <path clip-path=\"url(#p5e09f7d5ca)\" d=\"M 125.517645 552.421641 \nL 128.323074 552.626546 \nL 131.128504 552.759247 \nL 133.933933 552.840374 \nL 136.739362 552.873627 \nL 139.544792 552.843512 \nL 142.350221 552.683474 \nL 144.222139 552.358962 \nL 142.350221 552.215397 \nL 139.544792 552.069797 \nL 136.739362 551.979431 \nL 133.933933 551.935024 \nL 131.128504 551.940209 \nL 128.323074 552.018775 \nL 125.517645 552.254887 \nL 124.924003 552.358962 \nz\n\" style=\"fill:#0000e8;\"/>\n    <path clip-path=\"url(#p5e09f7d5ca)\" d=\"M 150.766509 549.769791 \nL 153.571938 549.937818 \nL 156.377367 550.034722 \nL 159.182797 550.08293 \nL 161.988226 550.086115 \nL 164.793655 550.029622 \nL 167.599085 549.856068 \nL 168.566687 549.733934 \nL 167.599085 549.613124 \nL 164.793655 549.312728 \nL 161.988226 549.030288 \nL 159.182797 548.69938 \nL 157.553377 548.425668 \nL 156.377367 548.214011 \nL 153.571938 547.93864 \nL 150.766509 547.83145 \nL 147.96108 547.829789 \nL 145.15565 547.915795 \nL 142.350221 548.097216 \nL 139.544792 548.409419 \nL 139.446776 548.425668 \nL 139.544792 548.434858 \nL 142.350221 548.657496 \nL 145.15565 548.893359 \nL 147.96108 549.209701 \nL 150.373311 549.733934 \nz\n\" style=\"fill:#0000e8;\"/>\n    <path clip-path=\"url(#p5e09f7d5ca)\" d=\"M 164.793655 546.114555 \nL 167.599085 546.323356 \nL 170.404514 546.385015 \nL 173.209943 546.377808 \nL 176.015372 546.317202 \nL 178.820802 546.192753 \nL 181.626231 545.96276 \nL 182.743561 545.81763 \nL 181.626231 545.612031 \nL 178.820802 545.155524 \nL 176.015372 544.690979 \nL 175.128885 544.526355 \nL 173.209943 543.974517 \nL 170.404514 543.76343 \nL 167.599085 543.718663 \nL 164.793655 543.748653 \nL 161.988226 543.849063 \nL 159.182797 544.06639 \nL 156.59345 544.526355 \nL 159.182797 544.93516 \nL 161.988226 545.473336 \nL 163.316996 545.81763 \nz\n\" style=\"fill:#0000e8;\"/>\n    <path clip-path=\"url(#p5e09f7d5ca)\" d=\"M 176.015372 542.009724 \nL 178.820802 542.515038 \nL 181.626231 542.628436 \nL 184.43166 542.596955 \nL 187.23709 542.4453 \nL 190.042519 542.127995 \nL 191.401509 541.867346 \nL 190.042519 540.749164 \nL 189.870716 540.567575 \nL 187.23709 539.833744 \nL 184.43166 539.52853 \nL 181.626231 539.389208 \nL 178.820802 539.336552 \nL 176.015372 539.362612 \nL 173.209943 539.535578 \nL 170.404514 540.330402 \nL 170.120226 540.567575 \nL 170.404514 540.651116 \nL 173.209943 541.327108 \nL 175.713624 541.867346 \nz\n\" style=\"fill:#0000e8;\"/>\n    <path clip-path=\"url(#p5e09f7d5ca)\" d=\"M 75.019918 540.83327 \nL 77.825347 541.383409 \nL 80.630777 541.446556 \nL 83.436206 541.448154 \nL 86.241635 541.430131 \nL 89.047064 541.401712 \nL 91.852494 541.364113 \nL 94.657923 541.314526 \nL 97.463352 541.245583 \nL 100.268782 541.140647 \nL 103.074211 540.957147 \nL 105.79699 540.567575 \nL 103.074211 539.832546 \nL 100.268782 539.398816 \nL 99.073298 539.267804 \nL 97.463352 539.16799 \nL 94.657923 539.025129 \nL 91.852494 538.903408 \nL 89.047064 538.790867 \nL 86.241635 538.677856 \nL 83.436206 538.553336 \nL 80.630777 538.39702 \nL 77.825347 538.14141 \nL 76.688262 537.968033 \nL 77.825347 537.297461 \nL 79.348268 536.659767 \nL 77.825347 536.377482 \nL 75.019918 536.400515 \nL 72.214489 536.510001 \nL 69.610981 536.659767 \nL 69.409059 536.719918 \nL 66.60363 537.838118 \nL 66.354652 537.968033 \nL 66.60363 538.005373 \nL 69.409059 538.331824 \nL 72.214489 538.9165 \nL 72.880079 539.267804 \nL 74.731466 540.567575 \nz\n\" style=\"fill:#0000e8;\"/>\n    <path clip-path=\"url(#p5e09f7d5ca)\" d=\"M 184.43166 538.206629 \nL 187.23709 538.259979 \nL 190.042519 538.054085 \nL 190.651295 537.968033 \nL 190.042519 537.602267 \nL 187.23709 537.713525 \nL 184.43166 537.896257 \nL 183.676183 537.968033 \nz\n\" style=\"fill:#0000e8;\"/>\n    <path clip-path=\"url(#p5e09f7d5ca)\" d=\"M 265.78911 538.074282 \nL 268.594539 538.171877 \nL 271.399968 538.237838 \nL 274.205398 538.279387 \nL 277.010827 538.300939 \nL 279.816256 538.305022 \nL 282.621686 538.292776 \nL 285.427115 538.26411 \nL 288.232544 538.217778 \nL 291.037973 538.151227 \nL 293.843403 538.060105 \nL 296.025884 537.968033 \nL 293.843403 537.875359 \nL 291.037973 537.783645 \nL 288.232544 537.716656 \nL 285.427115 537.670021 \nL 282.621686 537.641168 \nL 279.816256 537.628842 \nL 277.010827 537.632951 \nL 274.205398 537.654644 \nL 271.399968 537.696465 \nL 268.594539 537.762857 \nL 265.78911 537.861089 \nL 263.639763 537.968033 \nz\n\" style=\"fill:#0000e8;\"/>\n    <path clip-path=\"url(#p5e09f7d5ca)\" d=\"M 192.847948 537.329475 \nL 195.653378 537.200848 \nL 198.458807 537.055817 \nL 201.264236 536.900523 \nL 204.069665 536.727556 \nL 204.991281 536.659767 \nL 204.069665 536.519939 \nL 201.264236 536.253233 \nL 198.458807 536.115615 \nL 195.653378 536.089946 \nL 192.847948 536.253475 \nL 191.178863 536.659767 \nz\n\" style=\"fill:#0000e8;\"/>\n    <path clip-path=\"url(#p5e09f7d5ca)\" d=\"M 83.436206 535.898644 \nL 86.241635 535.88526 \nL 89.047064 535.836001 \nL 91.852494 535.776649 \nL 94.657923 535.709869 \nL 97.463352 535.633278 \nL 100.268782 535.541341 \nL 103.074211 535.424302 \nL 104.433852 535.351501 \nL 103.217721 533.949787 \nL 103.074211 533.928398 \nL 100.268782 533.545634 \nL 97.463352 533.210093 \nL 94.657923 532.89605 \nL 91.852494 532.576564 \nL 91.749888 532.565063 \nL 89.047064 532.270256 \nL 86.241635 531.971103 \nL 83.436206 531.658332 \nL 80.630777 531.303091 \nL 79.987065 531.222816 \nL 77.825347 530.855619 \nL 75.019918 529.898948 \nL 74.942825 529.855083 \nL 75.019918 529.699328 \nL 77.825347 528.907203 \nL 80.630777 528.76578 \nL 83.436206 528.662089 \nL 86.241635 528.57078 \nL 88.596249 528.495846 \nL 89.047064 528.466881 \nL 91.852494 528.281106 \nL 94.657923 528.097049 \nL 97.463352 527.890593 \nL 100.268782 527.635182 \nL 103.074211 527.289531 \nL 103.97821 527.145103 \nL 103.074211 526.885914 \nL 100.268782 525.811735 \nL 100.233171 525.794361 \nL 98.321995 524.460609 \nL 97.463352 524.359351 \nL 94.657923 524.066025 \nL 91.852494 523.788666 \nL 89.047064 523.489714 \nL 86.467629 523.126857 \nL 86.241635 523.081355 \nL 83.436206 522.660557 \nL 80.630777 522.402921 \nL 77.825347 522.290689 \nL 75.019918 522.338688 \nL 72.214489 522.598167 \nL 69.626443 523.126857 \nL 72.214489 523.410541 \nL 75.019918 523.780548 \nL 77.786164 524.460609 \nL 76.152134 525.794361 \nL 77.825347 526.805018 \nL 78.588839 527.145103 \nL 77.825347 527.656752 \nL 75.019918 528.36152 \nL 74.102689 528.495846 \nL 72.214489 528.917261 \nL 69.409059 529.147877 \nL 66.60363 529.37419 \nL 63.798201 529.659279 \nL 62.464748 529.855083 \nL 63.798201 530.221161 \nL 66.60363 530.846364 \nL 68.305787 531.222816 \nL 69.409059 532.081101 \nL 69.898369 532.565063 \nL 72.214489 533.033613 \nL 75.019918 533.932766 \nL 75.059285 533.949787 \nL 77.825347 534.845687 \nL 80.630777 535.324351 \nL 80.878299 535.351501 \nz\n\" style=\"fill:#0000e8;\"/>\n    <path clip-path=\"url(#p5e09f7d5ca)\" d=\"M 206.875095 532.635029 \nL 209.680524 532.707797 \nL 212.485953 532.669013 \nL 213.956252 532.565063 \nL 212.485953 532.3526 \nL 209.680524 532.19075 \nL 206.875095 532.337576 \nL 205.771956 532.565063 \nz\n\" style=\"fill:#0000e8;\"/>\n    <path clip-path=\"url(#p5e09f7d5ca)\" d=\"M 279.816256 531.233693 \nL 282.42668 531.222816 \nL 279.816256 531.211733 \nL 277.320908 531.222816 \nz\n\" style=\"fill:#0000e8;\"/>\n    <path clip-path=\"url(#p5e09f7d5ca)\" d=\"M 80.630777 519.479248 \nL 83.436206 519.924809 \nL 86.241635 520.132451 \nL 89.047064 520.233087 \nL 91.852494 520.270305 \nL 94.657923 520.255864 \nL 97.463352 520.179945 \nL 100.268782 519.999247 \nL 103.074211 519.569605 \nL 104.531175 519.083125 \nL 103.074211 519.083125 \nL 100.268782 519.083125 \nL 97.463352 519.083125 \nL 94.657923 519.083125 \nL 91.852494 519.083125 \nL 89.047064 519.083125 \nL 86.241635 519.083125 \nL 83.436206 519.083125 \nL 80.630777 519.083125 \nL 79.387585 519.083125 \nz\n\" style=\"fill:#0000e8;\"/>\n   </g>\n   <g id=\"PathCollection_3\">\n    <path clip-path=\"url(#p5e09f7d5ca)\" d=\"M 147.96108 762.521289 \nL 150.766509 762.509286 \nL 153.571938 762.333663 \nL 154.807649 762.208263 \nL 156.377367 761.763009 \nL 159.182797 761.417292 \nL 161.988226 761.120077 \nL 163.805873 760.883006 \nL 164.793655 760.133275 \nL 167.599085 759.735399 \nL 169.220727 759.55775 \nL 167.599085 759.23102 \nL 164.793655 759.373787 \nL 163.138755 759.55775 \nL 161.988226 759.855656 \nL 159.182797 760.212581 \nL 156.377367 760.503759 \nL 153.571938 760.8537 \nL 153.406641 760.883006 \nL 150.766509 761.755506 \nL 147.96108 762.056021 \nL 146.725398 762.208263 \nz\n\" style=\"fill:#6800ff;\"/>\n    <path clip-path=\"url(#p5e09f7d5ca)\" d=\"M 91.852494 667.207589 \nL 94.657923 667.030655 \nL 96.269347 666.704828 \nL 97.463352 666.186501 \nL 98.990681 665.286124 \nL 99.937803 663.986353 \nL 100.268782 663.879358 \nL 102.284464 662.550658 \nL 103.074211 661.674351 \nL 103.443717 661.15744 \nL 105.795871 659.789707 \nL 105.87964 659.728133 \nL 107.651153 658.413479 \nL 108.13414 657.028755 \nL 108.685069 656.552527 \nL 110.000469 655.661022 \nL 111.240866 654.242318 \nL 111.490499 654.040546 \nL 112.765078 652.874585 \nL 114.295928 651.748449 \nL 114.703212 651.506852 \nL 117.101357 650.193806 \nL 117.250454 650.130624 \nL 117.437311 648.762891 \nL 119.906787 648.128646 \nL 122.712216 647.624054 \nL 124.134866 647.403654 \nL 122.724566 646.044416 \nL 124.494833 644.676683 \nL 125.517645 644.379913 \nL 128.323074 643.843023 \nL 131.128504 643.484071 \nL 133.292265 643.266474 \nL 131.128504 643.039304 \nL 128.323074 642.755897 \nL 125.517645 642.428986 \nL 122.712216 641.976401 \nL 122.593859 641.949713 \nL 121.303876 640.547999 \nL 122.712216 639.286642 \nL 122.838974 639.188761 \nL 122.712216 639.107888 \nL 121.142594 637.838019 \nL 121.263649 636.487276 \nL 122.712216 635.419057 \nL 123.160282 635.136534 \nL 122.712216 634.057213 \nL 122.630367 633.777296 \nL 122.712216 633.70697 \nL 124.428861 632.426554 \nL 125.517645 632.199228 \nL 128.323074 631.742752 \nL 131.128504 631.306857 \nL 132.48808 631.084307 \nL 133.933933 630.570332 \nL 136.739362 629.734099 \nL 136.940026 629.682593 \nL 139.544792 629.452411 \nL 142.350221 629.192629 \nL 145.15565 628.877696 \nL 147.96108 628.431022 \nL 148.439043 628.340346 \nL 150.766509 627.892268 \nL 153.571938 627.125826 \nL 153.978867 626.998099 \nL 154.722483 625.655851 \nL 156.377367 625.073083 \nL 158.118353 624.313604 \nL 159.182797 623.984549 \nL 161.915473 622.971357 \nL 161.988226 622.938929 \nL 164.714618 621.595129 \nL 164.793655 621.566094 \nL 167.599085 620.446041 \nL 167.994387 620.269872 \nL 170.404514 619.565724 \nL 172.120683 618.93612 \nL 173.209943 618.550897 \nL 175.673615 617.559892 \nL 176.015372 617.45239 \nL 178.820802 616.527812 \nL 179.54466 616.243131 \nL 181.626231 615.631656 \nL 183.625181 614.883893 \nL 184.43166 614.632729 \nL 187.23709 613.689284 \nL 187.594416 613.558636 \nL 190.042519 612.925861 \nL 191.980381 612.23338 \nL 192.847948 611.970845 \nL 195.653378 611.116124 \nL 196.311109 610.882637 \nL 198.458807 610.260914 \nL 200.440325 609.565876 \nL 201.264236 609.331193 \nL 204.069665 608.516285 \nL 204.95206 608.206638 \nL 206.875095 607.685084 \nL 209.404131 606.881382 \nL 209.680524 606.79897 \nL 212.485953 606.004798 \nL 213.790302 605.556125 \nL 215.291383 605.139705 \nL 218.096812 604.307915 \nL 218.450731 604.196887 \nL 220.902241 603.508697 \nL 222.820571 602.87163 \nL 223.70767 602.626976 \nL 226.5131 601.91297 \nL 227.889612 601.512393 \nL 229.318529 601.061908 \nL 231.897465 600.195631 \nL 232.123958 600.126811 \nL 234.929388 599.369999 \nL 236.668917 598.836394 \nL 237.734817 598.523527 \nL 240.540246 597.767656 \nL 241.417071 597.528127 \nL 243.345676 597.01429 \nL 246.115952 596.18588 \nL 246.151105 596.173901 \nL 248.956534 595.383565 \nL 250.858001 594.852128 \nL 251.761963 594.595379 \nL 254.567393 593.856463 \nL 255.835511 593.518376 \nL 257.372822 592.916224 \nL 259.514928 592.19312 \nL 260.178251 592.026658 \nL 262.983681 591.437722 \nL 265.78911 590.878427 \nL 265.893376 590.859368 \nL 268.594539 590.543329 \nL 271.399968 590.28257 \nL 274.205398 590.060978 \nL 277.010827 589.85903 \nL 279.816256 589.661001 \nL 281.609778 589.534111 \nL 282.621686 589.423053 \nL 285.427115 589.151646 \nL 288.232544 588.894819 \nL 291.037973 588.636604 \nL 293.843403 588.361827 \nL 295.398566 588.200359 \nL 294.791323 586.875102 \nL 296.648832 586.567668 \nL 299.454261 586.050529 \nL 301.754871 585.549846 \nL 302.259691 584.65866 \nL 302.526477 584.224589 \nL 302.259691 584.102767 \nL 299.454261 582.974023 \nL 299.213775 582.890837 \nL 296.648832 581.875993 \nL 295.53884 581.523104 \nL 293.843403 581.371955 \nL 291.037973 581.168254 \nL 288.232544 581.01142 \nL 285.427115 580.892466 \nL 282.621686 580.805273 \nL 279.816256 580.746491 \nL 277.010827 580.714945 \nL 274.205398 580.711717 \nL 271.399968 580.740615 \nL 268.594539 580.809289 \nL 265.78911 580.931457 \nL 262.983681 581.131278 \nL 260.178251 581.452782 \nL 259.746233 581.523104 \nL 257.372822 581.874495 \nL 254.567393 582.336801 \nL 251.761963 582.854485 \nL 251.587734 582.890837 \nL 248.956534 583.522604 \nL 246.547795 584.224589 \nL 246.151105 584.309117 \nL 243.345676 584.962202 \nL 241.145239 585.549846 \nL 240.540246 585.641572 \nL 237.734817 586.095252 \nL 234.929388 586.611927 \nL 233.736292 586.875102 \nL 232.123958 587.264253 \nL 229.318529 587.838409 \nL 227.33121 588.200359 \nL 226.5131 588.381207 \nL 223.70767 589.319195 \nL 223.266622 589.534111 \nL 220.902241 590.069909 \nL 218.325897 590.859368 \nL 218.096812 590.914885 \nL 215.291383 591.688651 \nL 213.819492 592.19312 \nL 212.485953 592.750851 \nL 211.020248 593.518376 \nL 209.680524 593.832848 \nL 206.875095 594.545888 \nL 205.838068 594.852128 \nL 204.069665 595.652131 \nL 203.10196 596.18588 \nL 201.264236 596.577126 \nL 198.458807 597.237831 \nL 197.432826 597.528127 \nL 195.653378 598.274937 \nL 194.553989 598.836394 \nL 192.847948 599.270543 \nL 190.042519 600.179834 \nL 189.999417 600.195631 \nL 187.23709 601.100566 \nL 186.205186 601.512393 \nL 184.43166 602.195736 \nL 183.010684 602.87163 \nL 181.626231 603.269917 \nL 179.081432 604.196887 \nL 178.820802 604.301741 \nL 176.216474 605.556125 \nL 176.015372 605.604686 \nL 173.209943 606.252348 \nL 171.349372 606.881382 \nL 170.404514 607.276131 \nL 168.506862 608.206638 \nL 167.599085 608.466579 \nL 164.793655 609.440317 \nL 164.491343 609.565876 \nL 161.988226 610.266742 \nL 160.419332 610.882637 \nL 159.182797 611.344578 \nL 157.228294 612.23338 \nL 156.377367 612.447092 \nL 153.571938 613.180126 \nL 152.525528 613.558636 \nL 150.766509 614.071449 \nL 148.654825 614.883893 \nL 147.96108 615.080026 \nL 145.15565 615.921695 \nL 144.33013 616.243131 \nL 142.350221 616.677926 \nL 139.544792 617.518623 \nL 139.433861 617.559892 \nL 136.739362 618.320229 \nL 135.096372 618.93612 \nL 133.933933 619.234 \nL 131.128504 620.037906 \nL 130.486544 620.269872 \nL 128.323074 620.740111 \nL 125.517645 621.444278 \nL 125.02397 621.595129 \nL 122.712216 622.164735 \nL 119.943648 622.971357 \nL 119.906787 622.9805 \nL 117.101357 623.605176 \nL 114.463206 624.313604 \nL 114.295928 624.351188 \nL 111.490499 624.890998 \nL 108.685069 625.435979 \nL 107.616356 625.655851 \nL 105.87964 625.942084 \nL 103.074211 626.164541 \nL 100.268782 626.213456 \nL 97.463352 626.129821 \nL 94.657923 625.916563 \nL 92.671186 625.655851 \nL 91.852494 625.464114 \nL 89.047064 624.723242 \nL 87.694772 624.313604 \nL 86.241635 623.660935 \nL 84.925121 622.971357 \nL 83.436206 622.44947 \nL 80.988638 621.595129 \nL 80.630777 621.47618 \nL 77.825347 620.499509 \nL 77.236279 620.269872 \nL 75.019918 619.005431 \nL 74.91622 618.93612 \nL 72.821416 617.559892 \nL 72.214489 617.279714 \nL 70.29248 616.243131 \nL 69.409059 615.383686 \nL 69.004502 614.883893 \nL 67.199114 613.558636 \nL 66.60363 613.103351 \nL 65.688278 612.23338 \nL 65.54173 610.882637 \nL 64.184193 609.565876 \nL 64.116237 608.206638 \nL 63.798201 607.838997 \nL 63.036751 606.881382 \nL 62.526409 605.556125 \nL 62.690841 604.196887 \nL 61.603574 602.87163 \nL 61.356572 601.512393 \nL 60.992771 601.262554 \nL 58.306623 600.195631 \nL 58.187342 600.188123 \nL 57.985638 600.195631 \nL 55.931928 601.512393 \nL 55.381913 601.552398 \nL 52.576484 602.049181 \nL 50.306829 602.87163 \nL 49.771054 603.379793 \nL 49.268936 604.196887 \nL 48.313637 605.556125 \nL 47.90451 606.881382 \nL 47.397478 608.206638 \nL 47.051409 609.565876 \nL 46.965625 610.40465 \nL 46.965625 610.882637 \nL 46.965625 612.23338 \nL 46.965625 613.558636 \nL 46.965625 614.883893 \nL 46.965625 616.243131 \nL 46.965625 617.559892 \nL 46.965625 618.93612 \nL 46.965625 620.269872 \nL 46.965625 620.94773 \nL 47.154101 621.595129 \nL 47.550728 622.971357 \nL 47.984256 624.313604 \nL 48.920388 625.655851 \nL 49.771054 626.769158 \nL 49.974598 626.998099 \nL 51.564435 628.340346 \nL 52.576484 628.789419 \nL 55.381913 629.615394 \nL 55.683173 629.682593 \nL 58.187342 630.975466 \nL 58.427322 631.084307 \nL 60.992771 631.595717 \nL 63.798201 632.175551 \nL 64.811058 632.426554 \nL 65.694255 633.777296 \nL 65.423018 635.136534 \nL 66.60363 636.453998 \nL 66.631598 636.487276 \nL 66.60363 636.513082 \nL 64.925317 637.838019 \nL 64.166844 639.188761 \nL 65.689038 640.547999 \nL 63.798201 641.844909 \nL 63.618082 641.949713 \nL 61.339412 643.266474 \nL 63.798201 643.92137 \nL 66.481014 644.676683 \nL 66.60363 644.833869 \nL 67.585956 646.044416 \nL 69.409059 647.217528 \nL 69.737692 647.403654 \nL 72.214489 648.078364 \nL 73.874347 648.762891 \nL 73.933076 650.130624 \nL 75.019918 650.619256 \nL 76.743497 651.506852 \nL 77.825347 652.037604 \nL 79.403489 652.874585 \nL 79.401911 654.242318 \nL 80.630777 655.156606 \nL 81.279923 655.661022 \nL 80.839731 657.028755 \nL 82.298574 658.413479 \nL 81.89829 659.789707 \nL 82.363403 661.15744 \nL 83.436206 662.054089 \nL 84.27192 662.550658 \nL 86.241635 663.701068 \nL 87.233443 663.986353 \nL 88.921246 665.286124 \nL 89.047064 665.584475 \nL 90.010684 666.704828 \nz\nM 91.791545 662.550658 \nL 89.047064 662.050413 \nL 86.78182 661.15744 \nL 86.522446 659.789707 \nL 86.575169 658.413479 \nL 86.241635 658.304873 \nL 83.928046 657.028755 \nL 84.975083 655.661022 \nL 83.436206 654.304974 \nL 83.365356 654.242318 \nL 82.560097 652.874585 \nL 80.630777 651.703784 \nL 80.283012 651.506852 \nL 78.219968 650.130624 \nL 77.825347 649.472894 \nL 77.494785 648.762891 \nL 75.686127 647.403654 \nL 75.019918 647.099114 \nL 73.033669 646.044416 \nL 72.214489 645.181456 \nL 71.782447 644.676683 \nL 69.409059 643.783056 \nL 67.688334 643.266474 \nL 68.448664 641.949713 \nL 69.409059 640.776219 \nL 69.562708 640.547999 \nL 69.409059 640.40444 \nL 68.133142 639.188761 \nL 68.351481 637.838019 \nL 69.409059 636.671644 \nL 69.552716 636.487276 \nL 69.409059 636.307227 \nL 68.45175 635.136534 \nL 68.478637 633.777296 \nL 67.596622 632.426554 \nL 66.60363 632.113601 \nL 63.798201 631.416294 \nL 62.265386 631.084307 \nL 60.992771 630.521926 \nL 59.263285 629.682593 \nL 58.187342 629.468584 \nL 55.381913 628.770638 \nL 54.140873 628.340346 \nL 52.576484 627.462797 \nL 51.959383 626.998099 \nL 50.604229 625.655851 \nL 49.771054 624.820595 \nL 49.352455 624.313604 \nL 48.744879 622.971357 \nL 48.196788 621.595129 \nL 47.706948 620.269872 \nL 47.600536 618.93612 \nL 47.470436 617.559892 \nL 47.295438 616.243131 \nL 47.470737 614.883893 \nL 47.506785 613.558636 \nL 47.627883 612.23338 \nL 48.064305 610.882637 \nL 48.281453 609.565876 \nL 48.767973 608.206638 \nL 49.501983 606.881382 \nL 49.771054 606.230525 \nL 50.263652 605.556125 \nL 52.115688 604.196887 \nL 52.576484 603.794956 \nL 55.381913 603.010273 \nL 58.187342 603.536241 \nL 59.229319 604.196887 \nL 60.005837 605.556125 \nL 60.875536 606.881382 \nL 60.992771 606.970095 \nL 62.288523 608.206638 \nL 62.548217 609.565876 \nL 63.798201 610.844029 \nL 63.841083 610.882637 \nL 64.176239 612.23338 \nL 65.781941 613.558636 \nL 66.60363 614.197652 \nL 67.631779 614.883893 \nL 68.871503 616.243131 \nL 69.409059 616.555652 \nL 71.382497 617.559892 \nL 72.214489 618.139185 \nL 73.549012 618.93612 \nL 75.019918 619.897313 \nL 75.69005 620.269872 \nL 77.825347 621.081362 \nL 79.288732 621.595129 \nL 80.630777 622.137975 \nL 82.88187 622.971357 \nL 83.436206 623.304156 \nL 85.452371 624.313604 \nL 86.241635 624.600892 \nL 89.047064 625.444928 \nL 89.84461 625.655851 \nL 91.852494 626.028565 \nL 94.657923 626.364229 \nL 97.463352 626.566159 \nL 100.268782 626.660476 \nL 103.074211 626.647484 \nL 105.87964 626.497607 \nL 108.685069 626.119831 \nL 110.419128 625.655851 \nL 111.490499 625.425022 \nL 114.295928 624.832698 \nL 116.52806 624.313604 \nL 117.101357 624.154342 \nL 119.906787 623.433466 \nL 121.715597 622.971357 \nL 122.712216 622.672426 \nL 125.517645 621.906466 \nL 126.598773 621.595129 \nL 128.323074 621.119838 \nL 131.128504 620.458707 \nL 131.851884 620.269872 \nL 133.933933 619.596816 \nL 136.454239 618.93612 \nL 136.739362 618.826818 \nL 139.544792 617.87673 \nL 140.556585 617.559892 \nL 142.350221 617.000149 \nL 145.15565 616.339625 \nL 145.53174 616.243131 \nL 147.96108 615.38774 \nL 149.712064 614.883893 \nL 150.766509 614.471098 \nL 153.571938 613.611922 \nL 153.747058 613.558636 \nL 156.377367 612.714658 \nL 158.260871 612.23338 \nL 159.182797 611.806956 \nL 161.608257 610.882637 \nL 161.988226 610.730521 \nL 164.793655 609.800835 \nL 165.599322 609.565876 \nL 167.599085 608.820782 \nL 169.701417 608.206638 \nL 170.404514 607.85503 \nL 172.683567 606.881382 \nL 173.209943 606.699467 \nL 176.015372 605.905098 \nL 177.431572 605.556125 \nL 178.820802 604.873532 \nL 180.464371 604.196887 \nL 181.626231 603.763952 \nL 184.43166 602.920722 \nL 184.603821 602.87163 \nL 187.23709 601.755939 \nL 187.959889 601.512393 \nL 190.042519 600.736641 \nL 191.720514 600.195631 \nL 192.847948 599.817824 \nL 195.653378 599.038358 \nL 196.453669 598.836394 \nL 198.458807 597.944765 \nL 199.615198 597.528127 \nL 201.264236 597.090821 \nL 204.069665 596.445467 \nL 205.211935 596.18588 \nL 206.875095 595.39817 \nL 208.336668 594.852128 \nL 209.680524 594.473643 \nL 212.485953 593.770301 \nL 213.534863 593.518376 \nL 215.291383 592.73281 \nL 216.840022 592.19312 \nL 218.096812 591.797429 \nL 220.902241 591.062417 \nL 221.801163 590.859368 \nL 223.70767 590.343478 \nL 226.5131 589.751234 \nL 227.758278 589.534111 \nL 229.318529 589.089719 \nL 232.123958 588.530723 \nL 234.403478 588.200359 \nL 234.929388 588.08457 \nL 237.734817 587.391854 \nL 239.391527 586.875102 \nL 240.540246 586.670824 \nL 243.345676 586.234384 \nL 246.151105 585.811134 \nL 247.857958 585.549846 \nL 248.956534 585.293168 \nL 251.761963 584.700248 \nL 254.0994 584.224589 \nL 254.567393 584.112595 \nL 257.372822 583.560162 \nL 260.178251 583.116331 \nL 261.987892 582.890837 \nL 262.983681 582.758592 \nL 265.78911 582.459806 \nL 268.594539 582.222747 \nL 271.399968 582.052107 \nL 274.205398 581.95556 \nL 277.010827 581.943046 \nL 279.816256 582.027567 \nL 282.621686 582.226587 \nL 285.427115 582.562234 \nL 287.349958 582.890837 \nL 288.232544 583.023363 \nL 291.037973 583.553727 \nL 293.700375 584.224589 \nL 293.026829 585.549846 \nL 291.037973 585.882029 \nL 288.232544 586.313471 \nL 285.427115 586.721977 \nL 284.395336 586.875102 \nL 284.786031 588.200359 \nL 282.621686 588.400248 \nL 279.816256 588.668652 \nL 277.010827 588.965254 \nL 274.205398 589.323072 \nL 272.89531 589.534111 \nL 271.399968 589.649485 \nL 268.594539 589.888755 \nL 265.78911 590.168966 \nL 262.983681 590.527379 \nL 261.071186 590.859368 \nL 260.178251 591.043406 \nL 257.372822 591.700875 \nL 255.660617 592.19312 \nL 254.567393 592.599908 \nL 252.558154 593.518376 \nL 251.761963 593.732922 \nL 248.956534 594.525853 \nL 247.900629 594.852128 \nL 246.151105 595.366048 \nL 243.645463 596.18588 \nL 243.345676 596.271899 \nL 240.540246 597.085923 \nL 238.979225 597.528127 \nL 237.734817 597.873952 \nL 234.929388 598.686507 \nL 234.4866 598.836394 \nL 232.123958 599.558773 \nL 229.960043 600.195631 \nL 229.318529 600.404247 \nL 226.5131 601.31152 \nL 225.926845 601.512393 \nL 223.70767 602.150188 \nL 221.012987 602.87163 \nL 220.902241 602.907317 \nL 218.096812 603.81766 \nL 216.879065 604.196887 \nL 215.291383 604.679428 \nL 212.485953 605.462628 \nL 212.201728 605.556125 \nL 209.680524 606.399867 \nL 208.028562 606.881382 \nL 206.875095 607.239593 \nL 204.069665 608.040621 \nL 203.55524 608.206638 \nL 201.264236 608.965124 \nL 199.108447 609.565876 \nL 198.458807 609.788731 \nL 195.653378 610.683542 \nL 195.031907 610.882637 \nL 192.847948 611.61568 \nL 190.765516 612.23338 \nL 190.042519 612.486548 \nL 187.23709 613.335216 \nL 186.45624 613.558636 \nL 184.43166 614.27214 \nL 182.42828 614.883893 \nL 181.626231 615.177981 \nL 178.820802 616.079422 \nL 178.314363 616.243131 \nL 176.015372 617.096246 \nL 174.51292 617.559892 \nL 173.209943 618.073918 \nL 170.715059 618.93612 \nL 170.404514 619.04741 \nL 167.599085 620.000921 \nL 166.733017 620.269872 \nL 164.793655 621.083008 \nL 163.368239 621.595129 \nL 161.988226 622.260133 \nL 160.350842 622.971357 \nL 159.182797 623.393223 \nL 156.377367 624.254841 \nL 156.181343 624.313604 \nL 153.571938 625.319402 \nL 152.458827 625.655851 \nL 151.18106 626.998099 \nL 150.766509 627.111683 \nL 147.96108 627.783437 \nL 145.15565 628.270788 \nL 144.71302 628.340346 \nL 142.350221 628.677889 \nL 139.544792 628.992794 \nL 136.739362 629.263566 \nL 133.933933 629.529138 \nL 132.485855 629.682593 \nL 131.128504 630.134285 \nL 128.853668 631.084307 \nL 128.323074 631.169047 \nL 125.517645 631.65074 \nL 122.712216 632.210574 \nL 121.897712 632.426554 \nL 120.13802 633.777296 \nL 120.412713 635.136534 \nL 119.906787 635.471147 \nL 118.559394 636.487276 \nL 117.983831 637.838019 \nL 119.300652 639.188761 \nL 117.756915 640.547999 \nL 117.270538 641.949713 \nL 119.906787 642.738755 \nL 122.712216 643.190328 \nL 123.344385 643.266474 \nL 122.712216 643.389423 \nL 119.906787 644.422655 \nL 119.554327 644.676683 \nL 117.369708 646.044416 \nL 118.654111 647.403654 \nL 117.101357 647.722354 \nL 114.295928 648.66182 \nL 114.107017 648.762891 \nL 113.28831 650.130624 \nL 111.490499 651.46706 \nL 111.449707 651.506852 \nL 109.847096 652.874585 \nL 108.685069 653.64572 \nL 107.537386 654.242318 \nL 106.578095 655.661022 \nL 105.87964 656.313448 \nL 105.265643 657.028755 \nL 103.594497 658.413479 \nL 103.074211 658.7669 \nL 101.408504 659.789707 \nL 100.268782 660.503138 \nL 99.223605 661.15744 \nL 97.463352 662.028161 \nL 94.859445 662.550658 \nL 94.657923 662.58243 \nL 91.852494 662.561637 \nz\n\" style=\"fill:#6800ff;\"/>\n    <path clip-path=\"url(#p5e09f7d5ca)\" d=\"M 159.182797 641.061204 \nL 161.988226 641.043338 \nL 164.793655 640.828355 \nL 166.970303 640.547999 \nL 167.599085 640.348088 \nL 170.404514 639.345032 \nL 170.820819 639.188761 \nL 173.209943 638.316743 \nL 174.117912 637.838019 \nL 176.015372 637.423383 \nL 178.820802 636.829048 \nL 180.278194 636.487276 \nL 181.626231 635.898551 \nL 183.631419 635.136534 \nL 184.43166 634.588924 \nL 185.470365 633.777296 \nL 187.23709 633.270474 \nL 190.042519 632.542876 \nL 190.495897 632.426554 \nL 192.847948 631.549389 \nL 194.698171 631.084307 \nL 195.653378 630.379686 \nL 196.843689 629.682593 \nL 198.458807 629.436981 \nL 201.264236 629.060567 \nL 204.069665 628.657809 \nL 205.884108 628.340346 \nL 206.875095 628.056167 \nL 209.680524 627.383008 \nL 211.331264 626.998099 \nL 212.485953 626.650715 \nL 215.291383 625.805961 \nL 215.770283 625.655851 \nL 218.096812 625.199396 \nL 220.902241 624.815369 \nL 223.70767 624.442524 \nL 224.566819 624.313604 \nL 226.5131 623.761311 \nL 229.318529 623.152976 \nL 230.183132 622.971357 \nL 232.123958 622.373445 \nL 234.929388 621.65684 \nL 235.171555 621.595129 \nL 237.734817 621.057404 \nL 240.540246 620.737822 \nL 243.345676 620.457905 \nL 245.066491 620.269872 \nL 246.151105 619.958511 \nL 248.956534 619.443495 \nL 251.761963 619.068014 \nL 252.764727 618.93612 \nL 254.567393 618.59916 \nL 257.372822 618.369189 \nL 260.178251 618.237667 \nL 262.983681 618.142598 \nL 265.78911 618.062804 \nL 268.594539 617.992017 \nL 271.399968 617.924465 \nL 274.205398 617.853991 \nL 277.010827 617.776626 \nL 279.816256 617.686489 \nL 282.621686 617.57636 \nL 283.009758 617.559892 \nL 285.427115 617.42742 \nL 288.232544 617.272511 \nL 291.037973 617.108552 \nL 293.843403 616.922909 \nL 296.648832 616.707493 \nL 299.454261 616.444494 \nL 301.246911 616.243131 \nL 302.259691 616.117104 \nL 305.06512 615.711765 \nL 307.870549 615.159819 \nL 309.023347 614.883893 \nL 307.870549 614.40127 \nL 305.379075 613.558636 \nL 305.06512 613.512645 \nL 302.259691 613.166222 \nL 299.454261 612.922988 \nL 296.648832 612.755921 \nL 293.843403 612.644697 \nL 291.037973 612.574941 \nL 288.232544 612.544357 \nL 285.427115 612.543709 \nL 282.621686 612.574672 \nL 279.816256 612.637764 \nL 277.010827 612.733042 \nL 274.205398 612.868394 \nL 271.399968 613.052897 \nL 268.594539 613.302611 \nL 266.49068 613.558636 \nL 265.78911 613.687974 \nL 262.983681 614.332545 \nL 261.123032 614.883893 \nL 260.178251 615.202589 \nL 257.372822 615.913007 \nL 255.805167 616.243131 \nL 254.567393 616.547753 \nL 251.761963 617.060813 \nL 248.956534 617.463162 \nL 248.32031 617.559892 \nL 246.151105 618.061171 \nL 243.345676 618.356977 \nL 240.540246 618.593591 \nL 237.734817 618.851813 \nL 237.066151 618.93612 \nL 234.929388 619.363682 \nL 232.123958 619.787793 \nL 229.318529 620.197241 \nL 228.912159 620.269872 \nL 226.5131 620.709876 \nL 223.70767 621.02965 \nL 220.902241 621.313577 \nL 218.610725 621.595129 \nL 218.096812 621.733008 \nL 215.291383 622.432177 \nL 212.883609 622.971357 \nL 212.485953 623.060413 \nL 209.680524 623.665229 \nL 206.875095 624.213392 \nL 206.434539 624.313604 \nL 204.069665 624.724951 \nL 201.264236 625.060971 \nL 198.458807 625.368604 \nL 196.284517 625.655851 \nL 195.653378 625.932658 \nL 192.847948 626.991336 \nL 192.829408 626.998099 \nL 190.042519 627.540668 \nL 187.23709 627.978681 \nL 184.983688 628.340346 \nL 184.43166 628.459107 \nL 181.626231 628.890122 \nL 178.820802 629.155331 \nL 176.015372 629.369042 \nL 173.209943 629.581779 \nL 172.076022 629.682593 \nL 170.404514 630.978809 \nL 170.302968 631.084307 \nL 167.599085 631.968231 \nL 166.649017 632.426554 \nL 164.793655 632.978894 \nL 162.186873 633.777296 \nL 162.669289 635.136534 \nL 161.988226 635.475371 \nL 160.211092 636.487276 \nL 159.182797 636.799945 \nL 156.377367 637.472667 \nL 154.658952 637.838019 \nL 156.377367 638.984052 \nL 156.928752 639.188761 \nL 156.581421 640.547999 \nz\nM 166.33607 636.487276 \nL 167.599085 635.881972 \nL 169.397052 635.136534 \nL 167.599085 634.31757 \nL 167.011426 633.777296 \nL 167.599085 633.602845 \nL 170.404514 632.82592 \nL 171.68361 632.426554 \nL 173.209943 632.014506 \nL 176.015372 631.505465 \nL 178.820802 631.128216 \nL 179.392597 631.084307 \nL 181.626231 630.594742 \nL 184.43166 630.5518 \nL 185.697709 631.084307 \nL 185.492763 632.426554 \nL 184.43166 632.68426 \nL 181.626231 633.443881 \nL 180.665083 633.777296 \nL 178.820802 634.6211 \nL 177.01493 635.136534 \nL 176.015372 635.575458 \nL 174.296565 636.487276 \nL 173.209943 636.661817 \nL 170.404514 636.990688 \nL 167.599085 637.195256 \nz\nM 194.201148 628.340346 \nL 195.653378 628.255092 \nL 196.766756 628.340346 \nL 195.653378 628.397614 \nz\nM 203.424237 625.655851 \nL 204.069665 625.606576 \nL 206.875095 625.53871 \nL 208.317673 625.655851 \nL 206.875095 625.914099 \nL 204.069665 626.025839 \nz\nM 263.206266 616.243131 \nL 265.78911 614.945339 \nL 265.855755 614.883893 \nL 268.594539 614.295648 \nL 271.399968 613.83517 \nL 273.612614 613.558636 \nL 274.205398 613.510879 \nL 277.010827 613.350138 \nL 279.816256 613.244657 \nL 282.621686 613.184007 \nL 285.427115 613.167121 \nL 288.232544 613.193613 \nL 291.037973 613.262999 \nL 293.843403 613.386897 \nL 296.476779 613.558636 \nL 296.648832 613.581499 \nL 299.454261 614.056089 \nL 302.259691 614.728408 \nL 302.795329 614.883893 \nL 302.259691 614.978616 \nL 299.454261 615.406333 \nL 296.648832 615.742893 \nL 293.843403 616.01427 \nL 291.054968 616.243131 \nL 291.037973 616.244404 \nL 288.232544 616.430195 \nL 285.427115 616.589534 \nL 282.621686 616.724137 \nL 279.816256 616.839371 \nL 277.010827 616.941643 \nL 274.205398 617.029037 \nL 271.399968 617.099724 \nL 268.594539 617.141955 \nL 265.78911 617.088805 \nz\n\" style=\"fill:#6800ff;\"/>\n    <path clip-path=\"url(#p5e09f7d5ca)\" d=\"M 89.047064 561.676743 \nL 91.852494 561.763719 \nL 94.657923 561.769019 \nL 97.463352 561.694172 \nL 98.327633 561.644254 \nL 97.463352 561.608237 \nL 94.657923 561.548003 \nL 91.852494 561.546283 \nL 89.047064 561.615845 \nL 88.555328 561.644254 \nz\n\" style=\"fill:#6800ff;\"/>\n   </g>\n   <g id=\"PathCollection_4\">\n    <path clip-path=\"url(#p5e09f7d5ca)\" d=\"M 91.852494 662.561637 \nL 94.657923 662.58243 \nL 94.859445 662.550658 \nL 97.463352 662.028161 \nL 99.223605 661.15744 \nL 100.268782 660.503138 \nL 101.408504 659.789707 \nL 103.074211 658.7669 \nL 103.594497 658.413479 \nL 105.265643 657.028755 \nL 105.87964 656.313448 \nL 106.578095 655.661022 \nL 107.537386 654.242318 \nL 108.685069 653.64572 \nL 109.847096 652.874585 \nL 111.449707 651.506852 \nL 111.490499 651.46706 \nL 113.28831 650.130624 \nL 114.107017 648.762891 \nL 114.295928 648.66182 \nL 117.101357 647.722354 \nL 118.654111 647.403654 \nL 117.369708 646.044416 \nL 119.554327 644.676683 \nL 119.906787 644.422655 \nL 122.712216 643.389423 \nL 123.344385 643.266474 \nL 122.712216 643.190328 \nL 119.906787 642.738755 \nL 117.270538 641.949713 \nL 117.756915 640.547999 \nL 119.300652 639.188761 \nL 117.983831 637.838019 \nL 118.559394 636.487276 \nL 119.906787 635.471147 \nL 120.412713 635.136534 \nL 120.13802 633.777296 \nL 121.897712 632.426554 \nL 122.712216 632.210574 \nL 125.517645 631.65074 \nL 128.323074 631.169047 \nL 128.853668 631.084307 \nL 131.128504 630.134285 \nL 132.485855 629.682593 \nL 133.933933 629.529138 \nL 136.739362 629.263566 \nL 139.544792 628.992794 \nL 142.350221 628.677889 \nL 144.71302 628.340346 \nL 145.15565 628.270788 \nL 147.96108 627.783437 \nL 150.766509 627.111683 \nL 151.18106 626.998099 \nL 152.458827 625.655851 \nL 153.571938 625.319402 \nL 156.181343 624.313604 \nL 156.377367 624.254841 \nL 159.182797 623.393223 \nL 160.350842 622.971357 \nL 161.988226 622.260133 \nL 163.368239 621.595129 \nL 164.793655 621.083008 \nL 166.733017 620.269872 \nL 167.599085 620.000921 \nL 170.404514 619.04741 \nL 170.715059 618.93612 \nL 173.209943 618.073918 \nL 174.51292 617.559892 \nL 176.015372 617.096246 \nL 178.314363 616.243131 \nL 178.820802 616.079422 \nL 181.626231 615.177981 \nL 182.42828 614.883893 \nL 184.43166 614.27214 \nL 186.45624 613.558636 \nL 187.23709 613.335216 \nL 190.042519 612.486548 \nL 190.765516 612.23338 \nL 192.847948 611.61568 \nL 195.031907 610.882637 \nL 195.653378 610.683542 \nL 198.458807 609.788731 \nL 199.108447 609.565876 \nL 201.264236 608.965124 \nL 203.55524 608.206638 \nL 204.069665 608.040621 \nL 206.875095 607.239593 \nL 208.028562 606.881382 \nL 209.680524 606.399867 \nL 212.201728 605.556125 \nL 212.485953 605.462628 \nL 215.291383 604.679428 \nL 216.879065 604.196887 \nL 218.096812 603.81766 \nL 220.902241 602.907317 \nL 221.012987 602.87163 \nL 223.70767 602.150188 \nL 225.926845 601.512393 \nL 226.5131 601.31152 \nL 229.318529 600.404247 \nL 229.960043 600.195631 \nL 232.123958 599.558773 \nL 234.4866 598.836394 \nL 234.929388 598.686507 \nL 237.734817 597.873952 \nL 238.979225 597.528127 \nL 240.540246 597.085923 \nL 243.345676 596.271899 \nL 243.645463 596.18588 \nL 246.151105 595.366048 \nL 247.900629 594.852128 \nL 248.956534 594.525853 \nL 251.761963 593.732922 \nL 252.558154 593.518376 \nL 254.567393 592.599908 \nL 255.660617 592.19312 \nL 257.372822 591.700875 \nL 260.178251 591.043406 \nL 261.071186 590.859368 \nL 262.983681 590.527379 \nL 265.78911 590.168966 \nL 268.594539 589.888755 \nL 271.399968 589.649485 \nL 272.89531 589.534111 \nL 274.205398 589.323072 \nL 277.010827 588.965254 \nL 279.816256 588.668652 \nL 282.621686 588.400248 \nL 284.786031 588.200359 \nL 284.395336 586.875102 \nL 285.427115 586.721977 \nL 288.232544 586.313471 \nL 291.037973 585.882029 \nL 293.026829 585.549846 \nL 293.700375 584.224589 \nL 291.037973 583.553727 \nL 288.232544 583.023363 \nL 287.349958 582.890837 \nL 285.427115 582.562234 \nL 282.621686 582.226587 \nL 279.816256 582.027567 \nL 277.010827 581.943046 \nL 274.205398 581.95556 \nL 271.399968 582.052107 \nL 268.594539 582.222747 \nL 265.78911 582.459806 \nL 262.983681 582.758592 \nL 261.987892 582.890837 \nL 260.178251 583.116331 \nL 257.372822 583.560162 \nL 254.567393 584.112595 \nL 254.0994 584.224589 \nL 251.761963 584.700248 \nL 248.956534 585.293168 \nL 247.857958 585.549846 \nL 246.151105 585.811134 \nL 243.345676 586.234384 \nL 240.540246 586.670824 \nL 239.391527 586.875102 \nL 237.734817 587.391854 \nL 234.929388 588.08457 \nL 234.403478 588.200359 \nL 232.123958 588.530723 \nL 229.318529 589.089719 \nL 227.758278 589.534111 \nL 226.5131 589.751234 \nL 223.70767 590.343478 \nL 221.801163 590.859368 \nL 220.902241 591.062417 \nL 218.096812 591.797429 \nL 216.840022 592.19312 \nL 215.291383 592.73281 \nL 213.534863 593.518376 \nL 212.485953 593.770301 \nL 209.680524 594.473643 \nL 208.336668 594.852128 \nL 206.875095 595.39817 \nL 205.211935 596.18588 \nL 204.069665 596.445467 \nL 201.264236 597.090821 \nL 199.615198 597.528127 \nL 198.458807 597.944765 \nL 196.453669 598.836394 \nL 195.653378 599.038358 \nL 192.847948 599.817824 \nL 191.720514 600.195631 \nL 190.042519 600.736641 \nL 187.959889 601.512393 \nL 187.23709 601.755939 \nL 184.603821 602.87163 \nL 184.43166 602.920722 \nL 181.626231 603.763952 \nL 180.464371 604.196887 \nL 178.820802 604.873532 \nL 177.431572 605.556125 \nL 176.015372 605.905098 \nL 173.209943 606.699467 \nL 172.683567 606.881382 \nL 170.404514 607.85503 \nL 169.701417 608.206638 \nL 167.599085 608.820782 \nL 165.599322 609.565876 \nL 164.793655 609.800835 \nL 161.988226 610.730521 \nL 161.608257 610.882637 \nL 159.182797 611.806956 \nL 158.260871 612.23338 \nL 156.377367 612.714658 \nL 153.747058 613.558636 \nL 153.571938 613.611922 \nL 150.766509 614.471098 \nL 149.712064 614.883893 \nL 147.96108 615.38774 \nL 145.53174 616.243131 \nL 145.15565 616.339625 \nL 142.350221 617.000149 \nL 140.556585 617.559892 \nL 139.544792 617.87673 \nL 136.739362 618.826818 \nL 136.454239 618.93612 \nL 133.933933 619.596816 \nL 131.851884 620.269872 \nL 131.128504 620.458707 \nL 128.323074 621.119838 \nL 126.598773 621.595129 \nL 125.517645 621.906466 \nL 122.712216 622.672426 \nL 121.715597 622.971357 \nL 119.906787 623.433466 \nL 117.101357 624.154342 \nL 116.52806 624.313604 \nL 114.295928 624.832698 \nL 111.490499 625.425022 \nL 110.419128 625.655851 \nL 108.685069 626.119831 \nL 105.87964 626.497607 \nL 103.074211 626.647484 \nL 100.268782 626.660476 \nL 97.463352 626.566159 \nL 94.657923 626.364229 \nL 91.852494 626.028565 \nL 89.84461 625.655851 \nL 89.047064 625.444928 \nL 86.241635 624.600892 \nL 85.452371 624.313604 \nL 83.436206 623.304156 \nL 82.88187 622.971357 \nL 80.630777 622.137975 \nL 79.288732 621.595129 \nL 77.825347 621.081362 \nL 75.69005 620.269872 \nL 75.019918 619.897313 \nL 73.549012 618.93612 \nL 72.214489 618.139185 \nL 71.382497 617.559892 \nL 69.409059 616.555652 \nL 68.871503 616.243131 \nL 67.631779 614.883893 \nL 66.60363 614.197652 \nL 65.781941 613.558636 \nL 64.176239 612.23338 \nL 63.841083 610.882637 \nL 63.798201 610.844029 \nL 62.548217 609.565876 \nL 62.288523 608.206638 \nL 60.992771 606.970095 \nL 60.875536 606.881382 \nL 60.005837 605.556125 \nL 59.229319 604.196887 \nL 58.187342 603.536241 \nL 55.381913 603.010273 \nL 52.576484 603.794956 \nL 52.115688 604.196887 \nL 50.263652 605.556125 \nL 49.771054 606.230525 \nL 49.501983 606.881382 \nL 48.767973 608.206638 \nL 48.281453 609.565876 \nL 48.064305 610.882637 \nL 47.627883 612.23338 \nL 47.506785 613.558636 \nL 47.470737 614.883893 \nL 47.295438 616.243131 \nL 47.470436 617.559892 \nL 47.600536 618.93612 \nL 47.706948 620.269872 \nL 48.196788 621.595129 \nL 48.744879 622.971357 \nL 49.352455 624.313604 \nL 49.771054 624.820595 \nL 50.604229 625.655851 \nL 51.959383 626.998099 \nL 52.576484 627.462797 \nL 54.140873 628.340346 \nL 55.381913 628.770638 \nL 58.187342 629.468584 \nL 59.263285 629.682593 \nL 60.992771 630.521926 \nL 62.265386 631.084307 \nL 63.798201 631.416294 \nL 66.60363 632.113601 \nL 67.596622 632.426554 \nL 68.478637 633.777296 \nL 68.45175 635.136534 \nL 69.409059 636.307227 \nL 69.552716 636.487276 \nL 69.409059 636.671644 \nL 68.351481 637.838019 \nL 68.133142 639.188761 \nL 69.409059 640.40444 \nL 69.562708 640.547999 \nL 69.409059 640.776219 \nL 68.448664 641.949713 \nL 67.688334 643.266474 \nL 69.409059 643.783056 \nL 71.782447 644.676683 \nL 72.214489 645.181456 \nL 73.033669 646.044416 \nL 75.019918 647.099114 \nL 75.686127 647.403654 \nL 77.494785 648.762891 \nL 77.825347 649.472894 \nL 78.219968 650.130624 \nL 80.283012 651.506852 \nL 80.630777 651.703784 \nL 82.560097 652.874585 \nL 83.365356 654.242318 \nL 83.436206 654.304974 \nL 84.975083 655.661022 \nL 83.928046 657.028755 \nL 86.241635 658.304873 \nL 86.575169 658.413479 \nL 86.522446 659.789707 \nL 86.78182 661.15744 \nL 89.047064 662.050413 \nL 91.791545 662.550658 \nz\nM 93.926053 658.413479 \nL 91.852494 658.264804 \nL 89.047064 657.715793 \nL 87.219727 657.028755 \nL 89.010586 655.661022 \nL 87.872349 654.242318 \nL 86.241635 653.397335 \nL 85.652399 652.874585 \nL 83.742363 651.506852 \nL 83.436206 651.136671 \nL 82.514947 650.130624 \nL 80.923633 648.762891 \nL 81.806145 647.403654 \nL 80.630777 646.973175 \nL 78.475094 646.044416 \nL 77.825347 645.524077 \nL 76.940629 644.676683 \nL 75.019918 643.315719 \nL 74.920871 643.266474 \nL 73.060035 641.949713 \nL 73.107714 640.547999 \nL 72.214489 639.685446 \nL 71.723728 639.188761 \nL 71.413881 637.838019 \nL 72.123678 636.487276 \nL 71.102429 635.136534 \nL 70.899131 633.777296 \nL 70.006382 632.426554 \nL 69.409059 632.177044 \nL 66.60363 631.304927 \nL 65.71602 631.084307 \nL 63.798201 630.234733 \nL 62.620924 629.682593 \nL 60.992771 629.378136 \nL 58.187342 628.771681 \nL 56.654722 628.340346 \nL 55.381913 627.832159 \nL 53.888668 626.998099 \nL 52.576484 626.056741 \nL 52.146964 625.655851 \nL 50.633956 624.313604 \nL 49.892728 622.971357 \nL 49.771054 622.753566 \nL 49.204624 621.595129 \nL 48.592792 620.269872 \nL 48.470156 618.93612 \nL 48.319625 617.559892 \nL 48.118963 616.243131 \nL 48.359688 614.883893 \nL 48.428896 613.558636 \nL 48.609668 612.23338 \nL 49.16647 610.882637 \nL 49.463282 609.565876 \nL 49.771054 608.848384 \nL 50.24927 608.206638 \nL 51.735659 606.881382 \nL 52.576484 605.868937 \nL 53.794563 605.556125 \nL 55.381913 605.228672 \nL 56.282198 605.556125 \nL 58.187342 606.575778 \nL 58.450675 606.881382 \nL 60.384949 608.206638 \nL 60.929187 609.565876 \nL 60.992771 609.617264 \nL 62.376251 610.882637 \nL 62.842737 612.23338 \nL 63.798201 613.004389 \nL 64.512701 613.558636 \nL 66.285504 614.883893 \nL 66.60363 615.199764 \nL 67.715169 616.243131 \nL 69.409059 617.209327 \nL 70.112725 617.559892 \nL 72.140721 618.93612 \nL 72.214489 618.986212 \nL 74.331196 620.269872 \nL 75.019918 620.574791 \nL 77.673195 621.595129 \nL 77.825347 621.665584 \nL 80.630777 622.777888 \nL 81.168544 622.971357 \nL 83.436206 624.294923 \nL 83.474769 624.313604 \nL 86.241635 625.288554 \nL 87.480367 625.655851 \nL 89.047064 626.047523 \nL 91.852494 626.512009 \nL 94.657923 626.811895 \nL 97.399891 626.998099 \nL 97.463352 627.002566 \nL 100.268782 627.103371 \nL 103.074211 627.117987 \nL 105.87964 627.044414 \nL 106.670915 626.998099 \nL 108.685069 626.814552 \nL 111.490499 626.219248 \nL 112.769844 625.655851 \nL 114.295928 625.314208 \nL 117.101357 624.655952 \nL 118.338406 624.313604 \nL 119.906787 623.886431 \nL 122.712216 623.145547 \nL 123.318739 622.971357 \nL 125.517645 622.322105 \nL 127.984206 621.595129 \nL 128.323074 621.499564 \nL 131.128504 620.765694 \nL 132.992054 620.269872 \nL 133.933933 619.959633 \nL 136.739362 619.159557 \nL 137.521075 618.93612 \nL 139.544792 618.215489 \nL 141.6021 617.559892 \nL 142.350221 617.322371 \nL 145.15565 616.574585 \nL 146.42836 616.243131 \nL 147.96108 615.695453 \nL 150.733488 614.883893 \nL 150.766509 614.870746 \nL 153.571938 613.877821 \nL 154.606042 613.558636 \nL 156.377367 612.982224 \nL 159.182797 612.249704 \nL 159.241525 612.23338 \nL 161.988226 611.085099 \nL 162.564452 610.882637 \nL 164.793655 610.091322 \nL 166.566521 609.565876 \nL 167.599085 609.174985 \nL 170.404514 608.309724 \nL 170.75698 608.206638 \nL 173.209943 607.108798 \nL 173.817188 606.881382 \nL 176.015372 606.205509 \nL 178.599599 605.556125 \nL 178.820802 605.445322 \nL 181.626231 604.2474 \nL 181.766585 604.196887 \nL 184.43166 603.289449 \nL 185.866444 602.87163 \nL 187.23709 602.278752 \nL 189.455348 601.512393 \nL 190.042519 601.288229 \nL 192.847948 600.338676 \nL 193.306293 600.195631 \nL 195.653378 599.473157 \nL 198.107709 598.836394 \nL 198.458807 598.675958 \nL 201.264236 597.614618 \nL 201.541909 597.528127 \nL 204.069665 596.893113 \nL 206.875095 596.23582 \nL 207.087124 596.18588 \nL 209.680524 595.141216 \nL 210.60061 594.852128 \nL 212.485953 594.346094 \nL 215.291383 593.6489 \nL 215.836391 593.518376 \nL 218.096812 592.661322 \nL 219.689113 592.19312 \nL 220.902241 591.847477 \nL 223.70767 591.175519 \nL 225.228707 590.859368 \nL 226.5131 590.556457 \nL 229.318529 590.027074 \nL 232.123958 589.583726 \nL 232.497242 589.534111 \nL 234.929388 589.101443 \nL 237.734817 588.733056 \nL 240.540246 588.440915 \nL 243.224159 588.200359 \nL 243.345676 588.159255 \nL 246.151105 587.017434 \nL 246.443799 586.875102 \nL 248.956534 586.568809 \nL 251.761963 586.225531 \nL 254.567393 585.825973 \nL 256.205512 585.549846 \nL 257.372822 585.340928 \nL 260.178251 584.889885 \nL 262.983681 584.442367 \nL 264.480815 584.224589 \nL 265.78911 584.086883 \nL 268.594539 583.890304 \nL 271.399968 583.782302 \nL 274.205398 583.762225 \nL 277.010827 583.833324 \nL 279.816256 584.002749 \nL 282.091111 584.224589 \nL 282.621686 585.110828 \nL 282.803006 585.549846 \nL 282.621686 585.573035 \nL 279.816256 585.918425 \nL 277.010827 586.271394 \nL 274.205398 586.673645 \nL 273.026666 586.875102 \nL 272.651902 588.200359 \nL 271.399968 588.325606 \nL 268.594539 588.676832 \nL 265.78911 589.271966 \nL 265.04639 589.534111 \nL 262.983681 589.736991 \nL 260.178251 590.091956 \nL 257.372822 590.633888 \nL 256.579753 590.859368 \nL 254.567393 591.372275 \nL 252.135322 592.19312 \nL 251.761963 592.354031 \nL 249.664257 593.518376 \nL 248.956534 593.714608 \nL 246.151105 594.553973 \nL 245.27199 594.852128 \nL 243.345676 595.469144 \nL 241.478556 596.18588 \nL 240.540246 596.453902 \nL 237.734817 597.253458 \nL 236.824368 597.528127 \nL 234.929388 598.086049 \nL 232.644538 598.836394 \nL 232.123958 598.990736 \nL 229.318529 599.846171 \nL 228.247908 600.195631 \nL 226.5131 600.768821 \nL 224.283483 601.512393 \nL 223.70767 601.6734 \nL 220.902241 602.477764 \nL 219.642231 602.87163 \nL 218.096812 603.367455 \nL 215.366505 604.196887 \nL 215.291383 604.219151 \nL 212.485953 605.08805 \nL 211.035385 605.556125 \nL 209.680524 606.000764 \nL 206.875095 606.818702 \nL 206.672433 606.881382 \nL 204.069665 607.699924 \nL 202.471235 608.206638 \nL 201.264236 608.599054 \nL 198.458807 609.415291 \nL 197.980578 609.565876 \nL 195.653378 610.359895 \nL 193.993496 610.882637 \nL 192.847948 611.260515 \nL 190.042519 612.115981 \nL 189.703391 612.23338 \nL 187.23709 613.05572 \nL 185.450052 613.558636 \nL 184.43166 613.911551 \nL 181.626231 614.789737 \nL 181.346791 614.883893 \nL 178.820802 615.783214 \nL 177.375839 616.243131 \nL 176.015372 616.740102 \nL 173.305755 617.559892 \nL 173.209943 617.596938 \nL 170.404514 618.671351 \nL 169.670879 618.93612 \nL 167.599085 619.659336 \nL 165.595932 620.269872 \nL 164.793655 620.599921 \nL 161.988226 621.588008 \nL 161.966824 621.595129 \nL 159.182797 622.831023 \nL 158.823744 622.971357 \nL 156.377367 623.806747 \nL 154.643118 624.313604 \nL 153.571938 624.715989 \nL 150.766509 625.565971 \nL 150.426448 625.655851 \nL 148.622409 626.998099 \nL 147.96108 627.155936 \nL 145.15565 627.730163 \nL 142.350221 628.170146 \nL 141.118003 628.340346 \nL 139.544792 628.533178 \nL 136.739362 628.828522 \nL 133.933933 629.093951 \nL 131.128504 629.367019 \nL 128.425126 629.682593 \nL 128.323074 629.722005 \nL 125.626138 631.084307 \nL 125.517645 631.102252 \nL 122.712216 631.636445 \nL 119.906787 632.345618 \nL 119.672896 632.426554 \nL 117.972859 633.777296 \nL 118.00148 635.136534 \nL 117.101357 635.76136 \nL 116.160722 636.487276 \nL 115.141119 637.838019 \nL 116.013754 639.188761 \nL 114.473411 640.547999 \nL 114.295928 640.717863 \nL 112.527698 641.949713 \nL 113.267849 643.266474 \nL 114.295928 644.018219 \nL 114.726972 644.676683 \nL 114.295928 644.908032 \nL 112.041437 646.044416 \nL 112.928548 647.403654 \nL 111.490499 648.165889 \nL 110.926978 648.762891 \nL 109.244105 650.130624 \nL 108.685069 650.814952 \nL 108.244258 651.506852 \nL 106.931205 652.874585 \nL 105.87964 653.386861 \nL 103.343171 654.242318 \nL 103.074211 654.830585 \nL 102.658911 655.661022 \nL 102.168817 657.028755 \nL 100.268782 657.85519 \nL 97.463352 658.369404 \nL 96.287977 658.413479 \nL 94.657923 658.656559 \nz\n\" style=\"fill:#e53cc3;\"/>\n    <path clip-path=\"url(#p5e09f7d5ca)\" d=\"M 167.599085 637.195256 \nL 170.404514 636.990688 \nL 173.209943 636.661817 \nL 174.296565 636.487276 \nL 176.015372 635.575458 \nL 177.01493 635.136534 \nL 178.820802 634.6211 \nL 180.665083 633.777296 \nL 181.626231 633.443881 \nL 184.43166 632.68426 \nL 185.492763 632.426554 \nL 185.697709 631.084307 \nL 184.43166 630.5518 \nL 181.626231 630.594742 \nL 179.392597 631.084307 \nL 178.820802 631.128216 \nL 176.015372 631.505465 \nL 173.209943 632.014506 \nL 171.68361 632.426554 \nL 170.404514 632.82592 \nL 167.599085 633.602845 \nL 167.011426 633.777296 \nL 167.599085 634.31757 \nL 169.397052 635.136534 \nL 167.599085 635.881972 \nL 166.33607 636.487276 \nz\n\" style=\"fill:#e53cc3;\"/>\n    <path clip-path=\"url(#p5e09f7d5ca)\" d=\"M 195.653378 628.397614 \nL 196.766756 628.340346 \nL 195.653378 628.255092 \nL 194.201148 628.340346 \nz\n\" style=\"fill:#e53cc3;\"/>\n    <path clip-path=\"url(#p5e09f7d5ca)\" d=\"M 204.069665 626.025839 \nL 206.875095 625.914099 \nL 208.317673 625.655851 \nL 206.875095 625.53871 \nL 204.069665 625.606576 \nL 203.424237 625.655851 \nz\n\" style=\"fill:#e53cc3;\"/>\n    <path clip-path=\"url(#p5e09f7d5ca)\" d=\"M 265.78911 617.088805 \nL 268.594539 617.141955 \nL 271.399968 617.099724 \nL 274.205398 617.029037 \nL 277.010827 616.941643 \nL 279.816256 616.839371 \nL 282.621686 616.724137 \nL 285.427115 616.589534 \nL 288.232544 616.430195 \nL 291.037973 616.244404 \nL 291.054968 616.243131 \nL 293.843403 616.01427 \nL 296.648832 615.742893 \nL 299.454261 615.406333 \nL 302.259691 614.978616 \nL 302.795329 614.883893 \nL 302.259691 614.728408 \nL 299.454261 614.056089 \nL 296.648832 613.581499 \nL 296.476779 613.558636 \nL 293.843403 613.386897 \nL 291.037973 613.262999 \nL 288.232544 613.193613 \nL 285.427115 613.167121 \nL 282.621686 613.184007 \nL 279.816256 613.244657 \nL 277.010827 613.350138 \nL 274.205398 613.510879 \nL 273.612614 613.558636 \nL 271.399968 613.83517 \nL 268.594539 614.295648 \nL 265.855755 614.883893 \nL 265.78911 614.945339 \nL 263.206266 616.243131 \nz\nM 271.373969 614.883893 \nL 271.399968 614.879089 \nL 274.205398 614.494527 \nL 277.010827 614.219495 \nL 279.816256 614.040861 \nL 282.621686 613.953159 \nL 285.427115 613.953839 \nL 288.232544 614.046743 \nL 291.037973 614.244199 \nL 293.843403 614.557739 \nL 295.886628 614.883893 \nL 293.843403 615.110626 \nL 291.037973 615.356453 \nL 288.232544 615.551473 \nL 285.427115 615.697777 \nL 282.621686 615.800778 \nL 279.816256 615.852607 \nL 277.010827 615.828857 \nL 274.205398 615.642155 \nL 271.399968 614.900011 \nz\n\" style=\"fill:#e53cc3;\"/>\n   </g>\n   <g id=\"PathCollection_5\">\n    <path clip-path=\"url(#p5e09f7d5ca)\" d=\"M 94.657923 658.656559 \nL 96.287977 658.413479 \nL 97.463352 658.369404 \nL 100.268782 657.85519 \nL 102.168817 657.028755 \nL 102.658911 655.661022 \nL 103.074211 654.830585 \nL 103.343171 654.242318 \nL 105.87964 653.386861 \nL 106.931205 652.874585 \nL 108.244258 651.506852 \nL 108.685069 650.814952 \nL 109.244105 650.130624 \nL 110.926978 648.762891 \nL 111.490499 648.165889 \nL 112.928548 647.403654 \nL 112.041437 646.044416 \nL 114.295928 644.908032 \nL 114.726972 644.676683 \nL 114.295928 644.018219 \nL 113.267849 643.266474 \nL 112.527698 641.949713 \nL 114.295928 640.717863 \nL 114.473411 640.547999 \nL 116.013754 639.188761 \nL 115.141119 637.838019 \nL 116.160722 636.487276 \nL 117.101357 635.76136 \nL 118.00148 635.136534 \nL 117.972859 633.777296 \nL 119.672896 632.426554 \nL 119.906787 632.345618 \nL 122.712216 631.636445 \nL 125.517645 631.102252 \nL 125.626138 631.084307 \nL 128.323074 629.722005 \nL 128.425126 629.682593 \nL 131.128504 629.367019 \nL 133.933933 629.093951 \nL 136.739362 628.828522 \nL 139.544792 628.533178 \nL 141.118003 628.340346 \nL 142.350221 628.170146 \nL 145.15565 627.730163 \nL 147.96108 627.155936 \nL 148.622409 626.998099 \nL 150.426448 625.655851 \nL 150.766509 625.565971 \nL 153.571938 624.715989 \nL 154.643118 624.313604 \nL 156.377367 623.806747 \nL 158.823744 622.971357 \nL 159.182797 622.831023 \nL 161.966824 621.595129 \nL 161.988226 621.588008 \nL 164.793655 620.599921 \nL 165.595932 620.269872 \nL 167.599085 619.659336 \nL 169.670879 618.93612 \nL 170.404514 618.671351 \nL 173.209943 617.596938 \nL 173.305755 617.559892 \nL 176.015372 616.740102 \nL 177.375839 616.243131 \nL 178.820802 615.783214 \nL 181.346791 614.883893 \nL 181.626231 614.789737 \nL 184.43166 613.911551 \nL 185.450052 613.558636 \nL 187.23709 613.05572 \nL 189.703391 612.23338 \nL 190.042519 612.115981 \nL 192.847948 611.260515 \nL 193.993496 610.882637 \nL 195.653378 610.359895 \nL 197.980578 609.565876 \nL 198.458807 609.415291 \nL 201.264236 608.599054 \nL 202.471235 608.206638 \nL 204.069665 607.699924 \nL 206.672433 606.881382 \nL 206.875095 606.818702 \nL 209.680524 606.000764 \nL 211.035385 605.556125 \nL 212.485953 605.08805 \nL 215.291383 604.219151 \nL 215.366505 604.196887 \nL 218.096812 603.367455 \nL 219.642231 602.87163 \nL 220.902241 602.477764 \nL 223.70767 601.6734 \nL 224.283483 601.512393 \nL 226.5131 600.768821 \nL 228.247908 600.195631 \nL 229.318529 599.846171 \nL 232.123958 598.990736 \nL 232.644538 598.836394 \nL 234.929388 598.086049 \nL 236.824368 597.528127 \nL 237.734817 597.253458 \nL 240.540246 596.453902 \nL 241.478556 596.18588 \nL 243.345676 595.469144 \nL 245.27199 594.852128 \nL 246.151105 594.553973 \nL 248.956534 593.714608 \nL 249.664257 593.518376 \nL 251.761963 592.354031 \nL 252.135322 592.19312 \nL 254.567393 591.372275 \nL 256.579753 590.859368 \nL 257.372822 590.633888 \nL 260.178251 590.091956 \nL 262.983681 589.736991 \nL 265.04639 589.534111 \nL 265.78911 589.271966 \nL 268.594539 588.676832 \nL 271.399968 588.325606 \nL 272.651902 588.200359 \nL 273.026666 586.875102 \nL 274.205398 586.673645 \nL 277.010827 586.271394 \nL 279.816256 585.918425 \nL 282.621686 585.573035 \nL 282.803006 585.549846 \nL 282.621686 585.110828 \nL 282.091111 584.224589 \nL 279.816256 584.002749 \nL 277.010827 583.833324 \nL 274.205398 583.762225 \nL 271.399968 583.782302 \nL 268.594539 583.890304 \nL 265.78911 584.086883 \nL 264.480815 584.224589 \nL 262.983681 584.442367 \nL 260.178251 584.889885 \nL 257.372822 585.340928 \nL 256.205512 585.549846 \nL 254.567393 585.825973 \nL 251.761963 586.225531 \nL 248.956534 586.568809 \nL 246.443799 586.875102 \nL 246.151105 587.017434 \nL 243.345676 588.159255 \nL 243.224159 588.200359 \nL 240.540246 588.440915 \nL 237.734817 588.733056 \nL 234.929388 589.101443 \nL 232.497242 589.534111 \nL 232.123958 589.583726 \nL 229.318529 590.027074 \nL 226.5131 590.556457 \nL 225.228707 590.859368 \nL 223.70767 591.175519 \nL 220.902241 591.847477 \nL 219.689113 592.19312 \nL 218.096812 592.661322 \nL 215.836391 593.518376 \nL 215.291383 593.6489 \nL 212.485953 594.346094 \nL 210.60061 594.852128 \nL 209.680524 595.141216 \nL 207.087124 596.18588 \nL 206.875095 596.23582 \nL 204.069665 596.893113 \nL 201.541909 597.528127 \nL 201.264236 597.614618 \nL 198.458807 598.675958 \nL 198.107709 598.836394 \nL 195.653378 599.473157 \nL 193.306293 600.195631 \nL 192.847948 600.338676 \nL 190.042519 601.288229 \nL 189.455348 601.512393 \nL 187.23709 602.278752 \nL 185.866444 602.87163 \nL 184.43166 603.289449 \nL 181.766585 604.196887 \nL 181.626231 604.2474 \nL 178.820802 605.445322 \nL 178.599599 605.556125 \nL 176.015372 606.205509 \nL 173.817188 606.881382 \nL 173.209943 607.108798 \nL 170.75698 608.206638 \nL 170.404514 608.309724 \nL 167.599085 609.174985 \nL 166.566521 609.565876 \nL 164.793655 610.091322 \nL 162.564452 610.882637 \nL 161.988226 611.085099 \nL 159.241525 612.23338 \nL 159.182797 612.249704 \nL 156.377367 612.982224 \nL 154.606042 613.558636 \nL 153.571938 613.877821 \nL 150.766509 614.870746 \nL 150.733488 614.883893 \nL 147.96108 615.695453 \nL 146.42836 616.243131 \nL 145.15565 616.574585 \nL 142.350221 617.322371 \nL 141.6021 617.559892 \nL 139.544792 618.215489 \nL 137.521075 618.93612 \nL 136.739362 619.159557 \nL 133.933933 619.959633 \nL 132.992054 620.269872 \nL 131.128504 620.765694 \nL 128.323074 621.499564 \nL 127.984206 621.595129 \nL 125.517645 622.322105 \nL 123.318739 622.971357 \nL 122.712216 623.145547 \nL 119.906787 623.886431 \nL 118.338406 624.313604 \nL 117.101357 624.655952 \nL 114.295928 625.314208 \nL 112.769844 625.655851 \nL 111.490499 626.219248 \nL 108.685069 626.814552 \nL 106.670915 626.998099 \nL 105.87964 627.044414 \nL 103.074211 627.117987 \nL 100.268782 627.103371 \nL 97.463352 627.002566 \nL 97.399891 626.998099 \nL 94.657923 626.811895 \nL 91.852494 626.512009 \nL 89.047064 626.047523 \nL 87.480367 625.655851 \nL 86.241635 625.288554 \nL 83.474769 624.313604 \nL 83.436206 624.294923 \nL 81.168544 622.971357 \nL 80.630777 622.777888 \nL 77.825347 621.665584 \nL 77.673195 621.595129 \nL 75.019918 620.574791 \nL 74.331196 620.269872 \nL 72.214489 618.986212 \nL 72.140721 618.93612 \nL 70.112725 617.559892 \nL 69.409059 617.209327 \nL 67.715169 616.243131 \nL 66.60363 615.199764 \nL 66.285504 614.883893 \nL 64.512701 613.558636 \nL 63.798201 613.004389 \nL 62.842737 612.23338 \nL 62.376251 610.882637 \nL 60.992771 609.617264 \nL 60.929187 609.565876 \nL 60.384949 608.206638 \nL 58.450675 606.881382 \nL 58.187342 606.575778 \nL 56.282198 605.556125 \nL 55.381913 605.228672 \nL 53.794563 605.556125 \nL 52.576484 605.868937 \nL 51.735659 606.881382 \nL 50.24927 608.206638 \nL 49.771054 608.848384 \nL 49.463282 609.565876 \nL 49.16647 610.882637 \nL 48.609668 612.23338 \nL 48.428896 613.558636 \nL 48.359688 614.883893 \nL 48.118963 616.243131 \nL 48.319625 617.559892 \nL 48.470156 618.93612 \nL 48.592792 620.269872 \nL 49.204624 621.595129 \nL 49.771054 622.753566 \nL 49.892728 622.971357 \nL 50.633956 624.313604 \nL 52.146964 625.655851 \nL 52.576484 626.056741 \nL 53.888668 626.998099 \nL 55.381913 627.832159 \nL 56.654722 628.340346 \nL 58.187342 628.771681 \nL 60.992771 629.378136 \nL 62.620924 629.682593 \nL 63.798201 630.234733 \nL 65.71602 631.084307 \nL 66.60363 631.304927 \nL 69.409059 632.177044 \nL 70.006382 632.426554 \nL 70.899131 633.777296 \nL 71.102429 635.136534 \nL 72.123678 636.487276 \nL 71.413881 637.838019 \nL 71.723728 639.188761 \nL 72.214489 639.685446 \nL 73.107714 640.547999 \nL 73.060035 641.949713 \nL 74.920871 643.266474 \nL 75.019918 643.315719 \nL 76.940629 644.676683 \nL 77.825347 645.524077 \nL 78.475094 646.044416 \nL 80.630777 646.973175 \nL 81.806145 647.403654 \nL 80.923633 648.762891 \nL 82.514947 650.130624 \nL 83.436206 651.136671 \nL 83.742363 651.506852 \nL 85.652399 652.874585 \nL 86.241635 653.397335 \nL 87.872349 654.242318 \nL 89.010586 655.661022 \nL 87.219727 657.028755 \nL 89.047064 657.715793 \nL 91.852494 658.264804 \nL 93.926053 658.413479 \nz\nM 91.797058 657.028755 \nL 91.852494 657.000715 \nL 94.657923 656.42161 \nL 97.463352 656.878355 \nL 97.650625 657.028755 \nL 97.463352 657.070926 \nL 94.657923 657.267796 \nL 91.852494 657.041661 \nz\nM 89.106588 652.874585 \nL 89.047064 652.824213 \nL 87.685132 651.506852 \nL 87.607256 650.130624 \nL 86.241635 649.674921 \nL 84.568298 648.762891 \nL 86.241635 648.030738 \nL 89.047064 647.484672 \nL 89.863212 647.403654 \nL 89.047064 647.227354 \nL 86.241635 646.454648 \nL 85.011534 646.044416 \nL 83.436206 645.231963 \nL 82.629093 644.676683 \nL 83.436206 644.118682 \nL 86.241635 643.395326 \nL 87.762829 643.266474 \nL 86.241635 643.212788 \nL 83.436206 643.022801 \nL 80.630777 642.660127 \nL 77.918037 641.949713 \nL 77.825347 641.890188 \nL 76.597665 640.547999 \nL 75.222424 639.188761 \nL 75.019918 638.942772 \nL 74.340703 637.838019 \nL 74.53608 636.487276 \nL 73.569833 635.136534 \nL 73.130205 633.777296 \nL 72.214489 632.448523 \nL 72.2 632.426554 \nL 69.409059 631.217142 \nL 68.977697 631.084307 \nL 66.60363 630.001266 \nL 65.9202 629.682593 \nL 63.798201 629.291124 \nL 60.992771 628.747579 \nL 59.25909 628.340346 \nL 58.187342 628.016991 \nL 55.789457 626.998099 \nL 55.381913 626.798026 \nL 53.703299 625.655851 \nL 52.576484 624.935719 \nL 51.851139 624.313604 \nL 50.99207 622.971357 \nL 50.194944 621.595129 \nL 49.771054 620.893818 \nL 49.453354 620.269872 \nL 49.315398 618.93612 \nL 49.145553 617.559892 \nL 48.920595 616.243131 \nL 49.223182 614.883893 \nL 49.323645 613.558636 \nL 49.560493 612.23338 \nL 49.771054 611.772402 \nL 50.459341 610.882637 \nL 51.082322 609.565876 \nL 52.173824 608.206638 \nL 52.576484 607.866452 \nL 55.381913 607.332327 \nL 58.187342 608.169016 \nL 58.245454 608.206638 \nL 59.147564 609.565876 \nL 60.825994 610.882637 \nL 60.992771 611.139429 \nL 61.53356 612.23338 \nL 63.251658 613.558636 \nL 63.798201 613.94852 \nL 65.122289 614.883893 \nL 66.527189 616.243131 \nL 66.60363 616.288975 \nL 68.912298 617.559892 \nL 69.409059 617.910297 \nL 71.012083 618.93612 \nL 72.214489 619.737534 \nL 73.110396 620.269872 \nL 75.019918 621.098457 \nL 76.340635 621.595129 \nL 77.825347 622.267675 \nL 79.612398 622.971357 \nL 80.630777 623.669 \nL 81.774557 624.313604 \nL 83.436206 625.02582 \nL 85.29112 625.655851 \nL 86.241635 625.973578 \nL 89.047064 626.600938 \nL 91.852494 626.995452 \nL 91.87978 626.998099 \nL 94.657923 627.277836 \nL 97.463352 627.445668 \nL 100.268782 627.533539 \nL 103.074211 627.55553 \nL 105.87964 627.511966 \nL 108.685069 627.387477 \nL 111.490499 627.136971 \nL 112.470074 626.998099 \nL 114.295928 626.204537 \nL 114.915557 625.655851 \nL 117.101357 625.138136 \nL 119.906787 624.344397 \nL 119.998921 624.313604 \nL 122.712216 623.569168 \nL 124.744775 622.971357 \nL 125.517645 622.737744 \nL 128.323074 621.891736 \nL 129.207917 621.595129 \nL 131.128504 621.072681 \nL 133.933933 620.312757 \nL 134.073666 620.269872 \nL 136.739362 619.444466 \nL 138.489332 618.93612 \nL 139.544792 618.554248 \nL 142.350221 617.635362 \nL 142.572995 617.559892 \nL 145.15565 616.809545 \nL 147.299087 616.243131 \nL 147.96108 616.003166 \nL 150.766509 615.113801 \nL 151.515211 614.883893 \nL 153.571938 614.143721 \nL 155.441233 613.558636 \nL 156.377367 613.24979 \nL 159.182797 612.459626 \nL 159.986747 612.23338 \nL 161.988226 611.386379 \nL 163.402042 610.882637 \nL 164.793655 610.381808 \nL 167.503661 609.565876 \nL 167.599085 609.529188 \nL 170.404514 608.572279 \nL 171.636514 608.206638 \nL 173.209943 607.492211 \nL 174.814069 606.881382 \nL 176.015372 606.505921 \nL 178.820802 605.760337 \nL 179.598063 605.556125 \nL 181.626231 604.655834 \nL 182.878066 604.196887 \nL 184.43166 603.658176 \nL 187.078317 602.87163 \nL 187.23709 602.801565 \nL 190.042519 601.757875 \nL 190.849275 601.512393 \nL 192.847948 600.800612 \nL 194.740581 600.195631 \nL 195.653378 599.907956 \nL 198.458807 599.138843 \nL 199.654747 598.836394 \nL 201.264236 598.196254 \nL 203.345606 597.528127 \nL 204.069665 597.34076 \nL 206.875095 596.668542 \nL 208.864479 596.18588 \nL 209.680524 595.847426 \nL 212.485953 594.926909 \nL 212.766645 594.852128 \nL 215.291383 594.210642 \nL 218.075663 593.518376 \nL 218.096812 593.510056 \nL 220.902241 592.619641 \nL 222.624447 592.19312 \nL 223.70767 591.918952 \nL 226.5131 591.324427 \nL 228.976478 590.859368 \nL 229.318529 590.790143 \nL 232.123958 590.345908 \nL 234.929388 589.980664 \nL 237.734817 589.659504 \nL 239.023193 589.534111 \nL 240.540246 589.373973 \nL 243.345676 589.170492 \nL 246.151105 589.035407 \nL 248.956534 588.967235 \nL 251.761963 588.988762 \nL 254.567393 589.190399 \nL 256.199936 589.534111 \nL 254.567393 589.806346 \nL 251.925412 590.859368 \nL 251.761963 590.906588 \nL 248.956534 592.018482 \nL 248.662344 592.19312 \nL 246.900588 593.518376 \nL 246.151105 593.734516 \nL 243.345676 594.638364 \nL 242.777717 594.852128 \nL 240.540246 595.664896 \nL 239.412188 596.18588 \nL 237.734817 596.666075 \nL 234.929388 597.486174 \nL 234.798693 597.528127 \nL 232.123958 598.385395 \nL 230.95477 598.836394 \nL 229.318529 599.33436 \nL 226.607938 600.195631 \nL 226.5131 600.226122 \nL 223.70767 601.179055 \nL 222.79231 601.512393 \nL 220.902241 602.05905 \nL 218.24236 602.87163 \nL 218.096812 602.917251 \nL 215.291383 603.823516 \nL 214.17728 604.196887 \nL 212.485953 604.713473 \nL 209.822108 605.556125 \nL 209.680524 605.601661 \nL 206.875095 606.498774 \nL 205.61625 606.881382 \nL 204.069665 607.359226 \nL 201.346804 608.206638 \nL 201.264236 608.232985 \nL 198.458807 609.13011 \nL 197.053573 609.565876 \nL 195.653378 610.036248 \nL 192.918047 610.882637 \nL 192.847948 610.905351 \nL 190.042519 611.838912 \nL 188.887576 612.23338 \nL 187.23709 612.776225 \nL 184.43166 613.553876 \nL 184.415909 613.558636 \nL 181.626231 614.52207 \nL 180.537952 614.883893 \nL 178.820802 615.487006 \nL 176.407164 616.243131 \nL 176.015372 616.383959 \nL 173.209943 617.320029 \nL 172.43239 617.559892 \nL 170.404514 618.334188 \nL 168.710051 618.93612 \nL 167.599085 619.31775 \nL 164.793655 620.182285 \nL 164.516662 620.269872 \nL 161.988226 621.237541 \nL 160.89426 621.595129 \nL 159.182797 622.34133 \nL 157.536252 622.971357 \nL 156.377367 623.358653 \nL 153.571938 624.186164 \nL 153.120339 624.313604 \nL 150.766509 625.09479 \nL 148.578143 625.655851 \nL 147.96108 626.058231 \nL 146.085416 626.998099 \nL 145.15565 627.189539 \nL 142.350221 627.675728 \nL 139.544792 628.062986 \nL 137.246152 628.340346 \nL 136.739362 628.393478 \nL 133.933933 628.658765 \nL 131.128504 628.905991 \nL 128.323074 629.173863 \nL 125.517645 629.526928 \nL 124.627667 629.682593 \nL 122.712216 630.984141 \nL 122.603048 631.084307 \nL 119.906787 631.682923 \nL 117.686351 632.426554 \nL 117.101357 632.85467 \nL 115.922578 633.777296 \nL 115.72666 635.136534 \nL 114.295928 636.174184 \nL 113.896695 636.487276 \nL 112.402383 637.838019 \nL 112.74879 639.188761 \nL 111.490499 640.301451 \nL 111.220536 640.547999 \nL 108.685069 641.634345 \nL 107.571407 641.949713 \nL 105.87964 642.530244 \nL 103.074211 642.977578 \nL 100.268782 643.186906 \nL 98.283384 643.266474 \nL 100.268782 643.358663 \nL 103.074211 643.558582 \nL 105.87964 643.882686 \nL 108.685069 644.472485 \nL 109.305016 644.676683 \nL 108.685069 644.938129 \nL 105.87964 645.977791 \nL 105.666217 646.044416 \nL 105.200719 647.403654 \nL 105.87964 647.566012 \nL 107.516222 648.762891 \nL 105.87964 649.608472 \nL 104.359555 650.130624 \nL 104.543799 651.506852 \nL 103.579723 652.874585 \nL 103.074211 653.048963 \nL 100.268782 653.689195 \nL 97.463352 653.997327 \nL 94.657923 654.023964 \nL 91.852494 653.716149 \nz\n\" style=\"fill:#ff8a75;\"/>\n    <path clip-path=\"url(#p5e09f7d5ca)\" d=\"M 271.399968 614.900011 \nL 274.205398 615.642155 \nL 277.010827 615.828857 \nL 279.816256 615.852607 \nL 282.621686 615.800778 \nL 285.427115 615.697777 \nL 288.232544 615.551473 \nL 291.037973 615.356453 \nL 293.843403 615.110626 \nL 295.886628 614.883893 \nL 293.843403 614.557739 \nL 291.037973 614.244199 \nL 288.232544 614.046743 \nL 285.427115 613.953839 \nL 282.621686 613.953159 \nL 279.816256 614.040861 \nL 277.010827 614.219495 \nL 274.205398 614.494527 \nL 271.399968 614.879089 \nL 271.373969 614.883893 \nz\n\" style=\"fill:#ff8a75;\"/>\n   </g>\n   <g id=\"PathCollection_6\">\n    <path clip-path=\"url(#p5e09f7d5ca)\" d=\"M 91.852494 657.041661 \nL 94.657923 657.267796 \nL 97.463352 657.070926 \nL 97.650625 657.028755 \nL 97.463352 656.878355 \nL 94.657923 656.42161 \nL 91.852494 657.000715 \nL 91.797058 657.028755 \nz\n\" style=\"fill:#ffd827;\"/>\n    <path clip-path=\"url(#p5e09f7d5ca)\" d=\"M 91.852494 653.716149 \nL 94.657923 654.023964 \nL 97.463352 653.997327 \nL 100.268782 653.689195 \nL 103.074211 653.048963 \nL 103.579723 652.874585 \nL 104.543799 651.506852 \nL 104.359555 650.130624 \nL 105.87964 649.608472 \nL 107.516222 648.762891 \nL 105.87964 647.566012 \nL 105.200719 647.403654 \nL 105.666217 646.044416 \nL 105.87964 645.977791 \nL 108.685069 644.938129 \nL 109.305016 644.676683 \nL 108.685069 644.472485 \nL 105.87964 643.882686 \nL 103.074211 643.558582 \nL 100.268782 643.358663 \nL 98.283384 643.266474 \nL 100.268782 643.186906 \nL 103.074211 642.977578 \nL 105.87964 642.530244 \nL 107.571407 641.949713 \nL 108.685069 641.634345 \nL 111.220536 640.547999 \nL 111.490499 640.301451 \nL 112.74879 639.188761 \nL 112.402383 637.838019 \nL 113.896695 636.487276 \nL 114.295928 636.174184 \nL 115.72666 635.136534 \nL 115.922578 633.777296 \nL 117.101357 632.85467 \nL 117.686351 632.426554 \nL 119.906787 631.682923 \nL 122.603048 631.084307 \nL 122.712216 630.984141 \nL 124.627667 629.682593 \nL 125.517645 629.526928 \nL 128.323074 629.173863 \nL 131.128504 628.905991 \nL 133.933933 628.658765 \nL 136.739362 628.393478 \nL 137.246152 628.340346 \nL 139.544792 628.062986 \nL 142.350221 627.675728 \nL 145.15565 627.189539 \nL 146.085416 626.998099 \nL 147.96108 626.058231 \nL 148.578143 625.655851 \nL 150.766509 625.09479 \nL 153.120339 624.313604 \nL 153.571938 624.186164 \nL 156.377367 623.358653 \nL 157.536252 622.971357 \nL 159.182797 622.34133 \nL 160.89426 621.595129 \nL 161.988226 621.237541 \nL 164.516662 620.269872 \nL 164.793655 620.182285 \nL 167.599085 619.31775 \nL 168.710051 618.93612 \nL 170.404514 618.334188 \nL 172.43239 617.559892 \nL 173.209943 617.320029 \nL 176.015372 616.383959 \nL 176.407164 616.243131 \nL 178.820802 615.487006 \nL 180.537952 614.883893 \nL 181.626231 614.52207 \nL 184.415909 613.558636 \nL 184.43166 613.553876 \nL 187.23709 612.776225 \nL 188.887576 612.23338 \nL 190.042519 611.838912 \nL 192.847948 610.905351 \nL 192.918047 610.882637 \nL 195.653378 610.036248 \nL 197.053573 609.565876 \nL 198.458807 609.13011 \nL 201.264236 608.232985 \nL 201.346804 608.206638 \nL 204.069665 607.359226 \nL 205.61625 606.881382 \nL 206.875095 606.498774 \nL 209.680524 605.601661 \nL 209.822108 605.556125 \nL 212.485953 604.713473 \nL 214.17728 604.196887 \nL 215.291383 603.823516 \nL 218.096812 602.917251 \nL 218.24236 602.87163 \nL 220.902241 602.05905 \nL 222.79231 601.512393 \nL 223.70767 601.179055 \nL 226.5131 600.226122 \nL 226.607938 600.195631 \nL 229.318529 599.33436 \nL 230.95477 598.836394 \nL 232.123958 598.385395 \nL 234.798693 597.528127 \nL 234.929388 597.486174 \nL 237.734817 596.666075 \nL 239.412188 596.18588 \nL 240.540246 595.664896 \nL 242.777717 594.852128 \nL 243.345676 594.638364 \nL 246.151105 593.734516 \nL 246.900588 593.518376 \nL 248.662344 592.19312 \nL 248.956534 592.018482 \nL 251.761963 590.906588 \nL 251.925412 590.859368 \nL 254.567393 589.806346 \nL 256.199936 589.534111 \nL 254.567393 589.190399 \nL 251.761963 588.988762 \nL 248.956534 588.967235 \nL 246.151105 589.035407 \nL 243.345676 589.170492 \nL 240.540246 589.373973 \nL 239.023193 589.534111 \nL 237.734817 589.659504 \nL 234.929388 589.980664 \nL 232.123958 590.345908 \nL 229.318529 590.790143 \nL 228.976478 590.859368 \nL 226.5131 591.324427 \nL 223.70767 591.918952 \nL 222.624447 592.19312 \nL 220.902241 592.619641 \nL 218.096812 593.510056 \nL 218.075663 593.518376 \nL 215.291383 594.210642 \nL 212.766645 594.852128 \nL 212.485953 594.926909 \nL 209.680524 595.847426 \nL 208.864479 596.18588 \nL 206.875095 596.668542 \nL 204.069665 597.34076 \nL 203.345606 597.528127 \nL 201.264236 598.196254 \nL 199.654747 598.836394 \nL 198.458807 599.138843 \nL 195.653378 599.907956 \nL 194.740581 600.195631 \nL 192.847948 600.800612 \nL 190.849275 601.512393 \nL 190.042519 601.757875 \nL 187.23709 602.801565 \nL 187.078317 602.87163 \nL 184.43166 603.658176 \nL 182.878066 604.196887 \nL 181.626231 604.655834 \nL 179.598063 605.556125 \nL 178.820802 605.760337 \nL 176.015372 606.505921 \nL 174.814069 606.881382 \nL 173.209943 607.492211 \nL 171.636514 608.206638 \nL 170.404514 608.572279 \nL 167.599085 609.529188 \nL 167.503661 609.565876 \nL 164.793655 610.381808 \nL 163.402042 610.882637 \nL 161.988226 611.386379 \nL 159.986747 612.23338 \nL 159.182797 612.459626 \nL 156.377367 613.24979 \nL 155.441233 613.558636 \nL 153.571938 614.143721 \nL 151.515211 614.883893 \nL 150.766509 615.113801 \nL 147.96108 616.003166 \nL 147.299087 616.243131 \nL 145.15565 616.809545 \nL 142.572995 617.559892 \nL 142.350221 617.635362 \nL 139.544792 618.554248 \nL 138.489332 618.93612 \nL 136.739362 619.444466 \nL 134.073666 620.269872 \nL 133.933933 620.312757 \nL 131.128504 621.072681 \nL 129.207917 621.595129 \nL 128.323074 621.891736 \nL 125.517645 622.737744 \nL 124.744775 622.971357 \nL 122.712216 623.569168 \nL 119.998921 624.313604 \nL 119.906787 624.344397 \nL 117.101357 625.138136 \nL 114.915557 625.655851 \nL 114.295928 626.204537 \nL 112.470074 626.998099 \nL 111.490499 627.136971 \nL 108.685069 627.387477 \nL 105.87964 627.511966 \nL 103.074211 627.55553 \nL 100.268782 627.533539 \nL 97.463352 627.445668 \nL 94.657923 627.277836 \nL 91.87978 626.998099 \nL 91.852494 626.995452 \nL 89.047064 626.600938 \nL 86.241635 625.973578 \nL 85.29112 625.655851 \nL 83.436206 625.02582 \nL 81.774557 624.313604 \nL 80.630777 623.669 \nL 79.612398 622.971357 \nL 77.825347 622.267675 \nL 76.340635 621.595129 \nL 75.019918 621.098457 \nL 73.110396 620.269872 \nL 72.214489 619.737534 \nL 71.012083 618.93612 \nL 69.409059 617.910297 \nL 68.912298 617.559892 \nL 66.60363 616.288975 \nL 66.527189 616.243131 \nL 65.122289 614.883893 \nL 63.798201 613.94852 \nL 63.251658 613.558636 \nL 61.53356 612.23338 \nL 60.992771 611.139429 \nL 60.825994 610.882637 \nL 59.147564 609.565876 \nL 58.245454 608.206638 \nL 58.187342 608.169016 \nL 55.381913 607.332327 \nL 52.576484 607.866452 \nL 52.173824 608.206638 \nL 51.082322 609.565876 \nL 50.459341 610.882637 \nL 49.771054 611.772402 \nL 49.560493 612.23338 \nL 49.323645 613.558636 \nL 49.223182 614.883893 \nL 48.920595 616.243131 \nL 49.145553 617.559892 \nL 49.315398 618.93612 \nL 49.453354 620.269872 \nL 49.771054 620.893818 \nL 50.194944 621.595129 \nL 50.99207 622.971357 \nL 51.851139 624.313604 \nL 52.576484 624.935719 \nL 53.703299 625.655851 \nL 55.381913 626.798026 \nL 55.789457 626.998099 \nL 58.187342 628.016991 \nL 59.25909 628.340346 \nL 60.992771 628.747579 \nL 63.798201 629.291124 \nL 65.9202 629.682593 \nL 66.60363 630.001266 \nL 68.977697 631.084307 \nL 69.409059 631.217142 \nL 72.2 632.426554 \nL 72.214489 632.448523 \nL 73.130205 633.777296 \nL 73.569833 635.136534 \nL 74.53608 636.487276 \nL 74.340703 637.838019 \nL 75.019918 638.942772 \nL 75.222424 639.188761 \nL 76.597665 640.547999 \nL 77.825347 641.890188 \nL 77.918037 641.949713 \nL 80.630777 642.660127 \nL 83.436206 643.022801 \nL 86.241635 643.212788 \nL 87.762829 643.266474 \nL 86.241635 643.395326 \nL 83.436206 644.118682 \nL 82.629093 644.676683 \nL 83.436206 645.231963 \nL 85.011534 646.044416 \nL 86.241635 646.454648 \nL 89.047064 647.227354 \nL 89.863212 647.403654 \nL 89.047064 647.484672 \nL 86.241635 648.030738 \nL 84.568298 648.762891 \nL 86.241635 649.674921 \nL 87.607256 650.130624 \nL 87.685132 651.506852 \nL 89.047064 652.824213 \nL 89.106588 652.874585 \nz\nM 94.300861 651.506852 \nL 94.657923 651.354413 \nL 97.463352 651.314426 \nL 98.003954 651.506852 \nL 97.463352 652.292579 \nL 94.657923 651.935266 \nz\nM 88.907189 648.762891 \nL 89.047064 648.724555 \nL 91.852494 648.281705 \nL 94.657923 648.085725 \nL 97.463352 648.055289 \nL 100.268782 648.204207 \nL 103.074211 648.68784 \nL 103.303978 648.762891 \nL 103.074211 648.842071 \nL 100.268782 649.470208 \nL 97.463352 649.747259 \nL 94.657923 649.746662 \nL 91.852494 649.464102 \nL 89.047064 648.816454 \nz\nM 91.324919 644.676683 \nL 91.852494 644.615239 \nL 94.657923 644.477767 \nL 97.463352 644.487208 \nL 100.268782 644.624294 \nL 100.82582 644.676683 \nL 100.268782 644.788992 \nL 97.463352 645.106738 \nL 94.657923 645.132216 \nL 91.852494 644.81104 \nz\nM 84.232143 641.949713 \nL 83.436206 641.801621 \nL 80.630777 640.781163 \nL 80.259937 640.547999 \nL 78.918724 639.188761 \nL 77.825347 638.388733 \nL 77.28617 637.838019 \nL 76.901362 636.487276 \nL 75.957912 635.136534 \nL 75.248358 633.777296 \nL 75.019918 633.473112 \nL 74.300691 632.426554 \nL 72.214489 631.099255 \nL 72.180138 631.084307 \nL 69.409059 629.744606 \nL 69.279419 629.682593 \nL 66.60363 629.169841 \nL 63.798201 628.673927 \nL 62.134776 628.340346 \nL 60.992771 628.070516 \nL 58.187342 627.168443 \nL 57.79949 626.998099 \nL 55.381913 625.770714 \nL 55.217267 625.655851 \nL 53.084863 624.313604 \nL 52.576484 623.734554 \nL 52.052741 622.971357 \nL 51.17368 621.595129 \nL 50.33921 620.269872 \nL 50.187598 618.93612 \nL 49.983988 617.559892 \nL 49.771054 616.6214 \nL 49.701466 616.243131 \nL 49.771054 615.964495 \nL 50.15832 614.883893 \nL 50.368787 613.558636 \nL 50.852495 612.23338 \nL 51.981959 610.882637 \nL 52.576484 609.876555 \nL 53.470843 609.565876 \nL 55.381913 608.97603 \nL 56.438181 609.565876 \nL 58.187342 610.271179 \nL 58.992795 610.882637 \nL 60.077066 612.23338 \nL 60.992771 612.802392 \nL 62.01533 613.558636 \nL 63.798201 614.80483 \nL 63.912397 614.883893 \nL 65.477901 616.243131 \nL 66.60363 616.906659 \nL 67.812307 617.559892 \nL 69.409059 618.665968 \nL 69.839554 618.93612 \nL 71.895138 620.269872 \nL 72.214489 620.430076 \nL 74.95625 621.595129 \nL 75.019918 621.628253 \nL 77.825347 622.869767 \nL 78.089977 622.971357 \nL 80.061272 624.313604 \nL 80.630777 624.620647 \nL 83.169052 625.655851 \nL 83.436206 625.779599 \nL 86.241635 626.655577 \nL 88.06727 626.998099 \nL 89.047064 627.186939 \nL 91.852494 627.541911 \nL 94.657923 627.75679 \nL 97.463352 627.88877 \nL 100.268782 627.963706 \nL 103.074211 627.993074 \nL 105.87964 627.979518 \nL 108.685069 627.916668 \nL 111.490499 627.782518 \nL 114.295928 627.509995 \nL 116.648553 626.998099 \nL 116.956308 625.655851 \nL 117.101357 625.620321 \nL 119.906787 624.885171 \nL 121.572719 624.313604 \nL 122.712216 623.992788 \nL 125.517645 623.166092 \nL 126.107444 622.971357 \nL 128.323074 622.288093 \nL 130.351206 621.595129 \nL 131.128504 621.379668 \nL 133.933933 620.608692 \nL 135.020663 620.269872 \nL 136.739362 619.729374 \nL 139.427463 618.93612 \nL 139.544792 618.893007 \nL 142.350221 617.922469 \nL 143.405751 617.559892 \nL 145.15565 617.044505 \nL 147.96108 616.290465 \nL 148.123662 616.243131 \nL 150.766509 615.351529 \nL 152.270317 614.883893 \nL 153.571938 614.409621 \nL 156.253915 613.558636 \nL 156.377367 613.517356 \nL 159.182797 612.669548 \nL 160.713996 612.23338 \nL 161.988226 611.687659 \nL 164.216995 610.882637 \nL 164.793655 610.672294 \nL 167.599085 609.779744 \nL 168.306746 609.565876 \nL 170.404514 608.834833 \nL 172.49112 608.206638 \nL 173.209943 607.875623 \nL 175.779046 606.881382 \nL 176.015372 606.806332 \nL 178.820802 606.013634 \nL 180.535117 605.556125 \nL 181.626231 605.064268 \nL 183.950032 604.196887 \nL 184.43166 604.026904 \nL 187.23709 603.154037 \nL 188.215904 602.87163 \nL 190.042519 602.17142 \nL 192.161373 601.512393 \nL 192.847948 601.262547 \nL 195.653378 600.341954 \nL 196.131144 600.195631 \nL 198.458807 599.526309 \nL 201.120657 598.836394 \nL 201.264236 598.77789 \nL 204.069665 597.827197 \nL 205.140713 597.528127 \nL 206.875095 597.101264 \nL 209.680524 596.424673 \nL 210.64607 596.18588 \nL 212.485953 595.544153 \nL 214.988797 594.852128 \nL 215.291383 594.772385 \nL 218.096812 594.102671 \nL 220.488486 593.518376 \nL 220.902241 593.38166 \nL 223.70767 592.656232 \nL 225.952125 592.19312 \nL 226.5131 592.069932 \nL 229.318529 591.580412 \nL 232.123958 591.153234 \nL 234.328389 590.859368 \nL 234.929388 590.784465 \nL 237.734817 590.560791 \nL 240.540246 590.439946 \nL 243.345676 590.474255 \nL 245.894372 590.859368 \nL 244.835936 592.19312 \nL 244.085306 593.518376 \nL 243.345676 593.743503 \nL 240.540246 594.742561 \nL 240.284265 594.852128 \nL 237.734817 595.973841 \nL 237.377977 596.18588 \nL 234.929388 596.893946 \nL 232.890668 597.528127 \nL 232.123958 597.766138 \nL 229.318529 598.816851 \nL 229.276704 598.836394 \nL 226.5131 599.71161 \nL 225.150488 600.195631 \nL 223.70767 600.675757 \nL 221.355343 601.512393 \nL 220.902241 601.640336 \nL 218.096812 602.494741 \nL 217.043067 602.87163 \nL 215.291383 603.431167 \nL 212.960429 604.196887 \nL 212.485953 604.338895 \nL 209.680524 605.23808 \nL 208.830758 605.556125 \nL 206.875095 606.178846 \nL 204.521727 606.881382 \nL 204.069665 607.018528 \nL 201.264236 607.9159 \nL 200.468646 608.206638 \nL 198.458807 608.84493 \nL 196.097165 609.565876 \nL 195.653378 609.712601 \nL 192.847948 610.630124 \nL 192.098458 610.882637 \nL 190.042519 611.561843 \nL 188.049074 612.23338 \nL 187.23709 612.496729 \nL 184.43166 613.330191 \nL 183.666394 613.558636 \nL 181.626231 614.254402 \nL 179.706818 614.883893 \nL 178.820802 615.190798 \nL 176.015372 616.096026 \nL 175.579836 616.243131 \nL 173.209943 617.059968 \nL 171.566072 617.559892 \nL 170.404514 617.997025 \nL 167.717597 618.93612 \nL 167.599085 618.976164 \nL 164.793655 619.905802 \nL 163.625214 620.269872 \nL 161.988226 620.887074 \nL 159.782135 621.595129 \nL 159.182797 621.851637 \nL 156.377367 622.916419 \nL 156.219701 622.971357 \nL 153.571938 623.803633 \nL 151.7227 624.313604 \nL 150.766509 624.623608 \nL 147.96108 625.380666 \nL 146.74274 625.655851 \nL 145.15565 626.416623 \nL 143.403455 626.998099 \nL 142.350221 627.181311 \nL 139.544792 627.58515 \nL 136.739362 627.912072 \nL 133.933933 628.198535 \nL 132.446444 628.340346 \nL 131.128504 628.444964 \nL 128.323074 628.652272 \nL 125.517645 628.884284 \nL 122.712216 629.228781 \nL 120.81005 629.682593 \nL 119.906787 630.666426 \nL 119.624773 631.084307 \nL 117.101357 631.802489 \nL 115.77018 632.426554 \nL 114.295928 633.496642 \nL 113.921129 633.777296 \nL 113.49272 635.136534 \nL 111.694384 636.487276 \nL 111.490499 636.644405 \nL 109.617013 637.838019 \nL 109.300107 639.188761 \nL 108.685069 639.721511 \nL 107.721535 640.547999 \nL 105.87964 641.121139 \nL 103.074211 641.703674 \nL 101.316018 641.949713 \nL 100.268782 642.094545 \nL 97.463352 642.328935 \nL 94.657923 642.436457 \nL 91.852494 642.451057 \nL 89.047064 642.376497 \nL 86.241635 642.192618 \nz\n\" style=\"fill:#ffd827;\"/>\n   </g>\n   <g id=\"PathCollection_7\">\n    <path clip-path=\"url(#p5e09f7d5ca)\" d=\"M 94.657923 651.935266 \nL 97.463352 652.292579 \nL 98.003954 651.506852 \nL 97.463352 651.314426 \nL 94.657923 651.354413 \nL 94.300861 651.506852 \nz\n\" style=\"fill:#fffff3;\"/>\n    <path clip-path=\"url(#p5e09f7d5ca)\" d=\"M 89.047064 648.816454 \nL 91.852494 649.464102 \nL 94.657923 649.746662 \nL 97.463352 649.747259 \nL 100.268782 649.470208 \nL 103.074211 648.842071 \nL 103.303978 648.762891 \nL 103.074211 648.68784 \nL 100.268782 648.204207 \nL 97.463352 648.055289 \nL 94.657923 648.085725 \nL 91.852494 648.281705 \nL 89.047064 648.724555 \nL 88.907189 648.762891 \nz\n\" style=\"fill:#fffff3;\"/>\n    <path clip-path=\"url(#p5e09f7d5ca)\" d=\"M 91.852494 644.81104 \nL 94.657923 645.132216 \nL 97.463352 645.106738 \nL 100.268782 644.788992 \nL 100.82582 644.676683 \nL 100.268782 644.624294 \nL 97.463352 644.487208 \nL 94.657923 644.477767 \nL 91.852494 644.615239 \nL 91.324919 644.676683 \nz\n\" style=\"fill:#fffff3;\"/>\n    <path clip-path=\"url(#p5e09f7d5ca)\" d=\"M 86.241635 642.192618 \nL 89.047064 642.376497 \nL 91.852494 642.451057 \nL 94.657923 642.436457 \nL 97.463352 642.328935 \nL 100.268782 642.094545 \nL 101.316018 641.949713 \nL 103.074211 641.703674 \nL 105.87964 641.121139 \nL 107.721535 640.547999 \nL 108.685069 639.721511 \nL 109.300107 639.188761 \nL 109.617013 637.838019 \nL 111.490499 636.644405 \nL 111.694384 636.487276 \nL 113.49272 635.136534 \nL 113.921129 633.777296 \nL 114.295928 633.496642 \nL 115.77018 632.426554 \nL 117.101357 631.802489 \nL 119.624773 631.084307 \nL 119.906787 630.666426 \nL 120.81005 629.682593 \nL 122.712216 629.228781 \nL 125.517645 628.884284 \nL 128.323074 628.652272 \nL 131.128504 628.444964 \nL 132.446444 628.340346 \nL 133.933933 628.198535 \nL 136.739362 627.912072 \nL 139.544792 627.58515 \nL 142.350221 627.181311 \nL 143.403455 626.998099 \nL 145.15565 626.416623 \nL 146.74274 625.655851 \nL 147.96108 625.380666 \nL 150.766509 624.623608 \nL 151.7227 624.313604 \nL 153.571938 623.803633 \nL 156.219701 622.971357 \nL 156.377367 622.916419 \nL 159.182797 621.851637 \nL 159.782135 621.595129 \nL 161.988226 620.887074 \nL 163.625214 620.269872 \nL 164.793655 619.905802 \nL 167.599085 618.976164 \nL 167.717597 618.93612 \nL 170.404514 617.997025 \nL 171.566072 617.559892 \nL 173.209943 617.059968 \nL 175.579836 616.243131 \nL 176.015372 616.096026 \nL 178.820802 615.190798 \nL 179.706818 614.883893 \nL 181.626231 614.254402 \nL 183.666394 613.558636 \nL 184.43166 613.330191 \nL 187.23709 612.496729 \nL 188.049074 612.23338 \nL 190.042519 611.561843 \nL 192.098458 610.882637 \nL 192.847948 610.630124 \nL 195.653378 609.712601 \nL 196.097165 609.565876 \nL 198.458807 608.84493 \nL 200.468646 608.206638 \nL 201.264236 607.9159 \nL 204.069665 607.018528 \nL 204.521727 606.881382 \nL 206.875095 606.178846 \nL 208.830758 605.556125 \nL 209.680524 605.23808 \nL 212.485953 604.338895 \nL 212.960429 604.196887 \nL 215.291383 603.431167 \nL 217.043067 602.87163 \nL 218.096812 602.494741 \nL 220.902241 601.640336 \nL 221.355343 601.512393 \nL 223.70767 600.675757 \nL 225.150488 600.195631 \nL 226.5131 599.71161 \nL 229.276704 598.836394 \nL 229.318529 598.816851 \nL 232.123958 597.766138 \nL 232.890668 597.528127 \nL 234.929388 596.893946 \nL 237.377977 596.18588 \nL 237.734817 595.973841 \nL 240.284265 594.852128 \nL 240.540246 594.742561 \nL 243.345676 593.743503 \nL 244.085306 593.518376 \nL 244.835936 592.19312 \nL 245.894372 590.859368 \nL 243.345676 590.474255 \nL 240.540246 590.439946 \nL 237.734817 590.560791 \nL 234.929388 590.784465 \nL 234.328389 590.859368 \nL 232.123958 591.153234 \nL 229.318529 591.580412 \nL 226.5131 592.069932 \nL 225.952125 592.19312 \nL 223.70767 592.656232 \nL 220.902241 593.38166 \nL 220.488486 593.518376 \nL 218.096812 594.102671 \nL 215.291383 594.772385 \nL 214.988797 594.852128 \nL 212.485953 595.544153 \nL 210.64607 596.18588 \nL 209.680524 596.424673 \nL 206.875095 597.101264 \nL 205.140713 597.528127 \nL 204.069665 597.827197 \nL 201.264236 598.77789 \nL 201.120657 598.836394 \nL 198.458807 599.526309 \nL 196.131144 600.195631 \nL 195.653378 600.341954 \nL 192.847948 601.262547 \nL 192.161373 601.512393 \nL 190.042519 602.17142 \nL 188.215904 602.87163 \nL 187.23709 603.154037 \nL 184.43166 604.026904 \nL 183.950032 604.196887 \nL 181.626231 605.064268 \nL 180.535117 605.556125 \nL 178.820802 606.013634 \nL 176.015372 606.806332 \nL 175.779046 606.881382 \nL 173.209943 607.875623 \nL 172.49112 608.206638 \nL 170.404514 608.834833 \nL 168.306746 609.565876 \nL 167.599085 609.779744 \nL 164.793655 610.672294 \nL 164.216995 610.882637 \nL 161.988226 611.687659 \nL 160.713996 612.23338 \nL 159.182797 612.669548 \nL 156.377367 613.517356 \nL 156.253915 613.558636 \nL 153.571938 614.409621 \nL 152.270317 614.883893 \nL 150.766509 615.351529 \nL 148.123662 616.243131 \nL 147.96108 616.290465 \nL 145.15565 617.044505 \nL 143.405751 617.559892 \nL 142.350221 617.922469 \nL 139.544792 618.893007 \nL 139.427463 618.93612 \nL 136.739362 619.729374 \nL 135.020663 620.269872 \nL 133.933933 620.608692 \nL 131.128504 621.379668 \nL 130.351206 621.595129 \nL 128.323074 622.288093 \nL 126.107444 622.971357 \nL 125.517645 623.166092 \nL 122.712216 623.992788 \nL 121.572719 624.313604 \nL 119.906787 624.885171 \nL 117.101357 625.620321 \nL 116.956308 625.655851 \nL 116.648553 626.998099 \nL 114.295928 627.509995 \nL 111.490499 627.782518 \nL 108.685069 627.916668 \nL 105.87964 627.979518 \nL 103.074211 627.993074 \nL 100.268782 627.963706 \nL 97.463352 627.88877 \nL 94.657923 627.75679 \nL 91.852494 627.541911 \nL 89.047064 627.186939 \nL 88.06727 626.998099 \nL 86.241635 626.655577 \nL 83.436206 625.779599 \nL 83.169052 625.655851 \nL 80.630777 624.620647 \nL 80.061272 624.313604 \nL 78.089977 622.971357 \nL 77.825347 622.869767 \nL 75.019918 621.628253 \nL 74.95625 621.595129 \nL 72.214489 620.430076 \nL 71.895138 620.269872 \nL 69.839554 618.93612 \nL 69.409059 618.665968 \nL 67.812307 617.559892 \nL 66.60363 616.906659 \nL 65.477901 616.243131 \nL 63.912397 614.883893 \nL 63.798201 614.80483 \nL 62.01533 613.558636 \nL 60.992771 612.802392 \nL 60.077066 612.23338 \nL 58.992795 610.882637 \nL 58.187342 610.271179 \nL 56.438181 609.565876 \nL 55.381913 608.97603 \nL 53.470843 609.565876 \nL 52.576484 609.876555 \nL 51.981959 610.882637 \nL 50.852495 612.23338 \nL 50.368787 613.558636 \nL 50.15832 614.883893 \nL 49.771054 615.964495 \nL 49.701466 616.243131 \nL 49.771054 616.6214 \nL 49.983988 617.559892 \nL 50.187598 618.93612 \nL 50.33921 620.269872 \nL 51.17368 621.595129 \nL 52.052741 622.971357 \nL 52.576484 623.734554 \nL 53.084863 624.313604 \nL 55.217267 625.655851 \nL 55.381913 625.770714 \nL 57.79949 626.998099 \nL 58.187342 627.168443 \nL 60.992771 628.070516 \nL 62.134776 628.340346 \nL 63.798201 628.673927 \nL 66.60363 629.169841 \nL 69.279419 629.682593 \nL 69.409059 629.744606 \nL 72.180138 631.084307 \nL 72.214489 631.099255 \nL 74.300691 632.426554 \nL 75.019918 633.473112 \nL 75.248358 633.777296 \nL 75.957912 635.136534 \nL 76.901362 636.487276 \nL 77.28617 637.838019 \nL 77.825347 638.388733 \nL 78.918724 639.188761 \nL 80.259937 640.547999 \nL 80.630777 640.781163 \nL 83.436206 641.801621 \nL 84.232143 641.949713 \nz\nM 84.699133 640.547999 \nL 83.436206 639.558645 \nL 83.06064 639.188761 \nL 80.630777 637.996035 \nL 80.409215 637.838019 \nL 79.299592 636.487276 \nL 78.34445 635.136534 \nL 77.825347 634.503981 \nL 77.356193 633.777296 \nL 76.361499 632.426554 \nL 75.490771 631.084307 \nL 75.019918 630.813078 \nL 72.918392 629.682593 \nL 72.214489 629.510754 \nL 69.409059 628.960427 \nL 66.60363 628.517513 \nL 65.591694 628.340346 \nL 63.798201 628.000568 \nL 60.992771 627.30865 \nL 60.07413 626.998099 \nL 58.187342 626.310213 \nL 56.92579 625.655851 \nL 55.381913 624.958318 \nL 54.367933 624.313604 \nL 53.170486 622.971357 \nL 52.576484 622.281838 \nL 52.121644 621.595129 \nL 51.228597 620.269872 \nL 51.094791 618.93612 \nL 50.915709 617.559892 \nL 50.655489 616.243131 \nL 51.236617 614.883893 \nL 51.556113 613.558636 \nL 52.194205 612.23338 \nL 52.576484 611.787847 \nL 55.243972 610.882637 \nL 55.381913 610.826207 \nL 55.536544 610.882637 \nL 58.187342 611.91196 \nL 58.484693 612.23338 \nL 60.658656 613.558636 \nL 60.992771 613.744625 \nL 62.64722 614.883893 \nL 63.798201 615.741986 \nL 64.39078 616.243131 \nL 66.60363 617.524344 \nL 66.670667 617.559892 \nL 68.697052 618.93612 \nL 69.409059 619.409839 \nL 70.773012 620.269872 \nL 72.214489 620.979729 \nL 73.693729 621.595129 \nL 75.019918 622.270845 \nL 76.643503 622.971357 \nL 77.825347 623.930432 \nL 78.398496 624.313604 \nL 80.630777 625.484639 \nL 81.065606 625.655851 \nL 83.436206 626.716559 \nL 84.5231 626.998099 \nL 86.241635 627.44829 \nL 89.047064 627.855769 \nL 91.852494 628.088716 \nL 94.657923 628.235744 \nL 97.463352 628.331873 \nL 97.852466 628.340346 \nL 100.268782 628.396511 \nL 103.074211 628.43995 \nL 105.87964 628.466418 \nL 108.685069 628.478248 \nL 111.490499 628.476707 \nL 114.295928 628.462258 \nL 116.910711 628.340346 \nL 117.101357 628.333492 \nL 119.906787 628.164931 \nL 120.751863 626.998099 \nL 119.906787 626.59053 \nL 119.052062 625.655851 \nL 119.906787 625.425946 \nL 122.712216 624.484659 \nL 123.101013 624.313604 \nL 125.517645 623.610752 \nL 127.412461 622.971357 \nL 128.323074 622.68445 \nL 131.128504 621.724885 \nL 131.459791 621.595129 \nL 133.933933 620.904627 \nL 135.938823 620.269872 \nL 136.739362 620.014283 \nL 139.544792 619.169895 \nL 140.289461 618.93612 \nL 142.350221 618.209575 \nL 144.216127 617.559892 \nL 145.15565 617.279465 \nL 147.96108 616.505457 \nL 148.851277 616.243131 \nL 150.766509 615.589257 \nL 153.006974 614.883893 \nL 153.571938 614.67552 \nL 156.377367 613.751429 \nL 156.98057 613.558636 \nL 159.182797 612.879471 \nL 161.424117 612.23338 \nL 161.988226 611.988939 \nL 164.793655 610.951229 \nL 165.000999 610.882637 \nL 167.599085 610.018323 \nL 169.077061 609.565876 \nL 170.404514 609.097387 \nL 173.209943 608.239007 \nL 173.320329 608.206638 \nL 176.015372 607.115488 \nL 176.70195 606.881382 \nL 178.820802 606.266931 \nL 181.443928 605.556125 \nL 181.626231 605.472702 \nL 184.43166 604.382267 \nL 185.005199 604.196887 \nL 187.23709 603.480149 \nL 189.308032 602.87163 \nL 190.042519 602.584966 \nL 192.847948 601.682616 \nL 193.464876 601.512393 \nL 195.653378 600.774386 \nL 197.500416 600.195631 \nL 198.458807 599.913775 \nL 201.264236 599.18095 \nL 202.65237 598.836394 \nL 204.069665 598.341558 \nL 206.875095 597.534863 \nL 206.903118 597.528127 \nL 209.680524 596.88323 \nL 212.417776 596.18588 \nL 212.485953 596.161396 \nL 215.291383 595.355698 \nL 217.448522 594.852128 \nL 218.096812 594.692751 \nL 220.902241 594.067102 \nL 223.232873 593.518376 \nL 223.70767 593.389917 \nL 226.5131 592.822228 \nL 229.318529 592.381571 \nL 231.018925 592.19312 \nL 232.123958 592.053752 \nL 234.929388 591.866835 \nL 237.734817 591.898355 \nL 239.39741 592.19312 \nL 240.540246 592.861604 \nL 240.984039 593.518376 \nL 240.540246 593.663239 \nL 237.734817 594.799367 \nL 237.633779 594.852128 \nL 235.343825 596.18588 \nL 234.929388 596.301719 \nL 232.123958 597.125559 \nL 230.921713 597.528127 \nL 229.318529 598.094348 \nL 227.688243 598.836394 \nL 226.5131 599.198776 \nL 223.70767 600.168997 \nL 223.641819 600.195631 \nL 220.902241 601.150026 \nL 219.974762 601.512393 \nL 218.096812 602.075354 \nL 215.825522 602.87163 \nL 215.291383 603.038818 \nL 212.485953 603.955135 \nL 211.818886 604.196887 \nL 209.680524 604.879074 \nL 207.841868 605.556125 \nL 206.875095 605.858918 \nL 204.069665 606.705323 \nL 203.512577 606.881382 \nL 201.264236 607.602615 \nL 199.587187 608.206638 \nL 198.458807 608.559749 \nL 195.653378 609.421189 \nL 195.231041 609.565876 \nL 192.847948 610.360359 \nL 191.276631 610.882637 \nL 190.042519 611.284774 \nL 187.23709 612.218169 \nL 187.197996 612.23338 \nL 184.43166 613.106507 \nL 182.897773 613.558636 \nL 181.626231 613.986735 \nL 178.852125 614.883893 \nL 178.820802 614.89459 \nL 176.015372 615.852706 \nL 174.845333 616.243131 \nL 173.209943 616.799907 \nL 170.674128 617.559892 \nL 170.404514 617.659862 \nL 167.599085 618.682713 \nL 166.89329 618.93612 \nL 164.793655 619.629319 \nL 162.706608 620.269872 \nL 161.988226 620.536607 \nL 159.182797 621.454683 \nL 158.713501 621.595129 \nL 156.377367 622.511517 \nL 155.031531 622.971357 \nL 153.571938 623.421103 \nL 150.766509 624.190329 \nL 150.299431 624.313604 \nL 147.96108 624.975721 \nL 145.15565 625.597246 \nL 144.859144 625.655851 \nL 142.350221 626.549025 \nL 140.318003 626.998099 \nL 139.544792 627.107315 \nL 136.739362 627.424216 \nL 133.933933 627.670017 \nL 131.128504 627.86497 \nL 128.323074 628.022883 \nL 125.517645 628.15574 \nL 122.712216 628.292544 \nL 121.693722 628.340346 \nL 119.906787 628.387093 \nL 117.101357 628.42368 \nL 116.823265 629.682593 \nL 116.563641 631.084307 \nL 114.295928 632.082723 \nL 113.85227 632.426554 \nL 111.96417 633.777296 \nL 111.490499 634.692817 \nL 111.23638 635.136534 \nL 109.454799 636.487276 \nL 108.685069 636.927836 \nL 106.616768 637.838019 \nL 105.87964 638.714632 \nL 105.304003 639.188761 \nL 103.524291 640.547999 \nL 103.074211 640.6487 \nL 100.268782 641.102309 \nL 97.463352 641.374293 \nL 94.657923 641.504934 \nL 91.852494 641.501371 \nL 89.047064 641.33943 \nL 86.241635 640.94835 \nz\n\" style=\"fill:#fffff3;\"/>\n   </g>\n   <g id=\"PathCollection_8\">\n    <path clip-path=\"url(#p5e09f7d5ca)\" d=\"M 86.241635 640.94835 \nL 89.047064 641.33943 \nL 91.852494 641.501371 \nL 94.657923 641.504934 \nL 97.463352 641.374293 \nL 100.268782 641.102309 \nL 103.074211 640.6487 \nL 103.524291 640.547999 \nL 105.304003 639.188761 \nL 105.87964 638.714632 \nL 106.616768 637.838019 \nL 108.685069 636.927836 \nL 109.454799 636.487276 \nL 111.23638 635.136534 \nL 111.490499 634.692817 \nL 111.96417 633.777296 \nL 113.85227 632.426554 \nL 114.295928 632.082723 \nL 116.563641 631.084307 \nL 116.823265 629.682593 \nL 117.101357 628.42368 \nL 119.906787 628.387093 \nL 121.693722 628.340346 \nL 122.712216 628.292544 \nL 125.517645 628.15574 \nL 128.323074 628.022883 \nL 131.128504 627.86497 \nL 133.933933 627.670017 \nL 136.739362 627.424216 \nL 139.544792 627.107315 \nL 140.318003 626.998099 \nL 142.350221 626.549025 \nL 144.859144 625.655851 \nL 145.15565 625.597246 \nL 147.96108 624.975721 \nL 150.299431 624.313604 \nL 150.766509 624.190329 \nL 153.571938 623.421103 \nL 155.031531 622.971357 \nL 156.377367 622.511517 \nL 158.713501 621.595129 \nL 159.182797 621.454683 \nL 161.988226 620.536607 \nL 162.706608 620.269872 \nL 164.793655 619.629319 \nL 166.89329 618.93612 \nL 167.599085 618.682713 \nL 170.404514 617.659862 \nL 170.674128 617.559892 \nL 173.209943 616.799907 \nL 174.845333 616.243131 \nL 176.015372 615.852706 \nL 178.820802 614.89459 \nL 178.852125 614.883893 \nL 181.626231 613.986735 \nL 182.897773 613.558636 \nL 184.43166 613.106507 \nL 187.197996 612.23338 \nL 187.23709 612.218169 \nL 190.042519 611.284774 \nL 191.276631 610.882637 \nL 192.847948 610.360359 \nL 195.231041 609.565876 \nL 195.653378 609.421189 \nL 198.458807 608.559749 \nL 199.587187 608.206638 \nL 201.264236 607.602615 \nL 203.512577 606.881382 \nL 204.069665 606.705323 \nL 206.875095 605.858918 \nL 207.841868 605.556125 \nL 209.680524 604.879074 \nL 211.818886 604.196887 \nL 212.485953 603.955135 \nL 215.291383 603.038818 \nL 215.825522 602.87163 \nL 218.096812 602.075354 \nL 219.974762 601.512393 \nL 220.902241 601.150026 \nL 223.641819 600.195631 \nL 223.70767 600.168997 \nL 226.5131 599.198776 \nL 227.688243 598.836394 \nL 229.318529 598.094348 \nL 230.921713 597.528127 \nL 232.123958 597.125559 \nL 234.929388 596.301719 \nL 235.343825 596.18588 \nL 237.633779 594.852128 \nL 237.734817 594.799367 \nL 240.540246 593.663239 \nL 240.984039 593.518376 \nL 240.540246 592.861604 \nL 239.39741 592.19312 \nL 237.734817 591.898355 \nL 234.929388 591.866835 \nL 232.123958 592.053752 \nL 231.018925 592.19312 \nL 229.318529 592.381571 \nL 226.5131 592.822228 \nL 223.70767 593.389917 \nL 223.232873 593.518376 \nL 220.902241 594.067102 \nL 218.096812 594.692751 \nL 217.448522 594.852128 \nL 215.291383 595.355698 \nL 212.485953 596.161396 \nL 212.417776 596.18588 \nL 209.680524 596.88323 \nL 206.903118 597.528127 \nL 206.875095 597.534863 \nL 204.069665 598.341558 \nL 202.65237 598.836394 \nL 201.264236 599.18095 \nL 198.458807 599.913775 \nL 197.500416 600.195631 \nL 195.653378 600.774386 \nL 193.464876 601.512393 \nL 192.847948 601.682616 \nL 190.042519 602.584966 \nL 189.308032 602.87163 \nL 187.23709 603.480149 \nL 185.005199 604.196887 \nL 184.43166 604.382267 \nL 181.626231 605.472702 \nL 181.443928 605.556125 \nL 178.820802 606.266931 \nL 176.70195 606.881382 \nL 176.015372 607.115488 \nL 173.320329 608.206638 \nL 173.209943 608.239007 \nL 170.404514 609.097387 \nL 169.077061 609.565876 \nL 167.599085 610.018323 \nL 165.000999 610.882637 \nL 164.793655 610.951229 \nL 161.988226 611.988939 \nL 161.424117 612.23338 \nL 159.182797 612.879471 \nL 156.98057 613.558636 \nL 156.377367 613.751429 \nL 153.571938 614.67552 \nL 153.006974 614.883893 \nL 150.766509 615.589257 \nL 148.851277 616.243131 \nL 147.96108 616.505457 \nL 145.15565 617.279465 \nL 144.216127 617.559892 \nL 142.350221 618.209575 \nL 140.289461 618.93612 \nL 139.544792 619.169895 \nL 136.739362 620.014283 \nL 135.938823 620.269872 \nL 133.933933 620.904627 \nL 131.459791 621.595129 \nL 131.128504 621.724885 \nL 128.323074 622.68445 \nL 127.412461 622.971357 \nL 125.517645 623.610752 \nL 123.101013 624.313604 \nL 122.712216 624.484659 \nL 119.906787 625.425946 \nL 119.052062 625.655851 \nL 119.906787 626.59053 \nL 120.751863 626.998099 \nL 119.906787 628.164931 \nL 117.101357 628.333492 \nL 116.910711 628.340346 \nL 114.295928 628.462258 \nL 111.490499 628.476707 \nL 108.685069 628.478248 \nL 105.87964 628.466418 \nL 103.074211 628.43995 \nL 100.268782 628.396511 \nL 97.852466 628.340346 \nL 97.463352 628.331873 \nL 94.657923 628.235744 \nL 91.852494 628.088716 \nL 89.047064 627.855769 \nL 86.241635 627.44829 \nL 84.5231 626.998099 \nL 83.436206 626.716559 \nL 81.065606 625.655851 \nL 80.630777 625.484639 \nL 78.398496 624.313604 \nL 77.825347 623.930432 \nL 76.643503 622.971357 \nL 75.019918 622.270845 \nL 73.693729 621.595129 \nL 72.214489 620.979729 \nL 70.773012 620.269872 \nL 69.409059 619.409839 \nL 68.697052 618.93612 \nL 66.670667 617.559892 \nL 66.60363 617.524344 \nL 64.39078 616.243131 \nL 63.798201 615.741986 \nL 62.64722 614.883893 \nL 60.992771 613.744625 \nL 60.658656 613.558636 \nL 58.484693 612.23338 \nL 58.187342 611.91196 \nL 55.536544 610.882637 \nL 55.381913 610.826207 \nL 55.243972 610.882637 \nL 52.576484 611.787847 \nL 52.194205 612.23338 \nL 51.556113 613.558636 \nL 51.236617 614.883893 \nL 50.655489 616.243131 \nL 50.915709 617.559892 \nL 51.094791 618.93612 \nL 51.228597 620.269872 \nL 52.121644 621.595129 \nL 52.576484 622.281838 \nL 53.170486 622.971357 \nL 54.367933 624.313604 \nL 55.381913 624.958318 \nL 56.92579 625.655851 \nL 58.187342 626.310213 \nL 60.07413 626.998099 \nL 60.992771 627.30865 \nL 63.798201 628.000568 \nL 65.591694 628.340346 \nL 66.60363 628.517513 \nL 69.409059 628.960427 \nL 72.214489 629.510754 \nL 72.918392 629.682593 \nL 75.019918 630.813078 \nL 75.490771 631.084307 \nL 76.361499 632.426554 \nL 77.356193 633.777296 \nL 77.825347 634.503981 \nL 78.34445 635.136534 \nL 79.299592 636.487276 \nL 80.409215 637.838019 \nL 80.630777 637.996035 \nL 83.06064 639.188761 \nL 83.436206 639.558645 \nL 84.699133 640.547999 \nz\nM 89.036107 639.188761 \nL 86.241635 638.58822 \nL 84.125042 637.838019 \nL 83.436206 637.572925 \nL 81.832111 636.487276 \nL 80.820708 635.136534 \nL 80.630777 634.983174 \nL 79.520563 633.777296 \nL 78.408894 632.426554 \nL 79.023857 631.084307 \nL 77.825347 630.233055 \nL 76.979987 629.682593 \nL 75.019918 628.973057 \nL 72.214489 628.533495 \nL 70.761508 628.340346 \nL 69.409059 628.185246 \nL 66.60363 627.776402 \nL 63.798201 627.261152 \nL 62.775902 626.998099 \nL 60.992771 626.527078 \nL 58.71051 625.655851 \nL 58.187342 625.48746 \nL 55.665154 624.313604 \nL 55.381913 624.095621 \nL 54.340361 622.971357 \nL 53.162742 621.595129 \nL 52.576484 620.971674 \nL 52.092503 620.269872 \nL 51.975487 618.93612 \nL 51.819504 617.559892 \nL 51.598771 616.243131 \nL 52.277683 614.883893 \nL 52.576484 613.916584 \nL 52.890566 613.558636 \nL 55.381913 612.305638 \nL 58.187342 613.098257 \nL 58.959304 613.558636 \nL 60.992771 614.659342 \nL 61.326127 614.883893 \nL 63.220659 616.243131 \nL 63.798201 616.572989 \nL 65.508895 617.559892 \nL 66.60363 618.302762 \nL 67.5543 618.93612 \nL 69.409059 620.147145 \nL 69.607511 620.269872 \nL 72.214489 621.529382 \nL 72.376031 621.595129 \nL 75.019918 622.913438 \nL 75.157523 622.971357 \nL 76.688784 624.313604 \nL 77.825347 625.133351 \nL 78.828093 625.655851 \nL 80.630777 626.919945 \nL 80.824721 626.998099 \nL 83.436206 628.02337 \nL 86.081944 628.340346 \nL 86.241635 628.351584 \nL 89.047064 628.511476 \nL 91.852494 628.621046 \nL 94.657923 628.706104 \nL 97.463352 628.778824 \nL 100.268782 628.847876 \nL 103.074211 628.922725 \nL 105.87964 629.018733 \nL 108.685069 629.169878 \nL 111.490499 629.480219 \nL 112.451065 629.682593 \nL 113.27143 631.084307 \nL 111.939135 632.426554 \nL 111.490499 632.733236 \nL 109.950803 633.777296 \nL 108.881564 635.136534 \nL 108.685069 635.280326 \nL 107.046755 636.487276 \nL 105.87964 636.990382 \nL 103.109863 637.838019 \nL 103.074211 637.861328 \nL 100.268782 639.008708 \nL 99.351508 639.188761 \nL 97.463352 639.994466 \nL 94.657923 640.533429 \nL 91.852494 640.266154 \nL 89.047064 639.195997 \nz\nM 125.839735 626.998099 \nL 125.517645 626.96939 \nL 122.712216 626.389145 \nL 121.24362 625.655851 \nL 122.712216 625.189518 \nL 124.65224 624.313604 \nL 125.517645 624.055413 \nL 128.323074 623.118164 \nL 128.700051 622.971357 \nL 131.128504 622.160096 \nL 132.545104 621.595129 \nL 133.933933 621.200562 \nL 136.739362 620.304498 \nL 136.833489 620.269872 \nL 139.544792 619.43776 \nL 141.120711 618.93612 \nL 142.350221 618.496681 \nL 145.005293 617.559892 \nL 145.15565 617.514425 \nL 147.96108 616.720449 \nL 149.561748 616.243131 \nL 150.766509 615.826985 \nL 153.571938 614.932663 \nL 153.723579 614.883893 \nL 156.377367 613.979392 \nL 157.678583 613.558636 \nL 159.182797 613.089393 \nL 161.988226 612.271877 \nL 162.115592 612.23338 \nL 164.793655 611.199845 \nL 165.740809 610.882637 \nL 167.599085 610.256903 \nL 169.828187 609.565876 \nL 170.404514 609.359941 \nL 173.209943 608.47587 \nL 174.116009 608.206638 \nL 176.015372 607.427555 \nL 177.593518 606.881382 \nL 178.820802 606.520227 \nL 181.626231 605.756838 \nL 182.346668 605.556125 \nL 184.43166 604.726201 \nL 186.041219 604.196887 \nL 187.23709 603.806261 \nL 190.042519 602.972038 \nL 190.399229 602.87163 \nL 192.847948 602.053366 \nL 194.766406 601.512393 \nL 195.653378 601.206819 \nL 198.458807 600.318603 \nL 198.873051 600.195631 \nL 201.264236 599.56404 \nL 204.069665 598.852193 \nL 204.137054 598.836394 \nL 206.875095 598.032332 \nL 208.903943 597.528127 \nL 209.680524 597.341788 \nL 212.485953 596.699731 \nL 214.47262 596.18588 \nL 215.291383 595.94258 \nL 218.096812 595.293939 \nL 220.382195 594.852128 \nL 220.902241 594.735801 \nL 223.70767 594.203253 \nL 226.5131 593.608253 \nL 227.009977 593.518376 \nL 229.318529 593.210514 \nL 232.123958 593.026056 \nL 234.929388 593.110671 \nL 236.819419 593.518376 \nL 234.929388 594.494645 \nL 234.480742 594.852128 \nL 233.141652 596.18588 \nL 232.123958 596.47167 \nL 229.318529 597.352327 \nL 228.841635 597.528127 \nL 226.5131 598.541558 \nL 226.016916 598.836394 \nL 223.70767 599.590511 \nL 222.174876 600.195631 \nL 220.902241 600.628213 \nL 218.586975 601.512393 \nL 218.096812 601.655967 \nL 215.291383 602.595247 \nL 214.631865 602.87163 \nL 212.485953 603.565769 \nL 210.71248 604.196887 \nL 209.680524 604.520069 \nL 206.875095 605.534616 \nL 206.826473 605.556125 \nL 204.069665 606.41064 \nL 202.556476 606.881382 \nL 201.264236 607.289329 \nL 198.679185 608.206638 \nL 198.458807 608.274568 \nL 195.653378 609.156509 \nL 194.442801 609.565876 \nL 192.847948 610.090593 \nL 190.431778 610.882637 \nL 190.042519 611.007705 \nL 187.23709 611.954874 \nL 186.51311 612.23338 \nL 184.43166 612.882822 \nL 182.109048 613.558636 \nL 181.626231 613.719067 \nL 178.820802 614.651131 \nL 178.15915 614.883893 \nL 176.015372 615.609387 \nL 174.092492 616.243131 \nL 173.209943 616.539846 \nL 170.404514 617.400453 \nL 169.878623 617.559892 \nL 167.599085 618.395653 \nL 166.073291 618.93612 \nL 164.793655 619.352836 \nL 161.988226 620.207794 \nL 161.791017 620.269872 \nL 159.182797 621.159745 \nL 157.703537 621.595129 \nL 156.377367 622.106616 \nL 153.794618 622.971357 \nL 153.571938 623.038572 \nL 150.766509 623.829948 \nL 148.890972 624.313604 \nL 147.96108 624.570776 \nL 145.15565 625.219027 \nL 142.87211 625.655851 \nL 142.350221 625.835572 \nL 139.544792 626.526448 \nL 136.739362 626.927192 \nL 135.875029 626.998099 \nL 133.933933 627.141499 \nL 131.128504 627.250055 \nL 128.323074 627.23312 \nz\n\" style=\"fill:#ffffff;\"/>\n   </g>\n   <g id=\"PathCollection_9\">\n    <path clip-path=\"url(#p5e09f7d5ca)\" d=\"M 89.047064 639.195997 \nL 91.852494 640.266154 \nL 94.657923 640.533429 \nL 97.463352 639.994466 \nL 99.351508 639.188761 \nL 100.268782 639.008708 \nL 103.074211 637.861328 \nL 103.109863 637.838019 \nL 105.87964 636.990382 \nL 107.046755 636.487276 \nL 108.685069 635.280326 \nL 108.881564 635.136534 \nL 109.950803 633.777296 \nL 111.490499 632.733236 \nL 111.939135 632.426554 \nL 113.27143 631.084307 \nL 112.451065 629.682593 \nL 111.490499 629.480219 \nL 108.685069 629.169878 \nL 105.87964 629.018733 \nL 103.074211 628.922725 \nL 100.268782 628.847876 \nL 97.463352 628.778824 \nL 94.657923 628.706104 \nL 91.852494 628.621046 \nL 89.047064 628.511476 \nL 86.241635 628.351584 \nL 86.081944 628.340346 \nL 83.436206 628.02337 \nL 80.824721 626.998099 \nL 80.630777 626.919945 \nL 78.828093 625.655851 \nL 77.825347 625.133351 \nL 76.688784 624.313604 \nL 75.157523 622.971357 \nL 75.019918 622.913438 \nL 72.376031 621.595129 \nL 72.214489 621.529382 \nL 69.607511 620.269872 \nL 69.409059 620.147145 \nL 67.5543 618.93612 \nL 66.60363 618.302762 \nL 65.508895 617.559892 \nL 63.798201 616.572989 \nL 63.220659 616.243131 \nL 61.326127 614.883893 \nL 60.992771 614.659342 \nL 58.959304 613.558636 \nL 58.187342 613.098257 \nL 55.381913 612.305638 \nL 52.890566 613.558636 \nL 52.576484 613.916584 \nL 52.277683 614.883893 \nL 51.598771 616.243131 \nL 51.819504 617.559892 \nL 51.975487 618.93612 \nL 52.092503 620.269872 \nL 52.576484 620.971674 \nL 53.162742 621.595129 \nL 54.340361 622.971357 \nL 55.381913 624.095621 \nL 55.665154 624.313604 \nL 58.187342 625.48746 \nL 58.71051 625.655851 \nL 60.992771 626.527078 \nL 62.775902 626.998099 \nL 63.798201 627.261152 \nL 66.60363 627.776402 \nL 69.409059 628.185246 \nL 70.761508 628.340346 \nL 72.214489 628.533495 \nL 75.019918 628.973057 \nL 76.979987 629.682593 \nL 77.825347 630.233055 \nL 79.023857 631.084307 \nL 78.408894 632.426554 \nL 79.520563 633.777296 \nL 80.630777 634.983174 \nL 80.820708 635.136534 \nL 81.832111 636.487276 \nL 83.436206 637.572925 \nL 84.125042 637.838019 \nL 86.241635 638.58822 \nL 89.036107 639.188761 \nz\nM 89.794043 637.838019 \nL 89.047064 637.767867 \nL 86.241635 637.152186 \nL 84.689095 636.487276 \nL 83.547478 635.136534 \nL 83.436206 635.075644 \nL 81.7836 633.777296 \nL 80.630777 632.588855 \nL 80.500452 632.426554 \nL 80.630777 632.287319 \nL 82.977535 631.084307 \nL 82.012438 629.682593 \nL 83.436206 629.361656 \nL 86.241635 629.173626 \nL 89.047064 629.132673 \nL 91.852494 629.141037 \nL 94.657923 629.174064 \nL 97.463352 629.22585 \nL 100.268782 629.299242 \nL 103.074211 629.405501 \nL 105.87964 629.571048 \nL 107.141854 629.682593 \nL 108.685069 630.482712 \nL 109.494724 631.084307 \nL 109.942922 632.426554 \nL 108.685069 633.239338 \nL 107.805642 633.777296 \nL 106.267203 635.136534 \nL 105.87964 635.414319 \nL 104.305659 636.487276 \nL 103.074211 636.87992 \nL 100.268782 637.495008 \nL 97.649765 637.838019 \nL 97.463352 637.879847 \nL 94.657923 638.157298 \nL 91.852494 638.101889 \nz\nM 66.581847 626.998099 \nL 63.798201 626.481824 \nL 60.992771 625.731947 \nL 60.800175 625.655851 \nL 58.187342 624.784952 \nL 57.19979 624.313604 \nL 55.499039 622.971357 \nL 55.381913 622.875274 \nL 54.282534 621.595129 \nL 53.067737 620.269872 \nL 52.95353 618.93612 \nL 52.772568 617.559892 \nL 52.576484 616.684217 \nL 52.513439 616.243131 \nL 52.576484 616.120527 \nL 54.047499 614.883893 \nL 55.381913 613.72651 \nL 58.187342 614.205586 \nL 59.45226 614.883893 \nL 60.992771 615.574436 \nL 61.953488 616.243131 \nL 63.798201 617.274964 \nL 64.302139 617.559892 \nL 66.344103 618.93612 \nL 66.60363 619.097557 \nL 68.404636 620.269872 \nL 69.409059 620.832405 \nL 71.018038 621.595129 \nL 72.214489 622.28634 \nL 73.620413 622.971357 \nL 74.894919 624.313604 \nL 75.019918 624.479208 \nL 76.289974 625.655851 \nL 75.946911 626.998099 \nL 75.019918 627.264166 \nL 72.214489 627.431224 \nL 69.409059 627.302009 \nL 66.60363 627.002186 \nz\n\" style=\"fill:#ffffff;\"/>\n    <path clip-path=\"url(#p5e09f7d5ca)\" d=\"M 128.323074 627.23312 \nL 131.128504 627.250055 \nL 133.933933 627.141499 \nL 135.875029 626.998099 \nL 136.739362 626.927192 \nL 139.544792 626.526448 \nL 142.350221 625.835572 \nL 142.87211 625.655851 \nL 145.15565 625.219027 \nL 147.96108 624.570776 \nL 148.890972 624.313604 \nL 150.766509 623.829948 \nL 153.571938 623.038572 \nL 153.794618 622.971357 \nL 156.377367 622.106616 \nL 157.703537 621.595129 \nL 159.182797 621.159745 \nL 161.791017 620.269872 \nL 161.988226 620.207794 \nL 164.793655 619.352836 \nL 166.073291 618.93612 \nL 167.599085 618.395653 \nL 169.878623 617.559892 \nL 170.404514 617.400453 \nL 173.209943 616.539846 \nL 174.092492 616.243131 \nL 176.015372 615.609387 \nL 178.15915 614.883893 \nL 178.820802 614.651131 \nL 181.626231 613.719067 \nL 182.109048 613.558636 \nL 184.43166 612.882822 \nL 186.51311 612.23338 \nL 187.23709 611.954874 \nL 190.042519 611.007705 \nL 190.431778 610.882637 \nL 192.847948 610.090593 \nL 194.442801 609.565876 \nL 195.653378 609.156509 \nL 198.458807 608.274568 \nL 198.679185 608.206638 \nL 201.264236 607.289329 \nL 202.556476 606.881382 \nL 204.069665 606.41064 \nL 206.826473 605.556125 \nL 206.875095 605.534616 \nL 209.680524 604.520069 \nL 210.71248 604.196887 \nL 212.485953 603.565769 \nL 214.631865 602.87163 \nL 215.291383 602.595247 \nL 218.096812 601.655967 \nL 218.586975 601.512393 \nL 220.902241 600.628213 \nL 222.174876 600.195631 \nL 223.70767 599.590511 \nL 226.016916 598.836394 \nL 226.5131 598.541558 \nL 228.841635 597.528127 \nL 229.318529 597.352327 \nL 232.123958 596.47167 \nL 233.141652 596.18588 \nL 234.480742 594.852128 \nL 234.929388 594.494645 \nL 236.819419 593.518376 \nL 234.929388 593.110671 \nL 232.123958 593.026056 \nL 229.318529 593.210514 \nL 227.009977 593.518376 \nL 226.5131 593.608253 \nL 223.70767 594.203253 \nL 220.902241 594.735801 \nL 220.382195 594.852128 \nL 218.096812 595.293939 \nL 215.291383 595.94258 \nL 214.47262 596.18588 \nL 212.485953 596.699731 \nL 209.680524 597.341788 \nL 208.903943 597.528127 \nL 206.875095 598.032332 \nL 204.137054 598.836394 \nL 204.069665 598.852193 \nL 201.264236 599.56404 \nL 198.873051 600.195631 \nL 198.458807 600.318603 \nL 195.653378 601.206819 \nL 194.766406 601.512393 \nL 192.847948 602.053366 \nL 190.399229 602.87163 \nL 190.042519 602.972038 \nL 187.23709 603.806261 \nL 186.041219 604.196887 \nL 184.43166 604.726201 \nL 182.346668 605.556125 \nL 181.626231 605.756838 \nL 178.820802 606.520227 \nL 177.593518 606.881382 \nL 176.015372 607.427555 \nL 174.116009 608.206638 \nL 173.209943 608.47587 \nL 170.404514 609.359941 \nL 169.828187 609.565876 \nL 167.599085 610.256903 \nL 165.740809 610.882637 \nL 164.793655 611.199845 \nL 162.115592 612.23338 \nL 161.988226 612.271877 \nL 159.182797 613.089393 \nL 157.678583 613.558636 \nL 156.377367 613.979392 \nL 153.723579 614.883893 \nL 153.571938 614.932663 \nL 150.766509 615.826985 \nL 149.561748 616.243131 \nL 147.96108 616.720449 \nL 145.15565 617.514425 \nL 145.005293 617.559892 \nL 142.350221 618.496681 \nL 141.120711 618.93612 \nL 139.544792 619.43776 \nL 136.833489 620.269872 \nL 136.739362 620.304498 \nL 133.933933 621.200562 \nL 132.545104 621.595129 \nL 131.128504 622.160096 \nL 128.700051 622.971357 \nL 128.323074 623.118164 \nL 125.517645 624.055413 \nL 124.65224 624.313604 \nL 122.712216 625.189518 \nL 121.24362 625.655851 \nL 122.712216 626.389145 \nL 125.517645 626.96939 \nL 125.839735 626.998099 \nz\nM 123.66882 625.655851 \nL 125.517645 624.823177 \nL 126.247922 624.313604 \nL 128.323074 623.649806 \nL 130.027088 622.971357 \nL 131.128504 622.595308 \nL 133.592708 621.595129 \nL 133.933933 621.496496 \nL 136.739362 620.640968 \nL 137.73317 620.269872 \nL 139.544792 619.705626 \nL 141.929661 618.93612 \nL 142.350221 618.783788 \nL 145.15565 617.794453 \nL 145.787919 617.559892 \nL 147.96108 616.935441 \nL 150.255865 616.243131 \nL 150.766509 616.064713 \nL 153.571938 615.158086 \nL 154.414749 614.883893 \nL 156.377367 614.207355 \nL 158.360805 613.558636 \nL 159.182797 613.299316 \nL 161.988226 612.47593 \nL 162.781856 612.23338 \nL 164.793655 611.448461 \nL 166.462903 610.882637 \nL 167.599085 610.495483 \nL 170.404514 609.616862 \nL 170.570142 609.565876 \nL 173.209943 608.712732 \nL 174.891232 608.206638 \nL 176.015372 607.739622 \nL 178.45948 606.881382 \nL 178.820802 606.773524 \nL 181.626231 606.009071 \nL 183.22828 605.556125 \nL 184.43166 605.070135 \nL 187.042824 604.196887 \nL 187.23709 604.132372 \nL 190.042519 603.299298 \nL 191.533417 602.87163 \nL 192.847948 602.424115 \nL 195.653378 601.621406 \nL 196.094866 601.512393 \nL 198.458807 600.769771 \nL 200.345909 600.195631 \nL 201.264236 599.947129 \nL 204.069665 599.268417 \nL 205.860174 598.836394 \nL 206.875095 598.529801 \nL 209.680524 597.840721 \nL 211.171604 597.528127 \nL 212.485953 597.234808 \nL 215.291383 596.599605 \nL 216.874434 596.18588 \nL 218.096812 595.899237 \nL 220.902241 595.415153 \nL 223.70767 595.039502 \nL 225.963329 594.852128 \nL 226.5131 594.786427 \nL 228.619167 594.852128 \nL 229.318529 594.909035 \nL 230.573951 596.18588 \nL 229.318529 596.539591 \nL 226.533263 597.528127 \nL 226.5131 597.536571 \nL 224.261497 598.836394 \nL 223.70767 599.012025 \nL 220.902241 600.065689 \nL 220.627378 600.195631 \nL 218.096812 601.111646 \nL 217.158054 601.512393 \nL 215.291383 602.113642 \nL 213.447003 602.87163 \nL 212.485953 603.176402 \nL 209.680524 604.152932 \nL 209.570354 604.196887 \nL 206.875095 605.133022 \nL 205.903975 605.556125 \nL 204.069665 606.115958 \nL 201.569065 606.881382 \nL 201.264236 606.976043 \nL 198.458807 607.948464 \nL 197.843486 608.206638 \nL 195.653378 608.89183 \nL 193.633402 609.565876 \nL 192.847948 609.820828 \nL 190.042519 610.737766 \nL 189.633894 610.882637 \nL 187.23709 611.691579 \nL 185.812307 612.23338 \nL 184.43166 612.659137 \nL 181.626231 613.473605 \nL 181.351526 613.558636 \nL 178.820802 614.409649 \nL 177.457011 614.883893 \nL 176.015372 615.366068 \nL 173.320374 616.243131 \nL 173.209943 616.279784 \nL 170.404514 617.173816 \nL 169.114941 617.559892 \nL 167.599085 618.108594 \nL 165.230368 618.93612 \nL 164.793655 619.076354 \nL 161.988226 619.947964 \nL 160.951298 620.269872 \nL 159.182797 620.864807 \nL 156.658571 621.595129 \nL 156.377367 621.701714 \nL 153.571938 622.662438 \nL 152.554313 622.971357 \nL 150.766509 623.469568 \nL 147.96108 624.177795 \nL 147.400082 624.313604 \nL 145.15565 624.840809 \nL 142.350221 625.369544 \nL 140.589949 625.655851 \nL 139.544792 625.915054 \nL 136.739362 626.366889 \nL 133.933933 626.599747 \nL 131.128504 626.662547 \nL 128.323074 626.55186 \nL 125.517645 626.189956 \nz\n\" style=\"fill:#ffffff;\"/>\n   </g>\n   <g id=\"PathCollection_10\">\n    <path clip-path=\"url(#p5e09f7d5ca)\" d=\"M 91.852494 638.101889 \nL 94.657923 638.157298 \nL 97.463352 637.879847 \nL 97.649765 637.838019 \nL 100.268782 637.495008 \nL 103.074211 636.87992 \nL 104.305659 636.487276 \nL 105.87964 635.414319 \nL 106.267203 635.136534 \nL 107.805642 633.777296 \nL 108.685069 633.239338 \nL 109.942922 632.426554 \nL 109.494724 631.084307 \nL 108.685069 630.482712 \nL 107.141854 629.682593 \nL 105.87964 629.571048 \nL 103.074211 629.405501 \nL 100.268782 629.299242 \nL 97.463352 629.22585 \nL 94.657923 629.174064 \nL 91.852494 629.141037 \nL 89.047064 629.132673 \nL 86.241635 629.173626 \nL 83.436206 629.361656 \nL 82.012438 629.682593 \nL 82.977535 631.084307 \nL 80.630777 632.287319 \nL 80.500452 632.426554 \nL 80.630777 632.588855 \nL 81.7836 633.777296 \nL 83.436206 635.075644 \nL 83.547478 635.136534 \nL 84.689095 636.487276 \nL 86.241635 637.152186 \nL 89.047064 637.767867 \nL 89.794043 637.838019 \nz\nM 88.337412 636.487276 \nL 86.902478 635.136534 \nL 86.241635 634.896936 \nL 84.266888 633.777296 \nL 83.436206 633.099825 \nL 82.799923 632.426554 \nL 83.436206 632.097725 \nL 86.241635 631.340281 \nL 88.235341 631.084307 \nL 89.047064 630.32767 \nL 91.13276 629.682593 \nL 91.852494 629.661027 \nL 94.657923 629.642024 \nL 97.463352 629.672876 \nL 97.831735 629.682593 \nL 100.268782 630.006562 \nL 103.074211 630.621898 \nL 104.4463 631.084307 \nL 105.87964 631.380327 \nL 107.788536 632.426554 \nL 105.87964 633.545048 \nL 105.433919 633.777296 \nL 103.12084 635.136534 \nL 103.074211 635.167326 \nL 100.773575 636.487276 \nL 100.268782 636.598762 \nL 97.463352 636.987919 \nL 94.657923 637.140304 \nL 91.852494 637.058099 \nL 89.047064 636.679481 \nz\n\" style=\"fill:#ffffff;\"/>\n    <path clip-path=\"url(#p5e09f7d5ca)\" d=\"M 66.60363 627.002186 \nL 69.409059 627.302009 \nL 72.214489 627.431224 \nL 75.019918 627.264166 \nL 75.946911 626.998099 \nL 76.289974 625.655851 \nL 75.019918 624.479208 \nL 74.894919 624.313604 \nL 73.620413 622.971357 \nL 72.214489 622.28634 \nL 71.018038 621.595129 \nL 69.409059 620.832405 \nL 68.404636 620.269872 \nL 66.60363 619.097557 \nL 66.344103 618.93612 \nL 64.302139 617.559892 \nL 63.798201 617.274964 \nL 61.953488 616.243131 \nL 60.992771 615.574436 \nL 59.45226 614.883893 \nL 58.187342 614.205586 \nL 55.381913 613.72651 \nL 54.047499 614.883893 \nL 52.576484 616.120527 \nL 52.513439 616.243131 \nL 52.576484 616.684217 \nL 52.772568 617.559892 \nL 52.95353 618.93612 \nL 53.067737 620.269872 \nL 54.282534 621.595129 \nL 55.381913 622.875274 \nL 55.499039 622.971357 \nL 57.19979 624.313604 \nL 58.187342 624.784952 \nL 60.800175 625.655851 \nL 60.992771 625.731947 \nL 63.798201 626.481824 \nL 66.581847 626.998099 \nz\nM 63.710106 625.655851 \nL 60.992771 625.017363 \nL 58.908356 624.313604 \nL 58.187342 623.93543 \nL 56.990634 622.971357 \nL 55.381913 621.618464 \nL 55.362228 621.595129 \nL 54.187499 620.269872 \nL 54.174845 618.93612 \nL 54.146217 617.559892 \nL 54.135853 616.243131 \nL 55.381913 615.287306 \nL 58.187342 615.291924 \nL 60.396421 616.243131 \nL 60.992771 616.504785 \nL 62.835825 617.559892 \nL 63.798201 618.129864 \nL 64.98748 618.93612 \nL 66.60363 619.919183 \nL 67.153753 620.269872 \nL 69.409059 621.507273 \nL 69.598829 621.595129 \nL 71.978001 622.971357 \nL 72.214489 623.365471 \nL 72.86542 624.313604 \nL 72.969879 625.655851 \nL 72.214489 625.974377 \nL 69.409059 626.278078 \nL 66.60363 626.118073 \nL 63.798201 625.680456 \nz\n\" style=\"fill:#ffffff;\"/>\n    <path clip-path=\"url(#p5e09f7d5ca)\" d=\"M 125.517645 626.189956 \nL 128.323074 626.55186 \nL 131.128504 626.662547 \nL 133.933933 626.599747 \nL 136.739362 626.366889 \nL 139.544792 625.915054 \nL 140.589949 625.655851 \nL 142.350221 625.369544 \nL 145.15565 624.840809 \nL 147.400082 624.313604 \nL 147.96108 624.177795 \nL 150.766509 623.469568 \nL 152.554313 622.971357 \nL 153.571938 622.662438 \nL 156.377367 621.701714 \nL 156.658571 621.595129 \nL 159.182797 620.864807 \nL 160.951298 620.269872 \nL 161.988226 619.947964 \nL 164.793655 619.076354 \nL 165.230368 618.93612 \nL 167.599085 618.108594 \nL 169.114941 617.559892 \nL 170.404514 617.173816 \nL 173.209943 616.279784 \nL 173.320374 616.243131 \nL 176.015372 615.366068 \nL 177.457011 614.883893 \nL 178.820802 614.409649 \nL 181.351526 613.558636 \nL 181.626231 613.473605 \nL 184.43166 612.659137 \nL 185.812307 612.23338 \nL 187.23709 611.691579 \nL 189.633894 610.882637 \nL 190.042519 610.737766 \nL 192.847948 609.820828 \nL 193.633402 609.565876 \nL 195.653378 608.89183 \nL 197.843486 608.206638 \nL 198.458807 607.948464 \nL 201.264236 606.976043 \nL 201.569065 606.881382 \nL 204.069665 606.115958 \nL 205.903975 605.556125 \nL 206.875095 605.133022 \nL 209.570354 604.196887 \nL 209.680524 604.152932 \nL 212.485953 603.176402 \nL 213.447003 602.87163 \nL 215.291383 602.113642 \nL 217.158054 601.512393 \nL 218.096812 601.111646 \nL 220.627378 600.195631 \nL 220.902241 600.065689 \nL 223.70767 599.012025 \nL 224.261497 598.836394 \nL 226.5131 597.536571 \nL 226.533263 597.528127 \nL 229.318529 596.539591 \nL 230.573951 596.18588 \nL 229.318529 594.909035 \nL 228.619167 594.852128 \nL 226.5131 594.786427 \nL 225.963329 594.852128 \nL 223.70767 595.039502 \nL 220.902241 595.415153 \nL 218.096812 595.899237 \nL 216.874434 596.18588 \nL 215.291383 596.599605 \nL 212.485953 597.234808 \nL 211.171604 597.528127 \nL 209.680524 597.840721 \nL 206.875095 598.529801 \nL 205.860174 598.836394 \nL 204.069665 599.268417 \nL 201.264236 599.947129 \nL 200.345909 600.195631 \nL 198.458807 600.769771 \nL 196.094866 601.512393 \nL 195.653378 601.621406 \nL 192.847948 602.424115 \nL 191.533417 602.87163 \nL 190.042519 603.299298 \nL 187.23709 604.132372 \nL 187.042824 604.196887 \nL 184.43166 605.070135 \nL 183.22828 605.556125 \nL 181.626231 606.009071 \nL 178.820802 606.773524 \nL 178.45948 606.881382 \nL 176.015372 607.739622 \nL 174.891232 608.206638 \nL 173.209943 608.712732 \nL 170.570142 609.565876 \nL 170.404514 609.616862 \nL 167.599085 610.495483 \nL 166.462903 610.882637 \nL 164.793655 611.448461 \nL 162.781856 612.23338 \nL 161.988226 612.47593 \nL 159.182797 613.299316 \nL 158.360805 613.558636 \nL 156.377367 614.207355 \nL 154.414749 614.883893 \nL 153.571938 615.158086 \nL 150.766509 616.064713 \nL 150.255865 616.243131 \nL 147.96108 616.935441 \nL 145.787919 617.559892 \nL 145.15565 617.794453 \nL 142.350221 618.783788 \nL 141.929661 618.93612 \nL 139.544792 619.705626 \nL 137.73317 620.269872 \nL 136.739362 620.640968 \nL 133.933933 621.496496 \nL 133.592708 621.595129 \nL 131.128504 622.595308 \nL 130.027088 622.971357 \nL 128.323074 623.649806 \nL 126.247922 624.313604 \nL 125.517645 624.823177 \nL 123.66882 625.655851 \nz\nM 126.767536 625.655851 \nL 127.921158 624.313604 \nL 128.323074 624.181448 \nL 131.128504 623.076346 \nL 131.338398 622.971357 \nL 133.933933 621.972985 \nL 134.707215 621.595129 \nL 136.739362 620.977437 \nL 138.606784 620.269872 \nL 139.544792 619.973491 \nL 142.350221 619.075238 \nL 142.754047 618.93612 \nL 145.15565 618.085295 \nL 146.553923 617.559892 \nL 147.96108 617.150433 \nL 150.766509 616.302582 \nL 150.946513 616.243131 \nL 153.571938 615.38351 \nL 155.090431 614.883893 \nL 156.377367 614.435318 \nL 159.027932 613.558636 \nL 159.182797 613.509238 \nL 161.988226 612.679984 \nL 163.433717 612.23338 \nL 164.793655 611.697078 \nL 167.168109 610.882637 \nL 167.599085 610.734062 \nL 170.404514 609.853291 \nL 171.326513 609.565876 \nL 173.209943 608.949594 \nL 175.647025 608.206638 \nL 176.015372 608.051689 \nL 178.820802 607.051325 \nL 179.372401 606.881382 \nL 181.626231 606.261303 \nL 184.084848 605.556125 \nL 184.43166 605.414068 \nL 187.23709 604.461226 \nL 188.149864 604.196887 \nL 190.042519 603.626559 \nL 192.626488 602.87163 \nL 192.847948 602.794864 \nL 195.653378 601.993004 \nL 197.553006 601.512393 \nL 198.458807 601.220939 \nL 201.264236 600.379853 \nL 201.911393 600.195631 \nL 204.069665 599.68464 \nL 206.875095 599.030872 \nL 207.74744 598.836394 \nL 209.680524 598.367292 \nL 212.485953 597.807667 \nL 214.172704 597.528127 \nL 215.291383 597.306299 \nL 218.096812 596.7913 \nL 220.364444 596.18588 \nL 220.902241 596.096749 \nL 223.70767 595.897242 \nL 226.5131 596.065453 \nL 226.928654 596.18588 \nL 226.5131 596.301785 \nL 223.70767 597.344082 \nL 223.453008 597.528127 \nL 222.253578 598.836394 \nL 220.902241 599.305814 \nL 218.967841 600.195631 \nL 218.096812 600.50229 \nL 215.67216 601.512393 \nL 215.291383 601.632037 \nL 212.485953 602.726669 \nL 212.210945 602.87163 \nL 209.680524 603.712437 \nL 208.443483 604.196887 \nL 206.875095 604.731428 \nL 204.952363 605.556125 \nL 204.069665 605.821276 \nL 201.264236 606.665297 \nL 200.600233 606.881382 \nL 198.458807 607.609565 \nL 197.016227 608.206638 \nL 195.653378 608.62715 \nL 192.847948 609.550025 \nL 192.805801 609.565876 \nL 190.042519 610.473692 \nL 188.874496 610.882637 \nL 187.23709 611.428284 \nL 185.094829 612.23338 \nL 184.43166 612.435453 \nL 181.626231 613.261363 \nL 180.65473 613.558636 \nL 178.820802 614.168167 \nL 176.738133 614.883893 \nL 176.015372 615.122748 \nL 173.209943 616.038632 \nL 172.62396 616.243131 \nL 170.404514 616.947179 \nL 168.331415 617.559892 \nL 167.599085 617.821535 \nL 164.793655 618.796774 \nL 164.401352 618.93612 \nL 161.988226 619.688134 \nL 160.087524 620.269872 \nL 159.182797 620.569868 \nL 156.377367 621.388421 \nL 155.603912 621.595129 \nL 153.571938 622.287668 \nL 151.271806 622.971357 \nL 150.766509 623.109188 \nL 147.96108 623.805635 \nL 145.807031 624.313604 \nL 145.15565 624.46259 \nL 142.350221 624.986829 \nL 139.544792 625.412597 \nL 137.661091 625.655851 \nL 136.739362 625.806587 \nL 133.933933 626.053067 \nL 131.128504 626.094064 \nL 128.323074 625.91657 \nz\n\" style=\"fill:#ffffff;\"/>\n   </g>\n   <g id=\"PathCollection_11\">\n    <path clip-path=\"url(#p5e09f7d5ca)\" d=\"M 89.047064 636.679481 \nL 91.852494 637.058099 \nL 94.657923 637.140304 \nL 97.463352 636.987919 \nL 100.268782 636.598762 \nL 100.773575 636.487276 \nL 103.074211 635.167326 \nL 103.12084 635.136534 \nL 105.433919 633.777296 \nL 105.87964 633.545048 \nL 107.788536 632.426554 \nL 105.87964 631.380327 \nL 104.4463 631.084307 \nL 103.074211 630.621898 \nL 100.268782 630.006562 \nL 97.831735 629.682593 \nL 97.463352 629.672876 \nL 94.657923 629.642024 \nL 91.852494 629.661027 \nL 91.13276 629.682593 \nL 89.047064 630.32767 \nL 88.235341 631.084307 \nL 86.241635 631.340281 \nL 83.436206 632.097725 \nL 82.799923 632.426554 \nL 83.436206 633.099825 \nL 84.266888 633.777296 \nL 86.241635 634.896936 \nL 86.902478 635.136534 \nL 88.337412 636.487276 \nz\nM 92.45449 635.136534 \nL 91.852494 635.08903 \nL 89.047064 634.472687 \nL 87.280322 633.777296 \nL 86.241635 633.166862 \nL 85.365054 632.426554 \nL 86.241635 632.151399 \nL 89.047064 631.656433 \nL 91.852494 631.409484 \nL 94.657923 631.30103 \nL 97.463352 631.29905 \nL 100.268782 631.419324 \nL 103.074211 631.75402 \nL 105.360455 632.426554 \nL 103.074211 633.564347 \nL 102.54319 633.777296 \nL 100.268782 634.644738 \nL 97.739241 635.136534 \nL 97.463352 635.241268 \nL 94.657923 635.597776 \nz\n\" style=\"fill:#ffffff;\"/>\n    <path clip-path=\"url(#p5e09f7d5ca)\" d=\"M 63.798201 625.680456 \nL 66.60363 626.118073 \nL 69.409059 626.278078 \nL 72.214489 625.974377 \nL 72.969879 625.655851 \nL 72.86542 624.313604 \nL 72.214489 623.365471 \nL 71.978001 622.971357 \nL 69.598829 621.595129 \nL 69.409059 621.507273 \nL 67.153753 620.269872 \nL 66.60363 619.919183 \nL 64.98748 618.93612 \nL 63.798201 618.129864 \nL 62.835825 617.559892 \nL 60.992771 616.504785 \nL 60.396421 616.243131 \nL 58.187342 615.291924 \nL 55.381913 615.287306 \nL 54.135853 616.243131 \nL 54.146217 617.559892 \nL 54.174845 618.93612 \nL 54.187499 620.269872 \nL 55.362228 621.595129 \nL 55.381913 621.618464 \nL 56.990634 622.971357 \nL 58.187342 623.93543 \nL 58.908356 624.313604 \nL 60.992771 625.017363 \nL 63.710106 625.655851 \nz\nM 61.006173 624.313604 \nL 60.992771 624.309517 \nL 58.570636 622.971357 \nL 58.187342 622.742726 \nL 56.952006 621.595129 \nL 55.381913 620.401689 \nL 55.267165 620.269872 \nL 55.348614 618.93612 \nL 55.381913 618.491649 \nL 55.621465 617.559892 \nL 58.187342 616.328746 \nL 60.992771 617.476175 \nL 61.143194 617.559892 \nL 63.448125 618.93612 \nL 63.798201 619.102792 \nL 65.681529 620.269872 \nL 66.60363 620.860795 \nL 67.899061 621.595129 \nL 69.409059 622.59911 \nL 70.055985 622.971357 \nL 70.287813 624.313604 \nL 69.409059 624.864749 \nL 66.60363 625.153908 \nL 63.798201 624.881863 \nz\n\" style=\"fill:#ffffff;\"/>\n    <path clip-path=\"url(#p5e09f7d5ca)\" d=\"M 128.323074 625.91657 \nL 131.128504 626.094064 \nL 133.933933 626.053067 \nL 136.739362 625.806587 \nL 137.661091 625.655851 \nL 139.544792 625.412597 \nL 142.350221 624.986829 \nL 145.15565 624.46259 \nL 145.807031 624.313604 \nL 147.96108 623.805635 \nL 150.766509 623.109188 \nL 151.271806 622.971357 \nL 153.571938 622.287668 \nL 155.603912 621.595129 \nL 156.377367 621.388421 \nL 159.182797 620.569868 \nL 160.087524 620.269872 \nL 161.988226 619.688134 \nL 164.401352 618.93612 \nL 164.793655 618.796774 \nL 167.599085 617.821535 \nL 168.331415 617.559892 \nL 170.404514 616.947179 \nL 172.62396 616.243131 \nL 173.209943 616.038632 \nL 176.015372 615.122748 \nL 176.738133 614.883893 \nL 178.820802 614.168167 \nL 180.65473 613.558636 \nL 181.626231 613.261363 \nL 184.43166 612.435453 \nL 185.094829 612.23338 \nL 187.23709 611.428284 \nL 188.874496 610.882637 \nL 190.042519 610.473692 \nL 192.805801 609.565876 \nL 192.847948 609.550025 \nL 195.653378 608.62715 \nL 197.016227 608.206638 \nL 198.458807 607.609565 \nL 200.600233 606.881382 \nL 201.264236 606.665297 \nL 204.069665 605.821276 \nL 204.952363 605.556125 \nL 206.875095 604.731428 \nL 208.443483 604.196887 \nL 209.680524 603.712437 \nL 212.210945 602.87163 \nL 212.485953 602.726669 \nL 215.291383 601.632037 \nL 215.67216 601.512393 \nL 218.096812 600.50229 \nL 218.967841 600.195631 \nL 220.902241 599.305814 \nL 222.253578 598.836394 \nL 223.453008 597.528127 \nL 223.70767 597.344082 \nL 226.5131 596.301785 \nL 226.928654 596.18588 \nL 226.5131 596.065453 \nL 223.70767 595.897242 \nL 220.902241 596.096749 \nL 220.364444 596.18588 \nL 218.096812 596.7913 \nL 215.291383 597.306299 \nL 214.172704 597.528127 \nL 212.485953 597.807667 \nL 209.680524 598.367292 \nL 207.74744 598.836394 \nL 206.875095 599.030872 \nL 204.069665 599.68464 \nL 201.911393 600.195631 \nL 201.264236 600.379853 \nL 198.458807 601.220939 \nL 197.553006 601.512393 \nL 195.653378 601.993004 \nL 192.847948 602.794864 \nL 192.626488 602.87163 \nL 190.042519 603.626559 \nL 188.149864 604.196887 \nL 187.23709 604.461226 \nL 184.43166 605.414068 \nL 184.084848 605.556125 \nL 181.626231 606.261303 \nL 179.372401 606.881382 \nL 178.820802 607.051325 \nL 176.015372 608.051689 \nL 175.647025 608.206638 \nL 173.209943 608.949594 \nL 171.326513 609.565876 \nL 170.404514 609.853291 \nL 167.599085 610.734062 \nL 167.168109 610.882637 \nL 164.793655 611.697078 \nL 163.433717 612.23338 \nL 161.988226 612.679984 \nL 159.182797 613.509238 \nL 159.027932 613.558636 \nL 156.377367 614.435318 \nL 155.090431 614.883893 \nL 153.571938 615.38351 \nL 150.946513 616.243131 \nL 150.766509 616.302582 \nL 147.96108 617.150433 \nL 146.553923 617.559892 \nL 145.15565 618.085295 \nL 142.754047 618.93612 \nL 142.350221 619.075238 \nL 139.544792 619.973491 \nL 138.606784 620.269872 \nL 136.739362 620.977437 \nL 134.707215 621.595129 \nL 133.933933 621.972985 \nL 131.338398 622.971357 \nL 131.128504 623.076346 \nL 128.323074 624.181448 \nL 127.921158 624.313604 \nL 126.767536 625.655851 \nz\nM 129.912783 624.313604 \nL 131.128504 623.848679 \nL 132.839113 622.971357 \nL 133.933933 622.539734 \nL 135.831113 621.595129 \nL 136.739362 621.313907 \nL 139.455801 620.269872 \nL 139.544792 620.241356 \nL 142.350221 619.371599 \nL 143.596693 618.93612 \nL 145.15565 618.376137 \nL 147.30095 617.559892 \nL 147.96108 617.365425 \nL 150.766509 616.540874 \nL 151.657407 616.243131 \nL 153.571938 615.608933 \nL 155.751304 614.883893 \nL 156.377367 614.663281 \nL 159.182797 613.739354 \nL 159.730098 613.558636 \nL 161.988226 612.884038 \nL 164.071784 612.23338 \nL 164.793655 611.945694 \nL 167.599085 610.974799 \nL 167.894909 610.882637 \nL 170.404514 610.089719 \nL 172.064375 609.565876 \nL 173.209943 609.186456 \nL 176.015372 608.333316 \nL 176.446756 608.206638 \nL 178.820802 607.347298 \nL 180.309616 606.881382 \nL 181.626231 606.513535 \nL 184.43166 605.729 \nL 185.01902 605.556125 \nL 187.23709 604.790756 \nL 189.250369 604.196887 \nL 190.042519 603.95382 \nL 192.847948 603.166687 \nL 193.909651 602.87163 \nL 195.653378 602.364603 \nL 198.458807 601.660712 \nL 199.138615 601.512393 \nL 201.264236 600.904222 \nL 203.680887 600.195631 \nL 204.069665 600.100863 \nL 206.875095 599.537728 \nL 209.680524 598.915685 \nL 210.093398 598.836394 \nL 212.485953 598.426368 \nL 215.291383 598.104439 \nL 218.096812 598.072488 \nL 219.724369 598.836394 \nL 218.096812 599.521067 \nL 217.053626 600.195631 \nL 215.291383 600.875008 \nL 213.982176 601.512393 \nL 212.485953 602.059452 \nL 210.911781 602.87163 \nL 209.680524 603.271943 \nL 207.272861 604.196887 \nL 206.875095 604.329835 \nL 204.069665 605.501186 \nL 203.969414 605.556125 \nL 201.264236 606.35565 \nL 199.622488 606.881382 \nL 198.458807 607.270666 \nL 196.165631 608.206638 \nL 195.653378 608.362471 \nL 192.847948 609.261359 \nL 192.02777 609.565876 \nL 190.042519 610.209618 \nL 188.095478 610.882637 \nL 187.23709 611.164989 \nL 184.43166 612.204288 \nL 184.365898 612.23338 \nL 181.626231 613.049121 \nL 179.941451 613.558636 \nL 178.820802 613.926684 \nL 176.015372 614.879164 \nL 176.002666 614.883893 \nL 173.209943 615.800583 \nL 171.927178 616.243131 \nL 170.404514 616.720542 \nL 167.599085 617.539514 \nL 167.530507 617.559892 \nL 164.793655 618.514006 \nL 163.589236 618.93612 \nL 161.988226 619.428303 \nL 159.198276 620.269872 \nL 159.182797 620.27493 \nL 156.377367 621.107858 \nL 154.521327 621.595129 \nL 153.571938 621.912897 \nL 150.766509 622.733233 \nL 149.863343 622.971357 \nL 147.96108 623.433475 \nL 145.15565 624.05569 \nL 143.942228 624.313604 \nL 142.350221 624.604115 \nL 139.544792 624.990315 \nL 136.739362 625.276252 \nL 133.933933 625.449343 \nL 131.128504 625.285775 \nz\n\" style=\"fill:#ffffff;\"/>\n   </g>\n   <g id=\"PathCollection_12\">\n    <path clip-path=\"url(#p5e09f7d5ca)\" d=\"M 94.657923 635.597776 \nL 97.463352 635.241268 \nL 97.739241 635.136534 \nL 100.268782 634.644738 \nL 102.54319 633.777296 \nL 103.074211 633.564347 \nL 105.360455 632.426554 \nL 103.074211 631.75402 \nL 100.268782 631.419324 \nL 97.463352 631.29905 \nL 94.657923 631.30103 \nL 91.852494 631.409484 \nL 89.047064 631.656433 \nL 86.241635 632.151399 \nL 85.365054 632.426554 \nL 86.241635 633.166862 \nL 87.280322 633.777296 \nL 89.047064 634.472687 \nL 91.852494 635.08903 \nL 92.45449 635.136534 \nz\nM 91.855359 633.777296 \nL 91.852494 633.776943 \nL 89.047064 632.7608 \nL 88.50722 632.426554 \nL 89.047064 632.317533 \nL 91.852494 632.001143 \nL 94.657923 631.872701 \nL 97.463352 631.893654 \nL 100.268782 632.091085 \nL 102.280421 632.426554 \nL 100.268782 633.182765 \nL 97.856958 633.777296 \nL 97.463352 633.858358 \nL 94.657923 634.025739 \nz\n\" style=\"fill:#ffffff;\"/>\n    <path clip-path=\"url(#p5e09f7d5ca)\" d=\"M 63.798201 624.881863 \nL 66.60363 625.153908 \nL 69.409059 624.864749 \nL 70.287813 624.313604 \nL 70.055985 622.971357 \nL 69.409059 622.59911 \nL 67.899061 621.595129 \nL 66.60363 620.860795 \nL 65.681529 620.269872 \nL 63.798201 619.102792 \nL 63.448125 618.93612 \nL 61.143194 617.559892 \nL 60.992771 617.476175 \nL 58.187342 616.328746 \nL 55.621465 617.559892 \nL 55.381913 618.491649 \nL 55.348614 618.93612 \nL 55.267165 620.269872 \nL 55.381913 620.401689 \nL 56.952006 621.595129 \nL 58.187342 622.742726 \nL 58.570636 622.971357 \nL 60.992771 624.309517 \nL 61.006173 624.313604 \nz\nM 60.845927 622.971357 \nL 58.820103 621.595129 \nL 58.187342 621.274677 \nL 57.090967 620.269872 \nL 57.765396 618.93612 \nL 58.187342 618.439625 \nL 60.992771 618.839694 \nL 61.157104 618.93612 \nL 63.798201 620.147064 \nL 64.002007 620.269872 \nL 65.747424 621.595129 \nL 66.60363 622.321383 \nL 67.402649 622.971357 \nL 66.60363 623.725908 \nL 63.798201 623.84306 \nL 60.992771 623.055581 \nz\n\" style=\"fill:#ffffff;\"/>\n    <path clip-path=\"url(#p5e09f7d5ca)\" d=\"M 131.128504 625.285775 \nL 133.933933 625.449343 \nL 136.739362 625.276252 \nL 139.544792 624.990315 \nL 142.350221 624.604115 \nL 143.942228 624.313604 \nL 145.15565 624.05569 \nL 147.96108 623.433475 \nL 149.863343 622.971357 \nL 150.766509 622.733233 \nL 153.571938 621.912897 \nL 154.521327 621.595129 \nL 156.377367 621.107858 \nL 159.182797 620.27493 \nL 159.198276 620.269872 \nL 161.988226 619.428303 \nL 163.589236 618.93612 \nL 164.793655 618.514006 \nL 167.530507 617.559892 \nL 167.599085 617.539514 \nL 170.404514 616.720542 \nL 171.927178 616.243131 \nL 173.209943 615.800583 \nL 176.002666 614.883893 \nL 176.015372 614.879164 \nL 178.820802 613.926684 \nL 179.941451 613.558636 \nL 181.626231 613.049121 \nL 184.365898 612.23338 \nL 184.43166 612.204288 \nL 187.23709 611.164989 \nL 188.095478 610.882637 \nL 190.042519 610.209618 \nL 192.02777 609.565876 \nL 192.847948 609.261359 \nL 195.653378 608.362471 \nL 196.165631 608.206638 \nL 198.458807 607.270666 \nL 199.622488 606.881382 \nL 201.264236 606.35565 \nL 203.969414 605.556125 \nL 204.069665 605.501186 \nL 206.875095 604.329835 \nL 207.272861 604.196887 \nL 209.680524 603.271943 \nL 210.911781 602.87163 \nL 212.485953 602.059452 \nL 213.982176 601.512393 \nL 215.291383 600.875008 \nL 217.053626 600.195631 \nL 218.096812 599.521067 \nL 219.724369 598.836394 \nL 218.096812 598.072488 \nL 215.291383 598.104439 \nL 212.485953 598.426368 \nL 210.093398 598.836394 \nL 209.680524 598.915685 \nL 206.875095 599.537728 \nL 204.069665 600.100863 \nL 203.680887 600.195631 \nL 201.264236 600.904222 \nL 199.138615 601.512393 \nL 198.458807 601.660712 \nL 195.653378 602.364603 \nL 193.909651 602.87163 \nL 192.847948 603.166687 \nL 190.042519 603.95382 \nL 189.250369 604.196887 \nL 187.23709 604.790756 \nL 185.01902 605.556125 \nL 184.43166 605.729 \nL 181.626231 606.513535 \nL 180.309616 606.881382 \nL 178.820802 607.347298 \nL 176.446756 608.206638 \nL 176.015372 608.333316 \nL 173.209943 609.186456 \nL 172.064375 609.565876 \nL 170.404514 610.089719 \nL 167.894909 610.882637 \nL 167.599085 610.974799 \nL 164.793655 611.945694 \nL 164.071784 612.23338 \nL 161.988226 612.884038 \nL 159.730098 613.558636 \nL 159.182797 613.739354 \nL 156.377367 614.663281 \nL 155.751304 614.883893 \nL 153.571938 615.608933 \nL 151.657407 616.243131 \nL 150.766509 616.540874 \nL 147.96108 617.365425 \nL 147.30095 617.559892 \nL 145.15565 618.376137 \nL 143.596693 618.93612 \nL 142.350221 619.371599 \nL 139.544792 620.241356 \nL 139.455801 620.269872 \nL 136.739362 621.313907 \nL 135.831113 621.595129 \nL 133.933933 622.539734 \nL 132.839113 622.971357 \nL 131.128504 623.848679 \nL 129.912783 624.313604 \nz\nM 132.399201 624.313604 \nL 133.933933 623.402619 \nL 134.413926 622.971357 \nL 136.739362 621.759525 \nL 136.972 621.595129 \nL 139.544792 620.693321 \nL 140.429958 620.269872 \nL 142.350221 619.66796 \nL 144.416431 618.93612 \nL 145.15565 618.666979 \nL 147.96108 617.593657 \nL 148.04421 617.559892 \nL 150.766509 616.779166 \nL 152.351928 616.243131 \nL 153.571938 615.834356 \nL 156.377367 614.892179 \nL 156.40182 614.883893 \nL 159.182797 613.975683 \nL 160.431152 613.558636 \nL 161.988226 613.088091 \nL 164.696629 612.23338 \nL 164.793655 612.19431 \nL 167.599085 611.219098 \nL 168.665307 610.882637 \nL 170.404514 610.326148 \nL 172.784613 609.565876 \nL 173.209943 609.423319 \nL 176.015372 608.584925 \nL 177.285692 608.206638 \nL 178.820802 607.643271 \nL 181.218577 606.881382 \nL 181.626231 606.765767 \nL 184.43166 606.023525 \nL 185.994074 605.556125 \nL 187.23709 605.120285 \nL 190.042519 604.289556 \nL 190.413592 604.196887 \nL 192.847948 603.538791 \nL 195.197402 602.87163 \nL 195.653378 602.736201 \nL 198.458807 602.079689 \nL 200.98009 601.512393 \nL 201.264236 601.428591 \nL 204.069665 600.744228 \nL 206.119835 600.195631 \nL 206.875095 600.044584 \nL 209.680524 599.642215 \nL 212.485953 599.332898 \nL 214.604796 600.195631 \nL 212.485953 601.20288 \nL 212.031468 601.512393 \nL 209.680524 602.745196 \nL 209.531147 602.87163 \nL 206.875095 603.79713 \nL 205.987166 604.196887 \nL 204.069665 604.952962 \nL 202.950321 605.556125 \nL 201.264236 606.046003 \nL 198.611975 606.881382 \nL 198.458807 606.931766 \nL 195.653378 608.023892 \nL 195.291787 608.206638 \nL 192.847948 608.972694 \nL 191.229132 609.565876 \nL 190.042519 609.945544 \nL 187.295801 610.882637 \nL 187.23709 610.901694 \nL 184.43166 611.903184 \nL 183.676687 612.23338 \nL 181.626231 612.836878 \nL 179.21089 613.558636 \nL 178.820802 613.685202 \nL 176.015372 614.62144 \nL 175.301932 614.883893 \nL 173.209943 615.562533 \nL 171.213914 616.243131 \nL 170.404514 616.493905 \nL 167.599085 617.309357 \nL 166.74497 617.559892 \nL 164.793655 618.231238 \nL 162.754642 618.93612 \nL 161.988226 619.168473 \nL 159.182797 619.994052 \nL 158.282883 620.269872 \nL 156.377367 620.827295 \nL 153.571938 621.549189 \nL 153.377618 621.595129 \nL 150.766509 622.347632 \nL 148.340907 622.971357 \nL 147.96108 623.061314 \nL 145.15565 623.630149 \nL 142.350221 624.179306 \nL 141.575136 624.313604 \nL 139.544792 624.568033 \nL 136.739362 624.756945 \nL 133.933933 624.694015 \nz\n\" style=\"fill:#ffffff;\"/>\n   </g>\n   <g id=\"PathCollection_13\">\n    <path clip-path=\"url(#p5e09f7d5ca)\" d=\"M 94.657923 634.025739 \nL 97.463352 633.858358 \nL 97.856958 633.777296 \nL 100.268782 633.182765 \nL 102.280421 632.426554 \nL 100.268782 632.091085 \nL 97.463352 631.893654 \nL 94.657923 631.872701 \nL 91.852494 632.001143 \nL 89.047064 632.317533 \nL 88.50722 632.426554 \nL 89.047064 632.7608 \nL 91.852494 633.776943 \nL 91.855359 633.777296 \nz\n\" style=\"fill:#ffffff;\"/>\n    <path clip-path=\"url(#p5e09f7d5ca)\" d=\"M 133.933933 624.694015 \nL 136.739362 624.756945 \nL 139.544792 624.568033 \nL 141.575136 624.313604 \nL 142.350221 624.179306 \nL 145.15565 623.630149 \nL 147.96108 623.061314 \nL 148.340907 622.971357 \nL 150.766509 622.347632 \nL 153.377618 621.595129 \nL 153.571938 621.549189 \nL 156.377367 620.827295 \nL 158.282883 620.269872 \nL 159.182797 619.994052 \nL 161.988226 619.168473 \nL 162.754642 618.93612 \nL 164.793655 618.231238 \nL 166.74497 617.559892 \nL 167.599085 617.309357 \nL 170.404514 616.493905 \nL 171.213914 616.243131 \nL 173.209943 615.562533 \nL 175.301932 614.883893 \nL 176.015372 614.62144 \nL 178.820802 613.685202 \nL 179.21089 613.558636 \nL 181.626231 612.836878 \nL 183.676687 612.23338 \nL 184.43166 611.903184 \nL 187.23709 610.901694 \nL 187.295801 610.882637 \nL 190.042519 609.945544 \nL 191.229132 609.565876 \nL 192.847948 608.972694 \nL 195.291787 608.206638 \nL 195.653378 608.023892 \nL 198.458807 606.931766 \nL 198.611975 606.881382 \nL 201.264236 606.046003 \nL 202.950321 605.556125 \nL 204.069665 604.952962 \nL 205.987166 604.196887 \nL 206.875095 603.79713 \nL 209.531147 602.87163 \nL 209.680524 602.745196 \nL 212.031468 601.512393 \nL 212.485953 601.20288 \nL 214.604796 600.195631 \nL 212.485953 599.332898 \nL 209.680524 599.642215 \nL 206.875095 600.044584 \nL 206.119835 600.195631 \nL 204.069665 600.744228 \nL 201.264236 601.428591 \nL 200.98009 601.512393 \nL 198.458807 602.079689 \nL 195.653378 602.736201 \nL 195.197402 602.87163 \nL 192.847948 603.538791 \nL 190.413592 604.196887 \nL 190.042519 604.289556 \nL 187.23709 605.120285 \nL 185.994074 605.556125 \nL 184.43166 606.023525 \nL 181.626231 606.765767 \nL 181.218577 606.881382 \nL 178.820802 607.643271 \nL 177.285692 608.206638 \nL 176.015372 608.584925 \nL 173.209943 609.423319 \nL 172.784613 609.565876 \nL 170.404514 610.326148 \nL 168.665307 610.882637 \nL 167.599085 611.219098 \nL 164.793655 612.19431 \nL 164.696629 612.23338 \nL 161.988226 613.088091 \nL 160.431152 613.558636 \nL 159.182797 613.975683 \nL 156.40182 614.883893 \nL 156.377367 614.892179 \nL 153.571938 615.834356 \nL 152.351928 616.243131 \nL 150.766509 616.779166 \nL 148.04421 617.559892 \nL 147.96108 617.593657 \nL 145.15565 618.666979 \nL 144.416431 618.93612 \nL 142.350221 619.66796 \nL 140.429958 620.269872 \nL 139.544792 620.693321 \nL 136.972 621.595129 \nL 136.739362 621.759525 \nL 134.413926 622.971357 \nL 133.933933 623.402619 \nL 132.399201 624.313604 \nz\nM 136.347831 622.971357 \nL 136.739362 622.760724 \nL 138.351316 621.595129 \nL 139.544792 621.167219 \nL 141.390714 620.269872 \nL 142.350221 619.964321 \nL 145.15565 618.96604 \nL 145.23198 618.93612 \nL 147.96108 617.947329 \nL 148.901465 617.559892 \nL 150.766509 617.017459 \nL 153.030813 616.243131 \nL 153.571938 616.05978 \nL 156.377367 615.149151 \nL 157.150518 614.883893 \nL 159.182797 614.212013 \nL 161.116278 613.558636 \nL 161.988226 613.292145 \nL 164.793655 612.437245 \nL 165.4077 612.23338 \nL 167.599085 611.463397 \nL 169.416513 610.882637 \nL 170.404514 610.562577 \nL 173.209943 609.677833 \nL 173.562924 609.565876 \nL 176.015372 608.836533 \nL 178.101918 608.206638 \nL 178.820802 607.939244 \nL 181.626231 607.057075 \nL 182.268181 606.881382 \nL 184.43166 606.318049 \nL 186.938586 605.556125 \nL 187.23709 605.449815 \nL 190.042519 604.649761 \nL 191.814088 604.196887 \nL 192.847948 603.910894 \nL 195.653378 603.189762 \nL 196.853863 602.87163 \nL 198.458807 602.498666 \nL 201.264236 601.975366 \nL 203.832059 601.512393 \nL 204.069665 601.454557 \nL 206.875095 601.091519 \nL 209.000244 601.512393 \nL 207.843134 602.87163 \nL 206.875095 603.199541 \nL 204.60907 604.196887 \nL 204.069665 604.404738 \nL 201.895579 605.556125 \nL 201.264236 605.736356 \nL 198.458807 606.556743 \nL 197.502316 606.881382 \nL 195.653378 607.579515 \nL 194.393992 608.206638 \nL 192.847948 608.684028 \nL 190.408765 609.565876 \nL 190.042519 609.68147 \nL 187.23709 610.600808 \nL 186.478453 610.882637 \nL 184.43166 611.602081 \nL 182.971356 612.23338 \nL 181.626231 612.624636 \nL 178.820802 613.445469 \nL 178.464555 613.558636 \nL 176.015372 614.363716 \nL 174.584525 614.883893 \nL 173.209943 615.324484 \nL 170.48337 616.243131 \nL 170.404514 616.267268 \nL 167.599085 617.0792 \nL 165.938422 617.559892 \nL 164.793655 617.94847 \nL 161.988226 618.901853 \nL 161.889545 618.93612 \nL 159.182797 619.713419 \nL 157.338845 620.269872 \nL 156.377367 620.546732 \nL 153.571938 621.247153 \nL 152.067877 621.595129 \nL 150.766509 621.962031 \nL 147.96108 622.6314 \nL 146.364647 622.971357 \nL 145.15565 623.204608 \nL 142.350221 623.621869 \nL 139.544792 623.943923 \nL 136.739362 623.763093 \nz\n\" style=\"fill:#ffffff;\"/>\n    <path clip-path=\"url(#p5e09f7d5ca)\" d=\"M 60.992771 623.055581 \nL 63.798201 623.84306 \nL 66.60363 623.725908 \nL 67.402649 622.971357 \nL 66.60363 622.321383 \nL 65.747424 621.595129 \nL 64.002007 620.269872 \nL 63.798201 620.147064 \nL 61.157104 618.93612 \nL 60.992771 618.839694 \nL 58.187342 618.439625 \nL 57.765396 618.93612 \nL 57.090967 620.269872 \nL 58.187342 621.274677 \nL 58.820103 621.595129 \nL 60.845927 622.971357 \nz\n\" style=\"fill:#ffffff;\"/>\n   </g>\n   <g id=\"PathCollection_14\">\n    <path clip-path=\"url(#p5e09f7d5ca)\" d=\"M 136.739362 623.763093 \nL 139.544792 623.943923 \nL 142.350221 623.621869 \nL 145.15565 623.204608 \nL 146.364647 622.971357 \nL 147.96108 622.6314 \nL 150.766509 621.962031 \nL 152.067877 621.595129 \nL 153.571938 621.247153 \nL 156.377367 620.546732 \nL 157.338845 620.269872 \nL 159.182797 619.713419 \nL 161.889545 618.93612 \nL 161.988226 618.901853 \nL 164.793655 617.94847 \nL 165.938422 617.559892 \nL 167.599085 617.0792 \nL 170.404514 616.267268 \nL 170.48337 616.243131 \nL 173.209943 615.324484 \nL 174.584525 614.883893 \nL 176.015372 614.363716 \nL 178.464555 613.558636 \nL 178.820802 613.445469 \nL 181.626231 612.624636 \nL 182.971356 612.23338 \nL 184.43166 611.602081 \nL 186.478453 610.882637 \nL 187.23709 610.600808 \nL 190.042519 609.68147 \nL 190.408765 609.565876 \nL 192.847948 608.684028 \nL 194.393992 608.206638 \nL 195.653378 607.579515 \nL 197.502316 606.881382 \nL 198.458807 606.556743 \nL 201.264236 605.736356 \nL 201.895579 605.556125 \nL 204.069665 604.404738 \nL 204.60907 604.196887 \nL 206.875095 603.199541 \nL 207.843134 602.87163 \nL 209.000244 601.512393 \nL 206.875095 601.091519 \nL 204.069665 601.454557 \nL 203.832059 601.512393 \nL 201.264236 601.975366 \nL 198.458807 602.498666 \nL 196.853863 602.87163 \nL 195.653378 603.189762 \nL 192.847948 603.910894 \nL 191.814088 604.196887 \nL 190.042519 604.649761 \nL 187.23709 605.449815 \nL 186.938586 605.556125 \nL 184.43166 606.318049 \nL 182.268181 606.881382 \nL 181.626231 607.057075 \nL 178.820802 607.939244 \nL 178.101918 608.206638 \nL 176.015372 608.836533 \nL 173.562924 609.565876 \nL 173.209943 609.677833 \nL 170.404514 610.562577 \nL 169.416513 610.882637 \nL 167.599085 611.463397 \nL 165.4077 612.23338 \nL 164.793655 612.437245 \nL 161.988226 613.292145 \nL 161.116278 613.558636 \nL 159.182797 614.212013 \nL 157.150518 614.883893 \nL 156.377367 615.149151 \nL 153.571938 616.05978 \nL 153.030813 616.243131 \nL 150.766509 617.017459 \nL 148.901465 617.559892 \nL 147.96108 617.947329 \nL 145.23198 618.93612 \nL 145.15565 618.96604 \nL 142.350221 619.964321 \nL 141.390714 620.269872 \nL 139.544792 621.167219 \nL 138.351316 621.595129 \nL 136.739362 622.760724 \nL 136.347831 622.971357 \nz\nM 139.397786 622.971357 \nL 139.544792 622.53056 \nL 139.75227 621.595129 \nL 142.321803 620.269872 \nL 142.350221 620.260682 \nL 145.15565 619.367023 \nL 146.236737 618.93612 \nL 147.96108 618.301001 \nL 149.735022 617.559892 \nL 150.766509 617.255751 \nL 153.571938 616.305233 \nL 153.730855 616.243131 \nL 156.377367 615.406122 \nL 157.881076 614.883893 \nL 159.182797 614.448342 \nL 161.786183 613.558636 \nL 161.988226 613.496199 \nL 164.793655 612.679121 \nL 166.120376 612.23338 \nL 167.599085 611.707695 \nL 170.149459 610.882637 \nL 170.404514 610.799006 \nL 173.209943 609.959031 \nL 174.431689 609.565876 \nL 176.015372 609.088142 \nL 178.820802 608.237614 \nL 178.928127 608.206638 \nL 181.626231 607.381452 \nL 183.418639 606.881382 \nL 184.43166 606.612573 \nL 187.23709 605.842522 \nL 188.131579 605.556125 \nL 190.042519 605.009966 \nL 192.847948 604.304312 \nL 193.39023 604.196887 \nL 195.653378 603.690323 \nL 198.458807 602.970407 \nL 198.894152 602.87163 \nL 201.264236 602.526404 \nL 204.069665 602.393985 \nL 205.573462 602.87163 \nL 204.069665 603.461287 \nL 202.860378 604.196887 \nL 201.264236 605.082805 \nL 200.710878 605.556125 \nL 198.458807 606.175411 \nL 196.338612 606.881382 \nL 195.653378 607.135138 \nL 193.468646 608.206638 \nL 192.847948 608.395363 \nL 190.042519 609.349198 \nL 189.530822 609.565876 \nL 187.23709 610.29699 \nL 185.638664 610.882637 \nL 184.43166 611.300977 \nL 182.24913 612.23338 \nL 181.626231 612.412394 \nL 178.820802 613.207664 \nL 177.70195 613.558636 \nL 176.015372 614.105992 \nL 173.849634 614.883893 \nL 173.209943 615.086435 \nL 170.404514 615.994706 \nL 169.717939 616.243131 \nL 167.599085 616.849043 \nL 165.109706 617.559892 \nL 164.793655 617.665702 \nL 161.988226 618.577821 \nL 160.940096 618.93612 \nL 159.182797 619.432786 \nL 156.377367 620.26512 \nL 156.361639 620.269872 \nL 153.571938 620.945116 \nL 150.766509 621.576745 \nL 150.670829 621.595129 \nL 147.96108 622.183075 \nL 145.15565 622.691099 \nL 143.133225 622.971357 \nL 142.350221 623.064432 \nL 139.544792 623.013887 \nz\n\" style=\"fill:#ffffff;\"/>\n   </g>\n   <g id=\"PathCollection_15\">\n    <path clip-path=\"url(#p5e09f7d5ca)\" d=\"M 139.544792 623.013887 \nL 142.350221 623.064432 \nL 143.133225 622.971357 \nL 145.15565 622.691099 \nL 147.96108 622.183075 \nL 150.670829 621.595129 \nL 150.766509 621.576745 \nL 153.571938 620.945116 \nL 156.361639 620.269872 \nL 156.377367 620.26512 \nL 159.182797 619.432786 \nL 160.940096 618.93612 \nL 161.988226 618.577821 \nL 164.793655 617.665702 \nL 165.109706 617.559892 \nL 167.599085 616.849043 \nL 169.717939 616.243131 \nL 170.404514 615.994706 \nL 173.209943 615.086435 \nL 173.849634 614.883893 \nL 176.015372 614.105992 \nL 177.70195 613.558636 \nL 178.820802 613.207664 \nL 181.626231 612.412394 \nL 182.24913 612.23338 \nL 184.43166 611.300977 \nL 185.638664 610.882637 \nL 187.23709 610.29699 \nL 189.530822 609.565876 \nL 190.042519 609.349198 \nL 192.847948 608.395363 \nL 193.468646 608.206638 \nL 195.653378 607.135138 \nL 196.338612 606.881382 \nL 198.458807 606.175411 \nL 200.710878 605.556125 \nL 201.264236 605.082805 \nL 202.860378 604.196887 \nL 204.069665 603.461287 \nL 205.573462 602.87163 \nL 204.069665 602.393985 \nL 201.264236 602.526404 \nL 198.894152 602.87163 \nL 198.458807 602.970407 \nL 195.653378 603.690323 \nL 193.39023 604.196887 \nL 192.847948 604.304312 \nL 190.042519 605.009966 \nL 188.131579 605.556125 \nL 187.23709 605.842522 \nL 184.43166 606.612573 \nL 183.418639 606.881382 \nL 181.626231 607.381452 \nL 178.928127 608.206638 \nL 178.820802 608.237614 \nL 176.015372 609.088142 \nL 174.431689 609.565876 \nL 173.209943 609.959031 \nL 170.404514 610.799006 \nL 170.149459 610.882637 \nL 167.599085 611.707695 \nL 166.120376 612.23338 \nL 164.793655 612.679121 \nL 161.988226 613.496199 \nL 161.786183 613.558636 \nL 159.182797 614.448342 \nL 157.881076 614.883893 \nL 156.377367 615.406122 \nL 153.730855 616.243131 \nL 153.571938 616.305233 \nL 150.766509 617.255751 \nL 149.735022 617.559892 \nL 147.96108 618.301001 \nL 146.236737 618.93612 \nL 145.15565 619.367023 \nL 142.350221 620.260682 \nL 142.321803 620.269872 \nL 139.75227 621.595129 \nL 139.544792 622.53056 \nL 139.397786 622.971357 \nz\nM 141.811026 621.595129 \nL 142.350221 621.303509 \nL 143.606636 620.269872 \nL 145.15565 619.768007 \nL 147.209092 618.93612 \nL 147.96108 618.654674 \nL 150.546156 617.559892 \nL 150.766509 617.494043 \nL 153.571938 616.637977 \nL 154.568349 616.243131 \nL 156.377367 615.663094 \nL 158.594353 614.883893 \nL 159.182797 614.684672 \nL 161.988226 613.766596 \nL 162.594788 613.558636 \nL 164.793655 612.920997 \nL 166.816597 612.23338 \nL 167.599085 611.951994 \nL 170.404514 611.067181 \nL 171.045958 610.882637 \nL 173.209943 610.240229 \nL 175.276124 609.565876 \nL 176.015372 609.33975 \nL 178.820802 608.558405 \nL 180.017712 608.206638 \nL 181.626231 607.705829 \nL 184.43166 606.918492 \nL 184.597421 606.881382 \nL 187.23709 606.265318 \nL 189.405394 605.556125 \nL 190.042519 605.370171 \nL 192.847948 604.76852 \nL 195.627528 604.196887 \nL 195.653378 604.190884 \nL 198.458807 603.869845 \nL 200.243843 604.196887 \nL 199.34415 605.556125 \nL 198.458807 605.794079 \nL 195.653378 606.616857 \nL 194.956991 606.881382 \nL 192.847948 607.917437 \nL 192.443939 608.206638 \nL 190.042519 608.963834 \nL 188.598739 609.565876 \nL 187.23709 609.993171 \nL 184.774815 610.882637 \nL 184.43166 610.999874 \nL 181.626231 612.164182 \nL 181.49705 612.23338 \nL 178.820802 612.96986 \nL 176.919557 613.558636 \nL 176.015372 613.848268 \nL 173.209943 614.833725 \nL 173.082594 614.883893 \nL 170.404514 615.716671 \nL 168.930521 616.243131 \nL 167.599085 616.618886 \nL 164.793655 617.386406 \nL 164.181665 617.559892 \nL 161.988226 618.25379 \nL 159.959778 618.93612 \nL 159.182797 619.152153 \nL 156.377367 619.905119 \nL 155.145594 620.269872 \nL 153.571938 620.64308 \nL 150.766509 621.19766 \nL 148.626962 621.595129 \nL 147.96108 621.73475 \nL 145.15565 622.070883 \nL 142.350221 621.935179 \nz\n\" style=\"fill:#ffffff;\"/>\n   </g>\n   <g id=\"PathCollection_16\">\n    <path clip-path=\"url(#p5e09f7d5ca)\" d=\"M 142.350221 621.935179 \nL 145.15565 622.070883 \nL 147.96108 621.73475 \nL 148.626962 621.595129 \nL 150.766509 621.19766 \nL 153.571938 620.64308 \nL 155.145594 620.269872 \nL 156.377367 619.905119 \nL 159.182797 619.152153 \nL 159.959778 618.93612 \nL 161.988226 618.25379 \nL 164.181665 617.559892 \nL 164.793655 617.386406 \nL 167.599085 616.618886 \nL 168.930521 616.243131 \nL 170.404514 615.716671 \nL 173.082594 614.883893 \nL 173.209943 614.833725 \nL 176.015372 613.848268 \nL 176.919557 613.558636 \nL 178.820802 612.96986 \nL 181.49705 612.23338 \nL 181.626231 612.164182 \nL 184.43166 610.999874 \nL 184.774815 610.882637 \nL 187.23709 609.993171 \nL 188.598739 609.565876 \nL 190.042519 608.963834 \nL 192.443939 608.206638 \nL 192.847948 607.917437 \nL 194.956991 606.881382 \nL 195.653378 606.616857 \nL 198.458807 605.794079 \nL 199.34415 605.556125 \nL 200.243843 604.196887 \nL 198.458807 603.869845 \nL 195.653378 604.190884 \nL 195.627528 604.196887 \nL 192.847948 604.76852 \nL 190.042519 605.370171 \nL 189.405394 605.556125 \nL 187.23709 606.265318 \nL 184.597421 606.881382 \nL 184.43166 606.918492 \nL 181.626231 607.705829 \nL 180.017712 608.206638 \nL 178.820802 608.558405 \nL 176.015372 609.33975 \nL 175.276124 609.565876 \nL 173.209943 610.240229 \nL 171.045958 610.882637 \nL 170.404514 611.067181 \nL 167.599085 611.951994 \nL 166.816597 612.23338 \nL 164.793655 612.920997 \nL 162.594788 613.558636 \nL 161.988226 613.766596 \nL 159.182797 614.684672 \nL 158.594353 614.883893 \nL 156.377367 615.663094 \nL 154.568349 616.243131 \nL 153.571938 616.637977 \nL 150.766509 617.494043 \nL 150.546156 617.559892 \nL 147.96108 618.654674 \nL 147.209092 618.93612 \nL 145.15565 619.768007 \nL 143.606636 620.269872 \nL 142.350221 621.303509 \nL 141.811026 621.595129 \nz\nM 144.850602 620.269872 \nL 145.15565 620.168991 \nL 147.96108 619.100825 \nL 148.273629 618.93612 \nL 150.766509 617.969651 \nL 151.607658 617.559892 \nL 153.571938 616.970722 \nL 155.383212 616.243131 \nL 156.377367 615.920066 \nL 159.182797 614.942444 \nL 159.342352 614.883893 \nL 161.988226 614.066244 \nL 163.447867 613.558636 \nL 164.793655 613.162873 \nL 167.497105 612.23338 \nL 167.599085 612.196292 \nL 170.404514 611.352733 \nL 172.012353 610.882637 \nL 173.209943 610.521428 \nL 176.015372 609.609348 \nL 176.147901 609.565876 \nL 178.820802 608.879197 \nL 181.069297 608.206638 \nL 181.626231 608.030206 \nL 184.43166 607.343506 \nL 186.433587 606.881382 \nL 187.23709 606.688113 \nL 190.042519 606.016474 \nL 191.223961 605.556125 \nL 192.847948 605.232728 \nL 195.653378 604.983089 \nL 197.525602 605.556125 \nL 195.653378 606.000198 \nL 193.268267 606.881382 \nL 192.847948 607.08212 \nL 191.245672 608.206638 \nL 190.042519 608.578469 \nL 187.636923 609.565876 \nL 187.23709 609.689352 \nL 184.43166 610.61335 \nL 183.772804 610.882637 \nL 181.626231 611.722183 \nL 180.658593 612.23338 \nL 178.820802 612.732055 \nL 176.116322 613.558636 \nL 176.015372 613.590544 \nL 173.209943 614.497393 \nL 172.21466 614.883893 \nL 170.404514 615.438636 \nL 168.12199 616.243131 \nL 167.599085 616.388729 \nL 164.793655 617.109186 \nL 163.177208 617.559892 \nL 161.988226 617.929758 \nL 159.182797 618.830574 \nL 158.860209 618.93612 \nL 156.377367 619.545118 \nL 153.878442 620.269872 \nL 153.571938 620.341044 \nL 150.766509 620.818574 \nL 147.96108 621.168324 \nL 145.15565 620.958025 \nz\n\" style=\"fill:#ffffff;\"/>\n   </g>\n   <g id=\"PathCollection_17\">\n    <path clip-path=\"url(#p5e09f7d5ca)\" d=\"M 145.15565 620.958025 \nL 147.96108 621.168324 \nL 150.766509 620.818574 \nL 153.571938 620.341044 \nL 153.878442 620.269872 \nL 156.377367 619.545118 \nL 158.860209 618.93612 \nL 159.182797 618.830574 \nL 161.988226 617.929758 \nL 163.177208 617.559892 \nL 164.793655 617.109186 \nL 167.599085 616.388729 \nL 168.12199 616.243131 \nL 170.404514 615.438636 \nL 172.21466 614.883893 \nL 173.209943 614.497393 \nL 176.015372 613.590544 \nL 176.116322 613.558636 \nL 178.820802 612.732055 \nL 180.658593 612.23338 \nL 181.626231 611.722183 \nL 183.772804 610.882637 \nL 184.43166 610.61335 \nL 187.23709 609.689352 \nL 187.636923 609.565876 \nL 190.042519 608.578469 \nL 191.245672 608.206638 \nL 192.847948 607.08212 \nL 193.268267 606.881382 \nL 195.653378 606.000198 \nL 197.525602 605.556125 \nL 195.653378 604.983089 \nL 192.847948 605.232728 \nL 191.223961 605.556125 \nL 190.042519 606.016474 \nL 187.23709 606.688113 \nL 186.433587 606.881382 \nL 184.43166 607.343506 \nL 181.626231 608.030206 \nL 181.069297 608.206638 \nL 178.820802 608.879197 \nL 176.147901 609.565876 \nL 176.015372 609.609348 \nL 173.209943 610.521428 \nL 172.012353 610.882637 \nL 170.404514 611.352733 \nL 167.599085 612.196292 \nL 167.497105 612.23338 \nL 164.793655 613.162873 \nL 163.447867 613.558636 \nL 161.988226 614.066244 \nL 159.342352 614.883893 \nL 159.182797 614.942444 \nL 156.377367 615.920066 \nL 155.383212 616.243131 \nL 153.571938 616.970722 \nL 151.607658 617.559892 \nL 150.766509 617.969651 \nL 148.273629 618.93612 \nL 147.96108 619.100825 \nL 145.15565 620.168991 \nL 144.850602 620.269872 \nz\nM 146.938751 620.269872 \nL 147.96108 619.90735 \nL 149.759017 618.93612 \nL 150.766509 618.53588 \nL 152.732698 617.559892 \nL 153.571938 617.303466 \nL 156.176632 616.243131 \nL 156.377367 616.177038 \nL 159.182797 615.315334 \nL 160.339152 614.883893 \nL 161.988226 614.365892 \nL 164.277475 613.558636 \nL 164.793655 613.404749 \nL 167.599085 612.554034 \nL 168.437774 612.23338 \nL 170.404514 611.638284 \nL 172.948735 610.882637 \nL 173.209943 610.802626 \nL 176.015372 610.038587 \nL 177.426117 609.565876 \nL 178.820802 609.199988 \nL 181.626231 608.459446 \nL 182.514832 608.206638 \nL 184.43166 607.768521 \nL 187.23709 607.303391 \nL 189.963828 608.206638 \nL 187.23709 609.106288 \nL 186.418432 609.565876 \nL 184.43166 610.172362 \nL 182.661757 610.882637 \nL 181.626231 611.280184 \nL 179.796153 612.23338 \nL 178.820802 612.49425 \nL 176.015372 613.266312 \nL 175.122296 613.558636 \nL 173.209943 614.161061 \nL 171.321002 614.883893 \nL 170.404514 615.160601 \nL 167.599085 616.08926 \nL 167.20144 616.243131 \nL 164.793655 616.831966 \nL 162.138136 617.559892 \nL 161.988226 617.605726 \nL 159.182797 618.372063 \nL 157.417331 618.93612 \nL 156.377367 619.185117 \nL 153.571938 619.793057 \nL 151.832994 620.269872 \nL 150.766509 620.439488 \nL 147.96108 620.548483 \nz\n\" style=\"fill:#ffffff;\"/>\n   </g>\n   <g id=\"PathCollection_18\">\n    <path clip-path=\"url(#p5e09f7d5ca)\" d=\"M 147.96108 620.548483 \nL 150.766509 620.439488 \nL 151.832994 620.269872 \nL 153.571938 619.793057 \nL 156.377367 619.185117 \nL 157.417331 618.93612 \nL 159.182797 618.372063 \nL 161.988226 617.605726 \nL 162.138136 617.559892 \nL 164.793655 616.831966 \nL 167.20144 616.243131 \nL 167.599085 616.08926 \nL 170.404514 615.160601 \nL 171.321002 614.883893 \nL 173.209943 614.161061 \nL 175.122296 613.558636 \nL 176.015372 613.266312 \nL 178.820802 612.49425 \nL 179.796153 612.23338 \nL 181.626231 611.280184 \nL 182.661757 610.882637 \nL 184.43166 610.172362 \nL 186.418432 609.565876 \nL 187.23709 609.106288 \nL 189.963828 608.206638 \nL 187.23709 607.303391 \nL 184.43166 607.768521 \nL 182.514832 608.206638 \nL 181.626231 608.459446 \nL 178.820802 609.199988 \nL 177.426117 609.565876 \nL 176.015372 610.038587 \nL 173.209943 610.802626 \nL 172.948735 610.882637 \nL 170.404514 611.638284 \nL 168.437774 612.23338 \nL 167.599085 612.554034 \nL 164.793655 613.404749 \nL 164.277475 613.558636 \nL 161.988226 614.365892 \nL 160.339152 614.883893 \nL 159.182797 615.315334 \nL 156.377367 616.177038 \nL 156.176632 616.243131 \nL 153.571938 617.303466 \nL 152.732698 617.559892 \nL 150.766509 618.53588 \nL 149.759017 618.93612 \nL 147.96108 619.90735 \nL 146.938751 620.269872 \nz\nM 152.032009 618.93612 \nL 153.571938 618.083294 \nL 154.116908 617.559892 \nL 156.377367 616.805359 \nL 157.34073 616.243131 \nL 159.182797 615.688224 \nL 161.304054 614.883893 \nL 161.988226 614.66554 \nL 164.793655 613.750707 \nL 165.318236 613.558636 \nL 167.599085 612.93208 \nL 169.397515 612.23338 \nL 170.404514 611.923835 \nL 173.209943 611.186754 \nL 174.435411 610.882637 \nL 176.015372 610.467825 \nL 178.652348 609.565876 \nL 178.820802 609.520779 \nL 181.626231 609.013738 \nL 184.376068 608.206638 \nL 184.43166 608.193536 \nL 187.23709 608.080742 \nL 187.632258 608.206638 \nL 187.23709 608.332032 \nL 184.986923 609.565876 \nL 184.43166 609.731373 \nL 181.626231 610.761886 \nL 181.413132 610.882637 \nL 178.90832 612.23338 \nL 178.820802 612.256445 \nL 176.015372 612.932683 \nL 174.069623 613.558636 \nL 173.209943 613.824729 \nL 170.404514 614.880819 \nL 170.39772 614.883893 \nL 167.599085 615.670448 \nL 166.091776 616.243131 \nL 164.793655 616.554746 \nL 161.988226 617.183 \nL 160.543013 617.559892 \nL 159.182797 617.913552 \nL 156.377367 618.611 \nL 155.141313 618.93612 \nL 153.571938 619.169248 \nz\n\" style=\"fill:#ffffff;\"/>\n   </g>\n   <g id=\"PathCollection_19\">\n    <path clip-path=\"url(#p5e09f7d5ca)\" d=\"M 153.571938 619.169248 \nL 155.141313 618.93612 \nL 156.377367 618.611 \nL 159.182797 617.913552 \nL 160.543013 617.559892 \nL 161.988226 617.183 \nL 164.793655 616.554746 \nL 166.091776 616.243131 \nL 167.599085 615.670448 \nL 170.39772 614.883893 \nL 170.404514 614.880819 \nL 173.209943 613.824729 \nL 174.069623 613.558636 \nL 176.015372 612.932683 \nL 178.820802 612.256445 \nL 178.90832 612.23338 \nL 181.413132 610.882637 \nL 181.626231 610.761886 \nL 184.43166 609.731373 \nL 184.986923 609.565876 \nL 187.23709 608.332032 \nL 187.632258 608.206638 \nL 187.23709 608.080742 \nL 184.43166 608.193536 \nL 184.376068 608.206638 \nL 181.626231 609.013738 \nL 178.820802 609.520779 \nL 178.652348 609.565876 \nL 176.015372 610.467825 \nL 174.435411 610.882637 \nL 173.209943 611.186754 \nL 170.404514 611.923835 \nL 169.397515 612.23338 \nL 167.599085 612.93208 \nL 165.318236 613.558636 \nL 164.793655 613.750707 \nL 161.988226 614.66554 \nL 161.304054 614.883893 \nL 159.182797 615.688224 \nL 157.34073 616.243131 \nL 156.377367 616.805359 \nL 154.116908 617.559892 \nL 153.571938 618.083294 \nL 152.032009 618.93612 \nz\nM 158.590887 616.243131 \nL 159.182797 616.061114 \nL 161.988226 615.145002 \nL 162.545748 614.883893 \nL 164.793655 614.2787 \nL 166.714964 613.558636 \nL 167.599085 613.310125 \nL 170.32765 612.23338 \nL 170.404514 612.209386 \nL 173.209943 611.611816 \nL 176.015372 610.922823 \nL 176.50114 610.882637 \nL 178.820802 610.667142 \nL 179.20801 610.882637 \nL 178.820802 611.094698 \nL 177.585754 612.23338 \nL 176.015372 612.599054 \nL 173.209943 613.393021 \nL 172.763351 613.558636 \nL 170.404514 614.23685 \nL 168.939929 614.883893 \nL 167.599085 615.251635 \nL 164.939712 616.243131 \nL 164.793655 616.277526 \nL 161.988226 616.744013 \nL 159.182797 617.139812 \nz\n\" style=\"fill:#ffffff;\"/>\n   </g>\n   <g id=\"PathCollection_20\">\n    <path clip-path=\"url(#p5e09f7d5ca)\" d=\"M 159.182797 617.139812 \nL 161.988226 616.744013 \nL 164.793655 616.277526 \nL 164.939712 616.243131 \nL 167.599085 615.251635 \nL 168.939929 614.883893 \nL 170.404514 614.23685 \nL 172.763351 613.558636 \nL 173.209943 613.393021 \nL 176.015372 612.599054 \nL 177.585754 612.23338 \nL 178.820802 611.094698 \nL 179.20801 610.882637 \nL 178.820802 610.667142 \nL 176.50114 610.882637 \nL 176.015372 610.922823 \nL 173.209943 611.611816 \nL 170.404514 612.209386 \nL 170.32765 612.23338 \nL 167.599085 613.310125 \nL 166.714964 613.558636 \nL 164.793655 614.2787 \nL 162.545748 614.883893 \nL 161.988226 615.145002 \nL 159.182797 616.061114 \nL 158.590887 616.243131 \nz\nM 161.404064 616.243131 \nL 161.988226 616.107432 \nL 162.393134 616.243131 \nL 161.988226 616.305026 \nz\nM 164.51606 614.883893 \nL 164.793655 614.806693 \nL 166.355592 614.883893 \nL 164.793655 615.078327 \nz\nM 170.042442 613.558636 \nL 170.404514 613.485918 \nL 170.528148 613.558636 \nL 170.404514 613.592882 \nz\nM 172.297753 612.23338 \nL 173.209943 612.036879 \nL 176.015372 612.118533 \nL 176.156305 612.23338 \nL 176.015372 612.265425 \nL 173.209943 612.599988 \nz\n\" style=\"fill:#ffffff;\"/>\n   </g>\n   <g id=\"PathCollection_21\">\n    <path clip-path=\"url(#p5e09f7d5ca)\" d=\"M 161.988226 616.305026 \nL 162.393134 616.243131 \nL 161.988226 616.107432 \nL 161.404064 616.243131 \nz\n\" style=\"fill:#ffffff;\"/>\n    <path clip-path=\"url(#p5e09f7d5ca)\" d=\"M 164.793655 615.078327 \nL 166.355592 614.883893 \nL 164.793655 614.806693 \nL 164.51606 614.883893 \nz\n\" style=\"fill:#ffffff;\"/>\n    <path clip-path=\"url(#p5e09f7d5ca)\" d=\"M 170.404514 613.592882 \nL 170.528148 613.558636 \nL 170.404514 613.485918 \nL 170.042442 613.558636 \nz\n\" style=\"fill:#ffffff;\"/>\n    <path clip-path=\"url(#p5e09f7d5ca)\" d=\"M 173.209943 612.599988 \nL 176.015372 612.265425 \nL 176.156305 612.23338 \nL 176.015372 612.118533 \nL 173.209943 612.036879 \nL 172.297753 612.23338 \nz\n\" style=\"fill:#ffffff;\"/>\n   </g>\n   <g id=\"matplotlib.axis_7\">\n    <g id=\"xtick_65\">\n     <g id=\"line2d_166\">\n      <path clip-path=\"url(#p5e09f7d5ca)\" d=\"M 46.965625 776.718125 \nL 46.965625 519.083125 \n\" style=\"fill:none;stroke:#b0b0b0;stroke-linecap:square;stroke-width:0.8;\"/>\n     </g>\n     <g id=\"line2d_167\">\n      <g>\n       <use style=\"stroke:#000000;stroke-width:0.8;\" x=\"46.965625\" xlink:href=\"#mea06334881\" y=\"776.718125\"/>\n      </g>\n     </g>\n     <g id=\"text_43\">\n      <!-- $\\mathdefault{10^{-2}}$ -->\n      <g transform=\"translate(35.265625 791.316562)scale(0.1 -0.1)\">\n       <use transform=\"translate(0 0.7125)\" xlink:href=\"#DejaVuSerif-49\"/>\n       <use transform=\"translate(63.623047 0.7125)\" xlink:href=\"#DejaVuSerif-48\"/>\n       <use transform=\"translate(128.154453 37.046875)scale(0.7)\" xlink:href=\"#DejaVuSerif-8722\"/>\n       <use transform=\"translate(186.806797 37.046875)scale(0.7)\" xlink:href=\"#DejaVuSerif-50\"/>\n      </g>\n     </g>\n    </g>\n    <g id=\"xtick_66\">\n     <g id=\"line2d_168\">\n      <path clip-path=\"url(#p5e09f7d5ca)\" d=\"M 116.4 776.718125 \nL 116.4 519.083125 \n\" style=\"fill:none;stroke:#b0b0b0;stroke-linecap:square;stroke-width:0.8;\"/>\n     </g>\n     <g id=\"line2d_169\">\n      <g>\n       <use style=\"stroke:#000000;stroke-width:0.8;\" x=\"116.4\" xlink:href=\"#mea06334881\" y=\"776.718125\"/>\n      </g>\n     </g>\n     <g id=\"text_44\">\n      <!-- $\\mathdefault{10^{-1}}$ -->\n      <g transform=\"translate(104.7 791.316562)scale(0.1 -0.1)\">\n       <use transform=\"translate(0 0.7125)\" xlink:href=\"#DejaVuSerif-49\"/>\n       <use transform=\"translate(63.623047 0.7125)\" xlink:href=\"#DejaVuSerif-48\"/>\n       <use transform=\"translate(128.154453 37.046875)scale(0.7)\" xlink:href=\"#DejaVuSerif-8722\"/>\n       <use transform=\"translate(186.806797 37.046875)scale(0.7)\" xlink:href=\"#DejaVuSerif-49\"/>\n      </g>\n     </g>\n    </g>\n    <g id=\"xtick_67\">\n     <g id=\"line2d_170\">\n      <path clip-path=\"url(#p5e09f7d5ca)\" d=\"M 185.834375 776.718125 \nL 185.834375 519.083125 \n\" style=\"fill:none;stroke:#b0b0b0;stroke-linecap:square;stroke-width:0.8;\"/>\n     </g>\n     <g id=\"line2d_171\">\n      <g>\n       <use style=\"stroke:#000000;stroke-width:0.8;\" x=\"185.834375\" xlink:href=\"#mea06334881\" y=\"776.718125\"/>\n      </g>\n     </g>\n     <g id=\"text_45\">\n      <!-- $\\mathdefault{10^{0}}$ -->\n      <g transform=\"translate(177.034375 791.316562)scale(0.1 -0.1)\">\n       <use transform=\"translate(0 0.7125)\" xlink:href=\"#DejaVuSerif-49\"/>\n       <use transform=\"translate(63.623047 0.7125)\" xlink:href=\"#DejaVuSerif-48\"/>\n       <use transform=\"translate(128.154453 37.046875)scale(0.7)\" xlink:href=\"#DejaVuSerif-48\"/>\n      </g>\n     </g>\n    </g>\n    <g id=\"xtick_68\">\n     <g id=\"line2d_172\">\n      <path clip-path=\"url(#p5e09f7d5ca)\" d=\"M 255.26875 776.718125 \nL 255.26875 519.083125 \n\" style=\"fill:none;stroke:#b0b0b0;stroke-linecap:square;stroke-width:0.8;\"/>\n     </g>\n     <g id=\"line2d_173\">\n      <g>\n       <use style=\"stroke:#000000;stroke-width:0.8;\" x=\"255.26875\" xlink:href=\"#mea06334881\" y=\"776.718125\"/>\n      </g>\n     </g>\n     <g id=\"text_46\">\n      <!-- $\\mathdefault{10^{1}}$ -->\n      <g transform=\"translate(246.46875 791.316562)scale(0.1 -0.1)\">\n       <use transform=\"translate(0 0.7125)\" xlink:href=\"#DejaVuSerif-49\"/>\n       <use transform=\"translate(63.623047 0.7125)\" xlink:href=\"#DejaVuSerif-48\"/>\n       <use transform=\"translate(128.154453 37.046875)scale(0.7)\" xlink:href=\"#DejaVuSerif-49\"/>\n      </g>\n     </g>\n    </g>\n    <g id=\"xtick_69\">\n     <g id=\"line2d_174\">\n      <path clip-path=\"url(#p5e09f7d5ca)\" d=\"M 324.703125 776.718125 \nL 324.703125 519.083125 \n\" style=\"fill:none;stroke:#b0b0b0;stroke-linecap:square;stroke-width:0.8;\"/>\n     </g>\n     <g id=\"line2d_175\">\n      <g>\n       <use style=\"stroke:#000000;stroke-width:0.8;\" x=\"324.703125\" xlink:href=\"#mea06334881\" y=\"776.718125\"/>\n      </g>\n     </g>\n     <g id=\"text_47\">\n      <!-- $\\mathdefault{10^{2}}$ -->\n      <g transform=\"translate(315.903125 791.316562)scale(0.1 -0.1)\">\n       <use transform=\"translate(0 0.7125)\" xlink:href=\"#DejaVuSerif-49\"/>\n       <use transform=\"translate(63.623047 0.7125)\" xlink:href=\"#DejaVuSerif-48\"/>\n       <use transform=\"translate(128.154453 37.046875)scale(0.7)\" xlink:href=\"#DejaVuSerif-50\"/>\n      </g>\n     </g>\n    </g>\n    <g id=\"xtick_70\">\n     <g id=\"line2d_176\">\n      <g>\n       <use style=\"stroke:#000000;stroke-width:0.6;\" x=\"67.867455\" xlink:href=\"#m655ae1330b\" y=\"776.718125\"/>\n      </g>\n     </g>\n    </g>\n    <g id=\"xtick_71\">\n     <g id=\"line2d_177\">\n      <g>\n       <use style=\"stroke:#000000;stroke-width:0.6;\" x=\"80.094241\" xlink:href=\"#m655ae1330b\" y=\"776.718125\"/>\n      </g>\n     </g>\n    </g>\n    <g id=\"xtick_72\">\n     <g id=\"line2d_178\">\n      <g>\n       <use style=\"stroke:#000000;stroke-width:0.6;\" x=\"88.769284\" xlink:href=\"#m655ae1330b\" y=\"776.718125\"/>\n      </g>\n     </g>\n    </g>\n    <g id=\"xtick_73\">\n     <g id=\"line2d_179\">\n      <g>\n       <use style=\"stroke:#000000;stroke-width:0.6;\" x=\"95.49817\" xlink:href=\"#m655ae1330b\" y=\"776.718125\"/>\n      </g>\n     </g>\n    </g>\n    <g id=\"xtick_74\">\n     <g id=\"line2d_180\">\n      <g>\n       <use style=\"stroke:#000000;stroke-width:0.6;\" x=\"100.996071\" xlink:href=\"#m655ae1330b\" y=\"776.718125\"/>\n      </g>\n     </g>\n    </g>\n    <g id=\"xtick_75\">\n     <g id=\"line2d_181\">\n      <g>\n       <use style=\"stroke:#000000;stroke-width:0.6;\" x=\"105.644479\" xlink:href=\"#m655ae1330b\" y=\"776.718125\"/>\n      </g>\n     </g>\n    </g>\n    <g id=\"xtick_76\">\n     <g id=\"line2d_182\">\n      <g>\n       <use style=\"stroke:#000000;stroke-width:0.6;\" x=\"109.671114\" xlink:href=\"#m655ae1330b\" y=\"776.718125\"/>\n      </g>\n     </g>\n    </g>\n    <g id=\"xtick_77\">\n     <g id=\"line2d_183\">\n      <g>\n       <use style=\"stroke:#000000;stroke-width:0.6;\" x=\"113.222857\" xlink:href=\"#m655ae1330b\" y=\"776.718125\"/>\n      </g>\n     </g>\n    </g>\n    <g id=\"xtick_78\">\n     <g id=\"line2d_184\">\n      <g>\n       <use style=\"stroke:#000000;stroke-width:0.6;\" x=\"137.30183\" xlink:href=\"#m655ae1330b\" y=\"776.718125\"/>\n      </g>\n     </g>\n    </g>\n    <g id=\"xtick_79\">\n     <g id=\"line2d_185\">\n      <g>\n       <use style=\"stroke:#000000;stroke-width:0.6;\" x=\"149.528616\" xlink:href=\"#m655ae1330b\" y=\"776.718125\"/>\n      </g>\n     </g>\n    </g>\n    <g id=\"xtick_80\">\n     <g id=\"line2d_186\">\n      <g>\n       <use style=\"stroke:#000000;stroke-width:0.6;\" x=\"158.203659\" xlink:href=\"#m655ae1330b\" y=\"776.718125\"/>\n      </g>\n     </g>\n    </g>\n    <g id=\"xtick_81\">\n     <g id=\"line2d_187\">\n      <g>\n       <use style=\"stroke:#000000;stroke-width:0.6;\" x=\"164.932545\" xlink:href=\"#m655ae1330b\" y=\"776.718125\"/>\n      </g>\n     </g>\n    </g>\n    <g id=\"xtick_82\">\n     <g id=\"line2d_188\">\n      <g>\n       <use style=\"stroke:#000000;stroke-width:0.6;\" x=\"170.430446\" xlink:href=\"#m655ae1330b\" y=\"776.718125\"/>\n      </g>\n     </g>\n    </g>\n    <g id=\"xtick_83\">\n     <g id=\"line2d_189\">\n      <g>\n       <use style=\"stroke:#000000;stroke-width:0.6;\" x=\"175.078854\" xlink:href=\"#m655ae1330b\" y=\"776.718125\"/>\n      </g>\n     </g>\n    </g>\n    <g id=\"xtick_84\">\n     <g id=\"line2d_190\">\n      <g>\n       <use style=\"stroke:#000000;stroke-width:0.6;\" x=\"179.105489\" xlink:href=\"#m655ae1330b\" y=\"776.718125\"/>\n      </g>\n     </g>\n    </g>\n    <g id=\"xtick_85\">\n     <g id=\"line2d_191\">\n      <g>\n       <use style=\"stroke:#000000;stroke-width:0.6;\" x=\"182.657232\" xlink:href=\"#m655ae1330b\" y=\"776.718125\"/>\n      </g>\n     </g>\n    </g>\n    <g id=\"xtick_86\">\n     <g id=\"line2d_192\">\n      <g>\n       <use style=\"stroke:#000000;stroke-width:0.6;\" x=\"206.736205\" xlink:href=\"#m655ae1330b\" y=\"776.718125\"/>\n      </g>\n     </g>\n    </g>\n    <g id=\"xtick_87\">\n     <g id=\"line2d_193\">\n      <g>\n       <use style=\"stroke:#000000;stroke-width:0.6;\" x=\"218.962991\" xlink:href=\"#m655ae1330b\" y=\"776.718125\"/>\n      </g>\n     </g>\n    </g>\n    <g id=\"xtick_88\">\n     <g id=\"line2d_194\">\n      <g>\n       <use style=\"stroke:#000000;stroke-width:0.6;\" x=\"227.638034\" xlink:href=\"#m655ae1330b\" y=\"776.718125\"/>\n      </g>\n     </g>\n    </g>\n    <g id=\"xtick_89\">\n     <g id=\"line2d_195\">\n      <g>\n       <use style=\"stroke:#000000;stroke-width:0.6;\" x=\"234.36692\" xlink:href=\"#m655ae1330b\" y=\"776.718125\"/>\n      </g>\n     </g>\n    </g>\n    <g id=\"xtick_90\">\n     <g id=\"line2d_196\">\n      <g>\n       <use style=\"stroke:#000000;stroke-width:0.6;\" x=\"239.864821\" xlink:href=\"#m655ae1330b\" y=\"776.718125\"/>\n      </g>\n     </g>\n    </g>\n    <g id=\"xtick_91\">\n     <g id=\"line2d_197\">\n      <g>\n       <use style=\"stroke:#000000;stroke-width:0.6;\" x=\"244.513229\" xlink:href=\"#m655ae1330b\" y=\"776.718125\"/>\n      </g>\n     </g>\n    </g>\n    <g id=\"xtick_92\">\n     <g id=\"line2d_198\">\n      <g>\n       <use style=\"stroke:#000000;stroke-width:0.6;\" x=\"248.539864\" xlink:href=\"#m655ae1330b\" y=\"776.718125\"/>\n      </g>\n     </g>\n    </g>\n    <g id=\"xtick_93\">\n     <g id=\"line2d_199\">\n      <g>\n       <use style=\"stroke:#000000;stroke-width:0.6;\" x=\"252.091607\" xlink:href=\"#m655ae1330b\" y=\"776.718125\"/>\n      </g>\n     </g>\n    </g>\n    <g id=\"xtick_94\">\n     <g id=\"line2d_200\">\n      <g>\n       <use style=\"stroke:#000000;stroke-width:0.6;\" x=\"276.17058\" xlink:href=\"#m655ae1330b\" y=\"776.718125\"/>\n      </g>\n     </g>\n    </g>\n    <g id=\"xtick_95\">\n     <g id=\"line2d_201\">\n      <g>\n       <use style=\"stroke:#000000;stroke-width:0.6;\" x=\"288.397366\" xlink:href=\"#m655ae1330b\" y=\"776.718125\"/>\n      </g>\n     </g>\n    </g>\n    <g id=\"xtick_96\">\n     <g id=\"line2d_202\">\n      <g>\n       <use style=\"stroke:#000000;stroke-width:0.6;\" x=\"297.072409\" xlink:href=\"#m655ae1330b\" y=\"776.718125\"/>\n      </g>\n     </g>\n    </g>\n    <g id=\"xtick_97\">\n     <g id=\"line2d_203\">\n      <g>\n       <use style=\"stroke:#000000;stroke-width:0.6;\" x=\"303.801295\" xlink:href=\"#m655ae1330b\" y=\"776.718125\"/>\n      </g>\n     </g>\n    </g>\n    <g id=\"xtick_98\">\n     <g id=\"line2d_204\">\n      <g>\n       <use style=\"stroke:#000000;stroke-width:0.6;\" x=\"309.299196\" xlink:href=\"#m655ae1330b\" y=\"776.718125\"/>\n      </g>\n     </g>\n    </g>\n    <g id=\"xtick_99\">\n     <g id=\"line2d_205\">\n      <g>\n       <use style=\"stroke:#000000;stroke-width:0.6;\" x=\"313.947604\" xlink:href=\"#m655ae1330b\" y=\"776.718125\"/>\n      </g>\n     </g>\n    </g>\n    <g id=\"xtick_100\">\n     <g id=\"line2d_206\">\n      <g>\n       <use style=\"stroke:#000000;stroke-width:0.6;\" x=\"317.974239\" xlink:href=\"#m655ae1330b\" y=\"776.718125\"/>\n      </g>\n     </g>\n    </g>\n    <g id=\"xtick_101\">\n     <g id=\"line2d_207\">\n      <g>\n       <use style=\"stroke:#000000;stroke-width:0.6;\" x=\"321.525982\" xlink:href=\"#m655ae1330b\" y=\"776.718125\"/>\n      </g>\n     </g>\n    </g>\n    <g id=\"text_48\">\n     <!-- Emission rate $e_{n,p}$, s -->\n     <defs>\n      <path d=\"M 14.65625 19.921875 \nQ 14.453125 18.0625 14.453125 16.40625 \nQ 14.453125 11.8125 16.109375 8.796875 \nQ 19 3.421875 26.703125 3.421875 \nQ 32.375 3.421875 35.15625 5.125 \nQ 40.140625 8.203125 41.3125 12.15625 \nL 47.90625 12.15625 \nQ 45.953125 5.953125 38.671875 1.609375 \nQ 33.59375 -1.421875 23.53125 -1.421875 \nQ 13.484375 -1.421875 8.0625 6.0625 \nQ 4.25 11.28125 4.25 18.84375 \nQ 4.25 22.171875 4.984375 25.921875 \nQ 7.375 38.28125 15.625 45.796875 \nQ 23.875 53.328125 35.59375 53.328125 \nQ 54.6875 53.328125 54.6875 39.796875 \nQ 54.6875 29.890625 44.671875 25.046875 \nQ 34.46875 20.125 14.65625 19.921875 \nz\nM 39.703125 30.859375 \nQ 45.171875 34.078125 45.171875 40.140625 \nQ 45.171875 48.484375 34.078125 48.484375 \nQ 27.546875 48.484375 23 43.5 \nQ 18.453125 38.53125 15.671875 25.09375 \nQ 31.34375 25.828125 39.703125 30.859375 \nz\n\" id=\"DejaVuSerif-Italic-101\"/>\n      <path d=\"M 7.03125 0 \nL 16.109375 46.6875 \nL 7.515625 46.6875 \nL 8.5 51.90625 \nL 26.078125 51.90625 \nL 24.3125 42.671875 \nQ 27.828125 47.953125 32.3125 50.640625 \nQ 36.8125 53.328125 42.09375 53.328125 \nQ 50.6875 53.328125 53.8125 48.390625 \nQ 55.671875 45.40625 55.671875 40.4375 \nQ 55.671875 37.15625 54.828125 33.015625 \nL 49.421875 5.171875 \nL 57.421875 5.171875 \nL 56.453125 0 \nL 39.40625 0 \nL 45.265625 30.171875 \nQ 46.234375 35.203125 46.234375 38.578125 \nQ 46.234375 41.546875 45.453125 43.265625 \nQ 43.796875 46.78125 37.890625 46.78125 \nQ 31.640625 46.78125 27.484375 42.203125 \nQ 23.34375 37.640625 21.625 28.90625 \nL 16.015625 0 \nz\n\" id=\"DejaVuSerif-Italic-110\"/>\n      <path d=\"M 22.90625 28.515625 \nL 21.875 23.390625 \nQ 21.140625 19.53125 21.140625 16.453125 \nQ 21.140625 12.015625 22.703125 9.078125 \nQ 25.34375 4.203125 32.171875 4.203125 \nQ 39.0625 4.203125 43.671875 9.71875 \nQ 48.296875 15.234375 50.390625 25.984375 \nQ 51.3125 30.90625 51.3125 34.765625 \nQ 51.3125 39.265625 50 42.234375 \nQ 47.515625 47.703125 40.625 47.703125 \nQ 33.796875 47.703125 29.25 42.765625 \nQ 24.703125 37.84375 22.90625 28.515625 \nz\nM 17.4375 46.6875 \nL 8.796875 46.6875 \nL 9.8125 51.90625 \nL 27.4375 51.90625 \nL 25.875 43.796875 \nQ 29.4375 48.6875 33.984375 51 \nQ 38.53125 53.328125 44.53125 53.328125 \nQ 54.109375 53.328125 58.640625 45.75 \nQ 61.671875 40.765625 61.671875 33.796875 \nQ 61.671875 30.125 60.890625 25.984375 \nQ 58.5 13.765625 50.96875 6.171875 \nQ 43.453125 -1.421875 33.890625 -1.421875 \nQ 27.875 -1.421875 24.234375 0.890625 \nQ 20.609375 3.21875 18.953125 8.109375 \nL 13.28125 -20.796875 \nL 4.296875 -20.796875 \nz\n\" id=\"DejaVuSerif-Italic-112\"/>\n     </defs>\n     <g transform=\"translate(134.234375 804.79625)scale(0.1 -0.1)\">\n      <use transform=\"translate(0 0.421875)\" xlink:href=\"#DejaVuSerif-69\"/>\n      <use transform=\"translate(72.998047 0.421875)\" xlink:href=\"#DejaVuSerif-109\"/>\n      <use transform=\"translate(167.822266 0.421875)\" xlink:href=\"#DejaVuSerif-105\"/>\n      <use transform=\"translate(199.804688 0.421875)\" xlink:href=\"#DejaVuSerif-115\"/>\n      <use transform=\"translate(251.123047 0.421875)\" xlink:href=\"#DejaVuSerif-115\"/>\n      <use transform=\"translate(302.441406 0.421875)\" xlink:href=\"#DejaVuSerif-105\"/>\n      <use transform=\"translate(334.423828 0.421875)\" xlink:href=\"#DejaVuSerif-111\"/>\n      <use transform=\"translate(394.628906 0.421875)\" xlink:href=\"#DejaVuSerif-110\"/>\n      <use transform=\"translate(459.033203 0.421875)\" xlink:href=\"#DejaVuSerif-32\"/>\n      <use transform=\"translate(490.820312 0.421875)\" xlink:href=\"#DejaVuSerif-114\"/>\n      <use transform=\"translate(538.623047 0.421875)\" xlink:href=\"#DejaVuSerif-97\"/>\n      <use transform=\"translate(598.242188 0.421875)\" xlink:href=\"#DejaVuSerif-116\"/>\n      <use transform=\"translate(638.427734 0.421875)\" xlink:href=\"#DejaVuSerif-101\"/>\n      <use transform=\"translate(697.607422 0.421875)\" xlink:href=\"#DejaVuSerif-32\"/>\n      <use transform=\"translate(729.394531 0.421875)\" xlink:href=\"#DejaVuSerif-Italic-101\"/>\n      <use transform=\"translate(788.574219 -15.15)scale(0.7)\" xlink:href=\"#DejaVuSerif-Italic-110\"/>\n      <use transform=\"translate(833.657227 -15.15)scale(0.7)\" xlink:href=\"#DejaVuSerif-44\"/>\n      <use transform=\"translate(869.183594 -15.15)scale(0.7)\" xlink:href=\"#DejaVuSerif-Italic-112\"/>\n      <use transform=\"translate(916.588477 0.421875)\" xlink:href=\"#DejaVuSerif-44\"/>\n      <use transform=\"translate(948.375586 0.421875)\" xlink:href=\"#DejaVuSerif-32\"/>\n      <use transform=\"translate(980.162695 0.421875)\" xlink:href=\"#DejaVuSerif-115\"/>\n     </g>\n    </g>\n   </g>\n   <g id=\"matplotlib.axis_8\">\n    <g id=\"ytick_21\">\n     <g id=\"line2d_208\">\n      <path clip-path=\"url(#p5e09f7d5ca)\" d=\"M 46.965625 769.964413 \nL 324.703125 769.964413 \n\" style=\"fill:none;stroke:#b0b0b0;stroke-linecap:square;stroke-width:0.8;\"/>\n     </g>\n     <g id=\"line2d_209\">\n      <g>\n       <use style=\"stroke:#000000;stroke-width:0.8;\" x=\"46.965625\" xlink:href=\"#m840f3a8109\" y=\"769.964413\"/>\n      </g>\n     </g>\n     <g id=\"text_49\">\n      <!-- 150 -->\n      <g transform=\"translate(20.878125 773.763632)scale(0.1 -0.1)\">\n       <use xlink:href=\"#DejaVuSerif-49\"/>\n       <use x=\"63.623047\" xlink:href=\"#DejaVuSerif-53\"/>\n       <use x=\"127.246094\" xlink:href=\"#DejaVuSerif-48\"/>\n      </g>\n     </g>\n    </g>\n    <g id=\"ytick_22\">\n     <g id=\"line2d_210\">\n      <path clip-path=\"url(#p5e09f7d5ca)\" d=\"M 46.965625 727.488237 \nL 324.703125 727.488237 \n\" style=\"fill:none;stroke:#b0b0b0;stroke-linecap:square;stroke-width:0.8;\"/>\n     </g>\n     <g id=\"line2d_211\">\n      <g>\n       <use style=\"stroke:#000000;stroke-width:0.8;\" x=\"46.965625\" xlink:href=\"#m840f3a8109\" y=\"727.488237\"/>\n      </g>\n     </g>\n     <g id=\"text_50\">\n      <!-- 200 -->\n      <g transform=\"translate(20.878125 731.287455)scale(0.1 -0.1)\">\n       <use xlink:href=\"#DejaVuSerif-50\"/>\n       <use x=\"63.623047\" xlink:href=\"#DejaVuSerif-48\"/>\n       <use x=\"127.246094\" xlink:href=\"#DejaVuSerif-48\"/>\n      </g>\n     </g>\n    </g>\n    <g id=\"ytick_23\">\n     <g id=\"line2d_212\">\n      <path clip-path=\"url(#p5e09f7d5ca)\" d=\"M 46.965625 685.01206 \nL 324.703125 685.01206 \n\" style=\"fill:none;stroke:#b0b0b0;stroke-linecap:square;stroke-width:0.8;\"/>\n     </g>\n     <g id=\"line2d_213\">\n      <g>\n       <use style=\"stroke:#000000;stroke-width:0.8;\" x=\"46.965625\" xlink:href=\"#m840f3a8109\" y=\"685.01206\"/>\n      </g>\n     </g>\n     <g id=\"text_51\">\n      <!-- 250 -->\n      <g transform=\"translate(20.878125 688.811279)scale(0.1 -0.1)\">\n       <use xlink:href=\"#DejaVuSerif-50\"/>\n       <use x=\"63.623047\" xlink:href=\"#DejaVuSerif-53\"/>\n       <use x=\"127.246094\" xlink:href=\"#DejaVuSerif-48\"/>\n      </g>\n     </g>\n    </g>\n    <g id=\"ytick_24\">\n     <g id=\"line2d_214\">\n      <path clip-path=\"url(#p5e09f7d5ca)\" d=\"M 46.965625 642.535884 \nL 324.703125 642.535884 \n\" style=\"fill:none;stroke:#b0b0b0;stroke-linecap:square;stroke-width:0.8;\"/>\n     </g>\n     <g id=\"line2d_215\">\n      <g>\n       <use style=\"stroke:#000000;stroke-width:0.8;\" x=\"46.965625\" xlink:href=\"#m840f3a8109\" y=\"642.535884\"/>\n      </g>\n     </g>\n     <g id=\"text_52\">\n      <!-- 300 -->\n      <g transform=\"translate(20.878125 646.335103)scale(0.1 -0.1)\">\n       <use xlink:href=\"#DejaVuSerif-51\"/>\n       <use x=\"63.623047\" xlink:href=\"#DejaVuSerif-48\"/>\n       <use x=\"127.246094\" xlink:href=\"#DejaVuSerif-48\"/>\n      </g>\n     </g>\n    </g>\n    <g id=\"ytick_25\">\n     <g id=\"line2d_216\">\n      <path clip-path=\"url(#p5e09f7d5ca)\" d=\"M 46.965625 600.059708 \nL 324.703125 600.059708 \n\" style=\"fill:none;stroke:#b0b0b0;stroke-linecap:square;stroke-width:0.8;\"/>\n     </g>\n     <g id=\"line2d_217\">\n      <g>\n       <use style=\"stroke:#000000;stroke-width:0.8;\" x=\"46.965625\" xlink:href=\"#m840f3a8109\" y=\"600.059708\"/>\n      </g>\n     </g>\n     <g id=\"text_53\">\n      <!-- 350 -->\n      <g transform=\"translate(20.878125 603.858926)scale(0.1 -0.1)\">\n       <use xlink:href=\"#DejaVuSerif-51\"/>\n       <use x=\"63.623047\" xlink:href=\"#DejaVuSerif-53\"/>\n       <use x=\"127.246094\" xlink:href=\"#DejaVuSerif-48\"/>\n      </g>\n     </g>\n    </g>\n    <g id=\"ytick_26\">\n     <g id=\"line2d_218\">\n      <path clip-path=\"url(#p5e09f7d5ca)\" d=\"M 46.965625 557.583531 \nL 324.703125 557.583531 \n\" style=\"fill:none;stroke:#b0b0b0;stroke-linecap:square;stroke-width:0.8;\"/>\n     </g>\n     <g id=\"line2d_219\">\n      <g>\n       <use style=\"stroke:#000000;stroke-width:0.8;\" x=\"46.965625\" xlink:href=\"#m840f3a8109\" y=\"557.583531\"/>\n      </g>\n     </g>\n     <g id=\"text_54\">\n      <!-- 400 -->\n      <g transform=\"translate(20.878125 561.38275)scale(0.1 -0.1)\">\n       <use xlink:href=\"#DejaVuSerif-52\"/>\n       <use x=\"63.623047\" xlink:href=\"#DejaVuSerif-48\"/>\n       <use x=\"127.246094\" xlink:href=\"#DejaVuSerif-48\"/>\n      </g>\n     </g>\n    </g>\n    <g id=\"text_55\">\n     <!-- Temperature T, K -->\n     <g transform=\"translate(14.798438 691.759219)rotate(-90)scale(0.1 -0.1)\">\n      <use xlink:href=\"#DejaVuSerif-84\"/>\n      <use x=\"58.949219\" xlink:href=\"#DejaVuSerif-101\"/>\n      <use x=\"118.128906\" xlink:href=\"#DejaVuSerif-109\"/>\n      <use x=\"212.953125\" xlink:href=\"#DejaVuSerif-112\"/>\n      <use x=\"276.966797\" xlink:href=\"#DejaVuSerif-101\"/>\n      <use x=\"336.146484\" xlink:href=\"#DejaVuSerif-114\"/>\n      <use x=\"383.949219\" xlink:href=\"#DejaVuSerif-97\"/>\n      <use x=\"443.568359\" xlink:href=\"#DejaVuSerif-116\"/>\n      <use x=\"483.753906\" xlink:href=\"#DejaVuSerif-117\"/>\n      <use x=\"548.158203\" xlink:href=\"#DejaVuSerif-114\"/>\n      <use x=\"595.960938\" xlink:href=\"#DejaVuSerif-101\"/>\n      <use x=\"655.140625\" xlink:href=\"#DejaVuSerif-32\"/>\n      <use x=\"686.927734\" xlink:href=\"#DejaVuSerif-84\"/>\n      <use x=\"738.876953\" xlink:href=\"#DejaVuSerif-44\"/>\n      <use x=\"770.664062\" xlink:href=\"#DejaVuSerif-32\"/>\n      <use x=\"802.451172\" xlink:href=\"#DejaVuSerif-75\"/>\n     </g>\n    </g>\n   </g>\n   <g id=\"patch_20\">\n    <path d=\"M 46.965625 776.718125 \nL 46.965625 519.083125 \n\" style=\"fill:none;stroke:#000000;stroke-linecap:square;stroke-linejoin:miter;stroke-width:0.8;\"/>\n   </g>\n   <g id=\"patch_21\">\n    <path d=\"M 324.703125 776.718125 \nL 324.703125 519.083125 \n\" style=\"fill:none;stroke:#000000;stroke-linecap:square;stroke-linejoin:miter;stroke-width:0.8;\"/>\n   </g>\n   <g id=\"patch_22\">\n    <path d=\"M 46.965625 776.718125 \nL 324.703125 776.718125 \n\" style=\"fill:none;stroke:#000000;stroke-linecap:square;stroke-linejoin:miter;stroke-width:0.8;\"/>\n   </g>\n   <g id=\"patch_23\">\n    <path d=\"M 46.965625 519.083125 \nL 324.703125 519.083125 \n\" style=\"fill:none;stroke:#000000;stroke-linecap:square;stroke-linejoin:miter;stroke-width:0.8;\"/>\n   </g>\n   <g id=\"text_56\">\n    <!-- Contin -->\n    <g transform=\"translate(165.572187 513.083125)scale(0.12 -0.12)\">\n     <use xlink:href=\"#DejaVuSerif-67\"/>\n     <use x=\"76.513672\" xlink:href=\"#DejaVuSerif-111\"/>\n     <use x=\"136.71875\" xlink:href=\"#DejaVuSerif-110\"/>\n     <use x=\"201.123047\" xlink:href=\"#DejaVuSerif-116\"/>\n     <use x=\"241.308594\" xlink:href=\"#DejaVuSerif-105\"/>\n     <use x=\"273.291016\" xlink:href=\"#DejaVuSerif-110\"/>\n    </g>\n   </g>\n  </g>\n  <g id=\"axes_5\">\n   <g id=\"patch_24\">\n    <path d=\"M 405.128125 776.718125 \nL 627.318125 776.718125 \nL 627.318125 519.083125 \nL 405.128125 519.083125 \nz\n\" style=\"fill:#ffffff;\"/>\n   </g>\n   <g id=\"PathCollection_22\">\n    <path clip-path=\"url(#p224db4f40e)\" d=\"M 622.542778 724.07819 \nL 622.542778 721.993147 \nL 622.542778 719.908105 \nL 622.542778 717.823062 \nL 622.542778 715.73802 \nL 622.542778 713.652977 \nL 622.542778 711.567935 \nL 622.542778 709.482893 \nL 622.542778 707.39785 \nL 622.542778 705.312808 \nL 622.542778 703.227765 \nL 622.542778 701.142723 \nL 622.542778 699.05768 \nL 622.542778 696.972638 \nL 622.542778 694.887596 \nL 622.542778 692.802553 \nL 622.542778 690.717511 \nL 622.542778 688.632468 \nL 622.542778 686.547426 \nL 622.542778 684.462383 \nL 622.542778 682.377341 \nL 622.542778 680.292299 \nL 622.542778 678.207256 \nL 622.542778 676.122214 \nL 622.542778 674.037171 \nL 622.542778 671.952129 \nL 622.542778 669.867086 \nL 622.542778 667.782044 \nL 622.542778 665.697002 \nL 622.542778 663.611959 \nL 622.542778 661.526917 \nL 622.542778 659.441874 \nL 622.542778 657.356832 \nL 622.542778 655.271789 \nL 622.542778 653.186747 \nL 622.542778 651.101705 \nL 622.542778 649.016662 \nL 622.542778 646.93162 \nL 622.542778 644.846577 \nL 622.542778 642.761535 \nL 622.542778 640.676492 \nL 622.542778 638.59145 \nL 622.542778 636.506407 \nL 622.542778 634.421365 \nL 622.542778 632.336323 \nL 622.542778 630.25128 \nL 622.542778 628.166238 \nL 622.542778 626.081195 \nL 622.542778 623.996153 \nL 622.542778 621.91111 \nL 622.542778 619.826068 \nL 622.542778 617.741026 \nL 622.542778 615.655983 \nL 622.542778 613.570941 \nL 622.542778 611.485898 \nL 622.542778 609.400856 \nL 622.542778 607.315813 \nL 622.542778 605.230771 \nL 622.542778 603.145729 \nL 622.542778 601.060686 \nL 622.542778 598.975644 \nL 622.542778 596.890601 \nL 622.542778 594.805559 \nL 622.542778 592.720516 \nL 622.542778 590.635474 \nL 622.542778 588.550432 \nL 622.542778 586.465389 \nL 622.542778 584.380347 \nL 622.542778 582.295304 \nL 622.542778 580.210262 \nL 622.542778 578.125219 \nL 622.542778 576.040177 \nL 622.542778 573.955135 \nL 622.542778 571.870092 \nL 622.542778 569.78505 \nL 622.542778 567.700007 \nL 622.542778 565.614965 \nL 622.542778 563.529922 \nL 622.542778 561.44488 \nL 622.542778 559.359838 \nL 622.542778 557.274795 \nL 622.542778 555.189753 \nL 622.542778 553.10471 \nL 622.542778 551.019668 \nL 622.542778 548.934625 \nL 622.542778 546.849583 \nL 622.542778 544.764541 \nL 622.542778 542.679498 \nL 622.542778 540.594456 \nL 622.542778 538.509413 \nL 622.542778 536.424371 \nL 622.542778 534.339328 \nL 622.542778 532.254286 \nL 622.542778 530.169244 \nL 622.542778 528.084201 \nL 622.542778 525.999159 \nL 622.542778 523.914116 \nL 622.542778 521.829074 \nL 622.542778 519.744031 \nL 627.318125 519.083125 \nL 626.516216 519.19343 \nL 625.536393 519.328578 \nL 624.494721 519.472705 \nL 623.437289 519.619487 \nL 622.364471 519.768899 \nL 621.3209 519.914716 \nL 620.262099 520.063148 \nL 619.166599 520.217244 \nL 618.143664 520.361613 \nL 617.105733 520.508575 \nL 616.074574 520.655057 \nL 615.050122 520.801061 \nL 614.032311 520.946592 \nL 613.00008 521.094668 \nL 612.016358 521.236243 \nL 610.99736 521.383367 \nL 610.005612 521.527022 \nL 608.917904 521.685109 \nL 607.371471 521.91083 \nL 605.420158 522.19728 \nL 603.217493 522.522842 \nL 600.930016 522.863463 \nL 598.009473 523.302147 \nL 595.126608 523.739424 \nL 592.29918 524.172476 \nL 589.471748 524.609753 \nL 586.698686 525.042805 \nL 583.89211 525.485393 \nL 581.224809 525.910108 \nL 578.607345 526.330835 \nL 576.054653 526.744991 \nL 573.548487 527.155355 \nL 571.071856 527.564608 \nL 568.562614 527.983096 \nL 566.190555 528.38233 \nL 563.830392 528.783122 \nL 561.541155 529.175324 \nL 559.277072 529.566622 \nL 557.066149 529.952057 \nL 554.864963 530.339116 \nL 552.660321 530.730162 \nL 550.533931 531.110588 \nL 548.469595 531.483027 \nL 546.413159 531.857143 \nL 544.403404 532.225809 \nL 542.438877 532.589132 \nL 540.493444 532.951851 \nL 538.579119 533.311657 \nL 536.635273 533.679992 \nL 534.781905 534.034024 \nL 532.957471 534.385281 \nL 531.161299 534.733807 \nL 529.392737 535.079644 \nL 527.640075 535.425025 \nL 525.870485 535.776463 \nL 524.224996 536.105745 \nL 522.508144 536.451906 \nL 520.859196 536.786912 \nL 519.244895 537.117322 \nL 517.654133 537.445315 \nL 516.086399 537.770925 \nL 514.531362 538.096252 \nL 513.008348 538.417184 \nL 511.506912 538.735835 \nL 509.970078 539.064361 \nL 508.51123 539.37846 \nL 507.0543 539.694358 \nL 505.626721 540.006067 \nL 504.218792 540.315623 \nL 502.838896 540.621105 \nL 501.477617 540.924518 \nL 500.134583 541.225892 \nL 498.775682 541.532903 \nL 497.518453 541.818828 \nL 496.194914 542.121817 \nL 494.905303 542.419023 \nL 493.632625 542.714271 \nL 492.368652 543.009437 \nL 491.136753 543.298996 \nL 489.920617 543.586697 \nL 488.514996 543.92154 \nL 486.936105 544.300667 \nL 485.515645 544.644513 \nL 484.18183 544.969805 \nL 482.90997 545.282201 \nL 481.68381 545.585447 \nL 480.494914 545.88145 \nL 479.287288 546.184131 \nL 478.149929 546.471081 \nL 477.026993 546.756206 \nL 475.931404 547.036146 \nL 474.855891 547.312668 \nL 473.799964 547.585823 \nL 472.763152 547.855664 \nL 471.726141 548.127191 \nL 470.682953 548.402005 \nL 469.738349 548.65231 \nL 468.707116 548.927177 \nL 467.718377 549.192309 \nL 466.759004 549.451074 \nL 465.804755 549.709948 \nL 464.855645 549.968919 \nL 463.928855 550.223252 \nL 462.978543 550.485548 \nL 462.072813 550.736975 \nL 461.17716 550.986999 \nL 460.285946 551.237177 \nL 459.410007 551.484434 \nL 458.549005 551.728812 \nL 457.697315 551.971865 \nL 456.849549 552.215113 \nL 455.985011 552.464542 \nL 455.186379 552.696195 \nL 454.34522 552.941485 \nL 453.538273 553.178068 \nL 452.744742 553.411941 \nL 451.959428 553.6446 \nL 451.182203 553.876058 \nL 450.40813 554.107771 \nL 449.646762 554.336855 \nL 448.897833 554.563345 \nL 448.123741 554.798654 \nL 447.390048 555.022828 \nL 446.66364 555.245886 \nL 445.944408 555.46784 \nL 445.232246 555.6887 \nL 444.527051 555.908478 \nL 443.81113 556.132706 \nL 443.128445 556.347574 \nL 442.447944 556.562784 \nL 441.752572 556.783771 \nL 441.093619 556.994194 \nL 440.419853 557.210373 \nL 439.769144 557.420149 \nL 439.124484 557.628948 \nL 438.473563 557.840765 \nL 437.844898 558.046295 \nL 437.201959 558.257471 \nL 436.580886 558.462415 \nL 435.965453 558.666425 \nL 435.34002 558.874706 \nL 434.73578 559.076853 \nL 434.12167 559.28324 \nL 433.532108 559.482276 \nL 432.928982 559.686809 \nL 432.353638 559.882795 \nL 431.768544 560.082984 \nL 431.192295 560.281025 \nL 430.621105 560.478194 \nL 430.058498 560.673253 \nL 429.497196 560.868708 \nL 428.944286 561.062078 \nL 428.392617 561.255849 \nL 427.849156 561.44756 \nL 427.310315 561.638454 \nL 426.776033 561.828539 \nL 426.242873 562.019032 \nL 425.700806 562.213541 \nL 425.193331 562.396405 \nL 424.663591 562.588091 \nL 424.16451 562.769437 \nL 423.643496 562.959538 \nL 423.152602 563.13939 \nL 422.656051 563.322052 \nL 422.160358 563.505143 \nL 421.66869 563.68749 \nL 421.180998 563.869098 \nL 420.681793 564.055759 \nL 420.21735 564.230122 \nL 419.741301 564.409549 \nL 419.266026 564.589404 \nL 418.797532 564.767401 \nL 418.320868 564.949232 \nL 417.862766 565.124679 \nL 417.408229 565.299442 \nL 416.954317 565.474648 \nL 416.506809 565.648055 \nL 416.05989 565.821905 \nL 415.616418 565.995084 \nL 415.165113 566.172012 \nL 414.734078 566.341647 \nL 414.30352 566.511738 \nL 413.878957 566.680095 \nL 413.460292 566.846735 \nL 413.042016 567.013841 \nL 412.632214 567.178168 \nL 412.204072 567.350495 \nL 411.797722 567.514666 \nL 411.394333 567.678237 \nL 410.993872 567.841214 \nL 410.596307 568.003601 \nL 410.199037 568.166456 \nL 409.804639 568.328723 \nL 409.385219 568.50193 \nL 408.974048 568.672383 \nL 408.578458 568.836991 \nL 408.178329 569.004105 \nL 407.783625 569.169566 \nL 407.394258 569.33339 \nL 407.007722 569.496618 \nL 406.628796 569.657211 \nL 406.25257 569.817231 \nL 405.867163 569.98175 \nL 405.493983 570.141628 \nL 405.128125 570.298924 \nL 405.128125 572.383967 \nL 405.128125 574.469009 \nL 405.128125 576.554052 \nL 405.128125 578.639094 \nL 405.128125 580.724136 \nL 405.128125 582.809179 \nL 405.128125 584.894221 \nL 405.128125 586.979264 \nL 405.128125 589.064306 \nL 405.128125 591.149349 \nL 405.128125 593.234391 \nL 405.128125 595.319433 \nL 405.128125 597.404476 \nL 405.128125 599.489518 \nL 405.128125 601.574561 \nL 405.128125 603.659603 \nL 405.128125 605.744646 \nL 405.128125 607.829688 \nL 405.128125 609.91473 \nL 405.128125 611.999773 \nL 405.128125 614.084815 \nL 405.128125 616.169858 \nL 405.128125 618.2549 \nL 405.128125 620.339943 \nL 405.128125 622.424985 \nL 405.128125 624.510028 \nL 405.128125 626.59507 \nL 405.128125 628.680112 \nL 405.128125 630.765155 \nL 405.128125 632.850197 \nL 405.128125 634.93524 \nL 405.128125 637.020282 \nL 405.128125 639.105325 \nL 405.128125 641.190367 \nL 405.128125 643.275409 \nL 405.128125 645.360452 \nL 405.128125 647.445494 \nL 405.128125 649.530537 \nL 405.128125 651.615579 \nL 405.128125 653.700622 \nL 405.128125 655.785664 \nL 405.128125 657.870706 \nL 405.128125 659.955749 \nL 405.128125 662.040791 \nL 405.128125 664.125834 \nL 405.128125 666.210876 \nL 405.128125 668.295919 \nL 405.128125 670.380961 \nL 405.128125 672.466003 \nL 405.128125 674.551046 \nL 405.128125 676.636088 \nL 405.128125 678.721131 \nL 405.128125 680.806173 \nL 405.128125 682.891216 \nL 405.128125 684.976258 \nL 405.128125 687.0613 \nL 405.128125 689.146343 \nL 405.128125 691.231385 \nL 405.128125 693.316428 \nL 405.128125 695.40147 \nL 405.128125 697.486513 \nL 405.128125 699.571555 \nL 405.128125 701.656597 \nL 405.128125 703.74164 \nL 405.128125 705.826682 \nL 405.128125 707.911725 \nL 405.128125 709.996767 \nL 405.128125 712.08181 \nL 405.128125 714.166852 \nL 405.128125 716.251894 \nL 405.128125 718.336937 \nL 405.128125 720.421979 \nL 405.128125 722.507022 \nL 405.128125 724.592064 \nL 405.128125 726.677107 \nL 405.128125 728.762149 \nL 405.128125 730.847192 \nL 405.128125 732.932234 \nL 405.128125 733.958657 \nL 405.262425 734.959536 \nL 405.381035 736.993583 \nL 405.43092 739.057178 \nL 405.451878 741.13321 \nL 405.455865 743.216538 \nL 405.44559 745.305998 \nL 405.417808 747.402985 \nL 405.360485 749.512673 \nL 405.237481 751.6506 \nL 405.128125 752.645549 \nL 405.128125 753.782658 \nL 405.128125 755.867701 \nL 405.128125 757.952743 \nL 405.128125 760.037786 \nL 405.128125 762.122828 \nL 405.128125 764.20787 \nL 405.128125 766.292913 \nL 405.128125 768.377955 \nL 405.128125 770.462998 \nL 405.128125 772.54804 \nL 405.128125 774.633083 \nL 405.128125 776.718125 \nL 405.493983 776.560829 \nL 405.867163 776.400951 \nL 406.25257 776.236432 \nL 406.628796 776.076412 \nL 407.007722 775.915819 \nL 407.394258 775.752591 \nL 407.783625 775.588767 \nL 408.178329 775.423306 \nL 408.578458 775.256192 \nL 408.974048 775.091584 \nL 409.385219 774.921131 \nL 409.804639 774.747923 \nL 410.199037 774.585657 \nL 410.596307 774.422801 \nL 410.993872 774.260415 \nL 411.394333 774.097438 \nL 411.797722 773.933867 \nL 412.204072 773.769696 \nL 412.632214 773.597369 \nL 413.042016 773.433042 \nL 413.460292 773.265936 \nL 413.878957 773.099296 \nL 414.30352 772.930939 \nL 414.734078 772.760848 \nL 415.165113 772.591212 \nL 415.616418 772.414285 \nL 416.05989 772.241106 \nL 416.506809 772.067255 \nL 416.954317 771.893849 \nL 417.408229 771.718643 \nL 417.862766 771.54388 \nL 418.320868 771.368432 \nL 418.797532 771.186602 \nL 419.266026 771.008605 \nL 419.741301 770.828749 \nL 420.21735 770.649322 \nL 420.681793 770.474959 \nL 421.180998 770.288299 \nL 421.66869 770.106691 \nL 422.160358 769.924344 \nL 422.656051 769.741252 \nL 423.152602 769.558591 \nL 423.643496 769.378739 \nL 424.16451 769.188638 \nL 424.663591 769.007292 \nL 425.193331 768.815606 \nL 425.700806 768.632741 \nL 426.242873 768.438232 \nL 426.776033 768.24774 \nL 427.310315 768.057655 \nL 427.849156 767.866761 \nL 428.392617 767.67505 \nL 428.944286 767.481279 \nL 429.497196 767.287909 \nL 430.058498 767.092453 \nL 430.621105 766.897395 \nL 431.192295 766.700225 \nL 431.768544 766.502185 \nL 432.353638 766.301995 \nL 432.928982 766.10601 \nL 433.532108 765.901476 \nL 434.12167 765.702441 \nL 434.73578 765.496054 \nL 435.34002 765.293907 \nL 435.360102 765.287219 \nL 435.34002 765.278504 \nL 434.73578 765.137716 \nL 434.12167 763.711334 \nL 433.532108 763.970977 \nL 433.497951 763.828017 \nL 433.221985 761.836561 \nL 433.094017 759.794915 \nL 433.011086 757.737997 \nL 432.929283 755.680695 \nL 432.928982 755.673053 \nL 432.353638 754.590212 \nL 432.303842 753.808778 \nL 432.194512 751.761143 \nL 431.976453 749.750709 \nL 431.768544 749.29818 \nL 431.619729 747.787946 \nL 431.551362 745.7264 \nL 431.55804 743.639062 \nL 431.631607 741.528737 \nL 431.768544 739.805852 \nL 431.883282 741.442418 \nL 431.996566 743.4887 \nL 432.1058 745.536368 \nL 432.299061 747.555287 \nL 432.353638 747.838158 \nL 432.391056 747.523867 \nL 432.833426 745.288136 \nL 432.928982 744.944466 \nL 432.942364 745.251047 \nL 433.016871 747.310823 \nL 433.120504 749.360721 \nL 433.532108 751.008136 \nL 434.12167 749.575181 \nL 434.43367 751.002288 \nL 434.73578 751.838859 \nL 435.34002 751.247961 \nL 435.965453 751.577989 \nL 436.580886 751.140018 \nL 437.201959 750.345771 \nL 437.844898 750.223043 \nL 438.103608 749.785619 \nL 438.473563 748.97129 \nL 439.124484 748.754964 \nL 439.769144 747.524346 \nL 439.956915 747.098477 \nL 440.419853 745.803956 \nL 441.093619 744.879098 \nL 441.176332 744.6216 \nL 441.752572 742.650718 \nL 441.886756 742.309904 \nL 442.447944 740.687405 \nL 442.722452 739.959704 \nL 443.128445 738.727693 \nL 443.3459 737.677823 \nL 443.81113 735.59303 \nL 443.846756 735.435196 \nL 444.29007 733.211307 \nL 444.527051 732.192369 \nL 444.892287 730.938214 \nL 445.232246 729.714758 \nL 445.398521 728.695656 \nL 445.706602 726.515069 \nL 445.944408 724.713157 \nL 445.964572 724.350054 \nL 446.003664 722.252948 \nL 445.958204 720.181935 \nL 445.944408 719.979607 \nL 445.705957 718.1751 \nL 445.476512 716.161214 \nL 445.255256 714.144789 \nL 445.232246 713.98313 \nL 444.851601 712.185512 \nL 444.571526 710.187757 \nL 444.527051 709.918183 \nL 444.138647 708.238224 \nL 443.843339 706.245673 \nL 443.81113 706.070545 \nL 443.423755 704.292641 \nL 443.175071 702.285869 \nL 443.128445 701.994369 \nL 442.702585 700.350181 \nL 442.447944 698.716233 \nL 442.342381 698.379217 \nL 441.880784 696.440869 \nL 441.752572 695.814534 \nL 441.412769 694.50508 \nL 441.149955 692.503962 \nL 441.093619 692.146212 \nL 440.663915 690.574781 \nL 440.419853 689.165576 \nL 440.24669 688.623871 \nL 439.824709 686.674867 \nL 439.769144 686.409309 \nL 439.354752 684.741954 \nL 439.124484 683.080839 \nL 439.015423 682.766983 \nL 438.473563 680.860243 \nL 438.472967 680.858463 \nL 437.958091 678.94175 \nL 437.844898 678.352631 \nL 437.474806 677.015272 \nL 437.201959 675.504761 \nL 437.043892 675.072007 \nL 436.580886 673.744013 \nL 436.43236 673.188983 \nL 436.081134 671.220369 \nL 435.965453 670.426285 \nL 435.570011 669.305364 \nL 435.34002 668.602445 \nL 435.023163 667.402916 \nL 434.73578 665.846456 \nL 434.603183 665.45858 \nL 434.12167 663.846799 \nL 434.044182 663.561522 \nL 433.592085 661.629107 \nL 433.532108 661.345669 \nL 433.15963 659.690628 \nL 432.928982 658.198249 \nL 432.759723 657.74146 \nL 432.353638 656.560256 \nL 432.21618 655.841778 \nL 431.932945 653.853643 \nL 431.768544 652.448236 \nL 431.546089 651.901303 \nL 431.192295 650.968164 \nL 431.011523 650.00025 \nL 430.72208 648.015121 \nL 430.621105 647.280588 \nL 430.169657 646.121453 \nL 430.058498 645.795181 \nL 429.704937 644.198066 \nL 429.497196 643.000652 \nL 429.318196 642.247965 \nL 428.964765 640.286529 \nL 428.944286 640.152662 \nL 428.392617 639.114729 \nL 428.325584 638.426066 \nL 428.140456 636.406329 \nL 427.953722 634.387159 \nL 427.849156 633.412659 \nL 427.690453 632.395226 \nL 427.449414 630.395576 \nL 427.310315 628.958505 \nL 427.198372 628.399639 \nL 426.866362 626.432718 \nL 426.776033 625.813394 \nL 426.5006 624.478221 \nL 426.242873 623.057545 \nL 426.169912 622.511443 \nL 425.927491 620.513388 \nL 425.718737 618.503252 \nL 425.700806 618.323758 \nL 425.305296 616.567162 \nL 425.193331 615.552413 \nL 425.106419 614.553915 \nL 424.990666 612.510758 \nL 424.922255 610.45047 \nL 424.882309 608.379882 \nL 424.860746 606.302642 \nL 424.851836 604.220824 \nL 424.852305 602.135611 \nL 424.86037 600.047651 \nL 424.875104 597.957277 \nL 424.896278 595.864573 \nL 424.924257 593.769406 \nL 424.959857 591.671482 \nL 425.004535 589.570272 \nL 425.060427 587.465005 \nL 425.130843 585.354483 \nL 425.193331 583.834116 \nL 425.210106 583.240784 \nL 425.28164 581.129965 \nL 425.375743 579.011014 \nL 425.503258 576.880022 \nL 425.68263 574.730345 \nL 425.700806 574.545998 \nL 426.242873 573.094695 \nL 426.490075 572.355921 \nL 426.776033 571.571508 \nL 427.310315 571.847668 \nL 427.351586 572.049045 \nL 427.69122 574.013766 \nL 427.849156 575.211845 \nL 428.392617 574.620443 \nL 428.489672 575.817057 \nL 428.626276 577.854117 \nL 428.737965 579.899929 \nL 428.835113 581.950849 \nL 428.924834 584.004378 \nL 428.944286 584.43737 \nL 429.019038 586.056444 \nL 429.096944 588.114241 \nL 429.163136 590.176134 \nL 429.224135 592.239843 \nL 429.285373 594.303468 \nL 429.351711 596.36531 \nL 429.428065 598.423649 \nL 429.497196 599.956075 \nL 429.552997 600.465084 \nL 429.763253 602.476911 \nL 429.956233 604.494754 \nL 430.058498 605.466667 \nL 430.240363 606.481133 \nL 430.586426 608.446194 \nL 430.621105 608.617707 \nL 430.920109 610.415999 \nL 431.188952 612.40824 \nL 431.192295 612.430285 \nL 431.523532 614.378291 \nL 431.768544 616.049694 \nL 431.831014 616.357755 \nL 432.184983 618.321688 \nL 432.353638 619.440903 \nL 432.509721 620.295857 \nL 432.809717 622.278708 \nL 432.928982 623.064038 \nL 433.172157 624.240658 \nL 433.481293 626.220866 \nL 433.532108 626.526532 \nL 433.89989 628.164513 \nL 434.12167 629.397353 \nL 434.274717 630.123248 \nL 434.589989 632.102335 \nL 434.73578 633.117377 \nL 434.961409 634.062897 \nL 435.30044 636.034518 \nL 435.34002 636.252439 \nL 435.715154 637.981392 \nL 435.965453 639.754118 \nL 436.019651 639.965114 \nL 436.451477 641.90701 \nL 436.580886 642.635612 \nL 436.86742 643.854603 \nL 437.166312 645.841016 \nL 437.201959 646.040725 \nL 437.634096 647.772359 \nL 437.844898 649.105884 \nL 438.010939 649.733878 \nL 438.402167 651.691016 \nL 438.473563 652.055755 \nL 438.878455 653.62096 \nL 439.124484 655.132607 \nL 439.257837 655.58275 \nL 439.675036 657.532666 \nL 439.769144 658.06172 \nL 440.153031 659.463471 \nL 440.419853 660.906477 \nL 440.576713 661.412166 \nL 441.015399 663.356455 \nL 441.093619 663.735353 \nL 441.554567 665.269206 \nL 441.752572 666.188122 \nL 442.073582 667.189004 \nL 442.447944 668.756586 \nL 442.557732 669.120355 \nL 443.033629 671.054893 \nL 443.128445 671.500705 \nL 443.645975 672.947063 \nL 443.81113 673.503179 \nL 444.375764 674.803279 \nL 444.527051 675.191991 \nL 444.991145 676.696301 \nL 445.232246 677.720531 \nL 445.588831 678.595617 \nL 445.944408 679.67435 \nL 446.66364 679.528483 \nL 446.886922 680.279869 \nL 447.305951 682.23624 \nL 447.390048 682.744588 \nL 447.670005 684.20992 \nL 447.880206 686.230737 \nL 448.020867 688.272801 \nL 448.123741 690.042361 \nL 448.171118 690.31201 \nL 448.54369 692.283798 \nL 448.897833 694.101606 \nL 448.923082 694.253552 \nL 449.197186 696.2557 \nL 449.391111 698.282096 \nL 449.585331 700.308403 \nL 449.646762 700.804502 \nL 450.40813 701.869382 \nL 451.182203 701.023586 \nL 451.612019 701.786071 \nL 451.959428 702.318425 \nL 452.744742 701.831338 \nL 452.949518 701.389601 \nL 453.538273 699.933281 \nL 454.329141 700.984212 \nL 454.34522 701.002843 \nL 454.355665 700.976452 \nL 454.917607 698.727542 \nL 455.18073 696.56577 \nL 455.186379 696.467883 \nL 455.272887 694.453988 \nL 455.317902 692.355888 \nL 455.293203 690.27801 \nL 455.186379 689.267817 \nL 455.114488 688.244917 \nL 454.879781 686.228318 \nL 454.444302 684.270265 \nL 454.34522 683.994203 \nL 453.538273 683.49082 \nL 452.744742 684.207937 \nL 452.484554 682.761656 \nL 452.163642 680.771687 \nL 451.959428 679.653116 \nL 451.514888 678.87953 \nL 451.182203 678.285758 \nL 450.40813 678.354419 \nL 450.091773 677.220461 \nL 449.646762 675.341787 \nL 449.5969 675.284395 \nL 448.897833 674.247453 \nL 448.123741 674.2624 \nL 448.061949 673.664952 \nL 447.89956 671.629526 \nL 447.785413 669.579361 \nL 447.682571 667.525741 \nL 447.566917 665.476036 \nL 447.412616 663.438139 \nL 447.390048 663.210624 \nL 447.131263 661.439457 \nL 446.90015 659.425382 \nL 446.664561 657.412682 \nL 446.66364 657.405763 \nL 446.163206 655.482356 \nL 445.944408 654.692845 \nL 445.773605 653.517805 \nL 445.580655 651.492601 \nL 445.422796 649.456515 \nL 445.244532 647.426757 \nL 445.232246 647.312659 \nL 444.893496 645.451098 \nL 444.601254 643.457134 \nL 444.527051 642.97798 \nL 444.234172 641.486948 \nL 443.90182 639.505998 \nL 443.81113 639.000453 \nL 443.608211 637.513227 \nL 443.427882 635.484941 \nL 443.267527 633.450369 \nL 443.128445 631.941072 \nL 443.044513 631.435645 \nL 442.773443 629.43633 \nL 442.541025 627.42479 \nL 442.447944 626.671073 \nL 442.284256 625.421204 \nL 442.099699 623.394813 \nL 441.945144 621.358888 \nL 441.779262 619.326562 \nL 441.752572 619.050425 \nL 441.541475 617.317411 \nL 441.336668 615.297769 \nL 441.121876 613.281316 \nL 441.093619 613.051704 \nL 440.844739 611.285151 \nL 440.580808 609.284791 \nL 440.419853 608.256756 \nL 440.17648 607.32985 \nL 439.774931 605.374259 \nL 439.769144 605.342025 \nL 439.538664 603.365733 \nL 439.384739 601.330545 \nL 439.27354 599.281518 \nL 439.188465 597.224031 \nL 439.124484 595.279248 \nL 439.116773 595.16222 \nL 439.015485 593.110139 \nL 438.951944 591.045773 \nL 438.910522 588.97421 \nL 438.887862 586.896541 \nL 438.880452 584.81391 \nL 438.882954 582.728053 \nL 438.901476 580.636984 \nL 438.931877 578.542049 \nL 438.979905 576.441377 \nL 439.051412 574.333065 \nL 439.124484 572.730493 \nL 439.145836 572.217329 \nL 439.264931 570.093713 \nL 439.449362 567.948935 \nL 439.745495 565.767979 \nL 439.769144 565.626967 \nL 440.419853 563.9156 \nL 440.802238 565.427854 \nL 441.093619 567.225898 \nL 441.119014 567.411297 \nL 441.351117 569.422222 \nL 441.513682 571.455353 \nL 441.635406 573.501525 \nL 441.733115 575.555366 \nL 441.752572 576.006494 \nL 441.831908 577.608983 \nL 441.913904 579.667967 \nL 441.977368 581.732841 \nL 442.030058 583.801139 \nL 442.070752 585.873249 \nL 442.104418 587.947592 \nL 442.132241 590.023793 \nL 442.155512 592.101439 \nL 442.181179 594.178325 \nL 442.212215 596.253504 \nL 442.25087 598.326263 \nL 442.303836 600.394473 \nL 442.379727 602.455397 \nL 442.447944 603.772941 \nL 442.529766 604.492884 \nL 442.736231 606.512631 \nL 442.930582 608.536209 \nL 443.128445 610.330252 \nL 443.155528 610.550153 \nL 443.360889 612.57056 \nL 443.515597 614.60691 \nL 443.669901 616.643386 \nL 443.81113 618.153298 \nL 443.918864 618.650236 \nL 444.310076 620.61275 \nL 444.527051 621.733087 \nL 444.677218 622.583035 \nL 444.993075 624.569639 \nL 445.232246 626.050342 \nL 445.311647 626.555519 \nL 445.558518 628.564 \nL 445.751329 630.589246 \nL 445.944408 632.505393 \nL 445.973013 632.605582 \nL 446.487934 634.531721 \nL 446.66364 635.255105 \nL 446.925465 636.482142 \nL 447.282421 638.457574 \nL 447.390048 639.043032 \nL 447.656255 640.42823 \nL 447.928616 642.430055 \nL 448.123741 644.22456 \nL 448.190024 644.435329 \nL 448.85128 646.319363 \nL 448.897833 646.43265 \nL 449.215913 648.294061 \nL 449.574477 650.270667 \nL 449.646762 650.581688 \nL 450.015513 652.222898 \nL 450.395381 654.193643 \nL 450.40813 654.254087 \nL 451.182203 654.87995 \nL 451.507053 655.946396 \nL 451.959428 657.419626 \nL 452.069927 657.863985 \nL 452.482155 659.8269 \nL 452.744742 661.312912 \nL 453.174399 661.707517 \nL 453.538273 662.114235 \nL 454.058411 663.532822 \nL 454.34522 664.323768 \nL 454.610151 665.45652 \nL 454.964673 667.43818 \nL 455.186379 668.951231 \nL 455.247652 669.440798 \nL 455.415237 671.477231 \nL 455.510501 673.53464 \nL 455.56976 675.602494 \nL 455.609632 677.675971 \nL 455.63939 679.752382 \nL 455.668767 681.828903 \nL 455.719298 683.899288 \nL 455.935201 685.921705 \nL 455.985011 686.062024 \nL 456.127915 687.95107 \nL 456.26058 689.997838 \nL 456.395524 692.043947 \nL 456.553889 694.0833 \nL 456.761782 696.108363 \nL 456.849549 696.742874 \nL 457.697315 697.169025 \nL 458.549005 696.166419 \nL 458.755072 697.623294 \nL 458.995735 699.640029 \nL 459.255157 701.65144 \nL 459.410007 702.548993 \nL 460.285946 701.956377 \nL 460.77856 703.30699 \nL 461.17716 704.229357 \nL 461.668814 705.142892 \nL 462.072813 705.761487 \nL 462.978543 706.073784 \nL 463.532515 706.710828 \nL 463.928855 707.06292 \nL 464.760951 708.45813 \nL 464.855645 708.584697 \nL 465.437381 708.273413 \nL 465.804755 708.022375 \nL 465.913367 708.143708 \nL 466.759004 708.989353 \nL 467.221188 709.874679 \nL 467.718377 710.726513 \nL 468.707116 710.656674 \nL 469.738349 710.28301 \nL 470.682953 710.58841 \nL 470.947619 710.965592 \nL 471.726141 712.013025 \nL 472.111903 712.744536 \nL 472.763152 714.261283 \nL 473.799964 714.073018 \nL 474.855891 713.394795 \nL 475.020468 714.073748 \nL 475.703433 715.983196 \nL 475.931404 716.324668 \nL 476.424287 717.883686 \nL 476.865847 719.855903 \nL 477.026993 721.006696 \nL 477.184514 721.859774 \nL 477.206761 723.939167 \nL 477.026993 725.309305 \nL 476.620159 726.173808 \nL 475.931404 726.737161 \nL 475.825271 726.377083 \nL 475.362339 724.411063 \nL 474.916573 722.44063 \nL 474.855891 722.153452 \nL 474.670016 722.504316 \nL 473.799964 724.279525 \nL 473.76036 724.824737 \nL 473.514188 726.973849 \nL 473.03903 729.182556 \nL 472.763152 729.97155 \nL 472.315098 729.371672 \nL 471.726141 728.744311 \nL 470.682953 729.417934 \nL 470.396038 729.876725 \nL 469.738349 730.973984 \nL 468.707116 731.474854 \nL 467.718377 732.473041 \nL 467.367385 732.770713 \nL 466.759004 733.38029 \nL 465.894638 733.169298 \nL 465.804755 733.155563 \nL 465.723524 733.215846 \nL 464.855645 733.859526 \nL 463.928855 734.219626 \nL 463.005903 736.046772 \nL 462.978543 736.107984 \nL 462.912291 736.072715 \nL 462.072813 735.834133 \nL 461.87495 736.360985 \nL 461.17716 738.401001 \nL 461.085754 738.666477 \nL 460.407518 740.941911 \nL 460.285946 741.379429 \nL 459.59272 741.17172 \nL 459.410007 741.145849 \nL 459.390082 741.228951 \nL 458.992355 743.42688 \nL 458.663859 745.605159 \nL 458.549005 746.386948 \nL 457.697315 747.828241 \nL 457.538797 748.011336 \nL 456.849549 748.87327 \nL 456.564894 750.37627 \nL 456.095453 752.596751 \nL 455.985011 753.055368 \nL 455.830674 752.673382 \nL 455.186379 751.061639 \nL 455.092506 750.8026 \nL 454.34522 749.006865 \nL 453.538273 750.540796 \nL 452.744742 749.69101 \nL 452.625873 749.441146 \nL 451.959428 748.307097 \nL 451.182203 749.470163 \nL 450.40813 749.316656 \nL 449.646762 750.15501 \nL 449.619841 750.338985 \nL 449.364457 752.50126 \nL 449.099845 754.666326 \nL 448.897833 756.020351 \nL 448.541786 756.920692 \nL 448.123741 757.882432 \nL 447.757128 759.244827 \nL 447.390048 760.20988 \nL 446.66364 761.166952 \nL 445.944408 761.812558 \nL 445.829254 761.922753 \nL 445.944408 761.887041 \nL 446.66364 761.665087 \nL 447.390048 761.442028 \nL 448.123741 761.217854 \nL 448.897833 760.982546 \nL 449.646762 760.756056 \nL 450.40813 760.526971 \nL 451.182203 760.295258 \nL 451.959428 760.063801 \nL 452.744742 759.831141 \nL 453.538273 759.597268 \nL 454.34522 759.360686 \nL 455.186379 759.115396 \nL 455.985011 758.883742 \nL 456.849549 758.634314 \nL 457.697315 758.391065 \nL 458.549005 758.148013 \nL 459.410007 757.903635 \nL 460.285946 757.656377 \nL 461.17716 757.4062 \nL 462.072813 757.156175 \nL 462.978543 756.904749 \nL 463.928855 756.642453 \nL 464.855645 756.38812 \nL 465.804755 756.129148 \nL 466.759004 755.870275 \nL 467.718377 755.611509 \nL 468.707116 755.346377 \nL 469.738349 755.071511 \nL 470.682953 754.821206 \nL 471.726141 754.546392 \nL 472.763152 754.274865 \nL 473.799964 754.005024 \nL 474.855891 753.731868 \nL 475.931404 753.455347 \nL 477.026993 753.175407 \nL 478.149929 752.890282 \nL 479.287288 752.603331 \nL 480.494914 752.300651 \nL 481.68381 752.004648 \nL 482.90997 751.701402 \nL 484.18183 751.389005 \nL 485.515645 751.063714 \nL 486.936105 750.719868 \nL 488.514996 750.340741 \nL 489.920617 750.005897 \nL 491.136753 749.718197 \nL 492.368652 749.428638 \nL 493.632625 749.133472 \nL 494.905303 748.838224 \nL 496.194914 748.541018 \nL 497.518453 748.238028 \nL 498.775682 747.952103 \nL 500.134583 747.645093 \nL 501.477617 747.343719 \nL 502.838896 747.040305 \nL 504.218792 746.734824 \nL 505.626721 746.425268 \nL 507.0543 746.113559 \nL 508.51123 745.797661 \nL 509.970078 745.483562 \nL 511.506912 745.155035 \nL 513.008348 744.836385 \nL 514.531362 744.515452 \nL 516.086399 744.190126 \nL 517.654133 743.864516 \nL 519.244895 743.536523 \nL 520.859196 743.206113 \nL 522.508144 742.871107 \nL 524.224996 742.524946 \nL 525.870485 742.195663 \nL 527.640075 741.844226 \nL 529.392737 741.498845 \nL 531.161299 741.153008 \nL 532.957471 740.804482 \nL 534.781905 740.453225 \nL 536.635273 740.099193 \nL 538.579119 739.730858 \nL 540.493444 739.371051 \nL 542.438877 739.008333 \nL 544.403404 738.645009 \nL 546.413159 738.276343 \nL 548.469595 737.902228 \nL 550.533931 737.529789 \nL 552.660321 737.149363 \nL 554.864963 736.758317 \nL 557.066149 736.371258 \nL 559.277072 735.985823 \nL 561.541155 735.594525 \nL 563.830392 735.202323 \nL 566.190555 734.80153 \nL 568.562614 734.402296 \nL 571.071856 733.983809 \nL 573.548487 733.574556 \nL 576.054653 733.164192 \nL 578.607345 732.750036 \nL 581.224809 732.329308 \nL 583.89211 731.904594 \nL 586.698686 731.462006 \nL 589.471748 731.028953 \nL 592.29918 730.591676 \nL 595.126608 730.158624 \nL 598.009473 729.721348 \nL 600.930016 729.282663 \nL 603.217493 728.942043 \nL 605.420158 728.61648 \nL 607.371471 728.33003 \nL 608.917904 728.104309 \nL 610.005612 727.946223 \nL 610.99736 727.802568 \nL 612.016358 727.655443 \nL 613.00008 727.513869 \nL 614.032311 727.365792 \nL 615.050122 727.220262 \nL 616.074574 727.074257 \nL 617.105733 726.927776 \nL 618.143664 726.780814 \nL 619.166599 726.636445 \nL 620.262099 726.482349 \nL 621.3209 726.333917 \nL 622.364471 726.188099 \nL 623.437289 726.038688 \nL 624.494721 725.891905 \nL 625.536393 725.747779 \nL 626.516216 725.612631 \nL 627.318125 725.502326 \nL 622.542778 726.163232 \nz\nM 618.143664 694.047134 \nL 617.763285 695.559035 \nL 617.105733 697.588566 \nL 617.011062 697.75063 \nL 616.074574 698.99229 \nL 615.691066 700.023363 \nL 615.050122 701.40345 \nL 614.397878 702.293013 \nL 614.032311 702.75886 \nL 613.00008 703.139895 \nL 612.60444 702.550299 \nL 612.016358 701.455223 \nL 610.99736 702.628254 \nL 610.498654 700.769254 \nL 610.340295 698.70715 \nL 610.288202 696.629653 \nL 610.285213 694.545044 \nL 610.319371 692.455054 \nL 610.398884 690.358494 \nL 610.560172 688.250088 \nL 610.930661 686.111381 \nL 610.99736 685.889395 \nL 612.016358 685.923419 \nL 612.032059 685.952335 \nL 613.00008 687.430541 \nL 614.032311 687.674119 \nL 614.943442 687.619709 \nL 615.050122 687.614981 \nL 615.089885 687.598789 \nL 616.074574 687.17289 \nL 617.105733 687.068321 \nL 618.143664 687.127387 \nL 618.149914 687.164125 \nL 618.317317 689.225542 \nL 618.334091 691.308217 \nL 618.222424 693.409019 \nz\nM 608.917904 701.593694 \nL 608.644192 701.038709 \nL 608.005886 699.046836 \nL 607.581807 697.023693 \nL 607.371471 695.783179 \nL 607.103189 695.008735 \nL 606.705975 692.982003 \nL 606.47887 690.930299 \nL 606.331286 688.866922 \nL 606.238265 686.795535 \nL 606.209155 684.714765 \nL 606.309669 682.614968 \nL 606.849378 680.450697 \nL 607.371471 679.744611 \nL 607.501471 680.355079 \nL 608.008473 682.366118 \nL 608.917904 684.079815 \nL 608.965672 684.311476 \nL 609.24848 686.355415 \nL 609.412148 688.41667 \nL 609.509987 690.487493 \nL 609.563334 692.564782 \nL 609.577797 694.647722 \nL 609.54491 696.737544 \nL 609.430392 698.839231 \nL 609.111628 700.970602 \nz\nM 603.217493 684.972051 \nL 602.33761 683.20213 \nL 600.930016 681.614625 \nL 600.869582 681.335765 \nL 600.453827 679.313172 \nL 599.983277 677.298809 \nL 599.248366 675.324155 \nL 598.009473 673.970938 \nL 597.753588 673.464015 \nL 596.871212 671.512813 \nL 595.935752 669.569662 \nL 595.126608 668.336603 \nL 594.797192 667.657805 \nL 594.0259 665.690895 \nL 593.266673 663.722136 \nL 592.29918 661.985548 \nL 592.183927 661.8031 \nL 591.195497 659.870924 \nL 590.33609 657.918793 \nL 589.471748 656.403599 \nL 589.170358 656.014492 \nL 588.012325 654.110293 \nL 587.075336 652.171574 \nL 586.698686 651.423887 \nL 585.944659 650.264259 \nL 584.919467 648.340886 \nL 583.89211 646.488808 \nL 583.850952 646.424408 \nL 582.843789 644.499736 \nL 582.032391 642.543892 \nL 581.224809 640.72409 \nL 581.144244 640.600391 \nL 580.173765 638.671342 \nL 579.483657 636.697227 \nL 578.88408 634.70856 \nL 578.607345 633.80404 \nL 578.238869 632.727782 \nL 577.592484 630.747611 \nL 576.8607 628.781295 \nL 576.054653 627.188243 \nL 575.917454 626.849493 \nL 575.210762 624.880166 \nL 574.493774 622.912524 \nL 573.581174 620.976912 \nL 573.548487 620.914532 \nL 572.843939 619.013646 \nL 572.359637 617.008632 \nL 572.024486 614.978972 \nL 571.788101 612.932991 \nL 571.633883 610.873433 \nL 571.620079 608.790671 \nL 573.548487 606.540003 \nL 574.490999 608.317681 \nL 575.638213 610.214877 \nL 576.054653 610.77277 \nL 576.614671 612.140872 \nL 577.401351 614.098281 \nL 578.341617 616.030772 \nL 578.607345 616.485379 \nL 579.073084 617.99784 \nL 579.651535 619.989903 \nL 580.391564 621.955994 \nL 581.224809 623.240845 \nL 581.519118 623.860239 \nL 582.338079 625.814878 \nL 583.182568 627.765453 \nL 583.89211 629.008493 \nL 584.265567 629.678622 \nL 585.230825 631.611446 \nL 586.266702 633.533134 \nL 586.698686 634.166033 \nL 587.360256 635.446741 \nL 588.210441 637.399015 \nL 589.23052 639.324758 \nL 589.471748 639.65507 \nL 590.475582 641.216881 \nL 591.386742 643.161007 \nL 592.29918 645.056741 \nL 592.329121 645.100351 \nL 593.389439 647.022994 \nL 594.178766 648.987142 \nL 594.976605 650.949987 \nL 595.126608 651.27588 \nL 596.044741 652.872791 \nL 596.930669 654.823454 \nL 597.841252 656.770379 \nL 598.009473 657.094499 \nL 598.782146 658.713845 \nL 599.439259 660.700184 \nL 599.96519 662.706229 \nL 600.464155 664.716323 \nL 600.930016 666.358018 \nL 601.135831 666.700743 \nL 602.124454 668.638573 \nL 603.080114 670.581312 \nL 603.217493 670.890223 \nL 603.854739 672.55171 \nL 604.337578 674.565387 \nL 604.62301 676.608241 \nL 604.745126 678.675234 \nL 604.688283 680.768678 \nL 604.330371 682.906622 \nz\nM 600.930016 715.251542 \nL 600.796857 716.79241 \nL 600.414954 718.934817 \nL 599.801712 721.111972 \nL 598.779557 723.350549 \nL 598.009473 724.427586 \nL 595.126608 725.70433 \nL 594.554634 726.076144 \nL 592.29918 727.250384 \nL 589.471748 728.131914 \nL 586.698686 727.365052 \nL 583.89211 727.960566 \nL 583.612304 727.779063 \nL 582.456809 725.87801 \nL 582.455956 723.793103 \nL 583.579755 721.529118 \nL 583.89211 721.197081 \nL 586.698686 719.696453 \nL 587.84073 718.773405 \nL 589.471748 717.833421 \nL 591.338064 716.145021 \nL 592.29918 715.221529 \nL 593.929429 713.661646 \nL 595.126608 712.296582 \nL 597.844843 710.980937 \nL 598.009473 710.895349 \nL 598.356588 710.903827 \nL 600.885128 712.609066 \nL 600.930016 713.215923 \nL 601.013072 714.674999 \nz\nM 430.621105 744.291514 \nL 430.599466 743.969431 \nL 430.544762 741.903354 \nL 430.551444 739.815995 \nL 430.602489 737.713255 \nL 430.621105 737.305021 \nL 430.647256 737.697774 \nL 430.718668 739.758166 \nL 430.729668 741.839411 \nL 430.653354 743.950796 \nz\nM 429.497196 740.134581 \nL 429.44252 738.116437 \nL 429.432523 736.03489 \nL 429.453579 733.942484 \nL 429.497196 732.224001 \nL 429.555082 733.907073 \nL 429.58434 735.981927 \nL 429.572355 738.071143 \nz\nM 428.392617 740.630959 \nL 428.390385 740.570286 \nL 428.350236 738.499406 \nL 428.342503 736.417092 \nL 428.361332 734.325407 \nL 428.392617 732.970889 \nL 428.423683 734.30346 \nL 428.4446 736.381155 \nL 428.438892 738.468202 \nL 428.395244 740.568576 \nz\nM 427.310315 738.901398 \nL 427.308222 738.867805 \nL 427.242621 736.806102 \nL 427.232884 734.724524 \nL 427.274879 732.624541 \nL 427.310315 731.905484 \nL 427.326996 732.606024 \nL 427.347778 734.683704 \nL 427.343336 736.77032 \nL 427.311326 738.866703 \nz\nM 425.193331 742.01979 \nL 425.002556 741.779086 \nL 424.663591 741.643789 \nL 424.52521 741.952022 \nL 424.16451 743.783625 \nL 424.069795 744.202687 \nL 423.643496 745.036158 \nL 423.522883 744.402419 \nL 423.333987 742.386584 \nL 423.253044 740.331197 \nL 423.21579 738.259804 \nL 423.20253 736.179619 \nL 423.207603 734.092718 \nL 423.233454 731.998205 \nL 423.293798 729.891054 \nL 423.434963 727.754292 \nL 423.643496 726.377193 \nL 423.821935 727.612784 \nL 424.015696 729.627129 \nL 424.146585 731.664414 \nL 424.16451 732.061289 \nL 424.182128 731.651472 \nL 424.30373 729.522245 \nL 424.478538 727.373684 \nL 424.663591 725.87408 \nL 424.842761 727.241611 \nL 425.021586 729.261945 \nL 425.149387 731.300743 \nL 425.193331 732.24767 \nL 425.268122 733.342934 \nL 425.320125 735.409237 \nL 425.320992 737.493967 \nL 425.285485 739.591805 \nL 425.210891 741.703726 \nz\nM 422.656051 743.753352 \nL 422.213346 742.799221 \nL 422.160358 741.079854 \nL 422.093853 742.843457 \nL 421.66869 743.972477 \nL 421.474941 745.158331 \nL 421.270099 747.319652 \nL 421.180998 748.645788 \nL 421.044107 747.404018 \nL 420.748072 745.429668 \nL 420.681793 745.108838 \nL 420.612337 745.480526 \nL 420.282329 747.689461 \nL 420.21735 748.211464 \nL 419.741301 748.016159 \nL 419.266026 748.733708 \nL 418.812626 750.330443 \nL 418.797532 750.630114 \nL 418.7629 750.349388 \nL 418.320868 750.157616 \nL 418.255748 750.542948 \nL 418.08674 752.692718 \nL 418.014607 754.805387 \nL 417.961907 756.910613 \nL 417.908868 759.015969 \nL 417.862766 760.494154 \nL 417.787378 759.06261 \nL 417.699015 757.011543 \nL 417.613012 754.959567 \nL 417.503582 752.916599 \nL 417.408229 751.781167 \nL 417.224352 753.024236 \nL 416.954317 754.948926 \nL 416.930461 755.222753 \nL 416.781581 757.365486 \nL 416.662195 759.49679 \nL 416.534057 761.631485 \nL 416.506809 761.998821 \nL 416.490394 761.648429 \nL 416.41576 759.592419 \nL 416.352244 757.532084 \nL 416.284638 755.47334 \nL 416.181831 753.428289 \nL 416.05989 752.260346 \nL 415.927703 753.527344 \nL 415.790038 755.666146 \nL 415.688873 757.790694 \nL 415.616418 759.348773 \nL 415.572614 759.921203 \nL 415.383335 762.08045 \nL 415.165113 764.049251 \nL 415.017469 762.224106 \nL 414.90634 760.182799 \nL 414.824462 758.12998 \nL 414.757302 756.071369 \nL 414.734078 755.236691 \nL 414.688552 756.098493 \nL 414.467089 758.271024 \nL 414.30352 759.180154 \nL 414.150734 760.48127 \nL 413.891528 762.669099 \nL 413.878957 762.763467 \nL 413.858463 762.682241 \nL 413.483259 760.74654 \nL 413.460292 760.58846 \nL 413.370356 758.706569 \nL 413.263974 756.664028 \nL 413.107979 754.641307 \nL 413.042016 754.079605 \nL 412.930603 754.712336 \nL 412.632214 756.783607 \nL 412.596225 756.931515 \nL 412.242201 759.159052 \nL 412.204072 759.478804 \nL 412.146784 759.197544 \nL 411.956609 757.189335 \nL 411.909224 755.123437 \nL 411.920323 753.03391 \nL 411.959527 750.933028 \nL 412.015805 748.825249 \nL 412.087201 746.711362 \nL 412.178543 744.589416 \nL 412.204072 744.118869 \nL 412.269522 742.467716 \nL 412.359478 740.346466 \nL 412.465055 738.218929 \nL 412.60294 736.078388 \nL 412.632214 735.716864 \nL 412.754238 733.932632 \nL 412.90707 731.786305 \nL 413.042016 730.067447 \nL 413.140318 731.692921 \nL 413.229497 733.742335 \nL 413.29933 735.799478 \nL 413.360342 737.860146 \nL 413.420184 739.921281 \nL 413.460292 741.221225 \nL 413.58149 741.942059 \nL 413.878957 743.12703 \nL 413.964115 741.789891 \nL 414.084047 739.65729 \nL 414.193916 737.52868 \nL 414.30352 735.41657 \nL 414.734078 737.282096 \nL 414.734388 737.315005 \nL 414.757188 739.391074 \nL 414.790316 741.463079 \nL 414.848238 743.525326 \nL 414.997166 745.551757 \nL 415.165113 746.32202 \nL 415.255727 745.450137 \nL 415.411996 743.303832 \nL 415.517037 741.177609 \nL 415.600888 739.059695 \nL 415.616418 738.646928 \nL 415.653333 736.954148 \nL 415.694605 734.852989 \nL 415.73455 732.752347 \nL 415.776878 730.650776 \nL 415.82591 728.546586 \nL 415.888272 726.437191 \nL 415.976528 724.317684 \nL 416.05989 722.940294 \nL 416.19852 724.231204 \nL 416.271625 726.287808 \nL 416.304541 728.360046 \nL 416.32515 730.437072 \nL 416.341222 732.515862 \nL 416.356042 734.59514 \nL 416.371633 736.674117 \nL 416.389893 738.752057 \nL 416.413512 740.827911 \nL 416.44768 742.899662 \nL 416.505972 744.96203 \nL 416.506809 744.984069 \nL 416.507891 744.961285 \nL 416.588784 742.844897 \nL 416.642385 740.739084 \nL 416.683237 738.638212 \nL 416.718097 736.539661 \nL 416.751383 734.441721 \nL 416.787522 732.342675 \nL 416.833463 730.23983 \nL 416.905342 728.126935 \nL 416.954317 727.225842 \nL 417.05007 725.985956 \nL 417.227075 723.832591 \nL 417.408229 721.929513 \nL 417.508023 723.724298 \nL 417.565104 725.787393 \nL 417.600772 727.858722 \nL 417.627665 729.933424 \nL 417.651189 732.009422 \nL 417.674463 734.085516 \nL 417.700057 736.160718 \nL 417.731075 738.233834 \nL 417.772806 740.302831 \nL 417.837131 742.363142 \nL 417.862766 742.951135 \nL 417.877116 742.34779 \nL 417.915466 740.248059 \nL 417.943416 738.152313 \nL 417.967352 736.058103 \nL 417.990799 733.964081 \nL 418.016786 731.869086 \nL 418.049473 729.771524 \nL 418.097046 727.668262 \nL 418.181796 725.550762 \nL 418.320868 723.909717 \nL 418.757005 723.246086 \nL 418.794133 721.14688 \nL 418.797532 720.84114 \nL 418.802759 721.143598 \nL 418.854367 723.209032 \nL 419.266026 723.634279 \nL 419.442921 722.985687 \nL 419.741301 721.797154 \nL 419.894023 722.815211 \nL 420.214479 724.779471 \nL 420.21735 724.796359 \nL 420.219366 724.777632 \nL 420.498566 722.587771 \nL 420.681793 721.448596 \nL 420.78668 722.479764 \nL 420.956587 724.501276 \nL 421.102039 726.531932 \nL 421.180998 727.734414 \nL 421.254702 726.474962 \nL 421.42155 724.327788 \nL 421.66869 722.25667 \nL 421.859281 724.165072 \nL 421.968896 726.209461 \nL 422.035941 728.269638 \nL 422.080843 730.338028 \nL 422.112965 732.411157 \nL 422.136969 734.487297 \nL 422.154955 736.565669 \nL 422.160358 737.670732 \nL 422.165392 736.561806 \nL 422.183351 734.47013 \nL 422.210312 732.375129 \nL 422.252434 730.274528 \nL 422.325018 728.162676 \nL 422.471955 726.02336 \nL 422.656051 724.705819 \nL 422.871363 725.876157 \nL 423.015554 727.908157 \nL 423.075954 729.97098 \nL 423.104883 732.045381 \nL 423.117419 734.125812 \nL 423.117593 736.21079 \nL 423.102683 738.301318 \nL 423.057782 740.402877 \nL 422.914366 742.540677 \nz\nM 416.506809 716.120209 \nL 416.499471 715.773964 \nL 416.478046 713.697256 \nL 416.474099 711.613749 \nL 416.482157 709.525572 \nL 416.502542 707.4326 \nL 416.506809 707.173106 \nL 416.512435 707.42876 \nL 416.537977 709.503905 \nL 416.546451 711.585664 \nL 416.539797 713.673285 \nL 416.514521 715.768121 \nz\nM 415.165113 714.667552 \nL 415.130824 714.223519 \nL 415.053032 712.169092 \nL 415.027146 710.094237 \nL 415.025438 708.009867 \nL 415.040069 705.919066 \nL 415.069842 703.822307 \nL 415.117813 701.718385 \nL 415.165113 700.330171 \nL 415.27286 701.657529 \nL 415.325997 703.72174 \nL 415.335996 705.802862 \nL 415.324956 707.892233 \nL 415.298019 709.987836 \nL 415.253959 712.090151 \nL 415.185924 714.201866 \nz\nM 414.30352 696.088419 \nL 414.133394 697.936874 \nL 414.030734 700.062625 \nL 413.954191 702.17802 \nL 413.881939 704.291713 \nL 413.878957 704.36906 \nL 413.873723 704.294979 \nL 413.77316 702.249963 \nL 413.714724 700.18818 \nL 413.68702 698.114164 \nL 413.687555 696.028909 \nL 413.722082 693.930124 \nL 413.810781 691.809777 \nL 413.878957 690.932162 \nL 413.967783 689.662376 \nL 414.07517 687.53475 \nL 414.166829 685.413361 \nL 414.264314 683.289661 \nL 414.30352 682.576782 \nL 414.343455 683.258338 \nL 414.400204 685.320962 \nL 414.418677 687.398707 \nL 414.417635 689.484161 \nL 414.401872 691.57543 \nL 414.370186 693.67299 \nL 414.315244 695.779737 \nz\nM 413.042016 686.982894 \nL 412.93275 687.990117 \nL 412.761954 690.143647 \nL 412.632214 692.126922 \nL 412.487331 690.253987 \nL 412.418876 688.196498 \nL 412.387248 686.124185 \nL 412.377802 684.042945 \nL 412.391903 681.952227 \nL 412.458392 679.840423 \nL 412.632214 678.365349 \nL 412.68446 677.664467 \nL 412.831889 675.520307 \nL 412.976767 673.377169 \nL 413.042016 672.543753 \nL 413.088417 673.332468 \nL 413.16195 675.388133 \nL 413.201738 677.457279 \nL 413.221115 679.53458 \nL 413.223419 681.618702 \nL 413.203705 683.711621 \nL 413.136948 685.823333 \nz\nM 411.797722 678.255602 \nL 411.630057 680.174944 \nL 411.42026 682.345058 \nL 411.394333 682.5758 \nL 411.32126 682.38531 \nL 411.076374 680.39993 \nL 411.023083 678.336575 \nL 411.015053 676.254801 \nL 411.031277 674.163155 \nL 411.074202 672.060644 \nL 411.168239 669.937331 \nL 411.394333 667.893613 \nL 411.45069 667.737422 \nL 411.797722 666.610886 \nL 411.879209 667.563781 \nL 411.978409 669.608745 \nL 412.025821 671.674633 \nL 412.035663 673.755699 \nL 412.000211 675.855064 \nL 411.842234 678.003931 \nz\nM 411.394333 753.470453 \nL 410.993872 755.017762 \nL 410.886418 755.538923 \nL 410.707581 757.697012 \nL 410.607729 759.822839 \nL 410.596307 760.020492 \nL 410.556857 759.843676 \nL 410.217303 757.89783 \nL 410.199037 757.761638 \nL 410.153888 755.838851 \nL 410.120882 753.767388 \nL 410.113938 751.685203 \nL 410.199037 750.542427 \nL 410.392681 751.570809 \nL 410.596307 752.355878 \nL 410.649339 751.465674 \nL 410.727523 749.348697 \nL 410.775336 747.244125 \nL 410.813423 745.143526 \nL 410.84799 743.044364 \nL 410.882413 740.945262 \nL 410.919644 738.845012 \nL 410.963342 736.742121 \nL 410.993872 735.556881 \nL 411.034237 734.628181 \nL 411.16787 732.488754 \nL 411.394333 730.375788 \nL 411.515238 732.347563 \nL 411.572188 734.409513 \nL 411.604756 736.48135 \nL 411.626152 738.557716 \nL 411.641542 740.636518 \nL 411.653211 742.716828 \nL 411.662031 744.798295 \nL 411.667624 746.881069 \nL 411.667128 748.966312 \nL 411.64753 751.059302 \nL 411.476792 753.213577 \nz\nM 410.596307 672.836424 \nL 410.574512 672.264657 \nL 410.519023 670.202361 \nL 410.485239 668.131169 \nL 410.596307 667.649518 \nL 410.622628 668.074886 \nL 410.685606 670.134206 \nL 410.669288 672.225913 \nz\nM 410.596307 613.404155 \nL 410.563833 611.802804 \nL 410.534003 609.72999 \nL 410.513843 607.653212 \nL 410.501143 605.573376 \nL 410.494556 603.491034 \nL 410.493308 601.406503 \nL 410.497051 599.319926 \nL 410.505813 597.231292 \nL 410.519974 595.140444 \nL 410.540316 593.047063 \nL 410.568166 590.950604 \nL 410.596307 589.333907 \nL 410.62447 590.927564 \nL 410.652342 593.001223 \nL 410.672698 595.07795 \nL 410.686869 597.157204 \nL 410.695637 599.238665 \nL 410.699383 601.322178 \nL 410.698134 603.407731 \nL 410.691542 605.495465 \nL 410.678833 607.585699 \nL 410.658658 609.678982 \nL 410.628806 611.776217 \nz\nM 410.199037 667.427243 \nL 410.076554 666.213844 \nL 410.027255 664.149084 \nL 410.034994 662.060858 \nL 410.076481 659.958746 \nL 410.156884 657.840624 \nL 410.199037 657.159599 \nL 410.219623 657.814842 \nL 410.272146 659.878354 \nL 410.319303 661.944065 \nL 410.363343 664.011053 \nL 410.402402 666.080084 \nz\nM 409.804639 749.551154 \nL 409.796515 749.730769 \nL 409.65329 751.874959 \nL 409.385219 754.042769 \nL 409.380165 754.072801 \nL 409.113176 756.268525 \nL 408.974048 758.061405 \nL 408.831414 758.470596 \nL 408.578458 759.419038 \nL 408.468327 760.706891 \nL 408.285425 762.868323 \nL 408.178329 763.928298 \nL 408.12147 762.936887 \nL 408.038684 760.886548 \nL 407.972966 758.829055 \nL 407.905998 756.772086 \nL 407.783625 755.441496 \nL 407.744904 754.754634 \nL 407.541747 752.755069 \nL 407.394258 752.268758 \nL 407.296937 752.858221 \nL 407.007722 754.247184 \nL 406.628796 753.171422 \nL 406.436964 755.307579 \nL 406.332592 757.437014 \nL 406.25257 759.401371 \nL 406.104513 757.534251 \nL 406.031847 755.480228 \nL 406.018405 753.400924 \nL 406.049835 751.302465 \nL 406.121985 749.186623 \nL 406.239827 747.051277 \nL 406.25257 746.884965 \nL 406.354925 744.917261 \nL 406.439253 742.796351 \nL 406.517491 740.678031 \nL 406.600233 738.557797 \nL 406.628796 737.927963 \nL 407.007722 736.327713 \nL 407.012694 736.297913 \nL 407.320087 734.083064 \nL 407.394258 733.400937 \nL 407.435891 734.034226 \nL 407.535529 736.077346 \nL 407.609154 738.131411 \nL 407.668667 740.191413 \nL 407.721723 742.254133 \nL 407.775275 744.316643 \nL 407.783625 744.661401 \nL 407.805384 746.389051 \nL 407.831899 748.462978 \nL 407.86201 750.535398 \nL 407.903077 752.603225 \nL 408.1331 754.591842 \nL 408.178329 754.632808 \nL 408.191162 754.567522 \nL 408.471035 752.36559 \nL 408.578458 750.73139 \nL 408.602117 750.225838 \nL 408.706814 748.09723 \nL 408.798995 745.973831 \nL 408.887162 743.852101 \nL 408.974048 741.81063 \nL 408.977463 741.729489 \nL 409.072329 739.605119 \nL 409.165579 737.48142 \nL 409.265213 735.355074 \nL 409.378868 733.222915 \nL 409.385219 733.118265 \nL 409.804639 732.060775 \nL 409.826586 733.038045 \nL 409.861869 735.108571 \nL 409.889585 737.18221 \nL 409.912675 739.257753 \nL 409.932807 741.334513 \nL 409.9507 743.412193 \nL 409.965549 745.491126 \nL 409.969584 747.574509 \nz\nM 408.974048 657.08725 \nL 408.907003 656.272063 \nL 408.86373 654.205027 \nL 408.911431 652.100136 \nL 408.974048 651.005534 \nL 409.004915 652.061284 \nL 409.016431 654.141553 \nL 408.994824 656.235553 \nz\nM 408.578458 604.061674 \nL 408.575216 602.199024 \nL 408.578458 600.263916 \nL 408.581664 602.196336 \nz\n\"/>\n    <path clip-path=\"url(#p224db4f40e)\" d=\"M 418.806377 741.992647 \nL 418.815817 739.904019 \nL 418.821948 737.816647 \nL 418.825385 735.730299 \nL 418.826448 733.644852 \nL 418.825122 731.560313 \nL 418.821074 729.476809 \nL 418.813017 727.394828 \nL 418.797532 725.543421 \nL 418.788878 727.404012 \nL 418.784519 729.490717 \nL 418.78249 731.576534 \nL 418.78199 733.661767 \nL 418.782783 735.746507 \nL 418.784818 737.830773 \nL 418.788214 739.91452 \nL 418.793166 741.997673 \nL 418.797532 743.412439 \nz\n\"/>\n   </g>\n   <g id=\"PathCollection_23\">\n    <path clip-path=\"url(#p224db4f40e)\" d=\"M 618.222424 693.409019 \nL 618.334091 691.308217 \nL 618.317317 689.225542 \nL 618.149914 687.164125 \nL 618.143664 687.127387 \nL 617.105733 687.068321 \nL 616.074574 687.17289 \nL 615.089885 687.598789 \nL 615.050122 687.614981 \nL 614.943442 687.619709 \nL 614.032311 687.674119 \nL 613.00008 687.430541 \nL 612.032059 685.952335 \nL 612.016358 685.923419 \nL 610.99736 685.889395 \nL 610.930661 686.111381 \nL 610.560172 688.250088 \nL 610.398884 690.358494 \nL 610.319371 692.455054 \nL 610.285213 694.545044 \nL 610.288202 696.629653 \nL 610.340295 698.70715 \nL 610.498654 700.769254 \nL 610.99736 702.628254 \nL 612.016358 701.455223 \nL 612.60444 702.550299 \nL 613.00008 703.139895 \nL 614.032311 702.75886 \nL 614.397878 702.293013 \nL 615.050122 701.40345 \nL 615.691066 700.023363 \nL 616.074574 698.99229 \nL 617.011062 697.75063 \nL 617.105733 697.588566 \nL 617.763285 695.559035 \nL 618.143664 694.047134 \nz\n\" style=\"fill:#0000e8;\"/>\n    <path clip-path=\"url(#p224db4f40e)\" d=\"M 609.111628 700.970602 \nL 609.430392 698.839231 \nL 609.54491 696.737544 \nL 609.577797 694.647722 \nL 609.563334 692.564782 \nL 609.509987 690.487493 \nL 609.412148 688.41667 \nL 609.24848 686.355415 \nL 608.965672 684.311476 \nL 608.917904 684.079815 \nL 608.008473 682.366118 \nL 607.501471 680.355079 \nL 607.371471 679.744611 \nL 606.849378 680.450697 \nL 606.309669 682.614968 \nL 606.209155 684.714765 \nL 606.238265 686.795535 \nL 606.331286 688.866922 \nL 606.47887 690.930299 \nL 606.705975 692.982003 \nL 607.103189 695.008735 \nL 607.371471 695.783179 \nL 607.581807 697.023693 \nL 608.005886 699.046836 \nL 608.644192 701.038709 \nL 608.917904 701.593694 \nz\n\" style=\"fill:#0000e8;\"/>\n    <path clip-path=\"url(#p224db4f40e)\" d=\"M 604.330371 682.906622 \nL 604.688283 680.768678 \nL 604.745126 678.675234 \nL 604.62301 676.608241 \nL 604.337578 674.565387 \nL 603.854739 672.55171 \nL 603.217493 670.890223 \nL 603.080114 670.581312 \nL 602.124454 668.638573 \nL 601.135831 666.700743 \nL 600.930016 666.358018 \nL 600.464155 664.716323 \nL 599.96519 662.706229 \nL 599.439259 660.700184 \nL 598.782146 658.713845 \nL 598.009473 657.094499 \nL 597.841252 656.770379 \nL 596.930669 654.823454 \nL 596.044741 652.872791 \nL 595.126608 651.27588 \nL 594.976605 650.949987 \nL 594.178766 648.987142 \nL 593.389439 647.022994 \nL 592.329121 645.100351 \nL 592.29918 645.056741 \nL 591.386742 643.161007 \nL 590.475582 641.216881 \nL 589.471748 639.65507 \nL 589.23052 639.324758 \nL 588.210441 637.399015 \nL 587.360256 635.446741 \nL 586.698686 634.166033 \nL 586.266702 633.533134 \nL 585.230825 631.611446 \nL 584.265567 629.678622 \nL 583.89211 629.008493 \nL 583.182568 627.765453 \nL 582.338079 625.814878 \nL 581.519118 623.860239 \nL 581.224809 623.240845 \nL 580.391564 621.955994 \nL 579.651535 619.989903 \nL 579.073084 617.99784 \nL 578.607345 616.485379 \nL 578.341617 616.030772 \nL 577.401351 614.098281 \nL 576.614671 612.140872 \nL 576.054653 610.77277 \nL 575.638213 610.214877 \nL 574.490999 608.317681 \nL 573.548487 606.540003 \nL 571.620079 608.790671 \nL 571.633883 610.873433 \nL 571.788101 612.932991 \nL 572.024486 614.978972 \nL 572.359637 617.008632 \nL 572.843939 619.013646 \nL 573.548487 620.914532 \nL 573.581174 620.976912 \nL 574.493774 622.912524 \nL 575.210762 624.880166 \nL 575.917454 626.849493 \nL 576.054653 627.188243 \nL 576.8607 628.781295 \nL 577.592484 630.747611 \nL 578.238869 632.727782 \nL 578.607345 633.80404 \nL 578.88408 634.70856 \nL 579.483657 636.697227 \nL 580.173765 638.671342 \nL 581.144244 640.600391 \nL 581.224809 640.72409 \nL 582.032391 642.543892 \nL 582.843789 644.499736 \nL 583.850952 646.424408 \nL 583.89211 646.488808 \nL 584.919467 648.340886 \nL 585.944659 650.264259 \nL 586.698686 651.423887 \nL 587.075336 652.171574 \nL 588.012325 654.110293 \nL 589.170358 656.014492 \nL 589.471748 656.403599 \nL 590.33609 657.918793 \nL 591.195497 659.870924 \nL 592.183927 661.8031 \nL 592.29918 661.985548 \nL 593.266673 663.722136 \nL 594.0259 665.690895 \nL 594.797192 667.657805 \nL 595.126608 668.336603 \nL 595.935752 669.569662 \nL 596.871212 671.512813 \nL 597.753588 673.464015 \nL 598.009473 673.970938 \nL 599.248366 675.324155 \nL 599.983277 677.298809 \nL 600.453827 679.313172 \nL 600.869582 681.335765 \nL 600.930016 681.614625 \nL 602.33761 683.20213 \nL 603.217493 684.972051 \nz\nM 592.29918 656.472472 \nL 591.974371 655.580382 \nL 591.333223 653.594497 \nL 589.471748 651.925644 \nL 589.410425 651.806917 \nL 588.678183 649.836225 \nL 588.068901 647.84633 \nL 587.322046 645.87792 \nL 586.698686 645.143568 \nL 586.321196 643.949753 \nL 586.028239 641.910909 \nL 586.698686 640.623659 \nL 587.070413 641.747131 \nL 587.902956 643.70216 \nL 589.471748 644.213531 \nL 589.977537 645.463991 \nL 590.611645 647.450965 \nL 591.349231 649.421936 \nL 592.29918 650.465518 \nL 592.571965 651.318284 \nL 592.954003 653.344813 \nL 592.980114 655.425856 \nz\n\" style=\"fill:#0000e8;\"/>\n    <path clip-path=\"url(#p224db4f40e)\" d=\"M 601.013072 714.674999 \nL 600.930016 713.215923 \nL 600.885128 712.609066 \nL 598.356588 710.903827 \nL 598.009473 710.895349 \nL 597.844843 710.980937 \nL 595.126608 712.296582 \nL 593.929429 713.661646 \nL 592.29918 715.221529 \nL 591.338064 716.145021 \nL 589.471748 717.833421 \nL 587.84073 718.773405 \nL 586.698686 719.696453 \nL 583.89211 721.197081 \nL 583.579755 721.529118 \nL 582.455956 723.793103 \nL 582.456809 725.87801 \nL 583.612304 727.779063 \nL 583.89211 727.960566 \nL 586.698686 727.365052 \nL 589.471748 728.131914 \nL 592.29918 727.250384 \nL 594.554634 726.076144 \nL 595.126608 725.70433 \nL 598.009473 724.427586 \nL 598.779557 723.350549 \nL 599.801712 721.111972 \nL 600.414954 718.934817 \nL 600.796857 716.79241 \nL 600.930016 715.251542 \nz\n\" style=\"fill:#0000e8;\"/>\n    <path clip-path=\"url(#p224db4f40e)\" d=\"M 477.206761 723.939167 \nL 477.184514 721.859774 \nL 477.026993 721.006696 \nL 476.865847 719.855903 \nL 476.424287 717.883686 \nL 475.931404 716.324668 \nL 475.703433 715.983196 \nL 475.020468 714.073748 \nL 474.855891 713.394795 \nL 473.799964 714.073018 \nL 472.763152 714.261283 \nL 472.111903 712.744536 \nL 471.726141 712.013025 \nL 470.947619 710.965592 \nL 470.682953 710.58841 \nL 469.738349 710.28301 \nL 468.707116 710.656674 \nL 467.718377 710.726513 \nL 467.221188 709.874679 \nL 466.759004 708.989353 \nL 465.913367 708.143708 \nL 465.804755 708.022375 \nL 465.437381 708.273413 \nL 464.855645 708.584697 \nL 464.760951 708.45813 \nL 463.928855 707.06292 \nL 463.532515 706.710828 \nL 462.978543 706.073784 \nL 462.072813 705.761487 \nL 461.668814 705.142892 \nL 461.17716 704.229357 \nL 460.77856 703.30699 \nL 460.285946 701.956377 \nL 459.410007 702.548993 \nL 459.255157 701.65144 \nL 458.995735 699.640029 \nL 458.755072 697.623294 \nL 458.549005 696.166419 \nL 457.697315 697.169025 \nL 456.849549 696.742874 \nL 456.761782 696.108363 \nL 456.553889 694.0833 \nL 456.395524 692.043947 \nL 456.26058 689.997838 \nL 456.127915 687.95107 \nL 455.985011 686.062024 \nL 455.935201 685.921705 \nL 455.719298 683.899288 \nL 455.668767 681.828903 \nL 455.63939 679.752382 \nL 455.609632 677.675971 \nL 455.56976 675.602494 \nL 455.510501 673.53464 \nL 455.415237 671.477231 \nL 455.247652 669.440798 \nL 455.186379 668.951231 \nL 454.964673 667.43818 \nL 454.610151 665.45652 \nL 454.34522 664.323768 \nL 454.058411 663.532822 \nL 453.538273 662.114235 \nL 453.174399 661.707517 \nL 452.744742 661.312912 \nL 452.482155 659.8269 \nL 452.069927 657.863985 \nL 451.959428 657.419626 \nL 451.507053 655.946396 \nL 451.182203 654.87995 \nL 450.40813 654.254087 \nL 450.395381 654.193643 \nL 450.015513 652.222898 \nL 449.646762 650.581688 \nL 449.574477 650.270667 \nL 449.215913 648.294061 \nL 448.897833 646.43265 \nL 448.85128 646.319363 \nL 448.190024 644.435329 \nL 448.123741 644.22456 \nL 447.928616 642.430055 \nL 447.656255 640.42823 \nL 447.390048 639.043032 \nL 447.282421 638.457574 \nL 446.925465 636.482142 \nL 446.66364 635.255105 \nL 446.487934 634.531721 \nL 445.973013 632.605582 \nL 445.944408 632.505393 \nL 445.751329 630.589246 \nL 445.558518 628.564 \nL 445.311647 626.555519 \nL 445.232246 626.050342 \nL 444.993075 624.569639 \nL 444.677218 622.583035 \nL 444.527051 621.733087 \nL 444.310076 620.61275 \nL 443.918864 618.650236 \nL 443.81113 618.153298 \nL 443.669901 616.643386 \nL 443.515597 614.60691 \nL 443.360889 612.57056 \nL 443.155528 610.550153 \nL 443.128445 610.330252 \nL 442.930582 608.536209 \nL 442.736231 606.512631 \nL 442.529766 604.492884 \nL 442.447944 603.772941 \nL 442.379727 602.455397 \nL 442.303836 600.394473 \nL 442.25087 598.326263 \nL 442.212215 596.253504 \nL 442.181179 594.178325 \nL 442.155512 592.101439 \nL 442.132241 590.023793 \nL 442.104418 587.947592 \nL 442.070752 585.873249 \nL 442.030058 583.801139 \nL 441.977368 581.732841 \nL 441.913904 579.667967 \nL 441.831908 577.608983 \nL 441.752572 576.006494 \nL 441.733115 575.555366 \nL 441.635406 573.501525 \nL 441.513682 571.455353 \nL 441.351117 569.422222 \nL 441.119014 567.411297 \nL 441.093619 567.225898 \nL 440.802238 565.427854 \nL 440.419853 563.9156 \nL 439.769144 565.626967 \nL 439.745495 565.767979 \nL 439.449362 567.948935 \nL 439.264931 570.093713 \nL 439.145836 572.217329 \nL 439.124484 572.730493 \nL 439.051412 574.333065 \nL 438.979905 576.441377 \nL 438.931877 578.542049 \nL 438.901476 580.636984 \nL 438.882954 582.728053 \nL 438.880452 584.81391 \nL 438.887862 586.896541 \nL 438.910522 588.97421 \nL 438.951944 591.045773 \nL 439.015485 593.110139 \nL 439.116773 595.16222 \nL 439.124484 595.279248 \nL 439.188465 597.224031 \nL 439.27354 599.281518 \nL 439.384739 601.330545 \nL 439.538664 603.365733 \nL 439.769144 605.342025 \nL 439.774931 605.374259 \nL 440.17648 607.32985 \nL 440.419853 608.256756 \nL 440.580808 609.284791 \nL 440.844739 611.285151 \nL 441.093619 613.051704 \nL 441.121876 613.281316 \nL 441.336668 615.297769 \nL 441.541475 617.317411 \nL 441.752572 619.050425 \nL 441.779262 619.326562 \nL 441.945144 621.358888 \nL 442.099699 623.394813 \nL 442.284256 625.421204 \nL 442.447944 626.671073 \nL 442.541025 627.42479 \nL 442.773443 629.43633 \nL 443.044513 631.435645 \nL 443.128445 631.941072 \nL 443.267527 633.450369 \nL 443.427882 635.484941 \nL 443.608211 637.513227 \nL 443.81113 639.000453 \nL 443.90182 639.505998 \nL 444.234172 641.486948 \nL 444.527051 642.97798 \nL 444.601254 643.457134 \nL 444.893496 645.451098 \nL 445.232246 647.312659 \nL 445.244532 647.426757 \nL 445.422796 649.456515 \nL 445.580655 651.492601 \nL 445.773605 653.517805 \nL 445.944408 654.692845 \nL 446.163206 655.482356 \nL 446.66364 657.405763 \nL 446.664561 657.412682 \nL 446.90015 659.425382 \nL 447.131263 661.439457 \nL 447.390048 663.210624 \nL 447.412616 663.438139 \nL 447.566917 665.476036 \nL 447.682571 667.525741 \nL 447.785413 669.579361 \nL 447.89956 671.629526 \nL 448.061949 673.664952 \nL 448.123741 674.2624 \nL 448.897833 674.247453 \nL 449.5969 675.284395 \nL 449.646762 675.341787 \nL 450.091773 677.220461 \nL 450.40813 678.354419 \nL 451.182203 678.285758 \nL 451.514888 678.87953 \nL 451.959428 679.653116 \nL 452.163642 680.771687 \nL 452.484554 682.761656 \nL 452.744742 684.207937 \nL 453.538273 683.49082 \nL 454.34522 683.994203 \nL 454.444302 684.270265 \nL 454.879781 686.228318 \nL 455.114488 688.244917 \nL 455.186379 689.267817 \nL 455.293203 690.27801 \nL 455.317902 692.355888 \nL 455.272887 694.453988 \nL 455.186379 696.467883 \nL 455.18073 696.56577 \nL 454.917607 698.727542 \nL 454.355665 700.976452 \nL 454.34522 701.002843 \nL 454.329141 700.984212 \nL 453.538273 699.933281 \nL 452.949518 701.389601 \nL 452.744742 701.831338 \nL 451.959428 702.318425 \nL 451.612019 701.786071 \nL 451.182203 701.023586 \nL 450.40813 701.869382 \nL 449.646762 700.804502 \nL 449.585331 700.308403 \nL 449.391111 698.282096 \nL 449.197186 696.2557 \nL 448.923082 694.253552 \nL 448.897833 694.101606 \nL 448.54369 692.283798 \nL 448.171118 690.31201 \nL 448.123741 690.042361 \nL 448.020867 688.272801 \nL 447.880206 686.230737 \nL 447.670005 684.20992 \nL 447.390048 682.744588 \nL 447.305951 682.23624 \nL 446.886922 680.279869 \nL 446.66364 679.528483 \nL 445.944408 679.67435 \nL 445.588831 678.595617 \nL 445.232246 677.720531 \nL 444.991145 676.696301 \nL 444.527051 675.191991 \nL 444.375764 674.803279 \nL 443.81113 673.503179 \nL 443.645975 672.947063 \nL 443.128445 671.500705 \nL 443.033629 671.054893 \nL 442.557732 669.120355 \nL 442.447944 668.756586 \nL 442.073582 667.189004 \nL 441.752572 666.188122 \nL 441.554567 665.269206 \nL 441.093619 663.735353 \nL 441.015399 663.356455 \nL 440.576713 661.412166 \nL 440.419853 660.906477 \nL 440.153031 659.463471 \nL 439.769144 658.06172 \nL 439.675036 657.532666 \nL 439.257837 655.58275 \nL 439.124484 655.132607 \nL 438.878455 653.62096 \nL 438.473563 652.055755 \nL 438.402167 651.691016 \nL 438.010939 649.733878 \nL 437.844898 649.105884 \nL 437.634096 647.772359 \nL 437.201959 646.040725 \nL 437.166312 645.841016 \nL 436.86742 643.854603 \nL 436.580886 642.635612 \nL 436.451477 641.90701 \nL 436.019651 639.965114 \nL 435.965453 639.754118 \nL 435.715154 637.981392 \nL 435.34002 636.252439 \nL 435.30044 636.034518 \nL 434.961409 634.062897 \nL 434.73578 633.117377 \nL 434.589989 632.102335 \nL 434.274717 630.123248 \nL 434.12167 629.397353 \nL 433.89989 628.164513 \nL 433.532108 626.526532 \nL 433.481293 626.220866 \nL 433.172157 624.240658 \nL 432.928982 623.064038 \nL 432.809717 622.278708 \nL 432.509721 620.295857 \nL 432.353638 619.440903 \nL 432.184983 618.321688 \nL 431.831014 616.357755 \nL 431.768544 616.049694 \nL 431.523532 614.378291 \nL 431.192295 612.430285 \nL 431.188952 612.40824 \nL 430.920109 610.415999 \nL 430.621105 608.617707 \nL 430.586426 608.446194 \nL 430.240363 606.481133 \nL 430.058498 605.466667 \nL 429.956233 604.494754 \nL 429.763253 602.476911 \nL 429.552997 600.465084 \nL 429.497196 599.956075 \nL 429.428065 598.423649 \nL 429.351711 596.36531 \nL 429.285373 594.303468 \nL 429.224135 592.239843 \nL 429.163136 590.176134 \nL 429.096944 588.114241 \nL 429.019038 586.056444 \nL 428.944286 584.43737 \nL 428.924834 584.004378 \nL 428.835113 581.950849 \nL 428.737965 579.899929 \nL 428.626276 577.854117 \nL 428.489672 575.817057 \nL 428.392617 574.620443 \nL 427.849156 575.211845 \nL 427.69122 574.013766 \nL 427.351586 572.049045 \nL 427.310315 571.847668 \nL 426.776033 571.571508 \nL 426.490075 572.355921 \nL 426.242873 573.094695 \nL 425.700806 574.545998 \nL 425.68263 574.730345 \nL 425.503258 576.880022 \nL 425.375743 579.011014 \nL 425.28164 581.129965 \nL 425.210106 583.240784 \nL 425.193331 583.834116 \nL 425.130843 585.354483 \nL 425.060427 587.465005 \nL 425.004535 589.570272 \nL 424.959857 591.671482 \nL 424.924257 593.769406 \nL 424.896278 595.864573 \nL 424.875104 597.957277 \nL 424.86037 600.047651 \nL 424.852305 602.135611 \nL 424.851836 604.220824 \nL 424.860746 606.302642 \nL 424.882309 608.379882 \nL 424.922255 610.45047 \nL 424.990666 612.510758 \nL 425.106419 614.553915 \nL 425.193331 615.552413 \nL 425.305296 616.567162 \nL 425.700806 618.323758 \nL 425.718737 618.503252 \nL 425.927491 620.513388 \nL 426.169912 622.511443 \nL 426.242873 623.057545 \nL 426.5006 624.478221 \nL 426.776033 625.813394 \nL 426.866362 626.432718 \nL 427.198372 628.399639 \nL 427.310315 628.958505 \nL 427.449414 630.395576 \nL 427.690453 632.395226 \nL 427.849156 633.412659 \nL 427.953722 634.387159 \nL 428.140456 636.406329 \nL 428.325584 638.426066 \nL 428.392617 639.114729 \nL 428.944286 640.152662 \nL 428.964765 640.286529 \nL 429.318196 642.247965 \nL 429.497196 643.000652 \nL 429.704937 644.198066 \nL 430.058498 645.795181 \nL 430.169657 646.121453 \nL 430.621105 647.280588 \nL 430.72208 648.015121 \nL 431.011523 650.00025 \nL 431.192295 650.968164 \nL 431.546089 651.901303 \nL 431.768544 652.448236 \nL 431.932945 653.853643 \nL 432.21618 655.841778 \nL 432.353638 656.560256 \nL 432.759723 657.74146 \nL 432.928982 658.198249 \nL 433.15963 659.690628 \nL 433.532108 661.345669 \nL 433.592085 661.629107 \nL 434.044182 663.561522 \nL 434.12167 663.846799 \nL 434.603183 665.45858 \nL 434.73578 665.846456 \nL 435.023163 667.402916 \nL 435.34002 668.602445 \nL 435.570011 669.305364 \nL 435.965453 670.426285 \nL 436.081134 671.220369 \nL 436.43236 673.188983 \nL 436.580886 673.744013 \nL 437.043892 675.072007 \nL 437.201959 675.504761 \nL 437.474806 677.015272 \nL 437.844898 678.352631 \nL 437.958091 678.94175 \nL 438.472967 680.858463 \nL 438.473563 680.860243 \nL 439.015423 682.766983 \nL 439.124484 683.080839 \nL 439.354752 684.741954 \nL 439.769144 686.409309 \nL 439.824709 686.674867 \nL 440.24669 688.623871 \nL 440.419853 689.165576 \nL 440.663915 690.574781 \nL 441.093619 692.146212 \nL 441.149955 692.503962 \nL 441.412769 694.50508 \nL 441.752572 695.814534 \nL 441.880784 696.440869 \nL 442.342381 698.379217 \nL 442.447944 698.716233 \nL 442.702585 700.350181 \nL 443.128445 701.994369 \nL 443.175071 702.285869 \nL 443.423755 704.292641 \nL 443.81113 706.070545 \nL 443.843339 706.245673 \nL 444.138647 708.238224 \nL 444.527051 709.918183 \nL 444.571526 710.187757 \nL 444.851601 712.185512 \nL 445.232246 713.98313 \nL 445.255256 714.144789 \nL 445.476512 716.161214 \nL 445.705957 718.1751 \nL 445.944408 719.979607 \nL 445.958204 720.181935 \nL 446.003664 722.252948 \nL 445.964572 724.350054 \nL 445.944408 724.713157 \nL 445.706602 726.515069 \nL 445.398521 728.695656 \nL 445.232246 729.714758 \nL 444.892287 730.938214 \nL 444.527051 732.192369 \nL 444.29007 733.211307 \nL 443.846756 735.435196 \nL 443.81113 735.59303 \nL 443.3459 737.677823 \nL 443.128445 738.727693 \nL 442.722452 739.959704 \nL 442.447944 740.687405 \nL 441.886756 742.309904 \nL 441.752572 742.650718 \nL 441.176332 744.6216 \nL 441.093619 744.879098 \nL 440.419853 745.803956 \nL 439.956915 747.098477 \nL 439.769144 747.524346 \nL 439.124484 748.754964 \nL 438.473563 748.97129 \nL 438.103608 749.785619 \nL 437.844898 750.223043 \nL 437.201959 750.345771 \nL 436.580886 751.140018 \nL 435.965453 751.577989 \nL 435.34002 751.247961 \nL 434.73578 751.838859 \nL 434.43367 751.002288 \nL 434.12167 749.575181 \nL 433.532108 751.008136 \nL 433.120504 749.360721 \nL 433.016871 747.310823 \nL 432.942364 745.251047 \nL 432.928982 744.944466 \nL 432.833426 745.288136 \nL 432.391056 747.523867 \nL 432.353638 747.838158 \nL 432.299061 747.555287 \nL 432.1058 745.536368 \nL 431.996566 743.4887 \nL 431.883282 741.442418 \nL 431.768544 739.805852 \nL 431.631607 741.528737 \nL 431.55804 743.639062 \nL 431.551362 745.7264 \nL 431.619729 747.787946 \nL 431.768544 749.29818 \nL 431.976453 749.750709 \nL 432.194512 751.761143 \nL 432.303842 753.808778 \nL 432.353638 754.590212 \nL 432.928982 755.673053 \nL 432.929283 755.680695 \nL 433.011086 757.737997 \nL 433.094017 759.794915 \nL 433.221985 761.836561 \nL 433.497951 763.828017 \nL 433.532108 763.970977 \nL 434.12167 763.711334 \nL 434.73578 765.137716 \nL 435.34002 765.278504 \nL 435.360102 765.287219 \nL 435.965453 765.085626 \nL 436.580886 764.881615 \nL 437.201959 764.676672 \nL 437.844898 764.465496 \nL 438.245356 764.334574 \nL 437.844898 764.404573 \nL 437.201959 764.368207 \nL 436.580886 764.205303 \nL 435.965453 764.107952 \nL 435.34002 763.59644 \nL 434.967473 763.333499 \nL 434.73578 763.027655 \nL 434.364194 761.45085 \nL 434.139745 759.441239 \nL 434.12167 759.053675 \nL 433.532108 757.717774 \nL 433.528776 757.562437 \nL 433.532108 757.476548 \nL 434.009808 755.314993 \nL 434.12167 755.017666 \nL 434.73578 754.633256 \nL 435.34002 753.629905 \nL 435.965453 753.544655 \nL 436.580886 752.956596 \nL 437.029666 752.223271 \nL 437.201959 751.939679 \nL 437.844898 751.679744 \nL 438.473563 750.476789 \nL 439.124484 750.154588 \nL 439.547674 749.315784 \nL 439.769144 748.817549 \nL 440.419853 747.262009 \nL 440.667598 746.869745 \nL 441.093619 746.097283 \nL 441.612361 744.482363 \nL 441.752572 744.002808 \nL 442.447944 742.212133 \nL 442.483307 742.120377 \nL 443.128445 740.285345 \nL 443.246738 739.794076 \nL 443.749855 737.550683 \nL 443.81113 737.276097 \nL 444.255563 735.307157 \nL 444.527051 734.139714 \nL 444.889344 733.024174 \nL 445.232246 731.861536 \nL 445.449589 730.764861 \nL 445.842677 728.557911 \nL 445.944408 727.937808 \nL 446.084108 726.398208 \nL 446.19838 724.277901 \nL 446.243196 722.179029 \nL 446.216985 720.102075 \nL 446.097783 718.053818 \nL 445.944408 716.833346 \nL 445.827749 716.052286 \nL 445.538596 714.056918 \nL 445.252187 712.060698 \nL 445.232246 711.947923 \nL 444.860049 710.097837 \nL 444.531855 708.115078 \nL 444.527051 708.090418 \nL 444.107442 706.162955 \nL 443.81113 704.55183 \nL 443.733421 704.195176 \nL 443.370681 702.224303 \nL 443.128445 700.709874 \nL 443.010092 700.252931 \nL 442.599927 698.297605 \nL 442.447944 697.505195 \nL 442.13675 696.359524 \nL 441.752572 694.482753 \nL 441.731919 694.403167 \nL 441.311206 692.45247 \nL 441.093619 691.070718 \nL 440.934285 690.488032 \nL 440.517075 688.536852 \nL 440.419853 688.070353 \nL 440.020938 686.611606 \nL 439.769144 685.408215 \nL 439.585021 684.667373 \nL 439.228443 682.697822 \nL 439.124484 682.119438 \nL 438.696171 680.785829 \nL 438.473563 679.963114 \nL 438.179514 678.86936 \nL 437.844898 677.127836 \nL 437.785507 676.913221 \nL 437.324914 674.979462 \nL 437.201959 674.366281 \nL 436.765882 673.078703 \nL 436.580886 672.459065 \nL 436.28877 671.15154 \nL 435.988004 669.166198 \nL 435.965453 669.03058 \nL 435.388267 667.280846 \nL 435.34002 667.111278 \nL 434.917376 665.353265 \nL 434.73578 664.409302 \nL 434.430408 663.431603 \nL 434.12167 662.239889 \nL 433.93728 661.512569 \nL 433.532108 659.597836 \nL 433.525098 659.56669 \nL 433.121624 657.618474 \nL 432.928982 656.439032 \nL 432.682067 655.68287 \nL 432.353638 654.494819 \nL 432.227096 653.753 \nL 431.93909 651.766499 \nL 431.768544 650.48104 \nL 431.537937 649.819062 \nL 431.192295 648.64623 \nL 431.061145 647.898079 \nL 430.75578 645.918445 \nL 430.621105 644.993406 \nL 430.29527 643.99286 \nL 430.058498 643.108007 \nL 429.846195 642.063835 \nL 429.52056 640.092185 \nL 429.497196 639.937239 \nL 429.167826 638.130469 \nL 428.944286 636.464387 \nL 428.855392 636.154829 \nL 428.46742 634.20606 \nL 428.392617 633.644205 \nL 428.244189 632.199652 \nL 428.008739 630.197666 \nL 427.849156 629.079403 \nL 427.742151 628.206827 \nL 427.532074 626.196208 \nL 427.34761 624.176515 \nL 427.310315 623.756345 \nL 427.073405 622.188972 \nL 426.810111 620.197603 \nL 426.776033 619.926543 \nL 426.495419 618.224945 \nL 426.242873 616.365351 \nL 426.228466 616.235305 \nL 426.023295 614.223883 \nL 425.840071 612.204587 \nL 425.700806 610.50337 \nL 425.673169 610.179475 \nL 425.546817 608.139963 \nL 425.468287 606.083218 \nL 425.420274 604.015476 \nL 425.393285 601.940159 \nL 425.381928 599.859209 \nL 425.383197 597.77371 \nL 425.395594 595.6842 \nL 425.418696 593.590833 \nL 425.452963 591.493443 \nL 425.499712 589.391554 \nL 425.561349 587.284302 \nL 425.641404 585.170412 \nL 425.700806 583.912192 \nL 425.840665 583.01378 \nL 426.242873 580.970846 \nL 426.276127 580.772532 \nL 426.727336 578.526278 \nL 426.776033 578.318839 \nL 426.951031 578.446619 \nL 427.310315 578.708437 \nL 427.513889 580.331716 \nL 427.724155 582.342268 \nL 427.849156 583.700102 \nL 428.392617 583.05949 \nL 428.459404 584.167858 \nL 428.573058 586.21298 \nL 428.679861 588.260508 \nL 428.78609 590.308238 \nL 428.89835 592.35385 \nL 428.944286 593.112239 \nL 428.997226 594.404243 \nL 429.079845 596.46039 \nL 429.1641 598.515966 \nL 429.25655 600.568676 \nL 429.365341 602.615671 \nL 429.497196 604.580528 \nL 429.505217 604.651806 \nL 429.740593 606.654887 \nL 429.988443 608.653623 \nL 430.058498 609.139873 \nL 430.365475 610.607841 \nL 430.621105 611.685752 \nL 430.765893 612.554276 \nL 431.08234 614.530083 \nL 431.192295 615.185264 \nL 431.421903 616.498261 \nL 431.763368 618.465951 \nL 431.768544 618.491516 \nL 432.129653 620.425661 \nL 432.353638 621.803111 \nL 432.458977 622.398185 \nL 432.791391 624.369994 \nL 432.928982 625.13825 \nL 433.165755 626.327872 \nL 433.501571 628.299032 \nL 433.532108 628.464301 \nL 433.919971 630.242776 \nL 434.12167 631.260906 \nL 434.302653 632.198902 \nL 434.625244 634.175529 \nL 434.73578 634.818775 \nL 435.026245 636.126249 \nL 435.34002 637.853848 \nL 435.391107 638.089306 \nL 435.773843 640.04689 \nL 435.965453 641.122806 \nL 436.173811 641.999053 \nL 436.542614 643.961841 \nL 436.580886 644.163295 \nL 436.957535 645.909909 \nL 437.201959 647.279273 \nL 437.348426 647.866188 \nL 437.73389 649.824624 \nL 437.844898 650.420752 \nL 438.176732 651.764718 \nL 438.473563 653.281143 \nL 438.58608 653.716103 \nL 438.997969 655.667112 \nL 439.124484 656.29157 \nL 439.461336 657.601882 \nL 439.769144 659.332311 \nL 439.833293 659.566548 \nL 440.29653 661.502252 \nL 440.419853 662.081878 \nL 440.790515 663.42861 \nL 441.093619 664.896843 \nL 441.236083 665.370907 \nL 441.698774 667.308199 \nL 441.752572 667.555516 \nL 442.253301 669.216933 \nL 442.447944 669.987745 \nL 442.769178 671.138527 \nL 443.128445 672.827764 \nL 443.219195 673.081387 \nL 443.796173 674.984832 \nL 443.81113 675.041561 \nL 444.510182 676.846222 \nL 444.527051 676.897496 \nL 445.059366 678.760083 \nL 445.232246 679.520235 \nL 445.635206 680.666278 \nL 445.944408 681.823718 \nL 446.66364 682.142932 \nL 446.732764 682.412248 \nL 447.147554 684.369921 \nL 447.390048 686.038838 \nL 447.439613 686.365357 \nL 447.683772 688.375798 \nL 447.855919 690.408242 \nL 447.99792 692.449898 \nL 448.123741 694.353715 \nL 448.152185 694.48785 \nL 448.613992 696.432512 \nL 448.897833 697.445021 \nL 449.022009 698.39372 \nL 449.265223 700.40521 \nL 449.519922 702.413227 \nL 449.646762 703.207179 \nL 450.368489 704.242753 \nL 450.40813 704.294445 \nL 450.567539 704.183108 \nL 451.182203 703.67898 \nL 451.344768 703.950701 \nL 451.959428 704.868459 \nL 452.744742 704.725421 \nL 453.490762 703.315126 \nL 453.538273 703.211039 \nL 453.596383 703.284086 \nL 454.34522 704.135484 \nL 455.186379 702.91119 \nL 455.202566 702.814555 \nL 455.477064 700.649891 \nL 455.675339 698.507336 \nL 455.84723 696.372435 \nL 455.985011 694.741577 \nL 456.11841 696.293982 \nL 456.338468 698.315536 \nL 456.667612 700.305617 \nL 456.849549 701.035857 \nL 457.697315 702.086159 \nL 458.549005 700.818773 \nL 458.688616 701.812241 \nL 459.008247 703.806563 \nL 459.410007 705.53799 \nL 460.285946 705.424318 \nL 460.32686 705.518831 \nL 461.17716 707.074384 \nL 461.335369 707.321017 \nL 462.072813 708.276917 \nL 462.844926 708.985864 \nL 462.978543 709.142266 \nL 463.928855 709.818018 \nL 464.532948 710.605742 \nL 464.855645 710.942095 \nL 465.804755 711.049299 \nL 466.71631 712.095966 \nL 466.759004 712.149493 \nL 467.718377 713.647002 \nL 468.085218 713.812292 \nL 468.707116 714.252229 \nL 469.661496 715.476189 \nL 469.738349 715.711905 \nL 470.682953 716.17939 \nL 471.345009 717.116032 \nL 471.726141 717.926794 \nL 471.968663 719.037169 \nL 472.10036 721.087729 \nL 471.726141 722.576339 \nL 470.902333 723.487776 \nL 470.682953 723.643293 \nL 469.738349 725.165851 \nL 469.533434 725.935535 \nL 468.707116 727.639864 \nL 468.354711 728.335324 \nL 467.718377 729.326269 \nL 466.759004 729.93171 \nL 465.804755 729.89255 \nL 464.855645 731.218909 \nL 463.928855 731.156591 \nL 463.590974 731.715202 \nL 462.978543 732.82147 \nL 462.072813 733.071717 \nL 461.524721 734.373711 \nL 461.17716 735.297839 \nL 460.602373 736.717127 \nL 460.285946 737.636806 \nL 459.410007 737.928114 \nL 458.976396 739.261324 \nL 458.549005 741.233339 \nL 458.43238 741.500955 \nL 457.697315 743.087651 \nL 456.946978 744.011062 \nL 456.849549 744.134259 \nL 456.3865 746.257654 \nL 455.985011 748.211281 \nL 455.186379 746.744914 \nL 455.123487 746.623481 \nL 454.34522 745.466552 \nL 453.538273 746.823975 \nL 452.744742 746.506431 \nL 451.974431 745.464059 \nL 451.959428 745.44866 \nL 451.940279 745.474206 \nL 451.182203 746.601105 \nL 450.40813 746.628898 \nL 449.646762 747.515303 \nL 449.506711 748.288155 \nL 449.183183 750.471038 \nL 448.897833 752.471508 \nL 448.837726 752.660647 \nL 448.123741 754.748008 \nL 448.087009 754.97395 \nL 447.635519 757.196942 \nL 447.390048 758.046574 \nL 446.66364 759.435207 \nL 446.540964 759.617902 \nL 445.944408 760.454841 \nL 445.232246 761.373168 \nL 444.527051 761.908683 \nL 443.81113 762.417824 \nL 443.477633 762.656871 \nL 443.81113 762.551906 \nL 444.527051 762.327678 \nL 445.232246 762.107901 \nL 445.829254 761.922753 \nL 445.944408 761.812558 \nL 446.66364 761.166952 \nL 447.390048 760.20988 \nL 447.757128 759.244827 \nL 448.123741 757.882432 \nL 448.541786 756.920692 \nL 448.897833 756.020351 \nL 449.099845 754.666326 \nL 449.364457 752.50126 \nL 449.619841 750.338985 \nL 449.646762 750.15501 \nL 450.40813 749.316656 \nL 451.182203 749.470163 \nL 451.959428 748.307097 \nL 452.625873 749.441146 \nL 452.744742 749.69101 \nL 453.538273 750.540796 \nL 454.34522 749.006865 \nL 455.092506 750.8026 \nL 455.186379 751.061639 \nL 455.830674 752.673382 \nL 455.985011 753.055368 \nL 456.095453 752.596751 \nL 456.564894 750.37627 \nL 456.849549 748.87327 \nL 457.538797 748.011336 \nL 457.697315 747.828241 \nL 458.549005 746.386948 \nL 458.663859 745.605159 \nL 458.992355 743.42688 \nL 459.390082 741.228951 \nL 459.410007 741.145849 \nL 459.59272 741.17172 \nL 460.285946 741.379429 \nL 460.407518 740.941911 \nL 461.085754 738.666477 \nL 461.17716 738.401001 \nL 461.87495 736.360985 \nL 462.072813 735.834133 \nL 462.912291 736.072715 \nL 462.978543 736.107984 \nL 463.005903 736.046772 \nL 463.928855 734.219626 \nL 464.855645 733.859526 \nL 465.723524 733.215846 \nL 465.804755 733.155563 \nL 465.894638 733.169298 \nL 466.759004 733.38029 \nL 467.367385 732.770713 \nL 467.718377 732.473041 \nL 468.707116 731.474854 \nL 469.738349 730.973984 \nL 470.396038 729.876725 \nL 470.682953 729.417934 \nL 471.726141 728.744311 \nL 472.315098 729.371672 \nL 472.763152 729.97155 \nL 473.03903 729.182556 \nL 473.514188 726.973849 \nL 473.76036 724.824737 \nL 473.799964 724.279525 \nL 474.670016 722.504316 \nL 474.855891 722.153452 \nL 474.916573 722.44063 \nL 475.362339 724.411063 \nL 475.825271 726.377083 \nL 475.931404 726.737161 \nL 476.620159 726.173808 \nL 477.026993 725.309305 \nz\nM 454.34522 677.89883 \nL 453.538273 677.885985 \nL 453.418011 678.316058 \nL 452.744742 679.814577 \nL 452.532329 678.577417 \nL 452.141212 676.608248 \nL 451.959428 675.92028 \nL 451.377171 674.750457 \nL 451.182203 674.320026 \nL 450.40813 674.89889 \nL 449.958097 673.090597 \nL 449.646762 671.827165 \nL 449.391033 671.176568 \nL 448.897833 669.319581 \nL 448.839572 669.258389 \nL 448.123741 668.257116 \nL 448.068634 667.407782 \nL 447.952349 665.35827 \nL 447.835532 663.30892 \nL 447.690565 661.268171 \nL 447.454965 659.255114 \nL 447.390048 658.879856 \nL 447.19432 657.250009 \nL 446.957272 655.237757 \nL 446.66364 653.257307 \nL 446.660016 653.243999 \nL 446.092732 651.334019 \nL 445.944408 650.927483 \nL 445.792002 649.342015 \nL 445.628779 647.307592 \nL 445.450496 645.27784 \nL 445.232246 643.600885 \nL 445.179596 643.276891 \nL 444.8916 641.281604 \nL 444.573839 639.295593 \nL 444.527051 639.026298 \nL 444.246567 637.312981 \nL 443.882855 635.341853 \nL 443.81113 634.996737 \nL 443.666093 633.324924 \nL 443.519832 631.285916 \nL 443.355105 629.25272 \nL 443.128445 627.553182 \nL 443.091387 627.250736 \nL 442.88248 625.231761 \nL 442.666093 623.215152 \nL 442.447944 621.713812 \nL 442.405346 621.212637 \nL 442.274873 619.169059 \nL 442.155318 617.12201 \nL 442.005855 615.084467 \nL 441.752572 613.569919 \nL 441.704164 613.095375 \nL 441.502815 611.074629 \nL 441.246063 609.071575 \nL 441.093619 608.224184 \nL 440.929979 607.087717 \nL 440.577829 605.115662 \nL 440.419853 604.485722 \nL 440.149138 603.16858 \nL 439.83265 601.185567 \nL 439.769144 600.702667 \nL 439.644603 599.161335 \nL 439.523131 597.115636 \nL 439.433382 595.059663 \nL 439.36754 592.995946 \nL 439.321193 590.925914 \nL 439.290502 588.850812 \nL 439.275441 586.770648 \nL 439.275756 584.685504 \nL 439.290633 582.595643 \nL 439.324566 580.49961 \nL 439.37867 578.397044 \nL 439.459938 576.285679 \nL 439.578257 574.162315 \nL 439.746772 572.022692 \nL 439.769144 571.791632 \nL 440.182882 569.797023 \nL 440.419853 568.887258 \nL 440.556628 569.676743 \nL 440.830224 571.674002 \nL 441.031148 573.694577 \nL 441.093619 574.449715 \nL 441.194388 575.727397 \nL 441.326002 577.770412 \nL 441.433804 579.82103 \nL 441.526706 581.876406 \nL 441.608756 583.935247 \nL 441.686278 585.995535 \nL 441.752572 587.782416 \nL 441.760892 588.056763 \nL 441.816538 590.124122 \nL 441.862082 592.194691 \nL 441.901172 594.26731 \nL 441.936781 596.341036 \nL 441.970913 598.415232 \nL 442.00668 600.488907 \nL 442.046998 602.561137 \nL 442.095034 604.630914 \nL 442.161489 606.694837 \nL 442.277687 608.742952 \nL 442.447944 610.050791 \nL 442.515239 610.752606 \nL 442.706814 612.777062 \nL 442.969583 614.779002 \nL 443.128445 615.557943 \nL 443.225307 616.783318 \nL 443.369502 618.822976 \nL 443.534129 620.856204 \nL 443.81113 622.681631 \nL 443.843232 622.844009 \nL 444.216014 624.812295 \nL 444.527051 626.177885 \nL 444.622471 626.770182 \nL 444.94208 628.755617 \nL 445.232246 630.132174 \nL 445.300647 630.729015 \nL 445.498469 632.752707 \nL 445.702224 634.77456 \nL 445.944408 636.442157 \nL 446.024843 636.759673 \nL 446.477497 638.705027 \nL 446.66364 639.529317 \nL 446.871948 640.66866 \nL 447.236254 642.641835 \nL 447.390048 643.353383 \nL 447.563578 644.626631 \nL 447.783732 646.644408 \nL 447.989486 648.666584 \nL 448.123741 649.849577 \nL 448.508708 650.593583 \nL 448.897833 651.207106 \nL 449.157333 652.481862 \nL 449.646762 654.094936 \nL 449.712329 654.399164 \nL 450.122451 656.360806 \nL 450.40813 657.610429 \nL 450.870344 658.221532 \nL 451.182203 658.742835 \nL 451.620672 660.082645 \nL 451.959428 661.007869 \nL 452.158132 662.007938 \nL 452.503675 663.990609 \nL 452.744742 665.350526 \nL 453.025982 665.921344 \nL 453.538273 667.558119 \nL 453.631048 667.828202 \nL 454.226538 669.738657 \nL 454.34522 670.188191 \nL 454.51346 671.739844 \nL 454.64247 673.787266 \nL 454.653191 675.869182 \nz\n\" style=\"fill:#0000e8;\"/>\n    <path clip-path=\"url(#p224db4f40e)\" d=\"M 430.653354 743.950796 \nL 430.729668 741.839411 \nL 430.718668 739.758166 \nL 430.647256 737.697774 \nL 430.621105 737.305021 \nL 430.602489 737.713255 \nL 430.551444 739.815995 \nL 430.544762 741.903354 \nL 430.599466 743.969431 \nL 430.621105 744.291514 \nz\n\" style=\"fill:#0000e8;\"/>\n    <path clip-path=\"url(#p224db4f40e)\" d=\"M 429.572355 738.071143 \nL 429.58434 735.981927 \nL 429.555082 733.907073 \nL 429.497196 732.224001 \nL 429.453579 733.942484 \nL 429.432523 736.03489 \nL 429.44252 738.116437 \nL 429.497196 740.134581 \nz\n\" style=\"fill:#0000e8;\"/>\n    <path clip-path=\"url(#p224db4f40e)\" d=\"M 428.395244 740.568576 \nL 428.438892 738.468202 \nL 428.4446 736.381155 \nL 428.423683 734.30346 \nL 428.392617 732.970889 \nL 428.361332 734.325407 \nL 428.342503 736.417092 \nL 428.350236 738.499406 \nL 428.390385 740.570286 \nL 428.392617 740.630959 \nz\n\" style=\"fill:#0000e8;\"/>\n    <path clip-path=\"url(#p224db4f40e)\" d=\"M 427.311326 738.866703 \nL 427.343336 736.77032 \nL 427.347778 734.683704 \nL 427.326996 732.606024 \nL 427.310315 731.905484 \nL 427.274879 732.624541 \nL 427.232884 734.724524 \nL 427.242621 736.806102 \nL 427.308222 738.867805 \nL 427.310315 738.901398 \nz\n\" style=\"fill:#0000e8;\"/>\n    <path clip-path=\"url(#p224db4f40e)\" d=\"M 425.210891 741.703726 \nL 425.285485 739.591805 \nL 425.320992 737.493967 \nL 425.320125 735.409237 \nL 425.268122 733.342934 \nL 425.193331 732.24767 \nL 425.149387 731.300743 \nL 425.021586 729.261945 \nL 424.842761 727.241611 \nL 424.663591 725.87408 \nL 424.478538 727.373684 \nL 424.30373 729.522245 \nL 424.182128 731.651472 \nL 424.16451 732.061289 \nL 424.146585 731.664414 \nL 424.015696 729.627129 \nL 423.821935 727.612784 \nL 423.643496 726.377193 \nL 423.434963 727.754292 \nL 423.293798 729.891054 \nL 423.233454 731.998205 \nL 423.207603 734.092718 \nL 423.20253 736.179619 \nL 423.21579 738.259804 \nL 423.253044 740.331197 \nL 423.333987 742.386584 \nL 423.522883 744.402419 \nL 423.643496 745.036158 \nL 424.069795 744.202687 \nL 424.16451 743.783625 \nL 424.52521 741.952022 \nL 424.663591 741.643789 \nL 425.002556 741.779086 \nL 425.193331 742.01979 \nz\n\" style=\"fill:#0000e8;\"/>\n    <path clip-path=\"url(#p224db4f40e)\" d=\"M 422.914366 742.540677 \nL 423.057782 740.402877 \nL 423.102683 738.301318 \nL 423.117593 736.21079 \nL 423.117419 734.125812 \nL 423.104883 732.045381 \nL 423.075954 729.97098 \nL 423.015554 727.908157 \nL 422.871363 725.876157 \nL 422.656051 724.705819 \nL 422.471955 726.02336 \nL 422.325018 728.162676 \nL 422.252434 730.274528 \nL 422.210312 732.375129 \nL 422.183351 734.47013 \nL 422.165392 736.561806 \nL 422.160358 737.670732 \nL 422.154955 736.565669 \nL 422.136969 734.487297 \nL 422.112965 732.411157 \nL 422.080843 730.338028 \nL 422.035941 728.269638 \nL 421.968896 726.209461 \nL 421.859281 724.165072 \nL 421.66869 722.25667 \nL 421.42155 724.327788 \nL 421.254702 726.474962 \nL 421.180998 727.734414 \nL 421.102039 726.531932 \nL 420.956587 724.501276 \nL 420.78668 722.479764 \nL 420.681793 721.448596 \nL 420.498566 722.587771 \nL 420.219366 724.777632 \nL 420.21735 724.796359 \nL 420.214479 724.779471 \nL 419.894023 722.815211 \nL 419.741301 721.797154 \nL 419.442921 722.985687 \nL 419.266026 723.634279 \nL 418.854367 723.209032 \nL 418.802759 721.143598 \nL 418.797532 720.84114 \nL 418.794133 721.14688 \nL 418.757005 723.246086 \nL 418.320868 723.909717 \nL 418.181796 725.550762 \nL 418.097046 727.668262 \nL 418.049473 729.771524 \nL 418.016786 731.869086 \nL 417.990799 733.964081 \nL 417.967352 736.058103 \nL 417.943416 738.152313 \nL 417.915466 740.248059 \nL 417.877116 742.34779 \nL 417.862766 742.951135 \nL 417.837131 742.363142 \nL 417.772806 740.302831 \nL 417.731075 738.233834 \nL 417.700057 736.160718 \nL 417.674463 734.085516 \nL 417.651189 732.009422 \nL 417.627665 729.933424 \nL 417.600772 727.858722 \nL 417.565104 725.787393 \nL 417.508023 723.724298 \nL 417.408229 721.929513 \nL 417.227075 723.832591 \nL 417.05007 725.985956 \nL 416.954317 727.225842 \nL 416.905342 728.126935 \nL 416.833463 730.23983 \nL 416.787522 732.342675 \nL 416.751383 734.441721 \nL 416.718097 736.539661 \nL 416.683237 738.638212 \nL 416.642385 740.739084 \nL 416.588784 742.844897 \nL 416.507891 744.961285 \nL 416.506809 744.984069 \nL 416.505972 744.96203 \nL 416.44768 742.899662 \nL 416.413512 740.827911 \nL 416.389893 738.752057 \nL 416.371633 736.674117 \nL 416.356042 734.59514 \nL 416.341222 732.515862 \nL 416.32515 730.437072 \nL 416.304541 728.360046 \nL 416.271625 726.287808 \nL 416.19852 724.231204 \nL 416.05989 722.940294 \nL 415.976528 724.317684 \nL 415.888272 726.437191 \nL 415.82591 728.546586 \nL 415.776878 730.650776 \nL 415.73455 732.752347 \nL 415.694605 734.852989 \nL 415.653333 736.954148 \nL 415.616418 738.646928 \nL 415.600888 739.059695 \nL 415.517037 741.177609 \nL 415.411996 743.303832 \nL 415.255727 745.450137 \nL 415.165113 746.32202 \nL 414.997166 745.551757 \nL 414.848238 743.525326 \nL 414.790316 741.463079 \nL 414.757188 739.391074 \nL 414.734388 737.315005 \nL 414.734078 737.282096 \nL 414.30352 735.41657 \nL 414.193916 737.52868 \nL 414.084047 739.65729 \nL 413.964115 741.789891 \nL 413.878957 743.12703 \nL 413.58149 741.942059 \nL 413.460292 741.221225 \nL 413.420184 739.921281 \nL 413.360342 737.860146 \nL 413.29933 735.799478 \nL 413.229497 733.742335 \nL 413.140318 731.692921 \nL 413.042016 730.067447 \nL 412.90707 731.786305 \nL 412.754238 733.932632 \nL 412.632214 735.716864 \nL 412.60294 736.078388 \nL 412.465055 738.218929 \nL 412.359478 740.346466 \nL 412.269522 742.467716 \nL 412.204072 744.118869 \nL 412.178543 744.589416 \nL 412.087201 746.711362 \nL 412.015805 748.825249 \nL 411.959527 750.933028 \nL 411.920323 753.03391 \nL 411.909224 755.123437 \nL 411.956609 757.189335 \nL 412.146784 759.197544 \nL 412.204072 759.478804 \nL 412.242201 759.159052 \nL 412.596225 756.931515 \nL 412.632214 756.783607 \nL 412.930603 754.712336 \nL 413.042016 754.079605 \nL 413.107979 754.641307 \nL 413.263974 756.664028 \nL 413.370356 758.706569 \nL 413.460292 760.58846 \nL 413.483259 760.74654 \nL 413.858463 762.682241 \nL 413.878957 762.763467 \nL 413.891528 762.669099 \nL 414.150734 760.48127 \nL 414.30352 759.180154 \nL 414.467089 758.271024 \nL 414.688552 756.098493 \nL 414.734078 755.236691 \nL 414.757302 756.071369 \nL 414.824462 758.12998 \nL 414.90634 760.182799 \nL 415.017469 762.224106 \nL 415.165113 764.049251 \nL 415.383335 762.08045 \nL 415.572614 759.921203 \nL 415.616418 759.348773 \nL 415.688873 757.790694 \nL 415.790038 755.666146 \nL 415.927703 753.527344 \nL 416.05989 752.260346 \nL 416.181831 753.428289 \nL 416.284638 755.47334 \nL 416.352244 757.532084 \nL 416.41576 759.592419 \nL 416.490394 761.648429 \nL 416.506809 761.998821 \nL 416.534057 761.631485 \nL 416.662195 759.49679 \nL 416.781581 757.365486 \nL 416.930461 755.222753 \nL 416.954317 754.948926 \nL 417.224352 753.024236 \nL 417.408229 751.781167 \nL 417.503582 752.916599 \nL 417.613012 754.959567 \nL 417.699015 757.011543 \nL 417.787378 759.06261 \nL 417.862766 760.494154 \nL 417.908868 759.015969 \nL 417.961907 756.910613 \nL 418.014607 754.805387 \nL 418.08674 752.692718 \nL 418.255748 750.542948 \nL 418.320868 750.157616 \nL 418.7629 750.349388 \nL 418.797532 750.630114 \nL 418.812626 750.330443 \nL 419.266026 748.733708 \nL 419.741301 748.016159 \nL 420.21735 748.211464 \nL 420.282329 747.689461 \nL 420.612337 745.480526 \nL 420.681793 745.108838 \nL 420.748072 745.429668 \nL 421.044107 747.404018 \nL 421.180998 748.645788 \nL 421.270099 747.319652 \nL 421.474941 745.158331 \nL 421.66869 743.972477 \nL 422.093853 742.843457 \nL 422.160358 741.079854 \nL 422.213346 742.799221 \nL 422.656051 743.753352 \nz\nM 418.797532 743.412439 \nL 418.793166 741.997673 \nL 418.788214 739.91452 \nL 418.784818 737.830773 \nL 418.782783 735.746507 \nL 418.78199 733.661767 \nL 418.78249 731.576534 \nL 418.784519 729.490717 \nL 418.788878 727.404012 \nL 418.797532 725.543421 \nL 418.813017 727.394828 \nL 418.821074 729.476809 \nL 418.825122 731.560313 \nL 418.826448 733.644852 \nL 418.825385 735.730299 \nL 418.821948 737.816647 \nL 418.815817 739.904019 \nL 418.806377 741.992647 \nz\nM 418.320868 740.472423 \nL 418.310985 740.096581 \nL 418.286784 738.020807 \nL 418.287383 735.935535 \nL 418.308338 733.842467 \nL 418.320868 733.215869 \nL 418.338374 733.830991 \nL 418.364622 735.906021 \nL 418.362763 737.991772 \nL 418.332262 740.088449 \nz\n\" style=\"fill:#0000e8;\"/>\n    <path clip-path=\"url(#p224db4f40e)\" d=\"M 416.514521 715.768121 \nL 416.539797 713.673285 \nL 416.546451 711.585664 \nL 416.537977 709.503905 \nL 416.512435 707.42876 \nL 416.506809 707.173106 \nL 416.502542 707.4326 \nL 416.482157 709.525572 \nL 416.474099 711.613749 \nL 416.478046 713.697256 \nL 416.499471 715.773964 \nL 416.506809 716.120209 \nz\n\" style=\"fill:#0000e8;\"/>\n    <path clip-path=\"url(#p224db4f40e)\" d=\"M 415.185924 714.201866 \nL 415.253959 712.090151 \nL 415.298019 709.987836 \nL 415.324956 707.892233 \nL 415.335996 705.802862 \nL 415.325997 703.72174 \nL 415.27286 701.657529 \nL 415.165113 700.330171 \nL 415.117813 701.718385 \nL 415.069842 703.822307 \nL 415.040069 705.919066 \nL 415.025438 708.009867 \nL 415.027146 710.094237 \nL 415.053032 712.169092 \nL 415.130824 714.223519 \nL 415.165113 714.667552 \nz\n\" style=\"fill:#0000e8;\"/>\n    <path clip-path=\"url(#p224db4f40e)\" d=\"M 414.315244 695.779737 \nL 414.370186 693.67299 \nL 414.401872 691.57543 \nL 414.417635 689.484161 \nL 414.418677 687.398707 \nL 414.400204 685.320962 \nL 414.343455 683.258338 \nL 414.30352 682.576782 \nL 414.264314 683.289661 \nL 414.166829 685.413361 \nL 414.07517 687.53475 \nL 413.967783 689.662376 \nL 413.878957 690.932162 \nL 413.810781 691.809777 \nL 413.722082 693.930124 \nL 413.687555 696.028909 \nL 413.68702 698.114164 \nL 413.714724 700.18818 \nL 413.77316 702.249963 \nL 413.873723 704.294979 \nL 413.878957 704.36906 \nL 413.881939 704.291713 \nL 413.954191 702.17802 \nL 414.030734 700.062625 \nL 414.133394 697.936874 \nL 414.30352 696.088419 \nz\n\" style=\"fill:#0000e8;\"/>\n    <path clip-path=\"url(#p224db4f40e)\" d=\"M 413.136948 685.823333 \nL 413.203705 683.711621 \nL 413.223419 681.618702 \nL 413.221115 679.53458 \nL 413.201738 677.457279 \nL 413.16195 675.388133 \nL 413.088417 673.332468 \nL 413.042016 672.543753 \nL 412.976767 673.377169 \nL 412.831889 675.520307 \nL 412.68446 677.664467 \nL 412.632214 678.365349 \nL 412.458392 679.840423 \nL 412.391903 681.952227 \nL 412.377802 684.042945 \nL 412.387248 686.124185 \nL 412.418876 688.196498 \nL 412.487331 690.253987 \nL 412.632214 692.126922 \nL 412.761954 690.143647 \nL 412.93275 687.990117 \nL 413.042016 686.982894 \nz\n\" style=\"fill:#0000e8;\"/>\n    <path clip-path=\"url(#p224db4f40e)\" d=\"M 411.842234 678.003931 \nL 412.000211 675.855064 \nL 412.035663 673.755699 \nL 412.025821 671.674633 \nL 411.978409 669.608745 \nL 411.879209 667.563781 \nL 411.797722 666.610886 \nL 411.45069 667.737422 \nL 411.394333 667.893613 \nL 411.168239 669.937331 \nL 411.074202 672.060644 \nL 411.031277 674.163155 \nL 411.015053 676.254801 \nL 411.023083 678.336575 \nL 411.076374 680.39993 \nL 411.32126 682.38531 \nL 411.394333 682.5758 \nL 411.42026 682.345058 \nL 411.630057 680.174944 \nL 411.797722 678.255602 \nz\n\" style=\"fill:#0000e8;\"/>\n    <path clip-path=\"url(#p224db4f40e)\" d=\"M 411.476792 753.213577 \nL 411.64753 751.059302 \nL 411.667128 748.966312 \nL 411.667624 746.881069 \nL 411.662031 744.798295 \nL 411.653211 742.716828 \nL 411.641542 740.636518 \nL 411.626152 738.557716 \nL 411.604756 736.48135 \nL 411.572188 734.409513 \nL 411.515238 732.347563 \nL 411.394333 730.375788 \nL 411.16787 732.488754 \nL 411.034237 734.628181 \nL 410.993872 735.556881 \nL 410.963342 736.742121 \nL 410.919644 738.845012 \nL 410.882413 740.945262 \nL 410.84799 743.044364 \nL 410.813423 745.143526 \nL 410.775336 747.244125 \nL 410.727523 749.348697 \nL 410.649339 751.465674 \nL 410.596307 752.355878 \nL 410.392681 751.570809 \nL 410.199037 750.542427 \nL 410.113938 751.685203 \nL 410.120882 753.767388 \nL 410.153888 755.838851 \nL 410.199037 757.761638 \nL 410.217303 757.89783 \nL 410.556857 759.843676 \nL 410.596307 760.020492 \nL 410.607729 759.822839 \nL 410.707581 757.697012 \nL 410.886418 755.538923 \nL 410.993872 755.017762 \nL 411.394333 753.470453 \nz\n\" style=\"fill:#0000e8;\"/>\n    <path clip-path=\"url(#p224db4f40e)\" d=\"M 410.669288 672.225913 \nL 410.685606 670.134206 \nL 410.622628 668.074886 \nL 410.596307 667.649518 \nL 410.485239 668.131169 \nL 410.519023 670.202361 \nL 410.574512 672.264657 \nL 410.596307 672.836424 \nz\n\" style=\"fill:#0000e8;\"/>\n    <path clip-path=\"url(#p224db4f40e)\" d=\"M 410.628806 611.776217 \nL 410.658658 609.678982 \nL 410.678833 607.585699 \nL 410.691542 605.495465 \nL 410.698134 603.407731 \nL 410.699383 601.322178 \nL 410.695637 599.238665 \nL 410.686869 597.157204 \nL 410.672698 595.07795 \nL 410.652342 593.001223 \nL 410.62447 590.927564 \nL 410.596307 589.333907 \nL 410.568166 590.950604 \nL 410.540316 593.047063 \nL 410.519974 595.140444 \nL 410.505813 597.231292 \nL 410.497051 599.319926 \nL 410.493308 601.406503 \nL 410.494556 603.491034 \nL 410.501143 605.573376 \nL 410.513843 607.653212 \nL 410.534003 609.72999 \nL 410.563833 611.802804 \nL 410.596307 613.404155 \nz\n\" style=\"fill:#0000e8;\"/>\n    <path clip-path=\"url(#p224db4f40e)\" d=\"M 410.402402 666.080084 \nL 410.363343 664.011053 \nL 410.319303 661.944065 \nL 410.272146 659.878354 \nL 410.219623 657.814842 \nL 410.199037 657.159599 \nL 410.156884 657.840624 \nL 410.076481 659.958746 \nL 410.034994 662.060858 \nL 410.027255 664.149084 \nL 410.076554 666.213844 \nL 410.199037 667.427243 \nz\n\" style=\"fill:#0000e8;\"/>\n    <path clip-path=\"url(#p224db4f40e)\" d=\"M 409.969584 747.574509 \nL 409.965549 745.491126 \nL 409.9507 743.412193 \nL 409.932807 741.334513 \nL 409.912675 739.257753 \nL 409.889585 737.18221 \nL 409.861869 735.108571 \nL 409.826586 733.038045 \nL 409.804639 732.060775 \nL 409.385219 733.118265 \nL 409.378868 733.222915 \nL 409.265213 735.355074 \nL 409.165579 737.48142 \nL 409.072329 739.605119 \nL 408.977463 741.729489 \nL 408.974048 741.81063 \nL 408.887162 743.852101 \nL 408.798995 745.973831 \nL 408.706814 748.09723 \nL 408.602117 750.225838 \nL 408.578458 750.73139 \nL 408.471035 752.36559 \nL 408.191162 754.567522 \nL 408.178329 754.632808 \nL 408.1331 754.591842 \nL 407.903077 752.603225 \nL 407.86201 750.535398 \nL 407.831899 748.462978 \nL 407.805384 746.389051 \nL 407.783625 744.661401 \nL 407.775275 744.316643 \nL 407.721723 742.254133 \nL 407.668667 740.191413 \nL 407.609154 738.131411 \nL 407.535529 736.077346 \nL 407.435891 734.034226 \nL 407.394258 733.400937 \nL 407.320087 734.083064 \nL 407.012694 736.297913 \nL 407.007722 736.327713 \nL 406.628796 737.927963 \nL 406.600233 738.557797 \nL 406.517491 740.678031 \nL 406.439253 742.796351 \nL 406.354925 744.917261 \nL 406.25257 746.884965 \nL 406.239827 747.051277 \nL 406.121985 749.186623 \nL 406.049835 751.302465 \nL 406.018405 753.400924 \nL 406.031847 755.480228 \nL 406.104513 757.534251 \nL 406.25257 759.401371 \nL 406.332592 757.437014 \nL 406.436964 755.307579 \nL 406.628796 753.171422 \nL 407.007722 754.247184 \nL 407.296937 752.858221 \nL 407.394258 752.268758 \nL 407.541747 752.755069 \nL 407.744904 754.754634 \nL 407.783625 755.441496 \nL 407.905998 756.772086 \nL 407.972966 758.829055 \nL 408.038684 760.886548 \nL 408.12147 762.936887 \nL 408.178329 763.928298 \nL 408.285425 762.868323 \nL 408.468327 760.706891 \nL 408.578458 759.419038 \nL 408.831414 758.470596 \nL 408.974048 758.061405 \nL 409.113176 756.268525 \nL 409.380165 754.072801 \nL 409.385219 754.042769 \nL 409.65329 751.874959 \nL 409.796515 749.730769 \nL 409.804639 749.551154 \nz\n\" style=\"fill:#0000e8;\"/>\n    <path clip-path=\"url(#p224db4f40e)\" d=\"M 408.994824 656.235553 \nL 409.016431 654.141553 \nL 409.004915 652.061284 \nL 408.974048 651.005534 \nL 408.911431 652.100136 \nL 408.86373 654.205027 \nL 408.907003 656.272063 \nL 408.974048 657.08725 \nz\n\" style=\"fill:#0000e8;\"/>\n    <path clip-path=\"url(#p224db4f40e)\" d=\"M 408.581664 602.196336 \nL 408.578458 600.263916 \nL 408.575216 602.199024 \nL 408.578458 604.061674 \nz\n\" style=\"fill:#0000e8;\"/>\n    <path clip-path=\"url(#p224db4f40e)\" d=\"M 405.237481 751.6506 \nL 405.360485 749.512673 \nL 405.417808 747.402985 \nL 405.44559 745.305998 \nL 405.455865 743.216538 \nL 405.451878 741.13321 \nL 405.43092 739.057178 \nL 405.381035 736.993583 \nL 405.262425 734.959536 \nL 405.128125 733.958657 \nL 405.128125 735.017276 \nL 405.128125 737.102319 \nL 405.128125 739.187361 \nL 405.128125 741.272404 \nL 405.128125 743.357446 \nL 405.128125 745.442489 \nL 405.128125 747.527531 \nL 405.128125 749.612573 \nL 405.128125 751.697616 \nL 405.128125 752.645549 \nz\n\" style=\"fill:#0000e8;\"/>\n   </g>\n   <g id=\"PathCollection_24\">\n    <path clip-path=\"url(#p224db4f40e)\" d=\"M 592.980114 655.425856 \nL 592.954003 653.344813 \nL 592.571965 651.318284 \nL 592.29918 650.465518 \nL 591.349231 649.421936 \nL 590.611645 647.450965 \nL 589.977537 645.463991 \nL 589.471748 644.213531 \nL 587.902956 643.70216 \nL 587.070413 641.747131 \nL 586.698686 640.623659 \nL 586.028239 641.910909 \nL 586.321196 643.949753 \nL 586.698686 645.143568 \nL 587.322046 645.87792 \nL 588.068901 647.84633 \nL 588.678183 649.836225 \nL 589.410425 651.806917 \nL 589.471748 651.925644 \nL 591.333223 653.594497 \nL 591.974371 655.580382 \nL 592.29918 656.472472 \nz\n\" style=\"fill:#6800ff;\"/>\n    <path clip-path=\"url(#p224db4f40e)\" d=\"M 472.10036 721.087729 \nL 471.968663 719.037169 \nL 471.726141 717.926794 \nL 471.345009 717.116032 \nL 470.682953 716.17939 \nL 469.738349 715.711905 \nL 469.661496 715.476189 \nL 468.707116 714.252229 \nL 468.085218 713.812292 \nL 467.718377 713.647002 \nL 466.759004 712.149493 \nL 466.71631 712.095966 \nL 465.804755 711.049299 \nL 464.855645 710.942095 \nL 464.532948 710.605742 \nL 463.928855 709.818018 \nL 462.978543 709.142266 \nL 462.844926 708.985864 \nL 462.072813 708.276917 \nL 461.335369 707.321017 \nL 461.17716 707.074384 \nL 460.32686 705.518831 \nL 460.285946 705.424318 \nL 459.410007 705.53799 \nL 459.008247 703.806563 \nL 458.688616 701.812241 \nL 458.549005 700.818773 \nL 457.697315 702.086159 \nL 456.849549 701.035857 \nL 456.667612 700.305617 \nL 456.338468 698.315536 \nL 456.11841 696.293982 \nL 455.985011 694.741577 \nL 455.84723 696.372435 \nL 455.675339 698.507336 \nL 455.477064 700.649891 \nL 455.202566 702.814555 \nL 455.186379 702.91119 \nL 454.34522 704.135484 \nL 453.596383 703.284086 \nL 453.538273 703.211039 \nL 453.490762 703.315126 \nL 452.744742 704.725421 \nL 451.959428 704.868459 \nL 451.344768 703.950701 \nL 451.182203 703.67898 \nL 450.567539 704.183108 \nL 450.40813 704.294445 \nL 450.368489 704.242753 \nL 449.646762 703.207179 \nL 449.519922 702.413227 \nL 449.265223 700.40521 \nL 449.022009 698.39372 \nL 448.897833 697.445021 \nL 448.613992 696.432512 \nL 448.152185 694.48785 \nL 448.123741 694.353715 \nL 447.99792 692.449898 \nL 447.855919 690.408242 \nL 447.683772 688.375798 \nL 447.439613 686.365357 \nL 447.390048 686.038838 \nL 447.147554 684.369921 \nL 446.732764 682.412248 \nL 446.66364 682.142932 \nL 445.944408 681.823718 \nL 445.635206 680.666278 \nL 445.232246 679.520235 \nL 445.059366 678.760083 \nL 444.527051 676.897496 \nL 444.510182 676.846222 \nL 443.81113 675.041561 \nL 443.796173 674.984832 \nL 443.219195 673.081387 \nL 443.128445 672.827764 \nL 442.769178 671.138527 \nL 442.447944 669.987745 \nL 442.253301 669.216933 \nL 441.752572 667.555516 \nL 441.698774 667.308199 \nL 441.236083 665.370907 \nL 441.093619 664.896843 \nL 440.790515 663.42861 \nL 440.419853 662.081878 \nL 440.29653 661.502252 \nL 439.833293 659.566548 \nL 439.769144 659.332311 \nL 439.461336 657.601882 \nL 439.124484 656.29157 \nL 438.997969 655.667112 \nL 438.58608 653.716103 \nL 438.473563 653.281143 \nL 438.176732 651.764718 \nL 437.844898 650.420752 \nL 437.73389 649.824624 \nL 437.348426 647.866188 \nL 437.201959 647.279273 \nL 436.957535 645.909909 \nL 436.580886 644.163295 \nL 436.542614 643.961841 \nL 436.173811 641.999053 \nL 435.965453 641.122806 \nL 435.773843 640.04689 \nL 435.391107 638.089306 \nL 435.34002 637.853848 \nL 435.026245 636.126249 \nL 434.73578 634.818775 \nL 434.625244 634.175529 \nL 434.302653 632.198902 \nL 434.12167 631.260906 \nL 433.919971 630.242776 \nL 433.532108 628.464301 \nL 433.501571 628.299032 \nL 433.165755 626.327872 \nL 432.928982 625.13825 \nL 432.791391 624.369994 \nL 432.458977 622.398185 \nL 432.353638 621.803111 \nL 432.129653 620.425661 \nL 431.768544 618.491516 \nL 431.763368 618.465951 \nL 431.421903 616.498261 \nL 431.192295 615.185264 \nL 431.08234 614.530083 \nL 430.765893 612.554276 \nL 430.621105 611.685752 \nL 430.365475 610.607841 \nL 430.058498 609.139873 \nL 429.988443 608.653623 \nL 429.740593 606.654887 \nL 429.505217 604.651806 \nL 429.497196 604.580528 \nL 429.365341 602.615671 \nL 429.25655 600.568676 \nL 429.1641 598.515966 \nL 429.079845 596.46039 \nL 428.997226 594.404243 \nL 428.944286 593.112239 \nL 428.89835 592.35385 \nL 428.78609 590.308238 \nL 428.679861 588.260508 \nL 428.573058 586.21298 \nL 428.459404 584.167858 \nL 428.392617 583.05949 \nL 427.849156 583.700102 \nL 427.724155 582.342268 \nL 427.513889 580.331716 \nL 427.310315 578.708437 \nL 426.951031 578.446619 \nL 426.776033 578.318839 \nL 426.727336 578.526278 \nL 426.276127 580.772532 \nL 426.242873 580.970846 \nL 425.840665 583.01378 \nL 425.700806 583.912192 \nL 425.641404 585.170412 \nL 425.561349 587.284302 \nL 425.499712 589.391554 \nL 425.452963 591.493443 \nL 425.418696 593.590833 \nL 425.395594 595.6842 \nL 425.383197 597.77371 \nL 425.381928 599.859209 \nL 425.393285 601.940159 \nL 425.420274 604.015476 \nL 425.468287 606.083218 \nL 425.546817 608.139963 \nL 425.673169 610.179475 \nL 425.700806 610.50337 \nL 425.840071 612.204587 \nL 426.023295 614.223883 \nL 426.228466 616.235305 \nL 426.242873 616.365351 \nL 426.495419 618.224945 \nL 426.776033 619.926543 \nL 426.810111 620.197603 \nL 427.073405 622.188972 \nL 427.310315 623.756345 \nL 427.34761 624.176515 \nL 427.532074 626.196208 \nL 427.742151 628.206827 \nL 427.849156 629.079403 \nL 428.008739 630.197666 \nL 428.244189 632.199652 \nL 428.392617 633.644205 \nL 428.46742 634.20606 \nL 428.855392 636.154829 \nL 428.944286 636.464387 \nL 429.167826 638.130469 \nL 429.497196 639.937239 \nL 429.52056 640.092185 \nL 429.846195 642.063835 \nL 430.058498 643.108007 \nL 430.29527 643.99286 \nL 430.621105 644.993406 \nL 430.75578 645.918445 \nL 431.061145 647.898079 \nL 431.192295 648.64623 \nL 431.537937 649.819062 \nL 431.768544 650.48104 \nL 431.93909 651.766499 \nL 432.227096 653.753 \nL 432.353638 654.494819 \nL 432.682067 655.68287 \nL 432.928982 656.439032 \nL 433.121624 657.618474 \nL 433.525098 659.56669 \nL 433.532108 659.597836 \nL 433.93728 661.512569 \nL 434.12167 662.239889 \nL 434.430408 663.431603 \nL 434.73578 664.409302 \nL 434.917376 665.353265 \nL 435.34002 667.111278 \nL 435.388267 667.280846 \nL 435.965453 669.03058 \nL 435.988004 669.166198 \nL 436.28877 671.15154 \nL 436.580886 672.459065 \nL 436.765882 673.078703 \nL 437.201959 674.366281 \nL 437.324914 674.979462 \nL 437.785507 676.913221 \nL 437.844898 677.127836 \nL 438.179514 678.86936 \nL 438.473563 679.963114 \nL 438.696171 680.785829 \nL 439.124484 682.119438 \nL 439.228443 682.697822 \nL 439.585021 684.667373 \nL 439.769144 685.408215 \nL 440.020938 686.611606 \nL 440.419853 688.070353 \nL 440.517075 688.536852 \nL 440.934285 690.488032 \nL 441.093619 691.070718 \nL 441.311206 692.45247 \nL 441.731919 694.403167 \nL 441.752572 694.482753 \nL 442.13675 696.359524 \nL 442.447944 697.505195 \nL 442.599927 698.297605 \nL 443.010092 700.252931 \nL 443.128445 700.709874 \nL 443.370681 702.224303 \nL 443.733421 704.195176 \nL 443.81113 704.55183 \nL 444.107442 706.162955 \nL 444.527051 708.090418 \nL 444.531855 708.115078 \nL 444.860049 710.097837 \nL 445.232246 711.947923 \nL 445.252187 712.060698 \nL 445.538596 714.056918 \nL 445.827749 716.052286 \nL 445.944408 716.833346 \nL 446.097783 718.053818 \nL 446.216985 720.102075 \nL 446.243196 722.179029 \nL 446.19838 724.277901 \nL 446.084108 726.398208 \nL 445.944408 727.937808 \nL 445.842677 728.557911 \nL 445.449589 730.764861 \nL 445.232246 731.861536 \nL 444.889344 733.024174 \nL 444.527051 734.139714 \nL 444.255563 735.307157 \nL 443.81113 737.276097 \nL 443.749855 737.550683 \nL 443.246738 739.794076 \nL 443.128445 740.285345 \nL 442.483307 742.120377 \nL 442.447944 742.212133 \nL 441.752572 744.002808 \nL 441.612361 744.482363 \nL 441.093619 746.097283 \nL 440.667598 746.869745 \nL 440.419853 747.262009 \nL 439.769144 748.817549 \nL 439.547674 749.315784 \nL 439.124484 750.154588 \nL 438.473563 750.476789 \nL 437.844898 751.679744 \nL 437.201959 751.939679 \nL 437.029666 752.223271 \nL 436.580886 752.956596 \nL 435.965453 753.544655 \nL 435.34002 753.629905 \nL 434.73578 754.633256 \nL 434.12167 755.017666 \nL 434.009808 755.314993 \nL 433.532108 757.476548 \nL 433.528776 757.562437 \nL 433.532108 757.717774 \nL 434.12167 759.053675 \nL 434.139745 759.441239 \nL 434.364194 761.45085 \nL 434.73578 763.027655 \nL 434.967473 763.333499 \nL 435.34002 763.59644 \nL 435.965453 764.107952 \nL 436.580886 764.205303 \nL 437.201959 764.368207 \nL 437.844898 764.404573 \nL 438.245356 764.334574 \nL 438.473563 764.259966 \nL 439.124484 764.048148 \nL 439.769144 763.83935 \nL 440.419853 763.629574 \nL 441.093619 763.413395 \nL 441.752572 763.202972 \nL 442.447944 762.981985 \nL 443.128445 762.766774 \nL 443.477633 762.656871 \nL 443.81113 762.417824 \nL 444.527051 761.908683 \nL 445.232246 761.373168 \nL 445.944408 760.454841 \nL 446.540964 759.617902 \nL 446.66364 759.435207 \nL 447.390048 758.046574 \nL 447.635519 757.196942 \nL 448.087009 754.97395 \nL 448.123741 754.748008 \nL 448.837726 752.660647 \nL 448.897833 752.471508 \nL 449.183183 750.471038 \nL 449.506711 748.288155 \nL 449.646762 747.515303 \nL 450.40813 746.628898 \nL 451.182203 746.601105 \nL 451.940279 745.474206 \nL 451.959428 745.44866 \nL 451.974431 745.464059 \nL 452.744742 746.506431 \nL 453.538273 746.823975 \nL 454.34522 745.466552 \nL 455.123487 746.623481 \nL 455.186379 746.744914 \nL 455.985011 748.211281 \nL 456.3865 746.257654 \nL 456.849549 744.134259 \nL 456.946978 744.011062 \nL 457.697315 743.087651 \nL 458.43238 741.500955 \nL 458.549005 741.233339 \nL 458.976396 739.261324 \nL 459.410007 737.928114 \nL 460.285946 737.636806 \nL 460.602373 736.717127 \nL 461.17716 735.297839 \nL 461.524721 734.373711 \nL 462.072813 733.071717 \nL 462.978543 732.82147 \nL 463.590974 731.715202 \nL 463.928855 731.156591 \nL 464.855645 731.218909 \nL 465.804755 729.89255 \nL 466.759004 729.93171 \nL 467.718377 729.326269 \nL 468.354711 728.335324 \nL 468.707116 727.639864 \nL 469.533434 725.935535 \nL 469.738349 725.165851 \nL 470.682953 723.643293 \nL 470.902333 723.487776 \nL 471.726141 722.576339 \nz\nM 468.707116 722.033088 \nL 468.352102 724.165938 \nL 467.718377 726.034375 \nL 466.759004 726.479605 \nL 465.804755 726.700705 \nL 465.730315 726.958866 \nL 464.855645 728.930904 \nL 463.928855 728.417233 \nL 463.020512 729.787613 \nL 462.978543 729.854277 \nL 462.072813 730.722711 \nL 461.30612 732.349691 \nL 461.17716 732.654809 \nL 460.285946 734.439214 \nL 459.864715 734.839814 \nL 459.410007 735.224048 \nL 458.549005 736.819868 \nL 458.358182 737.352045 \nL 457.697315 739.036773 \nL 457.162424 739.779159 \nL 456.849549 740.202804 \nL 456.301705 742.112033 \nL 455.985011 743.505192 \nL 455.186379 743.170778 \nL 454.482174 742.64041 \nL 454.34522 742.571104 \nL 454.259993 742.705334 \nL 453.538273 743.889291 \nL 452.744742 743.959675 \nL 452.066618 743.351705 \nL 451.959428 743.28134 \nL 451.855826 743.414314 \nL 451.182203 744.348314 \nL 450.40813 744.559745 \nL 449.646762 745.444825 \nL 449.472145 746.213566 \nL 449.083071 748.416272 \nL 448.897833 749.635505 \nL 448.58726 750.651741 \nL 448.123741 752.100871 \nL 448.00676 752.913427 \nL 447.625253 755.115036 \nL 447.390048 756.133227 \nL 446.915129 757.417777 \nL 446.66364 757.970426 \nL 445.944408 759.202888 \nL 445.501242 759.939436 \nL 445.232246 760.346414 \nL 444.527051 761.027897 \nL 443.81113 761.66072 \nL 443.128445 762.234527 \nL 442.447944 762.526945 \nL 441.752572 762.841956 \nL 441.093619 763.178214 \nL 440.419853 763.268341 \nL 439.769144 763.452105 \nL 439.124484 763.573292 \nL 438.473563 763.466435 \nL 437.844898 763.511678 \nL 437.201959 763.359511 \nL 436.580886 763.005066 \nL 436.278636 762.896766 \nL 435.965453 762.648374 \nL 435.34002 761.479745 \nL 435.156763 761.18513 \nL 434.798993 759.219779 \nL 435.038804 757.054508 \nL 435.34002 756.201872 \nL 435.965453 755.416135 \nL 436.580886 754.547474 \nL 436.622461 754.442684 \nL 437.201959 753.312509 \nL 437.844898 752.908246 \nL 438.45513 751.755738 \nL 438.473563 751.719279 \nL 439.124484 751.268108 \nL 439.769144 749.874959 \nL 440.082904 749.142903 \nL 440.419853 748.292561 \nL 441.093619 747.147742 \nL 441.250016 746.683113 \nL 441.752572 745.076298 \nL 442.045274 744.34457 \nL 442.447944 743.248931 \nL 442.938359 741.976465 \nL 443.128445 741.435785 \nL 443.546471 739.699738 \nL 443.81113 738.553041 \nL 444.093521 737.442951 \nL 444.527051 735.649639 \nL 444.701898 735.167635 \nL 445.232246 733.523641 \nL 445.384674 732.870035 \nL 445.832497 730.646111 \nL 445.944408 730.038254 \nL 446.144124 728.46473 \nL 446.323986 726.324182 \nL 446.432189 724.205748 \nL 446.482728 722.10511 \nL 446.475766 720.022216 \nL 446.395455 717.961957 \nL 446.193028 715.939384 \nL 445.944408 714.7503 \nL 445.821936 713.969047 \nL 445.507664 711.981468 \nL 445.232246 710.423837 \nL 445.148572 710.007917 \nL 444.769836 708.04091 \nL 444.527051 706.794548 \nL 444.371545 706.080237 \nL 443.973089 704.119992 \nL 443.81113 703.390093 \nL 443.566291 702.162736 \nL 443.22572 700.184885 \nL 443.128445 699.696291 \nL 442.785041 698.239062 \nL 442.447944 696.4815 \nL 442.392717 696.278178 \nL 441.912662 694.345696 \nL 441.752572 693.666853 \nL 441.472457 692.400978 \nL 441.141908 690.421489 \nL 441.093619 690.168523 \nL 440.669607 688.487912 \nL 440.419853 687.289522 \nL 440.217168 686.548346 \nL 439.795308 684.599303 \nL 439.769144 684.483184 \nL 439.358598 682.655666 \nL 439.124484 681.353151 \nL 438.918991 680.713321 \nL 438.473563 679.06711 \nL 438.400937 678.79697 \nL 437.957075 676.85704 \nL 437.844898 676.31465 \nL 437.492458 674.924432 \nL 437.201959 673.475712 \nL 437.03718 672.989179 \nL 436.580886 671.460843 \nL 436.496407 671.08271 \nL 436.127512 669.119953 \nL 435.965453 668.145375 \nL 435.651368 667.193228 \nL 435.34002 666.098976 \nL 435.142627 665.277908 \nL 434.758163 663.321487 \nL 434.73578 663.206532 \nL 434.231705 661.413339 \nL 434.12167 660.931531 \nL 433.774338 659.482536 \nL 433.532108 658.340578 \nL 433.364466 657.536121 \nL 433.018599 655.56837 \nL 432.928982 655.023611 \nL 432.536865 653.647289 \nL 432.353638 652.873686 \nL 432.163013 651.689884 \nL 431.881699 649.701093 \nL 431.768544 648.914195 \nL 431.428213 647.771728 \nL 431.192295 646.790757 \nL 431.030205 645.823716 \nL 430.728994 643.842649 \nL 430.621105 643.122936 \nL 430.287611 641.910473 \nL 430.058498 640.862952 \nL 429.891973 639.962852 \nL 429.582648 637.985522 \nL 429.497196 637.368183 \nL 429.281961 636.00551 \nL 429.034872 634.006883 \nL 428.944286 633.137021 \nL 428.760476 632.018084 \nL 428.529263 630.014253 \nL 428.392617 628.382987 \nL 428.345135 627.993957 \nL 428.061066 626.009122 \nL 427.849156 624.876095 \nL 427.766098 624.028258 \nL 427.588644 622.006082 \nL 427.416553 619.982005 \nL 427.310315 618.774262 \nL 427.206834 617.971416 \nL 426.967797 615.971417 \nL 426.776033 614.316038 \nL 426.731264 613.970595 \nL 426.510432 611.964454 \nL 426.333013 609.942802 \nL 426.242873 608.652355 \nL 426.190461 607.908772 \nL 426.072045 605.866221 \nL 425.978092 603.814891 \nL 425.910463 601.754116 \nL 425.872199 599.682804 \nL 425.867239 597.599541 \nL 425.900737 595.502479 \nL 425.979614 593.389133 \nL 426.11264 591.256357 \nL 426.242873 589.801567 \nL 426.29585 589.105655 \nL 426.50786 586.944864 \nL 426.776033 584.875065 \nL 427.310315 585.200953 \nL 427.445379 586.611115 \nL 427.6208 588.634011 \nL 427.786896 590.660211 \nL 427.849156 591.42763 \nL 428.392617 590.940148 \nL 428.475296 592.502446 \nL 428.586313 594.548493 \nL 428.708994 596.590445 \nL 428.856996 598.623502 \nL 428.944286 599.590683 \nL 428.992421 600.66105 \nL 429.092247 602.71118 \nL 429.209154 604.755337 \nL 429.358687 606.788083 \nL 429.497196 608.181963 \nL 429.574647 608.797714 \nL 429.851339 610.786408 \nL 430.058498 612.009795 \nL 430.231191 612.73944 \nL 430.621105 614.117134 \nL 430.712986 614.657581 \nL 431.052565 616.625404 \nL 431.192295 617.384785 \nL 431.414335 618.585904 \nL 431.768544 620.335551 \nL 431.80604 620.536385 \nL 432.160878 622.50002 \nL 432.353638 623.618137 \nL 432.505723 624.467303 \nL 432.863066 626.430621 \nL 432.928982 626.750281 \nL 433.249519 628.384508 \nL 433.532108 629.913895 \nL 433.625513 630.342185 \nL 434.031732 632.290088 \nL 434.12167 632.711615 \nL 434.409829 634.247925 \nL 434.73578 636.14474 \nL 434.752051 636.21798 \nL 435.167114 638.164164 \nL 435.34002 639.035239 \nL 435.562054 640.11742 \nL 435.922432 642.082449 \nL 435.965453 642.288303 \nL 436.357276 644.023279 \nL 436.580886 645.200333 \nL 436.748759 645.978802 \nL 437.124156 647.93997 \nL 437.201959 648.31129 \nL 437.560733 649.881497 \nL 437.844898 651.407494 \nL 437.951296 651.83842 \nL 438.378508 653.783794 \nL 438.473563 654.231473 \nL 438.826815 655.722807 \nL 439.124484 657.192053 \nL 439.247635 657.671097 \nL 439.660463 659.622429 \nL 439.769144 660.187182 \nL 440.119479 661.55933 \nL 440.419853 662.971108 \nL 440.565631 663.500764 \nL 441.01247 665.442437 \nL 441.093619 665.807282 \nL 441.520547 667.365112 \nL 441.752572 668.431762 \nL 442.012296 669.293523 \nL 442.447944 671.018748 \nL 442.504726 671.222161 \nL 442.991222 673.153347 \nL 443.128445 673.774444 \nL 443.547318 675.063156 \nL 443.81113 676.063748 \nL 444.157068 676.956818 \nL 444.527051 678.081374 \nL 444.748693 678.856905 \nL 445.201373 680.800868 \nL 445.232246 680.943322 \nL 445.765896 682.710789 \nL 445.944408 683.505995 \nL 446.66364 684.222495 \nL 446.72511 684.499641 \nL 447.088656 686.47305 \nL 447.352404 688.477103 \nL 447.390048 688.807538 \nL 447.574555 690.494211 \nL 447.746687 692.52666 \nL 447.894694 694.56648 \nL 448.03986 696.607168 \nL 448.123741 697.681981 \nL 448.373186 698.590755 \nL 448.897833 700.136699 \nL 448.945115 700.502016 \nL 449.213884 702.505778 \nL 449.526252 704.496355 \nL 449.646762 705.085374 \nL 450.40813 706.151251 \nL 451.182203 705.722335 \nL 451.374741 706.026817 \nL 451.959428 706.878322 \nL 452.744742 707.07 \nL 453.538273 705.853225 \nL 454.34522 706.764626 \nL 455.186379 706.869018 \nL 455.664943 704.765479 \nL 455.938828 702.600993 \nL 455.985011 702.134542 \nL 456.060386 702.56585 \nL 456.693815 704.468142 \nL 456.849549 704.695942 \nL 457.697315 706.073846 \nL 458.549005 704.891925 \nL 458.750884 705.964653 \nL 459.345984 707.880788 \nL 459.410007 708.009191 \nL 460.285946 708.386656 \nL 461.151392 709.457458 \nL 461.17716 709.481952 \nL 462.072813 710.445071 \nL 462.583468 711.143486 \nL 462.978543 711.910301 \nL 463.928855 712.35545 \nL 464.370946 712.735242 \nL 464.855645 713.075285 \nL 465.804755 714.056121 \nL 466.04981 714.36182 \nL 466.759004 715.430731 \nL 467.259428 716.119492 \nL 467.718377 716.795254 \nL 468.33631 717.915046 \nL 468.707116 719.757262 \nL 468.729937 719.894573 \nL 468.715002 721.983596 \nz\n\" style=\"fill:#6800ff;\"/>\n    <path clip-path=\"url(#p224db4f40e)\" d=\"M 454.653191 675.869182 \nL 454.64247 673.787266 \nL 454.51346 671.739844 \nL 454.34522 670.188191 \nL 454.226538 669.738657 \nL 453.631048 667.828202 \nL 453.538273 667.558119 \nL 453.025982 665.921344 \nL 452.744742 665.350526 \nL 452.503675 663.990609 \nL 452.158132 662.007938 \nL 451.959428 661.007869 \nL 451.620672 660.082645 \nL 451.182203 658.742835 \nL 450.870344 658.221532 \nL 450.40813 657.610429 \nL 450.122451 656.360806 \nL 449.712329 654.399164 \nL 449.646762 654.094936 \nL 449.157333 652.481862 \nL 448.897833 651.207106 \nL 448.508708 650.593583 \nL 448.123741 649.849577 \nL 447.989486 648.666584 \nL 447.783732 646.644408 \nL 447.563578 644.626631 \nL 447.390048 643.353383 \nL 447.236254 642.641835 \nL 446.871948 640.66866 \nL 446.66364 639.529317 \nL 446.477497 638.705027 \nL 446.024843 636.759673 \nL 445.944408 636.442157 \nL 445.702224 634.77456 \nL 445.498469 632.752707 \nL 445.300647 630.729015 \nL 445.232246 630.132174 \nL 444.94208 628.755617 \nL 444.622471 626.770182 \nL 444.527051 626.177885 \nL 444.216014 624.812295 \nL 443.843232 622.844009 \nL 443.81113 622.681631 \nL 443.534129 620.856204 \nL 443.369502 618.822976 \nL 443.225307 616.783318 \nL 443.128445 615.557943 \nL 442.969583 614.779002 \nL 442.706814 612.777062 \nL 442.515239 610.752606 \nL 442.447944 610.050791 \nL 442.277687 608.742952 \nL 442.161489 606.694837 \nL 442.095034 604.630914 \nL 442.046998 602.561137 \nL 442.00668 600.488907 \nL 441.970913 598.415232 \nL 441.936781 596.341036 \nL 441.901172 594.26731 \nL 441.862082 592.194691 \nL 441.816538 590.124122 \nL 441.760892 588.056763 \nL 441.752572 587.782416 \nL 441.686278 585.995535 \nL 441.608756 583.935247 \nL 441.526706 581.876406 \nL 441.433804 579.82103 \nL 441.326002 577.770412 \nL 441.194388 575.727397 \nL 441.093619 574.449715 \nL 441.031148 573.694577 \nL 440.830224 571.674002 \nL 440.556628 569.676743 \nL 440.419853 568.887258 \nL 440.182882 569.797023 \nL 439.769144 571.791632 \nL 439.746772 572.022692 \nL 439.578257 574.162315 \nL 439.459938 576.285679 \nL 439.37867 578.397044 \nL 439.324566 580.49961 \nL 439.290633 582.595643 \nL 439.275756 584.685504 \nL 439.275441 586.770648 \nL 439.290502 588.850812 \nL 439.321193 590.925914 \nL 439.36754 592.995946 \nL 439.433382 595.059663 \nL 439.523131 597.115636 \nL 439.644603 599.161335 \nL 439.769144 600.702667 \nL 439.83265 601.185567 \nL 440.149138 603.16858 \nL 440.419853 604.485722 \nL 440.577829 605.115662 \nL 440.929979 607.087717 \nL 441.093619 608.224184 \nL 441.246063 609.071575 \nL 441.502815 611.074629 \nL 441.704164 613.095375 \nL 441.752572 613.569919 \nL 442.005855 615.084467 \nL 442.155318 617.12201 \nL 442.274873 619.169059 \nL 442.405346 621.212637 \nL 442.447944 621.713812 \nL 442.666093 623.215152 \nL 442.88248 625.231761 \nL 443.091387 627.250736 \nL 443.128445 627.553182 \nL 443.355105 629.25272 \nL 443.519832 631.285916 \nL 443.666093 633.324924 \nL 443.81113 634.996737 \nL 443.882855 635.341853 \nL 444.246567 637.312981 \nL 444.527051 639.026298 \nL 444.573839 639.295593 \nL 444.8916 641.281604 \nL 445.179596 643.276891 \nL 445.232246 643.600885 \nL 445.450496 645.27784 \nL 445.628779 647.307592 \nL 445.792002 649.342015 \nL 445.944408 650.927483 \nL 446.092732 651.334019 \nL 446.660016 653.243999 \nL 446.66364 653.257307 \nL 446.957272 655.237757 \nL 447.19432 657.250009 \nL 447.390048 658.879856 \nL 447.454965 659.255114 \nL 447.690565 661.268171 \nL 447.835532 663.30892 \nL 447.952349 665.35827 \nL 448.068634 667.407782 \nL 448.123741 668.257116 \nL 448.839572 669.258389 \nL 448.897833 669.319581 \nL 449.391033 671.176568 \nL 449.646762 671.827165 \nL 449.958097 673.090597 \nL 450.40813 674.89889 \nL 451.182203 674.320026 \nL 451.377171 674.750457 \nL 451.959428 675.92028 \nL 452.141212 676.608248 \nL 452.532329 678.577417 \nL 452.744742 679.814577 \nL 453.418011 678.316058 \nL 453.538273 677.885985 \nL 454.34522 677.89883 \nz\nM 451.959428 671.36971 \nL 451.611132 670.510699 \nL 451.182203 669.32457 \nL 450.71581 670.778045 \nL 450.40813 671.323108 \nL 450.309797 670.899734 \nL 449.871871 668.946457 \nL 449.646762 668.087565 \nL 449.416853 666.998675 \nL 449.132826 664.999528 \nL 448.922333 662.978142 \nL 448.897833 662.576176 \nL 448.627473 660.982693 \nL 448.603758 658.904859 \nL 448.897833 657.898494 \nL 449.646762 657.823067 \nL 449.792022 658.54527 \nL 450.220195 660.501482 \nL 450.40813 661.181224 \nL 450.888668 662.386132 \nL 451.182203 663.66256 \nL 451.434762 664.308094 \nL 451.959428 665.452227 \nL 452.060905 666.206827 \nL 452.252109 668.235223 \nL 452.371043 670.28503 \nz\nM 447.390048 652.0383 \nL 447.34391 650.948947 \nL 447.390048 650.130435 \nL 447.421352 650.925215 \nz\nM 445.944408 645.621679 \nL 445.918264 645.132773 \nL 445.882256 643.058897 \nL 445.944408 641.991707 \nL 446.082788 642.996918 \nL 446.142663 645.063483 \nz\nM 441.093619 602.70669 \nL 440.450312 600.986492 \nL 440.419853 600.948948 \nL 440.131021 599.004335 \nL 439.904924 596.992183 \nL 439.769144 595.407786 \nL 439.745913 594.958437 \nL 439.667722 592.89872 \nL 439.616412 590.830296 \nL 439.586909 588.75481 \nL 439.578695 586.672428 \nL 439.591581 584.583211 \nL 439.625334 582.487237 \nL 439.685603 580.382674 \nL 439.769144 578.404105 \nL 439.78037 578.266954 \nL 440.013396 576.106789 \nL 440.343509 573.915325 \nL 440.419853 573.507454 \nL 440.466807 573.875647 \nL 440.678823 575.892664 \nL 440.845654 577.924178 \nL 440.980174 579.96606 \nL 441.093619 582.002648 \nL 441.094256 582.0145 \nL 441.187232 584.069852 \nL 441.266971 586.129431 \nL 441.334331 588.192964 \nL 441.391998 590.259592 \nL 441.443178 592.328291 \nL 441.486913 594.399367 \nL 441.522288 596.473114 \nL 441.543422 598.551407 \nL 441.516824 600.644943 \nz\n\" style=\"fill:#6800ff;\"/>\n    <path clip-path=\"url(#p224db4f40e)\" d=\"M 418.332262 740.088449 \nL 418.362763 737.991772 \nL 418.364622 735.906021 \nL 418.338374 733.830991 \nL 418.320868 733.215869 \nL 418.308338 733.842467 \nL 418.287383 735.935535 \nL 418.286784 738.020807 \nL 418.310985 740.096581 \nL 418.320868 740.472423 \nz\n\" style=\"fill:#6800ff;\"/>\n   </g>\n   <g id=\"PathCollection_25\">\n    <path clip-path=\"url(#p224db4f40e)\" d=\"M 468.715002 721.983596 \nL 468.729937 719.894573 \nL 468.707116 719.757262 \nL 468.33631 717.915046 \nL 467.718377 716.795254 \nL 467.259428 716.119492 \nL 466.759004 715.430731 \nL 466.04981 714.36182 \nL 465.804755 714.056121 \nL 464.855645 713.075285 \nL 464.370946 712.735242 \nL 463.928855 712.35545 \nL 462.978543 711.910301 \nL 462.583468 711.143486 \nL 462.072813 710.445071 \nL 461.17716 709.481952 \nL 461.151392 709.457458 \nL 460.285946 708.386656 \nL 459.410007 708.009191 \nL 459.345984 707.880788 \nL 458.750884 705.964653 \nL 458.549005 704.891925 \nL 457.697315 706.073846 \nL 456.849549 704.695942 \nL 456.693815 704.468142 \nL 456.060386 702.56585 \nL 455.985011 702.134542 \nL 455.938828 702.600993 \nL 455.664943 704.765479 \nL 455.186379 706.869018 \nL 454.34522 706.764626 \nL 453.538273 705.853225 \nL 452.744742 707.07 \nL 451.959428 706.878322 \nL 451.374741 706.026817 \nL 451.182203 705.722335 \nL 450.40813 706.151251 \nL 449.646762 705.085374 \nL 449.526252 704.496355 \nL 449.213884 702.505778 \nL 448.945115 700.502016 \nL 448.897833 700.136699 \nL 448.373186 698.590755 \nL 448.123741 697.681981 \nL 448.03986 696.607168 \nL 447.894694 694.56648 \nL 447.746687 692.52666 \nL 447.574555 690.494211 \nL 447.390048 688.807538 \nL 447.352404 688.477103 \nL 447.088656 686.47305 \nL 446.72511 684.499641 \nL 446.66364 684.222495 \nL 445.944408 683.505995 \nL 445.765896 682.710789 \nL 445.232246 680.943322 \nL 445.201373 680.800868 \nL 444.748693 678.856905 \nL 444.527051 678.081374 \nL 444.157068 676.956818 \nL 443.81113 676.063748 \nL 443.547318 675.063156 \nL 443.128445 673.774444 \nL 442.991222 673.153347 \nL 442.504726 671.222161 \nL 442.447944 671.018748 \nL 442.012296 669.293523 \nL 441.752572 668.431762 \nL 441.520547 667.365112 \nL 441.093619 665.807282 \nL 441.01247 665.442437 \nL 440.565631 663.500764 \nL 440.419853 662.971108 \nL 440.119479 661.55933 \nL 439.769144 660.187182 \nL 439.660463 659.622429 \nL 439.247635 657.671097 \nL 439.124484 657.192053 \nL 438.826815 655.722807 \nL 438.473563 654.231473 \nL 438.378508 653.783794 \nL 437.951296 651.83842 \nL 437.844898 651.407494 \nL 437.560733 649.881497 \nL 437.201959 648.31129 \nL 437.124156 647.93997 \nL 436.748759 645.978802 \nL 436.580886 645.200333 \nL 436.357276 644.023279 \nL 435.965453 642.288303 \nL 435.922432 642.082449 \nL 435.562054 640.11742 \nL 435.34002 639.035239 \nL 435.167114 638.164164 \nL 434.752051 636.21798 \nL 434.73578 636.14474 \nL 434.409829 634.247925 \nL 434.12167 632.711615 \nL 434.031732 632.290088 \nL 433.625513 630.342185 \nL 433.532108 629.913895 \nL 433.249519 628.384508 \nL 432.928982 626.750281 \nL 432.863066 626.430621 \nL 432.505723 624.467303 \nL 432.353638 623.618137 \nL 432.160878 622.50002 \nL 431.80604 620.536385 \nL 431.768544 620.335551 \nL 431.414335 618.585904 \nL 431.192295 617.384785 \nL 431.052565 616.625404 \nL 430.712986 614.657581 \nL 430.621105 614.117134 \nL 430.231191 612.73944 \nL 430.058498 612.009795 \nL 429.851339 610.786408 \nL 429.574647 608.797714 \nL 429.497196 608.181963 \nL 429.358687 606.788083 \nL 429.209154 604.755337 \nL 429.092247 602.71118 \nL 428.992421 600.66105 \nL 428.944286 599.590683 \nL 428.856996 598.623502 \nL 428.708994 596.590445 \nL 428.586313 594.548493 \nL 428.475296 592.502446 \nL 428.392617 590.940148 \nL 427.849156 591.42763 \nL 427.786896 590.660211 \nL 427.6208 588.634011 \nL 427.445379 586.611115 \nL 427.310315 585.200953 \nL 426.776033 584.875065 \nL 426.50786 586.944864 \nL 426.29585 589.105655 \nL 426.242873 589.801567 \nL 426.11264 591.256357 \nL 425.979614 593.389133 \nL 425.900737 595.502479 \nL 425.867239 597.599541 \nL 425.872199 599.682804 \nL 425.910463 601.754116 \nL 425.978092 603.814891 \nL 426.072045 605.866221 \nL 426.190461 607.908772 \nL 426.242873 608.652355 \nL 426.333013 609.942802 \nL 426.510432 611.964454 \nL 426.731264 613.970595 \nL 426.776033 614.316038 \nL 426.967797 615.971417 \nL 427.206834 617.971416 \nL 427.310315 618.774262 \nL 427.416553 619.982005 \nL 427.588644 622.006082 \nL 427.766098 624.028258 \nL 427.849156 624.876095 \nL 428.061066 626.009122 \nL 428.345135 627.993957 \nL 428.392617 628.382987 \nL 428.529263 630.014253 \nL 428.760476 632.018084 \nL 428.944286 633.137021 \nL 429.034872 634.006883 \nL 429.281961 636.00551 \nL 429.497196 637.368183 \nL 429.582648 637.985522 \nL 429.891973 639.962852 \nL 430.058498 640.862952 \nL 430.287611 641.910473 \nL 430.621105 643.122936 \nL 430.728994 643.842649 \nL 431.030205 645.823716 \nL 431.192295 646.790757 \nL 431.428213 647.771728 \nL 431.768544 648.914195 \nL 431.881699 649.701093 \nL 432.163013 651.689884 \nL 432.353638 652.873686 \nL 432.536865 653.647289 \nL 432.928982 655.023611 \nL 433.018599 655.56837 \nL 433.364466 657.536121 \nL 433.532108 658.340578 \nL 433.774338 659.482536 \nL 434.12167 660.931531 \nL 434.231705 661.413339 \nL 434.73578 663.206532 \nL 434.758163 663.321487 \nL 435.142627 665.277908 \nL 435.34002 666.098976 \nL 435.651368 667.193228 \nL 435.965453 668.145375 \nL 436.127512 669.119953 \nL 436.496407 671.08271 \nL 436.580886 671.460843 \nL 437.03718 672.989179 \nL 437.201959 673.475712 \nL 437.492458 674.924432 \nL 437.844898 676.31465 \nL 437.957075 676.85704 \nL 438.400937 678.79697 \nL 438.473563 679.06711 \nL 438.918991 680.713321 \nL 439.124484 681.353151 \nL 439.358598 682.655666 \nL 439.769144 684.483184 \nL 439.795308 684.599303 \nL 440.217168 686.548346 \nL 440.419853 687.289522 \nL 440.669607 688.487912 \nL 441.093619 690.168523 \nL 441.141908 690.421489 \nL 441.472457 692.400978 \nL 441.752572 693.666853 \nL 441.912662 694.345696 \nL 442.392717 696.278178 \nL 442.447944 696.4815 \nL 442.785041 698.239062 \nL 443.128445 699.696291 \nL 443.22572 700.184885 \nL 443.566291 702.162736 \nL 443.81113 703.390093 \nL 443.973089 704.119992 \nL 444.371545 706.080237 \nL 444.527051 706.794548 \nL 444.769836 708.04091 \nL 445.148572 710.007917 \nL 445.232246 710.423837 \nL 445.507664 711.981468 \nL 445.821936 713.969047 \nL 445.944408 714.7503 \nL 446.193028 715.939384 \nL 446.395455 717.961957 \nL 446.475766 720.022216 \nL 446.482728 722.10511 \nL 446.432189 724.205748 \nL 446.323986 726.324182 \nL 446.144124 728.46473 \nL 445.944408 730.038254 \nL 445.832497 730.646111 \nL 445.384674 732.870035 \nL 445.232246 733.523641 \nL 444.701898 735.167635 \nL 444.527051 735.649639 \nL 444.093521 737.442951 \nL 443.81113 738.553041 \nL 443.546471 739.699738 \nL 443.128445 741.435785 \nL 442.938359 741.976465 \nL 442.447944 743.248931 \nL 442.045274 744.34457 \nL 441.752572 745.076298 \nL 441.250016 746.683113 \nL 441.093619 747.147742 \nL 440.419853 748.292561 \nL 440.082904 749.142903 \nL 439.769144 749.874959 \nL 439.124484 751.268108 \nL 438.473563 751.719279 \nL 438.45513 751.755738 \nL 437.844898 752.908246 \nL 437.201959 753.312509 \nL 436.622461 754.442684 \nL 436.580886 754.547474 \nL 435.965453 755.416135 \nL 435.34002 756.201872 \nL 435.038804 757.054508 \nL 434.798993 759.219779 \nL 435.156763 761.18513 \nL 435.34002 761.479745 \nL 435.965453 762.648374 \nL 436.278636 762.896766 \nL 436.580886 763.005066 \nL 437.201959 763.359511 \nL 437.844898 763.511678 \nL 438.473563 763.466435 \nL 439.124484 763.573292 \nL 439.769144 763.452105 \nL 440.419853 763.268341 \nL 441.093619 763.178214 \nL 441.752572 762.841956 \nL 442.447944 762.526945 \nL 443.128445 762.234527 \nL 443.81113 761.66072 \nL 444.527051 761.027897 \nL 445.232246 760.346414 \nL 445.501242 759.939436 \nL 445.944408 759.202888 \nL 446.66364 757.970426 \nL 446.915129 757.417777 \nL 447.390048 756.133227 \nL 447.625253 755.115036 \nL 448.00676 752.913427 \nL 448.123741 752.100871 \nL 448.58726 750.651741 \nL 448.897833 749.635505 \nL 449.083071 748.416272 \nL 449.472145 746.213566 \nL 449.646762 745.444825 \nL 450.40813 744.559745 \nL 451.182203 744.348314 \nL 451.855826 743.414314 \nL 451.959428 743.28134 \nL 452.066618 743.351705 \nL 452.744742 743.959675 \nL 453.538273 743.889291 \nL 454.259993 742.705334 \nL 454.34522 742.571104 \nL 454.482174 742.64041 \nL 455.186379 743.170778 \nL 455.985011 743.505192 \nL 456.301705 742.112033 \nL 456.849549 740.202804 \nL 457.162424 739.779159 \nL 457.697315 739.036773 \nL 458.358182 737.352045 \nL 458.549005 736.819868 \nL 459.410007 735.224048 \nL 459.864715 734.839814 \nL 460.285946 734.439214 \nL 461.17716 732.654809 \nL 461.30612 732.349691 \nL 462.072813 730.722711 \nL 462.978543 729.854277 \nL 463.020512 729.787613 \nL 463.928855 728.417233 \nL 464.855645 728.930904 \nL 465.730315 726.958866 \nL 465.804755 726.700705 \nL 466.759004 726.479605 \nL 467.718377 726.034375 \nL 468.352102 724.165938 \nL 468.707116 722.033088 \nz\nM 465.804755 721.246203 \nL 465.702852 722.796275 \nL 465.326551 724.983993 \nL 464.855645 726.49251 \nL 463.928855 725.395192 \nL 462.978543 726.525843 \nL 462.418985 727.869486 \nL 462.072813 728.419747 \nL 461.17716 730.082422 \nL 460.937439 730.367942 \nL 460.285946 731.257022 \nL 459.410007 732.674425 \nL 458.549005 732.277496 \nL 458.279269 733.20448 \nL 457.697315 734.989811 \nL 457.374792 735.54814 \nL 456.849549 736.377442 \nL 456.015201 738.024608 \nL 455.985011 738.110282 \nL 455.186379 739.741882 \nL 454.34522 739.952371 \nL 453.833143 740.745436 \nL 453.538273 741.210766 \nL 452.744742 741.680693 \nL 451.959428 741.368992 \nL 451.182203 742.379655 \nL 450.40813 742.763358 \nL 449.646762 743.647883 \nL 449.507543 744.117819 \nL 449.020932 746.350021 \nL 448.897833 747.068029 \nL 448.428659 748.614911 \nL 448.123741 749.606248 \nL 447.95732 750.843491 \nL 447.625823 753.02982 \nL 447.390048 754.264929 \nL 447.115024 755.271353 \nL 446.66364 756.543882 \nL 446.159221 757.650665 \nL 445.944408 758.048892 \nL 445.232246 759.402066 \nL 444.527051 760.156173 \nL 444.413755 760.27812 \nL 443.81113 760.903616 \nL 443.128445 761.581118 \nL 442.447944 761.887935 \nL 441.752572 762.220857 \nL 441.093619 762.579626 \nL 440.419853 762.617722 \nL 439.769144 762.776036 \nL 439.124484 762.849856 \nL 438.473563 762.640801 \nL 437.844898 762.618782 \nL 437.505514 762.491926 \nL 437.201959 762.249785 \nL 436.580886 761.356925 \nL 436.110719 760.867387 \nL 435.965453 760.034019 \nL 435.81478 758.880675 \nL 435.965453 758.182407 \nL 436.438967 756.58849 \nL 436.580886 756.353877 \nL 437.201959 754.719807 \nL 437.844898 754.089721 \nL 437.869432 754.032263 \nL 438.473563 752.830762 \nL 439.124484 752.269897 \nL 439.499535 751.416419 \nL 439.769144 750.816334 \nL 440.419853 749.280581 \nL 440.576429 748.984039 \nL 441.093619 748.015107 \nL 441.577137 746.578654 \nL 441.752572 746.017739 \nL 442.447944 744.273948 \nL 442.473502 744.208521 \nL 443.128445 742.446324 \nL 443.285519 741.866913 \nL 443.81113 739.734565 \nL 443.847781 739.60496 \nL 444.426407 737.338691 \nL 444.527051 736.922374 \nL 445.222431 735.005408 \nL 445.232246 734.974983 \nL 445.749529 732.756884 \nL 445.944408 731.799668 \nL 446.154282 730.546637 \nL 446.403173 728.384788 \nL 446.563865 726.250156 \nL 446.66364 724.183664 \nL 446.666058 724.133581 \nL 446.720612 722.031786 \nL 446.728522 719.944315 \nL 446.688706 717.871499 \nL 446.66364 717.310612 \nL 446.565288 715.824504 \nL 446.246299 713.837902 \nL 445.944408 713.004257 \nL 445.763141 711.902238 \nL 445.413887 709.925509 \nL 445.232246 709.086306 \nL 445.007816 707.966742 \nL 444.618568 706.003011 \nL 444.527051 705.597043 \nL 444.189306 704.052272 \nL 443.81113 702.347949 \nL 443.761901 702.10117 \nL 443.38386 700.135112 \nL 443.128445 698.852216 \nL 442.970156 698.180519 \nL 442.561945 696.224574 \nL 442.447944 695.699004 \nL 442.083828 694.2913 \nL 441.752572 692.886647 \nL 441.633708 692.349486 \nL 441.25949 690.383942 \nL 441.093619 689.51501 \nL 440.822138 688.438972 \nL 440.419853 686.508691 \nL 440.413398 686.485085 \nL 439.925866 684.557213 \nL 439.769144 683.861651 \nL 439.488753 682.613511 \nL 439.132424 680.643879 \nL 439.124484 680.604761 \nL 438.571129 678.741477 \nL 438.473563 678.360649 \nL 438.095763 676.811699 \nL 437.844898 675.598737 \nL 437.660001 674.869402 \nL 437.25072 672.918789 \nL 437.201959 672.683376 \nL 436.687463 671.019537 \nL 436.580886 670.619694 \nL 436.267019 669.073707 \nL 435.965453 667.260169 \nL 435.914469 667.10561 \nL 435.363263 665.20413 \nL 435.34002 665.112102 \nL 434.926281 663.265243 \nL 434.73578 662.286858 \nL 434.467915 661.333955 \nL 434.12167 659.817866 \nL 434.021304 659.39916 \nL 433.596154 657.457648 \nL 433.532108 657.151738 \nL 433.211529 655.502943 \nL 432.928982 653.785402 \nL 432.858426 653.537753 \nL 432.391674 651.611705 \nL 432.353638 651.426832 \nL 432.076831 649.634328 \nL 431.790312 647.647318 \nL 431.768544 647.503869 \nL 431.317195 645.72484 \nL 431.192295 645.105201 \nL 430.975582 643.757529 \nL 430.677003 641.775554 \nL 430.621105 641.404826 \nL 430.257262 639.835953 \nL 430.058498 638.74529 \nL 429.913036 637.870475 \nL 429.630246 635.883905 \nL 429.497196 634.823878 \nL 429.370818 633.889392 \nL 429.149955 631.881592 \nL 428.964986 629.861239 \nL 428.944286 629.602108 \nL 428.765325 627.846295 \nL 428.612952 625.814773 \nL 428.492117 623.772174 \nL 428.392617 621.816469 \nL 428.375761 621.728026 \nL 427.907523 619.808159 \nL 427.849156 619.620164 \nL 427.724619 617.787825 \nL 427.585044 615.75223 \nL 427.422586 613.724741 \nL 427.310315 612.570659 \nL 427.226089 611.709438 \nL 427.04425 609.68909 \nL 426.863831 607.668236 \nL 426.776033 606.610935 \nL 426.720986 605.634098 \nL 426.642405 603.577132 \nL 426.599232 601.507515 \nL 426.591206 599.42534 \nL 426.619627 597.330143 \nL 426.687354 595.220902 \nL 426.776033 593.513523 \nL 427.133323 592.97706 \nL 427.310315 592.785115 \nL 427.319743 592.91075 \nL 427.460177 594.946042 \nL 427.603692 596.980241 \nL 427.767245 599.007342 \nL 427.849156 599.878061 \nL 428.392617 599.96512 \nL 428.444422 600.853459 \nL 428.589697 602.887475 \nL 428.835857 604.886055 \nL 428.944286 605.418986 \nL 429.028929 606.903409 \nL 429.177024 608.936658 \nL 429.403124 610.942627 \nL 429.497196 611.518946 \nL 429.71305 612.919605 \nL 430.058498 614.617932 \nL 430.126809 614.860672 \nL 430.621105 616.266501 \nL 430.705143 616.745331 \nL 431.064608 618.706289 \nL 431.192295 619.336572 \nL 431.458877 620.655638 \nL 431.768544 621.958364 \nL 431.885376 622.594283 \nL 432.233908 624.560075 \nL 432.353638 625.217144 \nL 432.598998 626.520573 \nL 432.928982 628.120819 \nL 432.997467 628.469984 \nL 433.377044 630.426304 \nL 433.532108 631.192391 \nL 433.788746 632.37212 \nL 434.12167 633.932489 \nL 434.194414 634.32032 \nL 434.557829 636.283228 \nL 434.73578 637.183914 \nL 434.961847 638.232835 \nL 435.34002 640.138019 \nL 435.350264 640.18795 \nL 435.750075 642.139847 \nL 435.965453 643.170411 \nL 436.171938 644.084717 \nL 436.551778 646.043846 \nL 436.580886 646.191404 \nL 436.96449 647.992656 \nL 437.201959 649.125996 \nL 437.387577 649.938371 \nL 437.773669 651.8966 \nL 437.844898 652.242486 \nL 438.223989 653.834311 \nL 438.473563 655.009731 \nL 438.655662 655.778502 \nL 439.067909 657.729394 \nL 439.124484 657.973457 \nL 439.524505 659.666464 \nL 439.769144 660.937713 \nL 439.942427 661.616408 \nL 440.373622 663.562441 \nL 440.419853 663.764028 \nL 440.865641 665.489547 \nL 441.093619 666.514531 \nL 441.342321 667.422025 \nL 441.752572 669.308007 \nL 441.77129 669.370114 \nL 442.314163 671.282633 \nL 442.447944 671.804234 \nL 442.81694 673.208465 \nL 443.128445 674.618397 \nL 443.298464 675.14148 \nL 443.807462 677.066321 \nL 443.81113 677.081819 \nL 444.454048 678.948846 \nL 444.527051 679.203783 \nL 444.965951 680.874238 \nL 445.232246 682.102975 \nL 445.445741 682.810078 \nL 445.89672 684.75526 \nL 445.944408 685.003662 \nL 446.66364 686.129376 \nL 446.74906 686.577329 \nL 447.059825 688.566945 \nL 447.297938 690.57887 \nL 447.390048 691.490321 \nL 447.495453 692.603422 \nL 447.656893 694.639138 \nL 447.80198 696.67985 \nL 447.951243 698.719287 \nL 448.123741 700.679128 \nL 448.145506 700.745008 \nL 448.897833 702.524278 \nL 448.907846 702.598329 \nL 449.205908 704.593233 \nL 449.601602 706.55861 \nL 449.646762 706.726291 \nL 450.40813 707.773841 \nL 451.182203 707.521225 \nL 451.541731 708.06213 \nL 451.959428 708.658559 \nL 452.744742 709.182251 \nL 453.538273 708.302633 \nL 454.34522 709.193429 \nL 454.447155 709.289943 \nL 455.186379 710.411062 \nL 455.985011 709.629417 \nL 456.445873 708.70976 \nL 456.849549 708.285412 \nL 456.992947 708.552151 \nL 457.697315 710.040783 \nL 458.549005 709.147491 \nL 459.031839 710.054994 \nL 459.410007 710.382189 \nL 460.285946 711.385289 \nL 460.729101 711.661044 \nL 461.17716 711.875866 \nL 462.072813 712.611379 \nL 462.412049 713.276114 \nL 462.978543 715.012306 \nL 463.37259 715.095139 \nL 463.928855 715.262627 \nL 464.855645 715.381488 \nL 465.422096 716.617754 \nL 465.774546 718.606627 \nL 465.804755 719.495609 \nL 465.973303 720.637703 \nz\n\" style=\"fill:#e53cc3;\"/>\n    <path clip-path=\"url(#p224db4f40e)\" d=\"M 452.371043 670.28503 \nL 452.252109 668.235223 \nL 452.060905 666.206827 \nL 451.959428 665.452227 \nL 451.434762 664.308094 \nL 451.182203 663.66256 \nL 450.888668 662.386132 \nL 450.40813 661.181224 \nL 450.220195 660.501482 \nL 449.792022 658.54527 \nL 449.646762 657.823067 \nL 448.897833 657.898494 \nL 448.603758 658.904859 \nL 448.627473 660.982693 \nL 448.897833 662.576176 \nL 448.922333 662.978142 \nL 449.132826 664.999528 \nL 449.416853 666.998675 \nL 449.646762 668.087565 \nL 449.871871 668.946457 \nL 450.309797 670.899734 \nL 450.40813 671.323108 \nL 450.71581 670.778045 \nL 451.182203 669.32457 \nL 451.611132 670.510699 \nL 451.959428 671.36971 \nz\n\" style=\"fill:#e53cc3;\"/>\n    <path clip-path=\"url(#p224db4f40e)\" d=\"M 447.421352 650.925215 \nL 447.390048 650.130435 \nL 447.34391 650.948947 \nL 447.390048 652.0383 \nz\n\" style=\"fill:#e53cc3;\"/>\n    <path clip-path=\"url(#p224db4f40e)\" d=\"M 446.142663 645.063483 \nL 446.082788 642.996918 \nL 445.944408 641.991707 \nL 445.882256 643.058897 \nL 445.918264 645.132773 \nL 445.944408 645.621679 \nz\n\" style=\"fill:#e53cc3;\"/>\n    <path clip-path=\"url(#p224db4f40e)\" d=\"M 441.516824 600.644943 \nL 441.543422 598.551407 \nL 441.522288 596.473114 \nL 441.486913 594.399367 \nL 441.443178 592.328291 \nL 441.391998 590.259592 \nL 441.334331 588.192964 \nL 441.266971 586.129431 \nL 441.187232 584.069852 \nL 441.094256 582.0145 \nL 441.093619 582.002648 \nL 440.980174 579.96606 \nL 440.845654 577.924178 \nL 440.678823 575.892664 \nL 440.466807 573.875647 \nL 440.419853 573.507454 \nL 440.343509 573.915325 \nL 440.013396 576.106789 \nL 439.78037 578.266954 \nL 439.769144 578.404105 \nL 439.685603 580.382674 \nL 439.625334 582.487237 \nL 439.591581 584.583211 \nL 439.578695 586.672428 \nL 439.586909 588.75481 \nL 439.616412 590.830296 \nL 439.667722 592.89872 \nL 439.745913 594.958437 \nL 439.769144 595.407786 \nL 439.904924 596.992183 \nL 440.131021 599.004335 \nL 440.419853 600.948948 \nL 440.450312 600.986492 \nL 441.093619 602.70669 \nz\nM 440.419853 596.846407 \nL 440.417494 596.82694 \nL 440.228672 594.80277 \nL 440.09363 592.761263 \nL 440.005919 590.704496 \nL 439.962857 588.633336 \nL 439.963191 586.548186 \nL 440.008807 584.448438 \nL 440.10576 582.33214 \nL 440.25971 580.197467 \nL 440.419853 578.646605 \nL 440.532243 580.109779 \nL 440.654098 582.155724 \nL 440.750769 584.20975 \nL 440.82329 586.271524 \nL 440.874347 588.340184 \nL 440.900039 590.416983 \nL 440.888266 592.505803 \nL 440.795719 594.62054 \nL 440.427842 596.823616 \nz\n\" style=\"fill:#e53cc3;\"/>\n   </g>\n   <g id=\"PathCollection_26\">\n    <path clip-path=\"url(#p224db4f40e)\" d=\"M 465.973303 720.637703 \nL 465.804755 719.495609 \nL 465.774546 718.606627 \nL 465.422096 716.617754 \nL 464.855645 715.381488 \nL 463.928855 715.262627 \nL 463.37259 715.095139 \nL 462.978543 715.012306 \nL 462.412049 713.276114 \nL 462.072813 712.611379 \nL 461.17716 711.875866 \nL 460.729101 711.661044 \nL 460.285946 711.385289 \nL 459.410007 710.382189 \nL 459.031839 710.054994 \nL 458.549005 709.147491 \nL 457.697315 710.040783 \nL 456.992947 708.552151 \nL 456.849549 708.285412 \nL 456.445873 708.70976 \nL 455.985011 709.629417 \nL 455.186379 710.411062 \nL 454.447155 709.289943 \nL 454.34522 709.193429 \nL 453.538273 708.302633 \nL 452.744742 709.182251 \nL 451.959428 708.658559 \nL 451.541731 708.06213 \nL 451.182203 707.521225 \nL 450.40813 707.773841 \nL 449.646762 706.726291 \nL 449.601602 706.55861 \nL 449.205908 704.593233 \nL 448.907846 702.598329 \nL 448.897833 702.524278 \nL 448.145506 700.745008 \nL 448.123741 700.679128 \nL 447.951243 698.719287 \nL 447.80198 696.67985 \nL 447.656893 694.639138 \nL 447.495453 692.603422 \nL 447.390048 691.490321 \nL 447.297938 690.57887 \nL 447.059825 688.566945 \nL 446.74906 686.577329 \nL 446.66364 686.129376 \nL 445.944408 685.003662 \nL 445.89672 684.75526 \nL 445.445741 682.810078 \nL 445.232246 682.102975 \nL 444.965951 680.874238 \nL 444.527051 679.203783 \nL 444.454048 678.948846 \nL 443.81113 677.081819 \nL 443.807462 677.066321 \nL 443.298464 675.14148 \nL 443.128445 674.618397 \nL 442.81694 673.208465 \nL 442.447944 671.804234 \nL 442.314163 671.282633 \nL 441.77129 669.370114 \nL 441.752572 669.308007 \nL 441.342321 667.422025 \nL 441.093619 666.514531 \nL 440.865641 665.489547 \nL 440.419853 663.764028 \nL 440.373622 663.562441 \nL 439.942427 661.616408 \nL 439.769144 660.937713 \nL 439.524505 659.666464 \nL 439.124484 657.973457 \nL 439.067909 657.729394 \nL 438.655662 655.778502 \nL 438.473563 655.009731 \nL 438.223989 653.834311 \nL 437.844898 652.242486 \nL 437.773669 651.8966 \nL 437.387577 649.938371 \nL 437.201959 649.125996 \nL 436.96449 647.992656 \nL 436.580886 646.191404 \nL 436.551778 646.043846 \nL 436.171938 644.084717 \nL 435.965453 643.170411 \nL 435.750075 642.139847 \nL 435.350264 640.18795 \nL 435.34002 640.138019 \nL 434.961847 638.232835 \nL 434.73578 637.183914 \nL 434.557829 636.283228 \nL 434.194414 634.32032 \nL 434.12167 633.932489 \nL 433.788746 632.37212 \nL 433.532108 631.192391 \nL 433.377044 630.426304 \nL 432.997467 628.469984 \nL 432.928982 628.120819 \nL 432.598998 626.520573 \nL 432.353638 625.217144 \nL 432.233908 624.560075 \nL 431.885376 622.594283 \nL 431.768544 621.958364 \nL 431.458877 620.655638 \nL 431.192295 619.336572 \nL 431.064608 618.706289 \nL 430.705143 616.745331 \nL 430.621105 616.266501 \nL 430.126809 614.860672 \nL 430.058498 614.617932 \nL 429.71305 612.919605 \nL 429.497196 611.518946 \nL 429.403124 610.942627 \nL 429.177024 608.936658 \nL 429.028929 606.903409 \nL 428.944286 605.418986 \nL 428.835857 604.886055 \nL 428.589697 602.887475 \nL 428.444422 600.853459 \nL 428.392617 599.96512 \nL 427.849156 599.878061 \nL 427.767245 599.007342 \nL 427.603692 596.980241 \nL 427.460177 594.946042 \nL 427.319743 592.91075 \nL 427.310315 592.785115 \nL 427.133323 592.97706 \nL 426.776033 593.513523 \nL 426.687354 595.220902 \nL 426.619627 597.330143 \nL 426.591206 599.42534 \nL 426.599232 601.507515 \nL 426.642405 603.577132 \nL 426.720986 605.634098 \nL 426.776033 606.610935 \nL 426.863831 607.668236 \nL 427.04425 609.68909 \nL 427.226089 611.709438 \nL 427.310315 612.570659 \nL 427.422586 613.724741 \nL 427.585044 615.75223 \nL 427.724619 617.787825 \nL 427.849156 619.620164 \nL 427.907523 619.808159 \nL 428.375761 621.728026 \nL 428.392617 621.816469 \nL 428.492117 623.772174 \nL 428.612952 625.814773 \nL 428.765325 627.846295 \nL 428.944286 629.602108 \nL 428.964986 629.861239 \nL 429.149955 631.881592 \nL 429.370818 633.889392 \nL 429.497196 634.823878 \nL 429.630246 635.883905 \nL 429.913036 637.870475 \nL 430.058498 638.74529 \nL 430.257262 639.835953 \nL 430.621105 641.404826 \nL 430.677003 641.775554 \nL 430.975582 643.757529 \nL 431.192295 645.105201 \nL 431.317195 645.72484 \nL 431.768544 647.503869 \nL 431.790312 647.647318 \nL 432.076831 649.634328 \nL 432.353638 651.426832 \nL 432.391674 651.611705 \nL 432.858426 653.537753 \nL 432.928982 653.785402 \nL 433.211529 655.502943 \nL 433.532108 657.151738 \nL 433.596154 657.457648 \nL 434.021304 659.39916 \nL 434.12167 659.817866 \nL 434.467915 661.333955 \nL 434.73578 662.286858 \nL 434.926281 663.265243 \nL 435.34002 665.112102 \nL 435.363263 665.20413 \nL 435.914469 667.10561 \nL 435.965453 667.260169 \nL 436.267019 669.073707 \nL 436.580886 670.619694 \nL 436.687463 671.019537 \nL 437.201959 672.683376 \nL 437.25072 672.918789 \nL 437.660001 674.869402 \nL 437.844898 675.598737 \nL 438.095763 676.811699 \nL 438.473563 678.360649 \nL 438.571129 678.741477 \nL 439.124484 680.604761 \nL 439.132424 680.643879 \nL 439.488753 682.613511 \nL 439.769144 683.861651 \nL 439.925866 684.557213 \nL 440.413398 686.485085 \nL 440.419853 686.508691 \nL 440.822138 688.438972 \nL 441.093619 689.51501 \nL 441.25949 690.383942 \nL 441.633708 692.349486 \nL 441.752572 692.886647 \nL 442.083828 694.2913 \nL 442.447944 695.699004 \nL 442.561945 696.224574 \nL 442.970156 698.180519 \nL 443.128445 698.852216 \nL 443.38386 700.135112 \nL 443.761901 702.10117 \nL 443.81113 702.347949 \nL 444.189306 704.052272 \nL 444.527051 705.597043 \nL 444.618568 706.003011 \nL 445.007816 707.966742 \nL 445.232246 709.086306 \nL 445.413887 709.925509 \nL 445.763141 711.902238 \nL 445.944408 713.004257 \nL 446.246299 713.837902 \nL 446.565288 715.824504 \nL 446.66364 717.310612 \nL 446.688706 717.871499 \nL 446.728522 719.944315 \nL 446.720612 722.031786 \nL 446.666058 724.133581 \nL 446.66364 724.183664 \nL 446.563865 726.250156 \nL 446.403173 728.384788 \nL 446.154282 730.546637 \nL 445.944408 731.799668 \nL 445.749529 732.756884 \nL 445.232246 734.974983 \nL 445.222431 735.005408 \nL 444.527051 736.922374 \nL 444.426407 737.338691 \nL 443.847781 739.60496 \nL 443.81113 739.734565 \nL 443.285519 741.866913 \nL 443.128445 742.446324 \nL 442.473502 744.208521 \nL 442.447944 744.273948 \nL 441.752572 746.017739 \nL 441.577137 746.578654 \nL 441.093619 748.015107 \nL 440.576429 748.984039 \nL 440.419853 749.280581 \nL 439.769144 750.816334 \nL 439.499535 751.416419 \nL 439.124484 752.269897 \nL 438.473563 752.830762 \nL 437.869432 754.032263 \nL 437.844898 754.089721 \nL 437.201959 754.719807 \nL 436.580886 756.353877 \nL 436.438967 756.58849 \nL 435.965453 758.182407 \nL 435.81478 758.880675 \nL 435.965453 760.034019 \nL 436.110719 760.867387 \nL 436.580886 761.356925 \nL 437.201959 762.249785 \nL 437.505514 762.491926 \nL 437.844898 762.618782 \nL 438.473563 762.640801 \nL 439.124484 762.849856 \nL 439.769144 762.776036 \nL 440.419853 762.617722 \nL 441.093619 762.579626 \nL 441.752572 762.220857 \nL 442.447944 761.887935 \nL 443.128445 761.581118 \nL 443.81113 760.903616 \nL 444.413755 760.27812 \nL 444.527051 760.156173 \nL 445.232246 759.402066 \nL 445.944408 758.048892 \nL 446.159221 757.650665 \nL 446.66364 756.543882 \nL 447.115024 755.271353 \nL 447.390048 754.264929 \nL 447.625823 753.02982 \nL 447.95732 750.843491 \nL 448.123741 749.606248 \nL 448.428659 748.614911 \nL 448.897833 747.068029 \nL 449.020932 746.350021 \nL 449.507543 744.117819 \nL 449.646762 743.647883 \nL 450.40813 742.763358 \nL 451.182203 742.379655 \nL 451.959428 741.368992 \nL 452.744742 741.680693 \nL 453.538273 741.210766 \nL 453.833143 740.745436 \nL 454.34522 739.952371 \nL 455.186379 739.741882 \nL 455.985011 738.110282 \nL 456.015201 738.024608 \nL 456.849549 736.377442 \nL 457.374792 735.54814 \nL 457.697315 734.989811 \nL 458.279269 733.20448 \nL 458.549005 732.277496 \nL 459.410007 732.674425 \nL 460.285946 731.257022 \nL 460.937439 730.367942 \nL 461.17716 730.082422 \nL 462.072813 728.419747 \nL 462.418985 727.869486 \nL 462.978543 726.525843 \nL 463.928855 725.395192 \nL 464.855645 726.49251 \nL 465.326551 724.983993 \nL 465.702852 722.796275 \nL 465.804755 721.246203 \nz\nM 464.855645 723.070548 \nL 464.836645 723.032655 \nL 464.444237 721.055299 \nL 464.753732 718.885323 \nL 464.855645 718.724132 \nL 464.88455 718.849469 \nL 465.019487 720.897693 \nL 464.864491 723.025027 \nz\nM 462.072813 725.838284 \nL 462.039827 725.889747 \nL 461.17716 727.167008 \nL 460.285946 727.475047 \nL 459.994099 728.548165 \nL 459.410007 729.979964 \nL 458.946228 728.844675 \nL 458.600326 726.85781 \nL 458.549005 726.285676 \nL 458.438537 726.903901 \nL 457.954364 729.127115 \nL 457.697315 730.138625 \nL 457.19373 731.430007 \nL 456.849549 732.148626 \nL 456.507463 731.627458 \nL 456.064004 729.670358 \nL 455.985011 728.586673 \nL 455.95245 729.702593 \nL 455.83722 731.821059 \nL 455.617254 733.969906 \nL 455.186379 736.114094 \nL 455.150659 736.190345 \nL 454.34522 737.361565 \nL 453.538273 738.602747 \nL 453.39376 738.789436 \nL 452.744742 739.503458 \nL 451.959428 739.586955 \nL 451.182203 740.546765 \nL 450.40813 741.10222 \nL 449.659145 741.986948 \nL 449.646762 742.001948 \nL 448.971951 744.279792 \nL 448.897833 744.635556 \nL 448.299727 746.569061 \nL 448.123741 747.148505 \nL 447.909758 748.77298 \nL 447.612648 750.948803 \nL 447.390048 752.328127 \nL 447.215053 753.155595 \nL 446.66364 755.118975 \nL 446.556433 755.443043 \nL 445.944408 756.902722 \nL 445.562324 757.83545 \nL 445.232246 758.495634 \nL 444.527051 759.358944 \nL 443.81113 760.164126 \nL 443.44986 760.58057 \nL 443.128445 760.927708 \nL 442.447944 761.248925 \nL 441.752572 761.599758 \nL 441.093619 761.981039 \nL 440.419853 761.967104 \nL 439.769144 762.099967 \nL 439.124484 762.12642 \nL 438.902339 762.035394 \nL 438.473563 761.681191 \nL 437.844898 761.430013 \nL 437.201959 760.817904 \nL 437.042533 760.559195 \nL 436.792218 758.556752 \nL 437.184327 756.342321 \nL 437.201959 756.295251 \nL 437.844898 755.433397 \nL 438.473563 753.964202 \nL 438.59731 753.794485 \nL 439.124484 753.23596 \nL 439.769144 751.750651 \nL 439.96058 751.26738 \nL 440.419853 750.15938 \nL 441.093619 748.877518 \nL 441.116561 748.810771 \nL 441.752572 746.906107 \nL 441.929622 746.466366 \nL 442.447944 745.134053 \nL 442.856837 744.087289 \nL 443.128445 743.3565 \nL 443.555277 741.782009 \nL 443.81113 740.744041 \nL 444.160992 739.506862 \nL 444.527051 738.086564 \nL 444.893581 737.192938 \nL 445.232246 736.260665 \nL 445.61013 734.885158 \nL 445.944408 733.424718 \nL 446.114659 732.643907 \nL 446.450825 730.455125 \nL 446.662222 728.304845 \nL 446.66364 728.285048 \nL 446.81503 726.172878 \nL 446.905859 724.059945 \nL 446.953414 721.9603 \nL 446.965316 719.871602 \nL 446.941739 717.7938 \nL 446.874367 715.729445 \nL 446.738796 713.686033 \nL 446.66364 713.003008 \nL 446.238417 711.755292 \nL 445.944408 711.402048 \nL 445.669722 709.846167 \nL 445.248584 707.891731 \nL 445.232246 707.831357 \nL 444.841131 705.933648 \nL 444.527051 704.540391 \nL 444.405524 703.984553 \nL 443.965426 702.03735 \nL 443.81113 701.448865 \nL 443.541999 700.085339 \nL 443.150536 698.123506 \nL 443.128445 698.031133 \nL 442.70731 696.178602 \nL 442.447944 694.982866 \nL 442.254994 694.236904 \nL 441.790705 692.299411 \nL 441.752572 692.152957 \nL 441.377072 690.346395 \nL 441.093619 688.861498 \nL 440.97467 688.390032 \nL 440.533817 686.446438 \nL 440.419853 685.945392 \nL 440.056424 684.515124 \nL 439.769144 683.240118 \nL 439.618909 682.571355 \nL 439.234539 680.610805 \nL 439.124484 680.068637 \nL 438.716315 678.694232 \nL 438.473563 677.746699 \nL 438.23445 676.766357 \nL 437.844898 674.882825 \nL 437.827544 674.814372 \nL 437.374912 672.877998 \nL 437.201959 672.043001 \nL 436.867147 670.960245 \nL 436.580886 669.886289 \nL 436.406526 669.027462 \nL 436.060287 667.057195 \nL 435.965453 666.530247 \nL 435.551197 665.141544 \nL 435.34002 664.305408 \nL 435.094399 663.209 \nL 434.73578 661.367184 \nL 434.704124 661.254571 \nL 434.23258 659.328003 \nL 434.12167 658.785419 \nL 433.80298 657.387824 \nL 433.532108 656.094035 \nL 433.404459 655.437516 \nL 433.063186 653.468207 \nL 432.928982 652.648538 \nL 432.647464 651.524572 \nL 432.353638 650.09646 \nL 432.271963 649.567564 \nL 431.978939 647.58278 \nL 431.768544 646.196355 \nL 431.622314 645.619979 \nL 431.224604 643.671618 \nL 431.192295 643.482732 \nL 430.917573 641.692511 \nL 430.621105 639.726261 \nL 430.617573 639.711031 \nL 430.239568 637.757045 \nL 430.058498 636.562917 \nL 429.943116 635.774958 \nL 429.692913 633.777041 \nL 429.497196 632.024874 \nL 429.468314 631.770252 \nL 429.282976 629.750028 \nL 429.130592 627.718279 \nL 428.996601 625.680097 \nL 428.944286 624.764903 \nL 428.878049 623.636617 \nL 428.793885 621.581136 \nL 428.738011 619.515719 \nL 428.709814 617.440581 \nL 428.718718 615.352411 \nL 428.802119 613.238075 \nL 428.944286 611.998458 \nL 429.057865 613.148417 \nL 429.497196 614.963582 \nL 429.517068 615.072892 \nL 429.985002 616.994991 \nL 430.058498 617.197261 \nL 430.621105 618.321203 \nL 430.713668 618.82743 \nL 431.100749 620.778856 \nL 431.192295 621.185174 \nL 431.543452 622.711615 \nL 431.768544 623.496034 \nL 431.977863 624.647681 \nL 432.33535 626.61041 \nL 432.353638 626.705655 \nL 432.730644 628.560771 \nL 432.928982 629.385801 \nL 433.149942 630.503319 \nL 433.532108 632.391397 \nL 433.545759 632.454152 \nL 433.972422 634.395154 \nL 434.12167 635.046511 \nL 434.368652 636.346806 \nL 434.73578 638.204996 \nL 434.75658 638.301507 \nL 435.169784 640.248313 \nL 435.34002 641.042672 \nL 435.577719 642.197245 \nL 435.965453 644.05252 \nL 435.986599 644.146155 \nL 436.403207 646.093096 \nL 436.580886 646.993818 \nL 436.804824 648.045343 \nL 437.201959 649.940703 \nL 437.214421 649.995245 \nL 437.638775 651.940907 \nL 437.844898 652.94184 \nL 438.069469 653.884828 \nL 438.473563 655.787989 \nL 438.484508 655.834198 \nL 438.93439 657.772843 \nL 439.124484 658.592909 \nL 439.388546 659.7105 \nL 439.766829 661.673021 \nL 439.769144 661.684527 \nL 440.242196 663.604811 \nL 440.419853 664.37947 \nL 440.718813 665.536658 \nL 441.093619 667.221779 \nL 441.164094 667.478938 \nL 441.632536 669.414393 \nL 441.752572 669.973515 \nL 442.143803 671.336773 \nL 442.447944 672.522591 \nL 442.642657 673.263582 \nL 443.083756 675.209125 \nL 443.128445 675.409596 \nL 443.626924 677.123143 \nL 443.81113 677.901368 \nL 444.199307 679.028631 \nL 444.527051 680.173168 \nL 444.73053 680.947608 \nL 445.165291 682.897155 \nL 445.232246 683.225161 \nL 445.646723 684.832791 \nL 445.944408 686.383396 \nL 446.16002 686.758976 \nL 446.66364 688.018959 \nL 446.767245 688.656788 \nL 447.030365 690.661034 \nL 447.239944 692.681721 \nL 447.390048 694.358228 \nL 447.419091 694.711797 \nL 447.564101 696.752533 \nL 447.699239 698.796285 \nL 447.845661 700.836589 \nL 448.038652 702.862664 \nL 448.123741 703.519236 \nL 448.842517 704.703215 \nL 448.897833 704.771215 \nL 449.231841 706.670432 \nL 449.646762 708.211078 \nL 449.888076 708.557387 \nL 450.40813 709.300683 \nL 451.182203 709.215137 \nL 451.779273 710.076432 \nL 451.959428 710.331467 \nL 452.744742 711.218598 \nL 453.538273 710.730057 \nL 454.198851 711.447623 \nL 454.34522 711.613891 \nL 454.997129 713.29965 \nL 455.186379 714.095443 \nL 455.538478 715.227374 \nL 455.809792 717.233718 \nL 455.936752 719.281934 \nL 455.985011 720.763448 \nL 456.041528 719.25163 \nL 456.16409 717.131228 \nL 456.362784 714.98886 \nL 456.724364 712.799498 \nL 456.849549 712.319176 \nL 457.011602 712.716883 \nL 457.656018 714.617023 \nL 457.697315 714.7707 \nL 458.549005 714.884639 \nL 458.65185 714.332931 \nL 459.410007 712.925039 \nL 459.951543 713.964881 \nL 460.285946 715.024281 \nL 461.17716 714.637334 \nL 462.072813 715.093806 \nL 462.188289 715.423271 \nL 462.612258 717.390622 \nL 462.816306 719.419021 \nL 462.833946 721.499167 \nL 462.630107 723.640794 \nz\n\" style=\"fill:#ff8a75;\"/>\n    <path clip-path=\"url(#p224db4f40e)\" d=\"M 440.427842 596.823616 \nL 440.795719 594.62054 \nL 440.888266 592.505803 \nL 440.900039 590.416983 \nL 440.874347 588.340184 \nL 440.82329 586.271524 \nL 440.750769 584.20975 \nL 440.654098 582.155724 \nL 440.532243 580.109779 \nL 440.419853 578.646605 \nL 440.25971 580.197467 \nL 440.10576 582.33214 \nL 440.008807 584.448438 \nL 439.963191 586.548186 \nL 439.962857 588.633336 \nL 440.005919 590.704496 \nL 440.09363 592.761263 \nL 440.228672 594.80277 \nL 440.417494 596.82694 \nL 440.419853 596.846407 \nz\n\" style=\"fill:#ff8a75;\"/>\n   </g>\n   <g id=\"PathCollection_27\">\n    <path clip-path=\"url(#p224db4f40e)\" d=\"M 464.864491 723.025027 \nL 465.019487 720.897693 \nL 464.88455 718.849469 \nL 464.855645 718.724132 \nL 464.753732 718.885323 \nL 464.444237 721.055299 \nL 464.836645 723.032655 \nL 464.855645 723.070548 \nz\n\" style=\"fill:#ffd827;\"/>\n    <path clip-path=\"url(#p224db4f40e)\" d=\"M 462.630107 723.640794 \nL 462.833946 721.499167 \nL 462.816306 719.419021 \nL 462.612258 717.390622 \nL 462.188289 715.423271 \nL 462.072813 715.093806 \nL 461.17716 714.637334 \nL 460.285946 715.024281 \nL 459.951543 713.964881 \nL 459.410007 712.925039 \nL 458.65185 714.332931 \nL 458.549005 714.884639 \nL 457.697315 714.7707 \nL 457.656018 714.617023 \nL 457.011602 712.716883 \nL 456.849549 712.319176 \nL 456.724364 712.799498 \nL 456.362784 714.98886 \nL 456.16409 717.131228 \nL 456.041528 719.25163 \nL 455.985011 720.763448 \nL 455.936752 719.281934 \nL 455.809792 717.233718 \nL 455.538478 715.227374 \nL 455.186379 714.095443 \nL 454.997129 713.29965 \nL 454.34522 711.613891 \nL 454.198851 711.447623 \nL 453.538273 710.730057 \nL 452.744742 711.218598 \nL 451.959428 710.331467 \nL 451.779273 710.076432 \nL 451.182203 709.215137 \nL 450.40813 709.300683 \nL 449.888076 708.557387 \nL 449.646762 708.211078 \nL 449.231841 706.670432 \nL 448.897833 704.771215 \nL 448.842517 704.703215 \nL 448.123741 703.519236 \nL 448.038652 702.862664 \nL 447.845661 700.836589 \nL 447.699239 698.796285 \nL 447.564101 696.752533 \nL 447.419091 694.711797 \nL 447.390048 694.358228 \nL 447.239944 692.681721 \nL 447.030365 690.661034 \nL 446.767245 688.656788 \nL 446.66364 688.018959 \nL 446.16002 686.758976 \nL 445.944408 686.383396 \nL 445.646723 684.832791 \nL 445.232246 683.225161 \nL 445.165291 682.897155 \nL 444.73053 680.947608 \nL 444.527051 680.173168 \nL 444.199307 679.028631 \nL 443.81113 677.901368 \nL 443.626924 677.123143 \nL 443.128445 675.409596 \nL 443.083756 675.209125 \nL 442.642657 673.263582 \nL 442.447944 672.522591 \nL 442.143803 671.336773 \nL 441.752572 669.973515 \nL 441.632536 669.414393 \nL 441.164094 667.478938 \nL 441.093619 667.221779 \nL 440.718813 665.536658 \nL 440.419853 664.37947 \nL 440.242196 663.604811 \nL 439.769144 661.684527 \nL 439.766829 661.673021 \nL 439.388546 659.7105 \nL 439.124484 658.592909 \nL 438.93439 657.772843 \nL 438.484508 655.834198 \nL 438.473563 655.787989 \nL 438.069469 653.884828 \nL 437.844898 652.94184 \nL 437.638775 651.940907 \nL 437.214421 649.995245 \nL 437.201959 649.940703 \nL 436.804824 648.045343 \nL 436.580886 646.993818 \nL 436.403207 646.093096 \nL 435.986599 644.146155 \nL 435.965453 644.05252 \nL 435.577719 642.197245 \nL 435.34002 641.042672 \nL 435.169784 640.248313 \nL 434.75658 638.301507 \nL 434.73578 638.204996 \nL 434.368652 636.346806 \nL 434.12167 635.046511 \nL 433.972422 634.395154 \nL 433.545759 632.454152 \nL 433.532108 632.391397 \nL 433.149942 630.503319 \nL 432.928982 629.385801 \nL 432.730644 628.560771 \nL 432.353638 626.705655 \nL 432.33535 626.61041 \nL 431.977863 624.647681 \nL 431.768544 623.496034 \nL 431.543452 622.711615 \nL 431.192295 621.185174 \nL 431.100749 620.778856 \nL 430.713668 618.82743 \nL 430.621105 618.321203 \nL 430.058498 617.197261 \nL 429.985002 616.994991 \nL 429.517068 615.072892 \nL 429.497196 614.963582 \nL 429.057865 613.148417 \nL 428.944286 611.998458 \nL 428.802119 613.238075 \nL 428.718718 615.352411 \nL 428.709814 617.440581 \nL 428.738011 619.515719 \nL 428.793885 621.581136 \nL 428.878049 623.636617 \nL 428.944286 624.764903 \nL 428.996601 625.680097 \nL 429.130592 627.718279 \nL 429.282976 629.750028 \nL 429.468314 631.770252 \nL 429.497196 632.024874 \nL 429.692913 633.777041 \nL 429.943116 635.774958 \nL 430.058498 636.562917 \nL 430.239568 637.757045 \nL 430.617573 639.711031 \nL 430.621105 639.726261 \nL 430.917573 641.692511 \nL 431.192295 643.482732 \nL 431.224604 643.671618 \nL 431.622314 645.619979 \nL 431.768544 646.196355 \nL 431.978939 647.58278 \nL 432.271963 649.567564 \nL 432.353638 650.09646 \nL 432.647464 651.524572 \nL 432.928982 652.648538 \nL 433.063186 653.468207 \nL 433.404459 655.437516 \nL 433.532108 656.094035 \nL 433.80298 657.387824 \nL 434.12167 658.785419 \nL 434.23258 659.328003 \nL 434.704124 661.254571 \nL 434.73578 661.367184 \nL 435.094399 663.209 \nL 435.34002 664.305408 \nL 435.551197 665.141544 \nL 435.965453 666.530247 \nL 436.060287 667.057195 \nL 436.406526 669.027462 \nL 436.580886 669.886289 \nL 436.867147 670.960245 \nL 437.201959 672.043001 \nL 437.374912 672.877998 \nL 437.827544 674.814372 \nL 437.844898 674.882825 \nL 438.23445 676.766357 \nL 438.473563 677.746699 \nL 438.716315 678.694232 \nL 439.124484 680.068637 \nL 439.234539 680.610805 \nL 439.618909 682.571355 \nL 439.769144 683.240118 \nL 440.056424 684.515124 \nL 440.419853 685.945392 \nL 440.533817 686.446438 \nL 440.97467 688.390032 \nL 441.093619 688.861498 \nL 441.377072 690.346395 \nL 441.752572 692.152957 \nL 441.790705 692.299411 \nL 442.254994 694.236904 \nL 442.447944 694.982866 \nL 442.70731 696.178602 \nL 443.128445 698.031133 \nL 443.150536 698.123506 \nL 443.541999 700.085339 \nL 443.81113 701.448865 \nL 443.965426 702.03735 \nL 444.405524 703.984553 \nL 444.527051 704.540391 \nL 444.841131 705.933648 \nL 445.232246 707.831357 \nL 445.248584 707.891731 \nL 445.669722 709.846167 \nL 445.944408 711.402048 \nL 446.238417 711.755292 \nL 446.66364 713.003008 \nL 446.738796 713.686033 \nL 446.874367 715.729445 \nL 446.941739 717.7938 \nL 446.965316 719.871602 \nL 446.953414 721.9603 \nL 446.905859 724.059945 \nL 446.81503 726.172878 \nL 446.66364 728.285048 \nL 446.662222 728.304845 \nL 446.450825 730.455125 \nL 446.114659 732.643907 \nL 445.944408 733.424718 \nL 445.61013 734.885158 \nL 445.232246 736.260665 \nL 444.893581 737.192938 \nL 444.527051 738.086564 \nL 444.160992 739.506862 \nL 443.81113 740.744041 \nL 443.555277 741.782009 \nL 443.128445 743.3565 \nL 442.856837 744.087289 \nL 442.447944 745.134053 \nL 441.929622 746.466366 \nL 441.752572 746.906107 \nL 441.116561 748.810771 \nL 441.093619 748.877518 \nL 440.419853 750.15938 \nL 439.96058 751.26738 \nL 439.769144 751.750651 \nL 439.124484 753.23596 \nL 438.59731 753.794485 \nL 438.473563 753.964202 \nL 437.844898 755.433397 \nL 437.201959 756.295251 \nL 437.184327 756.342321 \nL 436.792218 758.556752 \nL 437.042533 760.559195 \nL 437.201959 760.817904 \nL 437.844898 761.430013 \nL 438.473563 761.681191 \nL 438.902339 762.035394 \nL 439.124484 762.12642 \nL 439.769144 762.099967 \nL 440.419853 761.967104 \nL 441.093619 761.981039 \nL 441.752572 761.599758 \nL 442.447944 761.248925 \nL 443.128445 760.927708 \nL 443.44986 760.58057 \nL 443.81113 760.164126 \nL 444.527051 759.358944 \nL 445.232246 758.495634 \nL 445.562324 757.83545 \nL 445.944408 756.902722 \nL 446.556433 755.443043 \nL 446.66364 755.118975 \nL 447.215053 753.155595 \nL 447.390048 752.328127 \nL 447.612648 750.948803 \nL 447.909758 748.77298 \nL 448.123741 747.148505 \nL 448.299727 746.569061 \nL 448.897833 744.635556 \nL 448.971951 744.279792 \nL 449.646762 742.001948 \nL 449.659145 741.986948 \nL 450.40813 741.10222 \nL 451.182203 740.546765 \nL 451.959428 739.586955 \nL 452.744742 739.503458 \nL 453.39376 738.789436 \nL 453.538273 738.602747 \nL 454.34522 737.361565 \nL 455.150659 736.190345 \nL 455.186379 736.114094 \nL 455.617254 733.969906 \nL 455.83722 731.821059 \nL 455.95245 729.702593 \nL 455.985011 728.586673 \nL 456.064004 729.670358 \nL 456.507463 731.627458 \nL 456.849549 732.148626 \nL 457.19373 731.430007 \nL 457.697315 730.138625 \nL 457.954364 729.127115 \nL 458.438537 726.903901 \nL 458.549005 726.285676 \nL 458.600326 726.85781 \nL 458.946228 728.844675 \nL 459.410007 729.979964 \nL 459.994099 728.548165 \nL 460.285946 727.475047 \nL 461.17716 727.167008 \nL 462.039827 725.889747 \nL 462.072813 725.838284 \nz\nM 461.17716 722.23675 \nL 461.078444 721.98819 \nL 461.052549 719.910416 \nL 461.17716 719.488594 \nL 461.69169 719.731804 \nL 461.457705 721.882164 \nz\nM 459.410007 726.736615 \nL 459.385723 726.634891 \nL 459.105202 724.629469 \nL 458.981059 722.579661 \nL 458.96178 720.500091 \nL 459.056111 718.388275 \nL 459.362466 716.21628 \nL 459.410007 716.039217 \nL 459.460716 716.188472 \nL 459.862994 718.159961 \nL 460.040427 720.194918 \nL 460.040044 722.280068 \nL 459.859084 724.416192 \nL 459.44431 726.618315 \nz\nM 456.849549 725.680689 \nL 456.811881 725.284503 \nL 456.727602 723.223776 \nL 456.73339 721.137063 \nL 456.817432 719.027774 \nL 456.849549 718.619795 \nL 456.919162 718.998534 \nL 457.116111 721.027066 \nL 457.131903 723.107577 \nL 456.932828 725.24974 \nz\nM 455.186379 731.437865 \nL 455.09751 732.035759 \nL 454.485141 734.299375 \nL 454.34522 734.627043 \nL 453.538273 735.872171 \nL 453.068275 736.800322 \nL 452.744742 737.3116 \nL 451.959428 737.836589 \nL 451.182203 738.769172 \nL 450.40813 739.513927 \nL 450.236671 739.728137 \nL 449.646762 740.458801 \nL 448.906174 742.214641 \nL 448.897833 742.243884 \nL 448.157987 744.527105 \nL 448.123741 744.6382 \nL 447.843463 746.708194 \nL 447.572389 748.876061 \nL 447.390048 750.191398 \nL 447.24402 751.061657 \nL 446.755829 753.296609 \nL 446.66364 753.624859 \nL 446.005956 755.61292 \nL 445.944408 755.759712 \nL 445.232246 757.574227 \nL 444.928022 758.032629 \nL 444.527051 758.561716 \nL 443.81113 759.448652 \nL 443.128445 760.274987 \nL 442.447944 760.599488 \nL 441.752572 760.966387 \nL 441.282918 761.267904 \nL 441.093619 761.382452 \nL 440.955501 761.372668 \nL 440.419853 761.268119 \nL 439.769144 761.326178 \nL 439.124484 761.182251 \nL 438.473563 760.548083 \nL 437.993227 760.246918 \nL 437.844898 759.65165 \nL 437.565892 758.302009 \nL 437.844898 757.44801 \nL 438.181633 756.015237 \nL 438.473563 755.340888 \nL 439.124484 754.32494 \nL 439.401275 753.533286 \nL 439.769144 752.676523 \nL 440.381033 751.131834 \nL 440.419853 751.03818 \nL 441.093619 749.678128 \nL 441.425672 748.712063 \nL 441.752572 747.733094 \nL 442.311443 746.345025 \nL 442.447944 745.994157 \nL 443.128445 744.24864 \nL 443.210971 743.975418 \nL 443.81113 741.750984 \nL 443.828361 741.696085 \nL 444.474203 739.408764 \nL 444.527051 739.203715 \nL 445.232246 737.526492 \nL 445.395155 737.036869 \nL 445.944408 734.988503 \nL 446.010717 734.761026 \nL 446.480102 732.531132 \nL 446.66364 731.139793 \nL 446.765838 730.358068 \nL 446.957945 728.214036 \nL 447.074235 726.093284 \nL 447.145661 723.986309 \nL 447.186215 721.888813 \nL 447.202109 719.79889 \nL 447.194773 717.716101 \nL 447.160759 715.641503 \nL 447.088159 713.578754 \nL 446.940672 711.539 \nL 446.66364 709.888822 \nL 445.944408 709.873605 \nL 445.925556 709.766826 \nL 445.535505 707.802749 \nL 445.232246 706.682106 \nL 445.063694 705.864285 \nL 444.629362 703.914605 \nL 444.527051 703.524099 \nL 444.171613 701.972772 \nL 443.81113 700.597893 \nL 443.700139 700.035567 \nL 443.302982 698.075525 \nL 443.128445 697.345716 \nL 442.852674 696.13263 \nL 442.447944 694.266727 \nL 442.42616 694.182508 \nL 441.935772 692.253309 \nL 441.752572 691.549712 \nL 441.494654 690.308847 \nL 441.117307 688.344303 \nL 441.093619 688.236255 \nL 440.651657 686.408629 \nL 440.419853 685.389493 \nL 440.186982 684.473034 \nL 439.769144 682.618585 \nL 439.749064 682.529199 \nL 439.336655 680.577731 \nL 439.124484 679.532512 \nL 438.861502 678.646986 \nL 438.473563 677.132749 \nL 438.373138 676.721016 \nL 437.947005 674.775289 \nL 437.844898 674.300877 \nL 437.499104 672.837207 \nL 437.201959 671.402626 \nL 437.04683 670.900952 \nL 436.580886 669.152884 \nL 436.546034 668.981217 \nL 436.177914 667.018202 \nL 435.965453 665.83765 \nL 435.739132 665.078958 \nL 435.34002 663.498714 \nL 435.262517 663.152756 \nL 434.864541 661.200856 \nL 434.73578 660.538387 \nL 434.419422 659.26521 \nL 434.12167 657.808576 \nL 434.009805 657.318 \nL 433.597622 655.37211 \nL 433.532108 655.052707 \nL 433.235114 653.409902 \nL 432.928982 651.540161 \nL 432.903254 651.43744 \nL 432.485161 649.494817 \nL 432.353638 648.766403 \nL 432.167565 647.518241 \nL 431.872635 645.534109 \nL 431.768544 644.873897 \nL 431.491285 643.579968 \nL 431.192295 641.832012 \nL 431.158144 641.609468 \nL 430.871334 639.62343 \nL 430.621105 637.944601 \nL 430.563065 637.644887 \nL 430.255101 635.666617 \nL 430.058498 634.082322 \nL 430.006655 633.667791 \nL 429.800643 631.654485 \nL 429.620868 629.632044 \nL 429.497196 628.053207 \nL 429.465946 627.600995 \nL 429.372626 625.54859 \nL 429.322209 623.48118 \nL 429.336523 621.391131 \nL 429.497196 619.44887 \nL 430.058498 620.056069 \nL 430.621105 620.413408 \nL 430.717517 620.911144 \nL 431.145372 622.848495 \nL 431.192295 623.030691 \nL 431.676932 624.750784 \nL 431.768544 624.9954 \nL 432.077194 626.698737 \nL 432.353638 628.138487 \nL 432.458309 628.653539 \nL 432.920388 630.581179 \nL 432.928982 630.610783 \nL 433.317336 632.531595 \nL 433.532108 633.495711 \nL 433.747078 634.47123 \nL 434.12167 636.106053 \nL 434.179476 636.410383 \nL 434.5655 638.365692 \nL 434.73578 639.114457 \nL 434.990896 640.30816 \nL 435.34002 641.937254 \nL 435.405363 642.254643 \nL 435.819109 644.2019 \nL 435.965453 644.805327 \nL 436.254637 646.142345 \nL 436.580886 647.796231 \nL 436.645158 648.09803 \nL 437.065706 650.044299 \nL 437.201959 650.610469 \nL 437.50388 651.985214 \nL 437.844898 653.641195 \nL 437.91495 653.935345 \nL 438.353005 655.877174 \nL 438.473563 656.413917 \nL 438.800871 657.816292 \nL 439.124484 659.21236 \nL 439.252588 659.754535 \nL 439.658019 661.708263 \nL 439.769144 662.260402 \nL 440.110769 663.64718 \nL 440.419853 664.994912 \nL 440.571984 665.583768 \nL 441.0207 667.524839 \nL 441.093619 667.837996 \nL 441.502393 669.455952 \nL 441.752572 670.621279 \nL 441.973443 671.390913 \nL 442.447944 673.240949 \nL 442.468375 673.318699 \nL 442.942691 675.253738 \nL 443.128445 676.087026 \nL 443.446386 677.179966 \nL 443.81113 678.720918 \nL 443.944567 679.108416 \nL 444.498472 681.019974 \nL 444.527051 681.133419 \nL 444.964316 682.95979 \nL 445.232246 684.272353 \nL 445.396726 684.910321 \nL 445.798401 686.870794 \nL 445.944408 687.754876 \nL 446.352061 688.784754 \nL 446.66364 690.013513 \nL 446.762792 690.743197 \nL 446.981345 692.761129 \nL 447.158271 694.791842 \nL 447.313302 696.829279 \nL 447.390048 697.935372 \nL 447.447234 698.873283 \nL 447.560552 700.923702 \nL 447.687373 702.969995 \nL 447.87568 704.997502 \nL 448.123741 706.356484 \nL 448.66706 706.841593 \nL 448.897833 706.989917 \nL 449.298554 708.735299 \nL 449.646762 709.643548 \nL 450.249934 710.533552 \nL 450.40813 710.775863 \nL 451.182203 710.871145 \nL 451.959428 711.962743 \nL 452.050782 712.08076 \nL 452.744742 713.288973 \nL 453.538273 713.285683 \nL 453.854554 713.633607 \nL 454.34522 714.227841 \nL 454.689158 715.474499 \nL 455.038733 717.457602 \nL 455.186379 718.743863 \nL 455.274221 719.47411 \nL 455.416382 721.517917 \nL 455.481595 723.584043 \nL 455.49045 725.666517 \nL 455.445229 727.764677 \nL 455.333704 729.882068 \nz\n\" style=\"fill:#ffd827;\"/>\n   </g>\n   <g id=\"PathCollection_28\">\n    <path clip-path=\"url(#p224db4f40e)\" d=\"M 461.457705 721.882164 \nL 461.69169 719.731804 \nL 461.17716 719.488594 \nL 461.052549 719.910416 \nL 461.078444 721.98819 \nL 461.17716 722.23675 \nz\n\" style=\"fill:#fffff3;\"/>\n    <path clip-path=\"url(#p224db4f40e)\" d=\"M 459.44431 726.618315 \nL 459.859084 724.416192 \nL 460.040044 722.280068 \nL 460.040427 720.194918 \nL 459.862994 718.159961 \nL 459.460716 716.188472 \nL 459.410007 716.039217 \nL 459.362466 716.21628 \nL 459.056111 718.388275 \nL 458.96178 720.500091 \nL 458.981059 722.579661 \nL 459.105202 724.629469 \nL 459.385723 726.634891 \nL 459.410007 726.736615 \nz\n\" style=\"fill:#fffff3;\"/>\n    <path clip-path=\"url(#p224db4f40e)\" d=\"M 456.932828 725.24974 \nL 457.131903 723.107577 \nL 457.116111 721.027066 \nL 456.919162 718.998534 \nL 456.849549 718.619795 \nL 456.817432 719.027774 \nL 456.73339 721.137063 \nL 456.727602 723.223776 \nL 456.811881 725.284503 \nL 456.849549 725.680689 \nz\n\" style=\"fill:#fffff3;\"/>\n    <path clip-path=\"url(#p224db4f40e)\" d=\"M 455.333704 729.882068 \nL 455.445229 727.764677 \nL 455.49045 725.666517 \nL 455.481595 723.584043 \nL 455.416382 721.517917 \nL 455.274221 719.47411 \nL 455.186379 718.743863 \nL 455.038733 717.457602 \nL 454.689158 715.474499 \nL 454.34522 714.227841 \nL 453.854554 713.633607 \nL 453.538273 713.285683 \nL 452.744742 713.288973 \nL 452.050782 712.08076 \nL 451.959428 711.962743 \nL 451.182203 710.871145 \nL 450.40813 710.775863 \nL 450.249934 710.533552 \nL 449.646762 709.643548 \nL 449.298554 708.735299 \nL 448.897833 706.989917 \nL 448.66706 706.841593 \nL 448.123741 706.356484 \nL 447.87568 704.997502 \nL 447.687373 702.969995 \nL 447.560552 700.923702 \nL 447.447234 698.873283 \nL 447.390048 697.935372 \nL 447.313302 696.829279 \nL 447.158271 694.791842 \nL 446.981345 692.761129 \nL 446.762792 690.743197 \nL 446.66364 690.013513 \nL 446.352061 688.784754 \nL 445.944408 687.754876 \nL 445.798401 686.870794 \nL 445.396726 684.910321 \nL 445.232246 684.272353 \nL 444.964316 682.95979 \nL 444.527051 681.133419 \nL 444.498472 681.019974 \nL 443.944567 679.108416 \nL 443.81113 678.720918 \nL 443.446386 677.179966 \nL 443.128445 676.087026 \nL 442.942691 675.253738 \nL 442.468375 673.318699 \nL 442.447944 673.240949 \nL 441.973443 671.390913 \nL 441.752572 670.621279 \nL 441.502393 669.455952 \nL 441.093619 667.837996 \nL 441.0207 667.524839 \nL 440.571984 665.583768 \nL 440.419853 664.994912 \nL 440.110769 663.64718 \nL 439.769144 662.260402 \nL 439.658019 661.708263 \nL 439.252588 659.754535 \nL 439.124484 659.21236 \nL 438.800871 657.816292 \nL 438.473563 656.413917 \nL 438.353005 655.877174 \nL 437.91495 653.935345 \nL 437.844898 653.641195 \nL 437.50388 651.985214 \nL 437.201959 650.610469 \nL 437.065706 650.044299 \nL 436.645158 648.09803 \nL 436.580886 647.796231 \nL 436.254637 646.142345 \nL 435.965453 644.805327 \nL 435.819109 644.2019 \nL 435.405363 642.254643 \nL 435.34002 641.937254 \nL 434.990896 640.30816 \nL 434.73578 639.114457 \nL 434.5655 638.365692 \nL 434.179476 636.410383 \nL 434.12167 636.106053 \nL 433.747078 634.47123 \nL 433.532108 633.495711 \nL 433.317336 632.531595 \nL 432.928982 630.610783 \nL 432.920388 630.581179 \nL 432.458309 628.653539 \nL 432.353638 628.138487 \nL 432.077194 626.698737 \nL 431.768544 624.9954 \nL 431.676932 624.750784 \nL 431.192295 623.030691 \nL 431.145372 622.848495 \nL 430.717517 620.911144 \nL 430.621105 620.413408 \nL 430.058498 620.056069 \nL 429.497196 619.44887 \nL 429.336523 621.391131 \nL 429.322209 623.48118 \nL 429.372626 625.54859 \nL 429.465946 627.600995 \nL 429.497196 628.053207 \nL 429.620868 629.632044 \nL 429.800643 631.654485 \nL 430.006655 633.667791 \nL 430.058498 634.082322 \nL 430.255101 635.666617 \nL 430.563065 637.644887 \nL 430.621105 637.944601 \nL 430.871334 639.62343 \nL 431.158144 641.609468 \nL 431.192295 641.832012 \nL 431.491285 643.579968 \nL 431.768544 644.873897 \nL 431.872635 645.534109 \nL 432.167565 647.518241 \nL 432.353638 648.766403 \nL 432.485161 649.494817 \nL 432.903254 651.43744 \nL 432.928982 651.540161 \nL 433.235114 653.409902 \nL 433.532108 655.052707 \nL 433.597622 655.37211 \nL 434.009805 657.318 \nL 434.12167 657.808576 \nL 434.419422 659.26521 \nL 434.73578 660.538387 \nL 434.864541 661.200856 \nL 435.262517 663.152756 \nL 435.34002 663.498714 \nL 435.739132 665.078958 \nL 435.965453 665.83765 \nL 436.177914 667.018202 \nL 436.546034 668.981217 \nL 436.580886 669.152884 \nL 437.04683 670.900952 \nL 437.201959 671.402626 \nL 437.499104 672.837207 \nL 437.844898 674.300877 \nL 437.947005 674.775289 \nL 438.373138 676.721016 \nL 438.473563 677.132749 \nL 438.861502 678.646986 \nL 439.124484 679.532512 \nL 439.336655 680.577731 \nL 439.749064 682.529199 \nL 439.769144 682.618585 \nL 440.186982 684.473034 \nL 440.419853 685.389493 \nL 440.651657 686.408629 \nL 441.093619 688.236255 \nL 441.117307 688.344303 \nL 441.494654 690.308847 \nL 441.752572 691.549712 \nL 441.935772 692.253309 \nL 442.42616 694.182508 \nL 442.447944 694.266727 \nL 442.852674 696.13263 \nL 443.128445 697.345716 \nL 443.302982 698.075525 \nL 443.700139 700.035567 \nL 443.81113 700.597893 \nL 444.171613 701.972772 \nL 444.527051 703.524099 \nL 444.629362 703.914605 \nL 445.063694 705.864285 \nL 445.232246 706.682106 \nL 445.535505 707.802749 \nL 445.925556 709.766826 \nL 445.944408 709.873605 \nL 446.66364 709.888822 \nL 446.940672 711.539 \nL 447.088159 713.578754 \nL 447.160759 715.641503 \nL 447.194773 717.716101 \nL 447.202109 719.79889 \nL 447.186215 721.888813 \nL 447.145661 723.986309 \nL 447.074235 726.093284 \nL 446.957945 728.214036 \nL 446.765838 730.358068 \nL 446.66364 731.139793 \nL 446.480102 732.531132 \nL 446.010717 734.761026 \nL 445.944408 734.988503 \nL 445.395155 737.036869 \nL 445.232246 737.526492 \nL 444.527051 739.203715 \nL 444.474203 739.408764 \nL 443.828361 741.696085 \nL 443.81113 741.750984 \nL 443.210971 743.975418 \nL 443.128445 744.24864 \nL 442.447944 745.994157 \nL 442.311443 746.345025 \nL 441.752572 747.733094 \nL 441.425672 748.712063 \nL 441.093619 749.678128 \nL 440.419853 751.03818 \nL 440.381033 751.131834 \nL 439.769144 752.676523 \nL 439.401275 753.533286 \nL 439.124484 754.32494 \nL 438.473563 755.340888 \nL 438.181633 756.015237 \nL 437.844898 757.44801 \nL 437.565892 758.302009 \nL 437.844898 759.65165 \nL 437.993227 760.246918 \nL 438.473563 760.548083 \nL 439.124484 761.182251 \nL 439.769144 761.326178 \nL 440.419853 761.268119 \nL 440.955501 761.372668 \nL 441.093619 761.382452 \nL 441.282918 761.267904 \nL 441.752572 760.966387 \nL 442.447944 760.599488 \nL 443.128445 760.274987 \nL 443.81113 759.448652 \nL 444.527051 758.561716 \nL 444.928022 758.032629 \nL 445.232246 757.574227 \nL 445.944408 755.759712 \nL 446.005956 755.61292 \nL 446.66364 753.624859 \nL 446.755829 753.296609 \nL 447.24402 751.061657 \nL 447.390048 750.191398 \nL 447.572389 748.876061 \nL 447.843463 746.708194 \nL 448.123741 744.6382 \nL 448.157987 744.527105 \nL 448.897833 742.243884 \nL 448.906174 742.214641 \nL 449.646762 740.458801 \nL 450.236671 739.728137 \nL 450.40813 739.513927 \nL 451.182203 738.769172 \nL 451.959428 737.836589 \nL 452.744742 737.3116 \nL 453.068275 736.800322 \nL 453.538273 735.872171 \nL 454.34522 734.627043 \nL 454.485141 734.299375 \nL 455.09751 732.035759 \nL 455.186379 731.437865 \nz\nM 454.34522 731.340471 \nL 453.757865 732.427337 \nL 453.538273 732.782216 \nL 452.837574 734.783273 \nL 452.744742 734.982447 \nL 451.959428 736.056849 \nL 451.182203 736.988467 \nL 450.82197 737.467625 \nL 450.40813 737.953833 \nL 449.646762 738.932727 \nL 448.897833 739.795581 \nL 448.748048 740.177653 \nL 448.123741 741.947406 \nL 448.029811 742.481172 \nL 447.728994 744.658127 \nL 447.486891 746.817142 \nL 447.390048 747.621278 \nL 447.206165 748.988239 \nL 446.831707 751.188266 \nL 446.66364 751.944095 \nL 446.295042 753.438666 \nL 445.944408 754.508513 \nL 445.574314 755.746689 \nL 445.232246 756.628858 \nL 444.527051 757.732162 \nL 444.16836 758.269936 \nL 443.81113 758.733178 \nL 443.128445 759.622682 \nL 442.447944 759.937264 \nL 441.752572 760.290558 \nL 441.093619 760.691839 \nL 440.419853 760.479512 \nL 439.769144 760.450158 \nL 439.124484 760.173723 \nL 438.909782 759.94793 \nL 438.473563 758.111957 \nL 438.446621 758.013647 \nL 438.473563 757.894896 \nL 438.969592 755.758382 \nL 439.124484 755.49606 \nL 439.769144 753.672752 \nL 439.860466 753.384697 \nL 440.419853 751.998276 \nL 440.845205 750.982844 \nL 441.093619 750.478738 \nL 441.734782 748.613356 \nL 441.752572 748.56008 \nL 442.447944 746.849327 \nL 442.689643 746.225208 \nL 443.128445 745.096936 \nL 443.494116 743.886301 \nL 443.81113 742.711319 \nL 444.162641 741.591388 \nL 444.527051 740.294278 \nL 445.030934 739.235174 \nL 445.232246 738.762081 \nL 445.853567 736.894704 \nL 445.944408 736.555925 \nL 446.512779 734.60609 \nL 446.66364 733.774671 \nL 446.907278 732.399679 \nL 447.127801 730.24692 \nL 447.253869 728.123166 \nL 447.333439 726.01369 \nL 447.385463 723.912673 \nL 447.390048 723.633524 \nL 447.420749 721.816842 \nL 447.444493 719.724544 \nL 447.458961 717.635081 \nL 447.465428 715.548063 \nL 447.464585 713.463278 \nL 447.456687 711.380649 \nL 447.390048 709.463885 \nL 447.386339 709.317107 \nL 447.295116 707.260076 \nL 446.66364 706.846195 \nL 446.445248 707.521379 \nL 445.944408 708.331851 \nL 445.822426 707.713767 \nL 445.323003 705.783609 \nL 445.232246 705.534242 \nL 444.862979 703.841797 \nL 444.527051 702.559606 \nL 444.3778 701.908193 \nL 443.87863 699.979492 \nL 443.81113 699.764396 \nL 443.455428 698.027544 \nL 443.128445 696.660299 \nL 442.998039 696.086658 \nL 442.567219 694.137864 \nL 442.447944 693.640905 \nL 442.08084 692.207207 \nL 441.752572 690.946467 \nL 441.612236 690.2713 \nL 441.224896 688.309946 \nL 441.093619 687.711145 \nL 440.769498 686.37082 \nL 440.419853 684.833593 \nL 440.317541 684.430945 \nL 439.863807 682.492178 \nL 439.769144 682.090608 \nL 439.43877 680.544657 \nL 439.124484 678.996387 \nL 439.006688 678.599741 \nL 438.506617 676.677428 \nL 438.473563 676.540633 \nL 438.060911 674.73805 \nL 437.844898 673.734408 \nL 437.623296 672.796415 \nL 437.21727 670.844734 \nL 437.201959 670.771336 \nL 436.690598 668.93346 \nL 436.580886 668.47717 \nL 436.295542 666.97921 \nL 435.965453 665.145052 \nL 435.927067 665.016372 \nL 435.42532 663.098421 \nL 435.34002 662.716193 \nL 435.013229 661.151112 \nL 434.73578 659.723654 \nL 434.606264 659.202417 \nL 434.198578 657.254388 \nL 434.12167 656.838215 \nL 433.791238 655.306746 \nL 433.532108 654.043395 \nL 433.407041 653.351598 \nL 433.08187 651.376828 \nL 432.928982 650.421228 \nL 432.711365 649.417763 \nL 432.3566 647.453568 \nL 432.353638 647.434694 \nL 432.072523 645.465717 \nL 431.768544 643.537686 \nL 431.757965 643.488317 \nL 431.409863 641.522908 \nL 431.192295 640.011832 \nL 431.12404 639.536198 \nL 430.856101 637.543646 \nL 430.621105 635.906375 \nL 430.56657 635.558629 \nL 430.325571 633.557142 \nL 430.1385 631.536958 \nL 430.058498 630.32416 \nL 429.999846 629.500077 \nL 429.921183 627.442426 \nL 429.934448 625.352765 \nL 430.058498 624.097379 \nL 430.342287 623.126135 \nL 430.621105 622.712411 \nL 430.683143 623.008052 \nL 431.169699 624.92514 \nL 431.192295 624.995849 \nL 431.768544 626.508402 \nL 431.819038 626.787065 \nL 432.178156 628.749236 \nL 432.353638 629.606524 \nL 432.602648 630.689414 \nL 432.928982 631.813453 \nL 433.08978 632.608764 \nL 433.52029 634.547811 \nL 433.532108 634.595001 \nL 433.959425 636.484584 \nL 434.12167 637.140702 \nL 434.376019 638.429372 \nL 434.73578 640.011331 \nL 434.812008 640.368006 \nL 435.229795 642.313279 \nL 435.34002 642.789898 \nL 435.653918 644.256912 \nL 435.965453 645.541481 \nL 436.106066 646.191595 \nL 436.499126 648.146342 \nL 436.580886 648.548854 \nL 436.918887 650.092747 \nL 437.201959 651.268995 \nL 437.368985 652.02952 \nL 437.776459 653.980726 \nL 437.844898 654.284671 \nL 438.22421 655.919281 \nL 438.473563 657.029437 \nL 438.667352 657.859741 \nL 439.117154 659.798412 \nL 439.124484 659.826435 \nL 439.549209 661.743505 \nL 439.769144 662.836278 \nL 439.979343 663.689549 \nL 440.419853 665.610354 \nL 440.425156 665.630878 \nL 440.900088 667.563538 \nL 441.093619 668.394672 \nL 441.372249 669.49751 \nL 441.752572 671.269042 \nL 441.803084 671.445052 \nL 442.319904 673.365851 \nL 442.447944 673.868119 \nL 442.801625 675.29835 \nL 443.128445 676.764455 \nL 443.265849 677.236788 \nL 443.738781 679.17298 \nL 443.81113 679.512646 \nL 444.28784 681.085945 \nL 444.527051 682.03549 \nL 444.76334 683.022425 \nL 445.167479 684.981516 \nL 445.232246 685.322069 \nL 445.583548 686.937425 \nL 445.913313 688.920199 \nL 445.944408 689.140203 \nL 446.423007 690.847903 \nL 446.66364 692.303249 \nL 446.722747 692.840537 \nL 446.89425 694.872916 \nL 447.027274 696.91711 \nL 447.13278 698.969755 \nL 447.218241 701.028555 \nL 447.290142 703.091519 \nL 447.364178 705.153827 \nL 447.390048 705.925364 \nL 447.415601 707.223118 \nL 447.4356 709.30205 \nL 448.123741 709.307245 \nL 448.897833 709.271293 \nL 449.454916 710.773055 \nL 449.646762 711.05782 \nL 450.40813 712.232425 \nL 450.92951 712.414924 \nL 451.182203 712.536238 \nL 451.959428 713.639963 \nL 452.215567 714.116983 \nL 452.744742 715.516052 \nL 453.259733 715.89347 \nL 453.538273 716.255161 \nL 454.34522 717.338255 \nL 454.40565 717.642216 \nL 454.677858 719.64788 \nL 454.841074 721.685327 \nL 454.919471 723.747508 \nL 454.917332 725.833174 \nL 454.820152 727.946555 \nL 454.585468 730.100033 \nz\n\" style=\"fill:#fffff3;\"/>\n   </g>\n   <g id=\"PathCollection_29\">\n    <path clip-path=\"url(#p224db4f40e)\" d=\"M 454.585468 730.100033 \nL 454.820152 727.946555 \nL 454.917332 725.833174 \nL 454.919471 723.747508 \nL 454.841074 721.685327 \nL 454.677858 719.64788 \nL 454.40565 717.642216 \nL 454.34522 717.338255 \nL 453.538273 716.255161 \nL 453.259733 715.89347 \nL 452.744742 715.516052 \nL 452.215567 714.116983 \nL 451.959428 713.639963 \nL 451.182203 712.536238 \nL 450.92951 712.414924 \nL 450.40813 712.232425 \nL 449.646762 711.05782 \nL 449.454916 710.773055 \nL 448.897833 709.271293 \nL 448.123741 709.307245 \nL 447.4356 709.30205 \nL 447.415601 707.223118 \nL 447.390048 705.925364 \nL 447.364178 705.153827 \nL 447.290142 703.091519 \nL 447.218241 701.028555 \nL 447.13278 698.969755 \nL 447.027274 696.91711 \nL 446.89425 694.872916 \nL 446.722747 692.840537 \nL 446.66364 692.303249 \nL 446.423007 690.847903 \nL 445.944408 689.140203 \nL 445.913313 688.920199 \nL 445.583548 686.937425 \nL 445.232246 685.322069 \nL 445.167479 684.981516 \nL 444.76334 683.022425 \nL 444.527051 682.03549 \nL 444.28784 681.085945 \nL 443.81113 679.512646 \nL 443.738781 679.17298 \nL 443.265849 677.236788 \nL 443.128445 676.764455 \nL 442.801625 675.29835 \nL 442.447944 673.868119 \nL 442.319904 673.365851 \nL 441.803084 671.445052 \nL 441.752572 671.269042 \nL 441.372249 669.49751 \nL 441.093619 668.394672 \nL 440.900088 667.563538 \nL 440.425156 665.630878 \nL 440.419853 665.610354 \nL 439.979343 663.689549 \nL 439.769144 662.836278 \nL 439.549209 661.743505 \nL 439.124484 659.826435 \nL 439.117154 659.798412 \nL 438.667352 657.859741 \nL 438.473563 657.029437 \nL 438.22421 655.919281 \nL 437.844898 654.284671 \nL 437.776459 653.980726 \nL 437.368985 652.02952 \nL 437.201959 651.268995 \nL 436.918887 650.092747 \nL 436.580886 648.548854 \nL 436.499126 648.146342 \nL 436.106066 646.191595 \nL 435.965453 645.541481 \nL 435.653918 644.256912 \nL 435.34002 642.789898 \nL 435.229795 642.313279 \nL 434.812008 640.368006 \nL 434.73578 640.011331 \nL 434.376019 638.429372 \nL 434.12167 637.140702 \nL 433.959425 636.484584 \nL 433.532108 634.595001 \nL 433.52029 634.547811 \nL 433.08978 632.608764 \nL 432.928982 631.813453 \nL 432.602648 630.689414 \nL 432.353638 629.606524 \nL 432.178156 628.749236 \nL 431.819038 626.787065 \nL 431.768544 626.508402 \nL 431.192295 624.995849 \nL 431.169699 624.92514 \nL 430.683143 623.008052 \nL 430.621105 622.712411 \nL 430.342287 623.126135 \nL 430.058498 624.097379 \nL 429.934448 625.352765 \nL 429.921183 627.442426 \nL 429.999846 629.500077 \nL 430.058498 630.32416 \nL 430.1385 631.536958 \nL 430.325571 633.557142 \nL 430.56657 635.558629 \nL 430.621105 635.906375 \nL 430.856101 637.543646 \nL 431.12404 639.536198 \nL 431.192295 640.011832 \nL 431.409863 641.522908 \nL 431.757965 643.488317 \nL 431.768544 643.537686 \nL 432.072523 645.465717 \nL 432.353638 647.434694 \nL 432.3566 647.453568 \nL 432.711365 649.417763 \nL 432.928982 650.421228 \nL 433.08187 651.376828 \nL 433.407041 653.351598 \nL 433.532108 654.043395 \nL 433.791238 655.306746 \nL 434.12167 656.838215 \nL 434.198578 657.254388 \nL 434.606264 659.202417 \nL 434.73578 659.723654 \nL 435.013229 661.151112 \nL 435.34002 662.716193 \nL 435.42532 663.098421 \nL 435.927067 665.016372 \nL 435.965453 665.145052 \nL 436.295542 666.97921 \nL 436.580886 668.47717 \nL 436.690598 668.93346 \nL 437.201959 670.771336 \nL 437.21727 670.844734 \nL 437.623296 672.796415 \nL 437.844898 673.734408 \nL 438.060911 674.73805 \nL 438.473563 676.540633 \nL 438.506617 676.677428 \nL 439.006688 678.599741 \nL 439.124484 678.996387 \nL 439.43877 680.544657 \nL 439.769144 682.090608 \nL 439.863807 682.492178 \nL 440.317541 684.430945 \nL 440.419853 684.833593 \nL 440.769498 686.37082 \nL 441.093619 687.711145 \nL 441.224896 688.309946 \nL 441.612236 690.2713 \nL 441.752572 690.946467 \nL 442.08084 692.207207 \nL 442.447944 693.640905 \nL 442.567219 694.137864 \nL 442.998039 696.086658 \nL 443.128445 696.660299 \nL 443.455428 698.027544 \nL 443.81113 699.764396 \nL 443.87863 699.979492 \nL 444.3778 701.908193 \nL 444.527051 702.559606 \nL 444.862979 703.841797 \nL 445.232246 705.534242 \nL 445.323003 705.783609 \nL 445.822426 707.713767 \nL 445.944408 708.331851 \nL 446.445248 707.521379 \nL 446.66364 706.846195 \nL 447.295116 707.260076 \nL 447.386339 709.317107 \nL 447.390048 709.463885 \nL 447.456687 711.380649 \nL 447.464585 713.463278 \nL 447.465428 715.548063 \nL 447.458961 717.635081 \nL 447.444493 719.724544 \nL 447.420749 721.816842 \nL 447.390048 723.633524 \nL 447.385463 723.912673 \nL 447.333439 726.01369 \nL 447.253869 728.123166 \nL 447.127801 730.24692 \nL 446.907278 732.399679 \nL 446.66364 733.774671 \nL 446.512779 734.60609 \nL 445.944408 736.555925 \nL 445.853567 736.894704 \nL 445.232246 738.762081 \nL 445.030934 739.235174 \nL 444.527051 740.294278 \nL 444.162641 741.591388 \nL 443.81113 742.711319 \nL 443.494116 743.886301 \nL 443.128445 745.096936 \nL 442.689643 746.225208 \nL 442.447944 746.849327 \nL 441.752572 748.56008 \nL 441.734782 748.613356 \nL 441.093619 750.478738 \nL 440.845205 750.982844 \nL 440.419853 751.998276 \nL 439.860466 753.384697 \nL 439.769144 753.672752 \nL 439.124484 755.49606 \nL 438.969592 755.758382 \nL 438.473563 757.894896 \nL 438.446621 758.013647 \nL 438.473563 758.111957 \nL 438.909782 759.94793 \nL 439.124484 760.173723 \nL 439.769144 760.450158 \nL 440.419853 760.479512 \nL 441.093619 760.691839 \nL 441.752572 760.290558 \nL 442.447944 759.937264 \nL 443.128445 759.622682 \nL 443.81113 758.733178 \nL 444.16836 758.269936 \nL 444.527051 757.732162 \nL 445.232246 756.628858 \nL 445.574314 755.746689 \nL 445.944408 754.508513 \nL 446.295042 753.438666 \nL 446.66364 751.944095 \nL 446.831707 751.188266 \nL 447.206165 748.988239 \nL 447.390048 747.621278 \nL 447.486891 746.817142 \nL 447.728994 744.658127 \nL 448.029811 742.481172 \nL 448.123741 741.947406 \nL 448.748048 740.177653 \nL 448.897833 739.795581 \nL 449.646762 738.932727 \nL 450.40813 737.953833 \nL 450.82197 737.467625 \nL 451.182203 736.988467 \nL 451.959428 736.056849 \nL 452.744742 734.982447 \nL 452.837574 734.783273 \nL 453.538273 732.782216 \nL 453.757865 732.427337 \nL 454.34522 731.340471 \nz\nM 453.538273 728.330159 \nL 453.185469 730.510655 \nL 452.744742 732.231458 \nL 452.590619 732.771251 \nL 451.959428 734.17413 \nL 451.182203 735.139628 \nL 451.094865 735.300893 \nL 450.40813 736.354856 \nL 449.646762 737.402718 \nL 448.897833 737.180002 \nL 448.427732 738.18998 \nL 448.123741 738.931215 \nL 447.735898 740.485932 \nL 447.495626 742.644388 \nL 447.390048 743.780725 \nL 447.30611 744.787464 \nL 447.084848 746.940449 \nL 446.806002 749.111117 \nL 446.66364 749.937177 \nL 446.411248 751.317762 \nL 445.944408 753.172614 \nL 445.855064 753.574579 \nL 445.232246 755.650958 \nL 445.117721 755.888466 \nL 444.527051 756.869377 \nL 443.81113 757.96199 \nL 443.489967 758.482904 \nL 443.128445 758.970377 \nL 442.447944 759.275041 \nL 441.752572 759.61473 \nL 441.093619 759.992083 \nL 440.419853 759.690904 \nL 439.944898 759.612605 \nL 439.769144 759.44536 \nL 439.159633 757.781636 \nL 439.545196 755.571714 \nL 439.769144 754.944652 \nL 440.309597 753.239906 \nL 440.419853 752.966641 \nL 441.093619 751.348378 \nL 441.258692 750.850427 \nL 441.752572 749.444454 \nL 442.127925 748.488389 \nL 442.447944 747.701752 \nL 443.065827 746.106238 \nL 443.128445 745.945233 \nL 443.777261 743.797184 \nL 443.81113 743.671654 \nL 444.496921 741.486691 \nL 444.527051 741.379444 \nL 445.232246 740.040586 \nL 445.667183 739.037549 \nL 445.944408 738.22849 \nL 446.621762 736.657501 \nL 446.66364 736.506592 \nL 447.218505 734.389153 \nL 447.390048 732.375398 \nL 447.396191 732.249557 \nL 447.483591 730.137811 \nL 447.543484 728.034468 \nL 447.589977 725.93522 \nL 447.629727 723.838033 \nL 447.667472 721.741457 \nL 447.708386 719.643914 \nL 447.760865 717.542837 \nL 447.843483 715.432551 \nL 448.01312 713.295678 \nL 448.123741 712.569697 \nL 448.897833 711.725526 \nL 449.646762 712.479537 \nL 449.819628 712.748067 \nL 450.40813 713.739299 \nL 451.182203 714.284519 \nL 451.264941 714.399685 \nL 451.959428 715.433988 \nL 452.251931 716.191252 \nL 452.744742 718.104994 \nL 452.758436 718.126257 \nL 453.432496 720.012637 \nL 453.538273 720.68465 \nL 454.016601 721.926268 \nL 454.336571 723.917501 \nL 454.177896 726.049064 \nL 453.542569 728.320373 \nz\nM 446.66364 703.054255 \nL 446.648257 703.288646 \nL 446.337337 705.469638 \nL 445.944408 706.706552 \nL 445.696983 705.667628 \nL 445.232246 704.390706 \nL 445.096596 703.768989 \nL 444.604181 701.83741 \nL 444.527051 701.592425 \nL 444.105029 699.908584 \nL 443.81113 698.972037 \nL 443.607875 697.979563 \nL 443.146281 696.039803 \nL 443.128445 695.97856 \nL 442.703888 694.094642 \nL 442.447944 693.028254 \nL 442.225907 692.161105 \nL 441.752572 690.343222 \nL 441.729818 690.233753 \nL 441.332486 688.27559 \nL 441.093619 687.186035 \nL 440.887338 686.33301 \nL 440.444028 684.390205 \nL 440.419853 684.29015 \nL 439.975738 682.456093 \nL 439.769144 681.579698 \nL 439.540885 680.511583 \nL 439.14321 678.555343 \nL 439.124484 678.470892 \nL 438.626425 676.638441 \nL 438.473563 676.00582 \nL 438.174817 674.700811 \nL 437.844898 673.167939 \nL 437.747488 672.755624 \nL 437.329309 670.807934 \nL 437.201959 670.197448 \nL 436.836846 668.885201 \nL 436.580886 667.820669 \nL 436.41317 666.940217 \nL 436.058662 664.972691 \nL 435.965453 664.486517 \nL 435.583576 663.045719 \nL 435.34002 661.954347 \nL 435.161917 661.101369 \nL 434.78156 659.143574 \nL 434.73578 658.904416 \nL 434.366084 657.198093 \nL 434.12167 655.87549 \nL 433.984854 655.241381 \nL 433.587167 653.290597 \nL 433.532108 653.013384 \nL 433.251856 651.319182 \nL 432.935993 649.341256 \nL 432.928982 649.295789 \nL 432.575375 647.379044 \nL 432.353638 645.96625 \nL 432.272411 645.397326 \nL 431.992535 643.408043 \nL 431.768544 642.028329 \nL 431.663426 641.435765 \nL 431.383179 639.447035 \nL 431.192295 637.828889 \nL 431.142477 637.444791 \nL 430.914409 635.438476 \nL 430.659595 633.441393 \nL 430.621105 633.099384 \nL 430.490409 631.41495 \nL 430.412102 629.357057 \nL 430.448023 627.25956 \nL 430.621105 625.816281 \nL 431.0392 627.05523 \nL 431.192295 627.34899 \nL 431.768544 628.155339 \nL 431.893121 628.84676 \nL 432.277005 630.800457 \nL 432.353638 631.142496 \nL 432.799321 632.707462 \nL 432.928982 633.046326 \nL 433.263602 634.63486 \nL 433.532108 635.707002 \nL 433.72579 636.563459 \nL 434.12167 638.164398 \nL 434.186538 638.493052 \nL 434.610909 640.435474 \nL 434.73578 640.901254 \nL 435.052267 642.372671 \nL 435.34002 643.616936 \nL 435.488727 644.311924 \nL 435.955556 646.241503 \nL 435.965453 646.27602 \nL 436.362279 648.191705 \nL 436.580886 649.267931 \nL 436.772068 650.141195 \nL 437.201959 651.927521 \nL 437.234091 652.073827 \nL 437.651262 654.021848 \nL 437.844898 654.881807 \nL 438.095415 655.961388 \nL 438.473563 657.644958 \nL 438.533833 657.903189 \nL 438.990272 659.839701 \nL 439.124484 660.352807 \nL 439.4404 661.778747 \nL 439.769144 663.412153 \nL 439.847917 663.731918 \nL 440.305566 665.669424 \nL 440.419853 666.141951 \nL 440.779476 667.602236 \nL 441.093619 668.951349 \nL 441.242105 669.539069 \nL 441.672783 671.486584 \nL 441.752572 671.86687 \nL 442.17486 673.411946 \nL 442.447944 674.48318 \nL 442.660559 675.342963 \nL 443.096772 677.290052 \nL 443.128445 677.433027 \nL 443.586849 679.220799 \nL 443.81113 680.27377 \nL 444.077208 681.151915 \nL 444.527051 682.937561 \nL 444.562365 683.08506 \nL 444.978141 685.040524 \nL 445.232246 686.376638 \nL 445.368695 687.004057 \nL 445.71264 688.982433 \nL 445.944408 690.622263 \nL 446.04071 690.965879 \nL 446.41091 692.936679 \nL 446.625645 694.955454 \nL 446.66364 695.606911 \nL 446.741247 697.004941 \nL 446.799996 699.071943 \nL 446.790831 701.1598 \nz\n\" style=\"fill:#ffffff;\"/>\n   </g>\n   <g id=\"PathCollection_30\">\n    <path clip-path=\"url(#p224db4f40e)\" d=\"M 453.542569 728.320373 \nL 454.177896 726.049064 \nL 454.336571 723.917501 \nL 454.016601 721.926268 \nL 453.538273 720.68465 \nL 453.432496 720.012637 \nL 452.758436 718.126257 \nL 452.744742 718.104994 \nL 452.251931 716.191252 \nL 451.959428 715.433988 \nL 451.264941 714.399685 \nL 451.182203 714.284519 \nL 450.40813 713.739299 \nL 449.819628 712.748067 \nL 449.646762 712.479537 \nL 448.897833 711.725526 \nL 448.123741 712.569697 \nL 448.01312 713.295678 \nL 447.843483 715.432551 \nL 447.760865 717.542837 \nL 447.708386 719.643914 \nL 447.667472 721.741457 \nL 447.629727 723.838033 \nL 447.589977 725.93522 \nL 447.543484 728.034468 \nL 447.483591 730.137811 \nL 447.396191 732.249557 \nL 447.390048 732.375398 \nL 447.218505 734.389153 \nL 446.66364 736.506592 \nL 446.621762 736.657501 \nL 445.944408 738.22849 \nL 445.667183 739.037549 \nL 445.232246 740.040586 \nL 444.527051 741.379444 \nL 444.496921 741.486691 \nL 443.81113 743.671654 \nL 443.777261 743.797184 \nL 443.128445 745.945233 \nL 443.065827 746.106238 \nL 442.447944 747.701752 \nL 442.127925 748.488389 \nL 441.752572 749.444454 \nL 441.258692 750.850427 \nL 441.093619 751.348378 \nL 440.419853 752.966641 \nL 440.309597 753.239906 \nL 439.769144 754.944652 \nL 439.545196 755.571714 \nL 439.159633 757.781636 \nL 439.769144 759.44536 \nL 439.944898 759.612605 \nL 440.419853 759.690904 \nL 441.093619 759.992083 \nL 441.752572 759.61473 \nL 442.447944 759.275041 \nL 443.128445 758.970377 \nL 443.489967 758.482904 \nL 443.81113 757.96199 \nL 444.527051 756.869377 \nL 445.117721 755.888466 \nL 445.232246 755.650958 \nL 445.855064 753.574579 \nL 445.944408 753.172614 \nL 446.411248 751.317762 \nL 446.66364 749.937177 \nL 446.806002 749.111117 \nL 447.084848 746.940449 \nL 447.30611 744.787464 \nL 447.390048 743.780725 \nL 447.495626 742.644388 \nL 447.735898 740.485932 \nL 448.123741 738.931215 \nL 448.427732 738.18998 \nL 448.897833 737.180002 \nL 449.646762 737.402718 \nL 450.40813 736.354856 \nL 451.094865 735.300893 \nL 451.182203 735.139628 \nL 451.959428 734.17413 \nL 452.590619 732.771251 \nL 452.744742 732.231458 \nL 453.185469 730.510655 \nL 453.538273 728.330159 \nz\nM 452.744742 728.019146 \nL 452.703956 728.567588 \nL 452.346003 730.758679 \nL 451.959428 732.051007 \nL 451.182203 733.110649 \nL 451.147527 733.200087 \nL 450.40813 734.673073 \nL 449.738245 735.708021 \nL 449.646762 735.836762 \nL 449.569074 735.759041 \nL 448.897833 734.231288 \nL 448.123741 735.194703 \nL 447.948312 734.165904 \nL 447.845532 732.112265 \nL 447.823146 730.034062 \nL 447.827718 727.947623 \nL 447.845771 725.857064 \nL 447.874078 723.763373 \nL 447.914195 721.666073 \nL 447.972278 719.563284 \nL 448.062769 717.450593 \nL 448.123741 716.517827 \nL 448.565604 715.212603 \nL 448.897833 714.529643 \nL 449.646762 713.974211 \nL 450.104901 714.747275 \nL 450.40813 715.330634 \nL 451.182203 716.232742 \nL 451.342042 716.461767 \nL 451.959428 717.471556 \nL 452.187709 718.295321 \nL 452.545318 720.274417 \nL 452.744742 722.167768 \nL 452.769316 722.293135 \nL 452.932312 724.330139 \nL 452.89976 726.424775 \nz\nM 446.66364 747.086738 \nL 446.386998 749.240203 \nL 445.985183 751.449245 \nL 445.944408 751.611253 \nL 445.482331 753.690173 \nL 445.232246 754.523918 \nL 444.527051 755.989326 \nL 444.477068 756.088206 \nL 443.81113 757.137043 \nL 443.128445 758.245449 \nL 442.447944 758.542828 \nL 441.752572 758.893375 \nL 441.314354 759.172823 \nL 441.093619 759.292327 \nL 441.032845 759.262809 \nL 440.419853 758.390409 \nL 439.851571 757.55765 \nL 440.0868 755.396774 \nL 440.419853 754.373268 \nL 440.762151 753.094535 \nL 441.093619 752.295891 \nL 441.609984 750.73825 \nL 441.752572 750.332331 \nL 442.447944 748.587818 \nL 442.530311 748.360639 \nL 443.128445 746.855326 \nL 443.418225 745.99523 \nL 443.81113 744.69952 \nL 444.170701 743.673906 \nL 444.527051 742.541633 \nL 445.232246 741.354565 \nL 445.320111 741.230227 \nL 445.944408 740.11668 \nL 446.66364 740.147048 \nL 446.807632 740.770447 \nL 446.898043 742.827727 \nL 446.828113 744.934243 \nL 446.665852 747.06911 \nz\n\" style=\"fill:#ffffff;\"/>\n    <path clip-path=\"url(#p224db4f40e)\" d=\"M 446.790831 701.1598 \nL 446.799996 699.071943 \nL 446.741247 697.004941 \nL 446.66364 695.606911 \nL 446.625645 694.955454 \nL 446.41091 692.936679 \nL 446.04071 690.965879 \nL 445.944408 690.622263 \nL 445.71264 688.982433 \nL 445.368695 687.004057 \nL 445.232246 686.376638 \nL 444.978141 685.040524 \nL 444.562365 683.08506 \nL 444.527051 682.937561 \nL 444.077208 681.151915 \nL 443.81113 680.27377 \nL 443.586849 679.220799 \nL 443.128445 677.433027 \nL 443.096772 677.290052 \nL 442.660559 675.342963 \nL 442.447944 674.48318 \nL 442.17486 673.411946 \nL 441.752572 671.86687 \nL 441.672783 671.486584 \nL 441.242105 669.539069 \nL 441.093619 668.951349 \nL 440.779476 667.602236 \nL 440.419853 666.141951 \nL 440.305566 665.669424 \nL 439.847917 663.731918 \nL 439.769144 663.412153 \nL 439.4404 661.778747 \nL 439.124484 660.352807 \nL 438.990272 659.839701 \nL 438.533833 657.903189 \nL 438.473563 657.644958 \nL 438.095415 655.961388 \nL 437.844898 654.881807 \nL 437.651262 654.021848 \nL 437.234091 652.073827 \nL 437.201959 651.927521 \nL 436.772068 650.141195 \nL 436.580886 649.267931 \nL 436.362279 648.191705 \nL 435.965453 646.27602 \nL 435.955556 646.241503 \nL 435.488727 644.311924 \nL 435.34002 643.616936 \nL 435.052267 642.372671 \nL 434.73578 640.901254 \nL 434.610909 640.435474 \nL 434.186538 638.493052 \nL 434.12167 638.164398 \nL 433.72579 636.563459 \nL 433.532108 635.707002 \nL 433.263602 634.63486 \nL 432.928982 633.046326 \nL 432.799321 632.707462 \nL 432.353638 631.142496 \nL 432.277005 630.800457 \nL 431.893121 628.84676 \nL 431.768544 628.155339 \nL 431.192295 627.34899 \nL 431.0392 627.05523 \nL 430.621105 625.816281 \nL 430.448023 627.25956 \nL 430.412102 629.357057 \nL 430.490409 631.41495 \nL 430.621105 633.099384 \nL 430.659595 633.441393 \nL 430.914409 635.438476 \nL 431.142477 637.444791 \nL 431.192295 637.828889 \nL 431.383179 639.447035 \nL 431.663426 641.435765 \nL 431.768544 642.028329 \nL 431.992535 643.408043 \nL 432.272411 645.397326 \nL 432.353638 645.96625 \nL 432.575375 647.379044 \nL 432.928982 649.295789 \nL 432.935993 649.341256 \nL 433.251856 651.319182 \nL 433.532108 653.013384 \nL 433.587167 653.290597 \nL 433.984854 655.241381 \nL 434.12167 655.87549 \nL 434.366084 657.198093 \nL 434.73578 658.904416 \nL 434.78156 659.143574 \nL 435.161917 661.101369 \nL 435.34002 661.954347 \nL 435.583576 663.045719 \nL 435.965453 664.486517 \nL 436.058662 664.972691 \nL 436.41317 666.940217 \nL 436.580886 667.820669 \nL 436.836846 668.885201 \nL 437.201959 670.197448 \nL 437.329309 670.807934 \nL 437.747488 672.755624 \nL 437.844898 673.167939 \nL 438.174817 674.700811 \nL 438.473563 676.00582 \nL 438.626425 676.638441 \nL 439.124484 678.470892 \nL 439.14321 678.555343 \nL 439.540885 680.511583 \nL 439.769144 681.579698 \nL 439.975738 682.456093 \nL 440.419853 684.29015 \nL 440.444028 684.390205 \nL 440.887338 686.33301 \nL 441.093619 687.186035 \nL 441.332486 688.27559 \nL 441.729818 690.233753 \nL 441.752572 690.343222 \nL 442.225907 692.161105 \nL 442.447944 693.028254 \nL 442.703888 694.094642 \nL 443.128445 695.97856 \nL 443.146281 696.039803 \nL 443.607875 697.979563 \nL 443.81113 698.972037 \nL 444.105029 699.908584 \nL 444.527051 701.592425 \nL 444.604181 701.83741 \nL 445.096596 703.768989 \nL 445.232246 704.390706 \nL 445.696983 705.667628 \nL 445.944408 706.706552 \nL 446.337337 705.469638 \nL 446.648257 703.288646 \nL 446.66364 703.054255 \nz\nM 445.944408 704.901614 \nL 445.502612 703.642865 \nL 445.232246 703.202492 \nL 444.883497 701.75036 \nL 444.527051 700.618198 \nL 444.331428 699.837675 \nL 443.81113 698.179678 \nL 443.760321 697.931583 \nL 443.319609 695.98525 \nL 443.128445 695.328885 \nL 442.840557 694.05142 \nL 442.447944 692.415602 \nL 442.370974 692.115003 \nL 441.871089 690.188822 \nL 441.752572 689.77336 \nL 441.440075 688.241234 \nL 441.093619 686.660925 \nL 441.005179 686.295201 \nL 440.555769 684.354353 \nL 440.419853 683.791826 \nL 440.087669 682.420009 \nL 439.769144 681.068788 \nL 439.643 680.478509 \nL 439.242471 678.523194 \nL 439.124484 677.99111 \nL 438.746233 676.599454 \nL 438.473563 675.471008 \nL 438.288722 674.663572 \nL 437.86924 672.715671 \nL 437.844898 672.605846 \nL 437.441348 670.771134 \nL 437.201959 669.623559 \nL 436.983094 668.836942 \nL 436.580886 667.164168 \nL 436.530798 666.901225 \nL 436.175795 664.933862 \nL 435.965453 663.836725 \nL 435.741832 662.993017 \nL 435.34002 661.192502 \nL 435.310605 661.051626 \nL 434.930772 659.093656 \nL 434.73578 658.075 \nL 434.533591 657.141798 \nL 434.170923 655.17864 \nL 434.12167 654.879794 \nL 433.789171 653.222401 \nL 433.532108 651.928126 \nL 433.421842 651.261536 \nL 433.120681 649.278624 \nL 432.928982 648.035384 \nL 432.79415 647.30452 \nL 432.491109 645.322706 \nL 432.353638 644.285509 \nL 432.225778 643.328239 \nL 431.948889 641.337934 \nL 431.768544 640.246978 \nL 431.644699 639.357158 \nL 431.43555 637.343995 \nL 431.27325 635.31473 \nL 431.192295 633.681533 \nL 431.164158 633.267223 \nL 431.192295 631.710535 \nL 431.216881 631.164018 \nL 431.768544 630.065313 \nL 431.922728 630.921672 \nL 432.353638 632.844976 \nL 432.357351 632.858015 \nL 432.928982 634.351945 \nL 433.006914 634.721908 \nL 433.47445 636.648399 \nL 433.532108 636.841807 \nL 433.942241 638.575428 \nL 434.12167 639.234256 \nL 434.393317 640.508601 \nL 434.73578 641.786015 \nL 434.874738 642.432062 \nL 435.319978 644.368151 \nL 435.34002 644.447038 \nL 435.770768 646.303041 \nL 435.965453 646.982013 \nL 436.225433 648.237069 \nL 436.580886 649.987007 \nL 436.625248 650.189643 \nL 437.080967 652.124306 \nL 437.201959 652.558447 \nL 437.526064 654.062969 \nL 437.844898 655.478943 \nL 437.96662 656.003495 \nL 438.404396 657.945415 \nL 438.473563 658.2387 \nL 438.863391 659.88099 \nL 439.124484 660.87918 \nL 439.33159 661.81399 \nL 439.727781 663.77071 \nL 439.769144 663.970152 \nL 440.186996 665.707648 \nL 440.419853 666.670407 \nL 440.658864 667.640935 \nL 441.093619 669.508026 \nL 441.111962 669.580628 \nL 441.559366 671.522801 \nL 441.752572 672.443652 \nL 442.029817 673.45804 \nL 442.447944 675.098241 \nL 442.519493 675.387575 \nL 442.964202 677.331977 \nL 443.128445 678.073383 \nL 443.434916 679.268619 \nL 443.81113 681.034895 \nL 443.866576 681.217886 \nL 444.36635 683.146398 \nL 444.527051 683.874893 \nL 444.788803 685.099532 \nL 445.160894 687.068611 \nL 445.232246 687.478976 \nL 445.511967 689.044667 \nL 445.7925 691.042708 \nL 445.944408 692.32644 \nL 446.083299 693.037779 \nL 446.325412 695.048106 \nL 446.450187 697.094643 \nL 446.483838 699.169301 \nL 446.424527 701.272646 \nL 446.230603 703.417533 \nz\n\" style=\"fill:#ffffff;\"/>\n   </g>\n   <g id=\"PathCollection_31\">\n    <path clip-path=\"url(#p224db4f40e)\" d=\"M 452.89976 726.424775 \nL 452.932312 724.330139 \nL 452.769316 722.293135 \nL 452.744742 722.167768 \nL 452.545318 720.274417 \nL 452.187709 718.295321 \nL 451.959428 717.471556 \nL 451.342042 716.461767 \nL 451.182203 716.232742 \nL 450.40813 715.330634 \nL 450.104901 714.747275 \nL 449.646762 713.974211 \nL 448.897833 714.529643 \nL 448.565604 715.212603 \nL 448.123741 716.517827 \nL 448.062769 717.450593 \nL 447.972278 719.563284 \nL 447.914195 721.666073 \nL 447.874078 723.763373 \nL 447.845771 725.857064 \nL 447.827718 727.947623 \nL 447.823146 730.034062 \nL 447.845532 732.112265 \nL 447.948312 734.165904 \nL 448.123741 735.194703 \nL 448.897833 734.231288 \nL 449.569074 735.759041 \nL 449.646762 735.836762 \nL 449.738245 735.708021 \nL 450.40813 734.673073 \nL 451.147527 733.200087 \nL 451.182203 733.110649 \nL 451.959428 732.051007 \nL 452.346003 730.758679 \nL 452.703956 728.567588 \nL 452.744742 728.019146 \nz\nM 451.959428 729.334056 \nL 451.182203 730.630834 \nL 451.045754 731.145509 \nL 450.40813 732.824127 \nL 450.026262 733.536318 \nL 449.646762 734.140551 \nL 449.463286 733.705991 \nL 449.040658 731.748759 \nL 448.897833 730.330266 \nL 448.479983 729.833927 \nL 448.123741 728.41073 \nL 448.111953 727.860777 \nL 448.101565 725.778909 \nL 448.118429 723.688713 \nL 448.123741 723.424238 \nL 448.302652 721.547663 \nL 448.642469 719.359322 \nL 448.897833 718.286161 \nL 449.063002 717.146704 \nL 449.646762 715.572646 \nL 450.277219 716.780469 \nL 450.40813 717.085445 \nL 451.182203 718.561316 \nL 451.199921 718.589133 \nL 451.959428 720.086991 \nL 452.024245 720.428792 \nL 452.250499 722.446804 \nL 452.339095 724.505598 \nL 452.291301 726.6048 \nL 452.071175 728.755058 \nz\n\" style=\"fill:#ffffff;\"/>\n    <path clip-path=\"url(#p224db4f40e)\" d=\"M 446.665852 747.06911 \nL 446.828113 744.934243 \nL 446.898043 742.827727 \nL 446.807632 740.770447 \nL 446.66364 740.147048 \nL 445.944408 740.11668 \nL 445.320111 741.230227 \nL 445.232246 741.354565 \nL 444.527051 742.541633 \nL 444.170701 743.673906 \nL 443.81113 744.69952 \nL 443.418225 745.99523 \nL 443.128445 746.855326 \nL 442.530311 748.360639 \nL 442.447944 748.587818 \nL 441.752572 750.332331 \nL 441.609984 750.73825 \nL 441.093619 752.295891 \nL 440.762151 753.094535 \nL 440.419853 754.373268 \nL 440.0868 755.396774 \nL 439.851571 757.55765 \nL 440.419853 758.390409 \nL 441.032845 759.262809 \nL 441.093619 759.292327 \nL 441.314354 759.172823 \nL 441.752572 758.893375 \nL 442.447944 758.542828 \nL 443.128445 758.245449 \nL 443.81113 757.137043 \nL 444.477068 756.088206 \nL 444.527051 755.989326 \nL 445.232246 754.523918 \nL 445.482331 753.690173 \nL 445.944408 751.611253 \nL 445.985183 751.449245 \nL 446.386998 749.240203 \nL 446.66364 747.086738 \nz\nM 445.944408 749.445253 \nL 445.605642 751.566889 \nL 445.232246 753.25024 \nL 445.033559 753.829653 \nL 444.527051 754.900697 \nL 443.823269 756.292977 \nL 443.81113 756.312095 \nL 443.128445 757.423119 \nL 442.447944 757.647794 \nL 441.752572 757.890178 \nL 441.093619 758.108342 \nL 440.619823 757.310286 \nL 440.622111 755.224509 \nL 441.093619 753.447778 \nL 441.22456 752.946369 \nL 441.752572 751.429932 \nL 442.040564 750.601195 \nL 442.447944 749.611464 \nL 442.949517 748.228064 \nL 443.128445 747.77776 \nL 443.765872 745.885811 \nL 443.81113 745.736561 \nL 444.527051 743.745641 \nL 444.734112 743.497765 \nL 445.232246 742.875872 \nL 445.944408 742.579184 \nL 446.115087 743.068987 \nL 446.277823 745.10381 \nL 446.192086 747.215311 \nL 445.957592 749.372718 \nz\n\" style=\"fill:#ffffff;\"/>\n    <path clip-path=\"url(#p224db4f40e)\" d=\"M 446.230603 703.417533 \nL 446.424527 701.272646 \nL 446.483838 699.169301 \nL 446.450187 697.094643 \nL 446.325412 695.048106 \nL 446.083299 693.037779 \nL 445.944408 692.32644 \nL 445.7925 691.042708 \nL 445.511967 689.044667 \nL 445.232246 687.478976 \nL 445.160894 687.068611 \nL 444.788803 685.099532 \nL 444.527051 683.874893 \nL 444.36635 683.146398 \nL 443.866576 681.217886 \nL 443.81113 681.034895 \nL 443.434916 679.268619 \nL 443.128445 678.073383 \nL 442.964202 677.331977 \nL 442.519493 675.387575 \nL 442.447944 675.098241 \nL 442.029817 673.45804 \nL 441.752572 672.443652 \nL 441.559366 671.522801 \nL 441.111962 669.580628 \nL 441.093619 669.508026 \nL 440.658864 667.640935 \nL 440.419853 666.670407 \nL 440.186996 665.707648 \nL 439.769144 663.970152 \nL 439.727781 663.77071 \nL 439.33159 661.81399 \nL 439.124484 660.87918 \nL 438.863391 659.88099 \nL 438.473563 658.2387 \nL 438.404396 657.945415 \nL 437.96662 656.003495 \nL 437.844898 655.478943 \nL 437.526064 654.062969 \nL 437.201959 652.558447 \nL 437.080967 652.124306 \nL 436.625248 650.189643 \nL 436.580886 649.987007 \nL 436.225433 648.237069 \nL 435.965453 646.982013 \nL 435.770768 646.303041 \nL 435.34002 644.447038 \nL 435.319978 644.368151 \nL 434.874738 642.432062 \nL 434.73578 641.786015 \nL 434.393317 640.508601 \nL 434.12167 639.234256 \nL 433.942241 638.575428 \nL 433.532108 636.841807 \nL 433.47445 636.648399 \nL 433.006914 634.721908 \nL 432.928982 634.351945 \nL 432.357351 632.858015 \nL 432.353638 632.844976 \nL 431.922728 630.921672 \nL 431.768544 630.065313 \nL 431.216881 631.164018 \nL 431.192295 631.710535 \nL 431.164158 633.267223 \nL 431.192295 633.681533 \nL 431.27325 635.31473 \nL 431.43555 637.343995 \nL 431.644699 639.357158 \nL 431.768544 640.246978 \nL 431.948889 641.337934 \nL 432.225778 643.328239 \nL 432.353638 644.285509 \nL 432.491109 645.322706 \nL 432.79415 647.30452 \nL 432.928982 648.035384 \nL 433.120681 649.278624 \nL 433.421842 651.261536 \nL 433.532108 651.928126 \nL 433.789171 653.222401 \nL 434.12167 654.879794 \nL 434.170923 655.17864 \nL 434.533591 657.141798 \nL 434.73578 658.075 \nL 434.930772 659.093656 \nL 435.310605 661.051626 \nL 435.34002 661.192502 \nL 435.741832 662.993017 \nL 435.965453 663.836725 \nL 436.175795 664.933862 \nL 436.530798 666.901225 \nL 436.580886 667.164168 \nL 436.983094 668.836942 \nL 437.201959 669.623559 \nL 437.441348 670.771134 \nL 437.844898 672.605846 \nL 437.86924 672.715671 \nL 438.288722 674.663572 \nL 438.473563 675.471008 \nL 438.746233 676.599454 \nL 439.124484 677.99111 \nL 439.242471 678.523194 \nL 439.643 680.478509 \nL 439.769144 681.068788 \nL 440.087669 682.420009 \nL 440.419853 683.791826 \nL 440.555769 684.354353 \nL 441.005179 686.295201 \nL 441.093619 686.660925 \nL 441.440075 688.241234 \nL 441.752572 689.77336 \nL 441.871089 690.188822 \nL 442.370974 692.115003 \nL 442.447944 692.415602 \nL 442.840557 694.05142 \nL 443.128445 695.328885 \nL 443.319609 695.98525 \nL 443.760321 697.931583 \nL 443.81113 698.179678 \nL 444.331428 699.837675 \nL 444.527051 700.618198 \nL 444.883497 701.75036 \nL 445.232246 703.202492 \nL 445.502612 703.642865 \nL 445.944408 704.901614 \nz\nM 445.944408 702.600828 \nL 445.232246 701.952417 \nL 445.162813 701.663309 \nL 444.582211 699.759215 \nL 444.527051 699.627033 \nL 444.007692 697.854027 \nL 443.81113 697.360102 \nL 443.492936 695.930697 \nL 443.128445 694.679211 \nL 442.977226 694.008198 \nL 442.518924 692.068095 \nL 442.447944 691.802231 \nL 442.018044 690.142121 \nL 441.752572 689.211508 \nL 441.547664 688.206877 \nL 441.123371 686.257324 \nL 441.093619 686.138788 \nL 440.66751 684.3185 \nL 440.419853 683.293501 \nL 440.1996 682.383924 \nL 439.769144 680.557878 \nL 439.745115 680.445435 \nL 439.341731 678.491045 \nL 439.124484 677.511327 \nL 438.866041 676.560467 \nL 438.473563 674.936195 \nL 438.402628 674.626332 \nL 437.982119 672.678767 \nL 437.844898 672.059667 \nL 437.553388 670.734334 \nL 437.201959 669.049671 \nL 437.129343 668.788682 \nL 436.660529 666.85834 \nL 436.580886 666.489838 \nL 436.292929 664.895034 \nL 435.965453 663.186933 \nL 435.900088 662.940315 \nL 435.461651 661.00128 \nL 435.34002 660.384567 \nL 435.079983 659.043738 \nL 434.73578 657.245584 \nL 434.701097 657.085504 \nL 434.338813 655.122216 \nL 434.12167 653.804674 \nL 433.991176 653.154204 \nL 433.614591 651.196297 \nL 433.532108 650.760231 \nL 433.305369 649.215992 \nL 433.015277 647.229327 \nL 432.928982 646.630905 \nL 432.722682 645.243823 \nL 432.476572 643.242615 \nL 432.353638 642.054192 \nL 432.256941 641.232534 \nL 432.03245 639.224301 \nL 431.768544 637.644425 \nL 431.730034 637.242789 \nL 431.643837 635.18737 \nL 431.716513 633.077351 \nL 431.768544 632.762726 \nL 431.819067 633.042182 \nL 432.273411 634.971772 \nL 432.353638 635.141698 \nL 432.928982 635.85324 \nL 433.137275 636.762742 \nL 433.532108 638.087163 \nL 433.66941 638.667535 \nL 434.12167 640.328143 \nL 434.175726 640.581728 \nL 434.670286 642.500561 \nL 434.73578 642.691623 \nL 435.119139 644.435341 \nL 435.34002 645.304785 \nL 435.585981 646.364579 \nL 435.965453 647.688006 \nL 436.088586 648.282432 \nL 436.480539 650.237546 \nL 436.580886 650.715444 \nL 436.922144 652.176715 \nL 437.201959 653.180744 \nL 437.400867 654.104091 \nL 437.8374 656.045752 \nL 437.844898 656.076071 \nL 438.278319 657.986633 \nL 438.473563 658.814522 \nL 438.736509 659.922278 \nL 439.124484 661.405553 \nL 439.22278 661.849232 \nL 439.624538 663.804149 \nL 439.769144 664.501406 \nL 440.068427 665.745872 \nL 440.419853 667.198862 \nL 440.538252 667.679633 \nL 440.992251 669.619009 \nL 441.093619 670.038167 \nL 441.445949 671.559018 \nL 441.752572 673.020435 \nL 441.884773 673.504134 \nL 442.377536 675.432579 \nL 442.447944 675.713565 \nL 442.831633 677.373903 \nL 443.128445 678.71374 \nL 443.282983 679.316438 \nL 443.704647 681.268766 \nL 443.81113 681.829596 \nL 444.171392 683.207459 \nL 444.527051 684.819742 \nL 444.599465 685.15854 \nL 444.965367 687.129547 \nL 445.232246 688.664444 \nL 445.311294 689.106901 \nL 445.589442 691.105682 \nL 445.815343 693.120667 \nL 445.944408 694.501918 \nL 446.025178 695.140757 \nL 446.157253 697.185042 \nL 446.179221 699.263305 \nL 446.084112 701.377698 \nz\n\" style=\"fill:#ffffff;\"/>\n   </g>\n   <g id=\"PathCollection_32\">\n    <path clip-path=\"url(#p224db4f40e)\" d=\"M 452.071175 728.755058 \nL 452.291301 726.6048 \nL 452.339095 724.505598 \nL 452.250499 722.446804 \nL 452.024245 720.428792 \nL 451.959428 720.086991 \nL 451.199921 718.589133 \nL 451.182203 718.561316 \nL 450.40813 717.085445 \nL 450.277219 716.780469 \nL 449.646762 715.572646 \nL 449.063002 717.146704 \nL 448.897833 718.286161 \nL 448.642469 719.359322 \nL 448.302652 721.547663 \nL 448.123741 723.424238 \nL 448.118429 723.688713 \nL 448.101565 725.778909 \nL 448.111953 727.860777 \nL 448.123741 728.41073 \nL 448.479983 729.833927 \nL 448.897833 730.330266 \nL 449.040658 731.748759 \nL 449.463286 733.705991 \nL 449.646762 734.140551 \nL 450.026262 733.536318 \nL 450.40813 732.824127 \nL 451.045754 731.145509 \nL 451.182203 730.630834 \nL 451.959428 729.334056 \nz\nM 451.182203 726.503365 \nL 451.15515 726.942677 \nL 450.804148 729.13279 \nL 450.40813 730.586927 \nL 450.064048 731.439906 \nL 449.646762 732.237905 \nL 449.493234 731.611891 \nL 449.21706 729.610369 \nL 449.079271 727.566997 \nL 449.018757 725.500255 \nL 449.017652 723.415546 \nL 449.084762 721.310209 \nL 449.271511 719.16869 \nL 449.646762 717.370801 \nL 450.288097 718.862239 \nL 450.40813 719.235811 \nL 450.90213 720.76329 \nL 451.182203 722.567942 \nL 451.242467 722.746548 \nL 451.447604 724.7705 \nz\n\" style=\"fill:#ffffff;\"/>\n    <path clip-path=\"url(#p224db4f40e)\" d=\"M 445.957592 749.372718 \nL 446.192086 747.215311 \nL 446.277823 745.10381 \nL 446.115087 743.068987 \nL 445.944408 742.579184 \nL 445.232246 742.875872 \nL 444.734112 743.497765 \nL 444.527051 743.745641 \nL 443.81113 745.736561 \nL 443.765872 745.885811 \nL 443.128445 747.77776 \nL 442.949517 748.228064 \nL 442.447944 749.611464 \nL 442.040564 750.601195 \nL 441.752572 751.429932 \nL 441.22456 752.946369 \nL 441.093619 753.447778 \nL 440.622111 755.224509 \nL 440.619823 757.310286 \nL 441.093619 758.108342 \nL 441.752572 757.890178 \nL 442.447944 757.647794 \nL 443.128445 757.423119 \nL 443.81113 756.312095 \nL 443.823269 756.292977 \nL 444.527051 754.900697 \nL 445.033559 753.829653 \nL 445.232246 753.25024 \nL 445.605642 751.566889 \nL 445.944408 749.445253 \nz\nM 445.232246 751.673183 \nL 445.230099 751.683358 \nL 444.527051 753.713949 \nL 444.408116 754.024759 \nL 443.81113 755.153802 \nL 443.196348 756.490275 \nL 443.128445 756.600788 \nL 442.447944 756.752761 \nL 442.223364 756.798228 \nL 441.752572 756.777282 \nL 441.136464 755.059543 \nL 441.710677 752.791138 \nL 441.752572 752.670816 \nL 442.447944 750.742628 \nL 442.532983 750.444837 \nL 443.128445 748.87831 \nL 443.432849 748.075669 \nL 443.81113 747.017896 \nL 444.333406 745.707989 \nL 444.527051 745.183595 \nL 445.232246 744.795197 \nL 445.524669 745.336873 \nL 445.678089 747.374336 \nL 445.53375 749.504142 \nz\n\" style=\"fill:#ffffff;\"/>\n    <path clip-path=\"url(#p224db4f40e)\" d=\"M 446.084112 701.377698 \nL 446.179221 699.263305 \nL 446.157253 697.185042 \nL 446.025178 695.140757 \nL 445.944408 694.501918 \nL 445.815343 693.120667 \nL 445.589442 691.105682 \nL 445.311294 689.106901 \nL 445.232246 688.664444 \nL 444.965367 687.129547 \nL 444.599465 685.15854 \nL 444.527051 684.819742 \nL 444.171392 683.207459 \nL 443.81113 681.829596 \nL 443.704647 681.268766 \nL 443.282983 679.316438 \nL 443.128445 678.71374 \nL 442.831633 677.373903 \nL 442.447944 675.713565 \nL 442.377536 675.432579 \nL 441.884773 673.504134 \nL 441.752572 673.020435 \nL 441.445949 671.559018 \nL 441.093619 670.038167 \nL 440.992251 669.619009 \nL 440.538252 667.679633 \nL 440.419853 667.198862 \nL 440.068427 665.745872 \nL 439.769144 664.501406 \nL 439.624538 663.804149 \nL 439.22278 661.849232 \nL 439.124484 661.405553 \nL 438.736509 659.922278 \nL 438.473563 658.814522 \nL 438.278319 657.986633 \nL 437.844898 656.076071 \nL 437.8374 656.045752 \nL 437.400867 654.104091 \nL 437.201959 653.180744 \nL 436.922144 652.176715 \nL 436.580886 650.715444 \nL 436.480539 650.237546 \nL 436.088586 648.282432 \nL 435.965453 647.688006 \nL 435.585981 646.364579 \nL 435.34002 645.304785 \nL 435.119139 644.435341 \nL 434.73578 642.691623 \nL 434.670286 642.500561 \nL 434.175726 640.581728 \nL 434.12167 640.328143 \nL 433.66941 638.667535 \nL 433.532108 638.087163 \nL 433.137275 636.762742 \nL 432.928982 635.85324 \nL 432.353638 635.141698 \nL 432.273411 634.971772 \nL 431.819067 633.042182 \nL 431.768544 632.762726 \nL 431.716513 633.077351 \nL 431.643837 635.18737 \nL 431.730034 637.242789 \nL 431.768544 637.644425 \nL 432.03245 639.224301 \nL 432.256941 641.232534 \nL 432.353638 642.054192 \nL 432.476572 643.242615 \nL 432.722682 645.243823 \nL 432.928982 646.630905 \nL 433.015277 647.229327 \nL 433.305369 649.215992 \nL 433.532108 650.760231 \nL 433.614591 651.196297 \nL 433.991176 653.154204 \nL 434.12167 653.804674 \nL 434.338813 655.122216 \nL 434.701097 657.085504 \nL 434.73578 657.245584 \nL 435.079983 659.043738 \nL 435.34002 660.384567 \nL 435.461651 661.00128 \nL 435.900088 662.940315 \nL 435.965453 663.186933 \nL 436.292929 664.895034 \nL 436.580886 666.489838 \nL 436.660529 666.85834 \nL 437.129343 668.788682 \nL 437.201959 669.049671 \nL 437.553388 670.734334 \nL 437.844898 672.059667 \nL 437.982119 672.678767 \nL 438.402628 674.626332 \nL 438.473563 674.936195 \nL 438.866041 676.560467 \nL 439.124484 677.511327 \nL 439.341731 678.491045 \nL 439.745115 680.445435 \nL 439.769144 680.557878 \nL 440.1996 682.383924 \nL 440.419853 683.293501 \nL 440.66751 684.3185 \nL 441.093619 686.138788 \nL 441.123371 686.257324 \nL 441.547664 688.206877 \nL 441.752572 689.211508 \nL 442.018044 690.142121 \nL 442.447944 691.802231 \nL 442.518924 692.068095 \nL 442.977226 694.008198 \nL 443.128445 694.679211 \nL 443.492936 695.930697 \nL 443.81113 697.360102 \nL 444.007692 697.854027 \nL 444.527051 699.627033 \nL 444.582211 699.759215 \nL 445.162813 701.663309 \nL 445.232246 701.952417 \nL 445.944408 702.600828 \nz\nM 445.232246 700.484034 \nL 444.987982 699.632754 \nL 444.527051 698.528205 \nL 444.302518 697.761687 \nL 443.81113 696.526922 \nL 443.666263 695.876144 \nL 443.128445 694.029536 \nL 443.113895 693.964975 \nL 442.670132 692.020275 \nL 442.447944 691.188045 \nL 442.164999 690.095419 \nL 441.752572 688.649656 \nL 441.655254 688.172521 \nL 441.24262 686.219244 \nL 441.093619 685.625591 \nL 440.779251 684.282648 \nL 440.419853 682.795176 \nL 440.311531 682.34784 \nL 439.857877 680.409047 \nL 439.769144 680.045973 \nL 439.440991 678.458895 \nL 439.124484 677.031545 \nL 438.985848 676.52148 \nL 438.517976 674.588689 \nL 438.473563 674.392316 \nL 438.094998 672.641864 \nL 437.844898 671.513487 \nL 437.665427 670.697535 \nL 437.261879 668.745039 \nL 437.201959 668.456593 \nL 436.799234 666.81257 \nL 436.580886 665.802284 \nL 436.410062 664.856205 \nL 436.045734 662.891934 \nL 435.965453 662.497919 \nL 435.61328 660.950785 \nL 435.34002 659.565266 \nL 435.229195 658.993819 \nL 434.870309 657.028841 \nL 434.73578 656.307497 \nL 434.506703 655.065792 \nL 434.188681 653.087629 \nL 434.12167 652.622567 \nL 433.84937 651.117036 \nL 433.532108 649.439754 \nL 433.490057 649.153361 \nL 433.240181 647.153057 \nL 432.964166 645.161617 \nL 432.928982 644.878732 \nL 432.748662 643.14993 \nL 432.607086 641.113115 \nL 432.593035 639.032859 \nL 432.928982 637.732472 \nL 433.232788 638.815394 \nL 433.532108 639.511943 \nL 433.83629 640.696239 \nL 434.12167 641.59708 \nL 434.368834 642.601872 \nL 434.73578 643.672338 \nL 434.918299 644.502531 \nL 435.34002 646.162532 \nL 435.401193 646.426116 \nL 435.940174 648.331668 \nL 435.965453 648.401149 \nL 436.336742 650.285213 \nL 436.580886 651.447934 \nL 436.763321 652.229124 \nL 437.201959 653.80304 \nL 437.27567 654.145213 \nL 437.700857 656.0906 \nL 437.844898 656.673052 \nL 438.152241 658.027852 \nL 438.473563 659.390345 \nL 438.609628 659.963567 \nL 439.110464 661.885631 \nL 439.124484 661.932198 \nL 439.521294 663.837589 \nL 439.769144 665.032661 \nL 439.949858 665.784097 \nL 440.417531 667.718371 \nL 440.419853 667.727509 \nL 440.874251 669.65687 \nL 441.093619 670.563955 \nL 441.332532 671.595236 \nL 441.742374 673.549404 \nL 441.752572 673.599462 \nL 442.234661 675.477984 \nL 442.447944 676.329159 \nL 442.699063 677.415828 \nL 443.128445 679.354097 \nL 443.13105 679.364257 \nL 443.56012 681.314254 \nL 443.81113 682.636294 \nL 443.976434 683.26852 \nL 444.403177 685.219906 \nL 444.527051 685.873642 \nL 444.76984 687.190484 \nL 445.096742 689.173646 \nL 445.232246 690.057103 \nL 445.386383 691.168656 \nL 445.591291 693.190151 \nL 445.743002 695.228144 \nL 445.83484 697.284705 \nL 445.748055 699.396662 \nz\n\" style=\"fill:#ffffff;\"/>\n   </g>\n   <g id=\"PathCollection_33\">\n    <path clip-path=\"url(#p224db4f40e)\" d=\"M 451.447604 724.7705 \nL 451.242467 722.746548 \nL 451.182203 722.567942 \nL 450.90213 720.76329 \nL 450.40813 719.235811 \nL 450.288097 718.862239 \nL 449.646762 717.370801 \nL 449.271511 719.16869 \nL 449.084762 721.310209 \nL 449.017652 723.415546 \nL 449.018757 725.500255 \nL 449.079271 727.566997 \nL 449.21706 729.610369 \nL 449.493234 731.611891 \nL 449.646762 732.237905 \nL 450.064048 731.439906 \nL 450.40813 730.586927 \nL 450.804148 729.13279 \nL 451.15515 726.942677 \nL 451.182203 726.503365 \nz\nM 450.40813 727.164261 \nL 450.407931 727.166352 \nL 449.835165 729.423732 \nL 449.646762 729.896855 \nL 449.585932 729.498816 \nL 449.409397 727.46716 \nL 449.33773 725.403791 \nL 449.349422 723.315213 \nL 449.459581 721.196856 \nL 449.646762 719.664973 \nL 450.073012 721.011997 \nL 450.40813 722.715241 \nL 450.454293 722.982389 \nL 450.549615 725.038897 \nz\n\" style=\"fill:#ffffff;\"/>\n    <path clip-path=\"url(#p224db4f40e)\" d=\"M 445.53375 749.504142 \nL 445.678089 747.374336 \nL 445.524669 745.336873 \nL 445.232246 744.795197 \nL 444.527051 745.183595 \nL 444.333406 745.707989 \nL 443.81113 747.017896 \nL 443.432849 748.075669 \nL 443.128445 748.87831 \nL 442.532983 750.444837 \nL 442.447944 750.742628 \nL 441.752572 752.670816 \nL 441.710677 752.791138 \nL 441.136464 755.059543 \nL 441.752572 756.777282 \nL 442.223364 756.798228 \nL 442.447944 756.752761 \nL 443.128445 756.600788 \nL 443.196348 756.490275 \nL 443.81113 755.153802 \nL 444.408116 754.024759 \nL 444.527051 753.713949 \nL 445.230099 751.683358 \nL 445.232246 751.673183 \nz\nM 444.527051 752.016481 \nL 443.81113 753.758253 \nL 443.646054 754.263692 \nL 443.128445 755.264614 \nL 442.447944 754.967939 \nL 442.197078 754.72154 \nL 442.399223 752.572257 \nL 442.447944 752.439913 \nL 443.065786 750.276336 \nL 443.128445 750.111495 \nL 443.81113 748.613644 \nL 444.188931 747.838281 \nL 444.527051 747.158158 \nL 444.92348 747.608832 \nL 444.985029 749.674693 \nL 444.571301 751.888675 \nz\n\" style=\"fill:#ffffff;\"/>\n    <path clip-path=\"url(#p224db4f40e)\" d=\"M 445.748055 699.396662 \nL 445.83484 697.284705 \nL 445.743002 695.228144 \nL 445.591291 693.190151 \nL 445.386383 691.168656 \nL 445.232246 690.057103 \nL 445.096742 689.173646 \nL 444.76984 687.190484 \nL 444.527051 685.873642 \nL 444.403177 685.219906 \nL 443.976434 683.26852 \nL 443.81113 682.636294 \nL 443.56012 681.314254 \nL 443.13105 679.364257 \nL 443.128445 679.354097 \nL 442.699063 677.415828 \nL 442.447944 676.329159 \nL 442.234661 675.477984 \nL 441.752572 673.599462 \nL 441.742374 673.549404 \nL 441.332532 671.595236 \nL 441.093619 670.563955 \nL 440.874251 669.65687 \nL 440.419853 667.727509 \nL 440.417531 667.718371 \nL 439.949858 665.784097 \nL 439.769144 665.032661 \nL 439.521294 663.837589 \nL 439.124484 661.932198 \nL 439.110464 661.885631 \nL 438.609628 659.963567 \nL 438.473563 659.390345 \nL 438.152241 658.027852 \nL 437.844898 656.673052 \nL 437.700857 656.0906 \nL 437.27567 654.145213 \nL 437.201959 653.80304 \nL 436.763321 652.229124 \nL 436.580886 651.447934 \nL 436.336742 650.285213 \nL 435.965453 648.401149 \nL 435.940174 648.331668 \nL 435.401193 646.426116 \nL 435.34002 646.162532 \nL 434.918299 644.502531 \nL 434.73578 643.672338 \nL 434.368834 642.601872 \nL 434.12167 641.59708 \nL 433.83629 640.696239 \nL 433.532108 639.511943 \nL 433.232788 638.815394 \nL 432.928982 637.732472 \nL 432.593035 639.032859 \nL 432.607086 641.113115 \nL 432.748662 643.14993 \nL 432.928982 644.878732 \nL 432.964166 645.161617 \nL 433.240181 647.153057 \nL 433.490057 649.153361 \nL 433.532108 649.439754 \nL 433.84937 651.117036 \nL 434.12167 652.622567 \nL 434.188681 653.087629 \nL 434.506703 655.065792 \nL 434.73578 656.307497 \nL 434.870309 657.028841 \nL 435.229195 658.993819 \nL 435.34002 659.565266 \nL 435.61328 660.950785 \nL 435.965453 662.497919 \nL 436.045734 662.891934 \nL 436.410062 664.856205 \nL 436.580886 665.802284 \nL 436.799234 666.81257 \nL 437.201959 668.456593 \nL 437.261879 668.745039 \nL 437.665427 670.697535 \nL 437.844898 671.513487 \nL 438.094998 672.641864 \nL 438.473563 674.392316 \nL 438.517976 674.588689 \nL 438.985848 676.52148 \nL 439.124484 677.031545 \nL 439.440991 678.458895 \nL 439.769144 680.045973 \nL 439.857877 680.409047 \nL 440.311531 682.34784 \nL 440.419853 682.795176 \nL 440.779251 684.282648 \nL 441.093619 685.625591 \nL 441.24262 686.219244 \nL 441.655254 688.172521 \nL 441.752572 688.649656 \nL 442.164999 690.095419 \nL 442.447944 691.188045 \nL 442.670132 692.020275 \nL 443.113895 693.964975 \nL 443.128445 694.029536 \nL 443.666263 695.876144 \nL 443.81113 696.526922 \nL 444.302518 697.761687 \nL 444.527051 698.528205 \nL 444.987982 699.632754 \nL 445.232246 700.484034 \nz\nM 445.232246 698.636217 \nL 444.753629 697.620749 \nL 444.527051 697.348238 \nL 443.89665 695.803763 \nL 443.81113 695.664928 \nL 443.346578 693.891719 \nL 443.128445 693.323327 \nL 442.82134 691.972455 \nL 442.447944 690.573858 \nL 442.311954 690.048717 \nL 441.769632 688.136022 \nL 441.752572 688.082408 \nL 441.36187 686.181164 \nL 441.093619 685.112394 \nL 440.890992 684.246795 \nL 440.42396 682.311601 \nL 440.419853 682.295571 \nL 439.973917 680.371638 \nL 439.769144 679.533762 \nL 439.540251 678.426746 \nL 439.124484 676.551763 \nL 439.105656 676.482493 \nL 438.635703 674.550379 \nL 438.473563 673.83347 \nL 438.207877 672.60496 \nL 437.844898 670.967308 \nL 437.777466 670.660735 \nL 437.380894 668.705948 \nL 437.201959 667.844589 \nL 436.93794 666.766799 \nL 436.580886 665.114731 \nL 436.527195 664.817376 \nL 436.182508 662.846595 \nL 435.965453 661.781305 \nL 435.764908 660.90029 \nL 435.38266 658.942543 \nL 435.34002 658.69196 \nL 435.039966 656.972083 \nL 434.73578 655.341033 \nL 434.674593 655.009369 \nL 434.377977 653.024011 \nL 434.12167 651.245226 \nL 434.084149 651.037774 \nL 433.777735 649.056177 \nL 433.532108 647.634595 \nL 433.465084 647.076787 \nL 433.286544 645.052292 \nL 433.149293 643.013794 \nL 433.532108 641.32728 \nL 433.98309 642.731722 \nL 434.12167 643.036022 \nL 434.678656 644.582791 \nL 434.73578 644.679569 \nL 435.157754 646.507465 \nL 435.34002 647.12751 \nL 435.687917 648.415675 \nL 435.965453 649.178492 \nL 436.192946 650.33288 \nL 436.580886 652.180424 \nL 436.604498 652.281532 \nL 437.116316 654.197684 \nL 437.201959 654.449178 \nL 437.564314 656.135449 \nL 437.844898 657.270033 \nL 438.026164 658.069071 \nL 438.473563 659.966167 \nL 438.482746 660.004856 \nL 438.965363 661.932849 \nL 439.124484 662.461389 \nL 439.418051 663.871028 \nL 439.769144 665.563915 \nL 439.831289 665.822321 \nL 440.290987 667.759166 \nL 440.419853 668.266394 \nL 440.756251 669.69473 \nL 441.093619 671.089743 \nL 441.219115 671.631453 \nL 441.627195 673.586184 \nL 441.752572 674.201599 \nL 442.091785 675.523389 \nL 442.447944 676.944752 \nL 442.566494 677.457754 \nL 442.987717 679.409583 \nL 443.128445 680.055154 \nL 443.415592 681.359743 \nL 443.787465 683.327742 \nL 443.81113 683.471052 \nL 444.202586 685.282731 \nL 444.527051 686.995081 \nL 444.574313 687.251421 \nL 444.87317 689.243324 \nL 445.161688 691.238448 \nL 445.232246 691.81204 \nL 445.367239 693.259636 \nL 445.467471 695.313593 \nL 445.434082 697.408991 \nz\n\" style=\"fill:#ffffff;\"/>\n   </g>\n   <g id=\"PathCollection_34\">\n    <path clip-path=\"url(#p224db4f40e)\" d=\"M 450.549615 725.038897 \nL 450.454293 722.982389 \nL 450.40813 722.715241 \nL 450.073012 721.011997 \nL 449.646762 719.664973 \nL 449.459581 721.196856 \nL 449.349422 723.315213 \nL 449.33773 725.403791 \nL 449.409397 727.46716 \nL 449.585932 729.498816 \nL 449.646762 729.896855 \nL 449.835165 729.423732 \nL 450.407931 727.166352 \nL 450.40813 727.164261 \nz\n\" style=\"fill:#ffffff;\"/>\n    <path clip-path=\"url(#p224db4f40e)\" d=\"M 445.434082 697.408991 \nL 445.467471 695.313593 \nL 445.367239 693.259636 \nL 445.232246 691.81204 \nL 445.161688 691.238448 \nL 444.87317 689.243324 \nL 444.574313 687.251421 \nL 444.527051 686.995081 \nL 444.202586 685.282731 \nL 443.81113 683.471052 \nL 443.787465 683.327742 \nL 443.415592 681.359743 \nL 443.128445 680.055154 \nL 442.987717 679.409583 \nL 442.566494 677.457754 \nL 442.447944 676.944752 \nL 442.091785 675.523389 \nL 441.752572 674.201599 \nL 441.627195 673.586184 \nL 441.219115 671.631453 \nL 441.093619 671.089743 \nL 440.756251 669.69473 \nL 440.419853 668.266394 \nL 440.290987 667.759166 \nL 439.831289 665.822321 \nL 439.769144 665.563915 \nL 439.418051 663.871028 \nL 439.124484 662.461389 \nL 438.965363 661.932849 \nL 438.482746 660.004856 \nL 438.473563 659.966167 \nL 438.026164 658.069071 \nL 437.844898 657.270033 \nL 437.564314 656.135449 \nL 437.201959 654.449178 \nL 437.116316 654.197684 \nL 436.604498 652.281532 \nL 436.580886 652.180424 \nL 436.192946 650.33288 \nL 435.965453 649.178492 \nL 435.687917 648.415675 \nL 435.34002 647.12751 \nL 435.157754 646.507465 \nL 434.73578 644.679569 \nL 434.678656 644.582791 \nL 434.12167 643.036022 \nL 433.98309 642.731722 \nL 433.532108 641.32728 \nL 433.149293 643.013794 \nL 433.286544 645.052292 \nL 433.465084 647.076787 \nL 433.532108 647.634595 \nL 433.777735 649.056177 \nL 434.084149 651.037774 \nL 434.12167 651.245226 \nL 434.377977 653.024011 \nL 434.674593 655.009369 \nL 434.73578 655.341033 \nL 435.039966 656.972083 \nL 435.34002 658.69196 \nL 435.38266 658.942543 \nL 435.764908 660.90029 \nL 435.965453 661.781305 \nL 436.182508 662.846595 \nL 436.527195 664.817376 \nL 436.580886 665.114731 \nL 436.93794 666.766799 \nL 437.201959 667.844589 \nL 437.380894 668.705948 \nL 437.777466 670.660735 \nL 437.844898 670.967308 \nL 438.207877 672.60496 \nL 438.473563 673.83347 \nL 438.635703 674.550379 \nL 439.105656 676.482493 \nL 439.124484 676.551763 \nL 439.540251 678.426746 \nL 439.769144 679.533762 \nL 439.973917 680.371638 \nL 440.419853 682.295571 \nL 440.42396 682.311601 \nL 440.890992 684.246795 \nL 441.093619 685.112394 \nL 441.36187 686.181164 \nL 441.752572 688.082408 \nL 441.769632 688.136022 \nL 442.311954 690.048717 \nL 442.447944 690.573858 \nL 442.82134 691.972455 \nL 443.128445 693.323327 \nL 443.346578 693.891719 \nL 443.81113 695.664928 \nL 443.89665 695.803763 \nL 444.527051 697.348238 \nL 444.753629 697.620749 \nL 445.232246 698.636217 \nz\nM 444.527051 695.909089 \nL 444.417479 695.640639 \nL 443.81113 694.656276 \nL 443.590699 693.814884 \nL 443.128445 692.610383 \nL 442.972548 691.924635 \nL 442.46321 690.000672 \nL 442.447944 689.9513 \nL 441.948334 688.079232 \nL 441.752572 687.464033 \nL 441.481119 686.143084 \nL 441.093619 684.599197 \nL 441.002733 684.210943 \nL 440.55134 682.270731 \nL 440.419853 681.757526 \nL 440.089956 680.334229 \nL 439.769144 679.021551 \nL 439.639512 678.394597 \nL 439.223653 676.444246 \nL 439.124484 676.036433 \nL 438.75343 674.512069 \nL 438.473563 673.274624 \nL 438.320756 672.568057 \nL 437.89835 670.621112 \nL 437.844898 670.386788 \nL 437.499908 668.666858 \nL 437.201959 667.232586 \nL 437.076646 666.721029 \nL 436.663223 664.772409 \nL 436.580886 664.33944 \nL 436.319281 662.801256 \nL 435.965453 661.064691 \nL 435.916536 660.849794 \nL 435.548403 658.887347 \nL 435.34002 657.662742 \nL 435.209624 656.915324 \nL 434.88083 654.940279 \nL 434.73578 654.12027 \nL 434.567273 652.960394 \nL 434.330844 650.954809 \nL 434.12167 649.124273 \nL 434.095775 648.948807 \nL 433.93323 646.91864 \nL 434.12167 645.293531 \nL 434.73578 645.950982 \nL 434.885288 646.598618 \nL 435.34002 648.145554 \nL 435.435659 648.499681 \nL 435.965453 649.955836 \nL 436.04915 650.380547 \nL 436.430127 652.339299 \nL 436.580886 653.022102 \nL 436.908061 654.266404 \nL 437.201959 655.129448 \nL 437.427771 656.180297 \nL 437.844898 657.867014 \nL 437.900086 658.110289 \nL 438.339008 660.051835 \nL 438.473563 660.590945 \nL 438.820262 661.980067 \nL 439.124484 662.990579 \nL 439.314807 663.904468 \nL 439.714095 665.860185 \nL 439.769144 666.118 \nL 440.164443 667.799961 \nL 440.419853 668.805278 \nL 440.638251 669.732591 \nL 441.093619 671.615531 \nL 441.105698 671.66767 \nL 441.512017 673.622963 \nL 441.752572 674.803737 \nL 441.94891 675.568794 \nL 442.43063 677.500748 \nL 442.447944 677.571926 \nL 442.844534 679.454865 \nL 443.128445 680.757271 \nL 443.271064 681.405232 \nL 443.631875 683.376712 \nL 443.81113 684.462227 \nL 444.001994 685.345557 \nL 444.350203 687.32154 \nL 444.527051 688.476376 \nL 444.649597 689.313001 \nL 444.868819 691.329722 \nL 445.038021 693.362032 \nL 444.943017 695.476683 \nz\n\" style=\"fill:#ffffff;\"/>\n    <path clip-path=\"url(#p224db4f40e)\" d=\"M 444.571301 751.888675 \nL 444.985029 749.674693 \nL 444.92348 747.608832 \nL 444.527051 747.158158 \nL 444.188931 747.838281 \nL 443.81113 748.613644 \nL 443.128445 750.111495 \nL 443.065786 750.276336 \nL 442.447944 752.439913 \nL 442.399223 752.572257 \nL 442.197078 754.72154 \nL 442.447944 754.967939 \nL 443.128445 755.264614 \nL 443.646054 754.263692 \nL 443.81113 753.758253 \nL 444.527051 752.016481 \nz\n\" style=\"fill:#ffffff;\"/>\n   </g>\n   <g id=\"PathCollection_35\">\n    <path clip-path=\"url(#p224db4f40e)\" d=\"M 444.943017 695.476683 \nL 445.038021 693.362032 \nL 444.868819 691.329722 \nL 444.649597 689.313001 \nL 444.527051 688.476376 \nL 444.350203 687.32154 \nL 444.001994 685.345557 \nL 443.81113 684.462227 \nL 443.631875 683.376712 \nL 443.271064 681.405232 \nL 443.128445 680.757271 \nL 442.844534 679.454865 \nL 442.447944 677.571926 \nL 442.43063 677.500748 \nL 441.94891 675.568794 \nL 441.752572 674.803737 \nL 441.512017 673.622963 \nL 441.105698 671.66767 \nL 441.093619 671.615531 \nL 440.638251 669.732591 \nL 440.419853 668.805278 \nL 440.164443 667.799961 \nL 439.769144 666.118 \nL 439.714095 665.860185 \nL 439.314807 663.904468 \nL 439.124484 662.990579 \nL 438.820262 661.980067 \nL 438.473563 660.590945 \nL 438.339008 660.051835 \nL 437.900086 658.110289 \nL 437.844898 657.867014 \nL 437.427771 656.180297 \nL 437.201959 655.129448 \nL 436.908061 654.266404 \nL 436.580886 653.022102 \nL 436.430127 652.339299 \nL 436.04915 650.380547 \nL 435.965453 649.955836 \nL 435.435659 648.499681 \nL 435.34002 648.145554 \nL 434.885288 646.598618 \nL 434.73578 645.950982 \nL 434.12167 645.293531 \nL 433.93323 646.91864 \nL 434.095775 648.948807 \nL 434.12167 649.124273 \nL 434.330844 650.954809 \nL 434.567273 652.960394 \nL 434.73578 654.12027 \nL 434.88083 654.940279 \nL 435.209624 656.915324 \nL 435.34002 657.662742 \nL 435.548403 658.887347 \nL 435.916536 660.849794 \nL 435.965453 661.064691 \nL 436.319281 662.801256 \nL 436.580886 664.33944 \nL 436.663223 664.772409 \nL 437.076646 666.721029 \nL 437.201959 667.232586 \nL 437.499908 668.666858 \nL 437.844898 670.386788 \nL 437.89835 670.621112 \nL 438.320756 672.568057 \nL 438.473563 673.274624 \nL 438.75343 674.512069 \nL 439.124484 676.036433 \nL 439.223653 676.444246 \nL 439.639512 678.394597 \nL 439.769144 679.021551 \nL 440.089956 680.334229 \nL 440.419853 681.757526 \nL 440.55134 682.270731 \nL 441.002733 684.210943 \nL 441.093619 684.599197 \nL 441.481119 686.143084 \nL 441.752572 687.464033 \nL 441.948334 688.079232 \nL 442.447944 689.9513 \nL 442.46321 690.000672 \nL 442.972548 691.924635 \nL 443.128445 692.610383 \nL 443.590699 693.814884 \nL 443.81113 694.656276 \nL 444.417479 695.640639 \nL 444.527051 695.909089 \nz\nM 444.527051 693.635418 \nL 444.297746 693.593097 \nL 443.81113 693.597859 \nL 443.128445 691.89744 \nL 443.123756 691.876815 \nL 442.667798 689.935971 \nL 442.447944 689.224905 \nL 442.127035 688.022441 \nL 441.752572 686.845658 \nL 441.600369 686.105005 \nL 441.124697 684.171858 \nL 441.093619 684.068784 \nL 440.678719 682.229861 \nL 440.419853 681.219482 \nL 440.205995 680.29682 \nL 439.769144 678.50934 \nL 439.738772 678.362447 \nL 439.341311 676.406138 \nL 439.124484 675.514476 \nL 438.871157 674.473759 \nL 438.473563 672.715778 \nL 438.433635 672.531153 \nL 438.032603 670.57722 \nL 437.844898 669.754357 \nL 437.618923 668.627767 \nL 437.216611 666.674865 \nL 437.201959 666.603429 \nL 436.81524 664.722246 \nL 436.580886 663.489899 \nL 436.456054 662.755917 \nL 436.098452 660.789416 \nL 435.965453 660.189647 \nL 435.714146 658.832152 \nL 435.38945 656.85524 \nL 435.34002 656.483646 \nL 435.109056 654.863926 \nL 434.780817 652.888696 \nL 434.73578 652.592784 \nL 434.579805 650.871139 \nL 434.519978 648.806203 \nL 434.73578 647.640175 \nL 435.004629 648.643735 \nL 435.34002 649.454127 \nL 435.747662 650.480821 \nL 435.965453 650.835057 \nL 436.253042 652.398001 \nL 436.580886 653.882848 \nL 436.699807 654.335125 \nL 437.201959 655.809718 \nL 437.291228 656.225145 \nL 437.742406 658.161996 \nL 437.844898 658.523239 \nL 438.193955 660.099257 \nL 438.473563 661.219542 \nL 438.67516 662.027285 \nL 439.124484 663.51977 \nL 439.211564 663.937907 \nL 439.598417 665.897652 \nL 439.769144 666.697229 \nL 440.037899 667.840757 \nL 440.419853 669.344162 \nL 440.520252 669.770451 \nL 440.970477 671.711038 \nL 441.093619 672.199869 \nL 441.396838 673.659743 \nL 441.752572 675.405874 \nL 441.806035 675.614199 \nL 442.266905 677.552779 \nL 442.447944 678.297017 \nL 442.701351 679.500147 \nL 443.12602 681.450886 \nL 443.128445 681.462359 \nL 443.476286 683.425683 \nL 443.80166 685.408317 \nL 443.81113 685.479688 \nL 444.116982 687.394585 \nL 444.381259 689.396855 \nL 444.527051 690.873672 \nL 444.575951 691.420996 \nL 444.549395 693.514314 \nz\n\" style=\"fill:#ffffff;\"/>\n   </g>\n   <g id=\"PathCollection_36\">\n    <path clip-path=\"url(#p224db4f40e)\" d=\"M 444.549395 693.514314 \nL 444.575951 691.420996 \nL 444.527051 690.873672 \nL 444.381259 689.396855 \nL 444.116982 687.394585 \nL 443.81113 685.479688 \nL 443.80166 685.408317 \nL 443.476286 683.425683 \nL 443.128445 681.462359 \nL 443.12602 681.450886 \nL 442.701351 679.500147 \nL 442.447944 678.297017 \nL 442.266905 677.552779 \nL 441.806035 675.614199 \nL 441.752572 675.405874 \nL 441.396838 673.659743 \nL 441.093619 672.199869 \nL 440.970477 671.711038 \nL 440.520252 669.770451 \nL 440.419853 669.344162 \nL 440.037899 667.840757 \nL 439.769144 666.697229 \nL 439.598417 665.897652 \nL 439.211564 663.937907 \nL 439.124484 663.51977 \nL 438.67516 662.027285 \nL 438.473563 661.219542 \nL 438.193955 660.099257 \nL 437.844898 658.523239 \nL 437.742406 658.161996 \nL 437.291228 656.225145 \nL 437.201959 655.809718 \nL 436.699807 654.335125 \nL 436.580886 653.882848 \nL 436.253042 652.398001 \nL 435.965453 650.835057 \nL 435.747662 650.480821 \nL 435.34002 649.454127 \nL 435.004629 648.643735 \nL 434.73578 647.640175 \nL 434.519978 648.806203 \nL 434.579805 650.871139 \nL 434.73578 652.592784 \nL 434.780817 652.888696 \nL 435.109056 654.863926 \nL 435.34002 656.483646 \nL 435.38945 656.85524 \nL 435.714146 658.832152 \nL 435.965453 660.189647 \nL 436.098452 660.789416 \nL 436.456054 662.755917 \nL 436.580886 663.489899 \nL 436.81524 664.722246 \nL 437.201959 666.603429 \nL 437.216611 666.674865 \nL 437.618923 668.627767 \nL 437.844898 669.754357 \nL 438.032603 670.57722 \nL 438.433635 672.531153 \nL 438.473563 672.715778 \nL 438.871157 674.473759 \nL 439.124484 675.514476 \nL 439.341311 676.406138 \nL 439.738772 678.362447 \nL 439.769144 678.50934 \nL 440.205995 680.29682 \nL 440.419853 681.219482 \nL 440.678719 682.229861 \nL 441.093619 684.068784 \nL 441.124697 684.171858 \nL 441.600369 686.105005 \nL 441.752572 686.845658 \nL 442.127035 688.022441 \nL 442.447944 689.224905 \nL 442.667798 689.935971 \nL 443.123756 691.876815 \nL 443.128445 691.89744 \nL 443.81113 693.597859 \nL 444.297746 693.593097 \nL 444.527051 693.635418 \nz\nM 443.81113 692.076402 \nL 443.660906 691.707745 \nL 443.128445 690.965484 \nL 442.872385 689.871269 \nL 442.447944 688.498511 \nL 442.305736 687.965651 \nL 441.752572 686.227283 \nL 441.719619 686.066925 \nL 441.291214 684.118684 \nL 441.093619 683.463342 \nL 440.806099 682.188991 \nL 440.419853 680.681437 \nL 440.322034 680.259412 \nL 439.871254 678.319692 \nL 439.769144 677.918092 \nL 439.45897 676.36803 \nL 439.124484 674.99252 \nL 438.988884 674.43545 \nL 438.562494 672.48916 \nL 438.473563 672.058326 \nL 438.166856 670.533329 \nL 437.844898 669.121925 \nL 437.737937 668.588676 \nL 437.36835 666.625026 \nL 437.201959 665.813781 \nL 436.967258 664.672083 \nL 436.598277 662.708797 \nL 436.580886 662.596658 \nL 436.294793 660.724331 \nL 435.965453 659.23915 \nL 435.879889 658.776956 \nL 435.603048 656.784107 \nL 435.34002 654.806769 \nL 435.337283 654.787574 \nL 435.190908 652.751501 \nL 435.34002 651.397484 \nL 435.965453 651.856158 \nL 436.075956 652.456704 \nL 436.458044 654.415087 \nL 436.580886 654.910171 \nL 437.066426 656.299189 \nL 437.201959 656.566819 \nL 437.560123 658.221868 \nL 437.844898 659.225585 \nL 438.048902 660.146679 \nL 438.473563 661.848139 \nL 438.530059 662.074502 \nL 439.091137 663.976963 \nL 439.124484 664.066441 \nL 439.482738 665.935119 \nL 439.769144 667.276457 \nL 439.911355 667.881552 \nL 440.39522 669.810606 \nL 440.419853 669.901574 \nL 440.832656 671.755258 \nL 441.093619 672.791185 \nL 441.28166 673.696523 \nL 441.665753 675.658913 \nL 441.752572 676.102716 \nL 442.10318 677.60481 \nL 442.447944 679.022108 \nL 442.558168 679.545429 \nL 442.942342 681.508975 \nL 443.128445 682.389523 \nL 443.320697 683.474653 \nL 443.60638 685.469779 \nL 443.81113 687.012895 \nL 443.883761 687.46763 \nL 444.058619 689.497907 \nL 443.988026 691.605059 \nz\n\" style=\"fill:#ffffff;\"/>\n   </g>\n   <g id=\"PathCollection_37\">\n    <path clip-path=\"url(#p224db4f40e)\" d=\"M 443.988026 691.605059 \nL 444.058619 689.497907 \nL 443.883761 687.46763 \nL 443.81113 687.012895 \nL 443.60638 685.469779 \nL 443.320697 683.474653 \nL 443.128445 682.389523 \nL 442.942342 681.508975 \nL 442.558168 679.545429 \nL 442.447944 679.022108 \nL 442.10318 677.60481 \nL 441.752572 676.102716 \nL 441.665753 675.658913 \nL 441.28166 673.696523 \nL 441.093619 672.791185 \nL 440.832656 671.755258 \nL 440.419853 669.901574 \nL 440.39522 669.810606 \nL 439.911355 667.881552 \nL 439.769144 667.276457 \nL 439.482738 665.935119 \nL 439.124484 664.066441 \nL 439.091137 663.976963 \nL 438.530059 662.074502 \nL 438.473563 661.848139 \nL 438.048902 660.146679 \nL 437.844898 659.225585 \nL 437.560123 658.221868 \nL 437.201959 656.566819 \nL 437.066426 656.299189 \nL 436.580886 654.910171 \nL 436.458044 654.415087 \nL 436.075956 652.456704 \nL 435.965453 651.856158 \nL 435.34002 651.397484 \nL 435.190908 652.751501 \nL 435.337283 654.787574 \nL 435.34002 654.806769 \nL 435.603048 656.784107 \nL 435.879889 658.776956 \nL 435.965453 659.23915 \nL 436.294793 660.724331 \nL 436.580886 662.596658 \nL 436.598277 662.708797 \nL 436.967258 664.672083 \nL 437.201959 665.813781 \nL 437.36835 666.625026 \nL 437.737937 668.588676 \nL 437.844898 669.121925 \nL 438.166856 670.533329 \nL 438.473563 672.058326 \nL 438.562494 672.48916 \nL 438.988884 674.43545 \nL 439.124484 674.99252 \nL 439.45897 676.36803 \nL 439.769144 677.918092 \nL 439.871254 678.319692 \nL 440.322034 680.259412 \nL 440.419853 680.681437 \nL 440.806099 682.188991 \nL 441.093619 683.463342 \nL 441.291214 684.118684 \nL 441.719619 686.066925 \nL 441.752572 686.227283 \nL 442.305736 687.965651 \nL 442.447944 688.498511 \nL 442.872385 689.871269 \nL 443.128445 690.965484 \nL 443.660906 691.707745 \nL 443.81113 692.076402 \nz\nM 443.128445 690.026519 \nL 443.076973 689.806567 \nL 442.531979 687.893881 \nL 442.447944 687.697651 \nL 441.959612 685.990605 \nL 441.752572 685.451477 \nL 441.457731 684.065511 \nL 441.093619 682.8579 \nL 440.933478 682.148121 \nL 440.448877 680.218564 \nL 440.419853 680.114423 \nL 440.018383 678.27226 \nL 439.769144 677.291999 \nL 439.576628 676.329921 \nL 439.124484 674.470563 \nL 439.106611 674.39714 \nL 438.700101 672.444381 \nL 438.473563 671.346905 \nL 438.301109 670.489437 \nL 437.865653 668.546759 \nL 437.844898 668.459351 \nL 437.520089 666.575187 \nL 437.201959 665.024133 \nL 437.119275 664.62192 \nL 436.797457 662.643071 \nL 436.580886 661.246622 \nL 436.491134 660.659246 \nL 436.179233 658.677596 \nL 435.965453 657.893976 \nL 435.816647 656.712975 \nL 435.701779 654.666186 \nL 435.965453 653.208547 \nL 436.171675 654.510016 \nL 436.580886 656.15924 \nL 436.67496 656.428366 \nL 437.201959 657.469005 \nL 437.37784 658.281739 \nL 437.844898 659.927932 \nL 437.903849 660.194102 \nL 438.344996 662.134919 \nL 438.473563 662.60013 \nL 438.878139 664.046275 \nL 439.124484 664.707293 \nL 439.36706 665.972586 \nL 439.769144 667.855686 \nL 439.784811 667.922347 \nL 440.230079 669.863844 \nL 440.419853 670.564674 \nL 440.694836 671.799478 \nL 441.093619 673.382502 \nL 441.166481 673.733303 \nL 441.527023 675.703214 \nL 441.752572 676.856185 \nL 441.939455 677.656841 \nL 442.394614 679.597236 \nL 442.447944 679.830028 \nL 442.758664 681.567064 \nL 443.128445 683.316687 \nL 443.165107 683.523623 \nL 443.4111 685.531242 \nL 443.591268 687.559578 \nL 443.482935 689.678717 \nz\n\" style=\"fill:#ffffff;\"/>\n   </g>\n   <g id=\"PathCollection_38\">\n    <path clip-path=\"url(#p224db4f40e)\" d=\"M 443.482935 689.678717 \nL 443.591268 687.559578 \nL 443.4111 685.531242 \nL 443.165107 683.523623 \nL 443.128445 683.316687 \nL 442.758664 681.567064 \nL 442.447944 679.830028 \nL 442.394614 679.597236 \nL 441.939455 677.656841 \nL 441.752572 676.856185 \nL 441.527023 675.703214 \nL 441.166481 673.733303 \nL 441.093619 673.382502 \nL 440.694836 671.799478 \nL 440.419853 670.564674 \nL 440.230079 669.863844 \nL 439.784811 667.922347 \nL 439.769144 667.855686 \nL 439.36706 665.972586 \nL 439.124484 664.707293 \nL 438.878139 664.046275 \nL 438.473563 662.60013 \nL 438.344996 662.134919 \nL 437.903849 660.194102 \nL 437.844898 659.927932 \nL 437.37784 658.281739 \nL 437.201959 657.469005 \nL 436.67496 656.428366 \nL 436.580886 656.15924 \nL 436.171675 654.510016 \nL 435.965453 653.208547 \nL 435.701779 654.666186 \nL 435.816647 656.712975 \nL 435.965453 657.893976 \nL 436.179233 658.677596 \nL 436.491134 660.659246 \nL 436.580886 661.246622 \nL 436.797457 662.643071 \nL 437.119275 664.62192 \nL 437.201959 665.024133 \nL 437.520089 666.575187 \nL 437.844898 668.459351 \nL 437.865653 668.546759 \nL 438.301109 670.489437 \nL 438.473563 671.346905 \nL 438.700101 672.444381 \nL 439.106611 674.39714 \nL 439.124484 674.470563 \nL 439.576628 676.329921 \nL 439.769144 677.291999 \nL 440.018383 678.27226 \nL 440.419853 680.114423 \nL 440.448877 680.218564 \nL 440.933478 682.148121 \nL 441.093619 682.8579 \nL 441.457731 684.065511 \nL 441.752572 685.451477 \nL 441.959612 685.990605 \nL 442.447944 687.697651 \nL 442.531979 687.893881 \nL 443.076973 689.806567 \nL 443.128445 690.026519 \nz\nM 443.128445 688.487614 \nL 442.94348 687.763743 \nL 442.447944 686.606616 \nL 442.245713 685.899683 \nL 441.752572 684.615555 \nL 441.624247 684.012337 \nL 441.093619 682.252458 \nL 441.060857 682.107251 \nL 440.633716 680.159258 \nL 440.419853 679.391885 \nL 440.165512 678.224829 \nL 439.769144 676.665905 \nL 439.694287 676.291813 \nL 439.280463 674.340804 \nL 439.124484 673.788193 \nL 438.837708 672.399602 \nL 438.473563 670.635483 \nL 438.435363 670.445546 \nL 438.070585 668.47976 \nL 437.844898 667.529299 \nL 437.671828 666.525348 \nL 437.32154 664.555358 \nL 437.201959 663.95508 \nL 436.996638 662.577345 \nL 436.778657 660.564233 \nL 437.201959 658.400676 \nL 437.627506 660.284778 \nL 437.844898 660.841985 \nL 438.134454 662.203752 \nL 438.473563 663.4308 \nL 438.66514 664.115588 \nL 439.124484 665.348145 \nL 439.251382 666.010053 \nL 439.626946 667.973455 \nL 439.769144 668.612309 \nL 440.064938 669.917082 \nL 440.419853 671.227773 \nL 440.557015 671.843698 \nL 441.017346 673.781042 \nL 441.093619 674.064035 \nL 441.388292 675.747515 \nL 441.752572 677.609654 \nL 441.775731 677.708872 \nL 442.162941 679.670861 \nL 442.447944 680.914943 \nL 442.574986 681.625153 \nL 442.885166 683.6121 \nL 443.128445 684.85034 \nL 443.215819 685.592704 \nL 443.271966 687.660075 \nz\n\" style=\"fill:#ffffff;\"/>\n   </g>\n   <g id=\"PathCollection_39\">\n    <path clip-path=\"url(#p224db4f40e)\" d=\"M 443.271966 687.660075 \nL 443.215819 685.592704 \nL 443.128445 684.85034 \nL 442.885166 683.6121 \nL 442.574986 681.625153 \nL 442.447944 680.914943 \nL 442.162941 679.670861 \nL 441.775731 677.708872 \nL 441.752572 677.609654 \nL 441.388292 675.747515 \nL 441.093619 674.064035 \nL 441.017346 673.781042 \nL 440.557015 671.843698 \nL 440.419853 671.227773 \nL 440.064938 669.917082 \nL 439.769144 668.612309 \nL 439.626946 667.973455 \nL 439.251382 666.010053 \nL 439.124484 665.348145 \nL 438.66514 664.115588 \nL 438.473563 663.4308 \nL 438.134454 662.203752 \nL 437.844898 660.841985 \nL 437.627506 660.284778 \nL 437.201959 658.400676 \nL 436.778657 660.564233 \nL 436.996638 662.577345 \nL 437.201959 663.95508 \nL 437.32154 664.555358 \nL 437.671828 666.525348 \nL 437.844898 667.529299 \nL 438.070585 668.47976 \nL 438.435363 670.445546 \nL 438.473563 670.635483 \nL 438.837708 672.399602 \nL 439.124484 673.788193 \nL 439.280463 674.340804 \nL 439.694287 676.291813 \nL 439.769144 676.665905 \nL 440.165512 678.224829 \nL 440.419853 679.391885 \nL 440.633716 680.159258 \nL 441.060857 682.107251 \nL 441.093619 682.252458 \nL 441.624247 684.012337 \nL 441.752572 684.615555 \nL 442.245713 685.899683 \nL 442.447944 686.606616 \nL 442.94348 687.763743 \nL 443.128445 688.487614 \nz\nM 442.447944 684.918849 \nL 442.017033 683.887315 \nL 441.752572 683.581364 \nL 441.374977 682.006894 \nL 441.093619 681.402511 \nL 440.818555 680.099952 \nL 440.419853 678.669347 \nL 440.31264 678.177397 \nL 439.863452 676.237165 \nL 439.769144 675.89229 \nL 439.464361 674.281241 \nL 439.124484 673.077112 \nL 438.975315 672.354823 \nL 438.620116 670.385366 \nL 438.473563 669.546078 \nL 438.275518 668.412761 \nL 437.844898 666.599248 \nL 437.823567 666.475508 \nL 437.583729 664.469241 \nL 437.201959 662.552822 \nL 437.195818 662.511619 \nL 437.142958 660.44402 \nL 437.201959 660.14246 \nL 437.261272 660.405069 \nL 437.844898 661.900988 \nL 437.923912 662.272585 \nL 438.415912 664.196777 \nL 438.473563 664.343205 \nL 439.124484 665.988997 \nL 439.135703 666.04752 \nL 439.464654 668.026019 \nL 439.769144 669.393998 \nL 439.899797 669.97032 \nL 440.418343 671.888194 \nL 440.419853 671.892994 \nL 440.809743 673.847652 \nL 441.093619 674.900908 \nL 441.249562 675.791815 \nL 441.563962 677.776461 \nL 441.752572 678.814548 \nL 441.931267 679.744486 \nL 442.283669 681.717536 \nL 442.447944 682.607932 \nL 442.566889 683.712756 \nz\n\" style=\"fill:#ffffff;\"/>\n   </g>\n   <g id=\"PathCollection_40\">\n    <path clip-path=\"url(#p224db4f40e)\" d=\"M 442.566889 683.712756 \nL 442.447944 682.607932 \nL 442.283669 681.717536 \nL 441.931267 679.744486 \nL 441.752572 678.814548 \nL 441.563962 677.776461 \nL 441.249562 675.791815 \nL 441.093619 674.900908 \nL 440.809743 673.847652 \nL 440.419853 671.892994 \nL 440.418343 671.888194 \nL 439.899797 669.97032 \nL 439.769144 669.393998 \nL 439.464654 668.026019 \nL 439.135703 666.04752 \nL 439.124484 665.988997 \nL 438.473563 664.343205 \nL 438.415912 664.196777 \nL 437.923912 662.272585 \nL 437.844898 661.900988 \nL 437.261272 660.405069 \nL 437.201959 660.14246 \nL 437.142958 660.44402 \nL 437.195818 662.511619 \nL 437.201959 662.552822 \nL 437.583729 664.469241 \nL 437.823567 666.475508 \nL 437.844898 666.599248 \nL 438.275518 668.412761 \nL 438.473563 669.546078 \nL 438.620116 670.385366 \nL 438.975315 672.354823 \nL 439.124484 673.077112 \nL 439.464361 674.281241 \nL 439.769144 675.89229 \nL 439.863452 676.237165 \nL 440.31264 678.177397 \nL 440.419853 678.669347 \nL 440.818555 680.099952 \nL 441.093619 681.402511 \nL 441.374977 682.006894 \nL 441.752572 683.581364 \nL 442.017033 683.887315 \nL 442.447944 684.918849 \nz\nM 441.093619 680.467903 \nL 441.003394 680.040646 \nL 440.549283 678.101306 \nL 440.419853 677.743773 \nL 440.1227 676.153588 \nL 439.769144 674.860669 \nL 439.648258 674.221679 \nL 439.124484 672.36603 \nL 439.112921 672.310044 \nL 438.824953 670.31871 \nL 438.492928 668.341712 \nL 438.473563 668.000728 \nL 438.370678 666.296608 \nL 438.473563 665.9866 \nL 438.575755 666.229717 \nL 439.124484 666.993004 \nL 439.302363 668.078583 \nL 439.688582 670.038534 \nL 439.769144 670.357473 \nL 440.102151 671.990128 \nL 440.419853 673.000391 \nL 440.602141 673.914262 \nL 441.093619 675.737781 \nL 441.110832 675.836116 \nL 441.344278 677.846612 \nL 441.542349 679.868405 \nz\n\" style=\"fill:#ffffff;\"/>\n   </g>\n   <g id=\"PathCollection_41\">\n    <path clip-path=\"url(#p224db4f40e)\" d=\"M 441.542349 679.868405 \nL 441.344278 677.846612 \nL 441.110832 675.836116 \nL 441.093619 675.737781 \nL 440.602141 673.914262 \nL 440.419853 673.000391 \nL 440.102151 671.990128 \nL 439.769144 670.357473 \nL 439.688582 670.038534 \nL 439.302363 668.078583 \nL 439.124484 666.993004 \nL 438.575755 666.229717 \nL 438.473563 665.9866 \nL 438.370678 666.296608 \nL 438.473563 668.000728 \nL 438.492928 668.341712 \nL 438.824953 670.31871 \nL 439.112921 672.310044 \nL 439.124484 672.36603 \nL 439.648258 674.221679 \nL 439.769144 674.860669 \nL 440.1227 676.153588 \nL 440.419853 677.743773 \nL 440.549283 678.101306 \nL 441.003394 680.040646 \nL 441.093619 680.467903 \nz\nM 441.093619 678.376947 \nL 441.026354 677.948237 \nL 441.093619 677.637565 \nL 441.124594 677.916764 \nz\nM 440.419853 676.27286 \nL 440.381947 676.070012 \nL 440.419853 674.920907 \nL 440.516233 676.026868 \nz\nM 439.769144 672.377607 \nL 439.733771 672.10894 \nL 439.769144 672.009624 \nL 439.785959 672.092062 \nz\nM 439.124484 670.920589 \nL 439.02979 670.252053 \nL 439.069139 668.154206 \nL 439.124484 668.036016 \nL 439.140072 668.131148 \nL 439.302817 670.163479 \nz\n\" style=\"fill:#ffffff;\"/>\n   </g>\n   <g id=\"PathCollection_42\">\n    <path clip-path=\"url(#p224db4f40e)\" d=\"M 441.124594 677.916764 \nL 441.093619 677.637565 \nL 441.026354 677.948237 \nL 441.093619 678.376947 \nz\n\" style=\"fill:#ffffff;\"/>\n    <path clip-path=\"url(#p224db4f40e)\" d=\"M 440.516233 676.026868 \nL 440.419853 674.920907 \nL 440.381947 676.070012 \nL 440.419853 676.27286 \nz\n\" style=\"fill:#ffffff;\"/>\n    <path clip-path=\"url(#p224db4f40e)\" d=\"M 439.785959 672.092062 \nL 439.769144 672.009624 \nL 439.733771 672.10894 \nL 439.769144 672.377607 \nz\n\" style=\"fill:#ffffff;\"/>\n    <path clip-path=\"url(#p224db4f40e)\" d=\"M 439.302817 670.163479 \nL 439.140072 668.131148 \nL 439.124484 668.036016 \nL 439.069139 668.154206 \nL 439.02979 670.252053 \nL 439.124484 670.920589 \nz\n\" style=\"fill:#ffffff;\"/>\n   </g>\n   <g id=\"matplotlib.axis_9\">\n    <g id=\"xtick_102\">\n     <g id=\"line2d_220\">\n      <g>\n       <use style=\"stroke:#000000;stroke-width:0.8;\" x=\"440.092347\" xlink:href=\"#mea06334881\" y=\"776.718125\"/>\n      </g>\n     </g>\n     <g id=\"text_57\">\n      <!-- 3 -->\n      <g transform=\"translate(436.911097 791.316562)scale(0.1 -0.1)\">\n       <use xlink:href=\"#DejaVuSerif-51\"/>\n      </g>\n     </g>\n    </g>\n    <g id=\"xtick_103\">\n     <g id=\"line2d_221\">\n      <g>\n       <use style=\"stroke:#000000;stroke-width:0.8;\" x=\"486.437946\" xlink:href=\"#mea06334881\" y=\"776.718125\"/>\n      </g>\n     </g>\n     <g id=\"text_58\">\n      <!-- 4 -->\n      <g transform=\"translate(483.256696 791.316562)scale(0.1 -0.1)\">\n       <use xlink:href=\"#DejaVuSerif-52\"/>\n      </g>\n     </g>\n    </g>\n    <g id=\"xtick_104\">\n     <g id=\"line2d_222\">\n      <g>\n       <use style=\"stroke:#000000;stroke-width:0.8;\" x=\"532.783544\" xlink:href=\"#mea06334881\" y=\"776.718125\"/>\n      </g>\n     </g>\n     <g id=\"text_59\">\n      <!-- 5 -->\n      <g transform=\"translate(529.602294 791.316562)scale(0.1 -0.1)\">\n       <use xlink:href=\"#DejaVuSerif-53\"/>\n      </g>\n     </g>\n    </g>\n    <g id=\"xtick_105\">\n     <g id=\"line2d_223\">\n      <g>\n       <use style=\"stroke:#000000;stroke-width:0.8;\" x=\"579.129143\" xlink:href=\"#mea06334881\" y=\"776.718125\"/>\n      </g>\n     </g>\n     <g id=\"text_60\">\n      <!-- 6 -->\n      <g transform=\"translate(575.947893 791.316562)scale(0.1 -0.1)\">\n       <use xlink:href=\"#DejaVuSerif-54\"/>\n      </g>\n     </g>\n    </g>\n    <g id=\"xtick_106\">\n     <g id=\"line2d_224\">\n      <g>\n       <use style=\"stroke:#000000;stroke-width:0.8;\" x=\"625.474741\" xlink:href=\"#mea06334881\" y=\"776.718125\"/>\n      </g>\n     </g>\n     <g id=\"text_61\">\n      <!-- 7 -->\n      <g transform=\"translate(622.293491 791.316562)scale(0.1 -0.1)\">\n       <use xlink:href=\"#DejaVuSerif-55\"/>\n      </g>\n     </g>\n    </g>\n    <g id=\"text_62\">\n     <!-- Temperature $1/T$, $K^-1$ -->\n     <defs>\n      <path d=\"M 25.875 72.90625 \nL 33.6875 72.90625 \nL 7.8125 -9.28125 \nL 0 -9.28125 \nz\n\" id=\"DejaVuSerif-47\"/>\n      <path d=\"M 12.015625 0 \nL 12.984375 5.171875 \nL 22.3125 5.171875 \nL 34.375 67.09375 \nL 12.9375 67.09375 \nL 10.75 55.71875 \nL 4.734375 55.71875 \nL 8.0625 72.90625 \nL 72.796875 72.90625 \nL 69.484375 55.71875 \nL 63.484375 55.71875 \nL 65.671875 67.09375 \nL 44.234375 67.09375 \nL 32.171875 5.171875 \nL 41.5 5.171875 \nL 40.53125 0 \nz\n\" id=\"DejaVuSerif-Italic-84\"/>\n      <path d=\"M -1.515625 0 \nL -0.53125 5.171875 \nL 8.734375 5.171875 \nL 20.90625 67.671875 \nL 11.625 67.671875 \nL 12.640625 72.90625 \nL 41.109375 72.90625 \nL 40.09375 67.671875 \nL 30.8125 67.671875 \nL 25.4375 40.09375 \nL 62.203125 67.671875 \nL 54.296875 67.671875 \nL 55.328125 72.90625 \nL 79.546875 72.90625 \nL 78.515625 67.671875 \nL 70.3125 67.671875 \nL 33.6875 40.1875 \nL 61.859375 5.171875 \nL 70.171875 5.171875 \nL 69.1875 0 \nL 52.25 0 \nL 24.421875 34.625 \nL 18.65625 5.171875 \nL 27.9375 5.171875 \nL 26.953125 0 \nz\n\" id=\"DejaVuSerif-Italic-75\"/>\n     </defs>\n     <g transform=\"translate(458.423125 804.974375)scale(0.1 -0.1)\">\n      <use transform=\"translate(0 0.78125)\" xlink:href=\"#DejaVuSerif-84\"/>\n      <use transform=\"translate(66.699219 0.78125)\" xlink:href=\"#DejaVuSerif-101\"/>\n      <use transform=\"translate(125.878906 0.78125)\" xlink:href=\"#DejaVuSerif-109\"/>\n      <use transform=\"translate(220.703125 0.78125)\" xlink:href=\"#DejaVuSerif-112\"/>\n      <use transform=\"translate(284.716797 0.78125)\" xlink:href=\"#DejaVuSerif-101\"/>\n      <use transform=\"translate(343.896484 0.78125)\" xlink:href=\"#DejaVuSerif-114\"/>\n      <use transform=\"translate(391.699219 0.78125)\" xlink:href=\"#DejaVuSerif-97\"/>\n      <use transform=\"translate(451.318359 0.78125)\" xlink:href=\"#DejaVuSerif-116\"/>\n      <use transform=\"translate(491.503906 0.78125)\" xlink:href=\"#DejaVuSerif-117\"/>\n      <use transform=\"translate(555.908203 0.78125)\" xlink:href=\"#DejaVuSerif-114\"/>\n      <use transform=\"translate(603.710938 0.78125)\" xlink:href=\"#DejaVuSerif-101\"/>\n      <use transform=\"translate(662.890625 0.78125)\" xlink:href=\"#DejaVuSerif-32\"/>\n      <use transform=\"translate(694.677734 0.78125)\" xlink:href=\"#DejaVuSerif-49\"/>\n      <use transform=\"translate(758.300781 0.78125)\" xlink:href=\"#DejaVuSerif-47\"/>\n      <use transform=\"translate(791.992188 0.78125)\" xlink:href=\"#DejaVuSerif-Italic-84\"/>\n      <use transform=\"translate(858.691406 0.78125)\" xlink:href=\"#DejaVuSerif-44\"/>\n      <use transform=\"translate(890.478516 0.78125)\" xlink:href=\"#DejaVuSerif-32\"/>\n      <use transform=\"translate(922.265625 0.78125)\" xlink:href=\"#DejaVuSerif-Italic-75\"/>\n      <use transform=\"translate(1017.427057 37.115625)scale(0.7)\" xlink:href=\"#DejaVuSerif-8722\"/>\n      <use transform=\"translate(1091.950104 0.78125)\" xlink:href=\"#DejaVuSerif-49\"/>\n     </g>\n    </g>\n    <g id=\"text_63\">\n     <!-- 1e−3 -->\n     <g transform=\"translate(600.294688 803.994687)scale(0.1 -0.1)\">\n      <use xlink:href=\"#DejaVuSerif-49\"/>\n      <use x=\"63.623047\" xlink:href=\"#DejaVuSerif-101\"/>\n      <use x=\"122.802734\" xlink:href=\"#DejaVuSerif-8722\"/>\n      <use x=\"206.591797\" xlink:href=\"#DejaVuSerif-51\"/>\n     </g>\n    </g>\n   </g>\n   <g id=\"matplotlib.axis_10\">\n    <g id=\"ytick_27\">\n     <g id=\"line2d_225\">\n      <g>\n       <use style=\"stroke:#000000;stroke-width:0.8;\" x=\"405.128125\" xlink:href=\"#m840f3a8109\" y=\"758.727005\"/>\n      </g>\n     </g>\n     <g id=\"text_64\">\n      <!-- −16 -->\n      <g transform=\"translate(377.023438 762.526223)scale(0.1 -0.1)\">\n       <use xlink:href=\"#DejaVuSerif-8722\"/>\n       <use x=\"83.789062\" xlink:href=\"#DejaVuSerif-49\"/>\n       <use x=\"147.412109\" xlink:href=\"#DejaVuSerif-54\"/>\n      </g>\n     </g>\n    </g>\n    <g id=\"ytick_28\">\n     <g id=\"line2d_226\">\n      <g>\n       <use style=\"stroke:#000000;stroke-width:0.8;\" x=\"405.128125\" xlink:href=\"#m840f3a8109\" y=\"713.903645\"/>\n      </g>\n     </g>\n     <g id=\"text_65\">\n      <!-- −14 -->\n      <g transform=\"translate(377.023438 717.702864)scale(0.1 -0.1)\">\n       <use xlink:href=\"#DejaVuSerif-8722\"/>\n       <use x=\"83.789062\" xlink:href=\"#DejaVuSerif-49\"/>\n       <use x=\"147.412109\" xlink:href=\"#DejaVuSerif-52\"/>\n      </g>\n     </g>\n    </g>\n    <g id=\"ytick_29\">\n     <g id=\"line2d_227\">\n      <g>\n       <use style=\"stroke:#000000;stroke-width:0.8;\" x=\"405.128125\" xlink:href=\"#m840f3a8109\" y=\"669.080285\"/>\n      </g>\n     </g>\n     <g id=\"text_66\">\n      <!-- −12 -->\n      <g transform=\"translate(377.023438 672.879504)scale(0.1 -0.1)\">\n       <use xlink:href=\"#DejaVuSerif-8722\"/>\n       <use x=\"83.789062\" xlink:href=\"#DejaVuSerif-49\"/>\n       <use x=\"147.412109\" xlink:href=\"#DejaVuSerif-50\"/>\n      </g>\n     </g>\n    </g>\n    <g id=\"ytick_30\">\n     <g id=\"line2d_228\">\n      <g>\n       <use style=\"stroke:#000000;stroke-width:0.8;\" x=\"405.128125\" xlink:href=\"#m840f3a8109\" y=\"624.256925\"/>\n      </g>\n     </g>\n     <g id=\"text_67\">\n      <!-- −10 -->\n      <g transform=\"translate(377.023438 628.056144)scale(0.1 -0.1)\">\n       <use xlink:href=\"#DejaVuSerif-8722\"/>\n       <use x=\"83.789062\" xlink:href=\"#DejaVuSerif-49\"/>\n       <use x=\"147.412109\" xlink:href=\"#DejaVuSerif-48\"/>\n      </g>\n     </g>\n    </g>\n    <g id=\"ytick_31\">\n     <g id=\"line2d_229\">\n      <g>\n       <use style=\"stroke:#000000;stroke-width:0.8;\" x=\"405.128125\" xlink:href=\"#m840f3a8109\" y=\"579.433565\"/>\n      </g>\n     </g>\n     <g id=\"text_68\">\n      <!-- −8 -->\n      <g transform=\"translate(383.385938 583.232784)scale(0.1 -0.1)\">\n       <use xlink:href=\"#DejaVuSerif-8722\"/>\n       <use x=\"83.789062\" xlink:href=\"#DejaVuSerif-56\"/>\n      </g>\n     </g>\n    </g>\n    <g id=\"ytick_32\">\n     <g id=\"line2d_230\">\n      <g>\n       <use style=\"stroke:#000000;stroke-width:0.8;\" x=\"405.128125\" xlink:href=\"#m840f3a8109\" y=\"534.610205\"/>\n      </g>\n     </g>\n     <g id=\"text_69\">\n      <!-- −6 -->\n      <g transform=\"translate(383.385938 538.409424)scale(0.1 -0.1)\">\n       <use xlink:href=\"#DejaVuSerif-8722\"/>\n       <use x=\"83.789062\" xlink:href=\"#DejaVuSerif-54\"/>\n      </g>\n     </g>\n    </g>\n    <g id=\"text_70\">\n     <!-- $\\ln(e\\cdot T^-2)$ -->\n     <defs>\n      <path d=\"M 31.890625 -15.578125 \nQ 20.015625 -10.25 13.953125 1.296875 \nQ 7.90625 12.84375 7.90625 30.171875 \nQ 7.90625 47.5625 13.953125 59.109375 \nQ 20.015625 70.65625 31.890625 75.984375 \nL 31.890625 71.1875 \nQ 24.359375 66.015625 21.09375 56.609375 \nQ 17.828125 47.21875 17.828125 30.171875 \nQ 17.828125 13.1875 21.09375 3.78125 \nQ 24.359375 -5.609375 31.890625 -10.796875 \nz\n\" id=\"DejaVuSerif-40\"/>\n      <path d=\"M 10.59375 34.71875 \nQ 10.59375 37.453125 12.46875 39.328125 \nQ 14.359375 41.21875 17.140625 41.21875 \nQ 19.828125 41.21875 21.734375 39.3125 \nQ 23.640625 37.40625 23.640625 34.71875 \nQ 23.640625 31.984375 21.734375 30.09375 \nQ 19.828125 28.21875 17.140625 28.21875 \nQ 14.359375 28.21875 12.46875 30.078125 \nQ 10.59375 31.9375 10.59375 34.71875 \nz\n\" id=\"DejaVuSerif-8901\"/>\n      <path d=\"M 7.078125 -15.578125 \nL 7.078125 -10.796875 \nQ 14.59375 -5.609375 17.890625 3.78125 \nQ 21.1875 13.1875 21.1875 30.171875 \nQ 21.1875 47.21875 17.890625 56.609375 \nQ 14.59375 66.015625 7.078125 71.1875 \nL 7.078125 75.984375 \nQ 19 70.65625 25.046875 59.109375 \nQ 31.109375 47.5625 31.109375 30.171875 \nQ 31.109375 12.84375 25.046875 1.296875 \nQ 19 -10.25 7.078125 -15.578125 \nz\n\" id=\"DejaVuSerif-41\"/>\n     </defs>\n     <g transform=\"translate(370.94375 674.500625)rotate(-90)scale(0.1 -0.1)\">\n      <use transform=\"translate(0 0.015625)\" xlink:href=\"#DejaVuSerif-108\"/>\n      <use transform=\"translate(31.982422 0.015625)\" xlink:href=\"#DejaVuSerif-110\"/>\n      <use transform=\"translate(96.386719 0.015625)\" xlink:href=\"#DejaVuSerif-40\"/>\n      <use transform=\"translate(135.400391 0.015625)\" xlink:href=\"#DejaVuSerif-Italic-101\"/>\n      <use transform=\"translate(213.544922 0.015625)\" xlink:href=\"#DejaVuSerif-8901\"/>\n      <use transform=\"translate(266.738281 0.015625)\" xlink:href=\"#DejaVuSerif-Italic-84\"/>\n      <use transform=\"translate(353.891901 36.35)scale(0.7)\" xlink:href=\"#DejaVuSerif-8722\"/>\n      <use transform=\"translate(428.414948 0.015625)\" xlink:href=\"#DejaVuSerif-50\"/>\n      <use transform=\"translate(492.037995 0.015625)\" xlink:href=\"#DejaVuSerif-41\"/>\n     </g>\n    </g>\n   </g>\n   <g id=\"patch_25\">\n    <path d=\"M 405.128125 776.718125 \nL 405.128125 519.083125 \n\" style=\"fill:none;stroke:#000000;stroke-linecap:square;stroke-linejoin:miter;stroke-width:0.8;\"/>\n   </g>\n   <g id=\"patch_26\">\n    <path d=\"M 627.318125 776.718125 \nL 627.318125 519.083125 \n\" style=\"fill:none;stroke:#000000;stroke-linecap:square;stroke-linejoin:miter;stroke-width:0.8;\"/>\n   </g>\n   <g id=\"patch_27\">\n    <path d=\"M 405.128125 776.718125 \nL 627.318125 776.718125 \n\" style=\"fill:none;stroke:#000000;stroke-linecap:square;stroke-linejoin:miter;stroke-width:0.8;\"/>\n   </g>\n   <g id=\"patch_28\">\n    <path d=\"M 405.128125 519.083125 \nL 627.318125 519.083125 \n\" style=\"fill:none;stroke:#000000;stroke-linecap:square;stroke-linejoin:miter;stroke-width:0.8;\"/>\n   </g>\n  </g>\n  <g id=\"axes_6\">\n   <g id=\"patch_29\">\n    <path clip-path=\"url(#p25d8f2f7f2)\" d=\"M 647.060341 776.718125 \nL 641.205 765.007443 \nL 641.205 530.793807 \nL 647.060341 519.083125 \nL 647.060341 519.083125 \nL 652.915682 530.793807 \nL 652.915682 765.007443 \nL 647.060341 776.718125 \nz\n\" style=\"fill:#ffffff;stroke:#ffffff;stroke-linejoin:miter;stroke-width:0.01;\"/>\n   </g>\n   <g id=\"QuadMesh_1\">\n    <path clip-path=\"url(#p25d8f2f7f2)\" d=\"M 647.060341 776.718125 \nL 647.060341 776.718125 \nL 652.915682 765.007443 \nL 641.205 765.007443 \nL 647.060341 776.718125 \n\"/>\n    <path clip-path=\"url(#p25d8f2f7f2)\" d=\"M 641.205 765.007443 \nL 652.915682 765.007443 \nL 652.915682 752.68041 \nL 641.205 752.68041 \nL 641.205 765.007443 \n\" style=\"fill:#0000e8;\"/>\n    <path clip-path=\"url(#p25d8f2f7f2)\" d=\"M 641.205 752.68041 \nL 652.915682 752.68041 \nL 652.915682 740.353376 \nL 641.205 740.353376 \nL 641.205 752.68041 \n\" style=\"fill:#6800ff;\"/>\n    <path clip-path=\"url(#p25d8f2f7f2)\" d=\"M 641.205 740.353376 \nL 652.915682 740.353376 \nL 652.915682 728.026343 \nL 641.205 728.026343 \nL 641.205 740.353376 \n\" style=\"fill:#e53cc3;\"/>\n    <path clip-path=\"url(#p25d8f2f7f2)\" d=\"M 641.205 728.026343 \nL 652.915682 728.026343 \nL 652.915682 715.699309 \nL 641.205 715.699309 \nL 641.205 728.026343 \n\" style=\"fill:#ff8a75;\"/>\n    <path clip-path=\"url(#p25d8f2f7f2)\" d=\"M 641.205 715.699309 \nL 652.915682 715.699309 \nL 652.915682 703.372276 \nL 641.205 703.372276 \nL 641.205 715.699309 \n\" style=\"fill:#ffd827;\"/>\n    <path clip-path=\"url(#p25d8f2f7f2)\" d=\"M 641.205 703.372276 \nL 652.915682 703.372276 \nL 652.915682 691.045242 \nL 641.205 691.045242 \nL 641.205 703.372276 \n\" style=\"fill:#fffff3;\"/>\n    <path clip-path=\"url(#p25d8f2f7f2)\" d=\"M 641.205 691.045242 \nL 652.915682 691.045242 \nL 652.915682 678.718209 \nL 641.205 678.718209 \nL 641.205 691.045242 \n\" style=\"fill:#ffffff;\"/>\n    <path clip-path=\"url(#p25d8f2f7f2)\" d=\"M 641.205 678.718209 \nL 652.915682 678.718209 \nL 652.915682 666.391175 \nL 641.205 666.391175 \nL 641.205 678.718209 \n\" style=\"fill:#ffffff;\"/>\n    <path clip-path=\"url(#p25d8f2f7f2)\" d=\"M 641.205 666.391175 \nL 652.915682 666.391175 \nL 652.915682 654.064142 \nL 641.205 654.064142 \nL 641.205 666.391175 \n\" style=\"fill:#ffffff;\"/>\n    <path clip-path=\"url(#p25d8f2f7f2)\" d=\"M 641.205 654.064142 \nL 652.915682 654.064142 \nL 652.915682 641.737108 \nL 641.205 641.737108 \nL 641.205 654.064142 \n\" style=\"fill:#ffffff;\"/>\n    <path clip-path=\"url(#p25d8f2f7f2)\" d=\"M 641.205 641.737108 \nL 652.915682 641.737108 \nL 652.915682 629.410075 \nL 641.205 629.410075 \nL 641.205 641.737108 \n\" style=\"fill:#ffffff;\"/>\n    <path clip-path=\"url(#p25d8f2f7f2)\" d=\"M 641.205 629.410075 \nL 652.915682 629.410075 \nL 652.915682 617.083041 \nL 641.205 617.083041 \nL 641.205 629.410075 \n\" style=\"fill:#ffffff;\"/>\n    <path clip-path=\"url(#p25d8f2f7f2)\" d=\"M 641.205 617.083041 \nL 652.915682 617.083041 \nL 652.915682 604.756008 \nL 641.205 604.756008 \nL 641.205 617.083041 \n\" style=\"fill:#ffffff;\"/>\n    <path clip-path=\"url(#p25d8f2f7f2)\" d=\"M 641.205 604.756008 \nL 652.915682 604.756008 \nL 652.915682 592.428974 \nL 641.205 592.428974 \nL 641.205 604.756008 \n\" style=\"fill:#ffffff;\"/>\n    <path clip-path=\"url(#p25d8f2f7f2)\" d=\"M 641.205 592.428974 \nL 652.915682 592.428974 \nL 652.915682 580.101941 \nL 641.205 580.101941 \nL 641.205 592.428974 \n\" style=\"fill:#ffffff;\"/>\n    <path clip-path=\"url(#p25d8f2f7f2)\" d=\"M 641.205 580.101941 \nL 652.915682 580.101941 \nL 652.915682 567.774907 \nL 641.205 567.774907 \nL 641.205 580.101941 \n\" style=\"fill:#ffffff;\"/>\n    <path clip-path=\"url(#p25d8f2f7f2)\" d=\"M 641.205 567.774907 \nL 652.915682 567.774907 \nL 652.915682 555.447874 \nL 641.205 555.447874 \nL 641.205 567.774907 \n\" style=\"fill:#ffffff;\"/>\n    <path clip-path=\"url(#p25d8f2f7f2)\" d=\"M 641.205 555.447874 \nL 652.915682 555.447874 \nL 652.915682 543.12084 \nL 641.205 543.12084 \nL 641.205 555.447874 \n\" style=\"fill:#ffffff;\"/>\n    <path clip-path=\"url(#p25d8f2f7f2)\" d=\"M 641.205 543.12084 \nL 652.915682 543.12084 \nL 652.915682 530.793807 \nL 641.205 530.793807 \nL 641.205 543.12084 \n\" style=\"fill:#ffffff;\"/>\n    <path clip-path=\"url(#p25d8f2f7f2)\" d=\"M 641.205 530.793807 \nL 652.915682 530.793807 \nL 647.060341 519.083125 \nL 647.060341 519.083125 \nL 641.205 530.793807 \n\" style=\"fill:#ffffff;\"/>\n   </g>\n   <g id=\"matplotlib.axis_11\"/>\n   <g id=\"matplotlib.axis_12\">\n    <g id=\"ytick_33\">\n     <g id=\"line2d_231\">\n      <defs>\n       <path d=\"M 0 0 \nL 3.5 0 \n\" id=\"m307d97d552\" style=\"stroke:#000000;stroke-width:0.8;\"/>\n      </defs>\n      <g>\n       <use style=\"stroke:#000000;stroke-width:0.8;\" x=\"652.915682\" xlink:href=\"#m307d97d552\" y=\"765.007443\"/>\n      </g>\n     </g>\n     <g id=\"text_71\">\n      <!-- 0.00025 -->\n      <g transform=\"translate(659.915682 768.806662)scale(0.1 -0.1)\">\n       <use xlink:href=\"#DejaVuSerif-48\"/>\n       <use x=\"63.623047\" xlink:href=\"#DejaVuSerif-46\"/>\n       <use x=\"95.410156\" xlink:href=\"#DejaVuSerif-48\"/>\n       <use x=\"159.033203\" xlink:href=\"#DejaVuSerif-48\"/>\n       <use x=\"222.65625\" xlink:href=\"#DejaVuSerif-48\"/>\n       <use x=\"286.279297\" xlink:href=\"#DejaVuSerif-50\"/>\n       <use x=\"349.902344\" xlink:href=\"#DejaVuSerif-53\"/>\n      </g>\n     </g>\n    </g>\n    <g id=\"ytick_34\">\n     <g id=\"line2d_232\">\n      <g>\n       <use style=\"stroke:#000000;stroke-width:0.8;\" x=\"652.915682\" xlink:href=\"#m307d97d552\" y=\"740.353376\"/>\n      </g>\n     </g>\n     <g id=\"text_72\">\n      <!-- 0.00075 -->\n      <g transform=\"translate(659.915682 744.152595)scale(0.1 -0.1)\">\n       <use xlink:href=\"#DejaVuSerif-48\"/>\n       <use x=\"63.623047\" xlink:href=\"#DejaVuSerif-46\"/>\n       <use x=\"95.410156\" xlink:href=\"#DejaVuSerif-48\"/>\n       <use x=\"159.033203\" xlink:href=\"#DejaVuSerif-48\"/>\n       <use x=\"222.65625\" xlink:href=\"#DejaVuSerif-48\"/>\n       <use x=\"286.279297\" xlink:href=\"#DejaVuSerif-55\"/>\n       <use x=\"349.902344\" xlink:href=\"#DejaVuSerif-53\"/>\n      </g>\n     </g>\n    </g>\n    <g id=\"ytick_35\">\n     <g id=\"line2d_233\">\n      <g>\n       <use style=\"stroke:#000000;stroke-width:0.8;\" x=\"652.915682\" xlink:href=\"#m307d97d552\" y=\"715.699309\"/>\n      </g>\n     </g>\n     <g id=\"text_73\">\n      <!-- 0.00125 -->\n      <g transform=\"translate(659.915682 719.498528)scale(0.1 -0.1)\">\n       <use xlink:href=\"#DejaVuSerif-48\"/>\n       <use x=\"63.623047\" xlink:href=\"#DejaVuSerif-46\"/>\n       <use x=\"95.410156\" xlink:href=\"#DejaVuSerif-48\"/>\n       <use x=\"159.033203\" xlink:href=\"#DejaVuSerif-48\"/>\n       <use x=\"222.65625\" xlink:href=\"#DejaVuSerif-49\"/>\n       <use x=\"286.279297\" xlink:href=\"#DejaVuSerif-50\"/>\n       <use x=\"349.902344\" xlink:href=\"#DejaVuSerif-53\"/>\n      </g>\n     </g>\n    </g>\n    <g id=\"ytick_36\">\n     <g id=\"line2d_234\">\n      <g>\n       <use style=\"stroke:#000000;stroke-width:0.8;\" x=\"652.915682\" xlink:href=\"#m307d97d552\" y=\"691.045242\"/>\n      </g>\n     </g>\n     <g id=\"text_74\">\n      <!-- 0.00175 -->\n      <g transform=\"translate(659.915682 694.844461)scale(0.1 -0.1)\">\n       <use xlink:href=\"#DejaVuSerif-48\"/>\n       <use x=\"63.623047\" xlink:href=\"#DejaVuSerif-46\"/>\n       <use x=\"95.410156\" xlink:href=\"#DejaVuSerif-48\"/>\n       <use x=\"159.033203\" xlink:href=\"#DejaVuSerif-48\"/>\n       <use x=\"222.65625\" xlink:href=\"#DejaVuSerif-49\"/>\n       <use x=\"286.279297\" xlink:href=\"#DejaVuSerif-55\"/>\n       <use x=\"349.902344\" xlink:href=\"#DejaVuSerif-53\"/>\n      </g>\n     </g>\n    </g>\n    <g id=\"ytick_37\">\n     <g id=\"line2d_235\">\n      <g>\n       <use style=\"stroke:#000000;stroke-width:0.8;\" x=\"652.915682\" xlink:href=\"#m307d97d552\" y=\"666.391175\"/>\n      </g>\n     </g>\n     <g id=\"text_75\">\n      <!-- 0.00225 -->\n      <g transform=\"translate(659.915682 670.190394)scale(0.1 -0.1)\">\n       <use xlink:href=\"#DejaVuSerif-48\"/>\n       <use x=\"63.623047\" xlink:href=\"#DejaVuSerif-46\"/>\n       <use x=\"95.410156\" xlink:href=\"#DejaVuSerif-48\"/>\n       <use x=\"159.033203\" xlink:href=\"#DejaVuSerif-48\"/>\n       <use x=\"222.65625\" xlink:href=\"#DejaVuSerif-50\"/>\n       <use x=\"286.279297\" xlink:href=\"#DejaVuSerif-50\"/>\n       <use x=\"349.902344\" xlink:href=\"#DejaVuSerif-53\"/>\n      </g>\n     </g>\n    </g>\n    <g id=\"ytick_38\">\n     <g id=\"line2d_236\">\n      <g>\n       <use style=\"stroke:#000000;stroke-width:0.8;\" x=\"652.915682\" xlink:href=\"#m307d97d552\" y=\"641.737108\"/>\n      </g>\n     </g>\n     <g id=\"text_76\">\n      <!-- 0.00275 -->\n      <g transform=\"translate(659.915682 645.536327)scale(0.1 -0.1)\">\n       <use xlink:href=\"#DejaVuSerif-48\"/>\n       <use x=\"63.623047\" xlink:href=\"#DejaVuSerif-46\"/>\n       <use x=\"95.410156\" xlink:href=\"#DejaVuSerif-48\"/>\n       <use x=\"159.033203\" xlink:href=\"#DejaVuSerif-48\"/>\n       <use x=\"222.65625\" xlink:href=\"#DejaVuSerif-50\"/>\n       <use x=\"286.279297\" xlink:href=\"#DejaVuSerif-55\"/>\n       <use x=\"349.902344\" xlink:href=\"#DejaVuSerif-53\"/>\n      </g>\n     </g>\n    </g>\n    <g id=\"ytick_39\">\n     <g id=\"line2d_237\">\n      <g>\n       <use style=\"stroke:#000000;stroke-width:0.8;\" x=\"652.915682\" xlink:href=\"#m307d97d552\" y=\"617.083041\"/>\n      </g>\n     </g>\n     <g id=\"text_77\">\n      <!-- 0.00325 -->\n      <g transform=\"translate(659.915682 620.88226)scale(0.1 -0.1)\">\n       <use xlink:href=\"#DejaVuSerif-48\"/>\n       <use x=\"63.623047\" xlink:href=\"#DejaVuSerif-46\"/>\n       <use x=\"95.410156\" xlink:href=\"#DejaVuSerif-48\"/>\n       <use x=\"159.033203\" xlink:href=\"#DejaVuSerif-48\"/>\n       <use x=\"222.65625\" xlink:href=\"#DejaVuSerif-51\"/>\n       <use x=\"286.279297\" xlink:href=\"#DejaVuSerif-50\"/>\n       <use x=\"349.902344\" xlink:href=\"#DejaVuSerif-53\"/>\n      </g>\n     </g>\n    </g>\n    <g id=\"ytick_40\">\n     <g id=\"line2d_238\">\n      <g>\n       <use style=\"stroke:#000000;stroke-width:0.8;\" x=\"652.915682\" xlink:href=\"#m307d97d552\" y=\"592.428974\"/>\n      </g>\n     </g>\n     <g id=\"text_78\">\n      <!-- 0.00375 -->\n      <g transform=\"translate(659.915682 596.228193)scale(0.1 -0.1)\">\n       <use xlink:href=\"#DejaVuSerif-48\"/>\n       <use x=\"63.623047\" xlink:href=\"#DejaVuSerif-46\"/>\n       <use x=\"95.410156\" xlink:href=\"#DejaVuSerif-48\"/>\n       <use x=\"159.033203\" xlink:href=\"#DejaVuSerif-48\"/>\n       <use x=\"222.65625\" xlink:href=\"#DejaVuSerif-51\"/>\n       <use x=\"286.279297\" xlink:href=\"#DejaVuSerif-55\"/>\n       <use x=\"349.902344\" xlink:href=\"#DejaVuSerif-53\"/>\n      </g>\n     </g>\n    </g>\n    <g id=\"ytick_41\">\n     <g id=\"line2d_239\">\n      <g>\n       <use style=\"stroke:#000000;stroke-width:0.8;\" x=\"652.915682\" xlink:href=\"#m307d97d552\" y=\"567.774907\"/>\n      </g>\n     </g>\n     <g id=\"text_79\">\n      <!-- 0.00425 -->\n      <g transform=\"translate(659.915682 571.574126)scale(0.1 -0.1)\">\n       <use xlink:href=\"#DejaVuSerif-48\"/>\n       <use x=\"63.623047\" xlink:href=\"#DejaVuSerif-46\"/>\n       <use x=\"95.410156\" xlink:href=\"#DejaVuSerif-48\"/>\n       <use x=\"159.033203\" xlink:href=\"#DejaVuSerif-48\"/>\n       <use x=\"222.65625\" xlink:href=\"#DejaVuSerif-52\"/>\n       <use x=\"286.279297\" xlink:href=\"#DejaVuSerif-50\"/>\n       <use x=\"349.902344\" xlink:href=\"#DejaVuSerif-53\"/>\n      </g>\n     </g>\n    </g>\n    <g id=\"ytick_42\">\n     <g id=\"line2d_240\">\n      <g>\n       <use style=\"stroke:#000000;stroke-width:0.8;\" x=\"652.915682\" xlink:href=\"#m307d97d552\" y=\"543.12084\"/>\n      </g>\n     </g>\n     <g id=\"text_80\">\n      <!-- 0.00475 -->\n      <g transform=\"translate(659.915682 546.920059)scale(0.1 -0.1)\">\n       <use xlink:href=\"#DejaVuSerif-48\"/>\n       <use x=\"63.623047\" xlink:href=\"#DejaVuSerif-46\"/>\n       <use x=\"95.410156\" xlink:href=\"#DejaVuSerif-48\"/>\n       <use x=\"159.033203\" xlink:href=\"#DejaVuSerif-48\"/>\n       <use x=\"222.65625\" xlink:href=\"#DejaVuSerif-52\"/>\n       <use x=\"286.279297\" xlink:href=\"#DejaVuSerif-55\"/>\n       <use x=\"349.902344\" xlink:href=\"#DejaVuSerif-53\"/>\n      </g>\n     </g>\n    </g>\n   </g>\n   <g id=\"patch_30\">\n    <path d=\"M 647.060341 776.718125 \nL 641.205 765.007443 \nL 641.205 530.793807 \nL 647.060341 519.083125 \nL 647.060341 519.083125 \nL 652.915682 530.793807 \nL 652.915682 765.007443 \nL 647.060341 776.718125 \nz\n\" style=\"fill:none;stroke:#000000;stroke-linejoin:miter;stroke-width:0.8;\"/>\n   </g>\n  </g>\n </g>\n <defs>\n  <clipPath id=\"p42414f6714\">\n   <rect height=\"193.22625\" width=\"635.9\" x=\"46.965625\" y=\"22.318125\"/>\n  </clipPath>\n  <clipPath id=\"pe26060970b\">\n   <rect height=\"193.22625\" width=\"277.7375\" x=\"405.128125\" y=\"270.700625\"/>\n  </clipPath>\n  <clipPath id=\"p5e09f7d5ca\">\n   <rect height=\"257.635\" width=\"277.7375\" x=\"46.965625\" y=\"519.083125\"/>\n  </clipPath>\n  <clipPath id=\"p224db4f40e\">\n   <rect height=\"257.635\" width=\"222.19\" x=\"405.128125\" y=\"519.083125\"/>\n  </clipPath>\n  <clipPath id=\"p25d8f2f7f2\">\n   <rect height=\"257.635\" width=\"11.710682\" x=\"641.205\" y=\"519.083125\"/>\n  </clipPath>\n </defs>\n</svg>\n"
                },
                "metadata": {
                  "needs_background": "light"
                }
              },
              {
                "output_type": "display_data",
                "data": {
                  "text/plain": "<Figure size 432x288 with 0 Axes>"
                },
                "metadata": {}
              }
            ]
          }
        },
        "a7cd067f8d7c4136977ec1ecaefa099b": {
          "model_module": "@jupyter-widgets/base",
          "model_name": "LayoutModel",
          "model_module_version": "1.2.0",
          "state": {
            "_model_module": "@jupyter-widgets/base",
            "_model_module_version": "1.2.0",
            "_model_name": "LayoutModel",
            "_view_count": null,
            "_view_module": "@jupyter-widgets/base",
            "_view_module_version": "1.2.0",
            "_view_name": "LayoutView",
            "align_content": null,
            "align_items": null,
            "align_self": null,
            "border": null,
            "bottom": null,
            "display": null,
            "flex": null,
            "flex_flow": null,
            "grid_area": null,
            "grid_auto_columns": null,
            "grid_auto_flow": null,
            "grid_auto_rows": null,
            "grid_column": null,
            "grid_gap": null,
            "grid_row": null,
            "grid_template_areas": null,
            "grid_template_columns": null,
            "grid_template_rows": null,
            "height": null,
            "justify_content": null,
            "justify_items": null,
            "left": null,
            "margin": null,
            "max_height": null,
            "max_width": null,
            "min_height": null,
            "min_width": null,
            "object_fit": null,
            "object_position": null,
            "order": null,
            "overflow": null,
            "overflow_x": null,
            "overflow_y": null,
            "padding": null,
            "right": null,
            "top": null,
            "visibility": null,
            "width": null
          }
        }
      }
    }
  },
  "nbformat": 4,
  "nbformat_minor": 0
}