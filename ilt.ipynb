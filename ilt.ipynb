{
 "cells": [
  {
   "cell_type": "code",
   "execution_count": 1,
   "metadata": {
    "colab": {},
    "colab_type": "code",
    "executionInfo": {
     "elapsed": 823,
     "status": "ok",
     "timestamp": 1593205460870,
     "user": {
      "displayName": "Антон Васильев",
      "photoUrl": "",
      "userId": "15568960775264608540"
     },
     "user_tz": -180
    },
    "id": "k_tj3y9uYZTm"
   },
   "outputs": [],
   "source": [
    "import matplotlib.pyplot as plt\n",
    "from IPython.display import set_matplotlib_formats\n",
    "import numpy as np\n",
    "\n",
    "import sys\n",
    "sys.path.append('functions/')\n",
    "\n",
    "set_matplotlib_formats('svg')\n",
    "plt.rcParams[\"font.family\"] = \"serif\"\n",
    "plt.rcParams[\"mathtext.fontset\"] = \"dejavuserif\""
   ]
  },
  {
   "cell_type": "markdown",
   "metadata": {},
   "source": [
    "# File browser:"
   ]
  },
  {
   "cell_type": "code",
   "execution_count": 2,
   "metadata": {},
   "outputs": [
    {
     "data": {
      "application/vnd.jupyter.widget-view+json": {
       "model_id": "589a6d06eb3243d48a07e2cce29eae2f",
       "version_major": 2,
       "version_minor": 0
      },
      "text/plain": [
       "VBox(children=(HTML(value='<h2>/Users/antonvasilev/GitHub/ilt</h2>'), Button(button_style='primary', descripti…"
      ]
     },
     "metadata": {},
     "output_type": "display_data"
    }
   ],
   "source": [
    "from filebrowser import FileBrowser\n",
    "File = FileBrowser()\n",
    "display(File.widget())\n",
    "\n",
    "path = File.path"
   ]
  },
  {
   "cell_type": "markdown",
   "metadata": {},
   "source": [
    "# Functions"
   ]
  },
  {
   "cell_type": "code",
   "execution_count": 3,
   "metadata": {},
   "outputs": [],
   "source": [
    "def demo(Index, Nz, Reg_L1, Reg_L2, Reg_C, Reg_S, Bounds, dt, Methods, Plot, LCurve, Residuals, Heatplot):\n",
    "    \"\"\"Gets data from interface() and display p\\rocessed data\n",
    "\n",
    "    Index     – int value contains an index of transient in dataset\n",
    "    Nz        – int value which is lenght of calculated vector\n",
    "    Reg_L1, Reg_L2 – reg. parameters for L1 and L2 regularisation\n",
    "    Bounds    – list with left and right bound of t-domain\n",
    "    Methods   – list with methods to process data\n",
    "    Plot      – boolean which calls plot_data() if true\n",
    "    Residuals – (not working yet)\n",
    "    Hetplot   – plots heatplot for all dataset\n",
    "\n",
    "    \"\"\"\n",
    "    import numpy as np\n",
    "    from read_file import read_file\n",
    "    from laplace import laplace\n",
    "    from plot_data import plot_data\n",
    "    from hp import hp\n",
    "    from read_file import read_file\n",
    "    from residuals import residuals\n",
    "\n",
    "    Bounds = 10.0**np.asarray(Bounds)\n",
    "\n",
    "    s, C, T = read_file(File.path, dt)# time, transients, temperatures \n",
    "    \n",
    "    data = laplace(s, C[Index], Nz, Reg_L1, Reg_L2, Reg_C, Reg_S, Bounds, Methods)\n",
    "    #print(data)\n",
    "    \n",
    "    if Plot:\n",
    "        ay = plot_data(s, C[Index], data, T, Index)\n",
    "        \n",
    "    if Residuals:\n",
    "        residuals(s, C[Index], ay, Methods, Reg_L1, Reg_L2, Reg_C, Reg_S, Bounds, Nz)\n",
    "    \n",
    "    if Heatplot:\n",
    "        hp(s, C, T, Methods, Index, Reg_L1, Reg_L2, Reg_C, Reg_S, Bounds, Nz, LCurve)"
   ]
  },
  {
   "cell_type": "code",
   "execution_count": 4,
   "metadata": {},
   "outputs": [],
   "source": [
    "def interface():\n",
    "\n",
    "    '''Initiates widgets'''\n",
    "\n",
    "    from ipywidgets import interact, interactive, fixed, interact_manual, HBox, VBox, Label\n",
    "    import ipywidgets as widgets\n",
    "    import numpy as np\n",
    "    from read_file import read_file\n",
    "    import warnings\n",
    "    warnings.filterwarnings('ignore')\n",
    "    \n",
    "\n",
    "    t, C, T = read_file(File.path)\n",
    "    \n",
    "    if len(T.shape) != 0:\n",
    "        cut = len(T) - 1\n",
    "    else:\n",
    "        cut = 1\n",
    "    Index = widgets.IntSlider(\n",
    "        value=0,\n",
    "        min=0, # max exponent of base\n",
    "        max=cut, # min exponent of base\n",
    "        step=1, # exponent step\n",
    "        description='')\n",
    "\n",
    "    Methods = widgets.SelectMultiple(\n",
    "        options = ['L1', 'L2', 'L1+L2', 'Contin', 'reSpect'],\n",
    "        value   = ['Contin'],\n",
    "        #rows    = 10,\n",
    "        description = 'Methods:',\n",
    "        disabled = False)\n",
    "\n",
    "    Nz = widgets.IntText(\n",
    "        value=100,\n",
    "        description=r'$N_f=$',\n",
    "        disabled=False)\n",
    "\n",
    "    Reg_L1 = widgets.FloatLogSlider(\n",
    "        value=0.1,\n",
    "        base=10,\n",
    "        min=-5, # max exponent of base\n",
    "        max=1, # min exponent of base\n",
    "        step=0.2, # exponent step\n",
    "        description=r'L1: $\\lambda_1$')\n",
    "\n",
    "    Reg_L2 = widgets.FloatLogSlider(\n",
    "        value=1E-0,\n",
    "        base=10,\n",
    "        min=-4, # max exponent of base\n",
    "        max=2, # min exponent of base\n",
    "        step=0.2, # exponent step\n",
    "        description=r'L2: $\\lambda_2$')\n",
    "    \n",
    "    Reg_C = widgets.FloatLogSlider(\n",
    "        value=1E-1,\n",
    "        base=10,\n",
    "        min=-8, # max exponent of base\n",
    "        max=2, # min exponent of base\n",
    "        step=0.2, # exponent step\n",
    "        description=r'Contin: $\\lambda_{\\text{C}}$')\n",
    "    \n",
    "    Reg_S = widgets.FloatLogSlider(\n",
    "        value=1E-2,\n",
    "        base=10,\n",
    "        min=-12, # max exponent of base\n",
    "        max=2, # min exponent of base\n",
    "        step=0.2, # exponent step\n",
    "        description=r'reSpect: $\\lambda_{\\text{S}}$')\n",
    "\n",
    "    Bounds = widgets.IntRangeSlider(\n",
    "        value=[-2, 2],\n",
    "        min=-5,\n",
    "        max=5,\n",
    "        step=1,\n",
    "        description=r'$10^{a}\\div 10^{b}$:',\n",
    "        disabled=False,\n",
    "        continuous_update=False,\n",
    "        orientation='horizontal',\n",
    "        readout=True,\n",
    "        readout_format='d')\n",
    "    \n",
    "    dt = widgets.BoundedFloatText(\n",
    "        value=150,\n",
    "        min=1,\n",
    "        max=1000,\n",
    "        step=1,\n",
    "        description='Time step, ms',\n",
    "        disabled=False)\n",
    "\n",
    "    Plot = widgets.Checkbox(\n",
    "        value = True,\n",
    "        description = 'Plot graph?',\n",
    "        disabled = False)\n",
    "    \n",
    "    LCurve = widgets.Checkbox(\n",
    "        value = False,\n",
    "        description = 'Use L-Curve optimal?',\n",
    "        disabled = False)\n",
    "\n",
    "    Residuals = widgets.ToggleButton(\n",
    "        value=False,\n",
    "        description='Plot L-curve',\n",
    "        disabled=False,\n",
    "        button_style='info', # 'success', 'info', 'warning', 'danger' or ''\n",
    "        tooltip='Plots L-curve to choose best value of regularization parameter of L2 reg. method',\n",
    "        icon='plus')\n",
    "\n",
    "    Heatplot = widgets.ToggleButton(\n",
    "        value=False,\n",
    "        description='Plot heatmap?',\n",
    "        disabled=False,\n",
    "        button_style='warning', # 'success', 'info', 'warning', 'danger' or ''\n",
    "        tooltip='Plots heatmap of data from choosed file',\n",
    "        icon='plus')\n",
    "\n",
    "\n",
    "    left_box = VBox([Methods, Nz, dt])\n",
    "    centre_box = VBox([Reg_L1, Reg_L2, Reg_C, Reg_S, Bounds])\n",
    "    right_box = VBox([Plot, LCurve, Residuals, Heatplot])\n",
    "    ui = widgets.HBox([left_box, centre_box, right_box])\n",
    "    Slider = widgets.HBox([Label('Transient №'),Index])\n",
    "    out = widgets.interactive_output(demo, {'Index':Index,   'Nz':Nz, \n",
    "                                            'Reg_L1':Reg_L1, 'Reg_L2':Reg_L2, 'Reg_C':Reg_C, 'Reg_S':Reg_S, \n",
    "                                            'Bounds':Bounds, 'dt':dt,         'Methods':Methods,\n",
    "                                            'Plot':Plot,     'LCurve':LCurve, 'Residuals':Residuals,\n",
    "                                            'Heatplot': Heatplot})\n",
    "    display(ui, Slider, out)\n"
   ]
  },
  {
   "cell_type": "code",
   "execution_count": 7,
   "metadata": {
    "scrolled": false
   },
   "outputs": [
    {
     "data": {
      "application/vnd.jupyter.widget-view+json": {
       "model_id": "8a854e9af7384ce39e4f36c3847d435a",
       "version_major": 2,
       "version_minor": 0
      },
      "text/plain": [
       "HBox(children=(VBox(children=(SelectMultiple(description='Methods:', index=(3,), options=('L1', 'L2', 'L1+L2',…"
      ]
     },
     "metadata": {},
     "output_type": "display_data"
    },
    {
     "data": {
      "application/vnd.jupyter.widget-view+json": {
       "model_id": "317f054134e94bd3aa32bd5e9e09844c",
       "version_major": 2,
       "version_minor": 0
      },
      "text/plain": [
       "HBox(children=(Label(value='Transient №'), IntSlider(value=0, max=510)))"
      ]
     },
     "metadata": {},
     "output_type": "display_data"
    },
    {
     "data": {
      "application/vnd.jupyter.widget-view+json": {
       "model_id": "21b04a4e8bf044ac940d93856d7ad8fe",
       "version_major": 2,
       "version_minor": 0
      },
      "text/plain": [
       "Output()"
      ]
     },
     "metadata": {},
     "output_type": "display_data"
    }
   ],
   "source": [
    "interface()"
   ]
  },
  {
   "cell_type": "code",
   "execution_count": null,
   "metadata": {},
   "outputs": [],
   "source": []
  },
  {
   "cell_type": "code",
   "execution_count": null,
   "metadata": {},
   "outputs": [],
   "source": []
  },
  {
   "cell_type": "code",
   "execution_count": null,
   "metadata": {},
   "outputs": [],
   "source": []
  },
  {
   "cell_type": "code",
   "execution_count": null,
   "metadata": {},
   "outputs": [],
   "source": []
  }
 ],
 "metadata": {
  "colab": {
   "authorship_tag": "ABX9TyMZO+JKOVEUIerelTehpCim",
   "name": "main.ipynb",
   "provenance": []
  },
  "kernelspec": {
   "display_name": "Python 3",
   "language": "python",
   "name": "python3"
  },
  "language_info": {
   "codemirror_mode": {
    "name": "ipython",
    "version": 3
   },
   "file_extension": ".py",
   "mimetype": "text/x-python",
   "name": "python",
   "nbconvert_exporter": "python",
   "pygments_lexer": "ipython3",
   "version": "3.7.9"
  },
  "widgets": {
   "application/vnd.jupyter.widget-state+json": {
    "03c7aedcfd3941528d063db0888fe9af": {
     "model_module": "@jupyter-widgets/base",
     "model_name": "LayoutModel",
     "state": {
      "_model_module": "@jupyter-widgets/base",
      "_model_module_version": "1.2.0",
      "_model_name": "LayoutModel",
      "_view_count": null,
      "_view_module": "@jupyter-widgets/base",
      "_view_module_version": "1.2.0",
      "_view_name": "LayoutView",
      "align_content": null,
      "align_items": null,
      "align_self": null,
      "border": null,
      "bottom": null,
      "display": null,
      "flex": null,
      "flex_flow": null,
      "grid_area": null,
      "grid_auto_columns": null,
      "grid_auto_flow": null,
      "grid_auto_rows": null,
      "grid_column": null,
      "grid_gap": null,
      "grid_row": null,
      "grid_template_areas": null,
      "grid_template_columns": null,
      "grid_template_rows": null,
      "height": null,
      "justify_content": null,
      "justify_items": null,
      "left": null,
      "margin": null,
      "max_height": null,
      "max_width": null,
      "min_height": null,
      "min_width": null,
      "object_fit": null,
      "object_position": null,
      "order": null,
      "overflow": null,
      "overflow_x": null,
      "overflow_y": null,
      "padding": null,
      "right": null,
      "top": null,
      "visibility": null,
      "width": null
     }
    },
    "0427e4b60cdd4d299ff0bab8c8b99cc6": {
     "model_module": "@jupyter-widgets/base",
     "model_name": "LayoutModel",
     "state": {
      "_model_module": "@jupyter-widgets/base",
      "_model_module_version": "1.2.0",
      "_model_name": "LayoutModel",
      "_view_count": null,
      "_view_module": "@jupyter-widgets/base",
      "_view_module_version": "1.2.0",
      "_view_name": "LayoutView",
      "align_content": null,
      "align_items": null,
      "align_self": null,
      "border": null,
      "bottom": null,
      "display": null,
      "flex": null,
      "flex_flow": null,
      "grid_area": null,
      "grid_auto_columns": null,
      "grid_auto_flow": null,
      "grid_auto_rows": null,
      "grid_column": null,
      "grid_gap": null,
      "grid_row": null,
      "grid_template_areas": null,
      "grid_template_columns": null,
      "grid_template_rows": null,
      "height": null,
      "justify_content": null,
      "justify_items": null,
      "left": null,
      "margin": null,
      "max_height": null,
      "max_width": null,
      "min_height": null,
      "min_width": null,
      "object_fit": null,
      "object_position": null,
      "order": null,
      "overflow": null,
      "overflow_x": null,
      "overflow_y": null,
      "padding": null,
      "right": null,
      "top": null,
      "visibility": null,
      "width": null
     }
    },
    "0f967666cbd54064b5fa3a75befe666f": {
     "model_module": "@jupyter-widgets/output",
     "model_name": "OutputModel",
     "state": {
      "_dom_classes": [],
      "_model_module": "@jupyter-widgets/output",
      "_model_module_version": "1.0.0",
      "_model_name": "OutputModel",
      "_view_count": null,
      "_view_module": "@jupyter-widgets/output",
      "_view_module_version": "1.0.0",
      "_view_name": "OutputView",
      "layout": "IPY_MODEL_e891b7a223ca45199b062c6773cb8854",
      "msg_id": "",
      "outputs": [
       {
        "metadata": {
         "tags": []
        },
        "output_type": "stream",
        "stream": "stdout",
        "text": "2.5118864315095824e-09\n0.00630957344480193\nSVD with L2\n"
       }
      ]
     }
    },
    "262ba61c464646af80d3c2ea5d52c94f": {
     "model_module": "@jupyter-widgets/controls",
     "model_name": "DropdownModel",
     "state": {
      "_dom_classes": [],
      "_model_module": "@jupyter-widgets/controls",
      "_model_module_version": "1.5.0",
      "_model_name": "DropdownModel",
      "_options_labels": [
       "L1",
       "L2",
       "L1 + L2",
       "SVD with L2"
      ],
      "_view_count": null,
      "_view_module": "@jupyter-widgets/controls",
      "_view_module_version": "1.5.0",
      "_view_name": "DropdownView",
      "description": "testFunction",
      "description_tooltip": null,
      "disabled": false,
      "index": 3,
      "layout": "IPY_MODEL_7156371aba114014bcf7eb9ffc879837",
      "style": "IPY_MODEL_44491945d80542659ce507353a2a459c"
     }
    },
    "2ff6b26a2f744257a6493ea22e7f912d": {
     "model_module": "@jupyter-widgets/controls",
     "model_name": "FloatLogSliderModel",
     "state": {
      "_dom_classes": [],
      "_model_module": "@jupyter-widgets/controls",
      "_model_module_version": "1.5.0",
      "_model_name": "FloatLogSliderModel",
      "_view_count": null,
      "_view_module": "@jupyter-widgets/controls",
      "_view_module_version": "1.5.0",
      "_view_name": "FloatLogSliderView",
      "base": 10,
      "continuous_update": true,
      "description": "L2",
      "description_tooltip": null,
      "disabled": false,
      "layout": "IPY_MODEL_03c7aedcfd3941528d063db0888fe9af",
      "max": 0,
      "min": -12,
      "orientation": "horizontal",
      "readout": true,
      "readout_format": ".3g",
      "step": 0.2,
      "style": "IPY_MODEL_aee85e3954ab4fd9aacb70f5ec36e4fe",
      "value": 2.5118864315095824e-09
     }
    },
    "3aff477035e840ffafeb7f56bc23ab58": {
     "model_module": "@jupyter-widgets/controls",
     "model_name": "VBoxModel",
     "state": {
      "_dom_classes": [
       "widget-interact"
      ],
      "_model_module": "@jupyter-widgets/controls",
      "_model_module_version": "1.5.0",
      "_model_name": "VBoxModel",
      "_view_count": null,
      "_view_module": "@jupyter-widgets/controls",
      "_view_module_version": "1.5.0",
      "_view_name": "VBoxView",
      "box_style": "",
      "children": [
       "IPY_MODEL_f4d8a85b20d641578b74462aac426dc9",
       "IPY_MODEL_2ff6b26a2f744257a6493ea22e7f912d",
       "IPY_MODEL_262ba61c464646af80d3c2ea5d52c94f",
       "IPY_MODEL_0f967666cbd54064b5fa3a75befe666f"
      ],
      "layout": "IPY_MODEL_8fc06a24e56149d692e9ff49a9af5a72"
     }
    },
    "44491945d80542659ce507353a2a459c": {
     "model_module": "@jupyter-widgets/controls",
     "model_name": "DescriptionStyleModel",
     "state": {
      "_model_module": "@jupyter-widgets/controls",
      "_model_module_version": "1.5.0",
      "_model_name": "DescriptionStyleModel",
      "_view_count": null,
      "_view_module": "@jupyter-widgets/base",
      "_view_module_version": "1.2.0",
      "_view_name": "StyleView",
      "description_width": ""
     }
    },
    "7156371aba114014bcf7eb9ffc879837": {
     "model_module": "@jupyter-widgets/base",
     "model_name": "LayoutModel",
     "state": {
      "_model_module": "@jupyter-widgets/base",
      "_model_module_version": "1.2.0",
      "_model_name": "LayoutModel",
      "_view_count": null,
      "_view_module": "@jupyter-widgets/base",
      "_view_module_version": "1.2.0",
      "_view_name": "LayoutView",
      "align_content": null,
      "align_items": null,
      "align_self": null,
      "border": null,
      "bottom": null,
      "display": null,
      "flex": null,
      "flex_flow": null,
      "grid_area": null,
      "grid_auto_columns": null,
      "grid_auto_flow": null,
      "grid_auto_rows": null,
      "grid_column": null,
      "grid_gap": null,
      "grid_row": null,
      "grid_template_areas": null,
      "grid_template_columns": null,
      "grid_template_rows": null,
      "height": null,
      "justify_content": null,
      "justify_items": null,
      "left": null,
      "margin": null,
      "max_height": null,
      "max_width": null,
      "min_height": null,
      "min_width": null,
      "object_fit": null,
      "object_position": null,
      "order": null,
      "overflow": null,
      "overflow_x": null,
      "overflow_y": null,
      "padding": null,
      "right": null,
      "top": null,
      "visibility": null,
      "width": null
     }
    },
    "8fc06a24e56149d692e9ff49a9af5a72": {
     "model_module": "@jupyter-widgets/base",
     "model_name": "LayoutModel",
     "state": {
      "_model_module": "@jupyter-widgets/base",
      "_model_module_version": "1.2.0",
      "_model_name": "LayoutModel",
      "_view_count": null,
      "_view_module": "@jupyter-widgets/base",
      "_view_module_version": "1.2.0",
      "_view_name": "LayoutView",
      "align_content": null,
      "align_items": null,
      "align_self": null,
      "border": null,
      "bottom": null,
      "display": null,
      "flex": null,
      "flex_flow": null,
      "grid_area": null,
      "grid_auto_columns": null,
      "grid_auto_flow": null,
      "grid_auto_rows": null,
      "grid_column": null,
      "grid_gap": null,
      "grid_row": null,
      "grid_template_areas": null,
      "grid_template_columns": null,
      "grid_template_rows": null,
      "height": null,
      "justify_content": null,
      "justify_items": null,
      "left": null,
      "margin": null,
      "max_height": null,
      "max_width": null,
      "min_height": null,
      "min_width": null,
      "object_fit": null,
      "object_position": null,
      "order": null,
      "overflow": null,
      "overflow_x": null,
      "overflow_y": null,
      "padding": null,
      "right": null,
      "top": null,
      "visibility": null,
      "width": null
     }
    },
    "aee85e3954ab4fd9aacb70f5ec36e4fe": {
     "model_module": "@jupyter-widgets/controls",
     "model_name": "SliderStyleModel",
     "state": {
      "_model_module": "@jupyter-widgets/controls",
      "_model_module_version": "1.5.0",
      "_model_name": "SliderStyleModel",
      "_view_count": null,
      "_view_module": "@jupyter-widgets/base",
      "_view_module_version": "1.2.0",
      "_view_name": "StyleView",
      "description_width": "",
      "handle_color": null
     }
    },
    "e891b7a223ca45199b062c6773cb8854": {
     "model_module": "@jupyter-widgets/base",
     "model_name": "LayoutModel",
     "state": {
      "_model_module": "@jupyter-widgets/base",
      "_model_module_version": "1.2.0",
      "_model_name": "LayoutModel",
      "_view_count": null,
      "_view_module": "@jupyter-widgets/base",
      "_view_module_version": "1.2.0",
      "_view_name": "LayoutView",
      "align_content": null,
      "align_items": null,
      "align_self": null,
      "border": null,
      "bottom": null,
      "display": null,
      "flex": null,
      "flex_flow": null,
      "grid_area": null,
      "grid_auto_columns": null,
      "grid_auto_flow": null,
      "grid_auto_rows": null,
      "grid_column": null,
      "grid_gap": null,
      "grid_row": null,
      "grid_template_areas": null,
      "grid_template_columns": null,
      "grid_template_rows": null,
      "height": null,
      "justify_content": null,
      "justify_items": null,
      "left": null,
      "margin": null,
      "max_height": null,
      "max_width": null,
      "min_height": null,
      "min_width": null,
      "object_fit": null,
      "object_position": null,
      "order": null,
      "overflow": null,
      "overflow_x": null,
      "overflow_y": null,
      "padding": null,
      "right": null,
      "top": null,
      "visibility": null,
      "width": null
     }
    },
    "eb5a59b53e7f4b1b8bea08cb29e43329": {
     "model_module": "@jupyter-widgets/controls",
     "model_name": "SliderStyleModel",
     "state": {
      "_model_module": "@jupyter-widgets/controls",
      "_model_module_version": "1.5.0",
      "_model_name": "SliderStyleModel",
      "_view_count": null,
      "_view_module": "@jupyter-widgets/base",
      "_view_module_version": "1.2.0",
      "_view_name": "StyleView",
      "description_width": "",
      "handle_color": null
     }
    },
    "f4d8a85b20d641578b74462aac426dc9": {
     "model_module": "@jupyter-widgets/controls",
     "model_name": "FloatLogSliderModel",
     "state": {
      "_dom_classes": [],
      "_model_module": "@jupyter-widgets/controls",
      "_model_module_version": "1.5.0",
      "_model_name": "FloatLogSliderModel",
      "_view_count": null,
      "_view_module": "@jupyter-widgets/controls",
      "_view_module_version": "1.5.0",
      "_view_name": "FloatLogSliderView",
      "base": 10,
      "continuous_update": true,
      "description": "L1",
      "description_tooltip": null,
      "disabled": false,
      "layout": "IPY_MODEL_0427e4b60cdd4d299ff0bab8c8b99cc6",
      "max": 1,
      "min": -5,
      "orientation": "horizontal",
      "readout": true,
      "readout_format": ".3g",
      "step": 0.2,
      "style": "IPY_MODEL_eb5a59b53e7f4b1b8bea08cb29e43329",
      "value": 0.00630957344480193
     }
    }
   }
  }
 },
 "nbformat": 4,
 "nbformat_minor": 2
}
